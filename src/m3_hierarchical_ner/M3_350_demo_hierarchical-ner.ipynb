{
 "cells": [
  {
   "cell_type": "markdown",
   "id": "cda9d76b",
   "metadata": {},
   "source": [
    "# 160 : Demo Hierarchical NER with joint-labels"
   ]
  },
  {
   "cell_type": "code",
   "execution_count": 1,
   "id": "8ff6c9e6",
   "metadata": {},
   "outputs": [
    {
     "name": "stdout",
     "output_type": "stream",
     "text": [
      "2\n"
     ]
    }
   ],
   "source": [
    "import os\n",
    "os.environ[\"CUDA_VISIBLE_DEVICES\"] = \"2\" #Numéro GPU\n",
    "print(os.environ[\"CUDA_VISIBLE_DEVICES\"])"
   ]
  },
  {
   "cell_type": "code",
   "execution_count": 9,
   "id": "da53ce29-cd5f-4295-ac93-2677c2d07034",
   "metadata": {},
   "outputs": [
    {
     "name": "stdout",
     "output_type": "stream",
     "text": [
      "['/lrde/home2/stual/stage_DAS/m3_hierarchical_ner', '/usr/lib/python310.zip', '/usr/lib/python3.10', '/usr/lib/python3.10/lib-dynload', '', '/lrde/home2/stual/.venv/python_3_9/lib/python3.10/site-packages']\n",
      "/lrde/home2/stual/stage_DAS/m3_hierarchical_ner\n",
      "/work/stual/dataset_ICDAR\n",
      "/work/stual/res_ICDAR/method_3\n"
     ]
    }
   ],
   "source": [
    "import os, sys\n",
    "from pathlib import Path\n",
    "\n",
    "ENV_IS_GOOGLE_COLAB = True if 'google.colab' in str(get_ipython()) else False\n",
    "os.environ[\"ENV_IS_GOOGLE_COLAB\"] = str(ENV_IS_GOOGLE_COLAB)\n",
    "\n",
    "if ENV_IS_GOOGLE_COLAB:\n",
    "  from google.colab import drive\n",
    "  mountpoint = Path(\"/content/drive\")\n",
    "  drive.mount(str(mountpoint)) # Mount gdrive to BASE\n",
    "  base = mountpoint / \"MyDrive\" # Adapt this to your situation\n",
    "  sys.path.append(str(base)) # Add BASE to Python Path\n",
    "  BASE = Path(base).resolve() # Make BASE absolute\n",
    "  DATASETS =  BASE / \"dataset\"\n",
    "else:\n",
    "  BASE = Path(os.path.dirname(os.path.realpath(\"__file__\"))).resolve() # If not on GColab, BASE will be the directory of this notebook\n",
    "  DATASETS = Path('/work/stual/dataset_ICDAR').resolve()\n",
    "  OUT_BASE = Path('/work/stual/res_ICDAR/method_3/').resolve()\n",
    "\n",
    "print(sys.path)\n",
    "print(BASE)\n",
    "print(DATASETS)\n",
    "print(OUT_BASE)"
   ]
  },
  {
   "cell_type": "markdown",
   "id": "c2021c2a",
   "metadata": {},
   "source": [
    "### Constants"
   ]
  },
  {
   "cell_type": "code",
   "execution_count": 10,
   "id": "40ce675c",
   "metadata": {},
   "outputs": [
    {
     "data": {
      "text/plain": [
       "PosixPath('/work/stual/res_ICDAR/method_3/tmp/323-pretrained-camembert-ner-hierarchical-loss-io/checkpoint-1000')"
      ]
     },
     "execution_count": 10,
     "metadata": {},
     "output_type": "execute_result"
    }
   ],
   "source": [
    "#Model to run\n",
    "MODEL_BASE = OUT_BASE / 'tmp'\n",
    "FINETUNED_MODEL = MODEL_BASE / '323-pretrained-camembert-ner-hierarchical-loss-io/checkpoint-1000/'\n",
    "FINETUNED_MODEL"
   ]
  },
  {
   "cell_type": "code",
   "execution_count": 11,
   "id": "5b876ed8",
   "metadata": {},
   "outputs": [],
   "source": [
    "import csv\n",
    "from transformers import AutoTokenizer, AutoModelForTokenClassification, pipeline\n",
    "\n",
    "LIMIT = 100\n",
    "\n",
    "tokenizer = AutoTokenizer.from_pretrained(FINETUNED_MODEL) #Param : tokenizer du modele souhaité\n",
    "model = AutoModelForTokenClassification.from_pretrained(FINETUNED_MODEL) #Modèle choisi\n",
    "\n",
    "#Classification des entités\n",
    "nlp = pipeline('ner', model=model, tokenizer=tokenizer, aggregation_strategy=None, use_fast=True)"
   ]
  },
  {
   "cell_type": "markdown",
   "id": "c22e5910",
   "metadata": {},
   "source": [
    "### Data"
   ]
  },
  {
   "cell_type": "code",
   "execution_count": 12,
   "id": "f9ecab43-7166-4e97-9ff4-151e88f457f6",
   "metadata": {},
   "outputs": [
    {
     "name": "stderr",
     "output_type": "stream",
     "text": [
      "/lrde/home2/stual/.venv/python_3_9/lib/python3.10/site-packages/IPython/core/inputtransformer2.py:595: UserWarning: `make_tokens_by_line` received a list of lines which do not have lineending markers ('\\n', '\\r', '\\r\\n', '\\x0b', '\\x0c'), behavior will be unspecified\n",
      "  tokens_by_line = make_tokens_by_line(lines)\n"
     ]
    }
   ],
   "source": [
    "samples = \"\"\"☞ ",
    " ",
    "T ",
    "Dufant (Victor), libraire, r. du Gros-Che- ",
    "net. 2. ",
    "JO \\n\n",
    "Dutay, essayeur du commerce, place Dau- ",
    " ",
    "- ",
    "píině, 5. ",
    "DOB \\n\n",
    "Dulay, chandronnier, r. du Pont- aux- ",
    "Chuux, 15. ",
    "SI \\n\n",
    "Dufay (V.e), grenetière, r. du Fauh.-S. ",
    "Denis, 20. ",
    "372 \\n\n",
    "Y ",
    "☞ ",
    "Dnten,charentier, 1. Montmartre, 89. 318 \\n\n",
    "Dufey fils, bijoutier, passage de la Réunion ",
    "A \\n\n",
    "Dnley, boucher, r. S.&quot;Louis-au-Marais,3. ",
    "* \\n\n",
    "☞ ",
    "Duffand, bijonteer, r. S.-Martin, 107. 284 \\n\n",
    "Duftaud, maçon, r. S-Honore ",
    " ",
    "353. ",
    "O \\n\n",
    "Dullaut, chandronnier, r. de la Sourdière ",
    "I- ( ",
    "☞T4 \\n\n",
    "lukils. limonauier, 1. des Colonnes, 6. J9 \\n\n",
    "— ",
    "T ",
    "Dullocu, architecte, r. Basse-Porte-S.De- ",
    "— ",
    "Ris, 28. \\n\n",
    "Duflot, loueur de carrosses, r. de Paradis- ",
    "505 ",
    "Poissonnière, 22. \\n\n",
    "Dufort, bottier, Palais-R., gal. vitrée, 215. ",
    "A \\n\n",
    "Dufort fils, bottier (exp. 1819.), r. J.-J.. ",
    "Rousscan. 18. ",
    "290 \\n\n",
    "* ",
    "Dufort, tabletier, r. Jean-Pain-Mollet, 10. ",
    "4O \\n\n",
    "Dufossé, teiniurier, r. du Faub.-Montmar- ",
    "tre , 63. ",
    "483 \\n\n",
    "Duſour el Besnard, march, de bois à bruler, ",
    "quai de la Tournelle, 17. etr. des Fossés- ",
    "SBernard. 11. ",
    "Dí \\n\n",
    "Dufour jeune, march, de bois à brüler ",
    "de la Pépinière, 53. ",
    "7 r. \\n\n",
    "Dufour (Mad.), march. de chapeaux de ",
    "paitle, passage dn Panorama, 11. ",
    "IO \\n\n",
    "Dutour, thapelier, r. S.-Honore ",
    "383. 3og \\n\n",
    "Dufour, cirier, r. de PArbre-Sec, 6o. ",
    "316 \\n\n",
    "Dufour et co., commiss., r. des Contures- ",
    " ",
    "DAO ",
    "S. Dervajs, 18. \\n\n",
    "Dulour, corropeir, 1. des Vertusy1d 3 \\n\n",
    "Dufour (Charles), épicier, r. S.-Denis, ",
    "Jo7. ",
    "☞ ",
    "332 \\n\n",
    "Dufour, fab. d&apos;éventails (erp. 1819) ",
    "Beaubourg, 48. ",
    " ",
    "360 \\n\n",
    "Dufour, faiencter, r. S.-Anne , 50. ",
    "302 \\n\n",
    "Dufour, ",
    "A. Sarnt,r. Ventadour, ",
    "☞7 \\n\n",
    "Dufour (Gabriel), libraire, r. de Vaugirard, ",
    "A \\n\n",
    "Dufour, maçon, r. S.-Jean-Baptiste, 4 402 \\n\n",
    "Dufour, architecte, r. de Chartres-S.-Ho- ",
    "2781 40a ",
    "nore, 12. (Elig.) \\n\n",
    "Dufour (Mad.), nouveautes, 1. Neuve-des- ",
    "H12 ",
    "Petits-Champs, 4. \\n\n",
    "Dufour Chabrol, papetier, r. S.-Martin ",
    "☞ ",
    "4 \\n\n",
    "Dufour (J.) et co,, fab. de papiers peints, ",
    "((1819); r. Beauvean-S. Antoine, 19.\"\"\""
   ]
  },
  {
   "cell_type": "markdown",
   "id": "c400dc18",
   "metadata": {},
   "source": [
    "### Exemples"
   ]
  },
  {
   "cell_type": "raw",
   "id": "5fbb3de6",
   "metadata": {},
   "source": [
    "* Balises autour de ponctuation  : </LOC></SPAT>.<SPAT><LOC>\n",
    "* Balises autour des PSEP : <PER><TITRE-H> ",
    "</TITRE-H></PER>       OU      </LOC> ",
    "—<LOC>\n",
    "* Non-séparation des adresses successives : <SPAT><LOC> r. de Paradis-</LOC><CARDINAL> ",
    "505</CARDINAL><LOC> ",
    "Poissonnière</LOC>,<CARDINAL> 22</CARDINAL></SPAT>.\n",
    "* Overfitting ? : <LOC> r </LOC> (déchet de l'OCR)\n",
    "* Vérité terrain à revoir concernant les titres\n",
    "* Classification des déchets de l'OCR => reprendre expériment 2 pour le Nested NER \n",
    "* Confusion (logique) entre les TITRE-H et les TITRE"
   ]
  },
  {
   "cell_type": "code",
   "execution_count": 14,
   "id": "07da614f",
   "metadata": {},
   "outputs": [
    {
     "name": "stdout",
     "output_type": "stream",
     "text": [
      "☞ ",
      " ",
      "T ",
      "Dufant (Victor), libraire, r. du Gros-Che- ",
      "net. 2. ",
      "JO \n",
      "  label  start  end                     span\n",
      "0     O      0    4                     ☞ ",
      " ",
      "T\n",
      "1   PER      4   21         ",
      "Dufant (Victor),\n",
      "2   ACT     21   30                 libraire\n",
      "3     O     30   31                        ,\n",
      "4  SPAT     31   54   r. du Gros-Che- ",
      "net. 2\n",
      "5     O     54   59                    . ",
      "JO \n",
      "      label  start  end                        span\n",
      "0         O      0    4                        ☞ ",
      " ",
      "T\n",
      "1         O      4   30   ",
      "Dufant (Victor), libraire\n",
      "2         O     30   31                           ,\n",
      "3       LOC     31   51         r. du Gros-Che- ",
      "net\n",
      "4         O     51   52                           .\n",
      "5  CARDINAL     52   54                           2\n",
      "6         O     54   59                       . ",
      "JO \n",
      "☞ ",
      " ",
      "T<PER> ",
      "Dufant (Victor),</PER><ACT> libraire</ACT>,<SPAT><LOC> r. du Gros-Che- ",
      "net</LOC>.<CARDINAL> 2</CARDINAL></SPAT>. ",
      "JO \n",
      "\n",
      "Dutay, essayeur du commerce, place Dau- ",
      " ",
      "- ",
      "píině, 5. ",
      "DOB \n",
      "  label  start  end                     span\n",
      "0   PER      0    5                    Dutay\n",
      "1   ACT      5   15               , essayeur\n",
      "2  DESC     15   27              du commerce\n",
      "3     O     27   28                        ,\n",
      "4  SPAT     28   51   place Dau- ",
      " ",
      "- ",
      "píině, 5\n",
      "5     O     51   57                   . ",
      "DOB \n",
      "      label  start  end                         span\n",
      "0         O      0   27  Dutay, essayeur du commerce\n",
      "1         O     27   28                            ,\n",
      "2       LOC     28   47           place Dau- ",
      " ",
      "- ",
      "píin\n",
      "3         O     47   49                           ě,\n",
      "4  CARDINAL     49   51                            5\n",
      "5         O     51   57                       . ",
      "DOB \n",
      "<PER>Dutay</PER><ACT>, essayeur</ACT><DESC> du commerce</DESC>,<SPAT><LOC> place Dau- ",
      " ",
      "- ",
      "píin</LOC>ě,<CARDINAL> 5</CARDINAL></SPAT>. ",
      "DOB \n",
      "\n",
      "Dulay, chandronnier, r. du Pont- aux- ",
      "Chuux, 15. ",
      "SI \n",
      "  label  start  end                         span\n",
      "0   PER      0    5                        Dulay\n",
      "1   ACT      5   19               , chandronnier\n",
      "2     O     19   20                            ,\n",
      "3  SPAT     20   47   r. du Pont- aux- ",
      "Chuux, 15\n",
      "4     O     47   52                        . ",
      "SI \n",
      "      label  start  end                     span\n",
      "0         O      0   19      Dulay, chandronnier\n",
      "1         O     19   20                        ,\n",
      "2       LOC     20   43   r. du Pont- aux- ",
      "Chuux\n",
      "3         O     43   44                        ,\n",
      "4  CARDINAL     44   47                       15\n",
      "5         O     47   52                    . ",
      "SI \n",
      "<PER>Dulay</PER><ACT>, chandronnier</ACT>,<SPAT><LOC> r. du Pont- aux- ",
      "Chuux</LOC>,<CARDINAL> 15</CARDINAL></SPAT>. ",
      "SI \n",
      "\n",
      "Dufay (V.e), grenetière, r. du Fauh.-S. ",
      "Denis, 20. ",
      "372 \n",
      "  label  start  end                       span\n",
      "0   PER      0   12               Dufay (V.e),\n",
      "1   ACT     12   23                 grenetière\n",
      "2     O     23   24                          ,\n",
      "3  SPAT     24   49   r. du Fauh.-S. ",
      "Denis, 20\n",
      "4     O     49   55                     . ",
      "372 \n",
      "      label  start  end                     span\n",
      "0         O      0   23  Dufay (V.e), grenetière\n",
      "1         O     23   24                        ,\n",
      "2       LOC     24   45     r. du Fauh.-S. ",
      "Denis\n",
      "3         O     45   46                        ,\n",
      "4  CARDINAL     46   49                       20\n",
      "5         O     49   55                   . ",
      "372 \n",
      "<PER>Dufay (V.e),</PER><ACT> grenetière</ACT>,<SPAT><LOC> r. du Fauh.-S. ",
      "Denis</LOC>,<CARDINAL> 20</CARDINAL></SPAT>. ",
      "372 \n",
      "\n",
      "Y ",
      "☞ ",
      "Dnten,charentier, 1. Montmartre, 89. 318 \n",
      "  label  start  end                span\n",
      "0     O      0    3                 Y ",
      "☞\n",
      "1   PER      3    9               ",
      "Dnten\n",
      "2   ACT      9   20         ,charentier\n",
      "3     O     20   21                   ,\n",
      "4  SPAT     21   39   1. Montmartre, 89\n",
      "5     O     39   45              . 318 \n",
      "      label  start  end               span\n",
      "0         O      0    3                Y ",
      "☞\n",
      "1         O      3   20   ",
      "Dnten,charentier\n",
      "2         O     20   21                  ,\n",
      "3       LOC     21   35      1. Montmartre\n",
      "4         O     35   36                  ,\n",
      "5  CARDINAL     36   39                 89\n",
      "6         O     39   45             . 318 \n",
      "Y ",
      "☞<PER> ",
      "Dnten</PER><ACT>,charentier</ACT>,<SPAT><LOC> 1. Montmartre</LOC>,<CARDINAL> 89</CARDINAL></SPAT>. 318 \n",
      "\n",
      "Dufey fils, bijoutier, passage de la Réunion ",
      "A \n",
      "  label  start  end                      span\n",
      "0   PER      0   10                Dufey fils\n",
      "1   ACT     10   21               , bijoutier\n",
      "2     O     21   22                         ,\n",
      "3  SPAT     22   46   passage de la Réunion ",
      "A\n",
      "4     O     46   47                          \n",
      "      label  start  end                    span\n",
      "0         O      0   21   Dufey fils, bijoutier\n",
      "1         O     21   22                       ,\n",
      "2       LOC     22   44   passage de la Réunion\n",
      "3  CARDINAL     44   46                       ",
      "A\n",
      "4         O     46   47                        \n",
      "<PER>Dufey fils</PER><ACT>, bijoutier</ACT>,<SPAT><LOC> passage de la Réunion</LOC><CARDINAL> ",
      "A</CARDINAL></SPAT> \n",
      "\n",
      "Dnley, boucher, r. S.&quot;Louis-au-Marais,3. ",
      "* \n",
      "  label  start  end                            span\n",
      "0   PER      0    5                           Dnley\n",
      "1   ACT      5   14                       , boucher\n",
      "2     O     14   15                               ,\n",
      "3  SPAT     15   45   r. S.&quot;Louis-au-Marais,3.\n",
      "4     O     45   48                              ",
      "* \n",
      "      label  start  end                         span\n",
      "0         O      0   14               Dnley, boucher\n",
      "1         O     14   15                            ,\n",
      "2       LOC     15   42   r. S.&quot;Louis-au-Marais\n",
      "3         O     42   43                            ,\n",
      "4  CARDINAL     43   45                           3.\n",
      "5         O     45   48                           ",
      "* \n",
      "<PER>Dnley</PER><ACT>, boucher</ACT>,<SPAT><LOC> r. S.&amp;quot;Louis-au-Marais</LOC>,<CARDINAL>3.</CARDINAL></SPAT> ",
      "* \n",
      "\n",
      "☞ ",
      "Duffand, bijonteer, r. S.-Martin, 107. 284 \n",
      "  label  start  end                span\n",
      "0     O      0    1                   ☞\n",
      "1   PER      1    9             ",
      "Duffand\n",
      "2   ACT      9   20         , bijonteer\n",
      "3     O     20   21                   ,\n",
      "4  SPAT     21   39   r. S.-Martin, 107\n",
      "5     O     39   45              . 284 \n",
      "      label  start  end                 span\n",
      "0         O      0    1                    ☞\n",
      "1         O      1   20   ",
      "Duffand, bijonteer\n",
      "2         O     20   21                    ,\n",
      "3       LOC     21   34         r. S.-Martin\n",
      "4         O     34   35                    ,\n",
      "5  CARDINAL     35   39                  107\n",
      "6         O     39   45               . 284 \n",
      "☞<PER> ",
      "Duffand</PER><ACT>, bijonteer</ACT>,<SPAT><LOC> r. S.-Martin</LOC>,<CARDINAL> 107</CARDINAL></SPAT>. 284 \n",
      "\n",
      "Duftaud, maçon, r. S-Honore ",
      " ",
      "353. ",
      "O \n",
      "  label  start  end                span\n",
      "0   PER      0    7             Duftaud\n",
      "1   ACT      7   14             , maçon\n",
      "2     O     14   15                   ,\n",
      "3  SPAT     15   33   r. S-Honore ",
      " ",
      "353.\n",
      "4     O     33   36                  ",
      "O \n",
      "      label  start  end            span\n",
      "0         O      0   14  Duftaud, maçon\n",
      "1         O     14   15               ,\n",
      "2       LOC     15   27     r. S-Honore\n",
      "3  CARDINAL     28   33            ",
      "353.\n",
      "4         O     33   36              ",
      "O \n",
      "<PER>Duftaud</PER><ACT>, maçon</ACT>,<SPAT><LOC> r. S-Honore</LOC> ",
      "<CARDINAL> ",
      "353.</CARDINAL></SPAT> ",
      "O \n",
      "\n",
      "Dullaut, chandronnier, r. de la Sourdière ",
      "I- ( ",
      "☞T4 \n",
      "  label  start  end                   span\n",
      "0   PER      0    7                Dullaut\n",
      "1   ACT      7   21         , chandronnier\n",
      "2     O     21   22                      ,\n",
      "3  SPAT     22   43   r. de la Sourdière ",
      "I\n",
      "4     O     43   51               - ( ",
      "☞T4 \n",
      "      label  start  end                   span\n",
      "0         O      0   21  Dullaut, chandronnier\n",
      "1         O     21   22                      ,\n",
      "2       LOC     22   41     r. de la Sourdière\n",
      "3  CARDINAL     41   43                      ",
      "I\n",
      "4         O     43   51               - ( ",
      "☞T4 \n",
      "<PER>Dullaut</PER><ACT>, chandronnier</ACT>,<SPAT><LOC> r. de la Sourdière</LOC><CARDINAL> ",
      "I</CARDINAL></SPAT>- ( ",
      "☞T4 \n",
      "\n",
      "lukils. limonauier, 1. des Colonnes, 6. J9 \n",
      "  label  start  end                 span\n",
      "0   PER      0    6               lukils\n",
      "1     O      6    7                    .\n",
      "2   ACT      7   18           limonauier\n",
      "3     O     18   19                    ,\n",
      "4  SPAT     19   38   1. des Colonnes, 6\n",
      "5     O     38   43                . J9 \n",
      "      label  start  end              span\n",
      "0         O      0    6            lukils\n",
      "1         O      6    7                 .\n",
      "2         O      7   18        limonauier\n",
      "3         O     18   19                 ,\n",
      "4       LOC     19   35   1. des Colonnes\n",
      "5         O     35   36                 ,\n",
      "6  CARDINAL     36   38                 6\n",
      "7         O     38   43             . J9 \n"
     ]
    },
    {
     "name": "stdout",
     "output_type": "stream",
     "text": [
      "<PER>lukils</PER>.<ACT> limonauier</ACT>,<SPAT><LOC> 1. des Colonnes</LOC>,<CARDINAL> 6</CARDINAL></SPAT>. J9 \n",
      "\n",
      "— ",
      "T ",
      "Dullocu, architecte, r. Basse-Porte-S.De- ",
      "— ",
      "Ris, 28. \n",
      "  label  start  end                             span\n",
      "0     O      0    3                              — ",
      "T\n",
      "1   PER      3   11                          ",
      "Dullocu\n",
      "2   ACT     11   23                     , architecte\n",
      "3     O     23   24                                ,\n",
      "4  SPAT     24   55   r. Basse-Porte-S.De- ",
      "— ",
      "Ris, 28\n",
      "5     O     55   57                               . \n",
      "      label  start  end                         span\n",
      "0         O      0    3                          — ",
      "T\n",
      "1         O      3   23          ",
      "Dullocu, architecte\n",
      "2         O     23   24                            ,\n",
      "3       LOC     24   51   r. Basse-Porte-S.De- ",
      "— ",
      "Ris\n",
      "4         O     51   52                            ,\n",
      "5  CARDINAL     52   55                           28\n",
      "6         O     55   57                           . \n",
      "— ",
      "T<PER> ",
      "Dullocu</PER><ACT>, architecte</ACT>,<SPAT><LOC> r. Basse-Porte-S.De- ",
      "— ",
      "Ris</LOC>,<CARDINAL> 28</CARDINAL></SPAT>. \n",
      "\n",
      "Duflot, loueur de carrosses, r. de Paradis- ",
      "505 ",
      "Poissonnière, 22. \n",
      "  label  start  end                                  span\n",
      "0   PER      0    6                                Duflot\n",
      "1   ACT      6   27                 , loueur de carrosses\n",
      "2     O     27   28                                     ,\n",
      "3  SPAT     28   64   r. de Paradis- ",
      "505 ",
      "Poissonnière, 22\n",
      "4     O     64   66                                    . \n",
      "      label  start  end                              span\n",
      "0         O      0   27       Duflot, loueur de carrosses\n",
      "1         O     27   28                                 ,\n",
      "2       LOC     28   60   r. de Paradis- ",
      "505 ",
      "Poissonnière\n",
      "3         O     60   61                                 ,\n",
      "4  CARDINAL     61   64                                22\n",
      "5         O     64   66                                . \n",
      "<PER>Duflot</PER><ACT>, loueur de carrosses</ACT>,<SPAT><LOC> r. de Paradis- ",
      "505 ",
      "Poissonnière</LOC>,<CARDINAL> 22</CARDINAL></SPAT>. \n",
      "\n",
      "Dufort, bottier, Palais-R., gal. vitrée, 215. ",
      "A \n",
      "  label  start  end                           span\n",
      "0   PER      0    6                         Dufort\n",
      "1   ACT      6   15                      , bottier\n",
      "2     O     15   16                              ,\n",
      "3  SPAT     16   45   Palais-R., gal. vitrée, 215.\n",
      "4     O     45   48                             ",
      "A \n",
      "      label  start  end                     span\n",
      "0         O      0   15          Dufort, bottier\n",
      "1         O     15   16                        ,\n",
      "2       LOC     16   39   Palais-R., gal. vitrée\n",
      "3         O     39   40                        ,\n",
      "4  CARDINAL     40   45                     215.\n",
      "5         O     45   48                       ",
      "A \n",
      "<PER>Dufort</PER><ACT>, bottier</ACT>,<SPAT><LOC> Palais-R., gal. vitrée</LOC>,<CARDINAL> 215.</CARDINAL></SPAT> ",
      "A \n",
      "\n",
      "Dufort fils, bottier (exp. 1819.), r. J.-J.. ",
      "Rousscan. 18. ",
      "290 \n",
      "  label  start  end                      span\n",
      "0   PER      0   11               Dufort fils\n",
      "1  DESC     11   34   , bottier (exp. 1819.),\n",
      "2  SPAT     34   58   r. J.-J.. ",
      "Rousscan. 18.\n",
      "3     O     58   63                      ",
      "290 \n",
      "      label  start  end                 span\n",
      "0         O      0   11          Dufort fils\n",
      "1       ACT     11   20            , bottier\n",
      "2    TITREP     20   32          (exp. 1819.\n",
      "3         O     32   34                   ),\n",
      "4       LOC     34   53   r. J.-J.. ",
      "Rousscan\n",
      "5         O     53   54                    .\n",
      "6  CARDINAL     54   58                  18.\n",
      "7         O     58   63                 ",
      "290 \n",
      "<PER>Dufort fils</PER><DESC><ACT>, bottier</ACT><TITREP> (exp. 1819.</TITREP>),</DESC><SPAT><LOC> r. J.-J.. ",
      "Rousscan</LOC>.<CARDINAL> 18.</CARDINAL></SPAT> ",
      "290 \n",
      "\n",
      "* ",
      "Dufort, tabletier, r. Jean-Pain-Mollet, 10. ",
      "4O \n",
      "  label  start  end                      span\n",
      "0     O      0    1                         *\n",
      "1   PER      1    8                    ",
      "Dufort\n",
      "2   ACT      8   19               , tabletier\n",
      "3     O     19   20                         ,\n",
      "4  SPAT     20   44   r. Jean-Pain-Mollet, 10\n",
      "5     O     44   49                     . ",
      "4O \n",
      "      label  start  end                  span\n",
      "0         O      0    1                     *\n",
      "1         O      1   19     ",
      "Dufort, tabletier\n",
      "2         O     19   20                     ,\n",
      "3       LOC     20   40   r. Jean-Pain-Mollet\n",
      "4         O     40   41                     ,\n",
      "5  CARDINAL     41   44                    10\n",
      "6         O     44   49                 . ",
      "4O \n",
      "*<PER> ",
      "Dufort</PER><ACT>, tabletier</ACT>,<SPAT><LOC> r. Jean-Pain-Mollet</LOC>,<CARDINAL> 10</CARDINAL></SPAT>. ",
      "4O \n",
      "\n",
      "Dufossé, teiniurier, r. du Faub.-Montmar- ",
      "tre , 63. ",
      "483 \n",
      "  label  start  end                            span\n",
      "0   PER      0    7                         Dufossé\n",
      "1   ACT      7   19                    , teiniurier\n",
      "2     O     19   20                               ,\n",
      "3  SPAT     20   50   r. du Faub.-Montmar- ",
      "tre , 63\n",
      "4     O     50   56                          . ",
      "483 \n",
      "      label  start  end                       span\n",
      "0         O      0   19        Dufossé, teiniurier\n",
      "1         O     19   20                          ,\n",
      "2       LOC     20   45   r. du Faub.-Montmar- ",
      "tre\n",
      "3         O     45   47                          ,\n",
      "4  CARDINAL     47   50                         63\n",
      "5         O     50   56                     . ",
      "483 \n",
      "<PER>Dufossé</PER><ACT>, teiniurier</ACT>,<SPAT><LOC> r. du Faub.-Montmar- ",
      "tre</LOC> ,<CARDINAL> 63</CARDINAL></SPAT>. ",
      "483 \n",
      "\n",
      "Duſour el Besnard, march, de bois à bruler, ",
      "quai de la Tournelle, 17. etr. des Fossés- ",
      "SBernard. 11. ",
      "Dí \n",
      "  label  start  end                         span\n",
      "0   PER      0   17            Duſour el Besnard\n",
      "1   ACT     17   42    , march, de bois à bruler\n",
      "2     O     42   43                            ,\n",
      "3  SPAT     43   68     ",
      "quai de la Tournelle, 17\n",
      "4     O     68   72                         . et\n",
      "5  SPAT     72   99  r. des Fossés- ",
      "SBernard. 11\n",
      "6     O     99  104                        . ",
      "Dí \n",
      "      label  start  end                                        span\n",
      "0         O      0   42  Duſour el Besnard, march, de bois à bruler\n",
      "1         O     42   43                                           ,\n",
      "2       LOC     43   64                        ",
      "quai de la Tournelle\n",
      "3         O     64   65                                           ,\n",
      "4  CARDINAL     65   68                                          17\n",
      "5         O     68   72                                        . et\n",
      "6       LOC     72   95                     r. des Fossés- ",
      "SBernard\n",
      "7         O     95   96                                           .\n",
      "8  CARDINAL     96   99                                          11\n",
      "9         O     99  104                                       . ",
      "Dí \n",
      "<PER>Duſour el Besnard</PER><ACT>, march, de bois à bruler</ACT>,<SPAT><LOC> ",
      "quai de la Tournelle</LOC>,<CARDINAL> 17</CARDINAL></SPAT>. et<SPAT><LOC>r. des Fossés- ",
      "SBernard</LOC>.<CARDINAL> 11</CARDINAL></SPAT>. ",
      "Dí \n",
      "\n",
      "Dufour jeune, march, de bois à brüler ",
      "de la Pépinière, 53. ",
      "7 r. \n",
      "  label  start  end                       span\n",
      "0   PER      0   12               Dufour jeune\n",
      "1   ACT     12   37  , march, de bois à brüler\n",
      "2  SPAT     37   57        ",
      "de la Pépinière, 53\n",
      "3     O     57   64                    . ",
      "7 r. \n",
      "      label  start  end                                   span\n",
      "0         O      0   37  Dufour jeune, march, de bois à brüler\n",
      "1       LOC     37   53                        ",
      "de la Pépinière\n",
      "2         O     53   54                                      ,\n",
      "3  CARDINAL     54   57                                     53\n",
      "4         O     57   64                                . ",
      "7 r. \n",
      "<PER>Dufour jeune</PER><ACT>, march, de bois à brüler</ACT><SPAT><LOC> ",
      "de la Pépinière</LOC>,<CARDINAL> 53</CARDINAL></SPAT>. ",
      "7 r. \n",
      "\n",
      "Dufour (Mad.), march. de chapeaux de ",
      "paitle, passage dn Panorama, 11. ",
      "IO \n",
      "  label  start  end                           span\n",
      "0   PER      0   14                 Dufour (Mad.),\n",
      "1   ACT     14   43   march. de chapeaux de ",
      "paitle\n",
      "2     O     43   44                              ,\n",
      "3  SPAT     44   68        passage dn Panorama, 11\n",
      "4     O     68   73                          . ",
      "IO \n",
      "      label  start  end                                         span\n",
      "0         O      0   43  Dufour (Mad.), march. de chapeaux de ",
      "paitle\n",
      "1         O     43   44                                            ,\n",
      "2       LOC     44   64                          passage dn Panorama\n",
      "3         O     64   65                                            ,\n",
      "4  CARDINAL     65   68                                           11\n",
      "5         O     68   73                                        . ",
      "IO \n",
      "<PER>Dufour (Mad.),</PER><ACT> march. de chapeaux de ",
      "paitle</ACT>,<SPAT><LOC> passage dn Panorama</LOC>,<CARDINAL> 11</CARDINAL></SPAT>. ",
      "IO \n",
      "\n",
      "Dutour, thapelier, r. S.-Honore ",
      "383. 3og \n"
     ]
    },
    {
     "name": "stdout",
     "output_type": "stream",
     "text": [
      "  label  start  end                span\n",
      "0   PER      0    6              Dutour\n",
      "1   ACT      6   17         , thapelier\n",
      "2     O     17   18                   ,\n",
      "3  SPAT     18   36   r. S.-Honore ",
      "383.\n",
      "4     O     36   41                3og \n",
      "      label  start  end               span\n",
      "0         O      0   17  Dutour, thapelier\n",
      "1         O     17   18                  ,\n",
      "2       LOC     18   31       r. S.-Honore\n",
      "3  CARDINAL     31   36               ",
      "383.\n",
      "4         O     36   41               3og \n",
      "<PER>Dutour</PER><ACT>, thapelier</ACT>,<SPAT><LOC> r. S.-Honore</LOC><CARDINAL> ",
      "383.</CARDINAL></SPAT> 3og \n",
      "\n",
      "Dufour, cirier, r. de PArbre-Sec, 6o. ",
      "316 \n",
      "  label  start  end                   span\n",
      "0   PER      0    6                 Dufour\n",
      "1   ACT      6   14               , cirier\n",
      "2     O     14   15                      ,\n",
      "3  SPAT     15   36   r. de PArbre-Sec, 6o\n",
      "4     O     36   42                 . ",
      "316 \n",
      "      label  start  end               span\n",
      "0         O      0   14     Dufour, cirier\n",
      "1         O     14   15                  ,\n",
      "2       LOC     15   32   r. de PArbre-Sec\n",
      "3         O     32   33                  ,\n",
      "4  CARDINAL     33   36                 6o\n",
      "5         O     36   42             . ",
      "316 \n",
      "<PER>Dufour</PER><ACT>, cirier</ACT>,<SPAT><LOC> r. de PArbre-Sec</LOC>,<CARDINAL> 6o</CARDINAL></SPAT>. ",
      "316 \n",
      "\n",
      "Dufour et co., commiss., r. des Contures- ",
      " ",
      "DAO ",
      "S. Dervajs, 18. \n",
      "  label  start  end                                   span\n",
      "0   PER      0   13                          Dufour et co.\n",
      "1   ACT     13   23                             , commiss.\n",
      "2     O     23   24                                      ,\n",
      "3  SPAT     24   61   r. des Contures- ",
      " ",
      "DAO ",
      "S. Dervajs, 18\n",
      "4     O     61   63                                     . \n",
      "      label  start  end                               span\n",
      "0         O      0   23            Dufour et co., commiss.\n",
      "1         O     23   24                                  ,\n",
      "2       LOC     24   57   r. des Contures- ",
      " ",
      "DAO ",
      "S. Dervajs\n",
      "3         O     57   58                                  ,\n",
      "4  CARDINAL     58   61                                 18\n",
      "5         O     61   63                                 . \n",
      "<PER>Dufour et co.</PER><ACT>, commiss.</ACT>,<SPAT><LOC> r. des Contures- ",
      " ",
      "DAO ",
      "S. Dervajs</LOC>,<CARDINAL> 18</CARDINAL></SPAT>. \n",
      "\n",
      "Dulour, corropeir, 1. des Vertusy1d 3 \n",
      "  label  start  end                 span\n",
      "0   PER      0    6               Dulour\n",
      "1   ACT      6   17          , corropeir\n",
      "2     O     17   18                    ,\n",
      "3  SPAT     18   37   1. des Vertusy1d 3\n",
      "4     O     37   38                     \n",
      "      label  start  end               span\n",
      "0         O      0   17  Dulour, corropeir\n",
      "1         O     17   18                  ,\n",
      "2       LOC     18   33     1. des Vertusy\n",
      "3         O     33   35                 1d\n",
      "4  CARDINAL     35   37                  3\n",
      "5         O     37   38                   \n",
      "<PER>Dulour</PER><ACT>, corropeir</ACT>,<SPAT><LOC> 1. des Vertusy</LOC>1d<CARDINAL> 3</CARDINAL></SPAT> \n",
      "\n",
      "Dufour (Charles), épicier, r. S.-Denis, ",
      "Jo7. ",
      "☞ ",
      "332 \n",
      "  label  start  end               span\n",
      "0   PER      0   17  Dufour (Charles),\n",
      "1   ACT     17   25            épicier\n",
      "2     O     25   26                  ,\n",
      "3  SPAT     26   43   r. S.-Denis, ",
      "Jo7\n",
      "4     O     43   51           . ",
      "☞ ",
      "332 \n",
      "      label  start  end                       span\n",
      "0         O      0   25  Dufour (Charles), épicier\n",
      "1         O     25   26                          ,\n",
      "2       LOC     26   38                r. S.-Denis\n",
      "3         O     38   39                          ,\n",
      "4  CARDINAL     39   43                        ",
      "Jo7\n",
      "5         O     43   51                   . ",
      "☞ ",
      "332 \n",
      "<PER>Dufour (Charles),</PER><ACT> épicier</ACT>,<SPAT><LOC> r. S.-Denis</LOC>,<CARDINAL> ",
      "Jo7</CARDINAL></SPAT>. ",
      "☞ ",
      "332 \n",
      "\n",
      "Dufour, fab. d&apos;éventails (erp. 1819) ",
      "Beaubourg, 48. ",
      " ",
      "360 \n",
      "  label  start  end                                 span\n",
      "0   PER      0    6                               Dufour\n",
      "1  DESC      6   41  , fab. d&apos;éventails (erp. 1819)\n",
      "2  SPAT     41   55                        ",
      "Beaubourg, 48\n",
      "3     O     55   62                              . ",
      " ",
      "360 \n",
      "      label  start  end                     span\n",
      "0         O      0    6                   Dufour\n",
      "1       ACT      6   29  , fab. d&apos;éventails\n",
      "2    TITREP     29   40               (erp. 1819\n",
      "3         O     40   41                        )\n",
      "4       LOC     41   51                ",
      "Beaubourg\n",
      "5         O     51   52                        ,\n",
      "6  CARDINAL     52   55                       48\n",
      "7         O     55   62                  . ",
      " ",
      "360 \n",
      "<PER>Dufour</PER><DESC><ACT>, fab. d&amp;apos;éventails</ACT><TITREP> (erp. 1819</TITREP>)</DESC><SPAT><LOC> ",
      "Beaubourg</LOC>,<CARDINAL> 48</CARDINAL></SPAT>. ",
      " ",
      "360 \n",
      "\n",
      "Dufour, faiencter, r. S.-Anne , 50. ",
      "302 \n",
      "  label  start  end              span\n",
      "0   PER      0    6            Dufour\n",
      "1   ACT      6   17       , faiencter\n",
      "2     O     17   18                 ,\n",
      "3  SPAT     18   34   r. S.-Anne , 50\n",
      "4     O     34   40            . ",
      "302 \n",
      "      label  start  end               span\n",
      "0         O      0   17  Dufour, faiencter\n",
      "1         O     17   18                  ,\n",
      "2       LOC     18   29         r. S.-Anne\n",
      "3         O     29   31                  ,\n",
      "4  CARDINAL     31   34                 50\n",
      "5         O     34   40             . ",
      "302 \n",
      "<PER>Dufour</PER><ACT>, faiencter</ACT>,<SPAT><LOC> r. S.-Anne</LOC> ,<CARDINAL> 50</CARDINAL></SPAT>. ",
      "302 \n",
      "\n",
      "Dufour, ",
      "A. Sarnt,r. Ventadour, ",
      "☞7 \n",
      "  label  start  end              span\n",
      "0   PER      0    6            Dufour\n",
      "1   ACT      6   16        , ",
      "A. Sarnt\n",
      "2     O     16   17                 ,\n",
      "3  SPAT     17   33  r. Ventadour, ",
      "☞7\n",
      "4     O     33   34                  \n",
      "      label  start  end              span\n",
      "0         O      0   16  Dufour, ",
      "A. Sarnt\n",
      "1         O     16   17                 ,\n",
      "2       LOC     17   29      r. Ventadour\n",
      "3         O     29   30                 ,\n",
      "4  CARDINAL     30   33                ",
      "☞7\n",
      "5         O     33   34                  \n",
      "<PER>Dufour</PER><ACT>, ",
      "A. Sarnt</ACT>,<SPAT><LOC>r. Ventadour</LOC>,<CARDINAL> ",
      "☞7</CARDINAL></SPAT> \n",
      "\n",
      "Dufour (Gabriel), libraire, r. de Vaugirard, ",
      "A \n",
      "  label  start  end                 span\n",
      "0   PER      0   17    Dufour (Gabriel),\n",
      "1   ACT     17   26             libraire\n",
      "2     O     26   27                    ,\n",
      "3  SPAT     27   46   r. de Vaugirard, ",
      "A\n",
      "4     O     46   47                     \n",
      "      label  start  end                        span\n",
      "0         O      0   26  Dufour (Gabriel), libraire\n",
      "1         O     26   27                           ,\n",
      "2       LOC     27   43             r. de Vaugirard\n",
      "3         O     43   44                           ,\n",
      "4  CARDINAL     44   46                           ",
      "A\n",
      "5         O     46   47                            \n",
      "<PER>Dufour (Gabriel),</PER><ACT> libraire</ACT>,<SPAT><LOC> r. de Vaugirard</LOC>,<CARDINAL> ",
      "A</CARDINAL></SPAT> \n",
      "\n",
      "Dufour, maçon, r. S.-Jean-Baptiste, 4 402 \n",
      "  label  start  end                     span\n",
      "0   PER      0    6                   Dufour\n",
      "1   ACT      6   13                  , maçon\n",
      "2     O     13   14                        ,\n",
      "3  SPAT     14   37   r. S.-Jean-Baptiste, 4\n",
      "4     O     37   42                     402 \n",
      "      label  start  end                  span\n",
      "0         O      0   13         Dufour, maçon\n",
      "1         O     13   14                     ,\n",
      "2       LOC     14   34   r. S.-Jean-Baptiste\n",
      "3         O     34   35                     ,\n",
      "4  CARDINAL     35   37                     4\n",
      "5         O     37   42                  402 \n",
      "<PER>Dufour</PER><ACT>, maçon</ACT>,<SPAT><LOC> r. S.-Jean-Baptiste</LOC>,<CARDINAL> 4</CARDINAL></SPAT> 402 \n",
      "\n",
      "Dufour, architecte, r. de Chartres-S.-Ho- ",
      "2781 40a ",
      "nore, 12. (Elig.) \n",
      "  label  start  end                                      span\n",
      "0   PER      0    6                                    Dufour\n",
      "1   ACT      6   18                              , architecte\n",
      "2     O     18   19                                         ,\n",
      "3  SPAT     19   59   r. de Chartres-S.-Ho- ",
      "2781 40a ",
      "nore, 12\n",
      "4     O     59   63                                      . (E\n",
      "5  SPAT     63   66                                       lig\n",
      "6     O     66   69                                       .) \n",
      "      label  start  end                                  span\n",
      "0         O      0   18                    Dufour, architecte\n",
      "1         O     18   19                                     ,\n",
      "2       LOC     19   55   r. de Chartres-S.-Ho- ",
      "2781 40a ",
      "nore\n",
      "3         O     55   56                                     ,\n",
      "4  CARDINAL     56   59                                    12\n",
      "5         O     59   63                                  . (E\n",
      "6       LOC     63   66                                   lig\n",
      "7         O     66   69                                   .) \n",
      "<PER>Dufour</PER><ACT>, architecte</ACT>,<SPAT><LOC> r. de Chartres-S.-Ho- ",
      "2781 40a ",
      "nore</LOC>,<CARDINAL> 12</CARDINAL></SPAT>. (E<SPAT><LOC>lig</LOC></SPAT>.) \n",
      "\n",
      "Dufour (Mad.), nouveautes, 1. Neuve-des- ",
      "H12 ",
      "Petits-Champs, 4. \n"
     ]
    },
    {
     "name": "stdout",
     "output_type": "stream",
     "text": [
      "  label  start  end                                 span\n",
      "0   PER      0   14                       Dufour (Mad.),\n",
      "1   ACT     14   25                           nouveautes\n",
      "2     O     25   26                                    ,\n",
      "3  SPAT     26   61   1. Neuve-des- ",
      "H12 ",
      "Petits-Champs, 4\n",
      "4     O     61   63                                   . \n",
      "      label  start  end                              span\n",
      "0         O      0   25         Dufour (Mad.), nouveautes\n",
      "1         O     25   26                                 ,\n",
      "2       LOC     26   58   1. Neuve-des- ",
      "H12 ",
      "Petits-Champs\n",
      "3         O     58   59                                 ,\n",
      "4  CARDINAL     59   61                                 4\n",
      "5         O     61   63                                . \n",
      "<PER>Dufour (Mad.),</PER><ACT> nouveautes</ACT>,<SPAT><LOC> 1. Neuve-des- ",
      "H12 ",
      "Petits-Champs</LOC>,<CARDINAL> 4</CARDINAL></SPAT>. \n",
      "\n",
      "Dufour Chabrol, papetier, r. S.-Martin ",
      "☞ ",
      "4 \n",
      "  label  start  end               span\n",
      "0   PER      0   14     Dufour Chabrol\n",
      "1   ACT     14   24         , papetier\n",
      "2     O     24   25                  ,\n",
      "3  SPAT     25   42   r. S.-Martin ",
      "☞ ",
      "4\n",
      "4     O     42   43                   \n",
      "      label  start  end                      span\n",
      "0         O      0   24  Dufour Chabrol, papetier\n",
      "1         O     24   25                         ,\n",
      "2       LOC     25   38              r. S.-Martin\n",
      "3         O     38   39                          ",
      "\n",
      "4  CARDINAL     39   42                       ☞ ",
      "4\n",
      "5         O     42   43                          \n",
      "<PER>Dufour Chabrol</PER><ACT>, papetier</ACT>,<SPAT><LOC> r. S.-Martin</LOC> ",
      "<CARDINAL>☞ ",
      "4</CARDINAL></SPAT> \n",
      "\n",
      "Dufour (J.) et co,, fab. de papiers peints, ",
      "((1819); r. Beauvean-S. Antoine, 19.\n",
      "  label  start  end                              span\n",
      "0   PER      0   18                Dufour (J.) et co,\n",
      "1  DESC     18   50  , fab. de papiers peints, ",
      "((1819\n",
      "2     O     50   52                                );\n",
      "3  SPAT     52   79        r. Beauvean-S. Antoine, 19\n",
      "4  DESC     79   80                                 .\n",
      "      label  start  end                      span\n",
      "0         O      0   18        Dufour (J.) et co,\n",
      "1       ACT     18   42  , fab. de papiers peints\n",
      "2         O     42   43                         ,\n",
      "3    TITREP     43   50                    ",
      "((1819\n",
      "4         O     50   52                        );\n",
      "5       LOC     52   75    r. Beauvean-S. Antoine\n",
      "6         O     75   76                         ,\n",
      "7  CARDINAL     76   79                        19\n",
      "8       ACT     79   80                         .\n",
      "<PER>Dufour (J.) et co,</PER><DESC><ACT>, fab. de papiers peints</ACT>,<TITREP> ",
      "((1819</TITREP></DESC>);<SPAT><LOC> r. Beauvean-S. Antoine</LOC>,<CARDINAL> 19</CARDINAL></SPAT><DESC><ACT>.</ACT></DESC>\n",
      "\n"
     ]
    }
   ],
   "source": [
    "from xmlize_util import get_NER_tags, xmlize_multilevel\n",
    "\n",
    "for s in samples.split('\\n'):\n",
    "    if s != '':\n",
    "        print(s)\n",
    "        res = nlp(s)\n",
    "        levels, num_levels = get_NER_tags(s,res)\n",
    "        #print(levels)\n",
    "        xml = xmlize_multilevel(levels,num_levels)\n",
    "        \n",
    "        #Correction IO\n",
    "        #xml = xml.replace('</LOC></SPAT>.<SPAT><LOC>','')\n",
    "        #xml = xml.replace('</LOC></SPAT><ACT>.</ACT><SPAT><LOC>','')\n",
    "        \"\"\"xml = xml.replace('<SPAT>.</SPAT> ",
    "','')\"\"\"\n",
    "        \n",
    "        #Correction IOB2\n",
    "        #xml = xml.replace('</PER><PER>','') #> I-PER suivi par un B-PER I-PER B-PER\n",
    "        #xml = xml.replace('</ACT>&amp;<ACT>','')\n",
    "        #</LOC></SPAT><PER>.</PER><SPAT><LOC>\n",
    "        #</ACT></DESC><DESC><ACT>\n",
    "        #<DESC>.</DESC>\n",
    "\n",
    "        #Corrections ptrn IO\n",
    "        #</LOC>.<LOC>\n",
    "        \n",
    "        #Confusion TITRE-P et TITRE </DESC><TITRE>(18</TITRE><DESC>19</DESC>\n",
    "        print(xml)\n",
    "        print('')"
   ]
  }
 ],
 "metadata": {
  "kernelspec": {
   "display_name": "Python 3 (ipykernel)",
   "language": "python",
   "name": "python3"
  },
  "language_info": {
   "codemirror_mode": {
    "name": "ipython",
    "version": 3
   },
   "file_extension": ".py",
   "mimetype": "text/x-python",
   "name": "python",
   "nbconvert_exporter": "python",
   "pygments_lexer": "ipython3",
   "version": "3.10.8"
  }
 },
 "nbformat": 4,
 "nbformat_minor": 5
}
