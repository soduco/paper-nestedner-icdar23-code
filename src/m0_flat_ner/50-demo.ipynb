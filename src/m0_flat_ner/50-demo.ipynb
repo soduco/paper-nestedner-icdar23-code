{
 "cells": [
  {
   "cell_type": "markdown",
   "id": "b0e9b916",
   "metadata": {},
   "source": [
    "# 50 - Flat NER - Demo"
   ]
  },
  {
   "cell_type": "markdown",
   "id": "6eb556be",
   "metadata": {},
   "source": [
    "* `nlpso/m0_flat_ner_ref_cmbert_io` : CamemBERT NER fine-tuned with ground-truth dataset\n",
    "* `nlpso/m0_flat_ner_ref_ptrn_cmbert_io` : Pretrained CamemBERT NER fine-tuned with ground-truth dataset\n",
    "* `nlpso/m0_flat_ner_ocr_cmbert_io` : CamemBERT NER fine-tuned with noisy dataset\n",
    "* `nlpso/m0_flat_ner_ocr_ptrn_cmbert_io` : Pretrained CamemBERT NER fine-tuned with noisy dataset"
   ]
  },
  {
   "cell_type": "code",
   "execution_count": 1,
   "id": "d846a070",
   "metadata": {},
   "outputs": [
    {
     "name": "stdout",
     "output_type": "stream",
     "text": [
      "Enabling notebook extension jupyter-js-widgets/extension...\r\n",
      "      - Validating: \u001b[32mOK\u001b[0m\r\n"
     ]
    }
   ],
   "source": [
    "!jupyter nbextension enable --py widgetsnbextension"
   ]
  },
  {
   "cell_type": "code",
   "execution_count": 12,
   "id": "584e3714",
   "metadata": {},
   "outputs": [],
   "source": [
    "models = ['nlpso/m0_flat_ner_ref_cmbert_io',\n",
    "        'nlpso/m0_flat_ner_ref_ptrn_cmbert_io',\n",
    "        'nlpso/m0_flat_ner_ocr_cmbert_io',\n",
    "        'nlpso/m0_flat_ner_ocr_ptrn_cmbert_io']"
   ]
  },
  {
   "cell_type": "markdown",
   "id": "1cb561ed",
   "metadata": {},
   "source": [
    "Choose a model on the HuggingFace among the following list :"
   ]
  },
  {
   "cell_type": "code",
   "execution_count": 16,
   "id": "8c12da8f",
   "metadata": {},
   "outputs": [
    {
     "data": {
      "application/vnd.jupyter.widget-view+json": {
       "model_id": "258e8253aea64ba5b90ea3385e3e4fae",
       "version_major": 2,
       "version_minor": 0
      },
      "text/plain": [
       "RadioButtons(layout=Layout(width='max-content'), options=('nlpso/m0_flat_ner_ref_cmbert_io', 'nlpso/m0_flat_ne…"
      ]
     },
     "metadata": {},
     "output_type": "display_data"
    }
   ],
   "source": [
    "import ipywidgets as widgets\n",
    "\n",
    "model = widgets.RadioButtons(\n",
    "            options=models,\n",
    "            layout={'width': 'max-content'}\n",
    "        )\n",
    "model"
   ]
  },
  {
   "cell_type": "code",
   "execution_count": 15,
   "id": "574ac244",
   "metadata": {},
   "outputs": [
    {
     "name": "stdout",
     "output_type": "stream",
     "text": [
      "nlpso/m0_flat_ner_ref_ptrn_cmbert_io\n"
     ]
    }
   ],
   "source": [
    "print(model.value)"
   ]
  },
  {
   "cell_type": "code",
   "execution_count": 5,
   "id": "5827004a-13a7-4268-88aa-800ef1c70c85",
   "metadata": {},
   "outputs": [
    {
     "name": "stderr",
     "output_type": "stream",
     "text": [
      "2023-02-22 09:17:42.712559: I tensorflow/core/platform/cpu_feature_guard.cc:193] This TensorFlow binary is optimized with oneAPI Deep Neural Network Library (oneDNN) to use the following CPU instructions in performance-critical operations:  AVX2 FMA\n",
      "To enable them in other operations, rebuild TensorFlow with the appropriate compiler flags.\n",
      "2023-02-22 09:17:44.254279: W tensorflow/compiler/xla/stream_executor/platform/default/dso_loader.cc:64] Could not load dynamic library 'libnvinfer.so.7'; dlerror: libnvinfer.so.7: cannot open shared object file: No such file or directory\n",
      "2023-02-22 09:17:44.254389: W tensorflow/compiler/xla/stream_executor/platform/default/dso_loader.cc:64] Could not load dynamic library 'libnvinfer_plugin.so.7'; dlerror: libnvinfer_plugin.so.7: cannot open shared object file: No such file or directory\n",
      "2023-02-22 09:17:44.254399: W tensorflow/compiler/tf2tensorrt/utils/py_utils.cc:38] TF-TRT Warning: Cannot dlopen some TensorRT libraries. If you would like to use Nvidia GPU with TensorRT, please make sure the missing libraries mentioned above are installed properly.\n"
     ]
    },
    {
     "data": {
      "application/vnd.jupyter.widget-view+json": {
       "model_id": "0f6219580ce442d998aff22cb58d0fbd",
       "version_major": 2,
       "version_minor": 0
      },
      "text/plain": [
       "Downloading:   0%|          | 0.00/710 [00:00<?, ?B/s]"
      ]
     },
     "metadata": {},
     "output_type": "display_data"
    },
    {
     "data": {
      "application/vnd.jupyter.widget-view+json": {
       "model_id": "54cf154f32b449149ebd63b9f3842090",
       "version_major": 2,
       "version_minor": 0
      },
      "text/plain": [
       "Downloading:   0%|          | 0.00/811k [00:00<?, ?B/s]"
      ]
     },
     "metadata": {},
     "output_type": "display_data"
    },
    {
     "data": {
      "application/vnd.jupyter.widget-view+json": {
       "model_id": "df00062466294d639b1d7ea4db7fe0b0",
       "version_major": 2,
       "version_minor": 0
      },
      "text/plain": [
       "Downloading:   0%|          | 0.00/2.42M [00:00<?, ?B/s]"
      ]
     },
     "metadata": {},
     "output_type": "display_data"
    },
    {
     "data": {
      "application/vnd.jupyter.widget-view+json": {
       "model_id": "f296c9303d1f4cacae9013fd9ed66315",
       "version_major": 2,
       "version_minor": 0
      },
      "text/plain": [
       "Downloading:   0%|          | 0.00/241 [00:00<?, ?B/s]"
      ]
     },
     "metadata": {},
     "output_type": "display_data"
    },
    {
     "data": {
      "application/vnd.jupyter.widget-view+json": {
       "model_id": "348571356621404694a854465d44d44f",
       "version_major": 2,
       "version_minor": 0
      },
      "text/plain": [
       "Downloading:   0%|          | 0.00/1.04k [00:00<?, ?B/s]"
      ]
     },
     "metadata": {},
     "output_type": "display_data"
    },
    {
     "data": {
      "application/vnd.jupyter.widget-view+json": {
       "model_id": "b9880e8099ea46d697427feb5b002911",
       "version_major": 2,
       "version_minor": 0
      },
      "text/plain": [
       "Downloading:   0%|          | 0.00/440M [00:00<?, ?B/s]"
      ]
     },
     "metadata": {},
     "output_type": "display_data"
    }
   ],
   "source": [
    "import csv\n",
    "from transformers import AutoTokenizer, AutoModelForTokenClassification\n",
    "\n",
    "tokenizer = AutoTokenizer.from_pretrained(str(model.value)) \n",
    "model = AutoModelForTokenClassification.from_pretrained(str(model.value))"
   ]
  },
  {
   "cell_type": "code",
   "execution_count": 6,
   "id": "49da418a",
   "metadata": {},
   "outputs": [],
   "source": [
    "from transformers import TokenClassificationPipeline\n",
    "\n",
    "nlp = TokenClassificationPipeline(model=model, tokenizer=tokenizer, aggregation_strategy='simple')"
   ]
  },
  {
   "cell_type": "code",
   "execution_count": 7,
   "id": "f9ecab43-7166-4e97-9ff4-151e88f457f6",
   "metadata": {},
   "outputs": [
    {
     "name": "stderr",
     "output_type": "stream",
     "text": [
      "/lrde/home2/stual/.venv/python_3_9/lib/python3.10/site-packages/IPython/core/inputtransformer2.py:595: UserWarning: `make_tokens_by_line` received a list of lines which do not have lineending markers ('\\n', '\\r', '\\r\\n', '\\x0b', '\\x0c'), behavior will be unspecified\n",
      "  tokens_by_line = make_tokens_by_line(lines)\n"
     ]
    }
   ],
   "source": [
    "samples = \"\"\"☞ ",
    " ",
    "T ",
    "Dufant (Victor), libraire, r. du Gros-Che- ",
    "net. 2. ",
    "JO \\n\n",
    "Dutay, essayeur du commerce, place Dau- ",
    " ",
    "- ",
    "píině, 5. ",
    "DOB \\n\n",
    "Dulay, chandronnier, r. du Pont- aux- ",
    "Chuux, 15. ",
    "SI \\n\n",
    "Dufay (V.e), grenetière, r. du Fauh.-S. ",
    "Denis, 20. ",
    "372 \\n\n",
    "Y ",
    "☞ ",
    "Dnten,charentier, 1. Montmartre, 89. 318 \\n\n",
    "Dufey fils, bijoutier, passage de la Réunion ",
    "A \\n\n",
    "Dnley, boucher, r. S.&quot;Louis-au-Marais,3. ",
    "* \\n\n",
    "☞ ",
    "Duffand, bijonteer, r. S.-Martin, 107. 284 \\n\n",
    "Duftaud, maçon, r. S-Honore ",
    " ",
    "353. ",
    "O \\n\n",
    "Dullaut, chandronnier, r. de la Sourdière ",
    "I- ( ",
    "☞T4 \\n\n",
    "lukils. limonauier, 1. des Colonnes, 6. J9 \\n\n",
    "— ",
    "T ",
    "Dullocu, architecte, r. Basse-Porte-S.De- ",
    "— ",
    "Ris, 28. \\n\n",
    "Duflot, loueur de carrosses, r. de Paradis- ",
    "505 ",
    "Poissonnière, 22. \\n\n",
    "Dufort, bottier, Palais-R., gal. vitrée, 215. ",
    "A \\n\n",
    "Dufort fils, bottier (exp. 1819.), r. J.-J.. ",
    "Rousscan. 18. ",
    "290 \\n\n",
    "* ",
    "Dufort, tabletier, r. Jean-Pain-Mollet, 10. ",
    "4O \\n\n",
    "Dufossé, teiniurier, r. du Faub.-Montmar- ",
    "tre , 63. ",
    "483 \\n\n",
    "Duſour el Besnard, march, de bois à bruler, ",
    "quai de la Tournelle, 17. etr. des Fossés- ",
    "SBernard. 11. ",
    "Dí \\n\n",
    "Dufour jeune, march, de bois à brüler ",
    "de la Pépinière, 53. ",
    "7 r. \\n\n",
    "Dufour (Mad.), march. de chapeaux de ",
    "paitle, passage dn Panorama, 11. ",
    "IO \\n\n",
    "Dutour, thapelier, r. S.-Honore ",
    "383. 3og \\n\n",
    "Dufour, cirier, r. de PArbre-Sec, 6o. ",
    "316 \\n\n",
    "Dufour et co., commiss., r. des Contures- ",
    " ",
    "DAO ",
    "S. Dervajs, 18. \\n\n",
    "Dulour, corropeir, 1. des Vertusy1d 3 \\n\n",
    "Dufour (Charles), épicier, r. S.-Denis, ",
    "Jo7. ",
    "☞ ",
    "332 \\n\n",
    "Dufour, fab. d&apos;éventails (erp. 1819) ",
    "Beaubourg, 48. ",
    " ",
    "360 \\n\n",
    "Dufour, faiencter, r. S.-Anne , 50. ",
    "302 \\n\n",
    "Dufour, ",
    "A. Sarnt,r. Ventadour, ",
    "☞7 \\n\n",
    "Dufour (Gabriel), libraire, r. de Vaugirard, ",
    "A \\n\n",
    "Dufour, maçon, r. S.-Jean-Baptiste, 4 402 \\n\n",
    "Dufour, architecte, r. de Chartres-S.-Ho- ",
    "2781 40a ",
    "nore, 12. (Elig.) \\n\n",
    "Dufour (Mad.), nouveautes, 1. Neuve-des- ",
    "H12 ",
    "Petits-Champs, 4. \\n\n",
    "Dufour Chabrol, papetier, r. S.-Martin ",
    "☞ ",
    "4 \\n\n",
    "Dufour (J.) et co,, fab. de papiers peints, ",
    "((1819); r. Beauvean-S. Antoine, 19.\"\"\""
   ]
  },
  {
   "cell_type": "code",
   "execution_count": 8,
   "id": "0155d8a5-2735-4dd6-a368-38fd99f5042c",
   "metadata": {},
   "outputs": [
    {
     "name": "stdout",
     "output_type": "stream",
     "text": [
      "☞ ",
      " ",
      "T ",
      "Dufant (Victor), libraire, r. du Gros-Che- ",
      "net. 2. ",
      "JO \n",
      "☞ ",
      " ",
      "T<PER> ",
      "Dufant (Victor</PER><ACT>), libraire</ACT>, <LOC>r. du Gros-Che- ",
      "net</LOC>. <CARDINAL>2</CARDINAL>. ",
      "JO \n",
      "\n",
      "\n",
      "Dutay, essayeur du commerce, place Dau- ",
      " ",
      "- ",
      "píině, 5. ",
      "DOB \n",
      "<PER>Dutay</PER><ACT>, essayeur du commerce</ACT>, <LOC>place Dau- ",
      " ",
      "- ",
      "píině</LOC>, <CARDINAL>5</CARDINAL>. ",
      "DOB \n",
      "\n",
      "\n",
      "Dulay, chandronnier, r. du Pont- aux- ",
      "Chuux, 15. ",
      "SI \n",
      "<PER>Dulay</PER><ACT>, chandronnier</ACT>, <LOC>r. du Pont- aux- ",
      "Chuux</LOC>, <CARDINAL>15</CARDINAL>. ",
      "SI \n",
      "\n",
      "\n",
      "Dufay (V.e), grenetière, r. du Fauh.-S. ",
      "Denis, 20. ",
      "372 \n",
      "<PER>Dufay (V.e),</PER> <ACT>grenetière</ACT>, <LOC>r. du Fauh.-S. ",
      "Denis</LOC>, <CARDINAL>20</CARDINAL>. ",
      "372 \n",
      "\n",
      "\n",
      "Y ",
      "☞ ",
      "Dnten,charentier, 1. Montmartre, 89. 318 \n",
      "Y ",
      "☞<PER> ",
      "Dnten</PER><ACT>,charentier</ACT>, <LOC>1. Montmartre</LOC>, <CARDINAL>89</CARDINAL>. 318 \n",
      "\n",
      "\n",
      "Dufey fils, bijoutier, passage de la Réunion ",
      "A \n",
      "<PER>Dufey fils</PER><ACT>, bijoutier</ACT>, <LOC>passage de la Réunion</LOC><CARDINAL> ",
      "A</CARDINAL> \n",
      "\n",
      "\n",
      "Dnley, boucher, r. S.&quot;Louis-au-Marais,3. ",
      "* \n",
      "<PER>Dnley</PER><ACT>, boucher</ACT>, <LOC>r. S.&quot;Louis-au-Marais</LOC>,<CARDINAL>3.</CARDINAL> ",
      "* \n",
      "\n",
      "\n",
      "☞ ",
      "Duffand, bijonteer, r. S.-Martin, 107. 284 \n",
      "☞<PER> ",
      "Duffand</PER><ACT>, bijonteer</ACT>, <LOC>r. S.-Martin</LOC>, <CARDINAL>107</CARDINAL>. 284 \n",
      "\n",
      "\n",
      "Duftaud, maçon, r. S-Honore ",
      " ",
      "353. ",
      "O \n",
      "<PER>Duftaud</PER><ACT>, maçon</ACT>, <LOC>r. S-Honore</LOC> ",
      "<CARDINAL> ",
      "35</CARDINAL>3. ",
      "O \n",
      "\n",
      "\n",
      "Dullaut, chandronnier, r. de la Sourdière ",
      "I- ( ",
      "☞T4 \n",
      "<PER>Dullaut</PER><ACT>, chandronnier</ACT>, <LOC>r. de la Sourdière</LOC><CARDINAL> ",
      "I</CARDINAL>- ( ",
      "☞T4 \n",
      "\n",
      "\n",
      "lukils. limonauier, 1. des Colonnes, 6. J9 \n",
      "<PER>lukils</PER><ACT>. limonauier</ACT>, <LOC>1. des Colonnes</LOC>, <CARDINAL>6</CARDINAL>. J9 \n",
      "\n",
      "\n",
      "— ",
      "T ",
      "Dullocu, architecte, r. Basse-Porte-S.De- ",
      "— ",
      "Ris, 28. \n",
      "— ",
      "T<PER> ",
      "Dullocu</PER><ACT>, architecte</ACT>, <LOC>r. Basse-Porte-S.De- ",
      "— ",
      "Ris</LOC>, <CARDINAL>28</CARDINAL>. \n",
      "\n",
      "\n",
      "Duflot, loueur de carrosses, r. de Paradis- ",
      "505 ",
      "Poissonnière, 22. \n",
      "<PER>Duflot</PER><ACT>, loueur de carrosses</ACT>, <LOC>r. de Paradis- ",
      "505 ",
      "Poissonnière</LOC>, <CARDINAL>22</CARDINAL>. \n",
      "\n",
      "\n",
      "Dufort, bottier, Palais-R., gal. vitrée, 215. ",
      "A \n",
      "<PER>Dufort</PER><ACT>, bottier</ACT>, <LOC>Palais-R., gal. vitrée</LOC>, <CARDINAL>2</CARDINAL>15. ",
      "A \n",
      "\n",
      "\n",
      "Dufort fils, bottier (exp. 1819.), r. J.-J.. ",
      "Rousscan. 18. ",
      "290 \n",
      "<PER>Dufort fils</PER><ACT>, bottier</ACT> (<TITRE>exp. 1819</TITRE>.), <LOC>r. J.-J.. ",
      "Rousscan</LOC>. <CARDINAL>18</CARDINAL>. ",
      "290 \n",
      "\n",
      "\n",
      "* ",
      "Dufort, tabletier, r. Jean-Pain-Mollet, 10. ",
      "4O \n",
      "*<PER> ",
      "Dufort</PER><ACT>, tabletier</ACT>, <LOC>r. Jean-Pain-Mollet</LOC>, <CARDINAL>10</CARDINAL>. ",
      "4O \n",
      "\n",
      "\n",
      "Dufossé, teiniurier, r. du Faub.-Montmar- ",
      "tre , 63. ",
      "483 \n",
      "<PER>Dufossé</PER><ACT>, teiniurier</ACT>, <LOC>r. du Faub.-Montmar- ",
      "tre</LOC> , <CARDINAL>63</CARDINAL>. ",
      "483 \n",
      "\n",
      "\n",
      "Duſour el Besnard, march, de bois à bruler, ",
      "quai de la Tournelle, 17. etr. des Fossés- ",
      "SBernard. 11. ",
      "Dí \n",
      "<PER>Duſour el Besnard</PER><ACT>, march, de bois à bruler</ACT>,<LOC> ",
      "quai de la Tournelle</LOC>, <CARDINAL>17</CARDINAL>. et<LOC>r. des Fossés- ",
      "SBernard</LOC>. <CARDINAL>11</CARDINAL>. ",
      "Dí \n",
      "\n",
      "\n",
      "Dufour jeune, march, de bois à brüler ",
      "de la Pépinière, 53. ",
      "7 r. \n",
      "<PER>Dufour jeune</PER><ACT>, march, de bois à brüler</ACT> ",
      "de <LOC>la Pépinière</LOC>, <CARDINAL>53</CARDINAL>. ",
      "7 <LOC>r</LOC>. <LOC></LOC>\n",
      "\n",
      "\n",
      "Dufour (Mad.), march. de chapeaux de ",
      "paitle, passage dn Panorama, 11. ",
      "IO \n",
      "<PER>Dufour (Mad.</PER><ACT>), march. de chapeaux de ",
      "paitle</ACT>, <LOC>passage dn Panorama</LOC>, <CARDINAL>11</CARDINAL><ACT>.</ACT> ",
      "IO \n",
      "\n",
      "\n",
      "Dutour, thapelier, r. S.-Honore ",
      "383. 3og \n",
      "<PER>Dutour</PER><ACT>, thapelier</ACT>, <LOC>r. S.-Honore</LOC><CARDINAL> ",
      "38</CARDINAL>3. 3og \n",
      "\n",
      "\n",
      "Dufour, cirier, r. de PArbre-Sec, 6o. ",
      "316 \n",
      "<PER>Dufour</PER><ACT>, cirier</ACT>, <LOC>r. de PArbre-Sec</LOC>, <CARDINAL>6</CARDINAL>o. ",
      "316 \n",
      "\n",
      "\n",
      "Dufour et co., commiss., r. des Contures- ",
      " ",
      "DAO ",
      "S. Dervajs, 18. \n",
      "<PER>Dufour et co.</PER><ACT>, commiss.</ACT>, <LOC>r. des Contures- ",
      " ",
      "DAO ",
      "S. Dervajs</LOC>, <CARDINAL>18</CARDINAL>. \n",
      "\n",
      "\n",
      "Dulour, corropeir, 1. des Vertusy1d 3 \n",
      "<PER>Dulour</PER><ACT>, corropeir</ACT>, <LOC>1. des Vertusy</LOC>1d 3 \n",
      "\n",
      "\n",
      "Dufour (Charles), épicier, r. S.-Denis, ",
      "Jo7. ",
      "☞ ",
      "332 \n",
      "<PER>Dufour (Charles),</PER> <ACT>épicier</ACT>, <LOC>r. S.-Denis</LOC>,<CARDINAL> ",
      "Jo7</CARDINAL>. ",
      "☞ ",
      "332 \n",
      "\n",
      "\n",
      "Dufour, fab. d&apos;éventails (erp. 1819) ",
      "Beaubourg, 48. ",
      " ",
      "360 \n",
      "<PER>Dufour</PER><ACT>, fab. d</ACT>&<ACT>apos;éventails</ACT> (<TITRE>erp. 1819</TITRE>)<LOC> ",
      "Beaubourg</LOC>, <CARDINAL>48</CARDINAL><ACT>.</ACT> ",
      " ",
      "360 \n",
      "\n",
      "\n",
      "Dufour, faiencter, r. S.-Anne , 50. ",
      "302 \n",
      "<PER>Dufour</PER><ACT>, faiencter</ACT>, <LOC>r. S.-Anne</LOC> , <CARDINAL>50</CARDINAL>. ",
      "302 \n",
      "\n",
      "\n",
      "Dufour, ",
      "A. Sarnt,r. Ventadour, ",
      "☞7 \n",
      "<PER>Dufour</PER><ACT>, ",
      "A. Sarnt,</ACT><LOC>r. Ventadour</LOC>,<CARDINAL> ",
      "</CARDINAL>☞7 \n",
      "\n",
      "\n",
      "Dufour (Gabriel), libraire, r. de Vaugirard, ",
      "A \n",
      "<PER>Dufour (Gabriel</PER><ACT>), libraire</ACT>, <LOC>r. de Vaugirard</LOC>,<CARDINAL> ",
      "A</CARDINAL> \n",
      "\n",
      "\n",
      "Dufour, maçon, r. S.-Jean-Baptiste, 4 402 \n",
      "<PER>Dufour</PER><ACT>, maçon</ACT>, <LOC>r. S.-Jean-Baptiste</LOC>, <CARDINAL>4</CARDINAL> 402 \n",
      "\n",
      "\n",
      "Dufour, architecte, r. de Chartres-S.-Ho- ",
      "2781 40a ",
      "nore, 12. (Elig.) \n",
      "<PER>Dufour</PER><ACT>, architecte</ACT>, <LOC>r. de Chartres-S.-Ho- ",
      "2781 40a ",
      "nore</LOC>, <CARDINAL>12</CARDINAL>. (Elig.) \n",
      "\n",
      "\n",
      "Dufour (Mad.), nouveautes, 1. Neuve-des- ",
      "H12 ",
      "Petits-Champs, 4. \n",
      "<PER>Dufour (Mad.</PER><ACT>), nouveautes</ACT>, <LOC>1. Neuve-des- ",
      "H12 ",
      "Petits-Champs</LOC>, <CARDINAL>4</CARDINAL>. \n",
      "\n",
      "\n",
      "Dufour Chabrol, papetier, r. S.-Martin ",
      "☞ ",
      "4 \n",
      "<PER>Dufour Chabrol</PER><ACT>, papetier</ACT>, <LOC>r. S.-Martin</LOC><CARDINAL> ",
      "</CARDINAL>☞ ",
      "4 \n",
      "\n",
      "\n",
      "Dufour (J.) et co,, fab. de papiers peints, ",
      "((1819); r. Beauvean-S. Antoine, 19.\n",
      "<PER>Dufour (J.) et co</PER>,<ACT>, fab. de papiers peints</ACT>,<TITRE> ",
      "((1819</TITRE>); <LOC>r. Beauvean-S. Antoine</LOC>, <CARDINAL>19</CARDINAL>.\n"
     ]
    }
   ],
   "source": [
    "from aggregate_predictions import xmlize\n",
    "\n",
    "for s in samples.split(\"\\n\"):\n",
    "    xml = xmlize(s, nlp(s))\n",
    "    print(s)\n",
    "    print(xml)"
   ]
  },
  {
   "cell_type": "code",
   "execution_count": null,
   "id": "4a829d2a",
   "metadata": {},
   "outputs": [],
   "source": []
  }
 ],
 "metadata": {
  "kernelspec": {
   "display_name": "Python 3 (ipykernel)",
   "language": "python",
   "name": "python3"
  },
  "language_info": {
   "codemirror_mode": {
    "name": "ipython",
    "version": 3
   },
   "file_extension": ".py",
   "mimetype": "text/x-python",
   "name": "python",
   "nbconvert_exporter": "python",
   "pygments_lexer": "ipython3",
   "version": "3.10.8"
  }
 },
 "nbformat": 4,
 "nbformat_minor": 5
}
