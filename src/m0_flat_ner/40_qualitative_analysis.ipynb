{
 "cells": [
  {
   "cell_type": "markdown",
   "id": "cda9d76b",
   "metadata": {},
   "source": [
    "# 40 - Flat NER - Qualitative analysis "
   ]
  },
  {
   "cell_type": "code",
   "execution_count": 1,
   "id": "497d99f3",
   "metadata": {},
   "outputs": [
    {
     "name": "stdout",
     "output_type": "stream",
     "text": [
      "Enabling notebook extension jupyter-js-widgets/extension...\r\n",
      "      - Validating: \u001b[32mOK\u001b[0m\r\n"
     ]
    }
   ],
   "source": [
    "!jupyter nbextension enable --py widgetsnbextension"
   ]
  },
  {
   "cell_type": "code",
   "execution_count": 2,
   "id": "8ff6c9e6",
   "metadata": {},
   "outputs": [
    {
     "name": "stdout",
     "output_type": "stream",
     "text": [
      "2\n"
     ]
    }
   ],
   "source": [
    "import os\n",
    "os.environ[\"CUDA_VISIBLE_DEVICES\"] = \"2\"\n",
    "print(os.environ[\"CUDA_VISIBLE_DEVICES\"])"
   ]
  },
  {
   "cell_type": "code",
   "execution_count": 5,
   "id": "da53ce29-cd5f-4295-ac93-2677c2d07034",
   "metadata": {},
   "outputs": [
    {
     "name": "stdout",
     "output_type": "stream",
     "text": [
      "['/lrde/home2/stual/stage_DAS/m0_flat_ner', '/usr/lib/python310.zip', '/usr/lib/python3.10', '/usr/lib/python3.10/lib-dynload', '', '/lrde/home2/stual/.venv/python_3_9/lib/python3.10/site-packages']\n",
      "/lrde/home2/stual/stage_DAS/m0_flat_ner\n",
      "/work/stual/dataset_ICDAR\n",
      "/work/stual/res_ICDAR/method_0\n"
     ]
    }
   ],
   "source": [
    "import os, sys\n",
    "from pathlib import Path\n",
    "\n",
    "ENV_IS_GOOGLE_COLAB = True if 'google.colab' in str(get_ipython()) else False\n",
    "os.environ[\"ENV_IS_GOOGLE_COLAB\"] = str(ENV_IS_GOOGLE_COLAB)\n",
    "\n",
    "if ENV_IS_GOOGLE_COLAB:\n",
    "  from google.colab import drive\n",
    "  mountpoint = Path(\"/content/drive\")\n",
    "  drive.mount(str(mountpoint)) # Mount gdrive to BASE\n",
    "  base = mountpoint / \"MyDrive\" # Adapt this to your situation\n",
    "  sys.path.append(str(base)) # Add BASE to Python Path\n",
    "  BASE = Path(base).resolve() # Make BASE absolute\n",
    "  DATASETS =  BASE / \"dataset\"\n",
    "else:\n",
    "  BASE = Path(os.path.dirname(os.path.realpath(\"__file__\"))).resolve() # If not on GColab, BASE will be the directory of this notebook\n",
    "  DATASETS = Path('/work/stual/dataset_ICDAR').resolve() #Your data \n",
    "  OUT_BASE = Path('/work/stual/res_ICDAR/method_0').resolve()\n",
    "\n",
    "print(sys.path)\n",
    "print(BASE)\n",
    "print(DATASETS)\n",
    "print(OUT_BASE)"
   ]
  },
  {
   "cell_type": "markdown",
   "id": "c2021c2a",
   "metadata": {},
   "source": [
    "## Models list"
   ]
  },
  {
   "cell_type": "markdown",
   "id": "44b9b68e",
   "metadata": {},
   "source": [
    "Choose a fine-tuned model to perform qualitative analysis. You can choose between the models you fine-tuned and store locally or load models from the HuggingFace."
   ]
  },
  {
   "cell_type": "code",
   "execution_count": 6,
   "id": "8214ae05",
   "metadata": {},
   "outputs": [],
   "source": [
    "import glob\n",
    "\n",
    "def show_models_from_several_sources(Source,OUT_BASE):\n",
    "    models = []\n",
    "    if Source == 'Local':\n",
    "        models_list = sorted(glob.glob(f\"{OUT_BASE}/tmp/*/checkpoint*\"))\n",
    "        for m in models_list:\n",
    "            l = m.split('/')\n",
    "            l = '/'.join(l[-3:])\n",
    "            models.append(l)\n",
    "    elif Source == 'Online':\n",
    "        models = ['nlpso/m0_flat_ner_ref_camembert_ner',\n",
    "                 'nlpso/m0_flat_ner_ref_ptrn_camembert_ner',\n",
    "                 'nlpso/m0_flat_ner_ocr_camembert_ner',\n",
    "                 'nlpso/m0_flat_ner_ocr_ptrn_camembert_ner']\n",
    "    return models"
   ]
  },
  {
   "cell_type": "code",
   "execution_count": 8,
   "id": "ec608aac",
   "metadata": {},
   "outputs": [
    {
     "data": {
      "application/vnd.jupyter.widget-view+json": {
       "model_id": "84213835031e4d7fa258d4f9402ec7b7",
       "version_major": 2,
       "version_minor": 0
      },
      "text/plain": [
       "Dropdown(description='Model localisation:', options=('Local', 'Online'), value='Local')"
      ]
     },
     "metadata": {},
     "output_type": "display_data"
    }
   ],
   "source": [
    "import ipywidgets as widgets\n",
    "from ipywidgets import interact, interact_manual\n",
    "        \n",
    "localisation = widgets.Dropdown(\n",
    "    options=['Local', 'Online'],\n",
    "    value='Local',\n",
    "    description='Model localisation:',\n",
    ")\n",
    "localisation"
   ]
  },
  {
   "cell_type": "code",
   "execution_count": 9,
   "id": "936652c3",
   "metadata": {},
   "outputs": [],
   "source": [
    "source = localisation.value\n",
    "models = show_models_from_several_sources(source,OUT_BASE)"
   ]
  },
  {
   "cell_type": "code",
   "execution_count": 13,
   "id": "ca56150c",
   "metadata": {},
   "outputs": [
    {
     "data": {
      "application/vnd.jupyter.widget-view+json": {
       "model_id": "5d98edc9f8ed40d399e100c37c841902",
       "version_major": 2,
       "version_minor": 0
      },
      "text/plain": [
       "RadioButtons(layout=Layout(width='max-content'), options=('tmp/21-flat-ner-ref-camembert_ner/checkpoint-1200',…"
      ]
     },
     "metadata": {},
     "output_type": "display_data"
    }
   ],
   "source": [
    "path = widgets.RadioButtons(\n",
    "            options=models,\n",
    "            layout={'width': 'max-content'}\n",
    "        )\n",
    "path"
   ]
  },
  {
   "cell_type": "code",
   "execution_count": 54,
   "id": "c8d03d8e",
   "metadata": {},
   "outputs": [
    {
     "data": {
      "text/plain": [
       "'tmp/42-flat-ner-pero-ocr-pretrained_camembert_ner/checkpoint-1400'"
      ]
     },
     "execution_count": 54,
     "metadata": {},
     "output_type": "execute_result"
    }
   ],
   "source": [
    "path.value"
   ]
  },
  {
   "cell_type": "markdown",
   "id": "b6a9fd81",
   "metadata": {},
   "source": [
    "## Parameters"
   ]
  },
  {
   "cell_type": "markdown",
   "id": "0c4aa0de",
   "metadata": {},
   "source": [
    "#### To set"
   ]
  },
  {
   "cell_type": "code",
   "execution_count": 15,
   "id": "34170e52",
   "metadata": {},
   "outputs": [],
   "source": [
    "#Save predictions in XML format\n",
    "SAVE_XML = False"
   ]
  },
  {
   "cell_type": "markdown",
   "id": "74604a6b",
   "metadata": {},
   "source": [
    "#### Constants"
   ]
  },
  {
   "cell_type": "code",
   "execution_count": 55,
   "id": "3d8e7209",
   "metadata": {},
   "outputs": [
    {
     "data": {
      "application/vnd.jupyter.widget-view+json": {
       "model_id": "4ab6bbf20081440e8ba87dc200e6529f",
       "version_major": 2,
       "version_minor": 0
      },
      "text/plain": [
       "RadioButtons(layout=Layout(width='max-content'), options=('IO', 'IOB2'), value='IO')"
      ]
     },
     "metadata": {},
     "output_type": "display_data"
    }
   ],
   "source": [
    "format_ = widgets.RadioButtons(\n",
    "            options=[\"IO\",\"IOB2\"],\n",
    "            layout={'width': 'max-content'}\n",
    "        )\n",
    "format_"
   ]
  },
  {
   "cell_type": "code",
   "execution_count": 57,
   "id": "e4c17824",
   "metadata": {},
   "outputs": [
    {
     "data": {
      "application/vnd.jupyter.widget-view+json": {
       "model_id": "91f7d0dd9d23425eb7d73362d42e1f74",
       "version_major": 2,
       "version_minor": 0
      },
      "text/plain": [
       "RadioButtons(layout=Layout(width='max-content'), options=('camembert_ner', 'pretrained_camembert_ner'), value=…"
      ]
     },
     "metadata": {},
     "output_type": "display_data"
    }
   ],
   "source": [
    "model_name = widgets.RadioButtons(\n",
    "            options=[\"camembert_ner\",\"pretrained_camembert_ner\"],\n",
    "            layout={'width': 'max-content'}\n",
    "        )\n",
    "model_name"
   ]
  },
  {
   "cell_type": "code",
   "execution_count": 58,
   "id": "025d1f39",
   "metadata": {},
   "outputs": [
    {
     "name": "stdout",
     "output_type": "stream",
     "text": [
      "FORMAT : IO\n",
      "MODEL PATH : /work/stual/res_ICDAR/method_0/tmp/42-flat-ner-pero-ocr-pretrained_camembert_ner/checkpoint-1400\n",
      "SET : OCR\n",
      "MODEL : camembert_ner\n"
     ]
    }
   ],
   "source": [
    "FORMAT = format_.value\n",
    "MODEL = model_name.value\n",
    "\n",
    "if source == \"Local\":\n",
    "    #If using local model\n",
    "    MODEL_PATH = str(OUT_BASE / path.value)\n",
    "elif source == 'Online':\n",
    "    #If using huggingface model\n",
    "    MODEL_PATH = path.value\n",
    "\n",
    "if 'ref' in str(MODEL_PATH):\n",
    "    SET = \"REF\"\n",
    "elif 'ocr' in str(MODEL_PATH):\n",
    "    SET = \"OCR\"\n",
    "\n",
    "print(f\"FORMAT : {FORMAT}\")\n",
    "print(f\"MODEL PATH : {MODEL_PATH}\")\n",
    "print(f\"SET : {SET}\")\n",
    "print(f\"MODEL : {MODEL}\")"
   ]
  },
  {
   "cell_type": "markdown",
   "id": "6fbb597f",
   "metadata": {},
   "source": [
    "## Load data"
   ]
  },
  {
   "cell_type": "markdown",
   "id": "299fc2c1",
   "metadata": {},
   "source": [
    "### Gold"
   ]
  },
  {
   "cell_type": "code",
   "execution_count": 24,
   "id": "2aa81965",
   "metadata": {
    "scrolled": true
   },
   "outputs": [
    {
     "name": "stderr",
     "output_type": "stream",
     "text": [
      "/lrde/home2/stual/.venv/python_3_9/lib/python3.10/site-packages/datasets/dataset_dict.py:1241: FutureWarning: 'fs' was is deprecated in favor of 'storage_options' in version 2.8.0 and will be removed in 3.0.0.\n",
      "You can remove this warning by passing 'storage_options=fs.storage_options' instead.\n",
      "  warnings.warn(\n"
     ]
    },
    {
     "data": {
      "text/plain": [
       "1685"
      ]
     },
     "execution_count": 24,
     "metadata": {},
     "output_type": "execute_result"
    }
   ],
   "source": [
    "import os\n",
    "from pathlib import Path\n",
    "from config import logger\n",
    "from datasets import load_from_disk\n",
    "\n",
    "TRAINSETS_SIZES = [6084] #To train only on the biggest dataset\n",
    "\n",
    "# INPUT / OUTPUT DIRS\n",
    "INPUT_DIR = OUT_BASE / f\"m0-experiment_2_prepared_dataset_pero_ocr_io_camembert_ner_v2\"\n",
    "DATA = INPUT_DIR / f\"huggingface_6084\"\n",
    "\n",
    "train_dev_test = load_from_disk(DATA)\n",
    "test = train_dev_test[\"test\"]\n",
    "len(test)"
   ]
  },
  {
   "cell_type": "code",
   "execution_count": 37,
   "id": "ecd571ee",
   "metadata": {
    "scrolled": true
   },
   "outputs": [
    {
     "data": {
      "text/plain": [
       "1686"
      ]
     },
     "execution_count": 37,
     "metadata": {},
     "output_type": "execute_result"
    }
   ],
   "source": [
    "list_ = sorted(glob.glob(f\"{OUT_BASE}/qualitative_test_sets/*/*.txt\"))\n",
    "for i in range(len(list_)):\n",
    "    list_[i] = list_[i].split('/')\n",
    "    list_[i] = '/'.join(list_[i][-2:])\n",
    "\n",
    "PATH = INPUT_DIR / f'test_entries.txt'\n",
    "with open(PATH, 'r',encoding='utf8') as ex:\n",
    "    lines = ex.read()\n",
    "    lines = lines.split('\\n')\n",
    "len(lines)"
   ]
  },
  {
   "cell_type": "markdown",
   "id": "eaba547f",
   "metadata": {},
   "source": [
    "## Use model on entries"
   ]
  },
  {
   "cell_type": "code",
   "execution_count": 38,
   "id": "4c5b00a0",
   "metadata": {},
   "outputs": [],
   "source": [
    "from transformers import AutoTokenizer, AutoModelForTokenClassification, TokenClassificationPipeline\n",
    "\n",
    "LIMIT = 100\n",
    "\n",
    "tokenizer = AutoTokenizer.from_pretrained(MODEL_PATH)\n",
    "model = AutoModelForTokenClassification.from_pretrained(MODEL_PATH)\n",
    "\n",
    "#Classification des entités\n",
    "nlp = TokenClassificationPipeline(model=model, tokenizer=tokenizer, aggregation_strategy=None, ignore_labels=[''])"
   ]
  },
  {
   "cell_type": "code",
   "execution_count": 40,
   "id": "5e412721",
   "metadata": {},
   "outputs": [
    {
     "name": "stdout",
     "output_type": "stream",
     "text": [
      "1685\n",
      "\n",
      "[]\n"
     ]
    }
   ],
   "source": [
    "from aggregate_predictions import xmlize, group_sub_entities, get_tag, group_entities\n",
    "\n",
    "all_res = []\n",
    "stats = []\n",
    "idx = 0\n",
    "for i in range(len(lines)):\n",
    "    res = nlp(lines[i])\n",
    "    xml = xmlize(lines[i],group_entities(res,tokenizer))\n",
    "    preds_tokens, preds_tags = [],[]\n",
    "    preds_tokens = [d['word'] for d in res]\n",
    "    preds_tags = [f['entity'] for f in res]\n",
    "    try:\n",
    "        assert len(test[i][\"tokens\"]) == len(preds_tokens)\n",
    "        assert len(test[i][\"ner_tags\"]) == len(preds_tags)\n",
    "        stats.append([idx,lines[i],xml,test[i][\"tokens\"],test[i][\"ner_tags\"],preds_tokens,preds_tags])\n",
    "    except:\n",
    "        print(idx)\n",
    "        print(lines[i][:-1])\n",
    "        print(res)\n",
    "    all_res.append(res)\n",
    "    idx+=1"
   ]
  },
  {
   "cell_type": "code",
   "execution_count": 41,
   "id": "3cd552df",
   "metadata": {},
   "outputs": [
    {
     "data": {
      "text/html": [
       "<div>\n",
       "<style scoped>\n",
       "    .dataframe tbody tr th:only-of-type {\n",
       "        vertical-align: middle;\n",
       "    }\n",
       "\n",
       "    .dataframe tbody tr th {\n",
       "        vertical-align: top;\n",
       "    }\n",
       "\n",
       "    .dataframe thead th {\n",
       "        text-align: right;\n",
       "    }\n",
       "</style>\n",
       "<table border=\"1\" class=\"dataframe\">\n",
       "  <thead>\n",
       "    <tr style=\"text-align: right;\">\n",
       "      <th></th>\n",
       "      <th>index</th>\n",
       "      <th>entry</th>\n",
       "      <th>entry_xml</th>\n",
       "      <th>spans_gold</th>\n",
       "      <th>tags_gold</th>\n",
       "      <th>spans_preds</th>\n",
       "      <th>tags_preds</th>\n",
       "    </tr>\n",
       "  </thead>\n",
       "  <tbody>\n",
       "    <tr>\n",
       "      <th>0</th>\n",
       "      <td>0</td>\n",
       "      <td>Aubertin, professeur au lycée Louis-le-Grand, ",
       "...</td>\n",
       "      <td>&lt;PER&gt;Aubertin&lt;/PER&gt;, &lt;ACT&gt;professeur&lt;/ACT&gt; au ...</td>\n",
       "      <td>[▁Au, bert, in, ,, ▁professeur, ▁au, ▁lycée, ▁...</td>\n",
       "      <td>[I-PER, I-PER, I-PER, O, I-ACT, O, O, O, O, O,...</td>\n",
       "      <td>[▁Au, bert, in, ,, ▁professeur, ▁au, ▁lycée, ▁...</td>\n",
       "      <td>[I-PER, I-PER, I-PER, O, I-ACT, O, O, O, O, O,...</td>\n",
       "    </tr>\n",
       "    <tr>\n",
       "      <th>1</th>\n",
       "      <td>1</td>\n",
       "      <td>baints-Peres, . ",
       "Aubertin, représentant du peup...</td>\n",
       "      <td>&lt;PER&gt;baints-Peres,&lt;/PER&gt; .&lt;PER&gt; ",
       "Aubertin&lt;/PER&gt;...</td>\n",
       "      <td>[▁bain, ts, -, Per, es, ,, ▁, ., ▁Au, bert, in...</td>\n",
       "      <td>[O, I-PER, I-PER, I-PER, I-PER, I-PER, I-PER, ...</td>\n",
       "      <td>[▁bain, ts, -, Per, es, ,, ▁, ., ▁Au, bert, in...</td>\n",
       "      <td>[I-PER, I-PER, I-PER, I-PER, I-PER, I-PER, O, ...</td>\n",
       "    </tr>\n",
       "    <tr>\n",
       "      <th>2</th>\n",
       "      <td>2</td>\n",
       "      <td>Aubertin, teinturier - dégraisseur, passage ",
       "Br...</td>\n",
       "      <td>&lt;PER&gt;Aubertin&lt;/PER&gt;&lt;ACT&gt;, teinturier - dégrais...</td>\n",
       "      <td>[▁Au, bert, in, ,, ▁teint, urier, ▁-, ▁dég, ra...</td>\n",
       "      <td>[I-PER, I-PER, I-PER, O, I-ACT, I-ACT, I-ACT, ...</td>\n",
       "      <td>[▁Au, bert, in, ,, ▁teint, urier, ▁-, ▁dég, ra...</td>\n",
       "      <td>[I-PER, I-PER, I-PER, I-ACT, I-ACT, I-ACT, I-A...</td>\n",
       "    </tr>\n",
       "    <tr>\n",
       "      <th>3</th>\n",
       "      <td>3</td>\n",
       "      <td>Aubertin, teinturier-dégraisseur, Faub.-St- ",
       "Ho...</td>\n",
       "      <td>&lt;PER&gt;Aubertin&lt;/PER&gt;&lt;ACT&gt;, teinturier-dégraisse...</td>\n",
       "      <td>[▁Au, bert, in, ,, ▁teint, urier, -, dé, gra, ...</td>\n",
       "      <td>[I-PER, I-PER, I-PER, O, I-ACT, I-ACT, I-ACT, ...</td>\n",
       "      <td>[▁Au, bert, in, ,, ▁teint, urier, -, dé, gra, ...</td>\n",
       "      <td>[I-PER, I-PER, I-PER, I-ACT, I-ACT, I-ACT, I-A...</td>\n",
       "    </tr>\n",
       "    <tr>\n",
       "      <th>4</th>\n",
       "      <td>4</td>\n",
       "      <td>Auberville (Ctesse douairière d&amp;apos;), Grenel...</td>\n",
       "      <td>&lt;PER&gt;Auberville (Ctesse douairière d&amp;apos;),&lt;/...</td>\n",
       "      <td>[▁Au, ber, ville, ▁(, C, t, esse, ▁d, ou, ai, ...</td>\n",
       "      <td>[I-PER, I-PER, I-PER, I-PER, I-PER, I-PER, I-P...</td>\n",
       "      <td>[▁Au, ber, ville, ▁(, C, t, esse, ▁d, ou, ai, ...</td>\n",
       "      <td>[I-PER, I-PER, I-PER, I-PER, I-PER, I-PER, I-P...</td>\n",
       "    </tr>\n",
       "    <tr>\n",
       "      <th>...</th>\n",
       "      <td>...</td>\n",
       "      <td>...</td>\n",
       "      <td>...</td>\n",
       "      <td>...</td>\n",
       "      <td>...</td>\n",
       "      <td>...</td>\n",
       "      <td>...</td>\n",
       "    </tr>\n",
       "    <tr>\n",
       "      <th>1680</th>\n",
       "      <td>1680</td>\n",
       "      <td>Van-Berchem, rue Bergère, 14.</td>\n",
       "      <td>&lt;PER&gt;Van-Berchem&lt;/PER&gt;, &lt;LOC&gt;rue Bergère&lt;/LOC&gt;...</td>\n",
       "      <td>[▁Van, -, B, er, che, m, ,, ▁rue, ▁Berg, ère, ...</td>\n",
       "      <td>[I-PER, I-PER, I-PER, I-PER, I-PER, I-PER, O, ...</td>\n",
       "      <td>[▁Van, -, B, er, che, m, ,, ▁rue, ▁Berg, ère, ...</td>\n",
       "      <td>[I-PER, I-PER, I-PER, I-PER, I-PER, I-PER, O, ...</td>\n",
       "    </tr>\n",
       "    <tr>\n",
       "      <th>1681</th>\n",
       "      <td>1681</td>\n",
       "      <td>Vandamme, comte d&amp;apos;Unsebourg, rue du ",
       "Mont-...</td>\n",
       "      <td>&lt;PER&gt;Vandamme, comte d&lt;/PER&gt;&amp;&lt;PER&gt;apos;Unsebou...</td>\n",
       "      <td>[▁Vand, am, me, ,, ▁comte, ▁d, &amp;, apos, ;, Un,...</td>\n",
       "      <td>[I-PER, I-PER, I-PER, I-PER, I-PER, I-PER, I-P...</td>\n",
       "      <td>[▁Vand, am, me, ,, ▁comte, ▁d, &amp;, apos, ;, Un,...</td>\n",
       "      <td>[I-PER, I-PER, I-PER, I-PER, I-PER, I-PER, O, ...</td>\n",
       "    </tr>\n",
       "    <tr>\n",
       "      <th>1682</th>\n",
       "      <td>1682</td>\n",
       "      <td>Toniges, rue Napoléon, 10.</td>\n",
       "      <td>&lt;PER&gt;Toniges&lt;/PER&gt;, &lt;LOC&gt;rue Napoléon&lt;/LOC&gt;, &lt;...</td>\n",
       "      <td>[▁Ton, ige, s, ,, ▁rue, ▁Napoléon, ,, ▁10, .]</td>\n",
       "      <td>[I-PER, I-PER, I-PER, O, I-LOC, I-LOC, O, I-CA...</td>\n",
       "      <td>[▁Ton, ige, s, ,, ▁rue, ▁Napoléon, ,, ▁10, .]</td>\n",
       "      <td>[I-PER, I-PER, I-PER, O, I-LOC, I-LOC, O, I-CA...</td>\n",
       "    </tr>\n",
       "    <tr>\n",
       "      <th>1683</th>\n",
       "      <td>1683</td>\n",
       "      <td>Torcy (de) , rue de Bourgogne, 34.</td>\n",
       "      <td>&lt;PER&gt;Torcy (de)&lt;/PER&gt; , &lt;LOC&gt;rue de Bourgogne&lt;...</td>\n",
       "      <td>[▁Tor, cy, ▁(, de, ), ▁, ,, ▁rue, ▁de, ▁Bourgo...</td>\n",
       "      <td>[I-PER, I-PER, I-PER, I-PER, I-PER, O, O, I-LO...</td>\n",
       "      <td>[▁Tor, cy, ▁(, de, ), ▁, ,, ▁rue, ▁de, ▁Bourgo...</td>\n",
       "      <td>[I-PER, I-PER, I-PER, I-PER, I-PER, O, O, I-LO...</td>\n",
       "    </tr>\n",
       "    <tr>\n",
       "      <th>1684</th>\n",
       "      <td>1684</td>\n",
       "      <td>Torras, ruę Budaux, 11.</td>\n",
       "      <td>&lt;PER&gt;Torras&lt;/PER&gt;&lt;ACT&gt;, ru&lt;/ACT&gt;&lt;LOC&gt;ę Budaux&lt;...</td>\n",
       "      <td>[▁Tor, ras, ,, ▁ru, &lt;unk&gt;, ▁Bud, aux, ,, ▁11, .]</td>\n",
       "      <td>[I-PER, I-PER, O, I-LOC, I-LOC, I-LOC, I-LOC, ...</td>\n",
       "      <td>[▁Tor, ras, ,, ▁ru, ę, ▁Bud, aux, ,, ▁11, .]</td>\n",
       "      <td>[I-PER, I-PER, I-ACT, I-ACT, I-LOC, I-LOC, I-L...</td>\n",
       "    </tr>\n",
       "  </tbody>\n",
       "</table>\n",
       "<p>1685 rows × 7 columns</p>\n",
       "</div>"
      ],
      "text/plain": [
       "      index                                              entry  \\\n",
       "0         0  Aubertin, professeur au lycée Louis-le-Grand,\n",
       "...   \n",
       "1         1  baints-Peres, .\n",
       "Aubertin, représentant du peup...   \n",
       "2         2  Aubertin, teinturier - dégraisseur, passage\n",
       "Br...   \n",
       "3         3  Aubertin, teinturier-dégraisseur, Faub.-St-\n",
       "Ho...   \n",
       "4         4  Auberville (Ctesse douairière d&apos;), Grenel...   \n",
       "...     ...                                                ...   \n",
       "1680   1680                      Van-Berchem, rue Bergère, 14.   \n",
       "1681   1681  Vandamme, comte d&apos;Unsebourg, rue du\n",
       "Mont-...   \n",
       "1682   1682                         Toniges, rue Napoléon, 10.   \n",
       "1683   1683                 Torcy (de) , rue de Bourgogne, 34.   \n",
       "1684   1684                            Torras, ruę Budaux, 11.   \n",
       "\n",
       "                                              entry_xml  \\\n",
       "0     <PER>Aubertin</PER>, <ACT>professeur</ACT> au ...   \n",
       "1     <PER>baints-Peres,</PER> .<PER>\n",
       "Aubertin</PER>...   \n",
       "2     <PER>Aubertin</PER><ACT>, teinturier - dégrais...   \n",
       "3     <PER>Aubertin</PER><ACT>, teinturier-dégraisse...   \n",
       "4     <PER>Auberville (Ctesse douairière d&apos;),</...   \n",
       "...                                                 ...   \n",
       "1680  <PER>Van-Berchem</PER>, <LOC>rue Bergère</LOC>...   \n",
       "1681  <PER>Vandamme, comte d</PER>&<PER>apos;Unsebou...   \n",
       "1682  <PER>Toniges</PER>, <LOC>rue Napoléon</LOC>, <...   \n",
       "1683  <PER>Torcy (de)</PER> , <LOC>rue de Bourgogne<...   \n",
       "1684  <PER>Torras</PER><ACT>, ru</ACT><LOC>ę Budaux<...   \n",
       "\n",
       "                                             spans_gold  \\\n",
       "0     [▁Au, bert, in, ,, ▁professeur, ▁au, ▁lycée, ▁...   \n",
       "1     [▁bain, ts, -, Per, es, ,, ▁, ., ▁Au, bert, in...   \n",
       "2     [▁Au, bert, in, ,, ▁teint, urier, ▁-, ▁dég, ra...   \n",
       "3     [▁Au, bert, in, ,, ▁teint, urier, -, dé, gra, ...   \n",
       "4     [▁Au, ber, ville, ▁(, C, t, esse, ▁d, ou, ai, ...   \n",
       "...                                                 ...   \n",
       "1680  [▁Van, -, B, er, che, m, ,, ▁rue, ▁Berg, ère, ...   \n",
       "1681  [▁Vand, am, me, ,, ▁comte, ▁d, &, apos, ;, Un,...   \n",
       "1682      [▁Ton, ige, s, ,, ▁rue, ▁Napoléon, ,, ▁10, .]   \n",
       "1683  [▁Tor, cy, ▁(, de, ), ▁, ,, ▁rue, ▁de, ▁Bourgo...   \n",
       "1684   [▁Tor, ras, ,, ▁ru, <unk>, ▁Bud, aux, ,, ▁11, .]   \n",
       "\n",
       "                                              tags_gold  \\\n",
       "0     [I-PER, I-PER, I-PER, O, I-ACT, O, O, O, O, O,...   \n",
       "1     [O, I-PER, I-PER, I-PER, I-PER, I-PER, I-PER, ...   \n",
       "2     [I-PER, I-PER, I-PER, O, I-ACT, I-ACT, I-ACT, ...   \n",
       "3     [I-PER, I-PER, I-PER, O, I-ACT, I-ACT, I-ACT, ...   \n",
       "4     [I-PER, I-PER, I-PER, I-PER, I-PER, I-PER, I-P...   \n",
       "...                                                 ...   \n",
       "1680  [I-PER, I-PER, I-PER, I-PER, I-PER, I-PER, O, ...   \n",
       "1681  [I-PER, I-PER, I-PER, I-PER, I-PER, I-PER, I-P...   \n",
       "1682  [I-PER, I-PER, I-PER, O, I-LOC, I-LOC, O, I-CA...   \n",
       "1683  [I-PER, I-PER, I-PER, I-PER, I-PER, O, O, I-LO...   \n",
       "1684  [I-PER, I-PER, O, I-LOC, I-LOC, I-LOC, I-LOC, ...   \n",
       "\n",
       "                                            spans_preds  \\\n",
       "0     [▁Au, bert, in, ,, ▁professeur, ▁au, ▁lycée, ▁...   \n",
       "1     [▁bain, ts, -, Per, es, ,, ▁, ., ▁Au, bert, in...   \n",
       "2     [▁Au, bert, in, ,, ▁teint, urier, ▁-, ▁dég, ra...   \n",
       "3     [▁Au, bert, in, ,, ▁teint, urier, -, dé, gra, ...   \n",
       "4     [▁Au, ber, ville, ▁(, C, t, esse, ▁d, ou, ai, ...   \n",
       "...                                                 ...   \n",
       "1680  [▁Van, -, B, er, che, m, ,, ▁rue, ▁Berg, ère, ...   \n",
       "1681  [▁Vand, am, me, ,, ▁comte, ▁d, &, apos, ;, Un,...   \n",
       "1682      [▁Ton, ige, s, ,, ▁rue, ▁Napoléon, ,, ▁10, .]   \n",
       "1683  [▁Tor, cy, ▁(, de, ), ▁, ,, ▁rue, ▁de, ▁Bourgo...   \n",
       "1684       [▁Tor, ras, ,, ▁ru, ę, ▁Bud, aux, ,, ▁11, .]   \n",
       "\n",
       "                                             tags_preds  \n",
       "0     [I-PER, I-PER, I-PER, O, I-ACT, O, O, O, O, O,...  \n",
       "1     [I-PER, I-PER, I-PER, I-PER, I-PER, I-PER, O, ...  \n",
       "2     [I-PER, I-PER, I-PER, I-ACT, I-ACT, I-ACT, I-A...  \n",
       "3     [I-PER, I-PER, I-PER, I-ACT, I-ACT, I-ACT, I-A...  \n",
       "4     [I-PER, I-PER, I-PER, I-PER, I-PER, I-PER, I-P...  \n",
       "...                                                 ...  \n",
       "1680  [I-PER, I-PER, I-PER, I-PER, I-PER, I-PER, O, ...  \n",
       "1681  [I-PER, I-PER, I-PER, I-PER, I-PER, I-PER, O, ...  \n",
       "1682  [I-PER, I-PER, I-PER, O, I-LOC, I-LOC, O, I-CA...  \n",
       "1683  [I-PER, I-PER, I-PER, I-PER, I-PER, O, O, I-LO...  \n",
       "1684  [I-PER, I-PER, I-ACT, I-ACT, I-LOC, I-LOC, I-L...  \n",
       "\n",
       "[1685 rows x 7 columns]"
      ]
     },
     "execution_count": 41,
     "metadata": {},
     "output_type": "execute_result"
    }
   ],
   "source": [
    "import pandas as pd\n",
    "\n",
    "columns = [\"index\",\"entry\",\"entry_xml\",\"spans_gold\",\"tags_gold\",\"spans_preds\",\"tags_preds\"]\n",
    "df = pd.DataFrame(stats,columns=columns)\n",
    "df"
   ]
  },
  {
   "cell_type": "markdown",
   "id": "98fd9c68",
   "metadata": {},
   "source": [
    "## F1-Score ranking\n",
    "F1-Score is calculated for each entry using seqeval library :\n",
    "* entities are rebuild using joint-labels with seqeval lib\n",
    "* f1-score is calculted for each entry"
   ]
  },
  {
   "cell_type": "code",
   "execution_count": 42,
   "id": "2f979bfa",
   "metadata": {},
   "outputs": [
    {
     "name": "stdout",
     "output_type": "stream",
     "text": [
      "0\n"
     ]
    }
   ],
   "source": [
    "from seqeval.metrics import f1_score\n",
    "\n",
    "scores = []\n",
    "count = 0\n",
    "for i in range(len(df)):\n",
    "    y_preds = df.iloc[i][\"tags_preds\"]\n",
    "    y_true = df.iloc[i][\"tags_gold\"]\n",
    "    try:\n",
    "        f1 = f1_score([y_true],[y_preds])\n",
    "        scores.append(f1)\n",
    "    except:\n",
    "        count += 1\n",
    "        print(df.iloc[i])\n",
    "print(count)"
   ]
  },
  {
   "cell_type": "code",
   "execution_count": 43,
   "id": "a088604a",
   "metadata": {},
   "outputs": [],
   "source": [
    "df[\"f1\"] = scores\n",
    "df = df.sort_values(by=['f1']).reset_index()\n",
    "del df[\"level_0\"]"
   ]
  },
  {
   "cell_type": "code",
   "execution_count": 44,
   "id": "78b17082",
   "metadata": {},
   "outputs": [
    {
     "data": {
      "text/plain": [
       "Text(0.5, 0.98, 'Entery-scale F1-Score distribution over test set')"
      ]
     },
     "execution_count": 44,
     "metadata": {},
     "output_type": "execute_result"
    },
    {
     "data": {
      "image/png": "[encoded data removed]",
      "text/plain": [
       "<Figure size 432x288 with 1 Axes>"
      ]
     },
     "metadata": {
      "needs_background": "light"
     },
     "output_type": "display_data"
    }
   ],
   "source": [
    "import pylab as pl\n",
    "\n",
    "df.hist(column='f1',bins=40,sharey=True, sharex=True)\n",
    "pl.suptitle('Entery-scale F1-Score distribution over test set')"
   ]
  },
  {
   "cell_type": "markdown",
   "id": "a0b6b85b",
   "metadata": {},
   "source": [
    "### 15-Top worst"
   ]
  },
  {
   "cell_type": "code",
   "execution_count": 45,
   "id": "6ccccc35",
   "metadata": {},
   "outputs": [
    {
     "name": "stdout",
     "output_type": "stream",
     "text": [
      "INDEX 0\n",
      "— ",
      "Bourguignon freres ",
      "A-T-ELDITES, i ",
      "— ",
      " ",
      "R. Notre-Dan ",
      "S\n",
      "—<PER> ",
      "Bourguignon freres ",
      "A-T-ELDITES</PER>, i ",
      "— ",
      "<LOC> ",
      "R. Notre-Dan</LOC> ",
      "S\n",
      "F1-Score : 0.0\n",
      "\n",
      "INDEX 1\n",
      "ET ",
      "H.SEnt ",
      "IFF ",
      "Pif\n",
      "<PER>ET ",
      "H.SEnt</PER><TITRE> ",
      "</TITRE>IFF ",
      "Pif\n",
      "F1-Score : 0.0\n",
      "\n",
      "INDEX 2\n",
      "DRTIELY ",
      "ÉH DOEIENEAH.S. DeN ",
      " ",
      "1E\n",
      "<PER>DRTIELY ",
      "ÉH DOEIENEAH.</PER><TITRE>S.</TITRE> DeN ",
      " ",
      "1E\n",
      "F1-Score : 0.0\n",
      "\n",
      "INDEX 3\n",
      "Davleci HlsiirH,IL. aeTroura restai\n",
      "<PER>Davleci</PER> <TITRE>HlsiirH,IL</TITRE>. aeT<LOC>roura</LOC> restai\n",
      "F1-Score : 0.0\n",
      "\n",
      "INDEX 4\n",
      "W ",
      " ",
      "E ",
      " ",
      "TV1 ",
      "DEen , L DHtave ",
      "114\n",
      "W ",
      " ",
      "E ",
      " ",
      "TV1<PER> ",
      "DEen ,</PER> <TITRE>L</TITRE> DHtave ",
      "114\n",
      "F1-Score : 0.0\n",
      "\n",
      "INDEX 5\n",
      "BaunierpB Pomonnerie slilo.\n",
      "<PER>BaunierpB</PER> <ACT>Pomonnerie slilo</ACT><LOC>.</LOC>\n",
      "F1-Score : 0.0\n",
      "\n",
      "INDEX 6\n",
      "— ",
      "Boyer el. Alary frères (en botte), R. ",
      "*2 ",
      "N.StMeryr 4L. . M . ",
      "2. ",
      "— ",
      "— ",
      "T\n",
      "—<PER> ",
      "Boyer el. Alary frères (en botte),</PER> <TITRE>R. ",
      "*2</TITRE><LOC> ",
      "N.StMeryr</LOC> 4L. . M . ",
      "2. ",
      "— ",
      "— ",
      "T\n",
      "F1-Score : 0.0\n",
      "\n",
      "INDEX 7\n",
      "Chambert (raa) (en sros ",
      " ",
      "venot, 24. ",
      "R. Thé-\n",
      "<PER>Chambert (raa) (</PER><ACT>en sros ",
      " ",
      "venot</ACT>, <CARDINAL>24</CARDINAL>.<LOC> ",
      "R. Thé-</LOC>\n",
      "F1-Score : 0.0\n",
      "\n",
      "INDEX 8\n",
      "Harlet lls (nouuleh modes.)R. des ",
      "Gosses Monitmatare;: ",
      "A\n",
      "<PER>Harlet ll</PER><ACT>s (nouuleh modes.)</ACT><LOC>R. des ",
      "Gosses Monitmatare</LOC>;: ",
      "A\n",
      "F1-Score : 0.0\n",
      "\n",
      "INDEX 9\n",
      "Hertant. R. Č. Sauveur.\n",
      "<PER>Hertant.</PER> <LOC>R. Č. Sauveur.</LOC>\n",
      "F1-Score : 0.0\n",
      "\n",
      "INDEX 10\n",
      "DeHIAIJUHHedve(RN DEHTe ",
      "LEF\n",
      "<PER>DeHIAIJUHHedve(RN</PER> DEHTe ",
      "LEF\n",
      "F1-Score : 0.0\n",
      "\n",
      "INDEX 11\n",
      "FiRion (H, ",
      "pla ce des ",
      " compl ",
      "Victoires ",
      " ",
      "gétoff es\n",
      "<PER>FiRion (H,</PER><ACT> ",
      "pla ce des ",
      " compl</ACT><LOC> ",
      "Victoires ",
      " ",
      "gétoff</LOC> es\n",
      "F1-Score : 0.0\n",
      "\n",
      "INDEX 12\n",
      "Chenavard ( manuf d&apos;élof nouo. ",
      "1 ",
      "lii de ThorIgI1 ",
      "E ",
      ")7\n",
      "<PER>Chenavard (</PER> <ACT>manuf d</ACT>&<ACT>apos;élof</ACT> nouo. ",
      "1 ",
      "lii de ThorIgI1 ",
      "E ",
      ")7\n",
      "F1-Score : 0.0\n",
      "\n",
      "INDEX 13\n",
      "Neuhansel [hernacheur) ; R. du ",
      "r 12 ",
      "BeHuVIN\n",
      "<PER>Neuhansel [hernacheur)</PER> ; <LOC>R. du ",
      "r</LOC> 12 ",
      "BeHuVIN\n",
      "F1-Score : 0.0\n",
      "\n",
      "INDEX 14\n",
      "R H.  ",
      "Horang cadel ",
      "25. ",
      "Ghenet ",
      " ",
      " ",
      "du GFos- ",
      "E ",
      "&quot;\n",
      "R <PER>H.  ",
      "Horang</PER> <ACT>cadel ",
      "25</ACT>.<LOC> ",
      "Ghenet ",
      " ",
      " ",
      "du GFos-</LOC> ",
      "E ",
      "&quot;\n",
      "F1-Score : 0.0\n",
      "\n",
      "INDEX 15\n",
      "17 ",
      "Hpnariug Etaees a aparanue ",
      " du Trih ",
      "a de pierresprlop. ",
      "r ",
      "Fu ",
      "Par ",
      "--\n",
      "17<PER> ",
      "Hpnariug Etaees</PER> a aparanue ",
      " du <ACT>Trih ",
      "a de pierres</ACT>pr<ACT>lop</ACT>.<LOC> ",
      "r ",
      "Fu ",
      "Par</LOC> ",
      "--\n",
      "F1-Score : 0.0\n",
      "\n"
     ]
    }
   ],
   "source": [
    "for i in range(0,16):\n",
    "    print(f\"INDEX {i}\")\n",
    "    print(df.iloc[i][\"entry\"])\n",
    "    print(df.iloc[i][\"entry_xml\"])\n",
    "    print(f\"F1-Score : {df.iloc[i]['f1']}\")\n",
    "    print(\"\")"
   ]
  },
  {
   "cell_type": "markdown",
   "id": "f28b631e",
   "metadata": {},
   "source": [
    "### 15-Top best"
   ]
  },
  {
   "cell_type": "code",
   "execution_count": 46,
   "id": "cc515768",
   "metadata": {},
   "outputs": [
    {
     "name": "stdout",
     "output_type": "stream",
     "text": [
      "Aubertin, professeur au lycée Louis-le-Grand, ",
      "Saints-Pères, 7.\n",
      "<PER>Aubertin</PER>, <ACT>professeur</ACT> au lycée Louis-le-Grand,<LOC> ",
      "Saints-Pères</LOC>, <CARDINAL>7</CARDINAL>.\n",
      "F1-Score : 1.0\n",
      "\n",
      "Thierry , rue de Grenelle-Saint-Ger- ",
      "main, 27.\n",
      "<PER>Thierry</PER> , <LOC>rue de Grenelle-Saint-Ger- ",
      "main</LOC>, <CARDINAL>27</CARDINAL>.\n",
      "F1-Score : 1.0\n",
      "\n",
      "Boutreux, avenue de Saxe, 8.\n",
      "<PER>Boutreux</PER>, <LOC>avenue de Saxe</LOC>, <CARDINAL>8</CARDINAL>.\n",
      "F1-Score : 1.0\n",
      "\n",
      "Turgot , rue Saint-Lazare, 58.\n",
      "<PER>Turgot</PER> , <LOC>rue Saint-Lazare</LOC>, <CARDINAL>58</CARDINAL>.\n",
      "F1-Score : 1.0\n",
      "\n",
      "Briollet, St-Lazare, ",
      "106.\n",
      "<PER>Briollet</PER>, <LOC>St-Lazare</LOC>,<CARDINAL> ",
      "106</CARDINAL>.\n",
      "F1-Score : 1.0\n",
      "\n",
      "Texier, rue Saint-Lazare , 80.\n",
      "<PER>Texier</PER>, <LOC>rue Saint-Lazare</LOC> , <CARDINAL>80</CARDINAL>.\n",
      "F1-Score : 1.0\n",
      "\n",
      "Deschamps, Chevert, 15.\n",
      "<PER>Deschamps</PER>, <LOC>Chevert</LOC>, <CARDINAL>15</CARDINAL>.\n",
      "F1-Score : 1.0\n",
      "\n",
      "Torras, rue du Mont-Blanc , 28.\n",
      "<PER>Torras</PER>, <LOC>rue du Mont-Blanc</LOC> , <CARDINAL>28</CARDINAL>.\n",
      "F1-Score : 1.0\n",
      "\n",
      "Houdart, Montreuil, 82.\n",
      "<PER>Houdart</PER>, <LOC>Montreuil</LOC>, <CARDINAL>82</CARDINAL>.\n",
      "F1-Score : 1.0\n",
      "\n",
      "Bonnin, St-Dom.-St-Germ., 183.\n",
      "<PER>Bonnin</PER>, <LOC>St-Dom.-St-Germ.</LOC>, <CARDINAL>18</CARDINAL>3.\n",
      "F1-Score : 1.0\n",
      "\n",
      "Huard, Loursine, 74.\n",
      "<PER>Huard</PER>, <LOC>Loursine</LOC>, <CARDINAL>74</CARDINAL>.\n",
      "F1-Score : 1.0\n",
      "\n",
      "Thevenin fils, rue de Lille , 21.\n",
      "<PER>Thevenin fils</PER>, <LOC>rue de Lille</LOC> , <CARDINAL>21</CARDINAL>.\n",
      "F1-Score : 1.0\n",
      "\n",
      "Bernard, Enfer, 124\n",
      "<PER>Bernard</PER>, <LOC>Enfer</LOC>, <CARDINAL>124</CARDINAL>\n",
      "F1-Score : 1.0\n",
      "\n",
      "Laine, Muette, ",
      "10.\n",
      "<PER>Laine</PER>, <LOC>Muette</LOC>,<CARDINAL> ",
      "10</CARDINAL>.\n",
      "F1-Score : 1.0\n",
      "\n",
      "Thébaux, (D.lle) Thébaux , rue Va- ",
      "rennes, 6.\n",
      "<PER>Thébaux, (D.lle) Thébaux</PER> , <LOC>rue Va- ",
      "rennes</LOC>, <CARDINAL>6</CARDINAL>.\n",
      "F1-Score : 1.0\n",
      "\n",
      "Thayer, rue Saint-Marc , 10.\n",
      "<PER>Thayer</PER>, <LOC>rue Saint-Marc</LOC> , <CARDINAL>10</CARDINAL>.\n",
      "F1-Score : 1.0\n",
      "\n"
     ]
    }
   ],
   "source": [
    "rdf = df.sort_values(by='f1', ascending=False)\n",
    "for i in range(0,16):\n",
    "    print(rdf.iloc[i][\"entry\"])\n",
    "    print(rdf.iloc[i][\"entry_xml\"])\n",
    "    print(f\"F1-Score : {rdf.iloc[i]['f1']}\")\n",
    "    print(\"\")"
   ]
  },
  {
   "cell_type": "markdown",
   "id": "bb1581a2",
   "metadata": {},
   "source": [
    "## Sub-word global analysis"
   ]
  },
  {
   "cell_type": "code",
   "execution_count": 47,
   "id": "336e5dcc",
   "metadata": {},
   "outputs": [
    {
     "data": {
      "text/html": [
       "<div>\n",
       "<style scoped>\n",
       "    .dataframe tbody tr th:only-of-type {\n",
       "        vertical-align: middle;\n",
       "    }\n",
       "\n",
       "    .dataframe tbody tr th {\n",
       "        vertical-align: top;\n",
       "    }\n",
       "\n",
       "    .dataframe thead th {\n",
       "        text-align: right;\n",
       "    }\n",
       "</style>\n",
       "<table border=\"1\" class=\"dataframe\">\n",
       "  <thead>\n",
       "    <tr style=\"text-align: right;\">\n",
       "      <th></th>\n",
       "      <th>ACT</th>\n",
       "      <th>CARDINAL</th>\n",
       "      <th>FT</th>\n",
       "      <th>LOC</th>\n",
       "      <th>PER</th>\n",
       "      <th>TITRE</th>\n",
       "      <th>O</th>\n",
       "    </tr>\n",
       "  </thead>\n",
       "  <tbody>\n",
       "    <tr>\n",
       "      <th>ACT</th>\n",
       "      <td>91.211790</td>\n",
       "      <td>0.000000</td>\n",
       "      <td>0.018195</td>\n",
       "      <td>1.109898</td>\n",
       "      <td>2.601892</td>\n",
       "      <td>0.036390</td>\n",
       "      <td>5.021834</td>\n",
       "    </tr>\n",
       "    <tr>\n",
       "      <th>CARDINAL</th>\n",
       "      <td>0.107411</td>\n",
       "      <td>94.307197</td>\n",
       "      <td>0.000000</td>\n",
       "      <td>0.268528</td>\n",
       "      <td>0.000000</td>\n",
       "      <td>0.000000</td>\n",
       "      <td>5.316864</td>\n",
       "    </tr>\n",
       "    <tr>\n",
       "      <th>FT</th>\n",
       "      <td>24.489796</td>\n",
       "      <td>2.040816</td>\n",
       "      <td>18.367347</td>\n",
       "      <td>2.040816</td>\n",
       "      <td>0.000000</td>\n",
       "      <td>0.000000</td>\n",
       "      <td>53.061224</td>\n",
       "    </tr>\n",
       "    <tr>\n",
       "      <th>LOC</th>\n",
       "      <td>0.715386</td>\n",
       "      <td>0.011006</td>\n",
       "      <td>0.000000</td>\n",
       "      <td>97.149461</td>\n",
       "      <td>0.264143</td>\n",
       "      <td>0.187101</td>\n",
       "      <td>1.672903</td>\n",
       "    </tr>\n",
       "    <tr>\n",
       "      <th>PER</th>\n",
       "      <td>0.360065</td>\n",
       "      <td>0.000000</td>\n",
       "      <td>0.000000</td>\n",
       "      <td>0.261866</td>\n",
       "      <td>97.855974</td>\n",
       "      <td>0.130933</td>\n",
       "      <td>1.391162</td>\n",
       "    </tr>\n",
       "    <tr>\n",
       "      <th>TITRE</th>\n",
       "      <td>6.886228</td>\n",
       "      <td>0.299401</td>\n",
       "      <td>0.000000</td>\n",
       "      <td>0.000000</td>\n",
       "      <td>6.287425</td>\n",
       "      <td>62.574850</td>\n",
       "      <td>23.952096</td>\n",
       "    </tr>\n",
       "    <tr>\n",
       "      <th>O</th>\n",
       "      <td>25.828399</td>\n",
       "      <td>0.844148</td>\n",
       "      <td>0.000000</td>\n",
       "      <td>4.321532</td>\n",
       "      <td>2.645836</td>\n",
       "      <td>0.214187</td>\n",
       "      <td>66.145899</td>\n",
       "    </tr>\n",
       "  </tbody>\n",
       "</table>\n",
       "</div>"
      ],
      "text/plain": [
       "                ACT   CARDINAL         FT        LOC        PER      TITRE  \\\n",
       "ACT       91.211790   0.000000   0.018195   1.109898   2.601892   0.036390   \n",
       "CARDINAL   0.107411  94.307197   0.000000   0.268528   0.000000   0.000000   \n",
       "FT        24.489796   2.040816  18.367347   2.040816   0.000000   0.000000   \n",
       "LOC        0.715386   0.011006   0.000000  97.149461   0.264143   0.187101   \n",
       "PER        0.360065   0.000000   0.000000   0.261866  97.855974   0.130933   \n",
       "TITRE      6.886228   0.299401   0.000000   0.000000   6.287425  62.574850   \n",
       "O         25.828399   0.844148   0.000000   4.321532   2.645836   0.214187   \n",
       "\n",
       "                  O  \n",
       "ACT        5.021834  \n",
       "CARDINAL   5.316864  \n",
       "FT        53.061224  \n",
       "LOC        1.672903  \n",
       "PER        1.391162  \n",
       "TITRE     23.952096  \n",
       "O         66.145899  "
      ]
     },
     "execution_count": 47,
     "metadata": {},
     "output_type": "execute_result"
    }
   ],
   "source": [
    "flat_preds = []\n",
    "flat_labels = []\n",
    "for i in range(len(df)):\n",
    "    flat_preds += df[\"tags_preds\"][i]\n",
    "    flat_labels += df[\"tags_gold\"][i]\n",
    "flat_preds = pd.Series(flat_preds, name=\"Predictions\")\n",
    "flat_labels = pd.Series(flat_labels, name=\"Gold\")\n",
    "\n",
    "global_confusion = pd.crosstab(flat_labels, flat_preds,normalize='index').multiply(100., axis=1)\n",
    "global_confusion.columns = ['ACT','CARDINAL','FT','LOC','PER','TITRE','O']\n",
    "global_confusion.index = ['ACT','CARDINAL','FT','LOC','PER','TITRE','O']\n",
    "global_confusion"
   ]
  },
  {
   "cell_type": "code",
   "execution_count": 48,
   "id": "605f65eb",
   "metadata": {},
   "outputs": [
    {
     "name": "stdout",
     "output_type": "stream",
     "text": [
      "Confusion matrix of reference and predicted tokens types.\n",
      "Values are normalized by row (percentage of each reference classe and its resultants predictions)\n",
      "Last row represent percentage of each class in gold.\n"
     ]
    },
    {
     "data": {
      "image/png": "[encoded data removed]",
      "text/plain": [
       "<Figure size 2448x1152 with 1 Axes>"
      ]
     },
     "metadata": {
      "needs_background": "light"
     },
     "output_type": "display_data"
    }
   ],
   "source": [
    "import pandas as pd\n",
    "import numpy as np\n",
    "import matplotlib.pyplot as plt\n",
    "import seaborn as sns\n",
    "\n",
    "#Init figure\n",
    "plt.figure(figsize=(34, 16))\n",
    "\n",
    "#Create heatmap\n",
    "snsfig = sns.heatmap(\n",
    "    global_confusion, \n",
    "    annot = True, #Display labels\n",
    "    cmap=sns.color_palette(\"rocket_r\", as_cmap=True), #Color\n",
    "    fmt=\".1f\",\n",
    "    cbar=False,\n",
    "    annot_kws={\"fontsize\":40}\n",
    ")\n",
    "\n",
    "#Rename label axis and set their style\n",
    "plt.xlabel('Predictions',weight = 'bold',fontsize=35) # x-axis label with fontsize 15\n",
    "plt.ylabel('Gold',weight = 'bold',fontsize=35) # y-axis label with fontsize 15\n",
    "\n",
    "#Set x labels position to top\n",
    "snsfig.xaxis.tick_top()\n",
    "snsfig.xaxis.set_label_position('top')\n",
    "\n",
    "#Rotate y ticks horizontaly\n",
    "plt.yticks(rotation=0) \n",
    "\n",
    "#Change ticks size\n",
    "snsfig.set_xticklabels(snsfig.get_xmajorticklabels(), fontsize = 32)\n",
    "snsfig.set_yticklabels(snsfig.get_ymajorticklabels(), fontsize = 32)\n",
    "\n",
    "print(\"Confusion matrix of reference and predicted tokens types.\")\n",
    "print(\"Values are normalized by row (percentage of each reference classe and its resultants predictions)\")\n",
    "print(\"Last row represent percentage of each class in gold.\")\n",
    "\n",
    "plt.show()\n",
    "\n",
    "#Save figure\n",
    "fig = snsfig.get_figure()\n",
    "fig.tight_layout()\n",
    "fig.savefig(f\"./tokenscaleanalysis-{MODEL}-{SET}-{FORMAT}.pdf\") "
   ]
  },
  {
   "cell_type": "markdown",
   "id": "b7f9342a",
   "metadata": {},
   "source": [
    "## Entry scale analysis"
   ]
  },
  {
   "cell_type": "markdown",
   "id": "987574e1",
   "metadata": {},
   "source": [
    "Please choose one entry giving its index to perform an entry scale analysis :"
   ]
  },
  {
   "cell_type": "code",
   "execution_count": 49,
   "id": "7ad6d020",
   "metadata": {},
   "outputs": [],
   "source": [
    "i = 15"
   ]
  },
  {
   "cell_type": "code",
   "execution_count": 50,
   "id": "cbca834a",
   "metadata": {
    "scrolled": true
   },
   "outputs": [
    {
     "name": "stdout",
     "output_type": "stream",
     "text": [
      "17 ",
      "Hpnariug Etaees a aparanue ",
      " du Trih ",
      "a de pierresprlop. ",
      "r ",
      "Fu ",
      "Par ",
      "--\n",
      "17<PER> ",
      "Hpnariug Etaees</PER> a aparanue ",
      " du <ACT>Trih ",
      "a de pierres</ACT>pr<ACT>lop</ACT>.<LOC> ",
      "r ",
      "Fu ",
      "Par</LOC> ",
      "--\n"
     ]
    }
   ],
   "source": [
    "print(df.iloc[i][\"entry\"])\n",
    "print(df.iloc[i][\"entry_xml\"])"
   ]
  },
  {
   "cell_type": "code",
   "execution_count": 51,
   "id": "5f8275b1",
   "metadata": {},
   "outputs": [
    {
     "name": "stdout",
     "output_type": "stream",
     "text": [
      "              precision    recall  f1-score   support\n",
      "\n",
      "         ACT       0.00      0.00      0.00         1\n",
      "    CARDINAL       0.00      0.00      0.00         1\n",
      "         LOC       0.00      0.00      0.00         1\n",
      "         PER       0.00      0.00      0.00         1\n",
      "\n",
      "   micro avg       0.00      0.00      0.00         4\n",
      "   macro avg       0.00      0.00      0.00         4\n",
      "weighted avg       0.00      0.00      0.00         4\n",
      "\n"
     ]
    },
    {
     "name": "stderr",
     "output_type": "stream",
     "text": [
      "/lrde/home2/stual/.venv/python_3_9/lib/python3.10/site-packages/seqeval/metrics/v1.py:57: UndefinedMetricWarning: Precision and F-score are ill-defined and being set to 0.0 in labels with no predicted samples. Use `zero_division` parameter to control this behavior.\n",
      "  _warn_prf(average, modifier, msg_start, len(result))\n"
     ]
    }
   ],
   "source": [
    "from seqeval.metrics import classification_report\n",
    "\n",
    "y_preds = df.iloc[i][\"tags_preds\"]\n",
    "y_true = df.iloc[i][\"tags_gold\"]\n",
    "print(classification_report([y_true],[y_preds]))"
   ]
  },
  {
   "cell_type": "code",
   "execution_count": 52,
   "id": "c619eaf8",
   "metadata": {},
   "outputs": [
    {
     "data": {
      "text/html": [
       "<div>\n",
       "<style scoped>\n",
       "    .dataframe tbody tr th:only-of-type {\n",
       "        vertical-align: middle;\n",
       "    }\n",
       "\n",
       "    .dataframe tbody tr th {\n",
       "        vertical-align: top;\n",
       "    }\n",
       "\n",
       "    .dataframe thead th {\n",
       "        text-align: right;\n",
       "    }\n",
       "</style>\n",
       "<table border=\"1\" class=\"dataframe\">\n",
       "  <thead>\n",
       "    <tr style=\"text-align: right;\">\n",
       "      <th>Predictions</th>\n",
       "      <th>I-ACT</th>\n",
       "      <th>I-LOC</th>\n",
       "      <th>I-PER</th>\n",
       "      <th>O</th>\n",
       "    </tr>\n",
       "    <tr>\n",
       "      <th>Gold</th>\n",
       "      <th></th>\n",
       "      <th></th>\n",
       "      <th></th>\n",
       "      <th></th>\n",
       "    </tr>\n",
       "  </thead>\n",
       "  <tbody>\n",
       "    <tr>\n",
       "      <th>I-ACT</th>\n",
       "      <td>0</td>\n",
       "      <td>0</td>\n",
       "      <td>4</td>\n",
       "      <td>5</td>\n",
       "    </tr>\n",
       "    <tr>\n",
       "      <th>I-CARDINAL</th>\n",
       "      <td>0</td>\n",
       "      <td>1</td>\n",
       "      <td>0</td>\n",
       "      <td>0</td>\n",
       "    </tr>\n",
       "    <tr>\n",
       "      <th>I-LOC</th>\n",
       "      <td>5</td>\n",
       "      <td>0</td>\n",
       "      <td>0</td>\n",
       "      <td>1</td>\n",
       "    </tr>\n",
       "    <tr>\n",
       "      <th>I-PER</th>\n",
       "      <td>0</td>\n",
       "      <td>0</td>\n",
       "      <td>4</td>\n",
       "      <td>0</td>\n",
       "    </tr>\n",
       "    <tr>\n",
       "      <th>O</th>\n",
       "      <td>1</td>\n",
       "      <td>2</td>\n",
       "      <td>1</td>\n",
       "      <td>5</td>\n",
       "    </tr>\n",
       "  </tbody>\n",
       "</table>\n",
       "</div>"
      ],
      "text/plain": [
       "Predictions  I-ACT  I-LOC  I-PER  O\n",
       "Gold                               \n",
       "I-ACT            0      0      4  5\n",
       "I-CARDINAL       0      1      0  0\n",
       "I-LOC            5      0      0  1\n",
       "I-PER            0      0      4  0\n",
       "O                1      2      1  5"
      ]
     },
     "execution_count": 52,
     "metadata": {},
     "output_type": "execute_result"
    }
   ],
   "source": [
    "import pandas as pd\n",
    "import numpy as np\n",
    "import matplotlib.pyplot as plt\n",
    "import seaborn as sns\n",
    "\n",
    "y_true = pd.Series(df[\"tags_gold\"].iloc[i], name='Gold')\n",
    "y_pred = pd.Series(df[\"tags_preds\"].iloc[i], name='Predictions')\n",
    "entry_confusion = pd.crosstab(y_true, y_pred)\n",
    "entry_confusion"
   ]
  },
  {
   "cell_type": "code",
   "execution_count": 53,
   "id": "582e2077",
   "metadata": {},
   "outputs": [
    {
     "name": "stdout",
     "output_type": "stream",
     "text": [
      "Confusion matrix of reference and predicted tokens types.\n"
     ]
    },
    {
     "data": {
      "image/png": "[encoded data removed]",
      "text/plain": [
       "<Figure size 2448x1152 with 1 Axes>"
      ]
     },
     "metadata": {
      "needs_background": "light"
     },
     "output_type": "display_data"
    }
   ],
   "source": [
    "plt.figure(figsize=(34, 16))\n",
    "\n",
    "#Create heatmap\n",
    "snsfig = sns.heatmap(\n",
    "    entry_confusion, \n",
    "    annot = True, #Display labels\n",
    "    cmap=sns.color_palette(\"rocket_r\", as_cmap=True), #Color\n",
    "    fmt=\"g\",\n",
    "    cbar=False,\n",
    "    annot_kws={\"fontsize\":40}\n",
    ")\n",
    "\n",
    "#Rename label axis and set their style\n",
    "plt.xlabel('Predictions',weight = 'bold',fontsize=25) # x-axis label with fontsize 15\n",
    "plt.ylabel('Gold',weight = 'bold',fontsize=25) # y-axis label with fontsize 15\n",
    "\n",
    "#Set x labels position to top\n",
    "snsfig.xaxis.tick_top()\n",
    "snsfig.xaxis.set_label_position('top')\n",
    "\n",
    "#Rotate y ticks horizontaly\n",
    "plt.yticks(rotation=0) \n",
    "\n",
    "#Change ticks size\n",
    "snsfig.set_xticklabels(snsfig.get_xmajorticklabels(), fontsize = 40)\n",
    "snsfig.set_yticklabels(snsfig.get_ymajorticklabels(), fontsize = 40)\n",
    "\n",
    "print(\"Confusion matrix of reference and predicted tokens types.\")\n",
    "\n",
    "plt.show()\n",
    "\n",
    "#Save figure\n",
    "fig = snsfig.get_figure()"
   ]
  }
 ],
 "metadata": {
  "kernelspec": {
   "display_name": "Python 3 (ipykernel)",
   "language": "python",
   "name": "python3"
  },
  "language_info": {
   "codemirror_mode": {
    "name": "ipython",
    "version": 3
   },
   "file_extension": ".py",
   "mimetype": "text/x-python",
   "name": "python",
   "nbconvert_exporter": "python",
   "pygments_lexer": "ipython3",
   "version": "3.10.8"
  }
 },
 "nbformat": 4,
 "nbformat_minor": 5
}
