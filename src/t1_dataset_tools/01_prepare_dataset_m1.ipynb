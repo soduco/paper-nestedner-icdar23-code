{
 "cells": [
  {
   "cell_type": "markdown",
   "id": "37ed2889",
   "metadata": {},
   "source": [
    "# 01 - Create test subset in Brat Standoff format"
   ]
  },
  {
   "cell_type": "code",
   "execution_count": 1,
   "id": "399fa92a",
   "metadata": {},
   "outputs": [
    {
     "name": "stdout",
     "output_type": "stream",
     "text": [
      "1\n"
     ]
    }
   ],
   "source": [
    "import os\n",
    "\n",
    "os.environ[\"CUDA_VISIBLE_DEVICES\"] = \"1\" #Numéro GPU\n",
    "print(os.environ[\"CUDA_VISIBLE_DEVICES\"])"
   ]
  },
  {
   "cell_type": "code",
   "execution_count": 2,
   "id": "0e85d9bd",
   "metadata": {},
   "outputs": [
    {
     "name": "stdout",
     "output_type": "stream",
     "text": [
      "['/lrde/home2/stual/stage_DAS/t1_dataset_tools', '/usr/lib/python310.zip', '/usr/lib/python3.10', '/usr/lib/python3.10/lib-dynload', '', '/lrde/home2/stual/.venv/python_3_9/lib/python3.10/site-packages']\n",
      "/lrde/home2/stual/stage_DAS/t1_dataset_tools\n",
      "/work/stual/dataset_ICDAR\n",
      "/work/stual/res_ICDAR/method_1\n"
     ]
    }
   ],
   "source": [
    "import os, sys\n",
    "from pathlib import Path\n",
    "\n",
    "ENV_IS_GOOGLE_COLAB = True if 'google.colab' in str(get_ipython()) else False\n",
    "os.environ[\"ENV_IS_GOOGLE_COLAB\"] = str(ENV_IS_GOOGLE_COLAB)\n",
    "\n",
    "if ENV_IS_GOOGLE_COLAB:\n",
    "  from google.colab import drive\n",
    "  mountpoint = Path(\"/content/drive\")\n",
    "  drive.mount(str(mountpoint)) # Mount gdrive to BASE\n",
    "  base = mountpoint / \"MyDrive/article_icdar_2023\" # Adapt this to your situation\n",
    "  sys.path.append(str(base)) # Add BASE to Python Path\n",
    "  BASE = Path(base).resolve() # Make BASE absolute\n",
    "  DATASETS =  BASE / \"dataset\"\n",
    "else:\n",
    "  BASE = Path(os.path.dirname(os.path.realpath(\"__file__\"))).resolve() # If not on GColab, BASE will be the directory of this notebook\n",
    "  DATASETS = Path('/work/stual/dataset_ICDAR').resolve()\n",
    "  OUT_BASE = Path('/work/stual/res_ICDAR/method_1').resolve()\n",
    "\n",
    "print(sys.path)\n",
    "print(BASE)\n",
    "print(DATASETS)\n",
    "print(OUT_BASE)"
   ]
  },
  {
   "cell_type": "code",
   "execution_count": 3,
   "id": "6a15a0b5",
   "metadata": {},
   "outputs": [],
   "source": [
    "CREATE_REF_IO = True\n",
    "CREATE_REF_IOB2 = True\n",
    "CREATE_PERO_IO = True\n",
    "CREATE_PERO_IOB2 = True"
   ]
  },
  {
   "cell_type": "code",
   "execution_count": 4,
   "id": "33d0735e",
   "metadata": {},
   "outputs": [],
   "source": [
    "MODEL_NAME = 'pretrained_camembert_ner'\n",
    "#pretrained_camembert_ner"
   ]
  },
  {
   "cell_type": "code",
   "execution_count": 5,
   "id": "9a88a37c",
   "metadata": {},
   "outputs": [],
   "source": [
    "import glob\n",
    "import re\n",
    "import json\n",
    "import pandas as pd\n",
    "import config\n",
    "import os\n",
    "from pathlib import Path\n",
    "\n",
    "config.SPLIT_SEED = 42 # Random seed used in train/dev/test. Do not change it if you want to recreate the paper results.\n",
    "config.DEBUG = False # If true, text versions of the spacy datasets will be saved along with the .spacy files."
   ]
  },
  {
   "cell_type": "markdown",
   "id": "6fafb5f7",
   "metadata": {},
   "source": [
    "## 01.1 Reference data"
   ]
  },
  {
   "cell_type": "code",
   "execution_count": 6,
   "id": "83ad6402",
   "metadata": {},
   "outputs": [],
   "source": [
    "#Sanity check\n",
    "DATA = DATASETS / \"51-brat_ner_ref_from_pero/\"\n",
    "f = open(f\"{DATA}/all_brat.json\")\n",
    "data = json.load(f)\n",
    "f.close()"
   ]
  },
  {
   "cell_type": "code",
   "execution_count": 7,
   "id": "ff67ddb1",
   "metadata": {},
   "outputs": [
    {
     "data": {
      "text/html": [
       "<div>\n",
       "<style scoped>\n",
       "    .dataframe tbody tr th:only-of-type {\n",
       "        vertical-align: middle;\n",
       "    }\n",
       "\n",
       "    .dataframe tbody tr th {\n",
       "        vertical-align: top;\n",
       "    }\n",
       "\n",
       "    .dataframe thead th {\n",
       "        text-align: right;\n",
       "    }\n",
       "</style>\n",
       "<table border=\"1\" class=\"dataframe\">\n",
       "  <thead>\n",
       "    <tr style=\"text-align: right;\">\n",
       "      <th></th>\n",
       "      <th>id</th>\n",
       "      <th>box</th>\n",
       "      <th>book</th>\n",
       "      <th>page</th>\n",
       "      <th>valid_box</th>\n",
       "      <th>text_ocr</th>\n",
       "      <th>ner_xml</th>\n",
       "      <th>nested_ner_xml</th>\n",
       "      <th>brat</th>\n",
       "    </tr>\n",
       "  </thead>\n",
       "  <tbody>\n",
       "    <tr>\n",
       "      <th>0</th>\n",
       "      <td>290</td>\n",
       "      <td>[125.49036875669651, 357.68003651377927, 386.0...</td>\n",
       "      <td>Bottin1_1820</td>\n",
       "      <td>107</td>\n",
       "      <td>True</td>\n",
       "      <td>Dufant (Victor), libraire, r. du Gros-Che-\\nne...</td>\n",
       "      <td>&lt;PER&gt;Dufant (Victor)&lt;/PER&gt;, &lt;ACT&gt;libraire&lt;/ACT...</td>\n",
       "      <td>&lt;PER&gt;Dufant (Victor)&lt;/PER&gt;, &lt;ACT&gt;libraire&lt;/ACT...</td>\n",
       "      <td>[Dufant (Victor), libraire, r. du Gros-Che- ",
       "ne...</td>\n",
       "    </tr>\n",
       "    <tr>\n",
       "      <th>1</th>\n",
       "      <td>292</td>\n",
       "      <td>[127.0, 398.61236450520784, 387.0, 40.38763549...</td>\n",
       "      <td>Bottin1_1820</td>\n",
       "      <td>107</td>\n",
       "      <td>True</td>\n",
       "      <td>Dufay, essayeur du commerce, place Dau-\\nphine...</td>\n",
       "      <td>&lt;PER&gt;Dufay&lt;/PER&gt;, &lt;ACT&gt;essayeur du commerce&lt;/A...</td>\n",
       "      <td>&lt;PER&gt;Dufay&lt;/PER&gt;, &lt;ACT&gt;essayeur du commerce&lt;/A...</td>\n",
       "      <td>[Dufay, essayeur du commerce, place Dau- ",
       "phine...</td>\n",
       "    </tr>\n",
       "    <tr>\n",
       "      <th>2</th>\n",
       "      <td>294</td>\n",
       "      <td>[124.46245769617323, 436.6867055467269, 388.52...</td>\n",
       "      <td>Bottin1_1820</td>\n",
       "      <td>107</td>\n",
       "      <td>True</td>\n",
       "      <td>Dulay, chandronnier, r. du Pont- aux\\nChoux, 1...</td>\n",
       "      <td>&lt;PER&gt;Dulay&lt;/PER&gt;, &lt;ACT&gt;chandronnier&lt;/ACT&gt;, &lt;LO...</td>\n",
       "      <td>&lt;PER&gt;Dulay&lt;/PER&gt;, &lt;ACT&gt;chandronnier&lt;/ACT&gt;, &lt;SP...</td>\n",
       "      <td>[Dulay, chandronnier, r. du Pont- aux ",
       "Choux, 1...</td>\n",
       "    </tr>\n",
       "    <tr>\n",
       "      <th>3</th>\n",
       "      <td>298</td>\n",
       "      <td>[122.96782088243424, 476.6769851466119, 388.0,...</td>\n",
       "      <td>Bottin1_1820</td>\n",
       "      <td>107</td>\n",
       "      <td>True</td>\n",
       "      <td>Dufay (V.e), grenetière, r. du Faub.-S.\\nDenis...</td>\n",
       "      <td>&lt;PER&gt;Dufay (V.e)&lt;/PER&gt;, &lt;ACT&gt;grenetière&lt;/ACT&gt;,...</td>\n",
       "      <td>&lt;PER&gt;Dufay (V.e)&lt;/PER&gt;, &lt;ACT&gt;grenetière&lt;/ACT&gt;,...</td>\n",
       "      <td>[Dufay (V.e), grenetière, r. du Faub.-S. ",
       "Denis...</td>\n",
       "    </tr>\n",
       "    <tr>\n",
       "      <th>4</th>\n",
       "      <td>312</td>\n",
       "      <td>[126.68533584543587, 648.8951119484786, 393, 29]</td>\n",
       "      <td>Bottin1_1820</td>\n",
       "      <td>107</td>\n",
       "      <td>True</td>\n",
       "      <td>Dufeu, charcutier, r. Montmartre, 89. 318</td>\n",
       "      <td>&lt;PER&gt;Dufeu&lt;/PER&gt;, &lt;ACT&gt;charcutier&lt;/ACT&gt;, &lt;LOC&gt;...</td>\n",
       "      <td>&lt;PER&gt;Dufeu&lt;/PER&gt;, &lt;ACT&gt;charcutier&lt;/ACT&gt;, &lt;SPAT...</td>\n",
       "      <td>[Dufeu, charcutier, r. Montmartre, 89. 318, [T...</td>\n",
       "    </tr>\n",
       "    <tr>\n",
       "      <th>...</th>\n",
       "      <td>...</td>\n",
       "      <td>...</td>\n",
       "      <td>...</td>\n",
       "      <td>...</td>\n",
       "      <td>...</td>\n",
       "      <td>...</td>\n",
       "      <td>...</td>\n",
       "      <td>...</td>\n",
       "      <td>...</td>\n",
       "    </tr>\n",
       "    <tr>\n",
       "      <th>8440</th>\n",
       "      <td>343</td>\n",
       "      <td>[269.0, 1266.0, 405.0, 26.0]</td>\n",
       "      <td>Notables_communaux_seine_1801</td>\n",
       "      <td>144</td>\n",
       "      <td>True</td>\n",
       "      <td>Lamarche, géographe , rue du foin.</td>\n",
       "      <td>&lt;PER&gt;Lamarche&lt;/PER&gt;, &lt;ACT&gt;géographe&lt;/ACT&gt; , &lt;L...</td>\n",
       "      <td>&lt;PER&gt;Lamarche&lt;/PER&gt;, &lt;ACT&gt;géographe&lt;/ACT&gt; , &lt;S...</td>\n",
       "      <td>[Lamarche, géographe , rue du foin., [T0, PER,...</td>\n",
       "    </tr>\n",
       "    <tr>\n",
       "      <th>8441</th>\n",
       "      <td>345</td>\n",
       "      <td>[267.0, 1293.0, 627.0, 26.0]</td>\n",
       "      <td>Notables_communaux_seine_1801</td>\n",
       "      <td>144</td>\n",
       "      <td>True</td>\n",
       "      <td>Lamarck, membre de l'institut, quatrième munic...</td>\n",
       "      <td>&lt;PER&gt;Lamarck&lt;/PER&gt;, &lt;ACT&gt;membre de l&amp;apos;inst...</td>\n",
       "      <td>&lt;PER&gt;Lamarck&lt;/PER&gt;, &lt;ACT&gt;membre de l'institut&lt;...</td>\n",
       "      <td>[Lamarck, membre de l'institut, quatrième muni...</td>\n",
       "    </tr>\n",
       "    <tr>\n",
       "      <th>8442</th>\n",
       "      <td>347</td>\n",
       "      <td>[267, 1321, 478, 26]</td>\n",
       "      <td>Notables_communaux_seine_1801</td>\n",
       "      <td>144</td>\n",
       "      <td>True</td>\n",
       "      <td>Lamare, notaire, rue du faubourg honoré.</td>\n",
       "      <td>&lt;PER&gt;Lamare&lt;/PER&gt;, &lt;ACT&gt;notaire&lt;/ACT&gt;, &lt;LOC&gt;ru...</td>\n",
       "      <td>&lt;PER&gt;Lamare&lt;/PER&gt;, &lt;ACT&gt;notaire&lt;/ACT&gt;, &lt;SPAT&gt;&lt;...</td>\n",
       "      <td>[Lamare, notaire, rue du faubourg honoré., [T0...</td>\n",
       "    </tr>\n",
       "    <tr>\n",
       "      <th>8443</th>\n",
       "      <td>349</td>\n",
       "      <td>[267, 1349, 383, 25]</td>\n",
       "      <td>Notables_communaux_seine_1801</td>\n",
       "      <td>144</td>\n",
       "      <td>True</td>\n",
       "      <td>Lamarre , carrier, rue mouffetard.</td>\n",
       "      <td>&lt;PER&gt;Lamarre&lt;/PER&gt; , &lt;ACT&gt;carrier&lt;/ACT&gt;, &lt;LOC&gt;...</td>\n",
       "      <td>&lt;PER&gt;Lamarre&lt;/PER&gt; , &lt;ACT&gt;carrier&lt;/ACT&gt;, &lt;SPAT...</td>\n",
       "      <td>[Lamarre , carrier, rue mouffetard., [T0, PER,...</td>\n",
       "    </tr>\n",
       "    <tr>\n",
       "      <th>8444</th>\n",
       "      <td>351</td>\n",
       "      <td>[267, 1377, 444, 26]</td>\n",
       "      <td>Notables_communaux_seine_1801</td>\n",
       "      <td>144</td>\n",
       "      <td>True</td>\n",
       "      <td>Lamarre, clerc de notaire, rue égalité.</td>\n",
       "      <td>&lt;PER&gt;Lamarre&lt;/PER&gt;, &lt;ACT&gt;clerc de notaire&lt;/ACT...</td>\n",
       "      <td>&lt;PER&gt;Lamarre&lt;/PER&gt;, &lt;ACT&gt;clerc de notaire&lt;/ACT...</td>\n",
       "      <td>[Lamarre, clerc de notaire, rue égalité., [T0,...</td>\n",
       "    </tr>\n",
       "  </tbody>\n",
       "</table>\n",
       "<p>8445 rows × 9 columns</p>\n",
       "</div>"
      ],
      "text/plain": [
       "       id                                                box  \\\n",
       "0     290  [125.49036875669651, 357.68003651377927, 386.0...   \n",
       "1     292  [127.0, 398.61236450520784, 387.0, 40.38763549...   \n",
       "2     294  [124.46245769617323, 436.6867055467269, 388.52...   \n",
       "3     298  [122.96782088243424, 476.6769851466119, 388.0,...   \n",
       "4     312   [126.68533584543587, 648.8951119484786, 393, 29]   \n",
       "...   ...                                                ...   \n",
       "8440  343                       [269.0, 1266.0, 405.0, 26.0]   \n",
       "8441  345                       [267.0, 1293.0, 627.0, 26.0]   \n",
       "8442  347                               [267, 1321, 478, 26]   \n",
       "8443  349                               [267, 1349, 383, 25]   \n",
       "8444  351                               [267, 1377, 444, 26]   \n",
       "\n",
       "                               book  page  valid_box  \\\n",
       "0                      Bottin1_1820   107       True   \n",
       "1                      Bottin1_1820   107       True   \n",
       "2                      Bottin1_1820   107       True   \n",
       "3                      Bottin1_1820   107       True   \n",
       "4                      Bottin1_1820   107       True   \n",
       "...                             ...   ...        ...   \n",
       "8440  Notables_communaux_seine_1801   144       True   \n",
       "8441  Notables_communaux_seine_1801   144       True   \n",
       "8442  Notables_communaux_seine_1801   144       True   \n",
       "8443  Notables_communaux_seine_1801   144       True   \n",
       "8444  Notables_communaux_seine_1801   144       True   \n",
       "\n",
       "                                               text_ocr  \\\n",
       "0     Dufant (Victor), libraire, r. du Gros-Che-\\nne...   \n",
       "1     Dufay, essayeur du commerce, place Dau-\\nphine...   \n",
       "2     Dulay, chandronnier, r. du Pont- aux\\nChoux, 1...   \n",
       "3     Dufay (V.e), grenetière, r. du Faub.-S.\\nDenis...   \n",
       "4             Dufeu, charcutier, r. Montmartre, 89. 318   \n",
       "...                                                 ...   \n",
       "8440                 Lamarche, géographe , rue du foin.   \n",
       "8441  Lamarck, membre de l'institut, quatrième munic...   \n",
       "8442           Lamare, notaire, rue du faubourg honoré.   \n",
       "8443                 Lamarre , carrier, rue mouffetard.   \n",
       "8444            Lamarre, clerc de notaire, rue égalité.   \n",
       "\n",
       "                                                ner_xml  \\\n",
       "0     <PER>Dufant (Victor)</PER>, <ACT>libraire</ACT...   \n",
       "1     <PER>Dufay</PER>, <ACT>essayeur du commerce</A...   \n",
       "2     <PER>Dulay</PER>, <ACT>chandronnier</ACT>, <LO...   \n",
       "3     <PER>Dufay (V.e)</PER>, <ACT>grenetière</ACT>,...   \n",
       "4     <PER>Dufeu</PER>, <ACT>charcutier</ACT>, <LOC>...   \n",
       "...                                                 ...   \n",
       "8440  <PER>Lamarche</PER>, <ACT>géographe</ACT> , <L...   \n",
       "8441  <PER>Lamarck</PER>, <ACT>membre de l&apos;inst...   \n",
       "8442  <PER>Lamare</PER>, <ACT>notaire</ACT>, <LOC>ru...   \n",
       "8443  <PER>Lamarre</PER> , <ACT>carrier</ACT>, <LOC>...   \n",
       "8444  <PER>Lamarre</PER>, <ACT>clerc de notaire</ACT...   \n",
       "\n",
       "                                         nested_ner_xml  \\\n",
       "0     <PER>Dufant (Victor)</PER>, <ACT>libraire</ACT...   \n",
       "1     <PER>Dufay</PER>, <ACT>essayeur du commerce</A...   \n",
       "2     <PER>Dulay</PER>, <ACT>chandronnier</ACT>, <SP...   \n",
       "3     <PER>Dufay (V.e)</PER>, <ACT>grenetière</ACT>,...   \n",
       "4     <PER>Dufeu</PER>, <ACT>charcutier</ACT>, <SPAT...   \n",
       "...                                                 ...   \n",
       "8440  <PER>Lamarche</PER>, <ACT>géographe</ACT> , <S...   \n",
       "8441  <PER>Lamarck</PER>, <ACT>membre de l'institut<...   \n",
       "8442  <PER>Lamare</PER>, <ACT>notaire</ACT>, <SPAT><...   \n",
       "8443  <PER>Lamarre</PER> , <ACT>carrier</ACT>, <SPAT...   \n",
       "8444  <PER>Lamarre</PER>, <ACT>clerc de notaire</ACT...   \n",
       "\n",
       "                                                   brat  \n",
       "0     [Dufant (Victor), libraire, r. du Gros-Che-\n",
       "ne...  \n",
       "1     [Dufay, essayeur du commerce, place Dau-\n",
       "phine...  \n",
       "2     [Dulay, chandronnier, r. du Pont- aux\n",
       "Choux, 1...  \n",
       "3     [Dufay (V.e), grenetière, r. du Faub.-S.\n",
       "Denis...  \n",
       "4     [Dufeu, charcutier, r. Montmartre, 89. 318, [T...  \n",
       "...                                                 ...  \n",
       "8440  [Lamarche, géographe , rue du foin., [T0, PER,...  \n",
       "8441  [Lamarck, membre de l'institut, quatrième muni...  \n",
       "8442  [Lamare, notaire, rue du faubourg honoré., [T0...  \n",
       "8443  [Lamarre , carrier, rue mouffetard., [T0, PER,...  \n",
       "8444  [Lamarre, clerc de notaire, rue égalité., [T0,...  \n",
       "\n",
       "[8445 rows x 9 columns]"
      ]
     },
     "execution_count": 7,
     "metadata": {},
     "output_type": "execute_result"
    }
   ],
   "source": [
    "gold_reference = pd.DataFrame.from_records(data)\n",
    "gold_reference"
   ]
  },
  {
   "cell_type": "code",
   "execution_count": 8,
   "id": "aa7c90c1",
   "metadata": {},
   "outputs": [
    {
     "data": {
      "text/html": [
       "<div>\n",
       "<style scoped>\n",
       "    .dataframe tbody tr th:only-of-type {\n",
       "        vertical-align: middle;\n",
       "    }\n",
       "\n",
       "    .dataframe tbody tr th {\n",
       "        vertical-align: top;\n",
       "    }\n",
       "\n",
       "    .dataframe thead th {\n",
       "        text-align: right;\n",
       "    }\n",
       "</style>\n",
       "<table border=\"1\" class=\"dataframe\">\n",
       "  <thead>\n",
       "    <tr style=\"text-align: right;\">\n",
       "      <th></th>\n",
       "      <th>brat</th>\n",
       "      <th>book</th>\n",
       "    </tr>\n",
       "  </thead>\n",
       "  <tbody>\n",
       "    <tr>\n",
       "      <th>0</th>\n",
       "      <td>[Dufant (Victor), libraire, r. du Gros-Che- ",
       "ne...</td>\n",
       "      <td>Bottin1_1820</td>\n",
       "    </tr>\n",
       "    <tr>\n",
       "      <th>1</th>\n",
       "      <td>[Dufay, essayeur du commerce, place Dau- ",
       "phine...</td>\n",
       "      <td>Bottin1_1820</td>\n",
       "    </tr>\n",
       "    <tr>\n",
       "      <th>2</th>\n",
       "      <td>[Dulay, chandronnier, r. du Pont- aux ",
       "Choux, 1...</td>\n",
       "      <td>Bottin1_1820</td>\n",
       "    </tr>\n",
       "    <tr>\n",
       "      <th>3</th>\n",
       "      <td>[Dufay (V.e), grenetière, r. du Faub.-S. ",
       "Denis...</td>\n",
       "      <td>Bottin1_1820</td>\n",
       "    </tr>\n",
       "    <tr>\n",
       "      <th>4</th>\n",
       "      <td>[Dufeu, charcutier, r. Montmartre, 89. 318, [T...</td>\n",
       "      <td>Bottin1_1820</td>\n",
       "    </tr>\n",
       "    <tr>\n",
       "      <th>...</th>\n",
       "      <td>...</td>\n",
       "      <td>...</td>\n",
       "    </tr>\n",
       "    <tr>\n",
       "      <th>8440</th>\n",
       "      <td>[Lamarche, géographe , rue du foin., [T0, PER,...</td>\n",
       "      <td>Notables_communaux_seine_1801</td>\n",
       "    </tr>\n",
       "    <tr>\n",
       "      <th>8441</th>\n",
       "      <td>[Lamarck, membre de l'institut, quatrième muni...</td>\n",
       "      <td>Notables_communaux_seine_1801</td>\n",
       "    </tr>\n",
       "    <tr>\n",
       "      <th>8442</th>\n",
       "      <td>[Lamare, notaire, rue du faubourg honoré., [T0...</td>\n",
       "      <td>Notables_communaux_seine_1801</td>\n",
       "    </tr>\n",
       "    <tr>\n",
       "      <th>8443</th>\n",
       "      <td>[Lamarre , carrier, rue mouffetard., [T0, PER,...</td>\n",
       "      <td>Notables_communaux_seine_1801</td>\n",
       "    </tr>\n",
       "    <tr>\n",
       "      <th>8444</th>\n",
       "      <td>[Lamarre, clerc de notaire, rue égalité., [T0,...</td>\n",
       "      <td>Notables_communaux_seine_1801</td>\n",
       "    </tr>\n",
       "  </tbody>\n",
       "</table>\n",
       "<p>8445 rows × 2 columns</p>\n",
       "</div>"
      ],
      "text/plain": [
       "                                                   brat  \\\n",
       "0     [Dufant (Victor), libraire, r. du Gros-Che-\n",
       "ne...   \n",
       "1     [Dufay, essayeur du commerce, place Dau-\n",
       "phine...   \n",
       "2     [Dulay, chandronnier, r. du Pont- aux\n",
       "Choux, 1...   \n",
       "3     [Dufay (V.e), grenetière, r. du Faub.-S.\n",
       "Denis...   \n",
       "4     [Dufeu, charcutier, r. Montmartre, 89. 318, [T...   \n",
       "...                                                 ...   \n",
       "8440  [Lamarche, géographe , rue du foin., [T0, PER,...   \n",
       "8441  [Lamarck, membre de l'institut, quatrième muni...   \n",
       "8442  [Lamare, notaire, rue du faubourg honoré., [T0...   \n",
       "8443  [Lamarre , carrier, rue mouffetard., [T0, PER,...   \n",
       "8444  [Lamarre, clerc de notaire, rue égalité., [T0,...   \n",
       "\n",
       "                               book  \n",
       "0                      Bottin1_1820  \n",
       "1                      Bottin1_1820  \n",
       "2                      Bottin1_1820  \n",
       "3                      Bottin1_1820  \n",
       "4                      Bottin1_1820  \n",
       "...                             ...  \n",
       "8440  Notables_communaux_seine_1801  \n",
       "8441  Notables_communaux_seine_1801  \n",
       "8442  Notables_communaux_seine_1801  \n",
       "8443  Notables_communaux_seine_1801  \n",
       "8444  Notables_communaux_seine_1801  \n",
       "\n",
       "[8445 rows x 2 columns]"
      ]
     },
     "execution_count": 8,
     "metadata": {},
     "output_type": "execute_result"
    }
   ],
   "source": [
    "gold_reference_valid = gold_reference[['brat','book']]\n",
    "gold_reference_valid"
   ]
  },
  {
   "cell_type": "code",
   "execution_count": 9,
   "id": "36803aaa",
   "metadata": {},
   "outputs": [
    {
     "data": {
      "text/plain": [
       "[6084, 3042, 1521, 760, 380, 190, 95, 47]"
      ]
     },
     "execution_count": 9,
     "metadata": {},
     "output_type": "execute_result"
    }
   ],
   "source": [
    "from dataset_util import train_dev_test_split, unwrap # Local imports\n",
    "from sklearn.model_selection import train_test_split\n",
    "\n",
    "# CONSTANTS\n",
    "MIN_TRAINSET_SIZE = 30\n",
    "\n",
    " # Split 72/8/20% w. stratified sampling on directories names\n",
    "train, dev, test = train_dev_test_split(gold_reference_valid.to_numpy())\n",
    "\n",
    "# Iteratively split the trainset in half to create smaller trainsets\n",
    "exp1_trainsets = [train]\n",
    "t_len = len(train)\n",
    "\n",
    "while True:\n",
    "    try:\n",
    "        current = exp1_trainsets[-1]\n",
    "        _, groups = unwrap(current)\n",
    "        smaller, rest = train_test_split(\n",
    "            current,\n",
    "            train_size=0.5,\n",
    "            shuffle=True,\n",
    "            random_state=config.SPLIT_SEED,\n",
    "            stratify=groups,\n",
    "        )\n",
    "        t_len = len(rest)\n",
    "        if t_len < MIN_TRAINSET_SIZE:\n",
    "            break\n",
    "        exp1_trainsets.append(smaller)\n",
    "\n",
    "    except ValueError:\n",
    "        # Stop now if we encounter the error \"The least populated class in y has only 1 member\".\n",
    "        break\n",
    "\n",
    "[len(s) for s in exp1_trainsets] # Should be "
   ]
  },
  {
   "cell_type": "code",
   "execution_count": 10,
   "id": "71cad231",
   "metadata": {},
   "outputs": [],
   "source": [
    "# Sanity checks\n",
    "\n",
    "# Dev set should contain 676 examples\n",
    "assert len(dev) == 676\n",
    "\n",
    "# Test set should contain 1685 examples\n",
    "assert len(test) == 1685\n",
    "\n",
    "# Lenghts of exp1_trainsets should be fixed\n",
    "assert sorted([len(s) for s in exp1_trainsets] ) == sorted([6084, 3042, 1521, 760, 380, 190, 95, 47])"
   ]
  },
  {
   "cell_type": "code",
   "execution_count": 11,
   "id": "f14ea9cd",
   "metadata": {},
   "outputs": [
    {
     "name": "stderr",
     "output_type": "stream",
     "text": [
      "2023-02-22 09:26:48.808837: I tensorflow/core/platform/cpu_feature_guard.cc:193] This TensorFlow binary is optimized with oneAPI Deep Neural Network Library (oneDNN) to use the following CPU instructions in performance-critical operations:  AVX2 FMA\n",
      "To enable them in other operations, rebuild TensorFlow with the appropriate compiler flags.\n",
      "2023-02-22 09:26:50.044348: W tensorflow/compiler/xla/stream_executor/platform/default/dso_loader.cc:64] Could not load dynamic library 'libnvinfer.so.7'; dlerror: libnvinfer.so.7: cannot open shared object file: No such file or directory\n",
      "2023-02-22 09:26:50.044431: W tensorflow/compiler/xla/stream_executor/platform/default/dso_loader.cc:64] Could not load dynamic library 'libnvinfer_plugin.so.7'; dlerror: libnvinfer_plugin.so.7: cannot open shared object file: No such file or directory\n",
      "2023-02-22 09:26:50.044441: W tensorflow/compiler/tf2tensorrt/utils/py_utils.cc:38] TF-TRT Warning: Cannot dlopen some TensorRT libraries. If you would like to use Nvidia GPU with TensorRT, please make sure the missing libraries mentioned above are installed properly.\n"
     ]
    },
    {
     "data": {
      "application/vnd.jupyter.widget-view+json": {
       "model_id": "d207d92b340d4e9794fe94c1c7c02955",
       "version_major": 2,
       "version_minor": 0
      },
      "text/plain": [
       "  0%|          | 0/7 [00:00<?, ?ba/s]"
      ]
     },
     "metadata": {},
     "output_type": "display_data"
    },
    {
     "data": {
      "application/vnd.jupyter.widget-view+json": {
       "model_id": "94e2af02cb2c46ddbe1f1041c748705e",
       "version_major": 2,
       "version_minor": 0
      },
      "text/plain": [
       "  0%|          | 0/1 [00:00<?, ?ba/s]"
      ]
     },
     "metadata": {},
     "output_type": "display_data"
    },
    {
     "data": {
      "application/vnd.jupyter.widget-view+json": {
       "model_id": "50d2e486bb554555b5121e18c6284662",
       "version_major": 2,
       "version_minor": 0
      },
      "text/plain": [
       "  0%|          | 0/2 [00:00<?, ?ba/s]"
      ]
     },
     "metadata": {},
     "output_type": "display_data"
    },
    {
     "data": {
      "application/vnd.jupyter.widget-view+json": {
       "model_id": "",
       "version_major": 2,
       "version_minor": 0
      },
      "text/plain": [
       "Saving the dataset (0/1 shards):   0%|          | 0/6084 [00:00<?, ? examples/s]"
      ]
     },
     "metadata": {},
     "output_type": "display_data"
    },
    {
     "data": {
      "application/vnd.jupyter.widget-view+json": {
       "model_id": "",
       "version_major": 2,
       "version_minor": 0
      },
      "text/plain": [
       "Saving the dataset (0/1 shards):   0%|          | 0/676 [00:00<?, ? examples/s]"
      ]
     },
     "metadata": {},
     "output_type": "display_data"
    },
    {
     "data": {
      "application/vnd.jupyter.widget-view+json": {
       "model_id": "",
       "version_major": 2,
       "version_minor": 0
      },
      "text/plain": [
       "Saving the dataset (0/1 shards):   0%|          | 0/1685 [00:00<?, ? examples/s]"
      ]
     },
     "metadata": {},
     "output_type": "display_data"
    },
    {
     "data": {
      "application/vnd.jupyter.widget-view+json": {
       "model_id": "d8b40c662beb4f1ca2edbdbba9359844",
       "version_major": 2,
       "version_minor": 0
      },
      "text/plain": [
       "  0%|          | 0/4 [00:00<?, ?ba/s]"
      ]
     },
     "metadata": {},
     "output_type": "display_data"
    },
    {
     "data": {
      "application/vnd.jupyter.widget-view+json": {
       "model_id": "784f01d7364b401ab6ca6fdbb393588f",
       "version_major": 2,
       "version_minor": 0
      },
      "text/plain": [
       "  0%|          | 0/1 [00:00<?, ?ba/s]"
      ]
     },
     "metadata": {},
     "output_type": "display_data"
    },
    {
     "data": {
      "application/vnd.jupyter.widget-view+json": {
       "model_id": "b3adaff0f2b64f22ba33c000196ef3a7",
       "version_major": 2,
       "version_minor": 0
      },
      "text/plain": [
       "  0%|          | 0/2 [00:00<?, ?ba/s]"
      ]
     },
     "metadata": {},
     "output_type": "display_data"
    },
    {
     "data": {
      "application/vnd.jupyter.widget-view+json": {
       "model_id": "",
       "version_major": 2,
       "version_minor": 0
      },
      "text/plain": [
       "Saving the dataset (0/1 shards):   0%|          | 0/3042 [00:00<?, ? examples/s]"
      ]
     },
     "metadata": {},
     "output_type": "display_data"
    },
    {
     "data": {
      "application/vnd.jupyter.widget-view+json": {
       "model_id": "",
       "version_major": 2,
       "version_minor": 0
      },
      "text/plain": [
       "Saving the dataset (0/1 shards):   0%|          | 0/676 [00:00<?, ? examples/s]"
      ]
     },
     "metadata": {},
     "output_type": "display_data"
    },
    {
     "data": {
      "application/vnd.jupyter.widget-view+json": {
       "model_id": "",
       "version_major": 2,
       "version_minor": 0
      },
      "text/plain": [
       "Saving the dataset (0/1 shards):   0%|          | 0/1685 [00:00<?, ? examples/s]"
      ]
     },
     "metadata": {},
     "output_type": "display_data"
    },
    {
     "data": {
      "application/vnd.jupyter.widget-view+json": {
       "model_id": "076321cc77cb4e6c90b8f30bfe87a547",
       "version_major": 2,
       "version_minor": 0
      },
      "text/plain": [
       "  0%|          | 0/2 [00:00<?, ?ba/s]"
      ]
     },
     "metadata": {},
     "output_type": "display_data"
    },
    {
     "data": {
      "application/vnd.jupyter.widget-view+json": {
       "model_id": "7f6e46f005dc4d37ada4e74ac4b20ccb",
       "version_major": 2,
       "version_minor": 0
      },
      "text/plain": [
       "  0%|          | 0/1 [00:00<?, ?ba/s]"
      ]
     },
     "metadata": {},
     "output_type": "display_data"
    },
    {
     "data": {
      "application/vnd.jupyter.widget-view+json": {
       "model_id": "b346b5f2020d4511b0576eb1b0151d0b",
       "version_major": 2,
       "version_minor": 0
      },
      "text/plain": [
       "  0%|          | 0/2 [00:00<?, ?ba/s]"
      ]
     },
     "metadata": {},
     "output_type": "display_data"
    },
    {
     "data": {
      "application/vnd.jupyter.widget-view+json": {
       "model_id": "",
       "version_major": 2,
       "version_minor": 0
      },
      "text/plain": [
       "Saving the dataset (0/1 shards):   0%|          | 0/1521 [00:00<?, ? examples/s]"
      ]
     },
     "metadata": {},
     "output_type": "display_data"
    },
    {
     "data": {
      "application/vnd.jupyter.widget-view+json": {
       "model_id": "",
       "version_major": 2,
       "version_minor": 0
      },
      "text/plain": [
       "Saving the dataset (0/1 shards):   0%|          | 0/676 [00:00<?, ? examples/s]"
      ]
     },
     "metadata": {},
     "output_type": "display_data"
    },
    {
     "data": {
      "application/vnd.jupyter.widget-view+json": {
       "model_id": "",
       "version_major": 2,
       "version_minor": 0
      },
      "text/plain": [
       "Saving the dataset (0/1 shards):   0%|          | 0/1685 [00:00<?, ? examples/s]"
      ]
     },
     "metadata": {},
     "output_type": "display_data"
    },
    {
     "data": {
      "application/vnd.jupyter.widget-view+json": {
       "model_id": "91f342db3f564ca7859188b67ea02a55",
       "version_major": 2,
       "version_minor": 0
      },
      "text/plain": [
       "  0%|          | 0/1 [00:00<?, ?ba/s]"
      ]
     },
     "metadata": {},
     "output_type": "display_data"
    },
    {
     "data": {
      "application/vnd.jupyter.widget-view+json": {
       "model_id": "76a1dc804b0a4c208bb7394827fa4955",
       "version_major": 2,
       "version_minor": 0
      },
      "text/plain": [
       "  0%|          | 0/1 [00:00<?, ?ba/s]"
      ]
     },
     "metadata": {},
     "output_type": "display_data"
    },
    {
     "data": {
      "application/vnd.jupyter.widget-view+json": {
       "model_id": "ea9211ac79684091ba0c21e8ceec84a1",
       "version_major": 2,
       "version_minor": 0
      },
      "text/plain": [
       "  0%|          | 0/2 [00:00<?, ?ba/s]"
      ]
     },
     "metadata": {},
     "output_type": "display_data"
    },
    {
     "data": {
      "application/vnd.jupyter.widget-view+json": {
       "model_id": "",
       "version_major": 2,
       "version_minor": 0
      },
      "text/plain": [
       "Saving the dataset (0/1 shards):   0%|          | 0/760 [00:00<?, ? examples/s]"
      ]
     },
     "metadata": {},
     "output_type": "display_data"
    },
    {
     "data": {
      "application/vnd.jupyter.widget-view+json": {
       "model_id": "",
       "version_major": 2,
       "version_minor": 0
      },
      "text/plain": [
       "Saving the dataset (0/1 shards):   0%|          | 0/676 [00:00<?, ? examples/s]"
      ]
     },
     "metadata": {},
     "output_type": "display_data"
    },
    {
     "data": {
      "application/vnd.jupyter.widget-view+json": {
       "model_id": "",
       "version_major": 2,
       "version_minor": 0
      },
      "text/plain": [
       "Saving the dataset (0/1 shards):   0%|          | 0/1685 [00:00<?, ? examples/s]"
      ]
     },
     "metadata": {},
     "output_type": "display_data"
    },
    {
     "data": {
      "application/vnd.jupyter.widget-view+json": {
       "model_id": "fc1a302f2daf4df68d9bd7e85a535207",
       "version_major": 2,
       "version_minor": 0
      },
      "text/plain": [
       "  0%|          | 0/1 [00:00<?, ?ba/s]"
      ]
     },
     "metadata": {},
     "output_type": "display_data"
    },
    {
     "data": {
      "application/vnd.jupyter.widget-view+json": {
       "model_id": "80858a66dfb8402fb673b3eaddd084e1",
       "version_major": 2,
       "version_minor": 0
      },
      "text/plain": [
       "  0%|          | 0/1 [00:00<?, ?ba/s]"
      ]
     },
     "metadata": {},
     "output_type": "display_data"
    },
    {
     "data": {
      "application/vnd.jupyter.widget-view+json": {
       "model_id": "d4e25a1ba44b4e9fb013efaac4cd2a70",
       "version_major": 2,
       "version_minor": 0
      },
      "text/plain": [
       "  0%|          | 0/2 [00:00<?, ?ba/s]"
      ]
     },
     "metadata": {},
     "output_type": "display_data"
    },
    {
     "data": {
      "application/vnd.jupyter.widget-view+json": {
       "model_id": "",
       "version_major": 2,
       "version_minor": 0
      },
      "text/plain": [
       "Saving the dataset (0/1 shards):   0%|          | 0/380 [00:00<?, ? examples/s]"
      ]
     },
     "metadata": {},
     "output_type": "display_data"
    },
    {
     "data": {
      "application/vnd.jupyter.widget-view+json": {
       "model_id": "",
       "version_major": 2,
       "version_minor": 0
      },
      "text/plain": [
       "Saving the dataset (0/1 shards):   0%|          | 0/676 [00:00<?, ? examples/s]"
      ]
     },
     "metadata": {},
     "output_type": "display_data"
    },
    {
     "data": {
      "application/vnd.jupyter.widget-view+json": {
       "model_id": "",
       "version_major": 2,
       "version_minor": 0
      },
      "text/plain": [
       "Saving the dataset (0/1 shards):   0%|          | 0/1685 [00:00<?, ? examples/s]"
      ]
     },
     "metadata": {},
     "output_type": "display_data"
    },
    {
     "data": {
      "application/vnd.jupyter.widget-view+json": {
       "model_id": "f7067f9e55f8490480a40f50f15eaad9",
       "version_major": 2,
       "version_minor": 0
      },
      "text/plain": [
       "  0%|          | 0/1 [00:00<?, ?ba/s]"
      ]
     },
     "metadata": {},
     "output_type": "display_data"
    },
    {
     "data": {
      "application/vnd.jupyter.widget-view+json": {
       "model_id": "d704609a30724429aa24c4a102249ba8",
       "version_major": 2,
       "version_minor": 0
      },
      "text/plain": [
       "  0%|          | 0/1 [00:00<?, ?ba/s]"
      ]
     },
     "metadata": {},
     "output_type": "display_data"
    },
    {
     "data": {
      "application/vnd.jupyter.widget-view+json": {
       "model_id": "98933a8d31db476494086e8f19846334",
       "version_major": 2,
       "version_minor": 0
      },
      "text/plain": [
       "  0%|          | 0/2 [00:00<?, ?ba/s]"
      ]
     },
     "metadata": {},
     "output_type": "display_data"
    },
    {
     "data": {
      "application/vnd.jupyter.widget-view+json": {
       "model_id": "",
       "version_major": 2,
       "version_minor": 0
      },
      "text/plain": [
       "Saving the dataset (0/1 shards):   0%|          | 0/190 [00:00<?, ? examples/s]"
      ]
     },
     "metadata": {},
     "output_type": "display_data"
    },
    {
     "data": {
      "application/vnd.jupyter.widget-view+json": {
       "model_id": "",
       "version_major": 2,
       "version_minor": 0
      },
      "text/plain": [
       "Saving the dataset (0/1 shards):   0%|          | 0/676 [00:00<?, ? examples/s]"
      ]
     },
     "metadata": {},
     "output_type": "display_data"
    },
    {
     "data": {
      "application/vnd.jupyter.widget-view+json": {
       "model_id": "",
       "version_major": 2,
       "version_minor": 0
      },
      "text/plain": [
       "Saving the dataset (0/1 shards):   0%|          | 0/1685 [00:00<?, ? examples/s]"
      ]
     },
     "metadata": {},
     "output_type": "display_data"
    },
    {
     "data": {
      "application/vnd.jupyter.widget-view+json": {
       "model_id": "f2cab44e26074323b4cc7b98385cc0cd",
       "version_major": 2,
       "version_minor": 0
      },
      "text/plain": [
       "  0%|          | 0/1 [00:00<?, ?ba/s]"
      ]
     },
     "metadata": {},
     "output_type": "display_data"
    },
    {
     "data": {
      "application/vnd.jupyter.widget-view+json": {
       "model_id": "4996b1fe8e2a4e53aeb408d02f6ce466",
       "version_major": 2,
       "version_minor": 0
      },
      "text/plain": [
       "  0%|          | 0/1 [00:00<?, ?ba/s]"
      ]
     },
     "metadata": {},
     "output_type": "display_data"
    },
    {
     "data": {
      "application/vnd.jupyter.widget-view+json": {
       "model_id": "a4c004d8f23b4839ae0aacae53a84ab5",
       "version_major": 2,
       "version_minor": 0
      },
      "text/plain": [
       "  0%|          | 0/2 [00:00<?, ?ba/s]"
      ]
     },
     "metadata": {},
     "output_type": "display_data"
    },
    {
     "data": {
      "application/vnd.jupyter.widget-view+json": {
       "model_id": "",
       "version_major": 2,
       "version_minor": 0
      },
      "text/plain": [
       "Saving the dataset (0/1 shards):   0%|          | 0/95 [00:00<?, ? examples/s]"
      ]
     },
     "metadata": {},
     "output_type": "display_data"
    },
    {
     "data": {
      "application/vnd.jupyter.widget-view+json": {
       "model_id": "",
       "version_major": 2,
       "version_minor": 0
      },
      "text/plain": [
       "Saving the dataset (0/1 shards):   0%|          | 0/676 [00:00<?, ? examples/s]"
      ]
     },
     "metadata": {},
     "output_type": "display_data"
    },
    {
     "data": {
      "application/vnd.jupyter.widget-view+json": {
       "model_id": "",
       "version_major": 2,
       "version_minor": 0
      },
      "text/plain": [
       "Saving the dataset (0/1 shards):   0%|          | 0/1685 [00:00<?, ? examples/s]"
      ]
     },
     "metadata": {},
     "output_type": "display_data"
    },
    {
     "data": {
      "application/vnd.jupyter.widget-view+json": {
       "model_id": "a391c624a70246238913ad00c0b4f5b4",
       "version_major": 2,
       "version_minor": 0
      },
      "text/plain": [
       "  0%|          | 0/1 [00:00<?, ?ba/s]"
      ]
     },
     "metadata": {},
     "output_type": "display_data"
    },
    {
     "data": {
      "application/vnd.jupyter.widget-view+json": {
       "model_id": "4f27641896d94941be133e5103a7a99d",
       "version_major": 2,
       "version_minor": 0
      },
      "text/plain": [
       "  0%|          | 0/1 [00:00<?, ?ba/s]"
      ]
     },
     "metadata": {},
     "output_type": "display_data"
    },
    {
     "data": {
      "application/vnd.jupyter.widget-view+json": {
       "model_id": "70b04659d93349d396438a8e1e50a7ff",
       "version_major": 2,
       "version_minor": 0
      },
      "text/plain": [
       "  0%|          | 0/2 [00:00<?, ?ba/s]"
      ]
     },
     "metadata": {},
     "output_type": "display_data"
    },
    {
     "data": {
      "application/vnd.jupyter.widget-view+json": {
       "model_id": "",
       "version_major": 2,
       "version_minor": 0
      },
      "text/plain": [
       "Saving the dataset (0/1 shards):   0%|          | 0/47 [00:00<?, ? examples/s]"
      ]
     },
     "metadata": {},
     "output_type": "display_data"
    },
    {
     "data": {
      "application/vnd.jupyter.widget-view+json": {
       "model_id": "",
       "version_major": 2,
       "version_minor": 0
      },
      "text/plain": [
       "Saving the dataset (0/1 shards):   0%|          | 0/676 [00:00<?, ? examples/s]"
      ]
     },
     "metadata": {},
     "output_type": "display_data"
    },
    {
     "data": {
      "application/vnd.jupyter.widget-view+json": {
       "model_id": "",
       "version_major": 2,
       "version_minor": 0
      },
      "text/plain": [
       "Saving the dataset (0/1 shards):   0%|          | 0/1685 [00:00<?, ? examples/s]"
      ]
     },
     "metadata": {},
     "output_type": "display_data"
    }
   ],
   "source": [
    "if CREATE_REF_IO:\n",
    "    from util_io_m1 import save_dataset_io\n",
    "    \n",
    "    RES = OUT_BASE / f\"m1-experiment_1_prepared_dataset_ref_io_{MODEL_NAME}_v2\"\n",
    "    if not os.path.exists(RES):\n",
    "        os.makedirs(RES)\n",
    "    NAMES = [\"train\",\"dev\",\"test\"]\n",
    "    \n",
    "    for train in exp1_trainsets:\n",
    "        datasets = [train, dev, test]\n",
    "        save_dataset_io(RES, datasets, [\"train\",\"dev\",\"test\"], suffix=len(train))"
   ]
  },
  {
   "cell_type": "code",
   "execution_count": 12,
   "id": "d9bfa85a",
   "metadata": {},
   "outputs": [
    {
     "data": {
      "application/vnd.jupyter.widget-view+json": {
       "model_id": "0e5a49e3cc7f4a5fb0b5d22aeb133d97",
       "version_major": 2,
       "version_minor": 0
      },
      "text/plain": [
       "  0%|          | 0/7 [00:00<?, ?ba/s]"
      ]
     },
     "metadata": {},
     "output_type": "display_data"
    },
    {
     "data": {
      "application/vnd.jupyter.widget-view+json": {
       "model_id": "5089f083f4b2499e87500725192aef16",
       "version_major": 2,
       "version_minor": 0
      },
      "text/plain": [
       "  0%|          | 0/1 [00:00<?, ?ba/s]"
      ]
     },
     "metadata": {},
     "output_type": "display_data"
    },
    {
     "data": {
      "application/vnd.jupyter.widget-view+json": {
       "model_id": "21e62be2d55c4f00a6b7278a44f4b409",
       "version_major": 2,
       "version_minor": 0
      },
      "text/plain": [
       "  0%|          | 0/2 [00:00<?, ?ba/s]"
      ]
     },
     "metadata": {},
     "output_type": "display_data"
    },
    {
     "data": {
      "application/vnd.jupyter.widget-view+json": {
       "model_id": "",
       "version_major": 2,
       "version_minor": 0
      },
      "text/plain": [
       "Saving the dataset (0/1 shards):   0%|          | 0/6084 [00:00<?, ? examples/s]"
      ]
     },
     "metadata": {},
     "output_type": "display_data"
    },
    {
     "data": {
      "application/vnd.jupyter.widget-view+json": {
       "model_id": "",
       "version_major": 2,
       "version_minor": 0
      },
      "text/plain": [
       "Saving the dataset (0/1 shards):   0%|          | 0/676 [00:00<?, ? examples/s]"
      ]
     },
     "metadata": {},
     "output_type": "display_data"
    },
    {
     "data": {
      "application/vnd.jupyter.widget-view+json": {
       "model_id": "",
       "version_major": 2,
       "version_minor": 0
      },
      "text/plain": [
       "Saving the dataset (0/1 shards):   0%|          | 0/1685 [00:00<?, ? examples/s]"
      ]
     },
     "metadata": {},
     "output_type": "display_data"
    },
    {
     "data": {
      "application/vnd.jupyter.widget-view+json": {
       "model_id": "f13b7f27146c497cb905cb1ffc779038",
       "version_major": 2,
       "version_minor": 0
      },
      "text/plain": [
       "  0%|          | 0/4 [00:00<?, ?ba/s]"
      ]
     },
     "metadata": {},
     "output_type": "display_data"
    },
    {
     "data": {
      "application/vnd.jupyter.widget-view+json": {
       "model_id": "e30e97175f1b4d999722b7e9bc500230",
       "version_major": 2,
       "version_minor": 0
      },
      "text/plain": [
       "  0%|          | 0/1 [00:00<?, ?ba/s]"
      ]
     },
     "metadata": {},
     "output_type": "display_data"
    },
    {
     "data": {
      "application/vnd.jupyter.widget-view+json": {
       "model_id": "687af4a038714c1fb52fe6286637227e",
       "version_major": 2,
       "version_minor": 0
      },
      "text/plain": [
       "  0%|          | 0/2 [00:00<?, ?ba/s]"
      ]
     },
     "metadata": {},
     "output_type": "display_data"
    },
    {
     "data": {
      "application/vnd.jupyter.widget-view+json": {
       "model_id": "",
       "version_major": 2,
       "version_minor": 0
      },
      "text/plain": [
       "Saving the dataset (0/1 shards):   0%|          | 0/3042 [00:00<?, ? examples/s]"
      ]
     },
     "metadata": {},
     "output_type": "display_data"
    },
    {
     "data": {
      "application/vnd.jupyter.widget-view+json": {
       "model_id": "",
       "version_major": 2,
       "version_minor": 0
      },
      "text/plain": [
       "Saving the dataset (0/1 shards):   0%|          | 0/676 [00:00<?, ? examples/s]"
      ]
     },
     "metadata": {},
     "output_type": "display_data"
    },
    {
     "data": {
      "application/vnd.jupyter.widget-view+json": {
       "model_id": "",
       "version_major": 2,
       "version_minor": 0
      },
      "text/plain": [
       "Saving the dataset (0/1 shards):   0%|          | 0/1685 [00:00<?, ? examples/s]"
      ]
     },
     "metadata": {},
     "output_type": "display_data"
    },
    {
     "data": {
      "application/vnd.jupyter.widget-view+json": {
       "model_id": "2ddd3edc4d9e48fea2b6d2acea779ace",
       "version_major": 2,
       "version_minor": 0
      },
      "text/plain": [
       "  0%|          | 0/2 [00:00<?, ?ba/s]"
      ]
     },
     "metadata": {},
     "output_type": "display_data"
    },
    {
     "data": {
      "application/vnd.jupyter.widget-view+json": {
       "model_id": "212b9b7a97074b99a8f1da7940868ddd",
       "version_major": 2,
       "version_minor": 0
      },
      "text/plain": [
       "  0%|          | 0/1 [00:00<?, ?ba/s]"
      ]
     },
     "metadata": {},
     "output_type": "display_data"
    },
    {
     "data": {
      "application/vnd.jupyter.widget-view+json": {
       "model_id": "dedc48851c774c298909a7b68a8aa25e",
       "version_major": 2,
       "version_minor": 0
      },
      "text/plain": [
       "  0%|          | 0/2 [00:00<?, ?ba/s]"
      ]
     },
     "metadata": {},
     "output_type": "display_data"
    },
    {
     "data": {
      "application/vnd.jupyter.widget-view+json": {
       "model_id": "",
       "version_major": 2,
       "version_minor": 0
      },
      "text/plain": [
       "Saving the dataset (0/1 shards):   0%|          | 0/1521 [00:00<?, ? examples/s]"
      ]
     },
     "metadata": {},
     "output_type": "display_data"
    },
    {
     "data": {
      "application/vnd.jupyter.widget-view+json": {
       "model_id": "",
       "version_major": 2,
       "version_minor": 0
      },
      "text/plain": [
       "Saving the dataset (0/1 shards):   0%|          | 0/676 [00:00<?, ? examples/s]"
      ]
     },
     "metadata": {},
     "output_type": "display_data"
    },
    {
     "data": {
      "application/vnd.jupyter.widget-view+json": {
       "model_id": "",
       "version_major": 2,
       "version_minor": 0
      },
      "text/plain": [
       "Saving the dataset (0/1 shards):   0%|          | 0/1685 [00:00<?, ? examples/s]"
      ]
     },
     "metadata": {},
     "output_type": "display_data"
    },
    {
     "data": {
      "application/vnd.jupyter.widget-view+json": {
       "model_id": "0988641628474bd4aed47668bdb5a2fc",
       "version_major": 2,
       "version_minor": 0
      },
      "text/plain": [
       "  0%|          | 0/1 [00:00<?, ?ba/s]"
      ]
     },
     "metadata": {},
     "output_type": "display_data"
    },
    {
     "data": {
      "application/vnd.jupyter.widget-view+json": {
       "model_id": "9dce023fc90d4bdf808ece17b0f327ee",
       "version_major": 2,
       "version_minor": 0
      },
      "text/plain": [
       "  0%|          | 0/1 [00:00<?, ?ba/s]"
      ]
     },
     "metadata": {},
     "output_type": "display_data"
    },
    {
     "data": {
      "application/vnd.jupyter.widget-view+json": {
       "model_id": "5b31a68ca3ad4864b70d697adb2b093a",
       "version_major": 2,
       "version_minor": 0
      },
      "text/plain": [
       "  0%|          | 0/2 [00:00<?, ?ba/s]"
      ]
     },
     "metadata": {},
     "output_type": "display_data"
    },
    {
     "data": {
      "application/vnd.jupyter.widget-view+json": {
       "model_id": "",
       "version_major": 2,
       "version_minor": 0
      },
      "text/plain": [
       "Saving the dataset (0/1 shards):   0%|          | 0/760 [00:00<?, ? examples/s]"
      ]
     },
     "metadata": {},
     "output_type": "display_data"
    },
    {
     "data": {
      "application/vnd.jupyter.widget-view+json": {
       "model_id": "",
       "version_major": 2,
       "version_minor": 0
      },
      "text/plain": [
       "Saving the dataset (0/1 shards):   0%|          | 0/676 [00:00<?, ? examples/s]"
      ]
     },
     "metadata": {},
     "output_type": "display_data"
    },
    {
     "data": {
      "application/vnd.jupyter.widget-view+json": {
       "model_id": "",
       "version_major": 2,
       "version_minor": 0
      },
      "text/plain": [
       "Saving the dataset (0/1 shards):   0%|          | 0/1685 [00:00<?, ? examples/s]"
      ]
     },
     "metadata": {},
     "output_type": "display_data"
    },
    {
     "data": {
      "application/vnd.jupyter.widget-view+json": {
       "model_id": "3143eb0adfac4c6998a5fd0fa86d8ffe",
       "version_major": 2,
       "version_minor": 0
      },
      "text/plain": [
       "  0%|          | 0/1 [00:00<?, ?ba/s]"
      ]
     },
     "metadata": {},
     "output_type": "display_data"
    },
    {
     "data": {
      "application/vnd.jupyter.widget-view+json": {
       "model_id": "89dc2d34484645f3a797900eec4c24ae",
       "version_major": 2,
       "version_minor": 0
      },
      "text/plain": [
       "  0%|          | 0/1 [00:00<?, ?ba/s]"
      ]
     },
     "metadata": {},
     "output_type": "display_data"
    },
    {
     "data": {
      "application/vnd.jupyter.widget-view+json": {
       "model_id": "6683631dcfdb40cda987a04430afdc79",
       "version_major": 2,
       "version_minor": 0
      },
      "text/plain": [
       "  0%|          | 0/2 [00:00<?, ?ba/s]"
      ]
     },
     "metadata": {},
     "output_type": "display_data"
    },
    {
     "data": {
      "application/vnd.jupyter.widget-view+json": {
       "model_id": "",
       "version_major": 2,
       "version_minor": 0
      },
      "text/plain": [
       "Saving the dataset (0/1 shards):   0%|          | 0/380 [00:00<?, ? examples/s]"
      ]
     },
     "metadata": {},
     "output_type": "display_data"
    },
    {
     "data": {
      "application/vnd.jupyter.widget-view+json": {
       "model_id": "",
       "version_major": 2,
       "version_minor": 0
      },
      "text/plain": [
       "Saving the dataset (0/1 shards):   0%|          | 0/676 [00:00<?, ? examples/s]"
      ]
     },
     "metadata": {},
     "output_type": "display_data"
    },
    {
     "data": {
      "application/vnd.jupyter.widget-view+json": {
       "model_id": "",
       "version_major": 2,
       "version_minor": 0
      },
      "text/plain": [
       "Saving the dataset (0/1 shards):   0%|          | 0/1685 [00:00<?, ? examples/s]"
      ]
     },
     "metadata": {},
     "output_type": "display_data"
    },
    {
     "data": {
      "application/vnd.jupyter.widget-view+json": {
       "model_id": "7b3662e856ce48a492d11f8e63066776",
       "version_major": 2,
       "version_minor": 0
      },
      "text/plain": [
       "  0%|          | 0/1 [00:00<?, ?ba/s]"
      ]
     },
     "metadata": {},
     "output_type": "display_data"
    },
    {
     "data": {
      "application/vnd.jupyter.widget-view+json": {
       "model_id": "83f040edfb584aa99462993813d81061",
       "version_major": 2,
       "version_minor": 0
      },
      "text/plain": [
       "  0%|          | 0/1 [00:00<?, ?ba/s]"
      ]
     },
     "metadata": {},
     "output_type": "display_data"
    },
    {
     "data": {
      "application/vnd.jupyter.widget-view+json": {
       "model_id": "dbfdc627576e4634818bb16f0ca74832",
       "version_major": 2,
       "version_minor": 0
      },
      "text/plain": [
       "  0%|          | 0/2 [00:00<?, ?ba/s]"
      ]
     },
     "metadata": {},
     "output_type": "display_data"
    },
    {
     "data": {
      "application/vnd.jupyter.widget-view+json": {
       "model_id": "",
       "version_major": 2,
       "version_minor": 0
      },
      "text/plain": [
       "Saving the dataset (0/1 shards):   0%|          | 0/190 [00:00<?, ? examples/s]"
      ]
     },
     "metadata": {},
     "output_type": "display_data"
    },
    {
     "data": {
      "application/vnd.jupyter.widget-view+json": {
       "model_id": "",
       "version_major": 2,
       "version_minor": 0
      },
      "text/plain": [
       "Saving the dataset (0/1 shards):   0%|          | 0/676 [00:00<?, ? examples/s]"
      ]
     },
     "metadata": {},
     "output_type": "display_data"
    },
    {
     "data": {
      "application/vnd.jupyter.widget-view+json": {
       "model_id": "",
       "version_major": 2,
       "version_minor": 0
      },
      "text/plain": [
       "Saving the dataset (0/1 shards):   0%|          | 0/1685 [00:00<?, ? examples/s]"
      ]
     },
     "metadata": {},
     "output_type": "display_data"
    },
    {
     "data": {
      "application/vnd.jupyter.widget-view+json": {
       "model_id": "ae8648e6da26493eb796af9e28f56408",
       "version_major": 2,
       "version_minor": 0
      },
      "text/plain": [
       "  0%|          | 0/1 [00:00<?, ?ba/s]"
      ]
     },
     "metadata": {},
     "output_type": "display_data"
    },
    {
     "data": {
      "application/vnd.jupyter.widget-view+json": {
       "model_id": "7cc5664af4f747e8a7f7119c6afdf9a1",
       "version_major": 2,
       "version_minor": 0
      },
      "text/plain": [
       "  0%|          | 0/1 [00:00<?, ?ba/s]"
      ]
     },
     "metadata": {},
     "output_type": "display_data"
    },
    {
     "data": {
      "application/vnd.jupyter.widget-view+json": {
       "model_id": "dc2259537e4c4e34a948ab580b4c9059",
       "version_major": 2,
       "version_minor": 0
      },
      "text/plain": [
       "  0%|          | 0/2 [00:00<?, ?ba/s]"
      ]
     },
     "metadata": {},
     "output_type": "display_data"
    },
    {
     "data": {
      "application/vnd.jupyter.widget-view+json": {
       "model_id": "",
       "version_major": 2,
       "version_minor": 0
      },
      "text/plain": [
       "Saving the dataset (0/1 shards):   0%|          | 0/95 [00:00<?, ? examples/s]"
      ]
     },
     "metadata": {},
     "output_type": "display_data"
    },
    {
     "data": {
      "application/vnd.jupyter.widget-view+json": {
       "model_id": "",
       "version_major": 2,
       "version_minor": 0
      },
      "text/plain": [
       "Saving the dataset (0/1 shards):   0%|          | 0/676 [00:00<?, ? examples/s]"
      ]
     },
     "metadata": {},
     "output_type": "display_data"
    },
    {
     "data": {
      "application/vnd.jupyter.widget-view+json": {
       "model_id": "",
       "version_major": 2,
       "version_minor": 0
      },
      "text/plain": [
       "Saving the dataset (0/1 shards):   0%|          | 0/1685 [00:00<?, ? examples/s]"
      ]
     },
     "metadata": {},
     "output_type": "display_data"
    },
    {
     "data": {
      "application/vnd.jupyter.widget-view+json": {
       "model_id": "f056e9c663e5454a89cba044eb22b436",
       "version_major": 2,
       "version_minor": 0
      },
      "text/plain": [
       "  0%|          | 0/1 [00:00<?, ?ba/s]"
      ]
     },
     "metadata": {},
     "output_type": "display_data"
    },
    {
     "data": {
      "application/vnd.jupyter.widget-view+json": {
       "model_id": "baeca26149034437ae0ffea74b46b4c9",
       "version_major": 2,
       "version_minor": 0
      },
      "text/plain": [
       "  0%|          | 0/1 [00:00<?, ?ba/s]"
      ]
     },
     "metadata": {},
     "output_type": "display_data"
    },
    {
     "data": {
      "application/vnd.jupyter.widget-view+json": {
       "model_id": "3b4fdae79107444194efeef824c7a673",
       "version_major": 2,
       "version_minor": 0
      },
      "text/plain": [
       "  0%|          | 0/2 [00:00<?, ?ba/s]"
      ]
     },
     "metadata": {},
     "output_type": "display_data"
    },
    {
     "data": {
      "application/vnd.jupyter.widget-view+json": {
       "model_id": "",
       "version_major": 2,
       "version_minor": 0
      },
      "text/plain": [
       "Saving the dataset (0/1 shards):   0%|          | 0/47 [00:00<?, ? examples/s]"
      ]
     },
     "metadata": {},
     "output_type": "display_data"
    },
    {
     "data": {
      "application/vnd.jupyter.widget-view+json": {
       "model_id": "",
       "version_major": 2,
       "version_minor": 0
      },
      "text/plain": [
       "Saving the dataset (0/1 shards):   0%|          | 0/676 [00:00<?, ? examples/s]"
      ]
     },
     "metadata": {},
     "output_type": "display_data"
    },
    {
     "data": {
      "application/vnd.jupyter.widget-view+json": {
       "model_id": "",
       "version_major": 2,
       "version_minor": 0
      },
      "text/plain": [
       "Saving the dataset (0/1 shards):   0%|          | 0/1685 [00:00<?, ? examples/s]"
      ]
     },
     "metadata": {},
     "output_type": "display_data"
    }
   ],
   "source": [
    "if CREATE_REF_IOB2:\n",
    "    from util_iob2_m1 import save_dataset_iob2\n",
    "    \n",
    "    RES = OUT_BASE / f\"m1-experiment_1_prepared_dataset_ref_iob2_{MODEL_NAME}_v2\"\n",
    "    if not os.path.exists(RES):\n",
    "        os.makedirs(RES)\n",
    "    NAMES = [\"train\",\"dev\",\"test\"]\n",
    "    \n",
    "    for train in exp1_trainsets:\n",
    "        datasets = [train, dev, test]\n",
    "        save_dataset_iob2(RES, datasets, [\"train\",\"dev\",\"test\"], suffix=len(train))"
   ]
  },
  {
   "cell_type": "markdown",
   "id": "2eac444b",
   "metadata": {},
   "source": [
    "## 01.2 Noisy data"
   ]
  },
  {
   "cell_type": "code",
   "execution_count": 13,
   "id": "97a7f294",
   "metadata": {},
   "outputs": [],
   "source": [
    "#Sanity check\n",
    "PATH = DATASETS / \"61-ner_align_pero_brat/\"\n",
    "f = open(f\"{PATH}/all_brat.json\")\n",
    "data = json.load(f)\n",
    "f.close()"
   ]
  },
  {
   "cell_type": "code",
   "execution_count": 14,
   "id": "2e51597e",
   "metadata": {},
   "outputs": [
    {
     "data": {
      "text/html": [
       "<div>\n",
       "<style scoped>\n",
       "    .dataframe tbody tr th:only-of-type {\n",
       "        vertical-align: middle;\n",
       "    }\n",
       "\n",
       "    .dataframe tbody tr th {\n",
       "        vertical-align: top;\n",
       "    }\n",
       "\n",
       "    .dataframe thead th {\n",
       "        text-align: right;\n",
       "    }\n",
       "</style>\n",
       "<table border=\"1\" class=\"dataframe\">\n",
       "  <thead>\n",
       "    <tr style=\"text-align: right;\">\n",
       "      <th></th>\n",
       "      <th>id</th>\n",
       "      <th>book</th>\n",
       "      <th>page</th>\n",
       "      <th>text_ocr</th>\n",
       "      <th>nested_ner_xml</th>\n",
       "      <th>has_valid_ner_xml</th>\n",
       "      <th>brat</th>\n",
       "    </tr>\n",
       "  </thead>\n",
       "  <tbody>\n",
       "    <tr>\n",
       "      <th>0</th>\n",
       "      <td>286</td>\n",
       "      <td>Bottin1_1820</td>\n",
       "      <td>107</td>\n",
       "      <td>Dufau et Clémendot, pharmaciens, r. de la\\nChä...</td>\n",
       "      <td>&lt;PER&gt;Dufau et Clémendot&lt;/PER&gt;, &lt;ACT&gt;pharmacien...</td>\n",
       "      <td>False</td>\n",
       "      <td>[Dufau et Clémendot, pharmaciens, r. de la ",
       "Chä...</td>\n",
       "    </tr>\n",
       "    <tr>\n",
       "      <th>1</th>\n",
       "      <td>290</td>\n",
       "      <td>Bottin1_1820</td>\n",
       "      <td>107</td>\n",
       "      <td>☞\\n\\nT\\nDufant (Victor), libraire, r. du Gros-...</td>\n",
       "      <td>☞ ",
       " ",
       "T ",
       "&lt;PER&gt;Dufant (Victor)&lt;/PER&gt;, &lt;ACT&gt;libraire...</td>\n",
       "      <td>True</td>\n",
       "      <td>[☞ ",
       " ",
       "T ",
       "Dufant (Victor), libraire, r. du Gros-Ch...</td>\n",
       "    </tr>\n",
       "    <tr>\n",
       "      <th>2</th>\n",
       "      <td>292</td>\n",
       "      <td>Bottin1_1820</td>\n",
       "      <td>107</td>\n",
       "      <td>Dutay, essayeur du commerce, place Dau-\\n\\n-\\n...</td>\n",
       "      <td>&lt;PER&gt;Dutay&lt;/PER&gt;, &lt;ACT&gt;essayeur du commerce&lt;/A...</td>\n",
       "      <td>True</td>\n",
       "      <td>[Dutay, essayeur du commerce, place Dau- ",
       " ",
       "- ",
       "pí...</td>\n",
       "    </tr>\n",
       "    <tr>\n",
       "      <th>3</th>\n",
       "      <td>294</td>\n",
       "      <td>Bottin1_1820</td>\n",
       "      <td>107</td>\n",
       "      <td>Dulay, chandronnier, r. du Pont- aux-\\nChuux, ...</td>\n",
       "      <td>&lt;PER&gt;Dulay&lt;/PER&gt;, &lt;ACT&gt;chandronnier&lt;/ACT&gt;, &lt;SP...</td>\n",
       "      <td>True</td>\n",
       "      <td>[Dulay, chandronnier, r. du Pont- aux- ",
       "Chuux, ...</td>\n",
       "    </tr>\n",
       "    <tr>\n",
       "      <th>4</th>\n",
       "      <td>298</td>\n",
       "      <td>Bottin1_1820</td>\n",
       "      <td>107</td>\n",
       "      <td>Dufay (V.e), grenetière, r. du Fauh.-S.\\nDenis...</td>\n",
       "      <td>&lt;PER&gt;Dufay (V.e)&lt;/PER&gt;, &lt;ACT&gt;grenetière&lt;/ACT&gt;,...</td>\n",
       "      <td>True</td>\n",
       "      <td>[Dufay (V.e), grenetière, r. du Fauh.-S. ",
       "Denis...</td>\n",
       "    </tr>\n",
       "    <tr>\n",
       "      <th>...</th>\n",
       "      <td>...</td>\n",
       "      <td>...</td>\n",
       "      <td>...</td>\n",
       "      <td>...</td>\n",
       "      <td>...</td>\n",
       "      <td>...</td>\n",
       "      <td>...</td>\n",
       "    </tr>\n",
       "    <tr>\n",
       "      <th>8760</th>\n",
       "      <td>343</td>\n",
       "      <td>Notables_communaux_seine_1801</td>\n",
       "      <td>144</td>\n",
       "      <td>Lamarche, geographe , rue du foin.</td>\n",
       "      <td>&lt;PER&gt;Lamarche&lt;/PER&gt;, &lt;ACT&gt;geographe&lt;/ACT&gt; , &lt;S...</td>\n",
       "      <td>True</td>\n",
       "      <td>[Lamarche, geographe , rue du foin., [T0, PER,...</td>\n",
       "    </tr>\n",
       "    <tr>\n",
       "      <th>8761</th>\n",
       "      <td>345</td>\n",
       "      <td>Notables_communaux_seine_1801</td>\n",
       "      <td>144</td>\n",
       "      <td>Lamarck, membre de l'institut, quatrieme munic...</td>\n",
       "      <td>&lt;PER&gt;Lamarck&lt;/PER&gt;, &lt;ACT&gt;membre de l&amp;apos;inst...</td>\n",
       "      <td>True</td>\n",
       "      <td>[Lamarck, membre de l&amp;apos;institut, quatrieme...</td>\n",
       "    </tr>\n",
       "    <tr>\n",
       "      <th>8762</th>\n",
       "      <td>347</td>\n",
       "      <td>Notables_communaux_seine_1801</td>\n",
       "      <td>144</td>\n",
       "      <td>Lamare , notaire, rue du faubourg honore.</td>\n",
       "      <td>&lt;PER&gt;Lamare&lt;/PER&gt; , &lt;ACT&gt;notaire&lt;/ACT&gt;, &lt;SPAT&gt;...</td>\n",
       "      <td>True</td>\n",
       "      <td>[Lamare , notaire, rue du faubourg honore., [T...</td>\n",
       "    </tr>\n",
       "    <tr>\n",
       "      <th>8763</th>\n",
       "      <td>349</td>\n",
       "      <td>Notables_communaux_seine_1801</td>\n",
       "      <td>144</td>\n",
       "      <td>Lamarre, carrier, rue mouffetard.</td>\n",
       "      <td>&lt;PER&gt;Lamarre&lt;/PER&gt;, &lt;ACT&gt;carrier&lt;/ACT&gt;, &lt;SPAT&gt;...</td>\n",
       "      <td>True</td>\n",
       "      <td>[Lamarre, carrier, rue mouffetard., [T0, PER, ...</td>\n",
       "    </tr>\n",
       "    <tr>\n",
       "      <th>8764</th>\n",
       "      <td>351</td>\n",
       "      <td>Notables_communaux_seine_1801</td>\n",
       "      <td>144</td>\n",
       "      <td>Lamarre, clerc de notaire, rue égalité.</td>\n",
       "      <td>&lt;PER&gt;Lamarre&lt;/PER&gt;, &lt;ACT&gt;clerc de notaire&lt;/ACT...</td>\n",
       "      <td>True</td>\n",
       "      <td>[Lamarre, clerc de notaire, rue égalité., [T0,...</td>\n",
       "    </tr>\n",
       "  </tbody>\n",
       "</table>\n",
       "<p>8765 rows × 7 columns</p>\n",
       "</div>"
      ],
      "text/plain": [
       "       id                           book  page  \\\n",
       "0     286                   Bottin1_1820   107   \n",
       "1     290                   Bottin1_1820   107   \n",
       "2     292                   Bottin1_1820   107   \n",
       "3     294                   Bottin1_1820   107   \n",
       "4     298                   Bottin1_1820   107   \n",
       "...   ...                            ...   ...   \n",
       "8760  343  Notables_communaux_seine_1801   144   \n",
       "8761  345  Notables_communaux_seine_1801   144   \n",
       "8762  347  Notables_communaux_seine_1801   144   \n",
       "8763  349  Notables_communaux_seine_1801   144   \n",
       "8764  351  Notables_communaux_seine_1801   144   \n",
       "\n",
       "                                               text_ocr  \\\n",
       "0     Dufau et Clémendot, pharmaciens, r. de la\\nChä...   \n",
       "1     ☞\\n\\nT\\nDufant (Victor), libraire, r. du Gros-...   \n",
       "2     Dutay, essayeur du commerce, place Dau-\\n\\n-\\n...   \n",
       "3     Dulay, chandronnier, r. du Pont- aux-\\nChuux, ...   \n",
       "4     Dufay (V.e), grenetière, r. du Fauh.-S.\\nDenis...   \n",
       "...                                                 ...   \n",
       "8760                 Lamarche, geographe , rue du foin.   \n",
       "8761  Lamarck, membre de l'institut, quatrieme munic...   \n",
       "8762          Lamare , notaire, rue du faubourg honore.   \n",
       "8763                  Lamarre, carrier, rue mouffetard.   \n",
       "8764            Lamarre, clerc de notaire, rue égalité.   \n",
       "\n",
       "                                         nested_ner_xml  has_valid_ner_xml  \\\n",
       "0     <PER>Dufau et Clémendot</PER>, <ACT>pharmacien...              False   \n",
       "1     ☞\n",
       "\n",
       "T\n",
       "<PER>Dufant (Victor)</PER>, <ACT>libraire...               True   \n",
       "2     <PER>Dutay</PER>, <ACT>essayeur du commerce</A...               True   \n",
       "3     <PER>Dulay</PER>, <ACT>chandronnier</ACT>, <SP...               True   \n",
       "4     <PER>Dufay (V.e)</PER>, <ACT>grenetière</ACT>,...               True   \n",
       "...                                                 ...                ...   \n",
       "8760  <PER>Lamarche</PER>, <ACT>geographe</ACT> , <S...               True   \n",
       "8761  <PER>Lamarck</PER>, <ACT>membre de l&apos;inst...               True   \n",
       "8762  <PER>Lamare</PER> , <ACT>notaire</ACT>, <SPAT>...               True   \n",
       "8763  <PER>Lamarre</PER>, <ACT>carrier</ACT>, <SPAT>...               True   \n",
       "8764  <PER>Lamarre</PER>, <ACT>clerc de notaire</ACT...               True   \n",
       "\n",
       "                                                   brat  \n",
       "0     [Dufau et Clémendot, pharmaciens, r. de la\n",
       "Chä...  \n",
       "1     [☞\n",
       "\n",
       "T\n",
       "Dufant (Victor), libraire, r. du Gros-Ch...  \n",
       "2     [Dutay, essayeur du commerce, place Dau-\n",
       "\n",
       "-\n",
       "pí...  \n",
       "3     [Dulay, chandronnier, r. du Pont- aux-\n",
       "Chuux, ...  \n",
       "4     [Dufay (V.e), grenetière, r. du Fauh.-S.\n",
       "Denis...  \n",
       "...                                                 ...  \n",
       "8760  [Lamarche, geographe , rue du foin., [T0, PER,...  \n",
       "8761  [Lamarck, membre de l&apos;institut, quatrieme...  \n",
       "8762  [Lamare , notaire, rue du faubourg honore., [T...  \n",
       "8763  [Lamarre, carrier, rue mouffetard., [T0, PER, ...  \n",
       "8764  [Lamarre, clerc de notaire, rue égalité., [T0,...  \n",
       "\n",
       "[8765 rows x 7 columns]"
      ]
     },
     "execution_count": 14,
     "metadata": {},
     "output_type": "execute_result"
    }
   ],
   "source": [
    "gold_reference = pd.DataFrame.from_records(data)\n",
    "gold_reference"
   ]
  },
  {
   "cell_type": "code",
   "execution_count": 15,
   "id": "495b3104",
   "metadata": {},
   "outputs": [
    {
     "data": {
      "text/html": [
       "<div>\n",
       "<style scoped>\n",
       "    .dataframe tbody tr th:only-of-type {\n",
       "        vertical-align: middle;\n",
       "    }\n",
       "\n",
       "    .dataframe tbody tr th {\n",
       "        vertical-align: top;\n",
       "    }\n",
       "\n",
       "    .dataframe thead th {\n",
       "        text-align: right;\n",
       "    }\n",
       "</style>\n",
       "<table border=\"1\" class=\"dataframe\">\n",
       "  <thead>\n",
       "    <tr style=\"text-align: right;\">\n",
       "      <th></th>\n",
       "      <th>brat</th>\n",
       "      <th>book</th>\n",
       "    </tr>\n",
       "  </thead>\n",
       "  <tbody>\n",
       "    <tr>\n",
       "      <th>1</th>\n",
       "      <td>[☞ ",
       " ",
       "T ",
       "Dufant (Victor), libraire, r. du Gros-Ch...</td>\n",
       "      <td>Bottin1_1820</td>\n",
       "    </tr>\n",
       "    <tr>\n",
       "      <th>2</th>\n",
       "      <td>[Dutay, essayeur du commerce, place Dau- ",
       " ",
       "- ",
       "pí...</td>\n",
       "      <td>Bottin1_1820</td>\n",
       "    </tr>\n",
       "    <tr>\n",
       "      <th>3</th>\n",
       "      <td>[Dulay, chandronnier, r. du Pont- aux- ",
       "Chuux, ...</td>\n",
       "      <td>Bottin1_1820</td>\n",
       "    </tr>\n",
       "    <tr>\n",
       "      <th>4</th>\n",
       "      <td>[Dufay (V.e), grenetière, r. du Fauh.-S. ",
       "Denis...</td>\n",
       "      <td>Bottin1_1820</td>\n",
       "    </tr>\n",
       "    <tr>\n",
       "      <th>5</th>\n",
       "      <td>[Y ",
       "☞ ",
       "Dnten,charentier, 1. Montmartre, 89. 318,...</td>\n",
       "      <td>Bottin1_1820</td>\n",
       "    </tr>\n",
       "    <tr>\n",
       "      <th>...</th>\n",
       "      <td>...</td>\n",
       "      <td>...</td>\n",
       "    </tr>\n",
       "    <tr>\n",
       "      <th>8760</th>\n",
       "      <td>[Lamarche, geographe , rue du foin., [T0, PER,...</td>\n",
       "      <td>Notables_communaux_seine_1801</td>\n",
       "    </tr>\n",
       "    <tr>\n",
       "      <th>8761</th>\n",
       "      <td>[Lamarck, membre de l&amp;apos;institut, quatrieme...</td>\n",
       "      <td>Notables_communaux_seine_1801</td>\n",
       "    </tr>\n",
       "    <tr>\n",
       "      <th>8762</th>\n",
       "      <td>[Lamare , notaire, rue du faubourg honore., [T...</td>\n",
       "      <td>Notables_communaux_seine_1801</td>\n",
       "    </tr>\n",
       "    <tr>\n",
       "      <th>8763</th>\n",
       "      <td>[Lamarre, carrier, rue mouffetard., [T0, PER, ...</td>\n",
       "      <td>Notables_communaux_seine_1801</td>\n",
       "    </tr>\n",
       "    <tr>\n",
       "      <th>8764</th>\n",
       "      <td>[Lamarre, clerc de notaire, rue égalité., [T0,...</td>\n",
       "      <td>Notables_communaux_seine_1801</td>\n",
       "    </tr>\n",
       "  </tbody>\n",
       "</table>\n",
       "<p>8445 rows × 2 columns</p>\n",
       "</div>"
      ],
      "text/plain": [
       "                                                   brat  \\\n",
       "1     [☞\n",
       "\n",
       "T\n",
       "Dufant (Victor), libraire, r. du Gros-Ch...   \n",
       "2     [Dutay, essayeur du commerce, place Dau-\n",
       "\n",
       "-\n",
       "pí...   \n",
       "3     [Dulay, chandronnier, r. du Pont- aux-\n",
       "Chuux, ...   \n",
       "4     [Dufay (V.e), grenetière, r. du Fauh.-S.\n",
       "Denis...   \n",
       "5     [Y\n",
       "☞\n",
       "Dnten,charentier, 1. Montmartre, 89. 318,...   \n",
       "...                                                 ...   \n",
       "8760  [Lamarche, geographe , rue du foin., [T0, PER,...   \n",
       "8761  [Lamarck, membre de l&apos;institut, quatrieme...   \n",
       "8762  [Lamare , notaire, rue du faubourg honore., [T...   \n",
       "8763  [Lamarre, carrier, rue mouffetard., [T0, PER, ...   \n",
       "8764  [Lamarre, clerc de notaire, rue égalité., [T0,...   \n",
       "\n",
       "                               book  \n",
       "1                      Bottin1_1820  \n",
       "2                      Bottin1_1820  \n",
       "3                      Bottin1_1820  \n",
       "4                      Bottin1_1820  \n",
       "5                      Bottin1_1820  \n",
       "...                             ...  \n",
       "8760  Notables_communaux_seine_1801  \n",
       "8761  Notables_communaux_seine_1801  \n",
       "8762  Notables_communaux_seine_1801  \n",
       "8763  Notables_communaux_seine_1801  \n",
       "8764  Notables_communaux_seine_1801  \n",
       "\n",
       "[8445 rows x 2 columns]"
      ]
     },
     "execution_count": 15,
     "metadata": {},
     "output_type": "execute_result"
    }
   ],
   "source": [
    "gold_reference_valid = gold_reference.loc[gold_reference['has_valid_ner_xml'] == True]\n",
    "gold_reference_valid = gold_reference_valid[['brat','book']]\n",
    "gold_reference_valid"
   ]
  },
  {
   "cell_type": "markdown",
   "id": "95a0875c",
   "metadata": {},
   "source": [
    "### Create subsets"
   ]
  },
  {
   "cell_type": "code",
   "execution_count": 16,
   "id": "f59cebb5",
   "metadata": {},
   "outputs": [
    {
     "data": {
      "text/plain": [
       "[6084, 3042, 1521, 760, 380, 190, 95, 47]"
      ]
     },
     "execution_count": 16,
     "metadata": {},
     "output_type": "execute_result"
    }
   ],
   "source": [
    "from dataset_util import train_dev_test_split, unwrap # Local imports\n",
    "from sklearn.model_selection import train_test_split\n",
    "\n",
    "# CONSTANTS\n",
    "MIN_TRAINSET_SIZE = 30\n",
    "\n",
    " # Split 72/8/20% w. stratified sampling on directories names\n",
    "train, dev, test = train_dev_test_split(gold_reference_valid.to_numpy())\n",
    "\n",
    "# Iteratively split the trainset in half to create smaller trainsets\n",
    "exp1_trainsets = [train]\n",
    "t_len = len(train)\n",
    "\n",
    "while True:\n",
    "    try:\n",
    "        current = exp1_trainsets[-1]\n",
    "        _, groups = unwrap(current)\n",
    "        smaller, rest = train_test_split(\n",
    "            current,\n",
    "            train_size=0.5,\n",
    "            shuffle=True,\n",
    "            random_state=config.SPLIT_SEED,\n",
    "            stratify=groups,\n",
    "        )\n",
    "        t_len = len(rest)\n",
    "        if t_len < MIN_TRAINSET_SIZE:\n",
    "            break\n",
    "        exp1_trainsets.append(smaller)\n",
    "\n",
    "    except ValueError:\n",
    "        # Stop now if we encounter the error \"The least populated class in y has only 1 member\".\n",
    "        break\n",
    "\n",
    "[len(s) for s in exp1_trainsets] # Should be "
   ]
  },
  {
   "cell_type": "code",
   "execution_count": 17,
   "id": "15ad33df",
   "metadata": {},
   "outputs": [],
   "source": [
    "# Sanity checks\n",
    "\n",
    "# Dev set should contain 676 examples\n",
    "assert len(dev) == 676\n",
    "\n",
    "# Test set should contain 1685 examples\n",
    "assert len(test) == 1685\n",
    "\n",
    "# Lenghts of exp1_trainsets should be fixed\n",
    "assert sorted([len(s) for s in exp1_trainsets] ) == sorted([6084, 3042, 1521, 760, 380, 190, 95, 47])"
   ]
  },
  {
   "cell_type": "code",
   "execution_count": 18,
   "id": "84f064a4",
   "metadata": {},
   "outputs": [
    {
     "data": {
      "application/vnd.jupyter.widget-view+json": {
       "model_id": "0604453beb4d4f1d80b427e51a3c0a7d",
       "version_major": 2,
       "version_minor": 0
      },
      "text/plain": [
       "  0%|          | 0/7 [00:00<?, ?ba/s]"
      ]
     },
     "metadata": {},
     "output_type": "display_data"
    },
    {
     "data": {
      "application/vnd.jupyter.widget-view+json": {
       "model_id": "0d0564a9d7f34ad995914c6636b3ba2a",
       "version_major": 2,
       "version_minor": 0
      },
      "text/plain": [
       "  0%|          | 0/1 [00:00<?, ?ba/s]"
      ]
     },
     "metadata": {},
     "output_type": "display_data"
    },
    {
     "data": {
      "application/vnd.jupyter.widget-view+json": {
       "model_id": "5ac5f8dedf7d4c20b248f14fcec55357",
       "version_major": 2,
       "version_minor": 0
      },
      "text/plain": [
       "  0%|          | 0/2 [00:00<?, ?ba/s]"
      ]
     },
     "metadata": {},
     "output_type": "display_data"
    },
    {
     "data": {
      "application/vnd.jupyter.widget-view+json": {
       "model_id": "",
       "version_major": 2,
       "version_minor": 0
      },
      "text/plain": [
       "Saving the dataset (0/1 shards):   0%|          | 0/6084 [00:00<?, ? examples/s]"
      ]
     },
     "metadata": {},
     "output_type": "display_data"
    },
    {
     "data": {
      "application/vnd.jupyter.widget-view+json": {
       "model_id": "",
       "version_major": 2,
       "version_minor": 0
      },
      "text/plain": [
       "Saving the dataset (0/1 shards):   0%|          | 0/676 [00:00<?, ? examples/s]"
      ]
     },
     "metadata": {},
     "output_type": "display_data"
    },
    {
     "data": {
      "application/vnd.jupyter.widget-view+json": {
       "model_id": "",
       "version_major": 2,
       "version_minor": 0
      },
      "text/plain": [
       "Saving the dataset (0/1 shards):   0%|          | 0/1685 [00:00<?, ? examples/s]"
      ]
     },
     "metadata": {},
     "output_type": "display_data"
    },
    {
     "data": {
      "application/vnd.jupyter.widget-view+json": {
       "model_id": "122a69348c454eb79122550dec2def7f",
       "version_major": 2,
       "version_minor": 0
      },
      "text/plain": [
       "  0%|          | 0/4 [00:00<?, ?ba/s]"
      ]
     },
     "metadata": {},
     "output_type": "display_data"
    },
    {
     "data": {
      "application/vnd.jupyter.widget-view+json": {
       "model_id": "a2eae002ccf14f95a46351f45da786a6",
       "version_major": 2,
       "version_minor": 0
      },
      "text/plain": [
       "  0%|          | 0/1 [00:00<?, ?ba/s]"
      ]
     },
     "metadata": {},
     "output_type": "display_data"
    },
    {
     "data": {
      "application/vnd.jupyter.widget-view+json": {
       "model_id": "c96b7b99ec6f426694851c5e89a2d370",
       "version_major": 2,
       "version_minor": 0
      },
      "text/plain": [
       "  0%|          | 0/2 [00:00<?, ?ba/s]"
      ]
     },
     "metadata": {},
     "output_type": "display_data"
    },
    {
     "data": {
      "application/vnd.jupyter.widget-view+json": {
       "model_id": "",
       "version_major": 2,
       "version_minor": 0
      },
      "text/plain": [
       "Saving the dataset (0/1 shards):   0%|          | 0/3042 [00:00<?, ? examples/s]"
      ]
     },
     "metadata": {},
     "output_type": "display_data"
    },
    {
     "data": {
      "application/vnd.jupyter.widget-view+json": {
       "model_id": "",
       "version_major": 2,
       "version_minor": 0
      },
      "text/plain": [
       "Saving the dataset (0/1 shards):   0%|          | 0/676 [00:00<?, ? examples/s]"
      ]
     },
     "metadata": {},
     "output_type": "display_data"
    },
    {
     "data": {
      "application/vnd.jupyter.widget-view+json": {
       "model_id": "",
       "version_major": 2,
       "version_minor": 0
      },
      "text/plain": [
       "Saving the dataset (0/1 shards):   0%|          | 0/1685 [00:00<?, ? examples/s]"
      ]
     },
     "metadata": {},
     "output_type": "display_data"
    },
    {
     "data": {
      "application/vnd.jupyter.widget-view+json": {
       "model_id": "75af6e01029c4b52bde43854fa973b01",
       "version_major": 2,
       "version_minor": 0
      },
      "text/plain": [
       "  0%|          | 0/2 [00:00<?, ?ba/s]"
      ]
     },
     "metadata": {},
     "output_type": "display_data"
    },
    {
     "data": {
      "application/vnd.jupyter.widget-view+json": {
       "model_id": "57a227d74deb4b5f98c462f5a09f40b0",
       "version_major": 2,
       "version_minor": 0
      },
      "text/plain": [
       "  0%|          | 0/1 [00:00<?, ?ba/s]"
      ]
     },
     "metadata": {},
     "output_type": "display_data"
    },
    {
     "data": {
      "application/vnd.jupyter.widget-view+json": {
       "model_id": "9ffe4887b41e40e99f4579e177c9a3d7",
       "version_major": 2,
       "version_minor": 0
      },
      "text/plain": [
       "  0%|          | 0/2 [00:00<?, ?ba/s]"
      ]
     },
     "metadata": {},
     "output_type": "display_data"
    },
    {
     "data": {
      "application/vnd.jupyter.widget-view+json": {
       "model_id": "",
       "version_major": 2,
       "version_minor": 0
      },
      "text/plain": [
       "Saving the dataset (0/1 shards):   0%|          | 0/1521 [00:00<?, ? examples/s]"
      ]
     },
     "metadata": {},
     "output_type": "display_data"
    },
    {
     "data": {
      "application/vnd.jupyter.widget-view+json": {
       "model_id": "",
       "version_major": 2,
       "version_minor": 0
      },
      "text/plain": [
       "Saving the dataset (0/1 shards):   0%|          | 0/676 [00:00<?, ? examples/s]"
      ]
     },
     "metadata": {},
     "output_type": "display_data"
    },
    {
     "data": {
      "application/vnd.jupyter.widget-view+json": {
       "model_id": "",
       "version_major": 2,
       "version_minor": 0
      },
      "text/plain": [
       "Saving the dataset (0/1 shards):   0%|          | 0/1685 [00:00<?, ? examples/s]"
      ]
     },
     "metadata": {},
     "output_type": "display_data"
    },
    {
     "data": {
      "application/vnd.jupyter.widget-view+json": {
       "model_id": "e6f53e078a234340bdb9aaac3e24d376",
       "version_major": 2,
       "version_minor": 0
      },
      "text/plain": [
       "  0%|          | 0/1 [00:00<?, ?ba/s]"
      ]
     },
     "metadata": {},
     "output_type": "display_data"
    },
    {
     "data": {
      "application/vnd.jupyter.widget-view+json": {
       "model_id": "923fceeeb3ad4f259952edf860176aa1",
       "version_major": 2,
       "version_minor": 0
      },
      "text/plain": [
       "  0%|          | 0/1 [00:00<?, ?ba/s]"
      ]
     },
     "metadata": {},
     "output_type": "display_data"
    },
    {
     "data": {
      "application/vnd.jupyter.widget-view+json": {
       "model_id": "bebf9d8e4f1144e69e98f2e50e466fa0",
       "version_major": 2,
       "version_minor": 0
      },
      "text/plain": [
       "  0%|          | 0/2 [00:00<?, ?ba/s]"
      ]
     },
     "metadata": {},
     "output_type": "display_data"
    },
    {
     "data": {
      "application/vnd.jupyter.widget-view+json": {
       "model_id": "",
       "version_major": 2,
       "version_minor": 0
      },
      "text/plain": [
       "Saving the dataset (0/1 shards):   0%|          | 0/760 [00:00<?, ? examples/s]"
      ]
     },
     "metadata": {},
     "output_type": "display_data"
    },
    {
     "data": {
      "application/vnd.jupyter.widget-view+json": {
       "model_id": "",
       "version_major": 2,
       "version_minor": 0
      },
      "text/plain": [
       "Saving the dataset (0/1 shards):   0%|          | 0/676 [00:00<?, ? examples/s]"
      ]
     },
     "metadata": {},
     "output_type": "display_data"
    },
    {
     "data": {
      "application/vnd.jupyter.widget-view+json": {
       "model_id": "",
       "version_major": 2,
       "version_minor": 0
      },
      "text/plain": [
       "Saving the dataset (0/1 shards):   0%|          | 0/1685 [00:00<?, ? examples/s]"
      ]
     },
     "metadata": {},
     "output_type": "display_data"
    },
    {
     "data": {
      "application/vnd.jupyter.widget-view+json": {
       "model_id": "ac28452da1664d86abfb09dfa6773ac0",
       "version_major": 2,
       "version_minor": 0
      },
      "text/plain": [
       "  0%|          | 0/1 [00:00<?, ?ba/s]"
      ]
     },
     "metadata": {},
     "output_type": "display_data"
    },
    {
     "data": {
      "application/vnd.jupyter.widget-view+json": {
       "model_id": "6b68a852f8b44a79b6b59984d6683896",
       "version_major": 2,
       "version_minor": 0
      },
      "text/plain": [
       "  0%|          | 0/1 [00:00<?, ?ba/s]"
      ]
     },
     "metadata": {},
     "output_type": "display_data"
    },
    {
     "data": {
      "application/vnd.jupyter.widget-view+json": {
       "model_id": "27989e12d7a8411588a68233b742ff9e",
       "version_major": 2,
       "version_minor": 0
      },
      "text/plain": [
       "  0%|          | 0/2 [00:00<?, ?ba/s]"
      ]
     },
     "metadata": {},
     "output_type": "display_data"
    },
    {
     "data": {
      "application/vnd.jupyter.widget-view+json": {
       "model_id": "",
       "version_major": 2,
       "version_minor": 0
      },
      "text/plain": [
       "Saving the dataset (0/1 shards):   0%|          | 0/380 [00:00<?, ? examples/s]"
      ]
     },
     "metadata": {},
     "output_type": "display_data"
    },
    {
     "data": {
      "application/vnd.jupyter.widget-view+json": {
       "model_id": "",
       "version_major": 2,
       "version_minor": 0
      },
      "text/plain": [
       "Saving the dataset (0/1 shards):   0%|          | 0/676 [00:00<?, ? examples/s]"
      ]
     },
     "metadata": {},
     "output_type": "display_data"
    },
    {
     "data": {
      "application/vnd.jupyter.widget-view+json": {
       "model_id": "",
       "version_major": 2,
       "version_minor": 0
      },
      "text/plain": [
       "Saving the dataset (0/1 shards):   0%|          | 0/1685 [00:00<?, ? examples/s]"
      ]
     },
     "metadata": {},
     "output_type": "display_data"
    },
    {
     "data": {
      "application/vnd.jupyter.widget-view+json": {
       "model_id": "134851f78339464e89eb5a313cfe4212",
       "version_major": 2,
       "version_minor": 0
      },
      "text/plain": [
       "  0%|          | 0/1 [00:00<?, ?ba/s]"
      ]
     },
     "metadata": {},
     "output_type": "display_data"
    },
    {
     "data": {
      "application/vnd.jupyter.widget-view+json": {
       "model_id": "0f4464fdd6d34e8fa985b4f93f415748",
       "version_major": 2,
       "version_minor": 0
      },
      "text/plain": [
       "  0%|          | 0/1 [00:00<?, ?ba/s]"
      ]
     },
     "metadata": {},
     "output_type": "display_data"
    },
    {
     "data": {
      "application/vnd.jupyter.widget-view+json": {
       "model_id": "87fd39791373428f8ecf365935eea6e7",
       "version_major": 2,
       "version_minor": 0
      },
      "text/plain": [
       "  0%|          | 0/2 [00:00<?, ?ba/s]"
      ]
     },
     "metadata": {},
     "output_type": "display_data"
    },
    {
     "data": {
      "application/vnd.jupyter.widget-view+json": {
       "model_id": "",
       "version_major": 2,
       "version_minor": 0
      },
      "text/plain": [
       "Saving the dataset (0/1 shards):   0%|          | 0/190 [00:00<?, ? examples/s]"
      ]
     },
     "metadata": {},
     "output_type": "display_data"
    },
    {
     "data": {
      "application/vnd.jupyter.widget-view+json": {
       "model_id": "",
       "version_major": 2,
       "version_minor": 0
      },
      "text/plain": [
       "Saving the dataset (0/1 shards):   0%|          | 0/676 [00:00<?, ? examples/s]"
      ]
     },
     "metadata": {},
     "output_type": "display_data"
    },
    {
     "data": {
      "application/vnd.jupyter.widget-view+json": {
       "model_id": "",
       "version_major": 2,
       "version_minor": 0
      },
      "text/plain": [
       "Saving the dataset (0/1 shards):   0%|          | 0/1685 [00:00<?, ? examples/s]"
      ]
     },
     "metadata": {},
     "output_type": "display_data"
    },
    {
     "data": {
      "application/vnd.jupyter.widget-view+json": {
       "model_id": "a74275349e184ea3b3d4fee1b419bdc6",
       "version_major": 2,
       "version_minor": 0
      },
      "text/plain": [
       "  0%|          | 0/1 [00:00<?, ?ba/s]"
      ]
     },
     "metadata": {},
     "output_type": "display_data"
    },
    {
     "data": {
      "application/vnd.jupyter.widget-view+json": {
       "model_id": "2f1a13d310944b43805205fca001a362",
       "version_major": 2,
       "version_minor": 0
      },
      "text/plain": [
       "  0%|          | 0/1 [00:00<?, ?ba/s]"
      ]
     },
     "metadata": {},
     "output_type": "display_data"
    },
    {
     "data": {
      "application/vnd.jupyter.widget-view+json": {
       "model_id": "86290d2e5f6a442cac4386d7298f1004",
       "version_major": 2,
       "version_minor": 0
      },
      "text/plain": [
       "  0%|          | 0/2 [00:00<?, ?ba/s]"
      ]
     },
     "metadata": {},
     "output_type": "display_data"
    },
    {
     "data": {
      "application/vnd.jupyter.widget-view+json": {
       "model_id": "",
       "version_major": 2,
       "version_minor": 0
      },
      "text/plain": [
       "Saving the dataset (0/1 shards):   0%|          | 0/95 [00:00<?, ? examples/s]"
      ]
     },
     "metadata": {},
     "output_type": "display_data"
    },
    {
     "data": {
      "application/vnd.jupyter.widget-view+json": {
       "model_id": "",
       "version_major": 2,
       "version_minor": 0
      },
      "text/plain": [
       "Saving the dataset (0/1 shards):   0%|          | 0/676 [00:00<?, ? examples/s]"
      ]
     },
     "metadata": {},
     "output_type": "display_data"
    },
    {
     "data": {
      "application/vnd.jupyter.widget-view+json": {
       "model_id": "",
       "version_major": 2,
       "version_minor": 0
      },
      "text/plain": [
       "Saving the dataset (0/1 shards):   0%|          | 0/1685 [00:00<?, ? examples/s]"
      ]
     },
     "metadata": {},
     "output_type": "display_data"
    },
    {
     "data": {
      "application/vnd.jupyter.widget-view+json": {
       "model_id": "5e4b8183826b4124862c032f5b442be0",
       "version_major": 2,
       "version_minor": 0
      },
      "text/plain": [
       "  0%|          | 0/1 [00:00<?, ?ba/s]"
      ]
     },
     "metadata": {},
     "output_type": "display_data"
    },
    {
     "data": {
      "application/vnd.jupyter.widget-view+json": {
       "model_id": "e0e45ccb1be647208fed07f935e63dac",
       "version_major": 2,
       "version_minor": 0
      },
      "text/plain": [
       "  0%|          | 0/1 [00:00<?, ?ba/s]"
      ]
     },
     "metadata": {},
     "output_type": "display_data"
    },
    {
     "data": {
      "application/vnd.jupyter.widget-view+json": {
       "model_id": "1a837303a68c4f399d417286cefbf6dc",
       "version_major": 2,
       "version_minor": 0
      },
      "text/plain": [
       "  0%|          | 0/2 [00:00<?, ?ba/s]"
      ]
     },
     "metadata": {},
     "output_type": "display_data"
    },
    {
     "data": {
      "application/vnd.jupyter.widget-view+json": {
       "model_id": "",
       "version_major": 2,
       "version_minor": 0
      },
      "text/plain": [
       "Saving the dataset (0/1 shards):   0%|          | 0/47 [00:00<?, ? examples/s]"
      ]
     },
     "metadata": {},
     "output_type": "display_data"
    },
    {
     "data": {
      "application/vnd.jupyter.widget-view+json": {
       "model_id": "",
       "version_major": 2,
       "version_minor": 0
      },
      "text/plain": [
       "Saving the dataset (0/1 shards):   0%|          | 0/676 [00:00<?, ? examples/s]"
      ]
     },
     "metadata": {},
     "output_type": "display_data"
    },
    {
     "data": {
      "application/vnd.jupyter.widget-view+json": {
       "model_id": "",
       "version_major": 2,
       "version_minor": 0
      },
      "text/plain": [
       "Saving the dataset (0/1 shards):   0%|          | 0/1685 [00:00<?, ? examples/s]"
      ]
     },
     "metadata": {},
     "output_type": "display_data"
    }
   ],
   "source": [
    "if CREATE_PERO_IO:\n",
    "    from util_io_m1 import save_dataset_io\n",
    "    \n",
    "    RES = OUT_BASE / f\"m1-experiment_2_prepared_dataset_pero_ocr_io_{MODEL_NAME}_v2\"\n",
    "    if not os.path.exists(RES):\n",
    "        os.makedirs(RES)\n",
    "    NAMES = [\"train\",\"dev\",\"test\"]\n",
    "    \n",
    "    for train in exp1_trainsets:\n",
    "        datasets = [train, dev, test]\n",
    "        save_dataset_io(RES, datasets, [\"train\",\"dev\",\"test\"], suffix=len(train))"
   ]
  },
  {
   "cell_type": "code",
   "execution_count": 19,
   "id": "4324a425",
   "metadata": {},
   "outputs": [
    {
     "data": {
      "application/vnd.jupyter.widget-view+json": {
       "model_id": "72ec7a80d3a24c86924a09f4cd2ae47b",
       "version_major": 2,
       "version_minor": 0
      },
      "text/plain": [
       "  0%|          | 0/7 [00:00<?, ?ba/s]"
      ]
     },
     "metadata": {},
     "output_type": "display_data"
    },
    {
     "data": {
      "application/vnd.jupyter.widget-view+json": {
       "model_id": "639e9291f60a4de0a63baa501864d137",
       "version_major": 2,
       "version_minor": 0
      },
      "text/plain": [
       "  0%|          | 0/1 [00:00<?, ?ba/s]"
      ]
     },
     "metadata": {},
     "output_type": "display_data"
    },
    {
     "data": {
      "application/vnd.jupyter.widget-view+json": {
       "model_id": "4c995c8a5747488f873d22737ee1d364",
       "version_major": 2,
       "version_minor": 0
      },
      "text/plain": [
       "  0%|          | 0/2 [00:00<?, ?ba/s]"
      ]
     },
     "metadata": {},
     "output_type": "display_data"
    },
    {
     "data": {
      "application/vnd.jupyter.widget-view+json": {
       "model_id": "",
       "version_major": 2,
       "version_minor": 0
      },
      "text/plain": [
       "Saving the dataset (0/1 shards):   0%|          | 0/6084 [00:00<?, ? examples/s]"
      ]
     },
     "metadata": {},
     "output_type": "display_data"
    },
    {
     "data": {
      "application/vnd.jupyter.widget-view+json": {
       "model_id": "",
       "version_major": 2,
       "version_minor": 0
      },
      "text/plain": [
       "Saving the dataset (0/1 shards):   0%|          | 0/676 [00:00<?, ? examples/s]"
      ]
     },
     "metadata": {},
     "output_type": "display_data"
    },
    {
     "data": {
      "application/vnd.jupyter.widget-view+json": {
       "model_id": "",
       "version_major": 2,
       "version_minor": 0
      },
      "text/plain": [
       "Saving the dataset (0/1 shards):   0%|          | 0/1685 [00:00<?, ? examples/s]"
      ]
     },
     "metadata": {},
     "output_type": "display_data"
    },
    {
     "data": {
      "application/vnd.jupyter.widget-view+json": {
       "model_id": "41b79bd74e0d43e386b7b5959e6fc7ef",
       "version_major": 2,
       "version_minor": 0
      },
      "text/plain": [
       "  0%|          | 0/4 [00:00<?, ?ba/s]"
      ]
     },
     "metadata": {},
     "output_type": "display_data"
    },
    {
     "data": {
      "application/vnd.jupyter.widget-view+json": {
       "model_id": "2400faab6a464d37b5ca9041a90c5ba4",
       "version_major": 2,
       "version_minor": 0
      },
      "text/plain": [
       "  0%|          | 0/1 [00:00<?, ?ba/s]"
      ]
     },
     "metadata": {},
     "output_type": "display_data"
    },
    {
     "data": {
      "application/vnd.jupyter.widget-view+json": {
       "model_id": "fa0ab5e3651d4991af3fa5c36005eba0",
       "version_major": 2,
       "version_minor": 0
      },
      "text/plain": [
       "  0%|          | 0/2 [00:00<?, ?ba/s]"
      ]
     },
     "metadata": {},
     "output_type": "display_data"
    },
    {
     "data": {
      "application/vnd.jupyter.widget-view+json": {
       "model_id": "",
       "version_major": 2,
       "version_minor": 0
      },
      "text/plain": [
       "Saving the dataset (0/1 shards):   0%|          | 0/3042 [00:00<?, ? examples/s]"
      ]
     },
     "metadata": {},
     "output_type": "display_data"
    },
    {
     "data": {
      "application/vnd.jupyter.widget-view+json": {
       "model_id": "",
       "version_major": 2,
       "version_minor": 0
      },
      "text/plain": [
       "Saving the dataset (0/1 shards):   0%|          | 0/676 [00:00<?, ? examples/s]"
      ]
     },
     "metadata": {},
     "output_type": "display_data"
    },
    {
     "data": {
      "application/vnd.jupyter.widget-view+json": {
       "model_id": "",
       "version_major": 2,
       "version_minor": 0
      },
      "text/plain": [
       "Saving the dataset (0/1 shards):   0%|          | 0/1685 [00:00<?, ? examples/s]"
      ]
     },
     "metadata": {},
     "output_type": "display_data"
    },
    {
     "data": {
      "application/vnd.jupyter.widget-view+json": {
       "model_id": "a3aca61859f045769de856737b35da35",
       "version_major": 2,
       "version_minor": 0
      },
      "text/plain": [
       "  0%|          | 0/2 [00:00<?, ?ba/s]"
      ]
     },
     "metadata": {},
     "output_type": "display_data"
    },
    {
     "data": {
      "application/vnd.jupyter.widget-view+json": {
       "model_id": "81c516df30014c7783661b00425d84c9",
       "version_major": 2,
       "version_minor": 0
      },
      "text/plain": [
       "  0%|          | 0/1 [00:00<?, ?ba/s]"
      ]
     },
     "metadata": {},
     "output_type": "display_data"
    },
    {
     "data": {
      "application/vnd.jupyter.widget-view+json": {
       "model_id": "39a287362ceb4ec086ba21595ed5c3e1",
       "version_major": 2,
       "version_minor": 0
      },
      "text/plain": [
       "  0%|          | 0/2 [00:00<?, ?ba/s]"
      ]
     },
     "metadata": {},
     "output_type": "display_data"
    },
    {
     "data": {
      "application/vnd.jupyter.widget-view+json": {
       "model_id": "",
       "version_major": 2,
       "version_minor": 0
      },
      "text/plain": [
       "Saving the dataset (0/1 shards):   0%|          | 0/1521 [00:00<?, ? examples/s]"
      ]
     },
     "metadata": {},
     "output_type": "display_data"
    },
    {
     "data": {
      "application/vnd.jupyter.widget-view+json": {
       "model_id": "",
       "version_major": 2,
       "version_minor": 0
      },
      "text/plain": [
       "Saving the dataset (0/1 shards):   0%|          | 0/676 [00:00<?, ? examples/s]"
      ]
     },
     "metadata": {},
     "output_type": "display_data"
    },
    {
     "data": {
      "application/vnd.jupyter.widget-view+json": {
       "model_id": "",
       "version_major": 2,
       "version_minor": 0
      },
      "text/plain": [
       "Saving the dataset (0/1 shards):   0%|          | 0/1685 [00:00<?, ? examples/s]"
      ]
     },
     "metadata": {},
     "output_type": "display_data"
    },
    {
     "data": {
      "application/vnd.jupyter.widget-view+json": {
       "model_id": "eab9423336bc4375ba93ab4b2a5a0f1f",
       "version_major": 2,
       "version_minor": 0
      },
      "text/plain": [
       "  0%|          | 0/1 [00:00<?, ?ba/s]"
      ]
     },
     "metadata": {},
     "output_type": "display_data"
    },
    {
     "data": {
      "application/vnd.jupyter.widget-view+json": {
       "model_id": "ca4a69bc1702499f89a1fc83e13f76a9",
       "version_major": 2,
       "version_minor": 0
      },
      "text/plain": [
       "  0%|          | 0/1 [00:00<?, ?ba/s]"
      ]
     },
     "metadata": {},
     "output_type": "display_data"
    },
    {
     "data": {
      "application/vnd.jupyter.widget-view+json": {
       "model_id": "06aa37bab6a349b18830cdf6504faf5b",
       "version_major": 2,
       "version_minor": 0
      },
      "text/plain": [
       "  0%|          | 0/2 [00:00<?, ?ba/s]"
      ]
     },
     "metadata": {},
     "output_type": "display_data"
    },
    {
     "data": {
      "application/vnd.jupyter.widget-view+json": {
       "model_id": "",
       "version_major": 2,
       "version_minor": 0
      },
      "text/plain": [
       "Saving the dataset (0/1 shards):   0%|          | 0/760 [00:00<?, ? examples/s]"
      ]
     },
     "metadata": {},
     "output_type": "display_data"
    },
    {
     "data": {
      "application/vnd.jupyter.widget-view+json": {
       "model_id": "",
       "version_major": 2,
       "version_minor": 0
      },
      "text/plain": [
       "Saving the dataset (0/1 shards):   0%|          | 0/676 [00:00<?, ? examples/s]"
      ]
     },
     "metadata": {},
     "output_type": "display_data"
    },
    {
     "data": {
      "application/vnd.jupyter.widget-view+json": {
       "model_id": "",
       "version_major": 2,
       "version_minor": 0
      },
      "text/plain": [
       "Saving the dataset (0/1 shards):   0%|          | 0/1685 [00:00<?, ? examples/s]"
      ]
     },
     "metadata": {},
     "output_type": "display_data"
    },
    {
     "data": {
      "application/vnd.jupyter.widget-view+json": {
       "model_id": "201946ff98084fd49051f879eada974b",
       "version_major": 2,
       "version_minor": 0
      },
      "text/plain": [
       "  0%|          | 0/1 [00:00<?, ?ba/s]"
      ]
     },
     "metadata": {},
     "output_type": "display_data"
    },
    {
     "data": {
      "application/vnd.jupyter.widget-view+json": {
       "model_id": "58bd815922a34e7b87c741795d796b50",
       "version_major": 2,
       "version_minor": 0
      },
      "text/plain": [
       "  0%|          | 0/1 [00:00<?, ?ba/s]"
      ]
     },
     "metadata": {},
     "output_type": "display_data"
    },
    {
     "data": {
      "application/vnd.jupyter.widget-view+json": {
       "model_id": "d3241e4799a24b069334a20056c78cbc",
       "version_major": 2,
       "version_minor": 0
      },
      "text/plain": [
       "  0%|          | 0/2 [00:00<?, ?ba/s]"
      ]
     },
     "metadata": {},
     "output_type": "display_data"
    },
    {
     "data": {
      "application/vnd.jupyter.widget-view+json": {
       "model_id": "",
       "version_major": 2,
       "version_minor": 0
      },
      "text/plain": [
       "Saving the dataset (0/1 shards):   0%|          | 0/380 [00:00<?, ? examples/s]"
      ]
     },
     "metadata": {},
     "output_type": "display_data"
    },
    {
     "data": {
      "application/vnd.jupyter.widget-view+json": {
       "model_id": "",
       "version_major": 2,
       "version_minor": 0
      },
      "text/plain": [
       "Saving the dataset (0/1 shards):   0%|          | 0/676 [00:00<?, ? examples/s]"
      ]
     },
     "metadata": {},
     "output_type": "display_data"
    },
    {
     "data": {
      "application/vnd.jupyter.widget-view+json": {
       "model_id": "",
       "version_major": 2,
       "version_minor": 0
      },
      "text/plain": [
       "Saving the dataset (0/1 shards):   0%|          | 0/1685 [00:00<?, ? examples/s]"
      ]
     },
     "metadata": {},
     "output_type": "display_data"
    },
    {
     "data": {
      "application/vnd.jupyter.widget-view+json": {
       "model_id": "c716d46dc62b4730a8cb617533f0c9d5",
       "version_major": 2,
       "version_minor": 0
      },
      "text/plain": [
       "  0%|          | 0/1 [00:00<?, ?ba/s]"
      ]
     },
     "metadata": {},
     "output_type": "display_data"
    },
    {
     "data": {
      "application/vnd.jupyter.widget-view+json": {
       "model_id": "fa02b0ccff89494b89fca637f17266cd",
       "version_major": 2,
       "version_minor": 0
      },
      "text/plain": [
       "  0%|          | 0/1 [00:00<?, ?ba/s]"
      ]
     },
     "metadata": {},
     "output_type": "display_data"
    },
    {
     "data": {
      "application/vnd.jupyter.widget-view+json": {
       "model_id": "d071520401e54776905471dbe7a7eef2",
       "version_major": 2,
       "version_minor": 0
      },
      "text/plain": [
       "  0%|          | 0/2 [00:00<?, ?ba/s]"
      ]
     },
     "metadata": {},
     "output_type": "display_data"
    },
    {
     "data": {
      "application/vnd.jupyter.widget-view+json": {
       "model_id": "",
       "version_major": 2,
       "version_minor": 0
      },
      "text/plain": [
       "Saving the dataset (0/1 shards):   0%|          | 0/190 [00:00<?, ? examples/s]"
      ]
     },
     "metadata": {},
     "output_type": "display_data"
    },
    {
     "data": {
      "application/vnd.jupyter.widget-view+json": {
       "model_id": "",
       "version_major": 2,
       "version_minor": 0
      },
      "text/plain": [
       "Saving the dataset (0/1 shards):   0%|          | 0/676 [00:00<?, ? examples/s]"
      ]
     },
     "metadata": {},
     "output_type": "display_data"
    },
    {
     "data": {
      "application/vnd.jupyter.widget-view+json": {
       "model_id": "f07713cf587145cfbafc3d4192c6fc1f",
       "version_major": 2,
       "version_minor": 0
      },
      "text/plain": [
       "Saving the dataset (0/1 shards):   0%|          | 0/1685 [00:00<?, ? examples/s]"
      ]
     },
     "metadata": {},
     "output_type": "display_data"
    },
    {
     "data": {
      "application/vnd.jupyter.widget-view+json": {
       "model_id": "4c92d726ef6e4f8aa14918ad1d79fe70",
       "version_major": 2,
       "version_minor": 0
      },
      "text/plain": [
       "  0%|          | 0/1 [00:00<?, ?ba/s]"
      ]
     },
     "metadata": {},
     "output_type": "display_data"
    },
    {
     "data": {
      "application/vnd.jupyter.widget-view+json": {
       "model_id": "66ae7d506ece4cd3bf9c9123e52f68e9",
       "version_major": 2,
       "version_minor": 0
      },
      "text/plain": [
       "  0%|          | 0/1 [00:00<?, ?ba/s]"
      ]
     },
     "metadata": {},
     "output_type": "display_data"
    },
    {
     "data": {
      "application/vnd.jupyter.widget-view+json": {
       "model_id": "e71f0d64fd5543b19f547b55e43235bb",
       "version_major": 2,
       "version_minor": 0
      },
      "text/plain": [
       "  0%|          | 0/2 [00:00<?, ?ba/s]"
      ]
     },
     "metadata": {},
     "output_type": "display_data"
    },
    {
     "data": {
      "application/vnd.jupyter.widget-view+json": {
       "model_id": "",
       "version_major": 2,
       "version_minor": 0
      },
      "text/plain": [
       "Saving the dataset (0/1 shards):   0%|          | 0/95 [00:00<?, ? examples/s]"
      ]
     },
     "metadata": {},
     "output_type": "display_data"
    },
    {
     "data": {
      "application/vnd.jupyter.widget-view+json": {
       "model_id": "",
       "version_major": 2,
       "version_minor": 0
      },
      "text/plain": [
       "Saving the dataset (0/1 shards):   0%|          | 0/676 [00:00<?, ? examples/s]"
      ]
     },
     "metadata": {},
     "output_type": "display_data"
    },
    {
     "data": {
      "application/vnd.jupyter.widget-view+json": {
       "model_id": "",
       "version_major": 2,
       "version_minor": 0
      },
      "text/plain": [
       "Saving the dataset (0/1 shards):   0%|          | 0/1685 [00:00<?, ? examples/s]"
      ]
     },
     "metadata": {},
     "output_type": "display_data"
    },
    {
     "data": {
      "application/vnd.jupyter.widget-view+json": {
       "model_id": "c771e64854aa4f09b096e8408ea42acc",
       "version_major": 2,
       "version_minor": 0
      },
      "text/plain": [
       "  0%|          | 0/1 [00:00<?, ?ba/s]"
      ]
     },
     "metadata": {},
     "output_type": "display_data"
    },
    {
     "data": {
      "application/vnd.jupyter.widget-view+json": {
       "model_id": "c86ad6b1fd1742d09b2f0523f856c26d",
       "version_major": 2,
       "version_minor": 0
      },
      "text/plain": [
       "  0%|          | 0/1 [00:00<?, ?ba/s]"
      ]
     },
     "metadata": {},
     "output_type": "display_data"
    },
    {
     "data": {
      "application/vnd.jupyter.widget-view+json": {
       "model_id": "0b24f2e472a8437380eb92bbd2c0fccc",
       "version_major": 2,
       "version_minor": 0
      },
      "text/plain": [
       "  0%|          | 0/2 [00:00<?, ?ba/s]"
      ]
     },
     "metadata": {},
     "output_type": "display_data"
    },
    {
     "data": {
      "application/vnd.jupyter.widget-view+json": {
       "model_id": "",
       "version_major": 2,
       "version_minor": 0
      },
      "text/plain": [
       "Saving the dataset (0/1 shards):   0%|          | 0/47 [00:00<?, ? examples/s]"
      ]
     },
     "metadata": {},
     "output_type": "display_data"
    },
    {
     "data": {
      "application/vnd.jupyter.widget-view+json": {
       "model_id": "d491fd5d32994bb4b0fd335a17ecb9f2",
       "version_major": 2,
       "version_minor": 0
      },
      "text/plain": [
       "Saving the dataset (0/1 shards):   0%|          | 0/676 [00:00<?, ? examples/s]"
      ]
     },
     "metadata": {},
     "output_type": "display_data"
    },
    {
     "data": {
      "application/vnd.jupyter.widget-view+json": {
       "model_id": "673cf2c0571c4447a280fd2b8bdd603a",
       "version_major": 2,
       "version_minor": 0
      },
      "text/plain": [
       "Saving the dataset (0/1 shards):   0%|          | 0/1685 [00:00<?, ? examples/s]"
      ]
     },
     "metadata": {},
     "output_type": "display_data"
    }
   ],
   "source": [
    "if CREATE_PERO_IOB2:\n",
    "    from util_iob2_m1 import save_dataset_iob2\n",
    "    \n",
    "    RES = OUT_BASE / f\"m1-experiment_2_prepared_dataset_pero_ocr_iob2_{MODEL_NAME}_v2\"\n",
    "    if not os.path.exists(RES):\n",
    "        os.makedirs(RES)\n",
    "    NAMES = [\"train\",\"dev\",\"test\"]\n",
    "    \n",
    "    for train in exp1_trainsets:\n",
    "        datasets = [train, dev, test]\n",
    "        save_dataset_iob2(RES, datasets, [\"train\",\"dev\",\"test\"], suffix=len(train))"
   ]
  },
  {
   "cell_type": "code",
   "execution_count": 20,
   "id": "a6551a9c",
   "metadata": {},
   "outputs": [
    {
     "name": "stderr",
     "output_type": "stream",
     "text": [
      "/lrde/home2/stual/.venv/python_3_9/lib/python3.10/site-packages/datasets/dataset_dict.py:1241: FutureWarning: 'fs' was is deprecated in favor of 'storage_options' in version 2.8.0 and will be removed in 3.0.0.\n",
      "You can remove this warning by passing 'storage_options=fs.storage_options' instead.\n",
      "  warnings.warn(\n"
     ]
    }
   ],
   "source": [
    "from datasets import load_from_disk\n",
    "set_ = load_from_disk(OUT_BASE / f\"m1-experiment_2_prepared_dataset_pero_ocr_iob2_{MODEL_NAME}_v2/huggingface_6084\")"
   ]
  },
  {
   "cell_type": "code",
   "execution_count": 21,
   "id": "d65f3b47",
   "metadata": {},
   "outputs": [
    {
     "data": {
      "text/plain": [
       "{'tokens': ['▁Au',\n",
       "  'bert',\n",
       "  'in',\n",
       "  ',',\n",
       "  '▁professeur',\n",
       "  '▁au',\n",
       "  '▁lycée',\n",
       "  '▁Louis',\n",
       "  '-',\n",
       "  'le',\n",
       "  '-',\n",
       "  'Grand',\n",
       "  ',',\n",
       "  '▁Saint',\n",
       "  's',\n",
       "  '-',\n",
       "  'P',\n",
       "  'ères',\n",
       "  ',',\n",
       "  '▁7',\n",
       "  '.'],\n",
       " 'ner_tags_niv1': ['B-PER',\n",
       "  'B-PER',\n",
       "  'B-PER',\n",
       "  'O',\n",
       "  'B-DESC',\n",
       "  'I-DESC',\n",
       "  'I-DESC',\n",
       "  'I-DESC',\n",
       "  'I-DESC',\n",
       "  'I-DESC',\n",
       "  'I-DESC',\n",
       "  'I-DESC',\n",
       "  'O',\n",
       "  'B-SPAT',\n",
       "  'B-SPAT',\n",
       "  'I-SPAT',\n",
       "  'I-SPAT',\n",
       "  'I-SPAT',\n",
       "  'I-SPAT',\n",
       "  'I-SPAT',\n",
       "  'O'],\n",
       " 'ner_tags_niv2': ['O',\n",
       "  'O',\n",
       "  'O',\n",
       "  'O',\n",
       "  'B-ACT',\n",
       "  'O',\n",
       "  'O',\n",
       "  'O',\n",
       "  'O',\n",
       "  'O',\n",
       "  'O',\n",
       "  'O',\n",
       "  'O',\n",
       "  'B-LOC',\n",
       "  'B-LOC',\n",
       "  'I-LOC',\n",
       "  'I-LOC',\n",
       "  'I-LOC',\n",
       "  'O',\n",
       "  'B-CARDINAL',\n",
       "  'O'],\n",
       " 'input_ids': [5,\n",
       "  277,\n",
       "  21,\n",
       "  2872,\n",
       "  378,\n",
       "  21,\n",
       "  7,\n",
       "  2136,\n",
       "  36,\n",
       "  3288,\n",
       "  2027,\n",
       "  67,\n",
       "  16,\n",
       "  67,\n",
       "  1224,\n",
       "  21,\n",
       "  7,\n",
       "  377,\n",
       "  52,\n",
       "  67,\n",
       "  275,\n",
       "  21,\n",
       "  4487,\n",
       "  21,\n",
       "  7,\n",
       "  333,\n",
       "  21,\n",
       "  9,\n",
       "  6],\n",
       " 'attention_mask': [1,\n",
       "  1,\n",
       "  1,\n",
       "  1,\n",
       "  1,\n",
       "  1,\n",
       "  1,\n",
       "  1,\n",
       "  1,\n",
       "  1,\n",
       "  1,\n",
       "  1,\n",
       "  1,\n",
       "  1,\n",
       "  1,\n",
       "  1,\n",
       "  1,\n",
       "  1,\n",
       "  1,\n",
       "  1,\n",
       "  1,\n",
       "  1,\n",
       "  1,\n",
       "  1,\n",
       "  1,\n",
       "  1,\n",
       "  1,\n",
       "  1,\n",
       "  1],\n",
       " 'labels_niv1': [-100,\n",
       "  11,\n",
       "  11,\n",
       "  -100,\n",
       "  11,\n",
       "  0,\n",
       "  -100,\n",
       "  12,\n",
       "  2,\n",
       "  2,\n",
       "  2,\n",
       "  2,\n",
       "  2,\n",
       "  2,\n",
       "  2,\n",
       "  0,\n",
       "  -100,\n",
       "  14,\n",
       "  14,\n",
       "  4,\n",
       "  4,\n",
       "  4,\n",
       "  -100,\n",
       "  4,\n",
       "  -100,\n",
       "  4,\n",
       "  0,\n",
       "  -100,\n",
       "  -100],\n",
       " 'labels_niv2': [-100,\n",
       "  0,\n",
       "  0,\n",
       "  -100,\n",
       "  0,\n",
       "  0,\n",
       "  -100,\n",
       "  17,\n",
       "  0,\n",
       "  0,\n",
       "  0,\n",
       "  0,\n",
       "  0,\n",
       "  0,\n",
       "  0,\n",
       "  0,\n",
       "  -100,\n",
       "  18,\n",
       "  18,\n",
       "  8,\n",
       "  8,\n",
       "  8,\n",
       "  -100,\n",
       "  0,\n",
       "  -100,\n",
       "  19,\n",
       "  0,\n",
       "  -100,\n",
       "  -100]}"
      ]
     },
     "execution_count": 21,
     "metadata": {},
     "output_type": "execute_result"
    }
   ],
   "source": [
    "set_[\"test\"][0]"
   ]
  }
 ],
 "metadata": {
  "kernelspec": {
   "display_name": "Python 3 (ipykernel)",
   "language": "python",
   "name": "python3"
  },
  "language_info": {
   "codemirror_mode": {
    "name": "ipython",
    "version": 3
   },
   "file_extension": ".py",
   "mimetype": "text/x-python",
   "name": "python",
   "nbconvert_exporter": "python",
   "pygments_lexer": "ipython3",
   "version": "3.10.8"
  }
 },
 "nbformat": 4,
 "nbformat_minor": 5
}
