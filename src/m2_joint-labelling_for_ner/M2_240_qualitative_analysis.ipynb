{
 "cells": [
  {
   "cell_type": "markdown",
   "id": "cda9d76b",
   "metadata": {},
   "source": [
    "# 240 : Qualitative analysis using M2"
   ]
  },
  {
   "cell_type": "code",
   "execution_count": 27,
   "id": "8ff6c9e6",
   "metadata": {},
   "outputs": [
    {
     "name": "stdout",
     "output_type": "stream",
     "text": [
      "2\n"
     ]
    }
   ],
   "source": [
    "import os\n",
    "os.environ[\"CUDA_VISIBLE_DEVICES\"] = \"2\" #Numéro GPU\n",
    "print(os.environ[\"CUDA_VISIBLE_DEVICES\"])"
   ]
  },
  {
   "cell_type": "code",
   "execution_count": 28,
   "id": "da53ce29-cd5f-4295-ac93-2677c2d07034",
   "metadata": {},
   "outputs": [
    {
     "name": "stdout",
     "output_type": "stream",
     "text": [
      "['/lrde/home2/stual/stage_DAS/m2_joint-labelling_for_ner', '/usr/lib/python310.zip', '/usr/lib/python3.10', '/usr/lib/python3.10/lib-dynload', '', '/lrde/home2/stual/.venv/python_3_9/lib/python3.10/site-packages']\n",
      "/lrde/home2/stual/stage_DAS/m2_joint-labelling_for_ner\n",
      "/work/stual/dataset_ICDAR\n",
      "/work/stual/res_ICDAR/method_2\n"
     ]
    }
   ],
   "source": [
    "import os, sys\n",
    "from pathlib import Path\n",
    "\n",
    "ENV_IS_GOOGLE_COLAB = True if 'google.colab' in str(get_ipython()) else False\n",
    "os.environ[\"ENV_IS_GOOGLE_COLAB\"] = str(ENV_IS_GOOGLE_COLAB)\n",
    "\n",
    "if ENV_IS_GOOGLE_COLAB:\n",
    "  from google.colab import drive\n",
    "  mountpoint = Path(\"/content/drive\")\n",
    "  drive.mount(str(mountpoint)) # Mount gdrive to BASE\n",
    "  base = mountpoint / \"MyDrive\" # Adapt this to your situation\n",
    "  sys.path.append(str(base)) # Add BASE to Python Path\n",
    "  BASE = Path(base).resolve() # Make BASE absolute\n",
    "  DATASETS =  BASE / \"dataset\"\n",
    "else:\n",
    "  BASE = Path(os.path.dirname(os.path.realpath(\"__file__\"))).resolve() # If not on GColab, BASE will be the directory of this notebook\n",
    "  DATASETS = Path('/work/stual/dataset_ICDAR').resolve()\n",
    "  OUT_BASE = Path('/work/stual/res_ICDAR/method_2').resolve()\n",
    "\n",
    "print(sys.path)\n",
    "print(BASE)\n",
    "print(DATASETS)\n",
    "print(OUT_BASE)"
   ]
  },
  {
   "cell_type": "markdown",
   "id": "c2021c2a",
   "metadata": {},
   "source": [
    "## Model"
   ]
  },
  {
   "cell_type": "markdown",
   "id": "44b9b68e",
   "metadata": {},
   "source": [
    "Choose a fine-tuned model to evaluate in the following list :"
   ]
  },
  {
   "cell_type": "code",
   "execution_count": 45,
   "id": "f1a4baed",
   "metadata": {},
   "outputs": [
    {
     "name": "stdout",
     "output_type": "stream",
     "text": [
      "FINE-TUNED MODELS\n",
      "211-camembert-ner-joint-labelling-io/checkpoint-600\n",
      "212-camembert-ner-joint-labelling-iob2/checkpoint-1300\n",
      "213-pretrained-camembert-ner-joint-labelling-io-classes/checkpoint-2400\n",
      "214-pretrained-camembert-ner-joint-labelling-iob2-classes/checkpoint-3100\n",
      "221-camembert-ner-joint-labelling-io/checkpoint-2000\n",
      "222-camembert-ner-joint-labelling-iob2/checkpoint-1500\n",
      "223-pretrained-camembert-ner-joint-labelling-io/checkpoint-1200\n",
      "224-pretrained-camembert-ner-joint-labelling-iob2/checkpoint-1200\n"
     ]
    }
   ],
   "source": [
    "import glob\n",
    "\n",
    "models_list = sorted(glob.glob(f\"{OUT_BASE}/tmp/*/checkpoint*\"))\n",
    "print(\"FINE-TUNED MODELS\")\n",
    "for m in models_list:\n",
    "    l = m.split('/')\n",
    "    l = '/'.join(l[-2:])\n",
    "    print(l)"
   ]
  },
  {
   "cell_type": "code",
   "execution_count": 46,
   "id": "c41fa468",
   "metadata": {},
   "outputs": [],
   "source": [
    "MODEL_PATH = f\"{OUT_BASE}/tmp/223-pretrained-camembert-ner-joint-labelling-io/checkpoint-1200\""
   ]
  },
  {
   "cell_type": "markdown",
   "id": "6fbb597f",
   "metadata": {},
   "source": [
    "## Load data"
   ]
  },
  {
   "cell_type": "markdown",
   "id": "299fc2c1",
   "metadata": {},
   "source": [
    "### Gold"
   ]
  },
  {
   "cell_type": "code",
   "execution_count": 67,
   "id": "2aa81965",
   "metadata": {},
   "outputs": [
    {
     "name": "stderr",
     "output_type": "stream",
     "text": [
      "/lrde/home2/stual/.venv/python_3_9/lib/python3.10/site-packages/datasets/dataset_dict.py:1241: FutureWarning: 'fs' was is deprecated in favor of 'storage_options' in version 2.8.0 and will be removed in 3.0.0.\n",
      "You can remove this warning by passing 'storage_options=fs.storage_options' instead.\n",
      "  warnings.warn(\n"
     ]
    },
    {
     "data": {
      "text/plain": [
       "{'tokens': ['▁Au',\n",
       "  'bert',\n",
       "  'in',\n",
       "  ',',\n",
       "  '▁professeur',\n",
       "  '▁au',\n",
       "  '▁lycée',\n",
       "  '▁Louis',\n",
       "  '-',\n",
       "  'le',\n",
       "  '-',\n",
       "  'Grand',\n",
       "  ',',\n",
       "  '▁Saint',\n",
       "  's',\n",
       "  '-',\n",
       "  'P',\n",
       "  'ères',\n",
       "  ',',\n",
       "  '▁7',\n",
       "  '.'],\n",
       " 'ner_tags': ['I-PER+O',\n",
       "  'I-PER+O',\n",
       "  'I-PER+O',\n",
       "  'O+O',\n",
       "  'I-DESC+i_ACT',\n",
       "  'I-DESC+O',\n",
       "  'I-DESC+O',\n",
       "  'I-DESC+O',\n",
       "  'I-DESC+O',\n",
       "  'I-DESC+O',\n",
       "  'I-DESC+O',\n",
       "  'I-DESC+O',\n",
       "  'O+O',\n",
       "  'I-SPAT+i_LOC',\n",
       "  'I-SPAT+i_LOC',\n",
       "  'I-SPAT+i_LOC',\n",
       "  'I-SPAT+i_LOC',\n",
       "  'I-SPAT+i_LOC',\n",
       "  'I-SPAT+O',\n",
       "  'I-SPAT+i_CARDINAL',\n",
       "  'O+O'],\n",
       " 'input_ids': [5,\n",
       "  277,\n",
       "  21,\n",
       "  2872,\n",
       "  378,\n",
       "  21,\n",
       "  7,\n",
       "  2136,\n",
       "  36,\n",
       "  3288,\n",
       "  2027,\n",
       "  67,\n",
       "  16,\n",
       "  67,\n",
       "  1224,\n",
       "  21,\n",
       "  7,\n",
       "  377,\n",
       "  52,\n",
       "  67,\n",
       "  275,\n",
       "  21,\n",
       "  4487,\n",
       "  21,\n",
       "  7,\n",
       "  333,\n",
       "  21,\n",
       "  9,\n",
       "  6],\n",
       " 'attention_mask': [1,\n",
       "  1,\n",
       "  1,\n",
       "  1,\n",
       "  1,\n",
       "  1,\n",
       "  1,\n",
       "  1,\n",
       "  1,\n",
       "  1,\n",
       "  1,\n",
       "  1,\n",
       "  1,\n",
       "  1,\n",
       "  1,\n",
       "  1,\n",
       "  1,\n",
       "  1,\n",
       "  1,\n",
       "  1,\n",
       "  1,\n",
       "  1,\n",
       "  1,\n",
       "  1,\n",
       "  1,\n",
       "  1,\n",
       "  1,\n",
       "  1,\n",
       "  1],\n",
       " 'labels': [-100,\n",
       "  1,\n",
       "  1,\n",
       "  -100,\n",
       "  1,\n",
       "  0,\n",
       "  -100,\n",
       "  5,\n",
       "  4,\n",
       "  4,\n",
       "  4,\n",
       "  4,\n",
       "  4,\n",
       "  4,\n",
       "  4,\n",
       "  0,\n",
       "  -100,\n",
       "  8,\n",
       "  8,\n",
       "  8,\n",
       "  8,\n",
       "  8,\n",
       "  -100,\n",
       "  7,\n",
       "  -100,\n",
       "  9,\n",
       "  0,\n",
       "  -100,\n",
       "  -100]}"
      ]
     },
     "execution_count": 67,
     "metadata": {},
     "output_type": "execute_result"
    }
   ],
   "source": [
    "import os\n",
    "from pathlib import Path\n",
    "from config import logger\n",
    "from datasets import load_from_disk\n",
    "\n",
    "TRAINSETS_SIZES = [6084] #To train only on the biggest dataset\n",
    "\n",
    "# INPUT / OUTPUT DIRS\n",
    "INPUT_DIR = OUT_BASE / f\"m2-experiment_1_prepared_dataset_pero_ocr_io_camembert_ner_v2\"\n",
    "train_dev_test = load_from_disk(INPUT_DIR / \"huggingface_6084\")\n",
    "test = train_dev_test[\"test\"]\n",
    "test[0]"
   ]
  },
  {
   "cell_type": "markdown",
   "id": "3741d14e",
   "metadata": {},
   "source": [
    "### Non-structured entries"
   ]
  },
  {
   "cell_type": "code",
   "execution_count": 68,
   "id": "983f5a25",
   "metadata": {},
   "outputs": [
    {
     "name": "stdout",
     "output_type": "stream",
     "text": [
      "1685\n",
      "/work/stual/res_ICDAR/method_2/m2-experiment_1_prepared_dataset_pero_ocr_io_camembert_ner_v2/test_entries.txt\n"
     ]
    }
   ],
   "source": [
    "import pandas as pd\n",
    "\n",
    "PATH = INPUT_DIR / f'test_entries.txt'\n",
    "with open(PATH, 'r',encoding='utf8') as ex:\n",
    "    lines = ex.readlines()\n",
    "    for i in range(len(lines)):\n",
    "        lines[i] = lines[i].replace('\\n','')\n",
    "print(len(lines))\n",
    "print(str(PATH))"
   ]
  },
  {
   "cell_type": "markdown",
   "id": "eaba547f",
   "metadata": {},
   "source": [
    "## Use model on entries"
   ]
  },
  {
   "cell_type": "code",
   "execution_count": 49,
   "id": "4c5b00a0",
   "metadata": {},
   "outputs": [],
   "source": [
    "from transformers import pipeline\n",
    "from transformers import AutoTokenizer, AutoModelForTokenClassification, TokenClassificationPipeline\n",
    "\n",
    "LIMIT = 100\n",
    "\n",
    "tokenizer = AutoTokenizer.from_pretrained(MODEL_PATH) #Param : tokenizer du modele souhaité\n",
    "model = AutoModelForTokenClassification.from_pretrained(MODEL_PATH) #Modèle choisi\n",
    "\n",
    "#Classification des entités\n",
    "nlp = pipeline('ner', model=model, tokenizer=tokenizer, aggregation_strategy=None, use_fast=True)"
   ]
  },
  {
   "cell_type": "code",
   "execution_count": 50,
   "id": "07da614f",
   "metadata": {
    "scrolled": true
   },
   "outputs": [
    {
     "name": "stdout",
     "output_type": "stream",
     "text": [
      "Aubertin, professeur au lycée Louis-le-Grand, ",
      "Saints-Pères, 7.\n",
      "baints-Peres, . ",
      "Aubertin, représentant du peuple (Marne), ",
      "Richelieu, 63.\n",
      "Aubertin, teinturier - dégraisseur, passage ",
      "Brady, 30, 32 et 34, et Cadet, 6.\n",
      "Aubertin, teinturier-dégraisseur, Faub.-St- ",
      "Honoré, 99.\n",
      "Auberville (Ctesse douairière d&apos;), Grenelle-St- ",
      "Germ., 69.\n",
      "Auberville (Ctesse d&apos;) , Grenelle-Saint-Ger- ",
      "main, 100.\n",
      "Aubery-Fromental, bijout. en or, Temple, 89.\n",
      "Aubery-Galban, imp.-lithog. pass. du Caire, ",
      "129.\n",
      "Aubespin (Cte Léonel de l), Union, 24.\n",
      "Aubeux, fab d&apos;étoffes pour gilets, Orillon, 20, ",
      "et impasse de l&apos;Orillon, 6.\n",
      "Aubier, épicier, place Saint-Sulpice, 6, et Ca- ",
      "nettes, 25.\n",
      "Aubigny d&apos;Assy (Ctesse d), Babylone, 24.\n",
      "Aubin, artificier, Lafayette, 113, en face la rue ",
      "Château-Landon.\n",
      "Aubin, avoc. à la cour de cassation, Joubert, 6.\n",
      "Aubin, boulanger, Petits-Augustins, 20.\n",
      "Aubin (Ch.), commissionn., Faubourg-Pois- ",
      "sonnière, 8.\n",
      "Aubin, cuirs en poils, Française, 4.\n",
      "Aubin et Cie éperonn., St-Nicolas-d&apos;Antin, 74\n",
      "Aubin (E.), éventailliste, Saint-Denis. 358, ",
      "passage du Ponceau, escalier A.\n",
      "Aubin, imprimeur en taille-douce, Caire, 1.\n",
      "Aubin (G.), mandataire de la caisse d&apos;union ",
      "commerciale, Meslay, 43.\n",
      "Aubin, fab. d&apos;outils, Popincourt, 5.\n",
      "Aubin, pharm. et droguiste, Bourtibourg, 12.\n",
      "Aubin fils, fab. de poires à poudre, Breteuil, ",
      "6.\n",
      "Aubin, propriet., Neuve-St-Méry, 28.\n",
      "Aubin aîné, vins, traiteur, Université, 124.\n",
      "Aubin, vins, Ste-Opportune, 5.\n",
      "Aubin-Thoumasson, tailleur, Bouloi, ",
      "I.\n",
      "Aubine, boulanger, Ecole-de-Médecine, 34.\n",
      "Aubine, lingerie, nouveautés, Bourbon-Ville- ",
      "neuve, 43.\n",
      "Aubine, liquoriste, St-Jacques, 41.\n",
      "Aubine vins, Deux-Ecus, ",
      "19.\n",
      "Aubine (X.),vins et eaux-de-vie en gros, ",
      "Chanoinesse, 24.\n",
      "Aubine, vins, Verderet, 13.\n",
      "Aubineau, horloger, Tracy. 7.\n",
      "Aubineau, fab de lampes-phares, Meslay, 65\n",
      "Aubineau (A.), négociant et fabricant de sucre, ",
      "Corderie-du-Temple, 11.\n",
      "Aubinet (Mme), mercière, Val Ste-Catherine, ",
      "19.\n",
      "Aublay, employé à la bibliothèque Ste-Gene- ",
      "viève, à la bibliothèque, place du Carré-Sainte- ",
      "Geneviève, 1.\n",
      "Aublet, menuisier-ébeniste, Lourcine, 102.\n",
      "Aublet, serrurier, Madeleine, 8.\n",
      "Aublin, rentier, impasse d&apos; Argenteuil, ",
      "7.\n",
      "Aublin, médecin, Bertin-Poirée, 10.\n",
      "Aublin, Cafe-Concert, Mazarine, 48.\n",
      "Aubon, anc. avoué, Faubourg-St-Martin, 13.\n",
      "Aubouer aîné, ébeniste, Lesdiguières, 17.\n",
      "Aubouer jeune, ébéniste, Charenton, 35.\n",
      "Aubouin, serrurier, St-Avoye, 38.\n",
      "Aubourg, agent d&apos;affaires, Guénégaud, 18.\n",
      "Aubourg, boulanger, Fosses-Saint-Germain- ",
      "l&apos;Auxerrois, 10.\n",
      "Aubourg, limonadier, St-Antoine, 104.\n",
      "Aubout (F.), mécanicien, Croix-du-Temple, 17.\n",
      "Aubrée, 1er commis aux contributions direc- ",
      "tes, Poultier, 9.\n",
      "Aubrée, horloger, St-Honoré, 134.\n",
      "Aubrée aîné, couvert. pour chevaux, Grande- ",
      "Truanderie, 50.\n",
      "Aubrée, tourneur en cuivre, Ponceau, 22.\n",
      "Aubrée (Mme ",
      "vins, boul. du Temple, 76.\n",
      "Aubrée-Thibault et Périer, lingerie, Rambu- ",
      "teau, 26.\n",
      "Aubril (Guitry, successeur), rasoirs de long ",
      "cours, Palais-National, 138 et 139.\n",
      "Aubriot, pâtissier traiteur, Saint-Honoré, 390.\n",
      "Aubriot, vins, Babylone, 62.\n",
      "Aubron, doreur sur cuir, Temple, 49.\n",
      "Aubrun, ébéniste, Jacob, ",
      "6.\n",
      "Aubrun fils, entrepreneur de charpente, Jean&quot; ",
      "Goujon, 52.\n",
      "Aubrun, entrepren. de maçonn., Laborde, 39.\n",
      "Aubrun, maître maçon, Saint-Michel—du- ",
      "Roule, 8.\n",
      "Aubrun, médecin, Petit-Musc, 33.\n",
      "Aubruu, menuisier-ébéniste, Savoie, 9.\n",
      "Aubry (Félix), de la mais. Aubry et Ferté, ",
      "Nve-St-Eustache, 26.\n",
      "Aubry, ancien sous-chef à la Légion d&apos;hon- ",
      "neur, Sentier, 28.\n",
      "Aubry, contrôleur des contributions directes, ",
      "Racine, 5.\n",
      "Aubry, déménag., Cadet, 11.\n",
      "Aubry (Mme), bijoux dorés, Palais-Natio- ",
      "nal, 137.\n",
      "Aubry et Jacques, bijoutiers en or, Michel- ",
      "le-Comte, 27.\n",
      "Aubry, bougies, Aubry-le-Boucher, 37.\n",
      "Aubry, chaudronnier, Ecole-de-Medecine, 68, ",
      "et Grégoire-de-Tours, 18.\n",
      "Aubry, chaudronnier, Grenelle-St-Germ., 74.\n",
      "Aubry, fab. de chaussons et de socques, Gra- ",
      "villiers, 3.\n",
      "Aubry (Rousseau, successeur), comestibles, ",
      "boul. Poissonnière, I.\n",
      "Aubry, corroyeur, Laborde, 32.\n",
      "Aubry, coutelier, Vieille-du-Temple, 131.\n",
      "Aubry ainé, courtier-gourmet, St-Antoine, 100.\n",
      "Aubry frères, négociants en dentelles, Jeû- ",
      "neurs, 33.\n",
      "Aubry et Ferté, fab. de dentelles, Neuve-St.- ",
      "Eustache, 26.\n",
      "Aubry (Ed.), denrées coloniales, fécules et si- ",
      "rops, St-Méry, 41.*)\n",
      "Aubry, epicerie et chocolats, Ponthieu, 4 et 6, ",
      "et Montaigne, 10.\n",
      "Aubry, ferbl.-lampiste, Hôtel-Colbert, 11.\n",
      "Aubry, fabricant de fleurs, Ste-Appoline, ",
      "33\n",
      "Aubry, fleuriste, Beaurepaire, 10-12.\n",
      "Aubry (Mme), garnitures de bourses, Berry ",
      "(Marais), 13.\n",
      "Aubry, instituteur, Faubourg-Poissonmère, 90.\n",
      "Aubry, libraire d&apos;occasion, Anjou-Dauphine, ",
      "3 et 9.\n",
      "Aubry, limonadier, boul. Poissonnière, 32.\n",
      "Aubry, lingerie, Bourbon-Villeneuve, 52.\n",
      "Aubry, maison meublée, pass. Tivoli, 24.\n",
      "Aubry, menuisier, N.-D.-Nazareth, 6 bis.\n",
      "Aubry, neg.-commiss. , Echiquier, 40.\n",
      "Aubry, notaire, boul. des Italiens, 27.\n",
      "Aubry (Mme ",
      "papier timbré, Furstemberg, 3.\n",
      "Aubry, peintre-vitrier, Savonnerie, 13.\n",
      "Aubry, pensionnat, St-Denis. 307\n",
      "Aubry père, propriét., Neuve-St-Eustache, 26.\n",
      "Aubry, repres. du peuple (Nord ",
      "Racine, 5.\n",
      "Aubry, serrurier, Messageries, 7.\n",
      "Aubry, serrurier, Beaurepaire, 31.\n",
      "Aubry, serrurier, N.-D.-de-Nazareth, 1.\n",
      "Aubry, serrurier pour roulettes, Charonne. 33,\n",
      "Aubry, tailleur, Bourbn-Villeneuve, 41.\n",
      "Aubry, tourneur en cuivre, Fossés-Saint- ",
      "Jacques. 12.\n",
      "Aubry, tourneur en cuivre et en optique, ",
      "Gravilliers, 3.\n",
      "Aubry, vins, aux Ours, 37.\n",
      "Aubry, vins fins et liqueurs, Richelieu, 94, et ",
      "St-Marc. 27.\n",
      "Aubry (A), vins, quai Valmy, 257 et Canal- ",
      "Saint-Martin, 1.\n",
      "Aubry, vins, Marche-St-Jean, 21.\n",
      "Aubry, vins, Corbeau, 42, et St-Maur, 169.\n",
      "Aubry-Lapied, tourneur, Gravilliers, 28, ",
      "cour de Rome.\n",
      "Aubry-Lecomte *, art.-peint. lithogr., Bac,42.\n",
      "Aubry — Foucault, gérant de la Gazette de ",
      "France, Doyenné, 12.\n",
      "Aubry-Maurice, représentant du peuple ",
      "(Vosges), Concorde, 14.\n",
      "Auburtin, menuisier, Trois-Bornes, 39.\n",
      "Auburtin père, fab. de cuirs vernis, barrière ",
      "des Deux-Moulins, rue des Rentiers, 35.\n",
      "Aubusson (Ctesse d&apos; ",
      "), Varennes-St-Germ., 41.\n",
      "Auchard, limonadier, Four-St-Honore, 1, et ",
      "St-Honoré, 76.\n",
      "Auchart, tonnelier, Boucher, 12.\n",
      "Aucher, tailleur, St-Roch, 37.\n",
      "Aucher, fab. de pianos, Bondy, 44.\n",
      "Auclair, fab. de briques, chemin de ronde de la ",
      "barriere des Trois-Couronnes, 0.\n",
      "Auclair, pharmacien, Saint-Nicolas d&apos;Antin, ",
      "54, et Havre, 1.\n",
      "Auclaire, vente de fonds de boulangerie, ",
      "Viarmes, 29.\n",
      "Aucler, de la maison Surmont et Aucler, Sen- ",
      "tier, 31.\n",
      "Aucler (A.), mercerie et quincaill., dépôt ",
      "d&apos;aiguilles, Bourg-l&apos;Abbé, 19 ancien 21.\n",
      "Aucler (Ve) et Ledoux, confiseurs, Lombards, ",
      "46 et 48.\n",
      "Aucler, épicier, Faub.-Poissonnière, 42.\n",
      "Auclerc, sous-chef de bureau à la prefecture ",
      "de police.\n",
      "Aucoc ",
      "A. ",
      "bonnetier, Paix, 6.\n",
      "Aucoc aîné, fab. de nécess. et d&apos;orfévrerie, ",
      "Paix, 6.\n",
      "Aucoc (Hyacinthe), Basse-du-Rempart, 14.\n",
      "Auconor, rentier, Notre-Dame-de-Grâce, 5.\n",
      "Audan et Ce, achats et ventes à commission, ",
      "Vieux Augustins, 27.\n",
      "Aude, bottier, Montholon, 27.\n",
      "Aude (Clément), fab. de broches à tisser, ",
      "Amandiers-Popincourt, 19.\n",
      "Aude (Mlle ",
      "couturière, Lille, 15.\n",
      "Audé, propriet., Duphot, 15.\n",
      "Aude, rentier, Neuverdes-Mathurins ",
      "3\n",
      "Audebert, architecte vérificateur, boulevard ",
      "Bonne-Nouvelle, 9.\n",
      "Audeber (le pasteur), aux Batignolles, de l&apos;É- ",
      "cluse, 6.\n",
      "Audebrent, epicier, Monthabor, 32.\n",
      "Audefroy, dépôt de sangles, Meslay, 53.\n",
      "Audemars (Louis), fab. d&apos;horlogerie, repré- ",
      "senté par Hector Audemars, St-Fiacre, 3.\n",
      "Audenet fils */, banquier, Faubourg-Poisson- ",
      "nière, 25.\n",
      "Audenier (Mme), fab. de corsets, Montmartre, ",
      "165.\n",
      "Audevard, opticien, quai de l&apos;Horloge, 41.\n",
      "Audeville (Vve), direct. du théâtre Lazari, ",
      "Charlot, 47.\n",
      "Audiat ",
      "F. ) fab. de dentelles, Mail, 22.\n",
      "Audiat, médecin, inspecteur général des pri- ",
      "sons, Bleue, 34.\n",
      "Audibert X, Monceaux-du-Roule, 15.\n",
      "Audibert-Lebel (Mme), fab. de fleurs, Tracy, 7.\n",
      "Audibert fils, medecin, Montholon, 3.\n",
      "Audibran( ",
      "J. ",
      "dent., Vingt-Quatre-Février, 2.\n",
      "Audiffred, juge suppl. au tribunal de com- ",
      "merce, Bons-Enfants, 26.\n",
      "Audiffred, entrepr. de demenagements, Faub.- ",
      "St-Martin, 67.\n",
      "Audiffret (Mis d&apos;), C. &amp;, président à la cour ",
      "des comptes, St-Honoré, 387.\n",
      "Audiffret, employé aux manuscrits de la Bi- ",
      "plioth. nation, Miromesnil, 21.\n",
      "Audiganne, chef de bureau au minist. de l&apos;a- ",
      "griculture et du commerce.\n",
      "Audigé, fab. de nécessaires, Notre-Dame- ",
      "des-Victoires, 44.\n",
      "Audiguier, correcteur à l&apos;Imprimerie nation. , ",
      "Filles-du Calvaire, 6.\n"
     ]
    },
    {
     "name": "stdout",
     "output_type": "stream",
     "text": [
      "Audin, homme de ",
      "lettres, Christine, 3.\n",
      "Audin, maréchal-expert, Laborde, 43.\n",
      "Audinet, offic. de santé, Deux-Ecus, 33.\n",
      "Audinet et Cie, vins en gros, quai de la Tour- ",
      "nelle, 33.\n",
      "Audiquet, bijoutier en doré et metteur en œu- ",
      "vre, Temple, 83.*)\n",
      "Audoin, tailleur, Geoffroy-Marie, 12.\n",
      "Audoire, pâtissier, St-Honore, 107.\n",
      "Audois (Vve), fabr. de franges pour châles, ",
      "Montorgueil, 71.\n",
      "Audon ainé, négociant, Poissonnière, ",
      "37.\n",
      "Audot, libraire, Paon-St-André, 8.\n",
      "Audot, plaqué, nécessaires, orfévrerie, Riche- ",
      "lieu, 81.\n",
      "Audot (Mme), sage-femme, Faubourg-Saint- ",
      "Jacques, 6.\n",
      "Audouard, courtier de comm., rue...\n",
      "Audouard fils, graveur en bijoux, Grenelle-St- ",
      "Honore, 19.\n",
      "Audouard (P. et L.), fab. de joaillerie, bijou- ",
      "terie, Grenelle-St-Honoré, 19.\n",
      "Audouard, O. X, médecin, Cadet, 6.\n",
      "Audoucet (Mme), lingerie et nouveautés, Mont- ",
      "martre, 104.\n",
      "Audouin, ancien avoué, Bourbon-Villeneuve,33.\n",
      "Audouin ( A.), graisse pour voitures, ",
      "Vieilles-Haudriettes, 8.\n",
      "Audouin (L.), commissionnaire en papeterie, ",
      "Petit-Lion-St-Sauveur, 10.\n",
      "Audouit, directeur de la Manuelle,Sèvres, 19.\n",
      "Audousset, de la maison Leclercq et Audous- ",
      "set, Rambuteau, 124.\n",
      "Audoux, tailleur, cour Saint-Jacques-la-Bou- ",
      "cherie, 9.\n",
      "Audoux -Delanoy, officier garde du com- ",
      "merce, Hoche, 11.\n",
      "Daressy, professeur d&apos;armes, Faub.-Mont- ",
      "martre. 10.\n",
      "Dareste, avocat, Fleurus, 37.\n",
      "Dareste i, chef de bureau à l&apos;administration ",
      "des contributions indirectes, Fleurus, 37.\n",
      "Dareste, professeur au college Stanislas, ",
      "Fleurus, 37.\n",
      "Daret, dessinateur pour broderies, St-Denis, ",
      "53.\n",
      "Daret �, inspecteur des bâtiments du minis- ",
      "tère de la guerre, St-Dominique-St-Germ.90.\n",
      "Darey, mecanicien, Cherche-Midi, 59, passage ",
      "St-Maur, 9.\n",
      "Darfeuil, propr. , Boulogne, 14.\n",
      "Dargaud et Cie, marbrier, boulv. des Filles-du- ",
      "Calvaire, 20.\n",
      "Dargaud, tailleur, Chaussée-d&apos; Antin, 48.\n",
      "Dargenne. herboriste-pharmacien, Fontaine- ",
      "Molière, 10.\n",
      "Dargent, bottier, Vieux-Augustins, 63.\n",
      "Dargent, faiencier, Faub. -du-Temple, 18.\n",
      "Dargent (Mme), sage-femme, Faub.-Saint- ",
      "Denis, 162\n",
      "Dargent, vins, Aubry-le-Boucher, 38.\n",
      "Dargent jeune, vins, Roquette, 14.\n",
      "Dargenton, chef de bureau au ministère de ",
      "l&apos;Agriculture et du Commerce.\n",
      "Dargère &amp;/§, anc. avoué, Godot, 27.\n",
      "Dargis, propr., Croix-des-Petits-Champs, 29.\n",
      "Daridan, proprietaire, Berlin, 15.\n",
      "Darier, charpentier , St - Maur -Popincourt, ",
      "139.\n",
      "Dariez, pralines aux cubèbes purs, Jean-J.— ",
      "Rousseau, 21.\n",
      "Daris frères, peintres-vitriers, pass. du Sau- ",
      "mon, maison XXVI.\n",
      "Daris (Th.), entrepreneur de peintures, Fossés- ",
      "Montmartre, 14.\n",
      "Daris, peintre-vitrier, Vieux-Augustins, 63.\n",
      "Dariste, représentant du peuple ( Basses-Py- ",
      "renées), Ferme, 26.\n",
      "Darley, anc. medecin, Grands-Augustins, 23.\n",
      "Darlignie, inspecteur de &apos;enregistrement, Du- ",
      "phot, 19.\n",
      "Darlu, rentier, Neuve-des-Mathurins, 38.\n",
      "D&apos;Armengau, receveur de l&apos;Enregistrement, ",
      "Neuve-des-Petits-Champs, 53.\n",
      "Darmoy, architecte-verificateur, Nve-St-Eus- ",
      "taché, 30.\n",
      "Darnet, tailleur, Marivaux-Italiens, 13.\n",
      "Dernaudin &amp;, capitaine au corps d&apos;état-major, ",
      "Paradis-Poissonniere, 17.\n",
      "Darnet (D.), chemisier, Richelieu, 83, ancien ",
      "33.\n",
      "Darnet, épicier, faub. St-Honore, 217.\n",
      "Darnet, tailleur, boulv. des Italiens, 13, et Ma- ",
      "rivaux, 13.\n",
      "Darnis, directeur du Moniteur industriel, ",
      "Echiquier, 36.\n",
      "D&apos;Arnould, proprietaire, Plumet, 14.\n",
      "Darodes, grav. et peintre, Val-de-Grâce, 9.\n",
      "Darondeau as, ingenieur hydrographe, Ouest, ",
      "40.\n",
      "Daroux, confiseur, St-Martin, 86.\n",
      "Darrac, tapissier, cardage de matelas , épura- ",
      "tion de literie, Cadet, 23, 27, et Lamartine, 1.\n",
      "Darras , bonnetier, Ferronnerie, 2.\n",
      "Darras (Mme C. ), cabinet de lecture, boul. ",
      "Saint-Denis, 6.\n",
      "Darras, épicerie et fab. de chocolats, Croix- ",
      "des-Petits-Champs, 8.\n",
      "Darras, papetier, Montmartre, 180.\n",
      "Darras (Mme), papier timbré, Faub.-Sain&apos; ",
      "Martin, 91.\n",
      "Darras, serrurier, St-Honoré, 340.\n",
      "Darriaut, médecin, Nve-St-Martin, 3.\n",
      "Darricarere ",
      "A. ",
      "anc. négoc., Victoire. 46.\n",
      "Darricau 2/, directeur de l&apos;administration au ",
      "ministère de la guerre.\n",
      "Darrier, charpentier, St-Maur-Popincourt, 45.\n",
      "Darrou, pharmacien, Rumfort, 14.\n",
      "Darroux, hôtel d&apos;Amiens, Argenteuil, 60.\n",
      "Darru (A.), architecte, Laroche foucault, 33.\n",
      "Darsy, Montaigut et Compagnie, escompte et ",
      "recouvrements, Tracy, 8.\n",
      "Darte flls ainé, porcelaine blanche et dorée, ",
      "Vinaigriers, 21.\n",
      "— ",
      "Dartenet (Vve), confiseur, Vannerie, 25.\n",
      "Dartheil, coutelier, Zacharie, 9\n",
      "Darthenay, articles en cire, Angouleme-du ",
      "Temple, 16.\n",
      "Darthez, ancien banquier, Rivoli, 28 bis.\n",
      "Dartigny (Mme) , prolesseur de pianos, Seine- ",
      "St-Germain, 79.\n",
      "D&apos;Artigues, anc. banquier, Joubert, 32.\n",
      "D&apos;Artigues (A.), delégue du ministère des ",
      "finances près les comptoirs nationaux, Ar- ",
      "cade, 27\n",
      "Dartigues, professeur de chant au lycée Na ",
      "poléon, Clovis, 23.\n",
      "Dartigues &amp;§, propriet., Tronchet, 3.\n",
      "Dartois (Armand), auteur dramat., clos des ",
      "Terno\n",
      "Dartois, fab. de briquets, Pass. Jouffroy, 9.\n",
      "D&apos;Artois (A.), directeur de la Normandie, mu- ",
      "tualité des dix-neuf départements du nord ",
      "contre l&apos;incendie, Monmartre, IIl\n",
      "Dartois (Achille), homme de lettres, Gram- ",
      "mont, 10.\n",
      "Dartois, C. 2/4 , genéral de brigade, Varen- ",
      "nes, 38.\n",
      "Daru (Cte Napoléon de), O. i, représentant du ",
      "peuple, Lille, 75.\n",
      "Daru ",
      "baronne ",
      "Lille. 79.\n",
      "Daru, à la caiss. gén. d&apos;amort., Oratoire St-Ho- ",
      "Rore.\n",
      "Daru (Vte Paul ",
      ") 3, Lille, 75.\n",
      "Darvant, rampiste, Neuve-de-la-Fidelité, ",
      "2.\n",
      "Darville (Mme), artiste à la Porte-St-Martin, ",
      "boul. Bonne-Nouvelle, 21.\n",
      "Darvogne-Riottot, bijoutier en cuivre, Mont- ",
      "morency, 10.\n",
      "D&apos;Arx, tourneur-filateur, Roquette, 83.\n",
      "Dasque (Vve), artificier, Grès, 10.\n",
      "Dassailly, rentier, Faub.-St-Honoré, 25.\n",
      "Dasse (Mme ",
      " modes, Richelieu, 38.\n",
      "Dasset, propriet., Bleue, 3 bts.\n",
      "Dassier (A. ), banquier, Victoire, 62.\n",
      "Dassier, chapelier, passementier, equip. mili— ",
      "taire , Richelieu, 12.\n",
      "Dassonville, coiffeur, Notre-Dame-des-Victoi- ",
      "res, 17.\n",
      "Dassonville, liqueurs, Fossés-St-Germain- ",
      "Auxerrois, 3.\n",
      "Dassonville, fub. de sabots, Calandre, 22.\n",
      "Dassy, fab, de chaussons de tresse, St-Victor, ",
      "4\n",
      "Dasté, layetier, rempart St-Honore, ",
      "II.\n",
      "Dastis is et fils, draps, Mauvaises-Paroles, 20.\n",
      "Dastugue, epicier, Faub.-St-Martin, 162.\n",
      "Dastugues, bottier, boul. Poissonnière, 5.\n",
      "Dat, vins, quai Billy, 12.\n",
      "Datessen, mêtreur-vérificateur, Pot-de-Fer- ",
      "St-Sulpice, 2.\n",
      "Datin (Mme ",
      "herbor., Vieille-du-Temple, 100.\n",
      "Datin, layetier-emballeur, Clery, 96.\n",
      "Datin et Poisson, layetiers-emballeurs, Rou- ",
      "gemont, 15.\n",
      "Datin (Mme ",
      "), sage-femme, Clery, 27\n",
      "Datour, monteur en bronze, Amelot, 34-36.\n",
      "Datry, ",
      "passementier, St-Denis, 173.\n",
      "Dattin, bijoutier en dore , St-Martin, 168.\n",
      "Daubancourt, horloger, St-Lazare, 121.\n",
      "Daubas, brossier, Mouffetard, 210.\n",
      "Daubas, fab. de meubles, Grenelle-St-Ger- ",
      "main, 35.\n",
      "Daubasse, coiffeur, St-Honoré, 359.\n",
      "Daube père, jardinier-fleuriste, Charonne, 164.\n",
      "Daubemont (Ch. ), serrurier-mécanicien, Mé- ",
      "mlmontant, 147.\n",
      "D&apos;Aubenas et Piot de Berle (Mmes), institu- ",
      "tion, St-Jacques, 289.\n",
      "Daubié, fab. de plaqué et de maillechort, ",
      "Petite-Rue-d&apos;Austerlitz, 1.\n",
      "Daubignard ",
      "(Hil.  hôtel du Tibre, Helder, 8.\n",
      "Daubigny (Mme et Mile), blanchissage et rac- ",
      "commodage de dentelles, Chuillot, 65.\n",
      "Daubigny, liquoriste et tabac, St-Martin, 145.\n",
      "Daubigny (P. ",
      "), peintre, cour du Harlay, 22.\n",
      "Daubigny (Mme), peintre, cour du Harlay, 22.\n",
      "Daubigny, peintre paysagiste, q. d&apos;Anjou, 13\n",
      "Daubigny, métreur-vérificateur, Neuve-Saint- ",
      "Martin, 12.\n",
      "Daubigny, vins, Sevres, 100.\n",
      "Daubin , ferreur de lacets, Gr. Truanderie, 2.\n",
      "Daubin, vannier, Menilmontant, 88.\n",
      "Daubourg et Cie, entrepreneur de vidanges, ",
      "St-Ambroise-Popincourt, 6.\n",
      "Daubre Mme), artiste à l&apos;Opéra, Blanche, 70.\n",
      "Daubrée, propr., St-Lazaře, 64.\n",
      "Daubresse (Mine), lingerie, Lamartine, 33.\n",
      "D&apos;Aubusson et Kugelmann, imprimeurs ",
      "Feydeau, 8.\n",
      "Dauchart, coiffeur, Rocher, 14.\n",
      "Dauchel-Ducrocq et Cie, tissus en gros, The- ",
      "venot, 24.\n",
      "Dauchet, rentier, Bac, 34.\n",
      "Dauchet, traiteur, Marché-St-Honoré, 28.\n",
      "Dauchez (Amedée), avocat, agent du canal ",
      "d&apos;Aire à la Bassée, St-Guillaume, 12.\n",
      "Dauchez-Hemar, propriét., directeur de la ",
      "tontine d&apos;Orléans, St-Guillaume, 12.\n",
      "Dauchez (E. ), referendaire à la cour des ",
      "Comptes, des Vignes à Passy.\n",
      "Dauchy, tabac et liqueurs, Pastourelle, 22.\n",
      "Daud, fab. de bandes de billards, boul. du ",
      "Temple, 16.\n",
      "Daudan, imprimeur-lithograp., Convention, 3.\n",
      "Daudé, directeur du Château-Rouge, Chaus- ",
      "sée-de-Clignancourt, 20.\n",
      "Daude, grav. sur metaux, Simon-le-Franc, 9.\n",
      "Daude, fab. d&apos;œillets métalliques, Arcis, 22.\n",
      "Daude, peintre-vitrier, Cadran, 14.\n",
      "Daudenarde ",
      "Amedée ",
      "Guerin-Boisseau, 40.\n"
     ]
    },
    {
     "name": "stdout",
     "output_type": "stream",
     "text": [
      "Daudet (Eug.), institution, f. St-Honoré, 235.\n",
      "Daudet et Loisel, maçons, St-Nicolas d&apos;Antin, ",
      ". ",
      "4\n",
      "Daudeville, potier d&apos;étain, Cimetière-St-Nico- ",
      "las, 19.\n",
      "Daudin, fab. de chapeaux, Vieille-du-Temple, ",
      "8.\n",
      "Daudin, faïencier, q. de la Mégisserie, 56, et ",
      "St-Germain-lAuxerrois, 65.\n",
      "Daudin, hôtel de Strasbourg, Fidelite, 17.\n",
      "Daudin, libraire, St-Victor, 63\n",
      "Daudre (F.) et Ch. Rattaire, negoc., Mont- ",
      "martre. 169.\n",
      "Dandre (A.), mousseline et linge de table en ",
      "gros, Bertin-Poirée, 17.\n",
      "Daudy, libraire, passage St-Roch, 10.\n",
      "Dauge, brosserie, St-Martin, 166.\n",
      "Dauge (P.), dépòt de papiers, Blancs-Man- ",
      "teaux. 35.\n",
      "Dauge (F.) fils et Cie, filateurs de coton et fabri- ",
      "cants de cotons retors, St-Fiacre, 3.\n",
      "Daugny (B.) §, rentier, Bleue, 29.\n",
      "Daugreilh, salon littéraire, Faub.-St-Hono- ",
      "ré, 66.\n",
      "Daulé, stéréotypeur,St-Benoit-St-Germain, 8.\n",
      "Daulle, C. s, général, boulev. Poisson- ",
      "nière. 23.\n",
      "Daumain, bijoutier-garniss., Phélippeaux, 22.\n",
      "Daumas (T.), fabricant d&apos;encre d&apos;imprimerie ",
      "et produits chimiques, quai Napoléon, I1.\n",
      "Daumas , C. a/4, général de brigade, chef du ",
      "service de l&apos;Algerie au ministère de la guerre, ",
      "Beaune, 14.\n",
      "Daumas (Mine), sage-femme, Saint-Jacques, ",
      "JS.\n",
      "Daumas, statuaire, Fourne aux, 28.\n",
      "Daume, tailleur, Nve-St-Augustin, 20.\n",
      "Daumesnil, caſé restaurant, Paix, 17, et Nve- ",
      "St-Augustin, 54.\n",
      "Daumié, peintre-artiste, quai d&apos;Anjou, 9.\n",
      "Daumin, serrurier, Faub. - St-Martin, 191\n",
      "Daumont, boulanger, St-Lazare, 44.\n",
      "Daumont, jeune, mercerie en gros, art. de ",
      "Paris, St-Denis, 190.\n",
      "Daunard, jardinier- fleuriste, Vaugirard, 204.\n",
      "Daunay, huissier, Compoise, 67, à St-Denis.\n",
      "Dauneau, epicier, Grande-Truanderie, 46.\n",
      "Dauner ",
      "(F. ",
      "négoc. en toiles, St-Martin, 88.\n",
      "Daunis, vins, boulevard de l&apos;Hôpital, 32.\n",
      "Daup et Cie, lampes et bronzes, Bondy, 80.\n",
      "Daupeley, commiss. -priseur, Hazard, 15.\n",
      "Daupeyro ux, vins, Varennes-St-Germain, 36, ",
      "et Bac, 96.\n",
      "Dauphin (Mlle ",
      ", corsets, Poissonmere, 46.\n",
      "Dauphin ainé, limonadier, St-Martin, 256.\n",
      "Dauphin, limonadier, boul. du Temple, 28.\n",
      "Dauphin jeune et Cie, fab. de moulures en bois ",
      "des iles, bordures et châssis, Faub. St-De- ",
      "nis, 65.\n",
      "Dauphin, peintre, Perche, 7.\n",
      "Dauphin, vins, Deux-Ecus, 11.\n",
      "Dauphin, bains, Perche, 7.\n",
      "Dauphinot, épicier, Moulins, 17, et Thérèse. 2.\n",
      "Gaussen et Pouzadoux, châles. Banque, 1.\n",
      "Gaussens fils, bouteilles, Dauphine, 10.\n",
      "Gaussens, (Mme ",
      "rentière, Vivienne. 26.\n",
      "Gaussens père, vins, Battoir-St-André-des- ",
      "Arts , 12.\n",
      "Gaussin �, ingenieur-hydrographe, rue des ",
      "Martyrs, 42.\n",
      "Gaussiran, tailleur, Ancienne-Comédie, 25.\n",
      "Gaut (Mme ",
      ", reperceuse, Pastourelle, 32.\n",
      "Gaut (Vve ",
      "), libraire, gal. de l&apos;Odéon, 4.\n",
      "Gaut , monteur en bronze , Pastourelle, 32.\n",
      "Gaut-Guignery, peintre et verniss. sur métaux, ",
      "Grange-aux-Belles, 12.\n",
      "Gauté (Mme), corsets, Chaussée-d&apos;Antin, ",
      "44.\n",
      "Goutereau, sous-chef de bureau à la préfec- ",
      "ture dela šer ",
      "Č.\n",
      "Gautet (Mme), chemises, cols et cravates, Pal. ",
      "National, gal. Beaujolais, 94.\n",
      "Gauthé, sellier-carrossier, Roquépine, ",
      "7.\n",
      "Gautheret, papetier, Laffitte, 45.\n",
      "Gautherin , serrurier en bâtiments, passage ",
      "Tivoli, 20.\n",
      "Gautheron, épicier, St-Honoré, 232\n",
      "Gauthey, limonadier, Poterie des Arcis, 16.\n",
      "Gauthier (L.), avocat à la cour d&apos;appel, Tré- ",
      "vise, 43.\n",
      "Gauthier, avoc. à la cour d&apos;appel, Lavoisier, ",
      "ZS.\n",
      "Gauthier s, architecte du gouvernement, ",
      "membre de l&apos;Institut, St-Georges, 5.\n",
      "Gauthier, boucher, St-Denis, 387.\n",
      "Gauthier, boulanger, Loursine, 89.\n",
      "Gauthier, boulanger, St-Denis, 270.\n",
      "Gauthier, charpentier, Chaudron, 10.\n",
      "Gauthier, (aveugle), chef-d&apos;orchestre, boulv. ",
      "des Invalides, 56.\n",
      "Gauthier (Ch. ), ciseleur en pendules, Bourg- ",
      "Labbé, 16.\n",
      "Gauthier, coiffeur, Bourbon-Villeneuve, 63.\n",
      "Gauthier ",
      "Mme ",
      "couturière, Victoires, 73.\n",
      "Gauthier (J.), fabricant de cuirs vernis, ",
      "Faub.-Montmartre, 4.\n",
      "Gauthier frères, cylindres canneles et articles ",
      "pour filatures, Pavée-St-Sauveur, 3.\n",
      "Gauthier fils, emballeur, Echiquier 32.\n",
      "Gauthier, horticulteur. Beaune,57 à Belleville.&quot;\n",
      "Gauthier, horloger, place de la Bourse, 12.\n",
      "Gauthier, hôtel du Mont-d&apos;Or, Viarmes, 14.\n",
      "Gauthier, jardinier-fleuriste, av. Suffren, 20.\n",
      "Gauthier, layetier, Neuve-St-Laurent, 3.\n",
      "Gauthier ",
      "Ve ",
      "limonadier, jardin des Tuileries.\n",
      "Gauthier (Mme ",
      ", maison meublée, Duphot, ",
      "I.\n",
      "Gauthier, menuisier en bâtiments, Faub.-St- ",
      "Antoine, 21.\n",
      "Gauthier, négoc. , Fontaines-du-Temple. 11.&quot;\n",
      "Gauthier, pâtissier, place des Vosges, 25.\n",
      "Gauthier, peintre-artiste, Chérubini, 1.\n",
      "Gauthier, entrepreneur de peinture en bâti- ",
      "ments, Réforme, 13.\n",
      "Gauthier, peintre en bâtiments, St-Antoine, ",
      "35.\n",
      "Gauthier fils, fab. de presses, Parcheminerie, ",
      "I\n",
      "Gauthier, propriétaire, St�Lazare, 119.\n",
      "Gauthier jeune, quincaillerie et serrurerie, ",
      "Michel-le-Comte, 23.\n",
      "Gauthier, receveur de l&apos;enreg., Louvois, 8.\n",
      "Gauthier (Emile), redacteur en chef du jour- ",
      "nal la Semaine, Ste-Anne, 51 bis.*)\n",
      "Gauthier, restaurant, Harpe,59.\n",
      "Gauthier, restaurateur, Bouloi, 22.\n",
      "Gauthier et Lemarchand, scieurs de bois à la ",
      "mécanique, Faub.-St-Antoine, 115 et 117, et ",
      "rue de Charonne, 36 et 38.\n",
      "Gauthier, sellier-charron-carrossier, boul. de ",
      "l&apos;Hôpital, 60.\n",
      "Gauthier, sous-directeur aux Finances, Pon- ",
      "thieu, 14.\n",
      "Gauthier, tailleur, Vivienne, 2.\n",
      "Gauthier, tourneur en chaises et fauteuils, ",
      "Cherche-Midi, 29.\n",
      "Gauthier, traiteur, Mauconseil, 35.\n",
      "Gauthier (Mme ",
      ",vins, Mandar, 10.\n",
      "Gauthier, vins, pl. Baudoyer, 6.\n",
      "Gauthier, vins, Roi-de-Sicile, et Pavée, 1.\n",
      "Gauthier, vins, Mouffetard, 240.\n",
      "Gauthier, vins, Faub.-St-Martin, 121, et Fidé- ",
      "lité, 2.\n",
      "Gauthier, vins, Berry au Marais, 12.\n",
      "Gauthier, vins, cour Lamoignon, 8.\n",
      "Gauthier de Charnacé, juge au trib. de 1re ins- ",
      "tance, Nve-St-Paul, 15.\n",
      "Gauthier-d&apos;Hauteserve, O. 2, ancien adminis- ",
      "trateur de l&apos;octroi de Paris, St-Georges, 7.\n",
      "Gauthier-la-Chapelle, avocat à la cour d&apos;appel, ",
      "Odeon, 31 bis.\n",
      "Gauthier-Deville, tailleur, Coquillière, 32.\n",
      "Gauthier-Horcholle, robes, Vivienne, 2.\n",
      "Gauthier et Isnard, fab. de colliers pour che— ",
      "vaux, pass. Saulnier, 10.\n",
      "Gauthier, Rey et Ducrot, fab. de plaques de ",
      "cornes, boul. de Belleville, 9, hors. barrière.\n",
      "Gauthrin (A.], négt-armateur, Fontaine-du- ",
      "Temple, 16.\n",
      "Gauthrot, vins, Bernardins, 9.\n",
      "Gautier aîné, affineur de métaux et fondeur de ",
      "cendres, Basfroid, 18.\n",
      "Gautier, architecte, Université. 34.\n",
      "Gautier (Scipion ",
      "), ancien nég., Trévise, 34.\n",
      "Gautier (A. ), avocat à la cour d&apos;appel, Fey- ",
      "deau, ",
      "24.\n",
      "Gautier, bains à vap., Monsieur-le-Prince, 27.\n",
      "Gautier (F.), bijouterie et horlogerie, Fosses- ",
      "Montmartre, 3.\n",
      "Gautier, boucher, Dauphine, 31.\n",
      "Gauthier, fab. de chocolats. St-Dominiques, 74.\n",
      "Gautier, commissionn. en quincaillerie, En- ",
      "fants-Rouges, 9.\n",
      "Gautier, dentiste, Caire, 24\n",
      "Gautier, épicier, St-Honore, 24.\n",
      "Gautier, épicier, Bellechasse, 23, et St-Domi- ",
      "nique, 74.\n",
      "Gauthier et Rethers, fab. de gainerie, Page- ",
      "vin, 10.\n",
      "Gautier aîné, gainier, Grenétat, I I,\n",
      "Gautier, h. garni de Sully, Convention, 6.\n",
      "Gautier jeune, huile en gros, Vieille-du-Tem- ",
      "ple, 3.\n",
      "Gautier (J. L.), interprète assermenté, Anjou- ",
      "St-Honoré, 58.\n",
      "Gautier, imprim.-lithog., pass. Choiseul, 67.\n",
      "Gautier, laines, literie, Chanoinesse, 26.\n",
      "Gautier, médecin, Sentier, 13.\n",
      "Gautier, médecin, Ste-Anne, 22.\n",
      "Gautier (Mme ",
      "modes, Vivienne, 7.\n",
      "Gautier, morceaux de drap et literie, Tonnel- ",
      "leriè, 33.\n",
      "Gautier, fab. de montures de parapluies, et ",
      "parapluies, Grenétat, 2, pass. St-Denis.\n",
      "Gautier aîné, pâtissier, pass. Choiseul, 61.\n",
      "Gautier, peintre en bâtiments, Jeannisson, 15.\n",
      "Gautier (J.), pharmacien-herboriste, Quatre- ",
      "Vents, 16.\n",
      "Gautier et Fortier, fab. de produits chimiques, ",
      "St-Maur-Popincourt, 219.\n",
      "Gautier, propriétaire, Ferme, 18.\n",
      "Gautier, (Mme ",
      " propr. Rambuteau, 124.\n",
      "Gautier (J.-L.), proprietaire, Bonnefond, 32.\n",
      "Gautier, quincaillier, Montholon, 37.\n",
      "Gautier, tabletier, Ancienne-Comédie, 14.\n",
      "Gautier (L.), taillandier-quincaillier, Bar-du- ",
      "Bec, 10 et 12*\n",
      "Gautier, tailleur, Ventadour, 8.\n",
      "Gautier, md. tailleur, Cotte. 30.\n",
      "Gautier, tonnelier, Phelippeaux, 28.\n",
      "Gautier (A.), fab. de jeux, tabletterie en gé- ",
      "néral, St-Martin, 255.\n",
      "Gautier, vitrier-peintre, Parc-au-Marais, 4.\n",
      "Gautier-Dagoty X, chef de division au minis- ",
      "tère des trav. publics, Tournon, 14.\n",
      "Gautier-Dalechamps, blondes et dentelles, ",
      "N. -D. -des-Victoires, 36.\n",
      "Gautier-Bouchard, neg.-droguistes, couleurs, ",
      "cranderie. 41.\n",
      "Gautier d&apos;Uzerche. O. . Bac, 86.\n",
      "Gautray, empl. à la ville, Faub. -St-Honoré 70.\n",
      "Gautreau, Arcades, 55.\n"
     ]
    },
    {
     "name": "stdout",
     "output_type": "stream",
     "text": [
      "Gautrin, épicier, Faub.-St-Antoine, 207.\n",
      "Gautrin, maraicher, St-Maur-Popincourt, 224.\n",
      "Gautrin (F.), serrurier en bâtiments, Argen- ",
      "teuil, 37.\n",
      "Gautron, dit Grassot, boulanger, Orléans-St- ",
      "Marcel, 23.\n",
      "Gautron, coiffeur, Savonnerie, 1.\n",
      "Gautron, mécanicien, Grenétat, 16.\n",
      "Gautron dit Grassot (Mme), modes, Orléans- ",
      "St-Marcel, 25.\n",
      "Gautron, vermicelle, Grande Tuanderie, ",
      "15.\n",
      "Gautrot (P. J.). administrateur général du ",
      "Mandataire des contribuables, Drouot, 1 et 3.\n",
      "Gautrot ainé et Cie, fab. d&apos;instruments de mu- ",
      "sique, St-Louis-Marais, 60.\n",
      "Gautrot et Foubert, fab. de bronzes, Saint- ",
      "Louis-Marais, 65.\n",
      "Gautruche, vins, Quincampoix, 23 et 26.\n",
      "Gautry, gants, Rivoli, 28 bis.\n",
      "Gauvain, arquebusier, tient tir, boul. Mont- ",
      "Parnasse, 93.\n",
      "Gauvain, chaussures pour dames, Faub.-St- ",
      "Denis, 35.\n",
      "Gauvain ",
      "(Mme ",
      "libraire, St-Antoine, 177,\n",
      "Gauvin, objets d&apos;arts en plâtre, passage des ",
      "Panoramas, galerie des Variétés, 5.\n",
      "Gauvin, ebeniste, Suresne, 8.\n",
      "Gauvin, lapidaire et bombeur de verres, Trans- ",
      "nonain, 40.\n",
      "Gauvin (Mlle), lingerie, Petites-Ecuries, 40.\n",
      "Gauwin (Aug), bonneterie, Ferme, 56.\n",
      "Gauzy, coiffeur, Harpe, 108.\n",
      "Gavalda, serrurier en bâtiments, Lanery, 29.\n",
      "Gavard (Ch.) *, editeur des Galeries histo- ",
      "riques de Versailles, Verneuil, 34.\n",
      "Gavard Adrien), fab. d&apos;instruments de mathé- ",
      "matiques, quai de l&apos;Horloge, 9.\n",
      "Gavard, fab. de plaques de parapluies, Neuve ",
      "St-Martin, 25.\n",
      "Gavard, teinturier-dégraisseur, Paradis-Pois- ",
      "sonnière, 2.\n",
      "Gavarni, art.-peintre, au Point-du-Jour.\n",
      "Gavarret, représentant du peuple (Gers), Gre- ",
      "nelle-St-Germain, 89.\n",
      "Gavarry, imprim. en taille-douce, Palais-Natio- ",
      "nal, gal. de Nemours, 19, 20, 21 et 22\n",
      "Gavary, tabac, Boulv. Poissonnière, 24.\n",
      "Gavault, anc. avoué, Victoires, 73.\n",
      "Gaveau, facteur et accordeur de pianos, Faub. ",
      "du Temple, 34.\n",
      "Gaveau ainé (Ve), quincaillerie et clouterie, ",
      "Faub.-St-Martin, 188.\n",
      "Gaveau jeune, mouchoirs de poche, Mauvaises- ",
      "Paroles, 9.\n",
      "Gaveau, serrurier, Caumartin, 49.\n",
      "Gaveau, serrurier en batiments, Courcelles, ",
      "1.\n",
      "Gaveau, vins, Ferronnerie, 29.\n",
      "Gaveau, vins, Pavée St-Sauveur, 7.\n",
      "Gaveaux et Nicolais , fabr. de presses d&apos;impri- ",
      "merie, Traverse, 21 et 23.&quot;\n",
      "Gaveaux, vins, Française, I\n",
      "Gaveaux, prof. de chant, Vanneau, 80.\n",
      "Gavelle , rentier, Grange Batelière, 12.\n",
      "Gavelot (L.) giaçage et satinage de papiers, ",
      "Bons-Enfants, 26.\n",
      "Gavelot (J.) jeune, commissionn. en librairie ",
      "pour l&apos;étranger, Bons-Enfants, 26.\n",
      "Gaverelle, architecte-vérificateur, Vieille-du- ",
      "Temple, 98.\n",
      "Gavet, commiss.-priseur, Notre-Dame-des-Vic- ",
      "toires, 42.\n",
      "—— ",
      "Gavet, coutelier, St-Honoré, 138.\n",
      "Gavet, fab. d&apos;optique, Gravilliers, 26.\n",
      "Gavet, peintre et propriétaire, Croix-des-Pe- ",
      "tits-Champs, 31.\n",
      "Gavignet (Mme) ",
      ", layetier, Amboise, 4.\n",
      "Gavignot, avoué à la c. d&apos;appel, Coq St-Ho- ",
      "nore, 5.\n",
      "— ",
      "Gavillon, maréchal-expert, Vaugirard, 143.\n",
      "Gavini (Denis), représentant du peuple (Cor- ",
      "se), Tronchet, 1.\n",
      "Gavois , vernisseur sur métaux, Neuve-St- ",
      "Pierre, 12.\n",
      "Gavory, architecte, quai St-Michel, 21.\n",
      "Gavot, frères, cartonniers, Aumaire, 36.\n",
      "Gavot, vins, Faub.-St-Antoine, 133.\n",
      "Gavoty (H. ), agent de diverses fabriques, ",
      "Enghien, 54.\n",
      "Gavoty, cuirs en gros, Mauconseil, 31.\n",
      "Gavoy, pensionnat, allée des Veuves, 34.\n",
      "Gavrel, peintre en bâtiments, St-Méry, 48, et ",
      "St-Martin, 30.\n",
      "Vasselin, ébeniste, Charenton, 87.\n",
      "Vasselin, ébeniste, Frochot, 1.\n",
      "Vasselin, ferblantier, Ste-Foy, 4.\n",
      "Vasselin, jardinier, Roquette, 115.\n",
      "Vasselon (E.), dessinateur en nouveautés pour ",
      "rubans, Palais-National, galerie Montpensier, ",
      "18.\n",
      "Vasset, O. , ancien référendaire à la cour des ",
      "comptes, Enfer, 102.\n",
      "Vasset, fabr. de chaises, boulev. du Temple, ",
      "43\n",
      "Vasset, mercerie et bonneterie, Noyers, 15.\n",
      "Vasseur, charcutier, Vieux-Marché-St-Mar- ",
      "tin, 16, et Nationale, 2.\n",
      "Vasseur ",
      "A. ",
      " coiffeur, 29-Juillet, 3.\n",
      "Vasseur (Mme ",
      "corsets, boul. St-Denis, 1.\n",
      "Vasseur, courtier de commerce, N.-D.-de-Lo- ",
      "rette, 18.\n",
      "Vasseur, épicier, St-Dominique-St-Germain, ",
      "52, et Bac, 47.\n",
      "Vasseur ",
      "Mlle ",
      ",jouets, Bac, 101\n",
      "Vasseur, laine et tapis, St-Honoré, 262.\n",
      "Vasseur, limonadier, Londres, 1.\n",
      "Vasseur (Vve) et Cie, fabrique de lingeries et ",
      "nouveautés, Mauconseil, 2.\n",
      "Vasseur ",
      "(L.-H.), médecin, Bar-du-Bec, 9.\n",
      "Vasseur ",
      "L. ",
      "&quot;médecin, Poitevins, 9.\n",
      "Vasseur, menuisier, cloitre des Bernardins, ",
      "II.\n",
      "Vasseur, menuisier, Poissonnière, 23.\n",
      "Vasseur, naturaliste et anatomiste, Sorbonne, ",
      "18.\n",
      "Vasseur, professeur d&apos;écriture, Harpe, 26.\n",
      "Vasseur, représentant du peuple (Ardèche), al- ",
      "lée d&apos;Antin, 25.\n",
      "Vasseur (Mme), sage-femme, Roi-de-Sicile, ",
      "47, et Vieille-du-Temple, 14.\n",
      "Vasseur, vins, Angoulème-du-Temple, 30, et ",
      "Folie-Méricourt, 10.\n",
      "Vasseur, vins, boul. de l&apos;Hôpital, 1.\n",
      "Vasseur, vins, Faub.-du-Temple, 56 et 74.\n",
      "Vasseur (J. B.), vins, Bleue, 1, et Faub.-Pois- ",
      "sonnière, 67.\n",
      "Vasson, fab. de papiers peints, peintre en bâti- ",
      "ments, Nve-Bourg-l&apos;Abbé, 9 et 10.\n",
      "Vasson, boulanger, Saint-Dominique-St-Ger- ",
      "main, 98.\n",
      "Vasson, menuisier, Montorgueil, 33.\n",
      "Vasson-Montel, boulanger, Noyers, 24.\n",
      "Vassout, entrepreneur de déménagements, ",
      "Petit-Moine, 22.\n",
      "Vassy ",
      "comte de ",
      "boul. de la Madeleine, 19.\n",
      "Vast-Vimeux, représentant du peuple (Cha- ",
      "renle-Inférieure) ",
      "Rivoli, 6.\n",
      "Vastel, paveur, impasse du Maine, 3.\n",
      "Vatable (baron), C. *, général de brigade ",
      "en retraite, Ferme-des-Mathurins, 3.\n",
      "Vatard et Doucet, fab. de bijoux en doublé ",
      "d&apos;or, Chapon, 18.\n",
      "Vatel, agent de change, Grange-Batelière, 18.\n",
      "Vatel, ancien dir. de théâtre, Godot-de-Mau- ",
      "roy, 18.\n",
      "Vatel, médecin-vétérinaire, Sts-Pères, 65.\n",
      "Vaterlot, cordonnier, Faubourg-St-Honoré, 74\n",
      "Vatier, graveur sur métaux, Ancienne-Comé- ",
      "die, 12.\n",
      "Vatier, prop., q. Voltaire, 11.\n",
      "Vatimesnil (H. de) ,O. *, avocat à la cour ",
      "d&apos;appel, représentant du peuple (Eure), St- ",
      "Dominique-St-Germain, 11.\n",
      "Vatin, de la maison Richard et Vatin, Nve-St- ",
      "Eustache, 36 et 40.\n",
      "Vatin, Berny et Cie, fabr. de châles, Neuve- ",
      "St-Eustache, 22.\n",
      "Vatin (F.) jeune et Cie, fab. de gazes de ",
      "soie, Cléry, 13.\n",
      "Vatinelle, graveur en médailles, passage Ste- ",
      "Marie-du-Roule, 12.\n",
      "Vatinelle (P.), peintre-artiste, Faub.-Montmar- ",
      "tre, 33.\n",
      "Vattebled (Emile), rubans, Neuve-des-Petits- ",
      "Champs, 51.\n",
      "Vattemare (Alexandre), prop., Clichy, 56.\n",
      "Vaton, libraire, Bac, 50.\n",
      "Vatonne, vins, Phélippeaux, 27.\n",
      "Vatre, sellier-harnach., Faub.-St-Honoré, 123, ",
      "cour du Commerce, 4.\n",
      "Vattier, ciment romain de Pouilly en Auxois, ",
      "quai Valmy. 1017*\n",
      "Vattier, hôtel de la Pointe à Pitre, Bac, 125 et ",
      "127.\n",
      "Vattier, pension bourgeoise, Clef, 5.\n",
      "Vattier, messager d&apos;Etat, huissier à l&apos;Assemblée ",
      "nationale, Massena, 8.\n",
      "Vattone (Edouard), entrepreneur de démoli- ",
      "tions, cour Batave , 8; chantier, Vaugirard, ",
      "IO\n",
      "Vattonne, fab. de passementeries, cour Batave, ",
      "8.\n",
      "Vattré frères, quincail. et serrur., Aumaire, 47.\n",
      "Vatry (de), representant du peuple (Meurthe), ",
      "Notre-Dame-de-Lorette, 20.\n",
      "Vaubaillon, vins, St-Martin, 53.\n",
      "Vauban ",
      "(Ctesse de ",
      "Ferme-des-Mathurins, 6.\n",
      "Vaublanc ",
      "(Cte et Ctesse ",
      "Las-Cases, 1.\n",
      "Vaublanc (Vte Arthur de ",
      "Las-Cases, 8.\n",
      "Vaucanu, toiles en gros, Thibault-aux-Dez, ",
      "16.\n",
      "Vauchel ",
      "(Vve ",
      ",fab. de peignes, Mauconseil, 10.\n",
      "Vauchelet *, peintre d&apos;histoire et de portraits, ",
      "Parme, 3.\n",
      "Vaucher, entrep. de peinture, Pet.-Ecuries, 31\n",
      "Vauclair, hôtel du Midi, Grenelle-St-Honoré, ",
      "59.\n",
      "Vauclin, propriét., Lepelletier, 23.\n",
      "Vauclin, vins. Basse-du-Rempart, 38.\n",
      "Vaudet, serrurier, fabric. d&apos;outils pour le ",
      "forage des puits artésiens, Parc-Marais, 5.\n",
      "Vaudeville (theâtre ",
      "pl. de la Bourse, 29.\n",
      "Vaudin, bijoutier-horloger, St-Denis, 107.\n",
      "Vaudin, menuisier, Cinq-Diamants, 17.\n",
      "Vaudin, passementier, Beaubourg, 46-48.\n",
      "Vaudoré, représentant du peuple (Orne), Nve- ",
      "des-Mathurins, 106.\n",
      "Vaudoré (Alexandre) et Cie, fab. d&apos;appareils ",
      "pour l&apos;éclairage par le gaz, J.-J.-Rousseau, 6.*)\n",
      "Vaudorme, menuisier, Faub.-St-Martin, 97 et ",
      "99.\n",
      "Vaudoyer (L.), architecte, Sts-Pères, 46.\n",
      "Vaudre, droguerie, herboriste et commissionn., ",
      "Lenoir-St-Honoré, 2.\n",
      "Vaudremer, fabr. de bijoux en or, Michel-le- ",
      "Comte, 18.*)\n",
      "Vaudreuil (Cte de ",
      "0. , Cassette, 16.\n",
      "Vaudreuil ",
      "(Csse ",
      "Caumartin, 44\n",
      "Vaudreuil ",
      "(Ctesse douairière de ",
      "Cassette, 16.\n",
      "Vaudrey, C. 2, colonel d&apos;artillerie, représen- ",
      "tant du peuple, aide de camp du président, ",
      "Faub.-St-Honoré, 55.\n",
      "Vaudrier, chapelier, St-Jacques, 116.\n",
      "Vaudron, charcutier, St-Jacques, 336.\n",
      "Vaufreland (Bon Georges de) &amp;, officier de ca- ",
      "valerie, avenue Gabrielle, 38.\n",
      "Vaufreland ",
      "(Vsse ",
      "Ville-lEvêque, 3.\n",
      "Vaufreland (Vte de), avenue des Champs- ",
      "Elysées, 18.\n",
      "Vaugel, enlumineur, Vavin, 15.\n",
      "Vaugelade-Duplantier, tapis en gros, Sentier, ",
      "11.\n"
     ]
    },
    {
     "name": "stdout",
     "output_type": "stream",
     "text": [
      "Vaugeois (Mlles), broderies, St-Honoré, 371.\n",
      "Vaugeois et Truchy, passementeries et bro- ",
      "deries, Mauconseil, 1, en face le corps de ",
      "garde.*)\n",
      "Vaugeois, maçon, Angoulême-du-Temple,50.\n",
      "Vaugeois, vins, Coq-St-Honore, 11.\n",
      "Vaugien, appartements meublés, avenue Ste- ",
      "Marie-du-Roule, 6.\n",
      "Vaugiraud (Vte de), St-Dominique-St-Ger- ",
      "main, 41.\n",
      "Vaugon, boucher, St-Louis-St-Honoré, 9, et ",
      "St-Honore, 273.\n",
      "Vaugon, fab. de cols-crav., Rambuteau, 57.\n",
      "Vaugondy fab. de chaussons de tresse, St-An- ",
      "toine, 128.\n",
      "Vaugoux, fleurs, Caire, 2.\n",
      "Vaugrenat (de), Casimir--Périer, 6.\n",
      "Vaujuas (de), représentant du peuple (Ma- ",
      "venne) ",
      "Grenelle-St-Germain, 75.\n",
      "Vaulabelle, conservat. du cimetière du Nord ",
      "(Montmartre).\n",
      "Vaulabelle ",
      "(de ",
      "h. de lettres, Lamartine, 34.\n",
      "Vaulogé ",
      "(Vte */ et Vsse ",
      "Cherche-Midi, 11.\n",
      "Vaulot, potier d&apos;étain, fab. de comptoirs de ",
      "marchands de vins, St-Martin, 220čis.\n",
      "Vaumier (Vre), faiences, marché à la Verdure, ",
      "60.\n",
      "Vaumorin,tonnelier, Grenelle-St-Germ., 84.\n",
      "Vaunois, anc. avoué, Louis-le-Grand, 35.\n",
      "Vauquelin, épicier, Nve-Breda, 23.\n",
      "Vauquelin, médecin, quai Napoléon, 23.\n",
      "Vauquelin, médecin, St-Christophe, 4.\n",
      "Vauquelin, propr., Lepelletier, 23.\n",
      "Vaur (baron de ",
      "), Louis-le-Grand, 6.\n",
      "Vaur-Cornet, fabr. de soufflets, Aval, ",
      "7.\n",
      "Vauréal (Cte de ",
      "Amsterdam, 19.\n",
      "Vaury jeune, boulanger, St-Honoré, 400.\n",
      "Vaute, coiffeur, Temple, 44-10\n",
      "Vauthelin, vins, Musée, 20.\n",
      "Vauthier, boul. des Italiens, 26\n",
      "Vauthier, architecte, Paradis-Poissonnière, 4.\n",
      "Vauthier, bonneterie, St-Georges, 60.\n",
      "Vauthier, bureau de nourrices, passage des Pe- ",
      "tites-Ecuries, 4.\n",
      "Vauthier, coutelier, fab. d&apos;mstruments de chi- ",
      "rurgie, Dauphine, 34.\n",
      "Vauthier, épicerie et mercerie, Dupuis-Ven- ",
      "dôme, 5.\n",
      "Vauthier ",
      "(Mlle ",
      "institutrice, St-Victor, 24 bis.\n",
      "Vauthier, menuisier, Quincampoix, 78.\n",
      "Vauthier (J.) ",
      "&quot; porcelaines, Vinaigriers, 27.\n",
      "Vauthier, tabac, Faubourg-Montmartre, 29.\n",
      "Vautier, acier poli, St-Maur-Popincourt, 131.\n",
      "Vautier, avocat cour d&apos;appel, Montagne-Ste- ",
      "Geneviève, 37.\n",
      "Vautier, architecte, Dragon, 3.\n",
      "Vautier, fab. de bas, Fontaine-St-Georges, 9.\n",
      "Vautier, bureau de nourrices, Pagevin, 3., et ",
      "passage des Petites-Ecuries, 4.\n",
      "Vautier (F.), grand café de l&apos;Europe, Vi- ",
      "vienne, 36, passage Feydeau, 17, passage des ",
      "Panoramas, 42.\n",
      "Vautier, coiffeur, Huchette, 22.\n",
      "Vautier, commissaire-priseur, Michodière, 12.\n",
      "Vautier père, fondeur, fontainier-plombier, ",
      "Juifs, 7.\n",
      "Vautier, ingénieur-civil, Dragon, 3.\n",
      "Vautier, mé decin-dentiste, Temple, 137 bis.\n",
      "Vautier, mégissier, Fer-à-Moulin, 42.\n",
      "Vautier, fab. de peignes, Aumaire, 39.\n",
      "Vautier, plombier, garde-robes, Quatre-Fils , ",
      "2.\n",
      "Vautier ",
      "Vve ",
      "viles, Mouffetard, 30.\n",
      "Vautrain, avoc - à la cour d&apos;appel, maire du ",
      "9me arrondissement, quai Bourbon, 21.\n",
      "Vautrain, recev. à l&apos;octroi, quai Bourbôn, 21.\n",
      "Vautravers, herboriste, Nonaindières, 19.\n",
      "Vautré (Vve Bonne de ",
      "Bourgogne, 50.\n",
      "Vautrin (Isidore ",
      "avocat, Bussy, 13.\n",
      "Vautrin, boucher, Nve-Ste-Catherine, 7.\n",
      "Vautrin, limonadier, Provence, 7 bis.\n",
      "Vautrin (Mlle ",
      "lingerie, Provence, 5.\n",
      "Vautrin fils, fab. d&apos;orfévrerie de table, ",
      "Quatre-Fils, 21.\n",
      "Vautrot, épicier, Vannes, 4.\n",
      "Vauty, ancien commissionnaire, Fraternité, 27.\n",
      "Vauve des Roys, profess. de lang., St-Domi- ",
      "nique, 46.\n",
      "Vauveers, négociant, Université, 56\n",
      "Vauversin ",
      "(Mme ",
      "pension, Malte, ",
      "15.\n",
      "Vauvert frères, confection d&apos;habillements en ",
      "gros, St-Denis, 37.\n",
      "Vauvillé, Godot, 18.\n",
      "Vauvillé (H.), meubles et menuisier en bâti- ",
      "ments, Faubourg-Poissonnière, 53.\n",
      "Vauvilliers (E. ), préparateur au baccalauréat, ",
      "Maçons-Sorbonne, 17.\n",
      "Vauvilliers i, avocat à la cour d&apos;appel, Fer- ",
      "me, 34 bis.\n",
      "Vauvineux (Cte de ",
      ", Anjou-St-Honoré, 51.\n",
      "Vauvrayfrères, ferblantiers-lampistes, Phelip- ",
      "peaux, 27.\n",
      "Vauvray (Aug.), ferblantier lampiste, Gravil- ",
      "liers, 29.\n",
      "Vaux (Bon de ",
      "Helder, 17.\n",
      "Vaux (Mme), enseignement mutuel, 1er ar- ",
      "rondissement, Longchamps, 29.\n",
      "Vaux, serrurier, Martignac, 24.\n",
      "Vavasseur, boucher, Vieille-Bouclerie, 20.\n",
      "Vavasseur (Mme), broderies, Notre-Dame-des- ",
      "Victoires, 19.\n",
      "Vavasseur, épicier, St-Antoine, 210.\n",
      "Vavasseur, propriétaire, St-Georges, 60.\n",
      "Vavasseur ",
      "Vve ",
      " vins, Ecluses-St-Martin, 16.\n",
      "Vavasseur-Desperriers, avoué honoraire, Notre- ",
      "Dame-de-Lorette, 16.\n",
      "Vavrand, cabinet de ",
      "lecture, Pigale, 33.\n",
      "Vax (Ch.) ",
      "limonadier, St-Honoré, 118.\n",
      "Vax, vins, Sevres, 79\n",
      "Vidron, tabletier, Rambuteau, 43.\n",
      "Vié, fab. de bonneterie, St-Jacques, 161.\n",
      "Vié, boucher, St-Victor, 75.\n",
      "Vié, entrepreneur de maçonnerie, St-Domini- ",
      "que-St-Germain, 18.\n",
      "Vié, relieur, Ecole-Polytechnique, ",
      "7.\n",
      "Vie, pâtissier, Lancry, 27\n",
      "Vié (E.), représentant de commerce, François- ",
      "Miron, ",
      "4.\n",
      "Viefville, notaire, q. d&apos;Orléans, 6.\n",
      "Vieillard (L.), spécialité pour deuil, boul. St- ",
      "Denis, 15, et St-Antoine, 89.\n",
      "Vieillard &amp;, conservateur à la bibliothèque de ",
      "l&apos;Arsenal, Sully, 3.\n",
      "Vieillard, représentant du peuple (Manche), ",
      "Sentier, 34.\n",
      "Vieille, peintre en bât., Grange-Batelière, 11.\n",
      "Vieille, plumassier-fleuriste, Caire, ",
      "7.\n",
      "Vieille *, professeur agrégé à la Faculté des ",
      "sciences, maître des conférences à l&apos;Ecole ",
      "na\n",
      "Vieille-Montagne (société anonyme de la ), ",
      "Richer, 19.\n",
      "Vicillesse( ",
      "hosp.de la), pour hommes, à Bicêtre.\n",
      "Vieillesse (hospice de la ), pour femmes, boul. ",
      "de l&apos;Hôpital, 47.\n",
      "Vieillot, éditeur, Notre-Dame-de-Nazareth, 32.\n",
      "Vieira et Cie, commissionnaires, de Rio-Janei- ",
      "ro, Richer, 46.\n",
      "Viel, agent général du bureau du charbon de ",
      "bois et gérant de l&apos;école de natation Henri IV, ",
      "Bretonvilliers, 1.\n",
      "Viel, ancien négociant, St-Roch, 24.\n",
      "Viel, architecte, pl. Lafayette, 22.\n",
      "Vieil (Antonin ",
      "1), architecte, Choiseul, 27.\n",
      "Viel, avocat, Cherche-Midi, 23.\n",
      "Viel, carrossier, Vanneau, 50.\n",
      "Viel jeune, charron-serrurier, Vaugirard, 16.\n",
      "Viel (François), charron, Fossés.-St-Marcel, ",
      "O\n",
      "Viel, épicier et tabac, boul. de l&apos;Hôpital, 34.\n",
      "Viel, epicier, St-Roch, 7.\n",
      "Viel ",
      "(A. ",
      " fab. de lingerie, Jeuneurs, 44.\n",
      "Viel, papiers peints, boul. St-Denis, 15.\n",
      "Viel, peintre en bâtiments, Chabrol, 5.\n",
      "Viel (Mme), tabac, boulev. Bonne-Nouvelle, ",
      "Z\n",
      "Viel, vins, St-Vincent-de-Paul, 6.\n",
      "Viel, vins, Victoire, 87.\n",
      "Viel, vins, Michodière, ",
      "1, et Port-Mahon, 2.\n",
      "Viel-Castel (baron L.), O. 2, directeur de la ",
      "politique au ministère des affaires étran- ",
      "gères, Université, 108.\n",
      "Viel-Castel (comte de ",
      "Caumartin, ",
      "17.\n",
      "Vielle, limonadier, café de la Régence, ",
      "place du Palais-National, rue St-Honoré, ",
      "243.\n",
      "Vielle (Mme ",
      ",mercière, Vaugirard, 151.\n",
      "Vielle, vins fins et ordinaires, St-André-des- ",
      "Arts, 1.\n",
      "Vielle - Delamare, de la maison Marshall de ",
      "Londres et Vielle-Delamare , Faub. St-De- ",
      "nis, 142.\n",
      "Vielleville, bronzes, pendules, Berry-au-Ma- ",
      "rais, 9.\n",
      "Viennay ",
      "(Cte de ",
      ",Vaugirard, 38.\n",
      "Viennay ",
      "(Léonce de ",
      ", Vaugirard, 38.\n",
      "Viennay ",
      "(baron Henry de ",
      "Vaugirard, 38\n",
      "Viennay (Vte Gabriel de ",
      "), Vaugirard, 38.\n",
      "Viennay ",
      "(Mse de), Vaugirard, 38.\n",
      "Vienne, inspecteur au chemin de fer du Nord, ",
      "Lafayette, 52.\n",
      "Viennet, C. X, de l&apos;Institut, Godot, 18.\n",
      "Viennet (Mme ",
      ", fab. de bas, Clichy, 13.\n",
      "&quot;iennot (G.),bijoutier en jais, Nve-Bourg- ",
      "Abbé ",
      "2.\n",
      "Viennot, pedicure et bains, Montholon, 28.\n",
      "Viennot, serrurier, Petits-Champs-St-Martin, ",
      "8.\n",
      "Viennot (C.), sous-chef aux finances, Lavoi- ",
      "sier, 25.\n",
      "Viennot, vins, Caumartin, 58.\n",
      "Viennot, vins, Nve-des-Petits-Champs, 72, et ",
      "Louis-le-Grand, 2.\n",
      "Vienot (Gustave), caissier de la compagnie ",
      "nationale d&apos;assurances sur la vie, Ménars, 3.\n",
      "Vienot, peintre-artiste, Chaussée-d&apos;Antin, ",
      "62.\n",
      "Vienot, peintre en voitures, Faub.-St-Denis, ",
      "221.\n",
      "Vient (L.), tailleur, march. flaconnier, Saint- ",
      "Denis, 290.\n",
      "Vier ",
      "(Mme ",
      ",polisseuse, J.-J. Rousseau, 13.\n",
      "Vierhaus jeune, ébéniste, Beautreillis, 9.\n",
      "Viers, nourrisseur, Mouffetard, 225.\n",
      "Vierset, cordonnier p. dames, Bourg-l&apos;Abbé, 5.\n",
      "Viet, anc. économe à la Banque de France, ",
      "St-Lazare, 66.\n",
      "Viet, colle de poisson, Cloche-Perche, 10.\n",
      "Viette, arquebusier, Ferme, 13.\n",
      "Viette, epicier , Arbre-Sec , 29, et Fosses-St- ",
      "Germain-l&apos;Auxerrois, 25.\n",
      "Vieux (A.), armurier, passage Vivienne, 33.\n",
      "Vieux, ébéniste, Faub.-St-Antoine, 59.\n",
      "Viéville, fab. de boutons, Aumaire, 48, et place ",
      "St-Nicolas-des-Champs, 2.\n",
      "Viéville, dessinat. en broder., Poissonnière, 15.\n",
      "Vieville, épicier, Bretagne, 11\n",
      "Vieyra-Molina,agent de change, Grange-Bate- ",
      "lière, 11; domicile, St-Georges, 43.\n",
      "Vieyra-Molina (J.-H.), propriétaire, Chaussée- ",
      "d&apos;Antin, 19 bis.\n",
      "Vigel, tabac, Vertbois, 24.\n",
      "Viger-Duvignon, peintre, Ouest, 36.\n",
      "Vigerie (L.) ainé, parfumeur, St-Denis, 243.\n",
      "Viget, bijout., orfév., horlog., St-Antoine, 201— ",
      "203-205.\n",
      "Vigier, avoué de 1re instance, q. Voltaire, ",
      "17.\n",
      "Vigier ",
      "(baronne de ",
      "&quot;Rivoli, 30\n"
     ]
    },
    {
     "name": "stdout",
     "output_type": "stream",
     "text": [
      "Vigier jeune, commiss. en horlog., Bouloi, 10.\n",
      "Vigier, coutelier, Faub.-St-Antoine, 247.\n",
      "Vigier (Cte A.), � 2, quai Voltaire. 1.\n",
      "Vigier (S. et J.) frères, fab. de tapis, Crois- ",
      "sant, 18.\n",
      "Vigier, plumassier, Mazagran, 13.\n",
      "Vigla, bijoutier pour deuil, Gravilliers 1.\n",
      "Vigla �§, médecin, Vieux-Colombier, 3.\n",
      "Vignacourt ",
      "comtesse de ",
      "Bac, 94.\n",
      "Vignais, mécanicien -serrurier, Nve-St-Lau- ",
      "rent, 10.\n",
      "Vignais (de), orfévrer. plaq., Montmartre, 180.\n",
      "Vignal, médecin, Faub.-St-Denis, 50.\n",
      "Vignat frères, rubans et étoffes de soie, place ",
      "des Victoires, 3.\n",
      "Vignau, coiffeur, St-Victor, 165.\n",
      "Vignaud (J.) et Cie , mérinos et impressions, ",
      "Sentier, ",
      "6.\n",
      "Vignaud, restaurateur, place de l&apos;Odéon, 2, et ",
      "carrefour. 38.\n",
      "Vignaux, pâtissier, Dauphine, 10.\n",
      "Vigné, outils et ferrailles, Beaubourg, 50.\n",
      "Vigne, bois en gros et détail, Union, 20.\n",
      "Vigne jeune, jouets d&apos;enfants, Beaubourg, 59.\n",
      "Vigneaux, bur. de placement des garçons mar- ",
      "chands de vins, q. de la Grève, 24.\n",
      "Vignères, marchand d&apos;écriteaux, Ste-Anne, ",
      "16.\n",
      "Vignères, estampes anciennes, Carrousel ",
      "4\n",
      "Vigneron ainé, bottier, St-Marc, 25.\n",
      "Vigneron jeune, bottier, St-Marc, 28.\n",
      "Vigneron, charcutier, Martyrs, 29.\n",
      "Vigneron, charcutier, St-Lazare, 74.\n",
      "Vigneron, curiosités, Vieux-Colombier, 17.\n",
      "Vigneron, successeur de Plarière, ferblantier ",
      "pour caisses d&apos;emballage, Faub.-St-Denis, ",
      "14.\n",
      "Vigneron, menuisier-modeleur, Trois-Bornes, ",
      "I.\n",
      "Vigneron, peintre en bâtiments, Saint-Anas- ",
      "tase, 12.\n",
      "Vigneron, vins, Croix-St-Martin, 20.\n",
      "Vignes, ferblantier-lampiste, Harpe, 117.\n",
      "Vignes, tulles unis et brodés, Sentier, 16.\n",
      "Vignes (Th.), représentant du peuple (Arié- ",
      "ge), Faub. -St-Honoré, 100.\n",
      "Vigneux, liqueurs, Paradis Poissonnière, 6.\n",
      "Vignolle, architecte, pl. des Vosges, 26.\n",
      "Vignolles (Ctesse de ), Saint-Dominique, 27.\n",
      "Vignolo, medecin, Cassette, 25.\n",
      "Vignon (Mme ",
      ", coutur., Faub.-Poissonnière, 23.\n",
      "Vignon, épicier, Sept-Voies, 1.\n",
      "Vignon, vins, Neuve-St-Laurent, 23 et 33, et ",
      "Croix, 20.\n",
      "Vignon jeune, vins, Reynie, 13.\n",
      "Vignon, vins, Taranne, 27.\n",
      "Vignon, Cte de Servasca, Lamartine, 34.\n",
      "Vigny (J.), médecin, Nve-des-Petits-Champs, ",
      "58\n",
      "Vigny (Mlle ",
      ", pensionnat, Beaune, 12.\n",
      "Vigot, tabac, Strasbourg, 13.\n",
      "Vigourel et Cie, escompte et recouvrements, ",
      "Neuve-St-Augustin, 20.\n",
      "Vigoureux, architecte, Savoie, 11\n",
      "Vigoureux, architecte, quai Napoléon, 23.\n",
      "Vigoureux, carrossier, allée des Veuves, 103.\n",
      "Vigoureux, O. 1§, insp. divisionn. aux ponts et ",
      "chaussées, Grenelle-St-Germain, 67.\n",
      "Vigoureux, propr. et vins, Fidélité, 7, et Nve- ",
      "de-la-Fidélité, 40.\n",
      "Vigouroux (Mme), fab. de corsets, Louis-le- ",
      "Grand, 29.\n",
      "Vigouroux, hôtel de l&apos;Europe, Vingt-Quatre- ",
      "Février, 4.\n",
      "Vigouroux, rentier, Provence, 7 bis.\n",
      "Viguès frères, bois des îles, Faub.-St-An- ",
      "toine, 59.\n",
      "Viguet (M.-L.) X, N.-D.-de-Lorette, 40.\n",
      "Viguié, propriétaire, Jean-Goujon, 2.\n",
      "Viguié (Jacques-Frédéric), métaux, fontes et ",
      "zinc, Bergère, 32.\n",
      "Viguier, O. */8, inspect. général des études, ",
      "Вас, 35.\n",
      "Viguier, cartonmer, Thevenot, 32.\n",
      "Viguier, chapelier, St-Honoré, 131.\n",
      "Viguier (B.), porcelaines et cristaux, boul. ",
      "Beaumarchais, 6.\n",
      "Viguier, représentant du peuple (Cher), Ar- ",
      "bre-Sec, 44.\n",
      "Viguier fils, toiles et linge de table, Mau- ",
      "vaises-Paroles, 18.\n",
      "Viguier, père, prop., Enghien, 12.\n",
      "Vilacèque, tailleur, Nve-des-Petits-Champs, 7.\n",
      "Vilain, avocat, Neuve-des-Capucines, 7.\n",
      "Vilain, chemisier, passage Jouffroy, 31.\n",
      "Vilain, commissionnaire, Angoulême-du-Tem- ",
      "ple, 20.\n",
      "Vilain, cordier, marchand de filasse, Cossonne- ",
      "rie, 33 et 31.\n",
      "Vilain, épicier, Montreuil, 2.\n",
      "Vilain, paveur, Moreau, 32.\n",
      "Vilain (Victor) ",
      " sculpteur, Nord, 5.\n",
      "Vilain, serrurier-mécanicien, Ouest, 24.\n",
      "Vilatte, pharmacien, St-Honoré, 232.\n",
      "Vilcère, avocat, homme de lettres, Guy-La- ",
      "brosse, 8.\n",
      "Vilcoq, anc. notaire, Hauteville, 35.\n",
      "Vilcoq (Ch.), négociant en vins, Nve-St-Au- ",
      "gustin, 11.\n",
      "Vilcoq, peintre-vitrier, Bac, 61.\n",
      "Vilcoq (Ch. ",
      ",Aiguillerie, 4.\n",
      "Vilcoq, vins. Faub. -St-Martin, 67.\n",
      "Vildé, fab. de chapeaux, Plâtre-Ste-Avoie, 14.\n",
      "Vildé, chapelier, St-Dominique, 161.\n",
      "Vildieu, courtier-gourmet, St-Victor, 6.\n",
      "Vildieu, vins, St-Denis, 232.\n",
      "Vildieu, vins en gros, St-Victor, 26.\n",
      "Vilin, facteur au beurre, Piliers-Potiers-d&apos;E- ",
      "tain, 16 et 18.\n",
      "Vilin, épicier, Popincourt, 32.\n",
      "Villain, architecte, Bourdaloue, ",
      "1.\n",
      "Villain, bijoutier, Ménilmontant, 35.\n",
      "Villain, charbon, Fontaine-Molière, 5.\n",
      "Villain, boucher, Charlot, 24.\n",
      "Villain, chemisier, passage Jouffroy, 31.\n",
      "Villain (Mlle A. ",
      "), dentelles, St-Fiacre, 3.\n",
      "Villain, imprimeur-lithographe, Sèvres, 19.\n",
      "Villain (J.), ingénieur civil, St-Germain-des— ",
      "Prés, 12.\n",
      "Villain, fab. de moulures guillochées, Faub.— ",
      "St-Antoine, 99, et rue de Charonne, 36 et 40.\n",
      "Villain ainé, quincaillerie, Faub.-Poissonnière, ",
      "42.\n",
      "Villain (Mme), sage-femme, Cherche-Midi, 60.\n",
      "Villain, vannier, Sevres, 71.\n",
      "Villain-Moisne , prop., Arcade, 53.\n",
      "Villaine, chapelier, St-Antoine, 148.\n",
      "Villand, tourneur en cuivre, Transnonain, 34.\n",
      "Barbot, Bourguignons, 37.\n",
      "Baron (Philibert) O, jardinier— ",
      "fleuriste, Buisson-St-Louis, 31.\n",
      "Berthelot, Loursine, ",
      "128\n",
      "Bicqulin, Fosses-St-Victor, 39.\n",
      "Bondoux, specialité de pelargo- ",
      "niums, calcéolarias, ſuchsias, ",
      "verbenas et dahlias, et plantes ",
      "nouvelles, expédie en province ",
      "et à l étranger, Lourcme, 151.*\n",
      "Bonnin, St-Dom.-St-Germ., 183.\n",
      "Boron, el pepinieriste, impasse St- ",
      "Ambroise, 9.\n",
      "Bossin, Louesse et Cie, botanistes ",
      "et pépinieristes, collection d&apos;ar- ",
      "bres, de graines potagères, four- ",
      "ragères, d&apos;arbres et de fleurs; ",
      "dépôt de librairie agricole el hor- ",
      "ticole, instruments d&apos;agriculture ",
      "et d&apos;horticulture; griffes, pattes ",
      "et oignons à fleurs, jacinthes de ",
      "Hollande, etc., quai de la Megis- ",
      "serie, 28, pepinière à Limours ",
      "(Seine-et-Oise)\n",
      "Boulard fils, Boulets, 16.\n",
      "Boutreux, avenue de Saxe, 8.\n",
      "Branckotx, fleuriste, Biron. 19.\n",
      "Bréon, grainetier-ſleuriste el pé- ",
      "pineriste, expedition de graines et ",
      "plantes pour toutes les colonies ; ",
      "collections superbes d&apos;oignons à ",
      "fleurs, dahlias, rosiers, arbres ",
      "fruitiers et d&apos;agrément; collection ",
      "d&apos;ordre de graines polagères, de ",
      "fleurs et fourragères, quai de la ",
      "Mégisserie, 70.\n",
      "Briollet, St-Lazare, ",
      "106.\n",
      "Bulher, dessinateur de parcs et ",
      "jardins, Grenelle-S. -G., 147.\n",
      "Cels frères, horticulleurs, chaus- ",
      "see du Maine. 77; collection de ",
      "caclées, orchidées, camélias, pal- ",
      "miers et végétaux exotiques de ",
      "toutes les partiës du globe, 6 mé- ",
      "dailles d&apos;or, 18 médailles d&apos;ar- ",
      "gent de diverses Sociétés d&apos;horti- ",
      "culture,  1849, exportation pour ",
      "la France et l&apos;étranger.\n",
      "Chalumeau dit Printemps, Aman- ",
      "diers — Popincourt, 37.\n",
      "Chantin, (Antoine),  1850, cer- ",
      "cle d&apos;horticulture, horticuleur, ",
      "spécialité de palmiers et autres ",
      "plantes rares de serre chaude et ",
      "de serre tempérée, camélias, ",
      "azaléas (exportation), boul. des ",
      "Gobelins, 24.\n",
      "Chapon, quai Napoléon, 33.\n",
      "Chapet ainé (Mme), fleurs natu- ",
      "relles, boul. des Capucines, 25.\n",
      "Charon, fleurs naturelles et entre- ",
      "preneur de peinture, St-Domini- ",
      "que, 23.\n",
      "Chaudy père, Trois-Couronnes-du- ",
      "Temple. 30.\n",
      "Chauvière (Alexandre), Roquette, ",
      "152, spécialité de dahlias, géra- ",
      "niums, plantes nouvelles et les ",
      "plus rares, de serre-chaude, serre ",
      "tempérée et de pleine terre, ayant ",
      "reçu 20 médailles d&apos;or et d&apos;ar- ",
      "gent aux diverses expositions; ex- ",
      "pédition pour la France et l&apos;é- ",
      "tranger.\n",
      "Clément, Boulets, 22.\n",
      "Clément, Vaugirard, 212.\n",
      "Clouet fils aine, St-Maur-Popin- ",
      "court, 53.\n",
      "Colçon, Saint-Dominique-St-Ger- ",
      "main, 167.\n",
      "Conard, St-Dom.-St-Germ., 217.\n",
      "Constant, place du Trône, 6.\n",
      "Courtois (Henry), maison Tam- ",
      "ponnet, horticulteur, possesseur ",
      "des premiers camélias venus en ",
      "France, et donnés à M. Tam- ",
      "ponnet par l&apos;impératrice José- ",
      "phine, Muette, 16.\n",
      "Courtois, Faub -Poissonnière, 164, ",
      "magasin, q. de la Mégisserie, 34.\n",
      "Crepeau, allée des Veuves, 79.\n",
      "Daube père, Charonne, 164.\n",
      "Daunard, Vaugirard, 204.\n",
      "Debille, Muette, 25.\n",
      "Delaunay, Santé, 42.\n",
      "Delaunay, Charonne, 172.\n",
      "Delaunay, avenue de Breteuil, 36.\n",
      "Delaunay, Reuilly. 51.\n",
      "Deschamps, Chevert, 15.\n",
      "Dubnis. N -D.-des-Champs, 15.\n",
      "Dufoix, Roquette, 153.\n",
      "Dufoy jeune, Amandiers-Popin- ",
      "court, 35.\n",
      "Dulac père, Picpus, 23.\n",
      "Dupont, St-Maur-Popincourt, 50.\n",
      "Duval, jardinier ſleuriste, entre- ",
      "preneur de jardins bourgeois, ",
      "Contrescarpe-St-Marcel, 23.\n",
      "Estier, place Dup&apos;eix, 31.\n",
      "Ferrand, Glacière, 27\n",
      "Fonrouge, Lyonnais, 11.\n",
      "Forney (Ls), Fosses-St-Marc., 63.\n",
      "Fournier, Lourcine, 148.\n",
      "Gauthier, (B1849, av Suffren, 20.\n",
      "Gautrin, St-Maur-Popinc., 224\n",
      "Gelin, Mont-Parnasse, 63.\n",
      "Gendrier, fleurs naturelles, Saint- ",
      "Honoré, 256.\n"
     ]
    },
    {
     "name": "stdout",
     "output_type": "stream",
     "text": [
      "Gérard et Courtois, (D 1849, q ",
      "de la Megisserie, 34.\n",
      "Germain, Amandiers-Popinc., 32, ",
      "et St-Maur-Popincourt. 5.\n",
      "Gros, St-Maur-Popincourt, 228.\n",
      "Hacville fils, Loursine, 141\n",
      "Hervé, Fourneaux. 39\n",
      "Heurteaux, Charonne, 130, faub.\n",
      "Houdart, Montreuil, 82.\n",
      "Huard, Loursine, 74.\n",
      "Jacquin aîné et Cie, gramiers, ",
      "fleuristes et pépiniéristes; com- ",
      "merce en gros et en détail de ",
      "graines potagères et fourragè- ",
      "res, graines de fleurs et d&apos;ar- ",
      "bres, oignons à fleurs et plantes ",
      "et arbres de tous genres ; au Bon ",
      "Jardinier, quai de la Mégisse- ",
      "rie, 14. Cultures expérimentales, ",
      "au Grand-Charonne, route de ",
      "Bagnolet, 20, près Paris; mé- ",
      "dailles d&apos;or et d&apos;argent des di- ",
      "verses societés horticoles.\n",
      "Jamain (H.), Cendrier, 1.\n",
      "Jamin (J.-L.) et Durand, Buffon, ",
      "69, près le Jardin des Plantes. ",
      "Pepinières générales et siége de ",
      "l&apos;établissement à Bourg-la-Reine, ",
      "près Sceaux, (B 1849.\n",
      "Jolly (P.), des sinateur de jardins, ",
      "Petit-Pont, 10.\n",
      "Jourdier, Charenton, 115.\n",
      "Laine, Muette, ",
      "10.\n",
      "Lamy, Genti ",
      "ly, 36.\n",
      "Lapipe fils, Basfroid. 11.\n",
      "Lapipe père, Roquette, 98.\n",
      "Lapipe-Pernelle, Boulets, 15.\n",
      "Lardot, Roquette, 181\n",
      "Laurent, Lourcine, 88\n",
      "Lecomte, aven. de Lowendal, 51\n",
      "Ledrand, Vaugirard, 208.\n",
      "Ledru, Montgallet, 12.\n",
      "Lefebure, Mont-Parnasse, 49.\n",
      "Lemaire-Deconulle, Sante, 11 et ",
      "D.\n",
      "Lemichez (Alp.), horticulteur, ",
      "O 1845 O 1816, O 1846, O ",
      "1847, 0 1847, O 1847, Trois- ",
      "Couronnes, 18.\n",
      "Lemoine, passage de l&apos;Opéra, gal. ",
      "de l&apos;Horloge, 1.\n",
      "Lhomme, jardinier en chef du ",
      "jardin de pharmacie, Enfer, 37.\n",
      "Mabire, Lourcine, 124.\n",
      "Marest, Enfer, 87 ter.\n",
      "Margottin. (( S. R. 1843 et 1814, ",
      "Marche-aux-Chevaux, 33.\n",
      "Martine, jardinier-ſleurisle, im- ",
      "pusse Haute-Fort, 4.\n",
      "Martine J.-L.) ",
      "&quot;Bourguignons, 29.\n",
      "Masson (Pierre), boul. Saint-Jac- ",
      "ques, 46.\n",
      "Mathieu, Buffon, 69.\n",
      "Mathieu, ( S. Hortic. 1828-32- ",
      "36, Marche-aux-Chevaux, 32; ",
      "ci-devant r. Buffon, 23.\n",
      "Michel (Ch. ), spécialité d&apos;éri- ",
      "cas, épacris, azaleas des Indes, ",
      "camélias, etc, fait des envois en ",
      "province et à l&apos;étranger, 81849, ",
      "Boulets, 31, Faub. St -An- ",
      "to\n",
      "Michon, fleurs naturelles, pass. ",
      "de l&apos;Opéra, gal. du Baromètre, ",
      "6 et 8.\n",
      "Moree, Amandiers-Popinc., 39.\n",
      "Morel (Ch) , Amandiers-Popin- ",
      "court, 40.\n",
      "Moret, Cordelières, 3.\n",
      "Moynet, Roquette, 190.\n",
      "Neveu, Amandiers-Popinc., 38.\n",
      "Noel, culture de plantes medicina- ",
      "les, des Cornes, 10.\n",
      "Noiriel, Sèvres. 167.\n",
      "Noisette (Lonis) neveu, culture ",
      "spéciale d&apos;azaléas de l&apos;Inde, rho- ",
      "dodendrons, arboréa, camelias, ",
      "rosiers, dahlias et autres, expor- ",
      "tatzon pour la France et l&apos;étran- ",
      "ger, O 1846, S. C. A., Roquette, ",
      "142 (ci-devant), Biron, 12, Faub.- ",
      "St-Jacques.\n",
      "Nourry, Lourcine, 145.\n",
      "Olevrel, Croulebarbe, 47.\n",
      "Ozange, Faub.-St-Antoine, 277.\n",
      "Paillet, Austerlitz-St-Marcel. 4\n",
      "Pare, Lourcine. 147.\n",
      "Pele, Lourcine, 81, 0 S. H. 1841, ",
      "plantes exotiques et indigènes, ",
      "culture spéciale des plantes viva- ",
      "ces les plus rares et les plus nou- ",
      "velles de pleine terre et de serre ",
      "tempérée, expédilion et exporla- ",
      "tion pour la France et l&apos;étranger.\n",
      "Pertu sot, Roquette, 156\n",
      "Picard (Vve, Roquette, 167.\n",
      "Pilloy, Lourcine, 122.\n",
      "Pinard, avenue de Breteuil, 68.\n",
      "Pivert, Kléber. 33.\n",
      "Potor, Boulets, 30\n",
      "Prevost,  S. Hortic. 1832, ga- ",
      "lerie de Nemours, 13 et 14, Pa- ",
      "lais-National.\n",
      "Quillardet, O S. Hortic. 1832, ",
      "Buisson-St-Louis, 23.\n",
      "Ragonot, fleurs natur., Paix, 18.\n",
      "Rapp. de la Clef, 37.\n",
      "Renon (P.), Fourneaux, 35.\n",
      "Rousselle, Roquette, 161.\n",
      "Rouveau, Amandiers-Popinc., 29.\n",
      "Ryfkogel (J.-B.), Vaugirard, 187.\n",
      "Saugé, Sante, 42\n",
      "Sebillotte, Mechin, I\n",
      "Stinville, Petite-Reuilly, 26.\n",
      "Tavernier, Fosses-St-Marcel, 16.\n",
      "Thibault-Prudent, arbres frui- ",
      "tiers, forestiers et d&apos;agrément, ",
      "graines potagères, de fleurs me- ",
      "dicinales, fourragères, de grande ",
      "culture, expédie pour la France ",
      "et l&apos;étranger, rue de la Ferron- ",
      "nerie, 11, près le marché des In- ",
      "nocents, à la Cloche des halles ",
      "aux legumes.\n",
      "Thibaut et Ketelèer, horticulteurs, ",
      "r. de Charonne, 146, plantes ",
      "nouvelles de serre, d&apos;orangerie ",
      "et de pleine terre ; collections ",
      "spéciales de camelias, azaléa ",
      "de l&apos;Inde, pélargoniums, dahlias ",
      "verveines, fuchsia, rhododen- ",
      "drum et conifères (arbres verts ",
      "résineux), etc.\n",
      "Tollard (Jean) jeune, place des ",
      "Trois - Maries, 4 ; cultures, Ro- ",
      "quette, 113, Faub.-St-Antoine.\n",
      "Tonnellier ",
      "L. ",
      "Postes, 45.\n",
      "Toussaint père et fils, Astorg, 21.\n",
      "Touvais, successeur de Roblin, ",
      "horticulteur-commerçant, culture ",
      "spéciale de rosiers, dahlias et di- ",
      "verses plantes de choix, pots à ",
      "fleurs et bouquets à main pour ",
      "fètes, Notre-Dame-des-Champs, ",
      "85, ci-devant 47, pres du Luxem- ",
      "bourg.\n",
      "Tripet Vve) et Leblanc, grainiers- ",
      "fleuristes et pépinieristes, b. des ",
      "Capucines, 21 (AU CAPOUSTA), ",
      "cultures r. Bizet, 27 (Champs- ",
      "Elysées), graines de toutes es- ",
      "pèces, potagères, de fleurs, de ",
      "gazon de prairie, d&apos;arbres, d&apos;ar- ",
      "bustes et d&apos;arbrisseaux, toutes ",
      "espèces d&apos;oignons à fleurs, ané- ",
      "mones, jacinthes, renoncules, tu- ",
      "lipes par noms et coul urs et en ",
      "mélange, et melange de ces qua- ",
      "tre plantes bulbeuses, arbres à ",
      "fruits, arbres, arbustes et arbris- ",
      "seaux d&apos;utilité et d&apos;ornement, ",
      "rosiers, dahlias, oeillets, plantes ",
      "vivaces, etc.;  Société horti- ",
      "culture 1838, 1839, 1840, 1841, ",
      "1842, O 1843 et 1844; prix ",
      "d&apos;honneur fondé par la duchesse ",
      "d&apos;Orleans.\n",
      "Tructin, St-Maur-Popinc. , 230.\n",
      "Vaillant, boul. des Italiens, 29.\n",
      "Vasselin, Roquette, 115.\n",
      "Verdier (Vor) père, spécialité de ",
      "rosiers, pivoines, noureautes d&apos;ar- ",
      "bustes et plantes de plein air, O ",
      "décernée par la société centrale ",
      "d&apos;horticuiture 1845;  S. C., ",
      "d&apos;horticulture, 1841 et 1844 ; ",
      "A Société des horticulteurs réu- ",
      "nis;  Société nationale d&apos;hor- ",
      "ticulture 1842; D 1849, rue des ",
      "Trois-Ormes, 5, à la gare d&apos;I- ",
      "vry.\n",
      "Voiriot père, maraicher, avenue ",
      "Breteuil, 43.\n",
      "Carpentier, fab. de mannequins ",
      "d&apos;homme et de cheval, D 1849 , ",
      "Menilmontant, 107.\n",
      "Croiset (Mme), mannequins pour ",
      "accouchem., Maçons Sorbonne, 21.\n",
      "Debourge, à la Palette d&apos;Or, Ar- ",
      "bre-Sec. 46.\n",
      "Gagnery, fabricant, par brevet d&apos;in- ",
      "vention, de mannequins perfec- ",
      "tionnés se tenant sur leurs jam- ",
      "bes sans le secours d&apos;un pied ni ",
      "d&apos;aucun support, et offrant l&apos;a- ",
      "vantage de se grouper aussi près ",
      "l&apos;un de l&apos;autre qu&apos;on le désire, ",
      "sans que rien puisse gêner le ",
      "mouvement des jambes; assorti- ",
      "ment de mannequins ordinaires ",
      "à des prix très-modérés, St Mar- ",
      "tin, 251/, M. H. 1849.*\n",
      "Giroux (A.) et Cie, vente et lo- ",
      "cation de mannequins remarqua- ",
      "bles par leur bon établissement et ",
      "leur modicité de prix, Coq-St- ",
      "Honore, 3.\n",
      "Hallé, St-Denis, 239.\n",
      "Paillard (J.-M.), successeur de ",
      "J. Panier, mannequins et ma- ",
      "quelles de toutes sortes, Paris ",
      "et façon de Paris,  1844, ",
      "Francs-Bourgeois-Marais, 21.\n",
      "Renaudin, mannequins pour pein- ",
      "tres, Montmartre, 12.\n",
      "Ricois jeune, location de très— ",
      "beaux mannequins neufs, Petits- ",
      "Augustins, 11.\n",
      "Vaissière aîné, inventeur et seul ",
      "fabricant des bustes en osier per- ",
      "fectionnés pour tailleurs et con- ",
      "fectionneurs : il leur montre le ",
      "procédé pour les garnir, Sainte- ",
      "Avoie, 32.\n",
      "Cagin, marbrier, assortiment de ",
      "cheminées et marbres pour meu- ",
      "bles, Faub.—St-Antoine, 21, et ",
      "Roquette, 2, cour du Cheval- ",
      "B\n",
      "Dargaud et Cie, boul. des Filles- ",
      "du Calvaire, 20; carrières à Chas- ",
      "sal, ateliers de sculptures méca- ",
      "niques à Molinges (Jura).\n",
      "Deconchy, O 1834, Faub.-St- ",
      "Martin, 124.\n",
      "Dervillé et Cie, marbres français ",
      "et étrangers, bruts et polis, com- ",
      "mission, dép. de MM. Beaugrand ",
      "et Cie, de Bousigmies (Nord), ",
      "albâ res, pierres de Tonnerre, ",
      "quai Jemmapes, 36 et 38, mai- ",
      "son à Marseille, dépôt à Cette.\n",
      "Dupuis (J.), pierres de liais, petite ",
      "ue St-Pierre-Amelot, 22.\n",
      "Friand (B.), petite rue St-Pierre- ",
      "Popincourt, 18.\n",
      "Henraux (S.), propriétaire de car- ",
      "rières à l&apos;étranger; maisons à ",
      "Carrara (Modène) et à Seravezza ",
      "(Toscane), Tronchet, 9.\n",
      "Lemaire, Saint-Pierre - Popin- ",
      "court, 18, dans le pass. 2.\n",
      "Millardet, marbres français et ",
      "étrangers, commission, Chemin- ",
      "Vert, 9.\n",
      "Thomas, marbres de France, de ",
      "Belgique et d&apos;Italie, petite r. St- ",
      "Pierre-Popincourt, 4.\n",
      "Association du Sablier ; marbriers ",
      "et tailleurs de pierre réunis, ",
      "pour les monuments funèbres ",
      "et publics, ornements de pre- ",
      "mier choix pour la sculpture sur ",
      "pierre et sur marbre, transports ",
      "des corps en province et à l&apos;é- ",
      "tranger , Fontaine—St-Georges, ",
      "46.\n",
      "Admant, Roquette, 167.\n",
      "Amiot jeune, q.Jemmapes, 180.\n",
      "Amiot, Pontoise, 23.\n",
      "Balagny. Urselines, 21.\n",
      "Barall, sculpteur, St-Nicolas-St- ",
      "Antoine, 7.\n",
      "Barbier, Roquette, ",
      "166\n"
     ]
    },
    {
     "name": "stdout",
     "output_type": "stream",
     "text": [
      "Basserie et Cie. Roquette, 188.\n",
      "Benard, Pot-de-Fer-St-Marcel, ",
      "4.\n",
      "Bernard, Enfer, 124\n",
      "Beuvrier, graveur, Roquette ",
      "S\n",
      "Blot frères, Roquette, 184.\n",
      "Boiteux, Francs-Bourgeois -Ma- ",
      "rais, 0.\n",
      "Boiton dit Latonr, sculpteur-mar- ",
      "brier, Roquette, 111.\n",
      "Bolard, Nve-Coquenard, 13 bis.\n",
      "Bordes, Roquette, 163.\n",
      "Boucneau jeune, Amelot, 76.\n",
      "Bouguet, St-Denis, 380.\n",
      "Bourgès, Roquette, 153.\n",
      "Bourrousse fils aîné, fab. de fon- ",
      "taines filtrantes en pierre et en ",
      "marbre, fait la fourniture de ",
      "toutes sortes de pierres taillées, ",
      "tant pour le bâtiment que pour ",
      "travaux hydrauliques ; fait éga- ",
      "lement la marbrerie, tant pour ",
      "meubles et bâtiments que pour ",
      "monuments funèbres. Fait tou— ",
      "tes sortes de carrelages en liais ",
      "et en marbres , mosaïques, dal- ",
      "lages, etc.; fontaines en gros, ",
      "en pierre et en marbre, commis- ",
      "sion en marbrerie, Ste-Avoye, ",
      "59, hôtel St-Aignan.\n",
      "Brasseur, Perle, 4\n",
      "Brasseur, Petite St-Pierre-Popin- ",
      "court, 8, ruelle des Lilas, 10.\n",
      "Bray, Mont-Parnasse, 41.\n",
      "Brizard, sculpteur-marbrier, Ro- ",
      "quette, 170.\n",
      "Brunard, Amelot, ",
      "76.\n",
      "Cabot, Roquette, 172.\n",
      "Cagin, assortiment de cheminées et ",
      "marbres pour meubles, Faub.-St- ",
      "Antome, 21, et Roquette, 2, ",
      "cour du Cheval-Blanc.\n",
      "Catau, Anjou-St-Honoré, 71.\n",
      "Chambroy fils, sculpteur-marbrier, ",
      "Roquette, 157.\n",
      "Chappey, Fontaine-St-Georges, ",
      "40.\n",
      "Chardron - Voisin, Ménilmontant, ",
      "7.\n",
      "Charpentier et Thillier, Mont-Par- ",
      "nasse, 77.\n",
      "Charrin, monuments funéraires, ",
      "Mont-Parnasse, 45.\n",
      "Chaumette, monuments funèbres, ",
      "Roquette, 178.\n",
      "Chauvet, Princesse, 4.\n",
      "Chauvois, Roquette, 163\n",
      "Coquet neveu, Martel, 10.\n",
      "Coune Silvestre, fait la mosaique ",
      "de Florence en relief et les in- ",
      "crustations de différents marbres ",
      "de couleur et pierres fines; res- ",
      "tauration d&apos;objets d&apos;or et de cu- ",
      "riosité, r. du Sabot, 2et 4, don- ",
      "nant ",
      "u Four-St-Giermamn.\n",
      "Crétin, St-Thomas-d&apos;Enfer, 16.\n",
      "Dalby, Roquette, 174.\n",
      "Daviau, Roquette, 196.\n",
      "David ",
      "J.) ainé, Corbeau, 26.\n",
      "Debedé, sculpt., pass. de l&apos;Indus- ",
      "trie, 20.\n",
      "Delaforge, Montparnasse, 75, et ",
      "Delambre, 22.\n",
      "Delaunay, Roquette, 171.\n",
      "Delle, Crebillon, 6.\n",
      "Dereume, petite rue St-Pierre- ",
      "Popincourt, 3, et r. Amelot, 34 ",
      "Z ",
      ").\n",
      "Déthy (B.) ",
      "Grand-Prieuré, 7.\n",
      "Diot, Mont-Parnasse, 67.\n",
      "Dubois-Vital,Petite-Rue-St-Pierre- ",
      "Popincourt, 18.\n",
      "Dubuis, Montparnasse, 20.\n",
      "Dumond ",
      "A.), Roquette, 176.\n",
      "Dumont, et jardinier, Delambre, ",
      "QO.\n",
      "Duport, Marché-aux-Fleurs, 3.\n",
      "Duquenoy, Grange-aux-Belles, ",
      "43.\n",
      "Durand jeune, Charenton, 55.\n",
      "Durand-Sol, Moreau, 57.\n",
      "Duval, monuments funebres ",
      "Mont-Parnasse, 62.\n",
      "Duvivier, Corderie-St-Honoré,7, ",
      "et Madeleine, 11.\n",
      "Egloff, Roquette, 137.\n",
      "Feder, Moscou, 7.\n",
      "Fendt-Adam, Popincourt, 39.\n",
      "Ferey, Roquette, 161.\n",
      "Flamarion, monuments funebres, ",
      "Roquette, 107.\n",
      "Foucher, Roquette, 117.\n",
      "Frison-Durand, St-Nicolas-St-An- ",
      "tolne, 15.\n",
      "Gardien, Faub. -St-Antoine, ",
      "15.\n",
      "Genevois, Jean-Robert, 7.\n",
      "George , Petite-Rue-St-Pierre— ",
      "Popincourt, 18.\n",
      "Georgery (A.), sculpteur, Van- ",
      "neau. 30\n",
      "Ghislain, St-Sebastien, 15.\n",
      "Girard et Cie, Fontaine—St-Geor- ",
      "ge, 29.\n",
      "Godet, Roquette, 149.\n",
      "Gouault, Suresne, ",
      "25.\n",
      "Grandpierre, en pendules, Tourai- ",
      "ne-Marals, 3.\n",
      "Greban, Roquette, 180.\n",
      "Groley, Mont-Parnasse, 74.\n",
      "Guerin fils, entrepreneur de mo- ",
      "numents funèbres, Roquette, ",
      "181.\n",
      "Guillou, Marais-du-Temple, 52.\n",
      "Hairion, St-Pierre-Popinc., 18.\n",
      "Hamelin fils, Roquette, 155.\n",
      "Hardy, Tournelle, 22.\n",
      "Hersent et fils, boulev. des Inva- ",
      "Ides, 15.\n",
      "Hubert, Vieille-du Temple, 110.\n",
      "Jacquet, Mont-Parnasse, 59.\n",
      "Jacquet et Cie, Fontaine-St-Geor- ",
      "ge, 26.\n",
      "Jolly fils, Roquette, 190.\n",
      "Jonniaux, Faub.-Saint-Antoine, ",
      "J5.\n",
      "Jouniaux, Duperré, 13.\n",
      "Jubier, boul. des Amandiers, 47 ",
      "et 48.\n",
      "Jullien-Cyr, Jean-Bart, 8.\n",
      "Kibleur, St-Nicolas-St-Antoine, ",
      "18.\n",
      "Kibleur, ",
      "Fidelité, 22.\n",
      "Lamblin, Roquette, 190.\n",
      "Langlois (R.), Popincourt, 76.\n",
      "Lebegue frères (ancienne maison ",
      "Duriez), entrepreneurs de monu- ",
      "ments funèbres, Roquette, 200 ; ",
      "entreprennent la construction ",
      "des caveaux de famille, la sculp- ",
      "ture et la gravure; ils expédient ",
      "avec garantie pour les départe- ",
      "ments et l&apos;étranger, et se char- ",
      "gent de la fourniture des grilles ",
      "et entourages; caveaux de dépôt ",
      "pour inhumations provisoires.\n",
      "Lebègue (Mile Th.), successeur de ",
      "M. Vallet, entrepreneur de mo- ",
      "numents funebres, boul. Montpar- ",
      "nasse, 64, près le cimetière du ",
      "Sud; monuments en pierre et en ",
      "marbres ; construction de caveaux ",
      "et de chapelles ; sculpture, gra- ",
      "vure d&apos;inscriptions; grilles en ",
      "fer, entourages et croix de bois ; ",
      "entreprend, pour les bâtiments, ",
      "les cheminées en marbre et en ",
      "pierre; fontaines et dessus de ",
      "commodes ;entretien de tombeaux ",
      "et jardins à l&apos;année ; caveau de ",
      "dépôt pour inhumation provisoire ; ",
      "fait des envois dans tous pays.\n",
      "Lebègue, Montparnasse 71\n",
      "Lecomte, monuments funèbres, ",
      "Roquette, 163.\n",
      "Lefeux, Roquette, 188.\n",
      "Lefevre, boul. des Amandiers, ",
      "45.\n",
      "Lefort, cité Laurent-Jussieu, 7.\n",
      "Leroy, entrepreneur de monu- ",
      "ments funèbres, Roquette, 177.&quot;\n",
      "Lesné, Faub.-St-Antoine, ",
      "74.\n",
      "Levasseur, Roquette, 179.\n",
      "Lion, Charenton, 24.\n",
      "LISSO, Chemin-Vert, 14.\n",
      "Loichemolle, marbrerie et sculp- ",
      "ture, cheminées de 8 à 10 fr. et ",
      "au-dessus, differents marbres et ",
      "formes, Petite-rue-St-Pierre-Po- ",
      "pincourt, 2 bis.*)\n",
      "Lourense ainé (Vve), cour de la ",
      "Juiverie, 12.\n",
      "Lyon, Malte, 7\n",
      "Maillochon, marbrier et sculpteur, ",
      "Roquette, 194.*\n",
      "Mancel, Pépinière, 92, et avenue ",
      "Percier, 4.\n",
      "Marchand, Petite-Rue-St-Pierre- ",
      "Popincourt, 3.\n",
      "Marga (Eug.), (ancienne maison ",
      "Marga et fils), sculpteur- mar- ",
      "brier; cheminées, autels, tombes ",
      "de tout style, pour Paris et la pro- ",
      "vince, fait l&apos;exportation, boul. des ",
      "Filles du-Calvaire, 5.\n",
      "Marquet, Roquette, 198.\n",
      "Martin ainé, Angoulême-du-Tem- ",
      "ple, 30.\n",
      "Martin, Faub. St-Antoine, 56.\n",
      "Martin, Vinaigriers, 24.\n",
      "Mathey, marbrier, meubles, Tra- ",
      "versière-St-Antoine, 73.\n",
      "Mattar, St-Denis, 376.\n",
      "Menne, pour pendules, bronzes, ",
      "meubles et bâtiments, le tout à ",
      "juste prix, boul. Beaumarchais, ",
      "79 nouveau, entrée de l&apos;atelier, ",
      "r. des Tournelles, 53.\n",
      "Mercier, Nve-Menilmontant, 8.\n",
      "Mercier, ent pendules, Dupetit— ",
      "Thouars, 14.\n",
      "Mercier, marbrier de l&apos;ancienne ",
      "Liste civile, spécialité du báti- ",
      "ment, monuments et édifices pu- ",
      "blics, fait tout ce qui concerne la ",
      "marbrerie, Chaptal, 15.\n",
      "Merlin, Delambre, 20\n",
      "Mestre, pass. du Désir, 1.\n",
      "Michel, Tournelles, 80, et Saint ",
      "Gilles, 2.\n",
      "Millet aîné, Traversière, 39.\n",
      "ACHARD, ",
      "R. du Temple- ",
      "53.\n",
      "Allehume, ",
      "R.S Jacques: ",
      "1hh.\n",
      "Antoine, R. des Bons-Enfans. ",
      "16.\n",
      "Arganty A du Fb. S. Martin, 11.\n",
      "Aubry ,K. Montmarire, 112.\n",
      "Aubry ",
      "R. S Benoit , 20\n",
      "Aubry , R. de Sèvres, 11q.\n",
      "Avet R SrSeverin, 15.\n",
      "Ayné; K. Aubry Boucher, 12.\n",
      "Ballne, I. de la Gossopnerie, 9.\n",
      "Bailly, Iidu Marché-Palu, 10.\n",
      "Bailly, B. des Lombarids, ",
      "25-\n",
      "Baron, R. S. Denis ",
      " ",
      "1\n",
      "Barré ",
      "R. J. J Honsieau ",
      "3D\n",
      "BaunierpB Pomonnerie slilo.\n",
      "Bertaux, R. des Fossés-Moutm, 31.\n",
      "Bertout, Faub. Montmartre ",
      "TI\n",
      "Hertant. R. Č. Sauveur.\n",
      "N ",
      " ",
      "Hertrand ",
      "1H. S. Martin, ",
      "I\n",
      "Anfray tl Gauthier, R. de la Vieille- ",
      "a ",
      "Monnoie, 18.\n",
      "Anfrie, R. S. Martin, B6.\n",
      "e ",
      "Argant, R.S. Domin, Gros Caillon; ",
      "51.\n",
      "Aubé frères, (droguistes) R. des Lom ",
      "hards, o.\n",
      "Aubin , R. de Grenelle, 37.H. aux Bl.\n",
      "Aubry ; Faub. S. Martin , 133.\n",
      "Anger ",
      "K. des Vicilles Tuilleries, 4.\n",
      "Anger ",
      "Ve)R. Iean-Pain-Mollet ",
      "Z.\n",
      "Auger, R. de In Verrerie, ",
      "☞\n",
      "Bailleux frère et sour, R. Hes Deux- ",
      "r1 ",
      "Parles S. Sauyeur. 1.i\n",
      "Baralte, R dess Petils Pilliers, ",
      "☞.\n",
      "Barbat; (Arog.)R. S. Houore, 232.\n",
      "Baron frères, R. de l&apos;Edhiquier,32.\n",
      "Bataille, R. S.Nichise ; ",
      "36.\n",
      "Baudot,R. Ne des Petits-Champs, 60.\n",
      "Bayllivet, (en gros) R. de la Grands- ",
      "Truanderie saf:tt ",
      "31 ",
      "7\n",
      "Bayvel, R. de la Vérrerie, fo.\n",
      "Baźin, Ki des F.S. Germ. des-Prás , 20.\n",
      "Benunter, R. Thiroun, b.\n",
      "Bellanger, R. de TEcharpe\n",
      "Berlaux, R: St Thomas du Louvre, 4.\n",
      "HertaRK ",
      " H. de Lappe\n",
      "Bernard †.Ri Chabanois,&quot;5.\n",
      "TELe ",
      "RI SPMartin y 15r.\n",
      "Rennit &quot;et Pignard, RiN. Eganterdí.\n",
      "Benoit, R. de Malle, 11. ",
      "A ",
      " ",
      "Tuil.\n",
      "Beltante, R. Faub. S. Antoine. 233.\n",
      "Bellière, R. de In Libertě. 55.\n",
      "Boyen-Bal, R. N. Egalite, 20. �B.N\n",
      "Bouzenot, Faub. Polssonniëra, 18. ",
      "—\n",
      "Boutron, Q. deca Tournelle. 19.\n",
      "Boutemard, R. des. Boucheries, ",
      "B ",
      "23.\n",
      "Bourette, R. de la Madeleine, 31.\n",
      "— ",
      "Bourguignon freres ",
      "A-T-ELDITES, i ",
      "— ",
      " ",
      "R. Notre-Dan ",
      "S\n",
      "e ",
      "Bourgoin, R. du March. S. Mariin,\n",
      "Bourgeois J R. S. Marlin, M4.\n",
      "Bourlon, ",
      "J ",
      " ",
      "an Márche-Neul, 14.\n",
      "Bourdon, R. Helvetius. ",
      "D\n",
      "— ",
      "Böurdon ",
      " ",
      " ",
      "R. S. Antoie,a ",
      "☞\n",
      "Bourdon K. du Hěldér, ",
      "12.\n",
      "n ",
      "Bouly R. Charentou ",
      "—\n",
      "—  ",
      "Boulanger ",
      "☞ ",
      "*. ",
      "R. S.&apos;Honore,5.\n",
      "Bouillery ",
      "1 ",
      "R. Eiquetonne, ",
      "F\n",
      "e ",
      " ",
      "Bougon, R. de la Lingerie .3.\n",
      "Honet, ",
      " ",
      "R. de la-Conourda, 12.\n",
      "Boudet, R. S. Sulpice, ",
      "— — ",
      "—\n"
     ]
    },
    {
     "name": "stdout",
     "output_type": "stream",
     "text": [
      "Bounherant, (marchand de thé ef fonl ",
      "ce qui concerne les dereunema A. ",
      "Vivienne , 7. ",
      "1.\n",
      "Boucher frères, R. (du Faub. Monx ",
      "5. 3 ",
      "martre, 25. ",
      "8\n",
      "Boncher, R. de Ia Harpe ",
      "☞\n",
      "Bordin, R.S. Denis, ",
      "175\n",
      "n ",
      "Bordet, ",
      "n ",
      "R. Pilliers-Potiers-d&apos;Etain. J4\n",
      "Bordeau, R. de Gláry,29\n",
      "Honnin ",
      "R. S. Martin, 153.\n",
      "Bonnegn, R. N. des Petits-Champs, 6o.\n",
      "Bonnard, K. dOrleans,11. H.Ut.H\n",
      "Boix, R. de. H Concorde ; 12.\n",
      "— ",
      "Boisgard, E. Montorguctl, to.\n",
      "Bobin , R. de la Cossonnerie, At.\n",
      "Bobin , R. Montorgapil, 33.\n",
      "Blon ",
      "elu-du-Rosne, R. du P. Carr. 8.\n",
      "Blond, (drog.) R. Ste. Marguerite.3o.\n",
      "Blin ",
      "R.S. Denis, 210.\n",
      "Bisbón, R. S. Fictôr ",
      "66.\n",
      "DIÉSOR ",
      "* ",
      "R. S. André-des-Aris ",
      "* ",
      "— — ",
      "*\n",
      "Leek ",
      "R. du Four, 16. — DHilé.\n",
      "MP ",
      "R. . Germain-l Aunerroj4 12.\n",
      "Detanapí ",
      "fils. K. du Temple, 4r.\n",
      "Bouzevíilé ",
      "K. ",
      "S ",
      "Honore ",
      "8h-\n",
      "Apk ",
      "R. de. Vaugirard, 6r.\n",
      "ek ",
      "R. Chabannais, ",
      "10.\n",
      "PČSSkU ",
      "D1le.) H, des Bourdonnais, 2l-\n",
      "PK ",
      "eard, R. Monffetard, 1.\n",
      "ny ",
      "— ",
      "Noirot (aarnden), R. S. Victor,154\n",
      "Ostat, K. du Bacq ",
      "*38.\n",
      "— ",
      "Rachard,  Birgére, 22\n",
      "Paneto, R.S. Honpre, 179.\n",
      "ascal fils ",
      "R. Ceruti, 8\n",
      "Pascal (carossier), Boulev. Mont- ",
      "martre, 1.\n",
      "— ",
      "Pelletier ",
      "chrör. ",
      ". du Bacq ",
      "2 67\n",
      ". ",
      "Pichard, R. Montmarire, 170.\n",
      "Piet, H. de Provence,5.\n",
      "Prelôt, R. Feydeau, 13.\n",
      "— ",
      "Rafard, R. S. Florentin, ",
      "R\n",
      "Rapiat (harnacheura, place des Vic- ",
      "toires, D.\n",
      "Raps (charron), R. de Verneuil, 46.\n",
      "Quevin (charron), R. des Petites- ",
      "Eurefi IRs\n",
      "Philippot (caros 1, R. de l&apos;Arcade, 26.\n",
      "Perès (car), R.N-Ste, Catherine, 16. ",
      "—\n",
      "Paspal père (cares.) R. Guénegaud, 31.\n",
      "Neuhansel [hernacheur) ; R. du ",
      "r 12 ",
      "BeHuVIN\n",
      "Mugnerot (caros.).R. de lUniver- ",
      "F ",
      "silé 72; ",
      "— ",
      "va-\n",
      "onmar (efis.) ",
      "FR. de Turenve, 79.\n",
      "Vosgien (carossier), R. Neuve des ",
      "Capucines, G.\n",
      "Vidal (charronY K, du Baco ",
      "33.\n",
      "— ",
      "Termot ",
      "— ",
      "Čaros. J. R. Joubert, 32,\n",
      "Rourlan ( caras. F. R. Bérgére. ",
      "Te\n",
      "Touchard, R. Richer, 25.\n",
      "Tauzin [caros.), R. de Grenelle, 4s. ",
      "— Páhtatne de trenetle\n",
      "Tardif, R. d&apos;Anjou, 4 — Roule.\n",
      "Simon ; R. N. des Mathurins, 13.\n",
      "Simon ainé 1 carps.) ,Rdu Bace ",
      "1O3\n",
      "Scheek (caros. ",
      "&quot;R. du Hélder, 14.\n",
      "Ronsin. (Mre.) R. de Chpisaul, 5.\n",
      "Roduwart, R. du Helder,12.\n",
      "Robert, R. Bergère, 19.\n",
      "Richer, R. Gaillon, 1r.\n",
      "Richard ",
      "(hamuch.), R. Feydean, 6.\n",
      "Reis, Pl. du Corps législatif, 101.\n",
      "— ",
      "Havenot, R. du Sépulcre, 27.\n",
      "Ravencan, beulx, da Dépôt, 23\n",
      "Ledomie (en botta))R. S. Denin 356.\n",
      "Lehel, Gstraduveaat) R. Wiiene, ",
      "☞\n",
      "VuRTNRupH, M deS:HIDNUS ",
      "D\n",
      "17 ",
      "Hpnariug Etaees a aparanue ",
      " du Trih ",
      "a de pierresprlop. ",
      "r ",
      "Fu ",
      "Par ",
      "--\n",
      "R H.  ",
      "Horang cadel ",
      "25. ",
      "Ghenet ",
      " ",
      " ",
      "du GFos- ",
      "E ",
      "&quot;\n",
      "TuyoL et CumT.  ",
      "☞ ",
      "-&quot; ",
      "R,de la Monnou ",
      "B ",
      " Et tQes ",
      "  T 5\n",
      "TOS ",
      " ",
      "☞OOLGJ†DOE ",
      "1* ",
      "Penis g.o\n",
      "Hermon-Bonmard ocomp. Gétoffes) ",
      "R. S: Denis ,15. ",
      "☞\n",
      "r ",
      "Fumevfctofresl, b. des BOUTUOITGIS, S.\n",
      "FiRion (H, ",
      "pla ce des ",
      " compl ",
      "Victoires ",
      " ",
      "gétoff es\n",
      "Dumont ,R des Fosseg S. Germain- ",
      "— ",
      "Ij ",
      "k ",
      "Auxerroi, I\n",
      "☞2 ",
      "Duhamel, Bnufousa et comp. Rue S. ",
      " ",
      "Dentiš ráh ",
      "=\n",
      "DeHIAIJUHHedve(RN DEHTe ",
      "LEF\n",
      "—17 ",
      "Delasalle, jeune, ",
      "Lhumpg, FF. ",
      "K. ",
      " ",
      "E. des: Petis\n",
      "David ( J. B. L. ), R. r. des Petits ",
      "Champs4\n",
      "Chenavard ( manuf d&apos;élof nouo. ",
      "1 ",
      "lii de ThorIgI1 ",
      "E ",
      ")7\n",
      "— ",
      "Cheldeville et comp. R. S. Denis, 188.\n",
      "Chauvin, R. Thibauthode.If.\n",
      "Harlet lls (nouuleh modes.)R. des ",
      "Gosses Monitmatare;: ",
      "A\n",
      "Charbant, R.S.:Honeré4 129.\n",
      "Chambert (raa) (en sros ",
      " ",
      "venot, 24. ",
      "R. Thé-\n",
      "T ",
      " ",
      "Chabanel ( L.); R. Bertin- Poiree, ",
      "T\n",
      "Cartier fils (etoffes pour membtes ef ",
      " ",
      " ",
      "Hijde ln Lbi, 89. ",
      "E\n",
      "apentier el Flenry (étoffes), R. S. ",
      "i- ",
      "1 ",
      "EDeuis 3231.3111..&apos; r2.\n",
      "— ",
      "Boyer el. Alary frères (en botte), R. ",
      "*2 ",
      "N.StMeryr 4L. . M . ",
      "2. ",
      "— ",
      "— ",
      "T\n",
      "Bondon (de bas de soie 1,B? degla ",
      "T ",
      "Můnn.IIL:i1ul ",
      " PW1h\n",
      "DoREaud FECOMP. ",
      "R.S, Honorel, 334\n",
      "Bouna (en baited) Ma SiDenis, An\n",
      "LDÉnudet ",
      "&quot;R. Phcvenot, 5.\n",
      "Bizet ( d&apos;etoffas y. R. du Pet Fonl, 26.\n",
      "Bessan ",
      "an botte ",
      "R. S. Deniša 229.\n",
      "5 ",
      "Beruard&apos;, Hlllle-l&apos;Arbre sec : 5.\n",
      "HeTÉeř ",
      "T Alen.1i HBoncher4\n",
      "W ",
      " ",
      "E ",
      " ",
      "TV1 ",
      "DEen , L DHtave ",
      "114\n",
      "Davleci HlsiirH,IL. aeTroura restai\n",
      "DRTIELY ",
      "ÉH DOEIENEAH.S. DeN ",
      " ",
      "1E\n",
      "Barbier ( �étoſſes ",
      "1HonnOiS&apos;, 2. ",
      "R. des: Beur- ",
      "L ",
      "T1M\n",
      "Anbinean et Pluchart [&apos;etuon venites.], ",
      "—1L ",
      "passagë des Fetits Peres, ",
      "—\n",
      "ET ",
      "H.SEnt ",
      "IFF ",
      "Pif\n",
      "HAMAGI et domp. F,3..Deni 150.\n",
      "Arnoult, fabr. de moules de boutons, r. de ",
      "la Chanverrerie, 8.\n",
      "Bayard, r. du Roule, 21.\n",
      "Berchet, r. du Temple, 71.\n",
      "Bouchet, fabr., r. du Cimetière-Saint- ",
      "Nicolas, 5.\n",
      "Chardin et comp., fabr. de boutons de ",
      "métal artimomantico, par brevet din- ",
      "vention, à Vaugirard.\n",
      "Chevalier, ſabr. de boutons de soie, rue ",
      "S.-Denis, 41.\n",
      "Inge, ",
      "fabr., r. Pastourelle, 18.\n",
      "Josse (Ch.) et Fr. Duquesne ainé, fabr. ",
      "el quincailliers,r. Neuve-S.-Merry, 44.\n",
      "Joubert, passage de la Marmite. 1.\n",
      "Lalonël-Puissan, ",
      "L.) r. Quincampeix, 33.\n",
      "Lambriquet, (Aug.) fabric., rue de la ",
      "Grande-Truanderie, 52.\n",
      "Maillard, boutons plaqués et autres ",
      "modes, r. S.-Martin, 222. ",
      "de\n",
      "Mionnet, ſabr. de S. M. Impériale cl ",
      "Royale, r. Neuve-S.-Martin, 5.\n",
      "Molière, fabric., et paillons or el argent, ",
      "r. de la Monnaie, 19.\n",
      "Christofle, (Isidor) fabr. de boutons de ",
      "fantaisie, r. du Temple, 22.\n",
      "Coquart, fabr., r. Barre-du-Bec, 17.\n",
      "Dallof, r. du Chevalier-du-Guet, 1.\n",
      "Damin, quai de la Monnaie, 25.\n",
      "Delaporte frères, march. et ſabric. en ",
      "tous genres, rue des Deux-Portes-S.- ",
      "Sauveur, 18.\n",
      "Mousset, fabr., r. du Vert-bois, 8.\n",
      "Pépin, (Mad.) r. Marceau, 24.\n",
      "Pilgrain, r. S.-Honoré, 25.\n",
      "Poncelet, fabr., rue S.-Martin, 183, ct ",
      "rue du Grand-Hurleur, 3.\n",
      "Pothier, (Alex.-Mathias) fabr, boutons ",
      "duniforme, r. S.-Martin, 104, passage ",
      "de la Réunion, 10.\n",
      "Demonjay, et frangier, r. S.-Honoré, 34.\n",
      "Desmanches, fabr., cul-de-sac Basfour.\n",
      "Desvertus, passage de la Marmite.\n",
      "Dillais, r. S.-Honoré, 114.\n",
      "Dubray, fabr., r. Verderel, 3.\n",
      "Dubuisson, ",
      "(Mad.) r. S.-Severin, 30.\n",
      "Duhamel, r. S.-Honoré, 50.\n",
      "Feuillet, ſabric. de boutons d&apos;uniforme ",
      "en lous genres, r. des Pet.-Champs, 2.\n",
      "Gravelin, r. Tirecharpe, 8.\n",
      "Héricée, (J.-L.) fabric. pour la troupe; ",
      "boutons en étain fondu massiſs, à nu- ",
      "méros et à légendes, r. Bourg-l&apos;Abbé, 52.\n",
      "Hesse, fabr. de boutons plaqués or et ",
      "argent, r. Michel-le-Comte, 14.\n",
      "Houdier, r. S.-Denis, 398.\n",
      "Raffard, r. de la Ferronnerie. 12\n",
      "Renand-Delset, (Mad.) fabr., rue de la ",
      "Monnaie, 12.\n",
      "Reynaud, r. S.-Honoré, 167.\n",
      "Reynaud, r. Richelieu. 9.\n",
      "Rose, fabr., r. Greneta, 13.\n",
      "Roussel, fabr., r. Frépillon, 5.\n",
      "Rousselle, fabr., r. Chapon, 14.\n",
      "Roussilhe, ſabr., r. des Gravilliers. 25.\n",
      "Saner, (Guil.) fabr. pour les militutres ",
      "de loutes armes, r. S.-Laurent, 30.\n",
      "Schey, breveté dinvention, r. des Petites- ",
      "Ecuries, 5.\n",
      "Schmit, fabr., r. des Petits-Champs. 4.\n",
      "Sornet, (Gab.) r. de la Ferronnerie, 6 bis.\n",
      "Tardu, ſabr., rue Sainl-Denis, 124; cour ",
      "Batave, 3.\n",
      "Trouillion, fabr., r. Chapon, 12.\n",
      "Aznet, r. de Loursine, 6.\n",
      "Beaugrand, r. de Reuilly, 12.\n",
      "Bouillerot S.-Ange, r. de Loursine, 10.\n",
      "Boutté, r. Mouffetard, 88.\n",
      "Carpentier, r. du Harlay, 7. (Marais.)\n",
      "Chevalier, r. Mouffetard, 104.\n",
      "Debruge, rue S.-Dominique, 71. (Gros- ",
      "Caillou.)\n",
      "Devillepoix, r. du Faub.-S.-Antoine, 212.\n",
      "Dulamée, fabric. de bière anglaise et ",
      "d&apos;esprit-de-vin, r. Rochechouart, 44.\n",
      "François, r. Mouffetard, 116.\n",
      "Gibé, r. du Faub.-S.-Antoine, 295.\n",
      "Giell, r. de la Corderie, 13. (Marais.)\n",
      "Christofle, (Ve.) fabr., r. S.-Denis, 173.\n",
      "— ",
      "Christofle, (André) fabr. de boutons pla- ",
      "qués d&apos;or et d&apos;argent, rue des Enfans- ",
      "Rouges, 7.\n",
      "Colinet, fabr., S.-Martin, 68.\n",
      "Bouillery, r. du Puits-l&apos;Ermite, 14.\n",
      "Demarseille, r. du Faub.-S.-Denis, 114.\n",
      "Denis, r. de Loursine, 46.\n",
      "Vaillant, fabr., r. Aubry-le-Boucher, 43.\n",
      "Vallée, rue Saint-Denis, 374.\n",
      "Barbe-Derveaux, fabricant de brosses et ",
      "pinceaux à lusage des peintres, etc., ",
      "rue Beaubourg, 44.\n",
      "Huet, rue de la Vieille-Bouclerie, 23.\n",
      "Jiou, rue de la Barillerie, 8.\n",
      "Lamarée, rue Saint-Deuis, 292.\n",
      "Lecoiffier-Wallez,etcordier, r. du Bac, 37.\n",
      "Lejean, rue de Thionville, 36.\n",
      "Saunier, fabr. de brosses de Lyon et pin- ",
      "ceaux pour les miniatures, rue Saint- ",
      "Benoît, 12, faubourg Saint-Germain.\n",
      "Laurent, et tablet., Pal.-Royal, galerie de ",
      "pierre, 50.\n",
      "Gobert, fabr. et ciseleur, rue des Gravil- ",
      "liers, 28.\n",
      "Gouvet, doreur, rue de Sèvres, ",
      "3.\n",
      "Herouard, et doreur, rue aux Ours, 28.\n",
      "Kmoysan, fabr., fait lustres, girandoles ",
      "hollandaises, bras de cheminée et de ",
      "quinquet, rue Saint-Martin, 172.\n",
      "Pienot, dorures, pendules, etc., rue des ",
      "Fossés-Montmartre, 10.\n",
      "Pillioud, et pendules, rue N.-des-Petits- ",
      "Champs, 14.\n",
      "Quennessen, et dorures, r. Napoléon, 11.\n",
      "Ravrio et comp., fabr. de bronzes et cu- ",
      "riosités, r. Richelieu, 93; la fabrique ",
      "rue Montmartre, 161.\n",
      "Laguesse et Jamme, success. de L.-B. La- ",
      "guesse et fils, fab de bronzes et horlo- ",
      "gerie, rue Chapon, 23.\n"
     ]
    },
    {
     "name": "stdout",
     "output_type": "stream",
     "text": [
      "Lange, rue Sainte-Avoie, 19.\n",
      "Lebel, fabric. de flambeaux et éperons ",
      "d&apos;or et d&apos;argent, rue Bourg-l&apos;Abbé, 32.\n",
      "Ledure, ſabr. de bronzes et pendules, rue ",
      "Neuve des-Petits-Champs, au coin de ",
      "celle Chabanais.\n",
      "Lemaire, ſabr. de pendules, candelabres, ",
      "corbeilles et vases, rue Turenne, 53.\n",
      "Lemire, rue de la Vieille-Monnaie, 17.\n",
      "Reiche, et dorures pour les boîtes de pen- ",
      "dules, r. Notre-Dame-de-Nazareth, 19.\n",
      "Rigault, fabr., r. du Fanb.-du-Temple,46.\n",
      "Romain, fabr. pour pendules et girand., ",
      "r. des Douze-Portes, 3.\n",
      "Savart, ſabr. de bronzes, tient en pendules ",
      "assortiment de jolis modèles, r. Phe- ",
      "lippeaux, 11.\n",
      "Simon, (Isaac) et fabr. de pendules, rue ",
      "Neuve-Saint-Merry, 81.\n",
      "Sornet, (Laurent) fabric. de bronzes, rue ",
      "de la Ferronnerie, 6.\n",
      "Soyez, fabr., lient magasin de dorures ",
      "et lustres. r. N.-des-Pet.-Champs, 89.\n",
      "Lepage et comp., dorures et articles d&apos;a- ",
      "meublement, rue Meslay, 58.\n",
      "Thomire, Duterme et comp., fabric. de ",
      "bronzes dorés, r. Boucherai, 7.\n",
      "Tremet, ſabr. r. S.-Denis, 349.\n",
      "Barré, rue Saint-Denis , 238.\n",
      "Beuvart, rue Saint-Denis, 66.\n",
      "Boucher, rue Saint-Denis, 267.\n",
      "Boucherat, rue Saint-Denis, 234\n",
      "Chabot, rue Saint-Denis, 190.\n",
      "Chateau, rue Saint-Denis , 334.\n",
      "Cherion, ſabric. de pinceaux, fournit ",
      "�&apos;Ecole impériale poly technique, les ",
      "différentes administrations et bureaux ",
      "de S. M. l&apos;Empereur et Roi, quai de ",
      "l&apos;Horloge-du-Palais, 61.\n",
      "Delarue et Barbier, et naltiers , tiennent ",
      "fabrique de jonc et sparterie, passage ",
      "du Saumon, 30.\n",
      "Lefèvre, rue Saint-Denis, 94.\n",
      "Lefèvre, (L.-J.) fabr. pour le château des ",
      "Tuileries, rue de la Barillerie, 31.\n",
      "Raimond ",
      ", rue de la Mortellerie, 81.\n",
      "Ramossin, rue Saint-Martin, 210.\n",
      "Fontana, (Fr.) fabric. de brosses et pin- ",
      "ceaux pour peindre, rue Neuve-Saint- ",
      "Denis, 13.\n",
      "Tribout, ",
      "(Ve.)r. du Faub.-S.-Honoré, 68.\n",
      "Henry, r. S.-Martin, 206.\n",
      "Henry, Palais-Royal, gal. de pierre, 24.\n",
      "Houelle, r. au Maire, 51.\n",
      "Jutard, r. Bourg-l&apos;Abbé, 34.\n",
      "Maillet aîné, r. Jean-Robert, 17.\n",
      "Lesage, et dorures, bouley. des Italiens, 2.\n",
      "Olivier, (Mad.) pass. des Panoramas, 62.\n",
      "Perrotin, r. S.-Denis, 124 , cour Batave.\n",
      "Pollet, ",
      "(Ve.) rue Saint-Deuis, 304.\n",
      "Aubert, (Mad.) pourtour du théâtre Franç.\n",
      "Bidault, r. S.-Martin, 245.\n",
      "Cailly, ctarmes, P.-Royal,gal. de pierre,7.\n",
      "Casca, r. S..Martin, 260.\n",
      "Dumuis, Palais-Royal. gal. de pierre, 118.\n",
      "Gournet, Palais-Roy., gal. de pierre, 155.\n",
      "Guillereau, ",
      "(Ve.) r. S.-Martin, 95.\n",
      "Bertrand, (Le comte) rue Duphot, I1.\n",
      "Bertrand-Barrère, r. Lepelletier, 6.\n",
      "Bertrand, rue des Jeüneurs, 5.&quot;\n",
      "Bervic, membre de l&apos;Institut, r. de Gre- ",
      "nelle-S.-Honoré, 47.\n",
      "Besnard, r. J.-J.-Rousseau, 5.\n",
      "Besson, membre du Corps-Législatif, rue ",
      "Notre-Dame-des-Victoires, 22.\n",
      "Besson, r. Helvétius, 23.\n",
      "Besson, quai de l&apos;Ecole, 22.\n",
      "Bethnon, r. du Jour, 19.\n",
      "Béthune, ",
      "De ",
      "r. de Lille, 30.\n",
      "Béthune, ",
      "(Ve. de) r. S.-Guillaume, 20.\n",
      "Beugnot, (Le comte) conseiller d&apos;Etat, ",
      "r. Grange-Batelière, 8.\n",
      "Beurnouville, (Le comte) sénateur, r. du ",
      "Faub.-S.-Honoré, 51.\n",
      "Beuvron, (Mad. de) r. de Grenelle - Saint- ",
      "Germain, 81.\n",
      "Bodiment, ",
      "Gabriel) r. du Port-Mahon, 12.\n",
      "Bocquet, (L.) r. du Faub.-Poissonnière, 3.\n",
      "Boignes, (De) r. Neuve-des-Mathurins, 22.\n",
      "Boirot, membre du Corps-Législatif, rue ",
      "Saint-Thomas-du-Louvre, 15.\n",
      "Boisard, pasteur du culte luthérien, rue ",
      "des Billettes, 16.\n",
      "Boisconteau. (De) r. de l&apos;Arbre-Sec, 33.\n",
      "Boisgelin, (Mad. de) r. de Grenelle-Saint- ",
      "Germain, 53.\n",
      "Boisleger, r. Cléry, 70.\n",
      "Boissière, (La comtesse de la) rue de Ver- ",
      "neuil, 29.\n",
      "Boissy-Danglas, (Le comte) sénateur, rue ",
      "Choiseul, 13.\n",
      "Bonjour, rue et passage des Petits-Pères, 5.\n",
      "Bonnard, place des Victoires, 2.\n",
      "Bonne, r. de l&apos;Odéon, 28.\n",
      "Bezenval, (Le baron de) rue du Mont- ",
      "Blanc, 21.\n",
      "Béziade-Davaray, rue de Grenelle-Saint- ",
      "Germain, 85.\n",
      "Biancourt, (De ) r. Joubert, 39.\n",
      "Biancourt, r. S.-Georges, 1.\n",
      "Biaudos de Carteja, auditeur, rue de ",
      "Lille, 43.\n",
      "Bianzat, cour Harlay, 21.\n",
      "Bidault, r. de Ménilmontant, 20.\n",
      "Biers fils, r. S.-Honoré, 334.\n",
      "Bignan, r. Helvélius, 18.\n",
      "Bigotini, (Dlle.) r. Choiseul, 9.\n",
      "Billand, r. du Faub.-Montmartre, 11.\n",
      "Billette, r. S.-Honoré, 392.\n",
      "Bioche, r. S.-André-des-Arts, 63.\n",
      "Biot, membre de l&apos;Institul, pl. Cambray, 1.\n",
      "Birouste, r. Basse-du-Rempart, 28.\n",
      "Bizet, r. du Faub.-S.-Denis, 46.\n",
      "Blacque, r. Cloche-Perche, 10.\n",
      "Blancard, (Le baron de) quai Malaquais, 15.\n",
      "Blanchard, r. de la Michodière, 6.\n",
      "Blanc-Ménil, (Mad. de) rue du Mont- ",
      "Blanc, 45.\n",
      "Blanquart (Le chevalier) de Bailleul, ",
      "membre du Corps-Législatif, quai Ma- ",
      "laquai, 15.\n",
      "Bonnejean, auditeur au Conseil-d&apos;Etat, ",
      "r. Neuve-Luxembourg, 11.\n",
      "Bonnet, r. Richelieu, 87.\n",
      "Bontems, ",
      "(Mad.) r. Hauteville, 37.\n",
      "Bontems, (Mad.) place du Pal.-Royal, 241.\n",
      "Boquestant, (Le baron de) r. Neuve-des- ",
      "Petits-Champs, 89.\n",
      "Bordeaux, ",
      "(Mad.) quai de l&apos;Ecole, 28.\n",
      "Borghèse, (S. A. S. le prince) gouverneur ",
      "général des départemens au-delà des ",
      "Alpes, r. du Faub.-S.-Honoré, 39.\n",
      "Bosc, membre de l&apos;Institut, rue des Ma- ",
      "cons-Sorbonne, 15.\n",
      "Boscary, (Ve.) r. Blanche, 5.\n",
      "Boselly, rue Neuve - de - Berry, faub. ",
      "Saint-Honoré, 2.\n",
      "Bossu, curé de Saint-Eustache, r. Mont- ",
      "martre, 1.\n",
      "Bossut, membre de l&apos;Institut, rue des ",
      "Saints-Pères, 48.\n",
      "Botta, membre du Corps-Législatif, rue ",
      "de Bourgogne, 28.\n",
      "Boncherville, (Ve.) r. de Sèvres, aux ",
      "Dames-Saint-Thomas.\n",
      "Bouchet, ",
      "(Pierre) rue Boudreau, 1.\n",
      "Blavette père, r. Barbette, 6.\n",
      "Blazuel, r. du Puits, 8, au Marais.\n",
      "Bligny, r. des Bons-Enfans, 23.\n",
      "Blin, quai de l&apos;Ecole, 26.\n",
      "Blin de S.-Maur, r. Napoléon, 8.\n",
      "Blond, r. des Fos.-S.-Germ.-l&apos;Auxerrois, 8.\n",
      "Blondeau, r. J.-J.-Rousseau, 12.\n",
      "Blondel, r. S.-Florentin, 7.\n",
      "Bobierre, r. Taitbout, 19.\n",
      "Bochard de Champigny père et fils, rue ",
      "du Canivet, 2.\n",
      "Bockairy, r. Croix-des-Petits-Champs, 23.\n",
      "Bouchet, (Le chevalier) membre du Corps- ",
      "Législatif, r. N.-des-Mathurins, 23.\n",
      "Boudoux, r. Richelieu, 68.\n",
      "Boufflers, (De) rue du Faubourg-Saint- ",
      "Honoré, 114.\n",
      "Boufflers, (Mad. de) r. du Faubourg-Pois- ",
      "sonnière, 1.\n",
      "Bouguainville, (Veuve Baraudin de) rue ",
      "Neuve-Luxembourg, 3.\n",
      "Bouillac, r. d&apos;Amboise, 9\n",
      "Bouilly, r. d&apos;Antin, 10.\n",
      "Bouisson, r. Neuve-Luxembourg. ",
      "20.\n",
      "Bouchon, r. Favart, 4.\n",
      "Terroir, rue Mouffetard, 507.\n",
      "Tessé (de), rne d&apos;Anjou-St.-Honoré, 24.\n",
      "Tessier, membre de l&apos;institut, rue des ",
      "Petits-Augustins, 26.\n",
      "Texier, rue Saint-Lazare , 80.\n",
      "Tiberghien, rue Vivienne, ",
      "17.\n",
      "Tiefry, rue du Faub.-Poissonnière, 35.\n",
      "Tilly (le général comte de) , rue Caumar- ",
      "tin, 23.\n",
      "Tingry (Mad. de) , rue Varenues, 14.\n",
      "Tiron l&apos;ainé, passage des Petits-Pères, ",
      "9.\n",
      "Tiron (Prosper), passage des Petits- ",
      "Pères, 9.\n",
      "Tisserand, rue de Seine, faub. Saint- ",
      "Germoin, 16.\n",
      "Tissot de Morena , rue de Vaugirard, 34.\n",
      "Titon, rue Meslay , 26.\n",
      "Thalouet, rue Joubert, 20.\n",
      "Thayer, rue Saint-Marc , 10.\n",
      "Thébaux, (D.lle) Thébaux , rue Va- ",
      "rennes, 6.\n",
      "Thelusson (de), rue des Mathurins, 15.\n",
      "Thélusson, r. Paradis-Poissonnière, 21.\n",
      "Thevenard (le comte de) , sénateur, rue ",
      "Duphot, 8.\n",
      "Thevenin (V.&quot;), rue de Lille, 21.\n",
      "Thevenin fils, rue de Lille , 21.\n",
      "Thiboust, rue du Faub.-St.-Honoré , 19.\n",
      "Thiébaut, rue des Trois-Frères, 13.\n",
      "Thierry , rue de Grenelle-Saint-Ger- ",
      "main, 27.\n",
      "Thierry, rue de Sèvre, 93.\n",
      "Thierry, rue Sainte-Apolline, 15.\n",
      "Thierry Grandval, rue de Provence , 12.\n",
      "Thierry Manregard , rue Saint-Georges, 1.\n",
      "Thierriet fils, rue de la Monnaie, 10.\n",
      "Thillay , professeur et conservateur du ",
      "cabinet de lécole de médecine, rue de ",
      "l&apos;Ecole de Médecine, 12.\n",
      "Thiriet, rue Christine , 9.\n",
      "Tholozé, quai Pelletier, 8.\n",
      "Thomas, membre du corps législatif ",
      "rue Neuve-Saint-Roch, 5.\n",
      "Thomé (V.e ), rue des Francs-Bourgeois, ",
      "16, au Marais.\n",
      "Thouin (le chevalier), membre de lin- ",
      "stitut .rue de Seine-St.-Victor, 55.\n",
      "Thonret (V.&quot;), r. St.-André-des-Arts, 66.\n",
      "Thourou de Bertinval, auditeur au ",
      "conseil d&apos;état, rue Chabannais, 4.\n",
      "Thuisy (de) , rue du Bac , 77\n",
      "Thulis , boulevart Poissonnière, 14.\n",
      "Thuret, rue de Carliglione , 9.\n",
      "Tobler, rue Favart, 6.\n",
      "Tochon , rue Caumartin, 25.\n",
      "Tolozan, rue Saint-Dominique, 23.\n",
      "Tompson, rue Madame, 5.\n",
      "Tonnelière, rue Neuve-des-Mathurins, 1.\n",
      "Torras, rue du Mont-Blanc , 28.\n",
      "Torry, rne Neuve-des-Capucines, 15.\n",
      "Toulongeon (le chevalier de), membre du ",
      "corps législatif, rne Miromesnil, 2.\n",
      "Toulongeon (le chevalier), membre de l&apos;in- ",
      "stitut, rue de Chaillot, 74.\n",
      "Tourasse Maupas, rue des Lions-Saint- ",
      "Paul, 14.\n",
      "Tourué, rue d&apos;Argenteuil, 8.\n",
      "Tourolle, rue Richelieu, 95.\n"
     ]
    },
    {
     "name": "stdout",
     "output_type": "stream",
     "text": [
      "Tourzel , rue de Lille , 84.\n",
      "Tousselot, Marche des Jacobins.\n",
      "Toutau, rue Richer ",
      "&quot; ",
      "22.\n",
      "Touzard (le général de), rue de Bour- ",
      "gogne, 36.\n",
      "Travault, rue de la Michodiére, ",
      "Z.\n",
      "Travenet (Mad. de), rue du Faub.-Saint- ",
      "Honoré ",
      "&quot;5.\n",
      "Tremauville , rue de Grenelle-Faub.-St.- ",
      "Germain, 45.\n",
      "Tremignon, rue de la Concorde, 4.\n",
      "Tremouille (de la) , rue de Lille, 92.\n",
      "Treneuil (de), bibliothécaire de la biblio- ",
      "théque de l&apos;arsenal, rue Sully.\n",
      "Tressan (Mad. de), boulevart des Ita- ",
      "liens, 20.\n",
      "Trévise (S. E. le maréchal duc de) , rue ",
      "de Lille , 88.\n",
      "Trimolet (Mad.), rue Richelien, 96.\n",
      "Trion de Montalembert (le comte), membre ",
      "du corps législatif. rue de la Chaise, 1.\n",
      "Trollier Fétan, rue Poultière, 14.\n",
      "Truguet (M. le vice-amiral), rue Verte, 20.\n",
      "Tuffet Saint-Martin, rue Jacob, 20.\n",
      "Turenne (de), rue Chauchat, 1.\n",
      "Turenne (Mad. de), rue Menars, 2.\n",
      "Turet, quai de l&apos;Ecole, 16.\n",
      "Turgot , rue Saint-Lazare, 58.\n",
      "Turpin, de Crissé (le baron), rue du ",
      "Faub.-Montmartre , 51.\n",
      "Turreau (le général baron), rue de ",
      "Masseran, 3.\n",
      "Tustal (le comte de), sénateur, rue de ",
      "l&apos;Université, 96.\n",
      "Valayer, curé de Soint-Germain-l&apos;Au- ",
      "verrois , rue de l&apos;Arbre-Sec , 22.\n",
      "Valence (le comte de), sénateur, rue de ",
      "a Madeleine. 35.\n",
      "Valzutin , rue St.-Honoré , 319.\n",
      "Valette, rue Napoléon , 21.\n",
      "Valié Desnoyers, rue Cloche-Perche, 14.\n",
      "Valletean de Chabrefy , rue Geoffroy- ",
      "Lasuier, 26.\n",
      "Valleville, rue Serv ndoni, 17.\n",
      "Valmont Montpassant (V.e), rue d&apos;Anjou, ",
      "13, au Marais.\n",
      "Valmy (S. E. le maréchal duc de), rue ",
      "St.-Dominique-Saint-Germain, 54.\n",
      "Van-Berchem, rue Bergère, 14.\n",
      "Vandamme, comte d&apos;Unsebourg, rue du ",
      "Mont-Blanc , 2.\n",
      "Toniges, rue Napoléon, 10.\n",
      "Torcy (de) , rue de Bourgogne, 34.\n",
      "Torras, ruę Budaux, 11.\n"
     ]
    }
   ],
   "source": [
    "from xmlize_util import get_NER_tags\n",
    "if FORMAT == \"IOB2\":\n",
    "    from camembert_utils.util_IOB2 import word_tokens_from_nested_xml_iob2\n",
    "else:\n",
    "    from camembert_utils.util_IO import word_tokens_from_nested_xml\n",
    "from xmlize_util import get_NER_tags, xmlize_multilevel\n",
    "\n",
    "stats = []\n",
    "k = 0 \n",
    "errors_count = 0\n",
    "errors = []\n",
    "for i in range(len(lines)):\n",
    "    print(lines[i])\n",
    "    res = nlp(lines[i])\n",
    "    preds_tokens, preds_tags = [],[]\n",
    "\n",
    "    for e in res:\n",
    "        preds_tokens.append(e[\"word\"])\n",
    "        preds_tags.append(e['entity'])\n",
    "    levels, num_levels = get_NER_tags(lines[i],res,FORMAT)\n",
    "    xml = xmlize_multilevel(levels,num_levels)\n",
    "\n",
    "    try:\n",
    "        assert len(test[i][\"tokens\"]) == len(preds_tokens)\n",
    "        assert len(test[i][\"ner_tags\"]) == len(preds_tags)\n",
    "        stats.append([k,lines[i],xml,test[i][\"tokens\"],test[i][\"ner_tags\"],preds_tokens,preds_tags])\n",
    "    except:\n",
    "        errors_count += 1\n",
    "        print(test[i][\"tokens\"])\n",
    "        print(preds_tokens)\n",
    "        print(\"NUM \" + str(k))\n",
    "        print(lines[i][:-1])\n",
    "    k += 1\n",
    "    \n",
    "#print(errors_count)"
   ]
  },
  {
   "cell_type": "code",
   "execution_count": 51,
   "id": "c208451f",
   "metadata": {},
   "outputs": [
    {
     "data": {
      "text/plain": [
       "1685"
      ]
     },
     "execution_count": 51,
     "metadata": {},
     "output_type": "execute_result"
    }
   ],
   "source": [
    "len(stats)"
   ]
  },
  {
   "cell_type": "code",
   "execution_count": 52,
   "id": "3cd552df",
   "metadata": {},
   "outputs": [
    {
     "data": {
      "text/html": [
       "<div>\n",
       "<style scoped>\n",
       "    .dataframe tbody tr th:only-of-type {\n",
       "        vertical-align: middle;\n",
       "    }\n",
       "\n",
       "    .dataframe tbody tr th {\n",
       "        vertical-align: top;\n",
       "    }\n",
       "\n",
       "    .dataframe thead th {\n",
       "        text-align: right;\n",
       "    }\n",
       "</style>\n",
       "<table border=\"1\" class=\"dataframe\">\n",
       "  <thead>\n",
       "    <tr style=\"text-align: right;\">\n",
       "      <th></th>\n",
       "      <th>index</th>\n",
       "      <th>entry</th>\n",
       "      <th>entry_xml</th>\n",
       "      <th>spans_gold</th>\n",
       "      <th>tags_gold</th>\n",
       "      <th>spans_preds</th>\n",
       "      <th>tags_preds</th>\n",
       "    </tr>\n",
       "  </thead>\n",
       "  <tbody>\n",
       "    <tr>\n",
       "      <th>0</th>\n",
       "      <td>0</td>\n",
       "      <td>Aubertin, professeur au lycée Louis-le-Grand, ",
       "...</td>\n",
       "      <td>&lt;PER&gt;Aubertin&lt;/PER&gt;&lt;DESC&gt;&lt;ACT&gt;, professeur&lt;/AC...</td>\n",
       "      <td>[▁Au, bert, in, ,, ▁professeur, ▁au, ▁lycée, ▁...</td>\n",
       "      <td>[I-PER+O, I-PER+O, I-PER+O, O+O, I-DESC+i_ACT,...</td>\n",
       "      <td>[▁Au, bert, in, ,, ▁professeur, ▁au, ▁lycée, ▁...</td>\n",
       "      <td>[I-PER+O, I-PER+O, I-PER+O, I-DESC+i_ACT, I-DE...</td>\n",
       "    </tr>\n",
       "    <tr>\n",
       "      <th>1</th>\n",
       "      <td>1</td>\n",
       "      <td>baints-Peres, . ",
       "Aubertin, représentant du peup...</td>\n",
       "      <td>&lt;PER&gt;baints-Peres, &lt;/PER&gt;&lt;DESC&gt;. ",
       "Aubertin, rep...</td>\n",
       "      <td>[▁bain, ts, -, Per, es, ,, ▁, ., ▁Au, bert, in...</td>\n",
       "      <td>[O+O, I-PER+O, I-PER+O, I-PER+O, I-PER+O, I-PE...</td>\n",
       "      <td>[▁bain, ts, -, Per, es, ,, ▁, ., ▁Au, bert, in...</td>\n",
       "      <td>[I-PER+O, I-PER+O, I-PER+O, I-PER+O, I-PER+O, ...</td>\n",
       "    </tr>\n",
       "    <tr>\n",
       "      <th>2</th>\n",
       "      <td>2</td>\n",
       "      <td>Aubertin, teinturier - dégraisseur, passage ",
       "Br...</td>\n",
       "      <td>&lt;PER&gt;Aubertin&lt;/PER&gt;&lt;ACT&gt;, teinturier - dégrais...</td>\n",
       "      <td>[▁Au, bert, in, ,, ▁teint, urier, ▁-, ▁dég, ra...</td>\n",
       "      <td>[I-PER+O, I-PER+O, I-PER+O, O+O, I-ACT+O, I-AC...</td>\n",
       "      <td>[▁Au, bert, in, ,, ▁teint, urier, ▁-, ▁dég, ra...</td>\n",
       "      <td>[I-PER+O, I-PER+O, I-PER+O, I-ACT+O, I-ACT+O, ...</td>\n",
       "    </tr>\n",
       "    <tr>\n",
       "      <th>3</th>\n",
       "      <td>3</td>\n",
       "      <td>Aubertin, teinturier-dégraisseur, Faub.-St- ",
       "Ho...</td>\n",
       "      <td>&lt;PER&gt;Aubertin&lt;/PER&gt;&lt;ACT&gt;, teinturier-dégraisse...</td>\n",
       "      <td>[▁Au, bert, in, ,, ▁teint, urier, -, dé, gra, ...</td>\n",
       "      <td>[I-PER+O, I-PER+O, I-PER+O, O+O, I-ACT+O, I-AC...</td>\n",
       "      <td>[▁Au, bert, in, ,, ▁teint, urier, -, dé, gra, ...</td>\n",
       "      <td>[I-PER+O, I-PER+O, I-PER+O, I-ACT+O, I-ACT+O, ...</td>\n",
       "    </tr>\n",
       "    <tr>\n",
       "      <th>4</th>\n",
       "      <td>4</td>\n",
       "      <td>Auberville (Ctesse douairière d&amp;apos;), Grenel...</td>\n",
       "      <td>&lt;PER&gt;Auberville (Ctesse douairière d&amp;amp;apos;...</td>\n",
       "      <td>[▁Au, ber, ville, ▁(, C, t, esse, ▁d, ou, ai, ...</td>\n",
       "      <td>[I-PER+O, I-PER+O, I-PER+O, I-PER+O, I-PER+O, ...</td>\n",
       "      <td>[▁Au, ber, ville, ▁(, C, t, esse, ▁d, ou, ai, ...</td>\n",
       "      <td>[I-PER+O, I-PER+O, I-PER+O, I-PER+O, I-PER+O, ...</td>\n",
       "    </tr>\n",
       "    <tr>\n",
       "      <th>...</th>\n",
       "      <td>...</td>\n",
       "      <td>...</td>\n",
       "      <td>...</td>\n",
       "      <td>...</td>\n",
       "      <td>...</td>\n",
       "      <td>...</td>\n",
       "      <td>...</td>\n",
       "    </tr>\n",
       "    <tr>\n",
       "      <th>1680</th>\n",
       "      <td>1680</td>\n",
       "      <td>Van-Berchem, rue Bergère, 14.</td>\n",
       "      <td>&lt;PER&gt;Van-Berchem&lt;/PER&gt;,&lt;SPAT&gt;&lt;LOC&gt; rue Bergère...</td>\n",
       "      <td>[▁Van, -, B, er, che, m, ,, ▁rue, ▁Berg, ère, ...</td>\n",
       "      <td>[I-PER+O, I-PER+O, I-PER+O, I-PER+O, I-PER+O, ...</td>\n",
       "      <td>[▁Van, -, B, er, che, m, ,, ▁rue, ▁Berg, ère, ...</td>\n",
       "      <td>[I-PER+O, I-PER+O, I-PER+O, I-PER+O, I-PER+O, ...</td>\n",
       "    </tr>\n",
       "    <tr>\n",
       "      <th>1681</th>\n",
       "      <td>1681</td>\n",
       "      <td>Vandamme, comte d&amp;apos;Unsebourg, rue du ",
       "Mont-...</td>\n",
       "      <td>&lt;PER&gt;Vandamme&lt;/PER&gt;&lt;DESC&gt;, comte d&amp;amp;apos;Un...</td>\n",
       "      <td>[▁Vand, am, me, ,, ▁comte, ▁d, &amp;, apos, ;, Un,...</td>\n",
       "      <td>[I-PER+O, I-PER+O, I-PER+O, I-PER+O, I-PER+O, ...</td>\n",
       "      <td>[▁Vand, am, me, ,, ▁comte, ▁d, &amp;, apos, ;, Un,...</td>\n",
       "      <td>[I-PER+O, I-PER+O, I-PER+O, I-DESC+O, I-DESC+O...</td>\n",
       "    </tr>\n",
       "    <tr>\n",
       "      <th>1682</th>\n",
       "      <td>1682</td>\n",
       "      <td>Toniges, rue Napoléon, 10.</td>\n",
       "      <td>&lt;PER&gt;Toniges&lt;/PER&gt;,&lt;SPAT&gt;&lt;LOC&gt; rue Napoléon&lt;/L...</td>\n",
       "      <td>[▁Ton, ige, s, ,, ▁rue, ▁Napoléon, ,, ▁10, .]</td>\n",
       "      <td>[I-PER+O, I-PER+O, I-PER+O, O+O, I-SPAT+i_LOC,...</td>\n",
       "      <td>[▁Ton, ige, s, ,, ▁rue, ▁Napoléon, ,, ▁10, .]</td>\n",
       "      <td>[I-PER+O, I-PER+O, I-PER+O, O+O, I-SPAT+i_LOC,...</td>\n",
       "    </tr>\n",
       "    <tr>\n",
       "      <th>1683</th>\n",
       "      <td>1683</td>\n",
       "      <td>Torcy (de) , rue de Bourgogne, 34.</td>\n",
       "      <td>&lt;PER&gt;Torcy (de)&lt;/PER&gt; ,&lt;SPAT&gt;&lt;LOC&gt; rue de Bour...</td>\n",
       "      <td>[▁Tor, cy, ▁(, de, ), ▁, ,, ▁rue, ▁de, ▁Bourgo...</td>\n",
       "      <td>[I-PER+O, I-PER+O, I-PER+O, I-PER+O, I-PER+O, ...</td>\n",
       "      <td>[▁Tor, cy, ▁(, de, ), ▁, ,, ▁rue, ▁de, ▁Bourgo...</td>\n",
       "      <td>[I-PER+O, I-PER+O, I-PER+O, I-PER+O, I-PER+O, ...</td>\n",
       "    </tr>\n",
       "    <tr>\n",
       "      <th>1684</th>\n",
       "      <td>1684</td>\n",
       "      <td>Torras, ruę Budaux, 11.</td>\n",
       "      <td>&lt;PER&gt;Torras&lt;/PER&gt;,&lt;SPAT&gt;&lt;LOC&gt; ruę Budaux&lt;/LOC&gt;...</td>\n",
       "      <td>[▁Tor, ras, ,, ▁ru, &lt;unk&gt;, ▁Bud, aux, ,, ▁11, .]</td>\n",
       "      <td>[I-PER+O, I-PER+O, O+O, I-SPAT+i_LOC, I-SPAT+i...</td>\n",
       "      <td>[▁Tor, ras, ,, ▁ru, ę, ▁Bud, aux, ,, ▁11, .]</td>\n",
       "      <td>[I-PER+O, I-PER+O, O+O, I-SPAT+i_LOC, I-SPAT+i...</td>\n",
       "    </tr>\n",
       "  </tbody>\n",
       "</table>\n",
       "<p>1685 rows × 7 columns</p>\n",
       "</div>"
      ],
      "text/plain": [
       "      index                                              entry  \\\n",
       "0         0  Aubertin, professeur au lycée Louis-le-Grand,\n",
       "...   \n",
       "1         1  baints-Peres, .\n",
       "Aubertin, représentant du peup...   \n",
       "2         2  Aubertin, teinturier - dégraisseur, passage\n",
       "Br...   \n",
       "3         3  Aubertin, teinturier-dégraisseur, Faub.-St-\n",
       "Ho...   \n",
       "4         4  Auberville (Ctesse douairière d&apos;), Grenel...   \n",
       "...     ...                                                ...   \n",
       "1680   1680                      Van-Berchem, rue Bergère, 14.   \n",
       "1681   1681  Vandamme, comte d&apos;Unsebourg, rue du\n",
       "Mont-...   \n",
       "1682   1682                         Toniges, rue Napoléon, 10.   \n",
       "1683   1683                 Torcy (de) , rue de Bourgogne, 34.   \n",
       "1684   1684                            Torras, ruę Budaux, 11.   \n",
       "\n",
       "                                              entry_xml  \\\n",
       "0     <PER>Aubertin</PER><DESC><ACT>, professeur</AC...   \n",
       "1     <PER>baints-Peres, </PER><DESC>.\n",
       "Aubertin, rep...   \n",
       "2     <PER>Aubertin</PER><ACT>, teinturier - dégrais...   \n",
       "3     <PER>Aubertin</PER><ACT>, teinturier-dégraisse...   \n",
       "4     <PER>Auberville (Ctesse douairière d&amp;apos;...   \n",
       "...                                                 ...   \n",
       "1680  <PER>Van-Berchem</PER>,<SPAT><LOC> rue Bergère...   \n",
       "1681  <PER>Vandamme</PER><DESC>, comte d&amp;apos;Un...   \n",
       "1682  <PER>Toniges</PER>,<SPAT><LOC> rue Napoléon</L...   \n",
       "1683  <PER>Torcy (de)</PER> ,<SPAT><LOC> rue de Bour...   \n",
       "1684  <PER>Torras</PER>,<SPAT><LOC> ruę Budaux</LOC>...   \n",
       "\n",
       "                                             spans_gold  \\\n",
       "0     [▁Au, bert, in, ,, ▁professeur, ▁au, ▁lycée, ▁...   \n",
       "1     [▁bain, ts, -, Per, es, ,, ▁, ., ▁Au, bert, in...   \n",
       "2     [▁Au, bert, in, ,, ▁teint, urier, ▁-, ▁dég, ra...   \n",
       "3     [▁Au, bert, in, ,, ▁teint, urier, -, dé, gra, ...   \n",
       "4     [▁Au, ber, ville, ▁(, C, t, esse, ▁d, ou, ai, ...   \n",
       "...                                                 ...   \n",
       "1680  [▁Van, -, B, er, che, m, ,, ▁rue, ▁Berg, ère, ...   \n",
       "1681  [▁Vand, am, me, ,, ▁comte, ▁d, &, apos, ;, Un,...   \n",
       "1682      [▁Ton, ige, s, ,, ▁rue, ▁Napoléon, ,, ▁10, .]   \n",
       "1683  [▁Tor, cy, ▁(, de, ), ▁, ,, ▁rue, ▁de, ▁Bourgo...   \n",
       "1684   [▁Tor, ras, ,, ▁ru, <unk>, ▁Bud, aux, ,, ▁11, .]   \n",
       "\n",
       "                                              tags_gold  \\\n",
       "0     [I-PER+O, I-PER+O, I-PER+O, O+O, I-DESC+i_ACT,...   \n",
       "1     [O+O, I-PER+O, I-PER+O, I-PER+O, I-PER+O, I-PE...   \n",
       "2     [I-PER+O, I-PER+O, I-PER+O, O+O, I-ACT+O, I-AC...   \n",
       "3     [I-PER+O, I-PER+O, I-PER+O, O+O, I-ACT+O, I-AC...   \n",
       "4     [I-PER+O, I-PER+O, I-PER+O, I-PER+O, I-PER+O, ...   \n",
       "...                                                 ...   \n",
       "1680  [I-PER+O, I-PER+O, I-PER+O, I-PER+O, I-PER+O, ...   \n",
       "1681  [I-PER+O, I-PER+O, I-PER+O, I-PER+O, I-PER+O, ...   \n",
       "1682  [I-PER+O, I-PER+O, I-PER+O, O+O, I-SPAT+i_LOC,...   \n",
       "1683  [I-PER+O, I-PER+O, I-PER+O, I-PER+O, I-PER+O, ...   \n",
       "1684  [I-PER+O, I-PER+O, O+O, I-SPAT+i_LOC, I-SPAT+i...   \n",
       "\n",
       "                                            spans_preds  \\\n",
       "0     [▁Au, bert, in, ,, ▁professeur, ▁au, ▁lycée, ▁...   \n",
       "1     [▁bain, ts, -, Per, es, ,, ▁, ., ▁Au, bert, in...   \n",
       "2     [▁Au, bert, in, ,, ▁teint, urier, ▁-, ▁dég, ra...   \n",
       "3     [▁Au, bert, in, ,, ▁teint, urier, -, dé, gra, ...   \n",
       "4     [▁Au, ber, ville, ▁(, C, t, esse, ▁d, ou, ai, ...   \n",
       "...                                                 ...   \n",
       "1680  [▁Van, -, B, er, che, m, ,, ▁rue, ▁Berg, ère, ...   \n",
       "1681  [▁Vand, am, me, ,, ▁comte, ▁d, &, apos, ;, Un,...   \n",
       "1682      [▁Ton, ige, s, ,, ▁rue, ▁Napoléon, ,, ▁10, .]   \n",
       "1683  [▁Tor, cy, ▁(, de, ), ▁, ,, ▁rue, ▁de, ▁Bourgo...   \n",
       "1684       [▁Tor, ras, ,, ▁ru, ę, ▁Bud, aux, ,, ▁11, .]   \n",
       "\n",
       "                                             tags_preds  \n",
       "0     [I-PER+O, I-PER+O, I-PER+O, I-DESC+i_ACT, I-DE...  \n",
       "1     [I-PER+O, I-PER+O, I-PER+O, I-PER+O, I-PER+O, ...  \n",
       "2     [I-PER+O, I-PER+O, I-PER+O, I-ACT+O, I-ACT+O, ...  \n",
       "3     [I-PER+O, I-PER+O, I-PER+O, I-ACT+O, I-ACT+O, ...  \n",
       "4     [I-PER+O, I-PER+O, I-PER+O, I-PER+O, I-PER+O, ...  \n",
       "...                                                 ...  \n",
       "1680  [I-PER+O, I-PER+O, I-PER+O, I-PER+O, I-PER+O, ...  \n",
       "1681  [I-PER+O, I-PER+O, I-PER+O, I-DESC+O, I-DESC+O...  \n",
       "1682  [I-PER+O, I-PER+O, I-PER+O, O+O, I-SPAT+i_LOC,...  \n",
       "1683  [I-PER+O, I-PER+O, I-PER+O, I-PER+O, I-PER+O, ...  \n",
       "1684  [I-PER+O, I-PER+O, O+O, I-SPAT+i_LOC, I-SPAT+i...  \n",
       "\n",
       "[1685 rows x 7 columns]"
      ]
     },
     "execution_count": 52,
     "metadata": {},
     "output_type": "execute_result"
    }
   ],
   "source": [
    "columns = [\"index\",\"entry\",\"entry_xml\",\"spans_gold\",\"tags_gold\",\"spans_preds\",\"tags_preds\"]\n",
    "df = pd.DataFrame(stats,columns=columns)\n",
    "df"
   ]
  },
  {
   "cell_type": "markdown",
   "id": "98fd9c68",
   "metadata": {},
   "source": [
    "## F1-Score ranking\n",
    "F1-Score is calculated for each entry using seqeval library :\n",
    "* entities are rebuild using joint-labels with seqeval lib\n",
    "* f1-score is calculted for each entry"
   ]
  },
  {
   "cell_type": "code",
   "execution_count": 53,
   "id": "2f979bfa",
   "metadata": {},
   "outputs": [
    {
     "name": "stderr",
     "output_type": "stream",
     "text": [
      "/lrde/home2/stual/.venv/python_3_9/lib/python3.10/site-packages/seqeval/metrics/sequence_labeling.py:171: UserWarning: O+O seems not to be NE tag.\n",
      "  warnings.warn('{} seems not to be NE tag.'.format(chunk))\n"
     ]
    },
    {
     "name": "stdout",
     "output_type": "stream",
     "text": [
      "0\n"
     ]
    }
   ],
   "source": [
    "from seqeval.metrics import f1_score\n",
    "\n",
    "scores = []\n",
    "count = 0\n",
    "for i in range(len(df)):\n",
    "    y_preds = df.iloc[i][\"tags_preds\"]\n",
    "    y_true = df.iloc[i][\"tags_gold\"]\n",
    "    try:\n",
    "        f1 = f1_score([y_true],[y_preds])\n",
    "        scores.append(f1)\n",
    "    except:\n",
    "        count += 1\n",
    "        print(df.iloc[i])\n",
    "print(count)"
   ]
  },
  {
   "cell_type": "code",
   "execution_count": 54,
   "id": "a088604a",
   "metadata": {},
   "outputs": [],
   "source": [
    "df[\"f1\"] = scores\n",
    "df = df.sort_values(by=['f1']).reset_index()\n",
    "del df[\"level_0\"]"
   ]
  },
  {
   "cell_type": "code",
   "execution_count": 55,
   "id": "75854eca",
   "metadata": {},
   "outputs": [
    {
     "data": {
      "text/html": [
       "<div>\n",
       "<style scoped>\n",
       "    .dataframe tbody tr th:only-of-type {\n",
       "        vertical-align: middle;\n",
       "    }\n",
       "\n",
       "    .dataframe tbody tr th {\n",
       "        vertical-align: top;\n",
       "    }\n",
       "\n",
       "    .dataframe thead th {\n",
       "        text-align: right;\n",
       "    }\n",
       "</style>\n",
       "<table border=\"1\" class=\"dataframe\">\n",
       "  <thead>\n",
       "    <tr style=\"text-align: right;\">\n",
       "      <th></th>\n",
       "      <th>index</th>\n",
       "      <th>entry</th>\n",
       "      <th>entry_xml</th>\n",
       "      <th>spans_gold</th>\n",
       "      <th>tags_gold</th>\n",
       "      <th>spans_preds</th>\n",
       "      <th>tags_preds</th>\n",
       "      <th>f1</th>\n",
       "    </tr>\n",
       "  </thead>\n",
       "  <tbody>\n",
       "    <tr>\n",
       "      <th>0</th>\n",
       "      <td>1295</td>\n",
       "      <td>MP ",
       "R. . Germain-l Aunerroj4 12.</td>\n",
       "      <td>&lt;PER&gt;MP ",
       "R.&lt;/PER&gt;&lt;SPAT&gt;&lt;LOC&gt; . Germain-l Aunerr...</td>\n",
       "      <td>[▁MP, ▁R, ., ▁, ., ▁Germain, -, l, ▁A, une, rr...</td>\n",
       "      <td>[I-PER+O, I-SPAT+i_LOC, I-SPAT+i_LOC, I-SPAT+i...</td>\n",
       "      <td>[▁MP, ▁R, ., ▁, ., ▁Germain, -, l, ▁A, une, rr...</td>\n",
       "      <td>[I-PER+O, I-PER+O, I-PER+O, I-SPAT+i_LOC, I-SP...</td>\n",
       "      <td>0.0</td>\n",
       "    </tr>\n",
       "    <tr>\n",
       "      <th>1</th>\n",
       "      <td>1251</td>\n",
       "      <td>HertaRK ",
       " H. de Lappe</td>\n",
       "      <td>&lt;PER&gt;Herta&lt;/PER&gt;&lt;SPAT&gt;&lt;LOC&gt;RK ",
       " H. de Lappe&lt;/LO...</td>\n",
       "      <td>[▁Her, ta, R, K, ▁H, ., ▁de, ▁La, ppe]</td>\n",
       "      <td>[I-PER+O, I-PER+O, I-PER+O, I-PER+O, I-SPAT+i_...</td>\n",
       "      <td>[▁Her, ta, R, K, ▁H, ., ▁de, ▁La, ppe]</td>\n",
       "      <td>[I-PER+O, I-PER+O, I-SPAT+i_LOC, I-SPAT+i_LOC,...</td>\n",
       "      <td>0.0</td>\n",
       "    </tr>\n",
       "    <tr>\n",
       "      <th>2</th>\n",
       "      <td>1254</td>\n",
       "      <td>Rennit &amp;quot;et Pignard, RiN. Eganterdí.</td>\n",
       "      <td>&lt;PER&gt;Rennit&lt;TITREH&gt; &amp;amp;&lt;/TITREH&gt;&lt;/PER&gt;quot;&lt;...</td>\n",
       "      <td>[▁Ren, nit, ▁&amp;, quot, ;, et, ▁Pig, nard, ,, ▁R...</td>\n",
       "      <td>[I-PER+O, I-PER+O, I-PER+O, I-PER+O, I-PER+O, ...</td>\n",
       "      <td>[▁Ren, nit, ▁&amp;, quot, ;, et, ▁Pig, nard, ,, ▁R...</td>\n",
       "      <td>[I-PER+O, I-PER+O, I-PER+i_TITREH, O+O, O+O, I...</td>\n",
       "      <td>0.0</td>\n",
       "    </tr>\n",
       "    <tr>\n",
       "      <th>3</th>\n",
       "      <td>1349</td>\n",
       "      <td>FiRion (H, ",
       "pla ce des ",
       " compl ",
       "Victoires ",
       " ",
       "gétoff es</td>\n",
       "      <td>&lt;PER&gt;FiRion (H,&lt;/PER&gt;&lt;ACT&gt; ",
       "pla ce&lt;/ACT&gt;&lt;SPAT&gt;&lt;...</td>\n",
       "      <td>[▁Fi, R, ion, ▁(, H, ,, ▁pla, ▁ce, ▁des, ▁comp...</td>\n",
       "      <td>[I-PER+O, I-PER+O, I-PER+O, I-PER+O, I-PER+O, ...</td>\n",
       "      <td>[▁Fi, R, ion, ▁(, H, ,, ▁pla, ▁ce, ▁des, ▁comp...</td>\n",
       "      <td>[I-PER+O, I-PER+O, I-PER+O, I-PER+O, I-PER+O, ...</td>\n",
       "      <td>0.0</td>\n",
       "    </tr>\n",
       "    <tr>\n",
       "      <th>4</th>\n",
       "      <td>1656</td>\n",
       "      <td>Treneuil (de), bibliothécaire de la biblio- ",
       "th...</td>\n",
       "      <td>&lt;PER&gt;Treneuil (de),&lt;/PER&gt;&lt;DESC&gt;&lt;ACT&gt; bibliothé...</td>\n",
       "      <td>[▁Tr, en, euil, ▁(, de, ),, ▁bibliothécaire, ▁...</td>\n",
       "      <td>[I-PER+O, I-PER+O, I-PER+O, I-PER+O, I-PER+O, ...</td>\n",
       "      <td>[▁Tr, en, euil, ▁(, de, ),, ▁bibliothécaire, ▁...</td>\n",
       "      <td>[I-PER+O, I-PER+O, I-PER+O, I-PER+O, I-PER+O, ...</td>\n",
       "      <td>0.0</td>\n",
       "    </tr>\n",
       "    <tr>\n",
       "      <th>...</th>\n",
       "      <td>...</td>\n",
       "      <td>...</td>\n",
       "      <td>...</td>\n",
       "      <td>...</td>\n",
       "      <td>...</td>\n",
       "      <td>...</td>\n",
       "      <td>...</td>\n",
       "      <td>...</td>\n",
       "    </tr>\n",
       "    <tr>\n",
       "      <th>1680</th>\n",
       "      <td>1132</td>\n",
       "      <td>Dubois-Vital,Petite-Rue-St-Pierre- ",
       "Popincourt,...</td>\n",
       "      <td>&lt;PER&gt;Dubois-Vital&lt;/PER&gt;,&lt;SPAT&gt;&lt;LOC&gt;Petite-Rue-...</td>\n",
       "      <td>[▁Dubois, -, Vi, tal, ,, Petit, e, -, Ru, e, -...</td>\n",
       "      <td>[I-PER+O, I-PER+O, I-PER+O, I-PER+O, O+O, I-SP...</td>\n",
       "      <td>[▁Dubois, -, Vi, tal, ,, Petit, e, -, Ru, e, -...</td>\n",
       "      <td>[I-PER+O, I-PER+O, I-PER+O, I-PER+O, O+O, I-SP...</td>\n",
       "      <td>1.0</td>\n",
       "    </tr>\n",
       "    <tr>\n",
       "      <th>1681</th>\n",
       "      <td>1452</td>\n",
       "      <td>Jiou, rue de la Barillerie, 8.</td>\n",
       "      <td>&lt;PER&gt;Jiou&lt;/PER&gt;,&lt;SPAT&gt;&lt;LOC&gt; rue de la Bariller...</td>\n",
       "      <td>[▁J, i, ou, ,, ▁rue, ▁de, ▁la, ▁Bar, il, lerie...</td>\n",
       "      <td>[I-PER+O, I-PER+O, I-PER+O, O+O, I-SPAT+i_LOC,...</td>\n",
       "      <td>[▁J, i, ou, ,, ▁rue, ▁de, ▁la, ▁Bar, il, lerie...</td>\n",
       "      <td>[I-PER+O, I-PER+O, I-PER+O, O+O, I-SPAT+i_LOC,...</td>\n",
       "      <td>1.0</td>\n",
       "    </tr>\n",
       "    <tr>\n",
       "      <th>1682</th>\n",
       "      <td>1451</td>\n",
       "      <td>Huet, rue de la Vieille-Bouclerie, 23.</td>\n",
       "      <td>&lt;PER&gt;Huet&lt;/PER&gt;,&lt;SPAT&gt;&lt;LOC&gt; rue de la Vieille-...</td>\n",
       "      <td>[▁Hu, et, ,, ▁rue, ▁de, ▁la, ▁Vieille, -, Bou,...</td>\n",
       "      <td>[I-PER+O, I-PER+O, O+O, I-SPAT+i_LOC, I-SPAT+i...</td>\n",
       "      <td>[▁Hu, et, ,, ▁rue, ▁de, ▁la, ▁Vieille, -, Bou,...</td>\n",
       "      <td>[I-PER+O, I-PER+O, O+O, I-SPAT+i_LOC, I-SPAT+i...</td>\n",
       "      <td>1.0</td>\n",
       "    </tr>\n",
       "    <tr>\n",
       "      <th>1683</th>\n",
       "      <td>1449</td>\n",
       "      <td>Vallée, rue Saint-Denis, 374.</td>\n",
       "      <td>&lt;PER&gt;Vallée&lt;/PER&gt;,&lt;SPAT&gt;&lt;LOC&gt; rue Saint-Denis&lt;...</td>\n",
       "      <td>[▁Vallée, ,, ▁rue, ▁Saint, -, Denis, ,, ▁3, 74...</td>\n",
       "      <td>[I-PER+O, O+O, I-SPAT+i_LOC, I-SPAT+i_LOC, I-S...</td>\n",
       "      <td>[▁Vallée, ,, ▁rue, ▁Saint, -, Denis, ,, ▁3, 74...</td>\n",
       "      <td>[I-PER+O, O+O, I-SPAT+i_LOC, I-SPAT+i_LOC, I-S...</td>\n",
       "      <td>1.0</td>\n",
       "    </tr>\n",
       "    <tr>\n",
       "      <th>1684</th>\n",
       "      <td>1684</td>\n",
       "      <td>Torras, ruę Budaux, 11.</td>\n",
       "      <td>&lt;PER&gt;Torras&lt;/PER&gt;,&lt;SPAT&gt;&lt;LOC&gt; ruę Budaux&lt;/LOC&gt;...</td>\n",
       "      <td>[▁Tor, ras, ,, ▁ru, &lt;unk&gt;, ▁Bud, aux, ,, ▁11, .]</td>\n",
       "      <td>[I-PER+O, I-PER+O, O+O, I-SPAT+i_LOC, I-SPAT+i...</td>\n",
       "      <td>[▁Tor, ras, ,, ▁ru, ę, ▁Bud, aux, ,, ▁11, .]</td>\n",
       "      <td>[I-PER+O, I-PER+O, O+O, I-SPAT+i_LOC, I-SPAT+i...</td>\n",
       "      <td>1.0</td>\n",
       "    </tr>\n",
       "  </tbody>\n",
       "</table>\n",
       "<p>1685 rows × 8 columns</p>\n",
       "</div>"
      ],
      "text/plain": [
       "      index                                              entry  \\\n",
       "0      1295                    MP\n",
       "R. . Germain-l Aunerroj4 12.   \n",
       "1      1251                               HertaRK\n",
       " H. de Lappe   \n",
       "2      1254           Rennit &quot;et Pignard, RiN. Eganterdí.   \n",
       "3      1349  FiRion (H,\n",
       "pla ce des\n",
       " compl\n",
       "Victoires\n",
       "\n",
       "gétoff es   \n",
       "4      1656  Treneuil (de), bibliothécaire de la biblio-\n",
       "th...   \n",
       "...     ...                                                ...   \n",
       "1680   1132  Dubois-Vital,Petite-Rue-St-Pierre-\n",
       "Popincourt,...   \n",
       "1681   1452                     Jiou, rue de la Barillerie, 8.   \n",
       "1682   1451             Huet, rue de la Vieille-Bouclerie, 23.   \n",
       "1683   1449                      Vallée, rue Saint-Denis, 374.   \n",
       "1684   1684                            Torras, ruę Budaux, 11.   \n",
       "\n",
       "                                              entry_xml  \\\n",
       "0     <PER>MP\n",
       "R.</PER><SPAT><LOC> . Germain-l Aunerr...   \n",
       "1     <PER>Herta</PER><SPAT><LOC>RK\n",
       " H. de Lappe</LO...   \n",
       "2     <PER>Rennit<TITREH> &amp;</TITREH></PER>quot;<...   \n",
       "3     <PER>FiRion (H,</PER><ACT>\n",
       "pla ce</ACT><SPAT><...   \n",
       "4     <PER>Treneuil (de),</PER><DESC><ACT> bibliothé...   \n",
       "...                                                 ...   \n",
       "1680  <PER>Dubois-Vital</PER>,<SPAT><LOC>Petite-Rue-...   \n",
       "1681  <PER>Jiou</PER>,<SPAT><LOC> rue de la Bariller...   \n",
       "1682  <PER>Huet</PER>,<SPAT><LOC> rue de la Vieille-...   \n",
       "1683  <PER>Vallée</PER>,<SPAT><LOC> rue Saint-Denis<...   \n",
       "1684  <PER>Torras</PER>,<SPAT><LOC> ruę Budaux</LOC>...   \n",
       "\n",
       "                                             spans_gold  \\\n",
       "0     [▁MP, ▁R, ., ▁, ., ▁Germain, -, l, ▁A, une, rr...   \n",
       "1                [▁Her, ta, R, K, ▁H, ., ▁de, ▁La, ppe]   \n",
       "2     [▁Ren, nit, ▁&, quot, ;, et, ▁Pig, nard, ,, ▁R...   \n",
       "3     [▁Fi, R, ion, ▁(, H, ,, ▁pla, ▁ce, ▁des, ▁comp...   \n",
       "4     [▁Tr, en, euil, ▁(, de, ),, ▁bibliothécaire, ▁...   \n",
       "...                                                 ...   \n",
       "1680  [▁Dubois, -, Vi, tal, ,, Petit, e, -, Ru, e, -...   \n",
       "1681  [▁J, i, ou, ,, ▁rue, ▁de, ▁la, ▁Bar, il, lerie...   \n",
       "1682  [▁Hu, et, ,, ▁rue, ▁de, ▁la, ▁Vieille, -, Bou,...   \n",
       "1683  [▁Vallée, ,, ▁rue, ▁Saint, -, Denis, ,, ▁3, 74...   \n",
       "1684   [▁Tor, ras, ,, ▁ru, <unk>, ▁Bud, aux, ,, ▁11, .]   \n",
       "\n",
       "                                              tags_gold  \\\n",
       "0     [I-PER+O, I-SPAT+i_LOC, I-SPAT+i_LOC, I-SPAT+i...   \n",
       "1     [I-PER+O, I-PER+O, I-PER+O, I-PER+O, I-SPAT+i_...   \n",
       "2     [I-PER+O, I-PER+O, I-PER+O, I-PER+O, I-PER+O, ...   \n",
       "3     [I-PER+O, I-PER+O, I-PER+O, I-PER+O, I-PER+O, ...   \n",
       "4     [I-PER+O, I-PER+O, I-PER+O, I-PER+O, I-PER+O, ...   \n",
       "...                                                 ...   \n",
       "1680  [I-PER+O, I-PER+O, I-PER+O, I-PER+O, O+O, I-SP...   \n",
       "1681  [I-PER+O, I-PER+O, I-PER+O, O+O, I-SPAT+i_LOC,...   \n",
       "1682  [I-PER+O, I-PER+O, O+O, I-SPAT+i_LOC, I-SPAT+i...   \n",
       "1683  [I-PER+O, O+O, I-SPAT+i_LOC, I-SPAT+i_LOC, I-S...   \n",
       "1684  [I-PER+O, I-PER+O, O+O, I-SPAT+i_LOC, I-SPAT+i...   \n",
       "\n",
       "                                            spans_preds  \\\n",
       "0     [▁MP, ▁R, ., ▁, ., ▁Germain, -, l, ▁A, une, rr...   \n",
       "1                [▁Her, ta, R, K, ▁H, ., ▁de, ▁La, ppe]   \n",
       "2     [▁Ren, nit, ▁&, quot, ;, et, ▁Pig, nard, ,, ▁R...   \n",
       "3     [▁Fi, R, ion, ▁(, H, ,, ▁pla, ▁ce, ▁des, ▁comp...   \n",
       "4     [▁Tr, en, euil, ▁(, de, ),, ▁bibliothécaire, ▁...   \n",
       "...                                                 ...   \n",
       "1680  [▁Dubois, -, Vi, tal, ,, Petit, e, -, Ru, e, -...   \n",
       "1681  [▁J, i, ou, ,, ▁rue, ▁de, ▁la, ▁Bar, il, lerie...   \n",
       "1682  [▁Hu, et, ,, ▁rue, ▁de, ▁la, ▁Vieille, -, Bou,...   \n",
       "1683  [▁Vallée, ,, ▁rue, ▁Saint, -, Denis, ,, ▁3, 74...   \n",
       "1684       [▁Tor, ras, ,, ▁ru, ę, ▁Bud, aux, ,, ▁11, .]   \n",
       "\n",
       "                                             tags_preds   f1  \n",
       "0     [I-PER+O, I-PER+O, I-PER+O, I-SPAT+i_LOC, I-SP...  0.0  \n",
       "1     [I-PER+O, I-PER+O, I-SPAT+i_LOC, I-SPAT+i_LOC,...  0.0  \n",
       "2     [I-PER+O, I-PER+O, I-PER+i_TITREH, O+O, O+O, I...  0.0  \n",
       "3     [I-PER+O, I-PER+O, I-PER+O, I-PER+O, I-PER+O, ...  0.0  \n",
       "4     [I-PER+O, I-PER+O, I-PER+O, I-PER+O, I-PER+O, ...  0.0  \n",
       "...                                                 ...  ...  \n",
       "1680  [I-PER+O, I-PER+O, I-PER+O, I-PER+O, O+O, I-SP...  1.0  \n",
       "1681  [I-PER+O, I-PER+O, I-PER+O, O+O, I-SPAT+i_LOC,...  1.0  \n",
       "1682  [I-PER+O, I-PER+O, O+O, I-SPAT+i_LOC, I-SPAT+i...  1.0  \n",
       "1683  [I-PER+O, O+O, I-SPAT+i_LOC, I-SPAT+i_LOC, I-S...  1.0  \n",
       "1684  [I-PER+O, I-PER+O, O+O, I-SPAT+i_LOC, I-SPAT+i...  1.0  \n",
       "\n",
       "[1685 rows x 8 columns]"
      ]
     },
     "execution_count": 55,
     "metadata": {},
     "output_type": "execute_result"
    }
   ],
   "source": [
    "df"
   ]
  },
  {
   "cell_type": "code",
   "execution_count": 56,
   "id": "78b17082",
   "metadata": {},
   "outputs": [
    {
     "data": {
      "text/plain": [
       "Text(0.5, 0.98, 'Entery-scale F1-Score distribution over test set')"
      ]
     },
     "execution_count": 56,
     "metadata": {},
     "output_type": "execute_result"
    },
    {
     "data": {
      "image/png": "[encoded data removed]",
      "text/plain": [
       "<Figure size 432x288 with 1 Axes>"
      ]
     },
     "metadata": {
      "needs_background": "light"
     },
     "output_type": "display_data"
    }
   ],
   "source": [
    "import pylab as pl\n",
    "\n",
    "df.hist(column='f1',bins=40,sharey=True, sharex=True)\n",
    "pl.suptitle('Entery-scale F1-Score distribution over test set')"
   ]
  },
  {
   "cell_type": "markdown",
   "id": "a0b6b85b",
   "metadata": {},
   "source": [
    "### 15-Top worst"
   ]
  },
  {
   "cell_type": "code",
   "execution_count": 57,
   "id": "6ccccc35",
   "metadata": {},
   "outputs": [
    {
     "name": "stdout",
     "output_type": "stream",
     "text": [
      "INDEX 0\n",
      "MP ",
      "R. . Germain-l Aunerroj4 12.\n",
      "<PER>MP ",
      "R.</PER><SPAT><LOC> . Germain-l Aunerroj</LOC><CARDINAL>4 12</CARDINAL></SPAT>.\n",
      "F1-Score : 0.0\n",
      "\n",
      "INDEX 1\n",
      "HertaRK ",
      " H. de Lappe\n",
      "<PER>Herta</PER><SPAT><LOC>RK ",
      " H. de Lappe</LOC></SPAT>\n",
      "F1-Score : 0.0\n",
      "\n",
      "INDEX 2\n",
      "Rennit &quot;et Pignard, RiN. Eganterdí.\n",
      "<PER>Rennit<TITREH> &amp;</TITREH></PER>quot;<PER>et Pignard</PER><SPAT><LOC>, RiN. Eganterd</LOC></SPAT>í.\n",
      "F1-Score : 0.0\n",
      "\n",
      "INDEX 3\n",
      "FiRion (H, ",
      "pla ce des ",
      " compl ",
      "Victoires ",
      " ",
      "gétoff es\n",
      "<PER>FiRion (H,</PER><ACT> ",
      "pla ce</ACT><SPAT><LOC> des ",
      " compl ",
      "Victoires ",
      " ",
      "gétoff es</LOC></SPAT>\n",
      "F1-Score : 0.0\n",
      "\n",
      "INDEX 4\n",
      "Treneuil (de), bibliothécaire de la biblio- ",
      "théque de l&apos;arsenal, rue Sully.\n",
      "<PER>Treneuil (de),</PER><DESC><ACT> bibliothécaire</ACT> de la biblio- ",
      "théque de l&amp;apos;</DESC><SPAT><FT>arsenal</FT><LOC>, rue Sully</LOC></SPAT><DESC>.</DESC>\n",
      "F1-Score : 0.0\n",
      "\n",
      "INDEX 5\n",
      "☞2 ",
      "Duhamel, Bnufousa et comp. Rue S. ",
      " ",
      "Dentiš ráh ",
      "=\n",
      "☞2<PER> ",
      "Duhamel</PER><DESC>, B</DESC><PER>nufous</PER><DESC>a et comp.</DESC><SPAT><LOC> Rue S. ",
      " ",
      "Dentiš ráh</LOC><CARDINAL> ",
      "=</CARDINAL></SPAT>\n",
      "F1-Score : 0.0\n",
      "\n",
      "INDEX 6\n",
      "Forney (Ls), Fosses-St-Marc., 63.\n",
      "<PER>Forney (Ls),</PER><SPAT><LOC> Fosses-St-Marc</LOC>.<CARDINAL>, 63</CARDINAL></SPAT>.\n",
      "F1-Score : 0.0\n",
      "\n",
      "INDEX 7\n",
      "17 ",
      "Hpnariug Etaees a aparanue ",
      " du Trih ",
      "a de pierresprlop. ",
      "r ",
      "Fu ",
      "Par ",
      "--\n",
      "17<PER> ",
      "Hpnariug</PER><DESC><ACT> Eta</ACT>ees a aparanue ",
      " du Trih ",
      "a de pierresprlop</DESC><SPAT><LOC>. ",
      "r ",
      "Fu ",
      "Par ",
      "--</LOC></SPAT>\n",
      "F1-Score : 0.0\n",
      "\n",
      "INDEX 8\n",
      "ET ",
      "H.SEnt ",
      "IFF ",
      "Pif\n",
      "<PER>ET ",
      "H.SEnt</PER> ",
      "IFF<SPAT><LOC> ",
      "Pif</LOC></SPAT>\n",
      "F1-Score : 0.0\n",
      "\n",
      "INDEX 9\n",
      "DRTIELY ",
      "ÉH DOEIENEAH.S. DeN ",
      " ",
      "1E\n",
      "<PER>DRTIEL</PER>Y<SPAT><LOC> ",
      "ÉH DOEIENEAH.S. DeN</LOC> ",
      "<CARDINAL> ",
      "1</CARDINAL></SPAT>E\n",
      "F1-Score : 0.0\n",
      "\n",
      "INDEX 10\n",
      "Davleci HlsiirH,IL. aeTroura restai\n",
      "<PER>Davleci</PER><SPAT><LOC> HlsiirH,</LOC><CARDINAL>IL</CARDINAL><LOC>. aeTroura restai</LOC></SPAT>\n",
      "F1-Score : 0.0\n",
      "\n",
      "INDEX 11\n",
      "W ",
      " ",
      "E ",
      " ",
      "TV1 ",
      "DEen , L DHtave ",
      "114\n",
      "W<PER> ",
      "E ",
      " ",
      "TV1 ",
      "DEen</PER> <SPAT><LOC>, L DHtave</LOC><CARDINAL> ",
      "114</CARDINAL></SPAT>\n",
      "F1-Score : 0.0\n",
      "\n",
      "INDEX 12\n",
      "HeTÉeř ",
      "T Alen.1i HBoncher4\n",
      "<PER>HeTÉe</PER>ř<SPAT><LOC> ",
      "T Alen.1i HBoncher4</LOC></SPAT>\n",
      "F1-Score : 0.0\n",
      "\n",
      "INDEX 13\n",
      "Neuhansel [hernacheur) ; R. du ",
      "r 12 ",
      "BeHuVIN\n",
      "<PER>Neuhansel [hernacheur)</PER> ;<SPAT><LOC> R. du ",
      "r 12 ",
      "BeHuVIN</LOC></SPAT>\n",
      "F1-Score : 0.0\n",
      "\n",
      "INDEX 14\n",
      "VuRTNRupH, M deS:HIDNUS ",
      "D\n",
      "<PER>VuRTNRup</PER>H,<SPAT><LOC> M deS:HIDN</LOC><CARDINAL>US ",
      "D</CARDINAL></SPAT>\n",
      "F1-Score : 0.0\n",
      "\n",
      "INDEX 15\n",
      "R H.  ",
      "Horang cadel ",
      "25. ",
      "Ghenet ",
      " ",
      " ",
      "du GFos- ",
      "E ",
      "&quot;\n",
      "<SPAT><LOC>R H.  ",
      "Horang cadel</LOC><CARDINAL> ",
      "25</CARDINAL><LOC>. ",
      "Ghenet ",
      " ",
      " ",
      "du GFos- ",
      "E</LOC><CARDINAL> ",
      "&amp;</CARDINAL></SPAT>quot;\n",
      "F1-Score : 0.0\n",
      "\n"
     ]
    }
   ],
   "source": [
    "for i in range(0,16):\n",
    "    print(f\"INDEX {i}\")\n",
    "    print(df.iloc[i][\"entry\"])\n",
    "    print(df.iloc[i][\"entry_xml\"])\n",
    "    print(f\"F1-Score : {df.iloc[i]['f1']}\")\n",
    "    print(\"\")"
   ]
  },
  {
   "cell_type": "markdown",
   "id": "f28b631e",
   "metadata": {},
   "source": [
    "### 15-Top best"
   ]
  },
  {
   "cell_type": "code",
   "execution_count": 58,
   "id": "cc515768",
   "metadata": {},
   "outputs": [
    {
     "name": "stdout",
     "output_type": "stream",
     "text": [
      "Torras, ruę Budaux, 11.\n",
      "<PER>Torras</PER>,<SPAT><LOC> ruę Budaux</LOC>,<CARDINAL> 11</CARDINAL></SPAT>.\n",
      "F1-Score : 1.0\n",
      "\n",
      "Dufoy jeune, Amandiers-Popin- ",
      "court, 35.\n",
      "<PER>Dufoy jeune</PER>,<SPAT><LOC> Amandiers-Popin- ",
      "court</LOC>,<CARDINAL> 35</CARDINAL></SPAT>.\n",
      "F1-Score : 1.0\n",
      "\n",
      "Thevenard (le comte de) , sénateur, rue ",
      "Duphot, 8.\n",
      "<PER>Thevenard (le comte de)</PER> ,<ACT> sénateur</ACT>,<SPAT><LOC> rue ",
      "Duphot</LOC>,<CARDINAL> 8</CARDINAL></SPAT>.\n",
      "F1-Score : 1.0\n",
      "\n",
      "Dubnis. N -D.-des-Champs, 15.\n",
      "<PER>Dubnis</PER>.<SPAT><LOC> N -D.-des-Champs</LOC>,<CARDINAL> 15</CARDINAL></SPAT>.\n",
      "F1-Score : 1.0\n",
      "\n",
      "Thevenin fils, rue de Lille , 21.\n",
      "<PER>Thevenin fils</PER>,<SPAT><LOC> rue de Lille</LOC> ,<CARDINAL> 21</CARDINAL></SPAT>.\n",
      "F1-Score : 1.0\n",
      "\n",
      "Thiébaut, rue des Trois-Frères, 13.\n",
      "<PER>Thiébaut</PER>,<SPAT><LOC> rue des Trois-Frères</LOC>,<CARDINAL> 13</CARDINAL></SPAT>.\n",
      "F1-Score : 1.0\n",
      "\n",
      "Thalouet, rue Joubert, 20.\n",
      "<PER>Thalouet</PER>,<SPAT><LOC> rue Joubert</LOC>,<CARDINAL> 20</CARDINAL></SPAT>.\n",
      "F1-Score : 1.0\n",
      "\n",
      "Thierry , rue de Grenelle-Saint-Ger- ",
      "main, 27.\n",
      "<PER>Thierry</PER> ,<SPAT><LOC> rue de Grenelle-Saint-Ger- ",
      "main</LOC>,<CARDINAL> 27</CARDINAL></SPAT>.\n",
      "F1-Score : 1.0\n",
      "\n",
      "Thierry, rue de Sèvre, 93.\n",
      "<PER>Thierry</PER>,<SPAT><LOC> rue de Sèvre</LOC>,<CARDINAL> 93</CARDINAL></SPAT>.\n",
      "F1-Score : 1.0\n",
      "\n",
      "Thierry, rue Sainte-Apolline, 15.\n",
      "<PER>Thierry</PER>,<SPAT><LOC> rue Sainte-Apolline</LOC>,<CARDINAL> 15</CARDINAL></SPAT>.\n",
      "F1-Score : 1.0\n",
      "\n",
      "Thierry Grandval, rue de Provence , 12.\n",
      "<PER>Thierry Grandval</PER>,<SPAT><LOC> rue de Provence</LOC> ,<CARDINAL> 12</CARDINAL></SPAT>.\n",
      "F1-Score : 1.0\n",
      "\n",
      "Thierriet fils, rue de la Monnaie, 10.\n",
      "<PER>Thierriet fils</PER>,<SPAT><LOC> rue de la Monnaie</LOC>,<CARDINAL> 10</CARDINAL></SPAT>.\n",
      "F1-Score : 1.0\n",
      "\n",
      "Delaunay, avenue de Breteuil, 36.\n",
      "<PER>Delaunay</PER>,<SPAT><LOC> avenue de Breteuil</LOC>,<CARDINAL> 36</CARDINAL></SPAT>.\n",
      "F1-Score : 1.0\n",
      "\n",
      "Thayer, rue Saint-Marc , 10.\n",
      "<PER>Thayer</PER>,<SPAT><LOC> rue Saint-Marc</LOC> ,<CARDINAL> 10</CARDINAL></SPAT>.\n",
      "F1-Score : 1.0\n",
      "\n",
      "Titon, rue Meslay , 26.\n",
      "<PER>Titon</PER>,<SPAT><LOC> rue Meslay</LOC> ,<CARDINAL> 26</CARDINAL></SPAT>.\n",
      "F1-Score : 1.0\n",
      "\n",
      "Bochard de Champigny père et fils, rue ",
      "du Canivet, 2.\n",
      "<PER>Bochard de Champigny père et fils</PER>,<SPAT><LOC> rue ",
      "du Canivet</LOC>,<CARDINAL> 2</CARDINAL></SPAT>.\n",
      "F1-Score : 1.0\n",
      "\n"
     ]
    }
   ],
   "source": [
    "rdf = df.sort_values(by='f1', ascending=False)\n",
    "for i in range(0,16):\n",
    "    print(rdf.iloc[i][\"entry\"])\n",
    "    print(rdf.iloc[i][\"entry_xml\"])\n",
    "    print(f\"F1-Score : {rdf.iloc[i]['f1']}\")\n",
    "    print(\"\")"
   ]
  },
  {
   "cell_type": "markdown",
   "id": "bb1581a2",
   "metadata": {},
   "source": [
    "## Sub-word global analysis"
   ]
  },
  {
   "cell_type": "code",
   "execution_count": 59,
   "id": "336e5dcc",
   "metadata": {},
   "outputs": [
    {
     "data": {
      "text/html": [
       "<div>\n",
       "<style scoped>\n",
       "    .dataframe tbody tr th:only-of-type {\n",
       "        vertical-align: middle;\n",
       "    }\n",
       "\n",
       "    .dataframe tbody tr th {\n",
       "        vertical-align: top;\n",
       "    }\n",
       "\n",
       "    .dataframe thead th {\n",
       "        text-align: right;\n",
       "    }\n",
       "</style>\n",
       "<table border=\"1\" class=\"dataframe\">\n",
       "  <thead>\n",
       "    <tr style=\"text-align: right;\">\n",
       "      <th></th>\n",
       "      <th>ACT+O</th>\n",
       "      <th>DESC+O</th>\n",
       "      <th>DESC+ACT</th>\n",
       "      <th>DESC+TITREP</th>\n",
       "      <th>PER+O</th>\n",
       "      <th>PER+TITREH</th>\n",
       "      <th>SPAT+O</th>\n",
       "      <th>SPAT+CARDINAL</th>\n",
       "      <th>SPAT+FT</th>\n",
       "      <th>SPAT+LOC</th>\n",
       "      <th>O+O</th>\n",
       "    </tr>\n",
       "  </thead>\n",
       "  <tbody>\n",
       "    <tr>\n",
       "      <th>ACT+O</th>\n",
       "      <td>86.967768</td>\n",
       "      <td>6.904099</td>\n",
       "      <td>3.979308</td>\n",
       "      <td>0.000000</td>\n",
       "      <td>1.074413</td>\n",
       "      <td>0.000000</td>\n",
       "      <td>0.000000</td>\n",
       "      <td>0.000000</td>\n",
       "      <td>0.059690</td>\n",
       "      <td>0.616793</td>\n",
       "      <td>0.397931</td>\n",
       "    </tr>\n",
       "    <tr>\n",
       "      <th>DESC+O</th>\n",
       "      <td>7.338129</td>\n",
       "      <td>54.820144</td>\n",
       "      <td>34.604317</td>\n",
       "      <td>0.503597</td>\n",
       "      <td>0.791367</td>\n",
       "      <td>0.000000</td>\n",
       "      <td>0.000000</td>\n",
       "      <td>0.000000</td>\n",
       "      <td>0.000000</td>\n",
       "      <td>1.294964</td>\n",
       "      <td>0.647482</td>\n",
       "    </tr>\n",
       "    <tr>\n",
       "      <th>DESC+ACT</th>\n",
       "      <td>4.893617</td>\n",
       "      <td>17.659574</td>\n",
       "      <td>76.808511</td>\n",
       "      <td>0.000000</td>\n",
       "      <td>0.212766</td>\n",
       "      <td>0.000000</td>\n",
       "      <td>0.000000</td>\n",
       "      <td>0.000000</td>\n",
       "      <td>0.000000</td>\n",
       "      <td>0.000000</td>\n",
       "      <td>0.425532</td>\n",
       "    </tr>\n",
       "    <tr>\n",
       "      <th>DESC+TITREP</th>\n",
       "      <td>0.000000</td>\n",
       "      <td>50.000000</td>\n",
       "      <td>1.219512</td>\n",
       "      <td>47.560976</td>\n",
       "      <td>0.813008</td>\n",
       "      <td>0.000000</td>\n",
       "      <td>0.000000</td>\n",
       "      <td>0.000000</td>\n",
       "      <td>0.000000</td>\n",
       "      <td>0.000000</td>\n",
       "      <td>0.406504</td>\n",
       "    </tr>\n",
       "    <tr>\n",
       "      <th>PER+O</th>\n",
       "      <td>0.376432</td>\n",
       "      <td>0.507365</td>\n",
       "      <td>0.000000</td>\n",
       "      <td>0.000000</td>\n",
       "      <td>98.150573</td>\n",
       "      <td>0.032733</td>\n",
       "      <td>0.000000</td>\n",
       "      <td>0.032733</td>\n",
       "      <td>0.000000</td>\n",
       "      <td>0.441899</td>\n",
       "      <td>0.458265</td>\n",
       "    </tr>\n",
       "    <tr>\n",
       "      <th>PER+TITREH</th>\n",
       "      <td>0.000000</td>\n",
       "      <td>0.000000</td>\n",
       "      <td>0.000000</td>\n",
       "      <td>0.000000</td>\n",
       "      <td>4.545455</td>\n",
       "      <td>69.318182</td>\n",
       "      <td>0.000000</td>\n",
       "      <td>0.000000</td>\n",
       "      <td>0.000000</td>\n",
       "      <td>0.000000</td>\n",
       "      <td>26.136364</td>\n",
       "    </tr>\n",
       "    <tr>\n",
       "      <th>SPAT+O</th>\n",
       "      <td>0.053677</td>\n",
       "      <td>0.536769</td>\n",
       "      <td>0.000000</td>\n",
       "      <td>0.107354</td>\n",
       "      <td>0.000000</td>\n",
       "      <td>0.000000</td>\n",
       "      <td>93.934514</td>\n",
       "      <td>1.449275</td>\n",
       "      <td>0.053677</td>\n",
       "      <td>3.381643</td>\n",
       "      <td>0.483092</td>\n",
       "    </tr>\n",
       "    <tr>\n",
       "      <th>SPAT+CARDINAL</th>\n",
       "      <td>0.000000</td>\n",
       "      <td>0.000000</td>\n",
       "      <td>0.000000</td>\n",
       "      <td>0.000000</td>\n",
       "      <td>0.000000</td>\n",
       "      <td>0.000000</td>\n",
       "      <td>0.268528</td>\n",
       "      <td>98.066595</td>\n",
       "      <td>0.000000</td>\n",
       "      <td>0.805585</td>\n",
       "      <td>0.859291</td>\n",
       "    </tr>\n",
       "    <tr>\n",
       "      <th>SPAT+FT</th>\n",
       "      <td>12.244898</td>\n",
       "      <td>10.204082</td>\n",
       "      <td>22.448980</td>\n",
       "      <td>0.000000</td>\n",
       "      <td>0.000000</td>\n",
       "      <td>0.000000</td>\n",
       "      <td>4.081633</td>\n",
       "      <td>4.081633</td>\n",
       "      <td>38.775510</td>\n",
       "      <td>4.081633</td>\n",
       "      <td>4.081633</td>\n",
       "    </tr>\n",
       "    <tr>\n",
       "      <th>SPAT+LOC</th>\n",
       "      <td>0.088048</td>\n",
       "      <td>0.363196</td>\n",
       "      <td>0.000000</td>\n",
       "      <td>0.000000</td>\n",
       "      <td>0.198107</td>\n",
       "      <td>0.000000</td>\n",
       "      <td>0.286155</td>\n",
       "      <td>0.055030</td>\n",
       "      <td>0.000000</td>\n",
       "      <td>98.822364</td>\n",
       "      <td>0.187101</td>\n",
       "    </tr>\n",
       "    <tr>\n",
       "      <th>O+O</th>\n",
       "      <td>22.395389</td>\n",
       "      <td>2.924851</td>\n",
       "      <td>2.092229</td>\n",
       "      <td>0.128096</td>\n",
       "      <td>5.700256</td>\n",
       "      <td>0.170794</td>\n",
       "      <td>0.512383</td>\n",
       "      <td>2.497865</td>\n",
       "      <td>0.128096</td>\n",
       "      <td>25.128096</td>\n",
       "      <td>38.321947</td>\n",
       "    </tr>\n",
       "  </tbody>\n",
       "</table>\n",
       "</div>"
      ],
      "text/plain": [
       "                   ACT+O     DESC+O   DESC+ACT  DESC+TITREP      PER+O  \\\n",
       "ACT+O          86.967768   6.904099   3.979308     0.000000   1.074413   \n",
       "DESC+O          7.338129  54.820144  34.604317     0.503597   0.791367   \n",
       "DESC+ACT        4.893617  17.659574  76.808511     0.000000   0.212766   \n",
       "DESC+TITREP     0.000000  50.000000   1.219512    47.560976   0.813008   \n",
       "PER+O           0.376432   0.507365   0.000000     0.000000  98.150573   \n",
       "PER+TITREH      0.000000   0.000000   0.000000     0.000000   4.545455   \n",
       "SPAT+O          0.053677   0.536769   0.000000     0.107354   0.000000   \n",
       "SPAT+CARDINAL   0.000000   0.000000   0.000000     0.000000   0.000000   \n",
       "SPAT+FT        12.244898  10.204082  22.448980     0.000000   0.000000   \n",
       "SPAT+LOC        0.088048   0.363196   0.000000     0.000000   0.198107   \n",
       "O+O            22.395389   2.924851   2.092229     0.128096   5.700256   \n",
       "\n",
       "               PER+TITREH     SPAT+O  SPAT+CARDINAL    SPAT+FT   SPAT+LOC  \\\n",
       "ACT+O            0.000000   0.000000       0.000000   0.059690   0.616793   \n",
       "DESC+O           0.000000   0.000000       0.000000   0.000000   1.294964   \n",
       "DESC+ACT         0.000000   0.000000       0.000000   0.000000   0.000000   \n",
       "DESC+TITREP      0.000000   0.000000       0.000000   0.000000   0.000000   \n",
       "PER+O            0.032733   0.000000       0.032733   0.000000   0.441899   \n",
       "PER+TITREH      69.318182   0.000000       0.000000   0.000000   0.000000   \n",
       "SPAT+O           0.000000  93.934514       1.449275   0.053677   3.381643   \n",
       "SPAT+CARDINAL    0.000000   0.268528      98.066595   0.000000   0.805585   \n",
       "SPAT+FT          0.000000   4.081633       4.081633  38.775510   4.081633   \n",
       "SPAT+LOC         0.000000   0.286155       0.055030   0.000000  98.822364   \n",
       "O+O              0.170794   0.512383       2.497865   0.128096  25.128096   \n",
       "\n",
       "                     O+O  \n",
       "ACT+O           0.397931  \n",
       "DESC+O          0.647482  \n",
       "DESC+ACT        0.425532  \n",
       "DESC+TITREP     0.406504  \n",
       "PER+O           0.458265  \n",
       "PER+TITREH     26.136364  \n",
       "SPAT+O          0.483092  \n",
       "SPAT+CARDINAL   0.859291  \n",
       "SPAT+FT         4.081633  \n",
       "SPAT+LOC        0.187101  \n",
       "O+O            38.321947  "
      ]
     },
     "execution_count": 59,
     "metadata": {},
     "output_type": "execute_result"
    }
   ],
   "source": [
    "flat_preds = []\n",
    "flat_labels = []\n",
    "for i in range(len(df)):\n",
    "    flat_preds += df[\"tags_preds\"][i]\n",
    "    flat_labels += df[\"tags_gold\"][i]\n",
    "flat_preds = pd.Series(flat_preds, name=\"Predictions\")\n",
    "flat_labels = pd.Series(flat_labels, name=\"Gold\")\n",
    "\n",
    "global_confusion = pd.crosstab(flat_labels, flat_preds,normalize='index').multiply(100., axis=1)\n",
    "global_confusion.columns = [\"ACT+O\",\"DESC+O\",\"DESC+ACT\",\"DESC+TITREP\",\"PER+O\",\"PER+TITREH\",\"SPAT+O\",\"SPAT+CARDINAL\",\"SPAT+FT\",\"SPAT+LOC\",\"O+O\"]\n",
    "global_confusion.index = [\"ACT+O\",\"DESC+O\",\"DESC+ACT\",\"DESC+TITREP\",\"PER+O\",\"PER+TITREH\",\"SPAT+O\",\"SPAT+CARDINAL\",\"SPAT+FT\",\"SPAT+LOC\",\"O+O\"]\n",
    "global_confusion"
   ]
  },
  {
   "cell_type": "code",
   "execution_count": 60,
   "id": "605f65eb",
   "metadata": {},
   "outputs": [
    {
     "name": "stdout",
     "output_type": "stream",
     "text": [
      "Confusion matrix of reference and predicted tokens types.\n",
      "Values are normalized by row (percentage of each reference classe and its resultants predictions)\n",
      "Last row represent percentage of each class in gold.\n"
     ]
    },
    {
     "data": {
      "image/png": "[encoded data removed]",
      "text/plain": [
       "<Figure size 2448x1152 with 1 Axes>"
      ]
     },
     "metadata": {
      "needs_background": "light"
     },
     "output_type": "display_data"
    }
   ],
   "source": [
    "import pandas as pd\n",
    "import numpy as np\n",
    "import matplotlib.pyplot as plt\n",
    "import seaborn as sns\n",
    "\n",
    "#Init figure\n",
    "plt.figure(figsize=(34, 16))\n",
    "\n",
    "#Create heatmap\n",
    "snsfig = sns.heatmap(\n",
    "    global_confusion, \n",
    "    annot = True, #Display labels\n",
    "    cmap=sns.color_palette(\"rocket_r\", as_cmap=True), #Color\n",
    "    fmt=\".1f\",\n",
    "    cbar=False,\n",
    "    annot_kws={\"fontsize\":40}\n",
    ")\n",
    "\n",
    "#Rename label axis and set their style\n",
    "plt.xlabel('Predictions',weight = 'bold',fontsize=35) # x-axis label with fontsize 15\n",
    "plt.ylabel('Gold',weight = 'bold',fontsize=35) # y-axis label with fontsize 15\n",
    "\n",
    "#Set x labels position to top\n",
    "snsfig.xaxis.tick_top()\n",
    "snsfig.xaxis.set_label_position('top')\n",
    "\n",
    "#Rotate y ticks horizontaly\n",
    "plt.yticks(rotation=0) \n",
    "\n",
    "#Change ticks size\n",
    "snsfig.set_xticklabels(snsfig.get_xmajorticklabels(), fontsize = 32)\n",
    "snsfig.set_yticklabels(snsfig.get_ymajorticklabels(), fontsize = 32)\n",
    "\n",
    "print(\"Confusion matrix of reference and predicted tokens types.\")\n",
    "print(\"Values are normalized by row (percentage of each reference classe and its resultants predictions)\")\n",
    "print(\"Last row represent percentage of each class in gold.\")\n",
    "\n",
    "plt.show()\n",
    "\n",
    "#Save figure\n",
    "fig = snsfig.get_figure()\n",
    "fig.tight_layout()\n",
    "fig.savefig(f\"./tokenscaleanalysis-{FORMAT}-{SET}.pdf\") "
   ]
  },
  {
   "cell_type": "markdown",
   "id": "b7f9342a",
   "metadata": {},
   "source": [
    "## Entry scale analysis"
   ]
  },
  {
   "cell_type": "markdown",
   "id": "987574e1",
   "metadata": {},
   "source": [
    "Please choose one entry giving its index to perform an entry scale analysis :"
   ]
  },
  {
   "cell_type": "code",
   "execution_count": 61,
   "id": "7ad6d020",
   "metadata": {},
   "outputs": [],
   "source": [
    "i = 15"
   ]
  },
  {
   "cell_type": "code",
   "execution_count": 62,
   "id": "cbca834a",
   "metadata": {
    "scrolled": true
   },
   "outputs": [
    {
     "name": "stdout",
     "output_type": "stream",
     "text": [
      "R H.  ",
      "Horang cadel ",
      "25. ",
      "Ghenet ",
      " ",
      " ",
      "du GFos- ",
      "E ",
      "&quot;\n",
      "<SPAT><LOC>R H.  ",
      "Horang cadel</LOC><CARDINAL> ",
      "25</CARDINAL><LOC>. ",
      "Ghenet ",
      " ",
      " ",
      "du GFos- ",
      "E</LOC><CARDINAL> ",
      "&amp;</CARDINAL></SPAT>quot;\n"
     ]
    }
   ],
   "source": [
    "print(df.iloc[i][\"entry\"])\n",
    "print(df.iloc[i][\"entry_xml\"])"
   ]
  },
  {
   "cell_type": "code",
   "execution_count": 63,
   "id": "5f8275b1",
   "metadata": {},
   "outputs": [
    {
     "name": "stdout",
     "output_type": "stream",
     "text": [
      "                 precision    recall  f1-score   support\n",
      "\n",
      "          PER+O       0.00      0.00      0.00         1\n",
      "SPAT+i_CARDINAL       0.00      0.00      0.00         1\n",
      "     SPAT+i_LOC       0.00      0.00      0.00         1\n",
      "\n",
      "      micro avg       0.00      0.00      0.00         3\n",
      "      macro avg       0.00      0.00      0.00         3\n",
      "   weighted avg       0.00      0.00      0.00         3\n",
      "\n"
     ]
    },
    {
     "name": "stderr",
     "output_type": "stream",
     "text": [
      "/lrde/home2/stual/.venv/python_3_9/lib/python3.10/site-packages/seqeval/metrics/sequence_labeling.py:171: UserWarning: O+O seems not to be NE tag.\n",
      "  warnings.warn('{} seems not to be NE tag.'.format(chunk))\n",
      "/lrde/home2/stual/.venv/python_3_9/lib/python3.10/site-packages/seqeval/metrics/v1.py:57: UndefinedMetricWarning: Precision and F-score are ill-defined and being set to 0.0 in labels with no predicted samples. Use `zero_division` parameter to control this behavior.\n",
      "  _warn_prf(average, modifier, msg_start, len(result))\n"
     ]
    }
   ],
   "source": [
    "from seqeval.metrics import classification_report\n",
    "\n",
    "y_preds = df.iloc[i][\"tags_preds\"]\n",
    "y_true = df.iloc[i][\"tags_gold\"]\n",
    "print(classification_report([y_true],[y_preds]))"
   ]
  },
  {
   "cell_type": "code",
   "execution_count": 64,
   "id": "c619eaf8",
   "metadata": {},
   "outputs": [
    {
     "data": {
      "text/html": [
       "<div>\n",
       "<style scoped>\n",
       "    .dataframe tbody tr th:only-of-type {\n",
       "        vertical-align: middle;\n",
       "    }\n",
       "\n",
       "    .dataframe tbody tr th {\n",
       "        vertical-align: top;\n",
       "    }\n",
       "\n",
       "    .dataframe thead th {\n",
       "        text-align: right;\n",
       "    }\n",
       "</style>\n",
       "<table border=\"1\" class=\"dataframe\">\n",
       "  <thead>\n",
       "    <tr style=\"text-align: right;\">\n",
       "      <th>Predictions</th>\n",
       "      <th>I-SPAT+i_CARDINAL</th>\n",
       "      <th>I-SPAT+i_LOC</th>\n",
       "      <th>O+O</th>\n",
       "    </tr>\n",
       "    <tr>\n",
       "      <th>Gold</th>\n",
       "      <th></th>\n",
       "      <th></th>\n",
       "      <th></th>\n",
       "    </tr>\n",
       "  </thead>\n",
       "  <tbody>\n",
       "    <tr>\n",
       "      <th>I-PER+O</th>\n",
       "      <td>1</td>\n",
       "      <td>9</td>\n",
       "      <td>0</td>\n",
       "    </tr>\n",
       "    <tr>\n",
       "      <th>I-SPAT+i_CARDINAL</th>\n",
       "      <td>1</td>\n",
       "      <td>0</td>\n",
       "      <td>2</td>\n",
       "    </tr>\n",
       "    <tr>\n",
       "      <th>I-SPAT+i_LOC</th>\n",
       "      <td>0</td>\n",
       "      <td>6</td>\n",
       "      <td>0</td>\n",
       "    </tr>\n",
       "    <tr>\n",
       "      <th>O+O</th>\n",
       "      <td>0</td>\n",
       "      <td>2</td>\n",
       "      <td>0</td>\n",
       "    </tr>\n",
       "  </tbody>\n",
       "</table>\n",
       "</div>"
      ],
      "text/plain": [
       "Predictions        I-SPAT+i_CARDINAL  I-SPAT+i_LOC  O+O\n",
       "Gold                                                   \n",
       "I-PER+O                            1             9    0\n",
       "I-SPAT+i_CARDINAL                  1             0    2\n",
       "I-SPAT+i_LOC                       0             6    0\n",
       "O+O                                0             2    0"
      ]
     },
     "execution_count": 64,
     "metadata": {},
     "output_type": "execute_result"
    }
   ],
   "source": [
    "import pandas as pd\n",
    "import numpy as np\n",
    "import matplotlib.pyplot as plt\n",
    "import seaborn as sns\n",
    "\n",
    "y_true = pd.Series(df[\"tags_gold\"].iloc[i], name='Gold')\n",
    "y_pred = pd.Series(df[\"tags_preds\"].iloc[i], name='Predictions')\n",
    "entry_confusion = pd.crosstab(y_true, y_pred)\n",
    "entry_confusion"
   ]
  },
  {
   "cell_type": "code",
   "execution_count": 65,
   "id": "582e2077",
   "metadata": {},
   "outputs": [
    {
     "name": "stdout",
     "output_type": "stream",
     "text": [
      "Confusion matrix of reference and predicted tokens types.\n"
     ]
    },
    {
     "data": {
      "image/png": "[encoded data removed]",
      "text/plain": [
       "<Figure size 432x288 with 1 Axes>"
      ]
     },
     "metadata": {
      "needs_background": "light"
     },
     "output_type": "display_data"
    }
   ],
   "source": [
    "#Create heatmap\n",
    "snsfig = sns.heatmap(\n",
    "    entry_confusion, \n",
    "    annot = True, #Display labels\n",
    "    cmap=sns.color_palette(\"rocket_r\", as_cmap=True), #Color\n",
    "    fmt=\"g\",\n",
    "    cbar=False,\n",
    "    annot_kws={\"fontsize\":30}\n",
    ")\n",
    "\n",
    "#Rename label axis and set their style\n",
    "plt.xlabel('Predictions',weight = 'bold',fontsize=25) # x-axis label with fontsize 15\n",
    "plt.ylabel('Gold',weight = 'bold',fontsize=25) # y-axis label with fontsize 15\n",
    "\n",
    "#Set x labels position to top\n",
    "snsfig.xaxis.tick_top()\n",
    "snsfig.xaxis.set_label_position('top')\n",
    "\n",
    "#Rotate y ticks horizontaly\n",
    "plt.yticks(rotation=0) \n",
    "\n",
    "#Change ticks size\n",
    "snsfig.set_xticklabels(snsfig.get_xmajorticklabels(), fontsize = 20)\n",
    "snsfig.set_yticklabels(snsfig.get_ymajorticklabels(), fontsize = 20)\n",
    "\n",
    "print(\"Confusion matrix of reference and predicted tokens types.\")\n",
    "\n",
    "plt.show()\n",
    "\n",
    "#Save figure\n",
    "fig = snsfig.get_figure()"
   ]
  },
  {
   "cell_type": "code",
   "execution_count": null,
   "id": "69962e26",
   "metadata": {},
   "outputs": [],
   "source": []
  }
 ],
 "metadata": {
  "kernelspec": {
   "display_name": "Python 3 (ipykernel)",
   "language": "python",
   "name": "python3"
  },
  "language_info": {
   "codemirror_mode": {
    "name": "ipython",
    "version": 3
   },
   "file_extension": ".py",
   "mimetype": "text/x-python",
   "name": "python",
   "nbconvert_exporter": "python",
   "pygments_lexer": "ipython3",
   "version": "3.10.8"
  }
 },
 "nbformat": 4,
 "nbformat_minor": 5
}
