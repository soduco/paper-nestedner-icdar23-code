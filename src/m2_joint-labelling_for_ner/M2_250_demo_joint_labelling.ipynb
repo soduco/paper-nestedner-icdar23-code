{
 "cells": [
  {
   "cell_type": "markdown",
   "id": "cda9d76b",
   "metadata": {},
   "source": [
    "# 270 : M2 Demo and qualitative analysis"
   ]
  },
  {
   "cell_type": "code",
   "execution_count": 1,
   "id": "8ff6c9e6",
   "metadata": {},
   "outputs": [
    {
     "name": "stdout",
     "output_type": "stream",
     "text": [
      "0\n"
     ]
    }
   ],
   "source": [
    "import os\n",
    "os.environ[\"CUDA_VISIBLE_DEVICES\"] = \"0\" #Numéro GPU\n",
    "print(os.environ[\"CUDA_VISIBLE_DEVICES\"])"
   ]
  },
  {
   "cell_type": "code",
   "execution_count": 2,
   "id": "da53ce29-cd5f-4295-ac93-2677c2d07034",
   "metadata": {},
   "outputs": [
    {
     "name": "stdout",
     "output_type": "stream",
     "text": [
      "['/lrde/home2/stual/stage_DAS/m2_joint-labelling_for_ner', '/usr/lib/python310.zip', '/usr/lib/python3.10', '/usr/lib/python3.10/lib-dynload', '', '/lrde/home2/stual/.venv/python_3_9/lib/python3.10/site-packages']\n",
      "/lrde/home2/stual/stage_DAS/m2_joint-labelling_for_ner\n",
      "/work/stual/dataset_ICDAR\n",
      "/work/stual/res_ICDAR/method_2\n"
     ]
    }
   ],
   "source": [
    "import os, sys\n",
    "from pathlib import Path\n",
    "\n",
    "ENV_IS_GOOGLE_COLAB = True if 'google.colab' in str(get_ipython()) else False\n",
    "os.environ[\"ENV_IS_GOOGLE_COLAB\"] = str(ENV_IS_GOOGLE_COLAB)\n",
    "\n",
    "if ENV_IS_GOOGLE_COLAB:\n",
    "  from google.colab import drive\n",
    "  mountpoint = Path(\"/content/drive\")\n",
    "  drive.mount(str(mountpoint)) # Mount gdrive to BASE\n",
    "  base = mountpoint / \"MyDrive\" # Adapt this to your situation\n",
    "  sys.path.append(str(base)) # Add BASE to Python Path\n",
    "  BASE = Path(base).resolve() # Make BASE absolute\n",
    "  DATASETS =  BASE / \"dataset\"\n",
    "else:\n",
    "  BASE = Path(os.path.dirname(os.path.realpath(\"__file__\"))).resolve() # If not on GColab, BASE will be the directory of this notebook\n",
    "  DATASETS = Path('/work/stual/dataset_ICDAR').resolve()\n",
    "  OUT_BASE = Path('/work/stual/res_ICDAR/method_2').resolve()\n",
    "\n",
    "print(sys.path)\n",
    "print(BASE)\n",
    "print(DATASETS)\n",
    "print(OUT_BASE)"
   ]
  },
  {
   "cell_type": "markdown",
   "id": "c2021c2a",
   "metadata": {},
   "source": [
    "### Constants"
   ]
  },
  {
   "cell_type": "code",
   "execution_count": 3,
   "id": "025d1f39",
   "metadata": {},
   "outputs": [
    {
     "data": {
      "text/plain": [
       "PosixPath('/work/stual/res_ICDAR/method_2/tmp/221-camembert-ner-joint-labelling-io/checkpoint-1800')"
      ]
     },
     "execution_count": 3,
     "metadata": {},
     "output_type": "execute_result"
    }
   ],
   "source": [
    "### Model to run\n",
    "MODEL_PATH = OUT_BASE / 'tmp'\n",
    "\n",
    "FINETUNED_MODEL = MODEL_PATH / \"221-camembert-ner-joint-labelling-io/checkpoint-1800\"\n",
    "FINETUNED_MODEL"
   ]
  },
  {
   "cell_type": "code",
   "execution_count": 4,
   "id": "4c5b00a0",
   "metadata": {},
   "outputs": [
    {
     "name": "stderr",
     "output_type": "stream",
     "text": [
      "2023-02-22 09:15:43.928319: I tensorflow/core/platform/cpu_feature_guard.cc:193] This TensorFlow binary is optimized with oneAPI Deep Neural Network Library (oneDNN) to use the following CPU instructions in performance-critical operations:  AVX2 FMA\n",
      "To enable them in other operations, rebuild TensorFlow with the appropriate compiler flags.\n",
      "2023-02-22 09:15:45.287235: W tensorflow/compiler/xla/stream_executor/platform/default/dso_loader.cc:64] Could not load dynamic library 'libnvinfer.so.7'; dlerror: libnvinfer.so.7: cannot open shared object file: No such file or directory\n",
      "2023-02-22 09:15:45.287334: W tensorflow/compiler/xla/stream_executor/platform/default/dso_loader.cc:64] Could not load dynamic library 'libnvinfer_plugin.so.7'; dlerror: libnvinfer_plugin.so.7: cannot open shared object file: No such file or directory\n",
      "2023-02-22 09:15:45.287344: W tensorflow/compiler/tf2tensorrt/utils/py_utils.cc:38] TF-TRT Warning: Cannot dlopen some TensorRT libraries. If you would like to use Nvidia GPU with TensorRT, please make sure the missing libraries mentioned above are installed properly.\n"
     ]
    },
    {
     "ename": "HFValidationError",
     "evalue": "Repo id must be in the form 'repo_name' or 'namespace/repo_name': '/work/stual/res_ICDAR/method_2/tmp/221-camembert-ner-joint-labelling-io/checkpoint-1800'. Use `repo_type` argument if needed.",
     "output_type": "error",
     "traceback": [
      "\u001b[0;31m---------------------------------------------------------------------------\u001b[0m",
      "\u001b[0;31mHFValidationError\u001b[0m                         Traceback (most recent call last)",
      "Input \u001b[0;32mIn [4]\u001b[0m, in \u001b[0;36m<cell line: 6>\u001b[0;34m()\u001b[0m\n\u001b[1;32m      2\u001b[0m \u001b[38;5;28;01mfrom\u001b[39;00m \u001b[38;5;21;01mtransformers\u001b[39;00m \u001b[38;5;28;01mimport\u001b[39;00m AutoTokenizer, AutoModelForTokenClassification, TokenClassificationPipeline\n\u001b[1;32m      4\u001b[0m LIMIT \u001b[38;5;241m=\u001b[39m \u001b[38;5;241m100\u001b[39m\n\u001b[0;32m----> 6\u001b[0m tokenizer \u001b[38;5;241m=\u001b[39m \u001b[43mAutoTokenizer\u001b[49m\u001b[38;5;241;43m.\u001b[39;49m\u001b[43mfrom_pretrained\u001b[49m\u001b[43m(\u001b[49m\u001b[43mFINETUNED_MODEL\u001b[49m\u001b[43m)\u001b[49m \u001b[38;5;66;03m#Param : tokenizer du modele souhaité\u001b[39;00m\n\u001b[1;32m      7\u001b[0m model \u001b[38;5;241m=\u001b[39m AutoModelForTokenClassification\u001b[38;5;241m.\u001b[39mfrom_pretrained(FINETUNED_MODEL) \u001b[38;5;66;03m#Modèle choisi\u001b[39;00m\n\u001b[1;32m      9\u001b[0m \u001b[38;5;66;03m#Classification des entités\u001b[39;00m\n",
      "File \u001b[0;32m~/.venv/python_3_9/lib/python3.10/site-packages/transformers/models/auto/tokenization_auto.py:582\u001b[0m, in \u001b[0;36mAutoTokenizer.from_pretrained\u001b[0;34m(cls, pretrained_model_name_or_path, *inputs, **kwargs)\u001b[0m\n\u001b[1;32m    579\u001b[0m     \u001b[38;5;28;01mreturn\u001b[39;00m tokenizer_class\u001b[38;5;241m.\u001b[39mfrom_pretrained(pretrained_model_name_or_path, \u001b[38;5;241m*\u001b[39minputs, \u001b[38;5;241m*\u001b[39m\u001b[38;5;241m*\u001b[39mkwargs)\n\u001b[1;32m    581\u001b[0m \u001b[38;5;66;03m# Next, let's try to use the tokenizer_config file to get the tokenizer class.\u001b[39;00m\n\u001b[0;32m--> 582\u001b[0m tokenizer_config \u001b[38;5;241m=\u001b[39m \u001b[43mget_tokenizer_config\u001b[49m\u001b[43m(\u001b[49m\u001b[43mpretrained_model_name_or_path\u001b[49m\u001b[43m,\u001b[49m\u001b[43m \u001b[49m\u001b[38;5;241;43m*\u001b[39;49m\u001b[38;5;241;43m*\u001b[39;49m\u001b[43mkwargs\u001b[49m\u001b[43m)\u001b[49m\n\u001b[1;32m    583\u001b[0m \u001b[38;5;28;01mif\u001b[39;00m \u001b[38;5;124m\"\u001b[39m\u001b[38;5;124m_commit_hash\u001b[39m\u001b[38;5;124m\"\u001b[39m \u001b[38;5;129;01min\u001b[39;00m tokenizer_config:\n\u001b[1;32m    584\u001b[0m     kwargs[\u001b[38;5;124m\"\u001b[39m\u001b[38;5;124m_commit_hash\u001b[39m\u001b[38;5;124m\"\u001b[39m] \u001b[38;5;241m=\u001b[39m tokenizer_config[\u001b[38;5;124m\"\u001b[39m\u001b[38;5;124m_commit_hash\u001b[39m\u001b[38;5;124m\"\u001b[39m]\n",
      "File \u001b[0;32m~/.venv/python_3_9/lib/python3.10/site-packages/transformers/models/auto/tokenization_auto.py:433\u001b[0m, in \u001b[0;36mget_tokenizer_config\u001b[0;34m(pretrained_model_name_or_path, cache_dir, force_download, resume_download, proxies, use_auth_token, revision, local_files_only, subfolder, **kwargs)\u001b[0m\n\u001b[1;32m    371\u001b[0m \u001b[38;5;124;03m\"\"\"\u001b[39;00m\n\u001b[1;32m    372\u001b[0m \u001b[38;5;124;03mLoads the tokenizer configuration from a pretrained model tokenizer configuration.\u001b[39;00m\n\u001b[1;32m    373\u001b[0m \n\u001b[0;32m   (...)\u001b[0m\n\u001b[1;32m    430\u001b[0m \u001b[38;5;124;03mtokenizer_config = get_tokenizer_config(\"tokenizer-test\")\u001b[39;00m\n\u001b[1;32m    431\u001b[0m \u001b[38;5;124;03m```\"\"\"\u001b[39;00m\n\u001b[1;32m    432\u001b[0m commit_hash \u001b[38;5;241m=\u001b[39m kwargs\u001b[38;5;241m.\u001b[39mget(\u001b[38;5;124m\"\u001b[39m\u001b[38;5;124m_commit_hash\u001b[39m\u001b[38;5;124m\"\u001b[39m, \u001b[38;5;28;01mNone\u001b[39;00m)\n\u001b[0;32m--> 433\u001b[0m resolved_config_file \u001b[38;5;241m=\u001b[39m \u001b[43mcached_file\u001b[49m\u001b[43m(\u001b[49m\n\u001b[1;32m    434\u001b[0m \u001b[43m    \u001b[49m\u001b[43mpretrained_model_name_or_path\u001b[49m\u001b[43m,\u001b[49m\n\u001b[1;32m    435\u001b[0m \u001b[43m    \u001b[49m\u001b[43mTOKENIZER_CONFIG_FILE\u001b[49m\u001b[43m,\u001b[49m\n\u001b[1;32m    436\u001b[0m \u001b[43m    \u001b[49m\u001b[43mcache_dir\u001b[49m\u001b[38;5;241;43m=\u001b[39;49m\u001b[43mcache_dir\u001b[49m\u001b[43m,\u001b[49m\n\u001b[1;32m    437\u001b[0m \u001b[43m    \u001b[49m\u001b[43mforce_download\u001b[49m\u001b[38;5;241;43m=\u001b[39;49m\u001b[43mforce_download\u001b[49m\u001b[43m,\u001b[49m\n\u001b[1;32m    438\u001b[0m \u001b[43m    \u001b[49m\u001b[43mresume_download\u001b[49m\u001b[38;5;241;43m=\u001b[39;49m\u001b[43mresume_download\u001b[49m\u001b[43m,\u001b[49m\n\u001b[1;32m    439\u001b[0m \u001b[43m    \u001b[49m\u001b[43mproxies\u001b[49m\u001b[38;5;241;43m=\u001b[39;49m\u001b[43mproxies\u001b[49m\u001b[43m,\u001b[49m\n\u001b[1;32m    440\u001b[0m \u001b[43m    \u001b[49m\u001b[43muse_auth_token\u001b[49m\u001b[38;5;241;43m=\u001b[39;49m\u001b[43muse_auth_token\u001b[49m\u001b[43m,\u001b[49m\n\u001b[1;32m    441\u001b[0m \u001b[43m    \u001b[49m\u001b[43mrevision\u001b[49m\u001b[38;5;241;43m=\u001b[39;49m\u001b[43mrevision\u001b[49m\u001b[43m,\u001b[49m\n\u001b[1;32m    442\u001b[0m \u001b[43m    \u001b[49m\u001b[43mlocal_files_only\u001b[49m\u001b[38;5;241;43m=\u001b[39;49m\u001b[43mlocal_files_only\u001b[49m\u001b[43m,\u001b[49m\n\u001b[1;32m    443\u001b[0m \u001b[43m    \u001b[49m\u001b[43msubfolder\u001b[49m\u001b[38;5;241;43m=\u001b[39;49m\u001b[43msubfolder\u001b[49m\u001b[43m,\u001b[49m\n\u001b[1;32m    444\u001b[0m \u001b[43m    \u001b[49m\u001b[43m_raise_exceptions_for_missing_entries\u001b[49m\u001b[38;5;241;43m=\u001b[39;49m\u001b[38;5;28;43;01mFalse\u001b[39;49;00m\u001b[43m,\u001b[49m\n\u001b[1;32m    445\u001b[0m \u001b[43m    \u001b[49m\u001b[43m_raise_exceptions_for_connection_errors\u001b[49m\u001b[38;5;241;43m=\u001b[39;49m\u001b[38;5;28;43;01mFalse\u001b[39;49;00m\u001b[43m,\u001b[49m\n\u001b[1;32m    446\u001b[0m \u001b[43m    \u001b[49m\u001b[43m_commit_hash\u001b[49m\u001b[38;5;241;43m=\u001b[39;49m\u001b[43mcommit_hash\u001b[49m\u001b[43m,\u001b[49m\n\u001b[1;32m    447\u001b[0m \u001b[43m\u001b[49m\u001b[43m)\u001b[49m\n\u001b[1;32m    448\u001b[0m \u001b[38;5;28;01mif\u001b[39;00m resolved_config_file \u001b[38;5;129;01mis\u001b[39;00m \u001b[38;5;28;01mNone\u001b[39;00m:\n\u001b[1;32m    449\u001b[0m     logger\u001b[38;5;241m.\u001b[39minfo(\u001b[38;5;124m\"\u001b[39m\u001b[38;5;124mCould not locate the tokenizer configuration file, will try to use the model config instead.\u001b[39m\u001b[38;5;124m\"\u001b[39m)\n",
      "File \u001b[0;32m~/.venv/python_3_9/lib/python3.10/site-packages/transformers/utils/hub.py:409\u001b[0m, in \u001b[0;36mcached_file\u001b[0;34m(path_or_repo_id, filename, cache_dir, force_download, resume_download, proxies, use_auth_token, revision, local_files_only, subfolder, user_agent, _raise_exceptions_for_missing_entries, _raise_exceptions_for_connection_errors, _commit_hash)\u001b[0m\n\u001b[1;32m    406\u001b[0m user_agent \u001b[38;5;241m=\u001b[39m http_user_agent(user_agent)\n\u001b[1;32m    407\u001b[0m \u001b[38;5;28;01mtry\u001b[39;00m:\n\u001b[1;32m    408\u001b[0m     \u001b[38;5;66;03m# Load from URL or cache if already cached\u001b[39;00m\n\u001b[0;32m--> 409\u001b[0m     resolved_file \u001b[38;5;241m=\u001b[39m \u001b[43mhf_hub_download\u001b[49m\u001b[43m(\u001b[49m\n\u001b[1;32m    410\u001b[0m \u001b[43m        \u001b[49m\u001b[43mpath_or_repo_id\u001b[49m\u001b[43m,\u001b[49m\n\u001b[1;32m    411\u001b[0m \u001b[43m        \u001b[49m\u001b[43mfilename\u001b[49m\u001b[43m,\u001b[49m\n\u001b[1;32m    412\u001b[0m \u001b[43m        \u001b[49m\u001b[43msubfolder\u001b[49m\u001b[38;5;241;43m=\u001b[39;49m\u001b[38;5;28;43;01mNone\u001b[39;49;00m\u001b[43m \u001b[49m\u001b[38;5;28;43;01mif\u001b[39;49;00m\u001b[43m \u001b[49m\u001b[38;5;28;43mlen\u001b[39;49m\u001b[43m(\u001b[49m\u001b[43msubfolder\u001b[49m\u001b[43m)\u001b[49m\u001b[43m \u001b[49m\u001b[38;5;241;43m==\u001b[39;49m\u001b[43m \u001b[49m\u001b[38;5;241;43m0\u001b[39;49m\u001b[43m \u001b[49m\u001b[38;5;28;43;01melse\u001b[39;49;00m\u001b[43m \u001b[49m\u001b[43msubfolder\u001b[49m\u001b[43m,\u001b[49m\n\u001b[1;32m    413\u001b[0m \u001b[43m        \u001b[49m\u001b[43mrevision\u001b[49m\u001b[38;5;241;43m=\u001b[39;49m\u001b[43mrevision\u001b[49m\u001b[43m,\u001b[49m\n\u001b[1;32m    414\u001b[0m \u001b[43m        \u001b[49m\u001b[43mcache_dir\u001b[49m\u001b[38;5;241;43m=\u001b[39;49m\u001b[43mcache_dir\u001b[49m\u001b[43m,\u001b[49m\n\u001b[1;32m    415\u001b[0m \u001b[43m        \u001b[49m\u001b[43muser_agent\u001b[49m\u001b[38;5;241;43m=\u001b[39;49m\u001b[43muser_agent\u001b[49m\u001b[43m,\u001b[49m\n\u001b[1;32m    416\u001b[0m \u001b[43m        \u001b[49m\u001b[43mforce_download\u001b[49m\u001b[38;5;241;43m=\u001b[39;49m\u001b[43mforce_download\u001b[49m\u001b[43m,\u001b[49m\n\u001b[1;32m    417\u001b[0m \u001b[43m        \u001b[49m\u001b[43mproxies\u001b[49m\u001b[38;5;241;43m=\u001b[39;49m\u001b[43mproxies\u001b[49m\u001b[43m,\u001b[49m\n\u001b[1;32m    418\u001b[0m \u001b[43m        \u001b[49m\u001b[43mresume_download\u001b[49m\u001b[38;5;241;43m=\u001b[39;49m\u001b[43mresume_download\u001b[49m\u001b[43m,\u001b[49m\n\u001b[1;32m    419\u001b[0m \u001b[43m        \u001b[49m\u001b[43muse_auth_token\u001b[49m\u001b[38;5;241;43m=\u001b[39;49m\u001b[43muse_auth_token\u001b[49m\u001b[43m,\u001b[49m\n\u001b[1;32m    420\u001b[0m \u001b[43m        \u001b[49m\u001b[43mlocal_files_only\u001b[49m\u001b[38;5;241;43m=\u001b[39;49m\u001b[43mlocal_files_only\u001b[49m\u001b[43m,\u001b[49m\n\u001b[1;32m    421\u001b[0m \u001b[43m    \u001b[49m\u001b[43m)\u001b[49m\n\u001b[1;32m    423\u001b[0m \u001b[38;5;28;01mexcept\u001b[39;00m RepositoryNotFoundError:\n\u001b[1;32m    424\u001b[0m     \u001b[38;5;28;01mraise\u001b[39;00m \u001b[38;5;167;01mEnvironmentError\u001b[39;00m(\n\u001b[1;32m    425\u001b[0m         \u001b[38;5;124mf\u001b[39m\u001b[38;5;124m\"\u001b[39m\u001b[38;5;132;01m{\u001b[39;00mpath_or_repo_id\u001b[38;5;132;01m}\u001b[39;00m\u001b[38;5;124m is not a local folder and is not a valid model identifier \u001b[39m\u001b[38;5;124m\"\u001b[39m\n\u001b[1;32m    426\u001b[0m         \u001b[38;5;124m\"\u001b[39m\u001b[38;5;124mlisted on \u001b[39m\u001b[38;5;124m'\u001b[39m\u001b[38;5;124mhttps://huggingface.co/models\u001b[39m\u001b[38;5;124m'\u001b[39m\u001b[38;5;130;01m\\n\u001b[39;00m\u001b[38;5;124mIf this is a private repository, make sure to \u001b[39m\u001b[38;5;124m\"\u001b[39m\n\u001b[1;32m    427\u001b[0m         \u001b[38;5;124m\"\u001b[39m\u001b[38;5;124mpass a token having permission to this repo with `use_auth_token` or log in with \u001b[39m\u001b[38;5;124m\"\u001b[39m\n\u001b[1;32m    428\u001b[0m         \u001b[38;5;124m\"\u001b[39m\u001b[38;5;124m`huggingface-cli login` and pass `use_auth_token=True`.\u001b[39m\u001b[38;5;124m\"\u001b[39m\n\u001b[1;32m    429\u001b[0m     )\n",
      "File \u001b[0;32m~/.venv/python_3_9/lib/python3.10/site-packages/huggingface_hub/utils/_validators.py:114\u001b[0m, in \u001b[0;36mvalidate_hf_hub_args.<locals>._inner_fn\u001b[0;34m(*args, **kwargs)\u001b[0m\n\u001b[1;32m    109\u001b[0m \u001b[38;5;28;01mfor\u001b[39;00m arg_name, arg_value \u001b[38;5;129;01min\u001b[39;00m chain(\n\u001b[1;32m    110\u001b[0m     \u001b[38;5;28mzip\u001b[39m(signature\u001b[38;5;241m.\u001b[39mparameters, args),  \u001b[38;5;66;03m# Args values\u001b[39;00m\n\u001b[1;32m    111\u001b[0m     kwargs\u001b[38;5;241m.\u001b[39mitems(),  \u001b[38;5;66;03m# Kwargs values\u001b[39;00m\n\u001b[1;32m    112\u001b[0m ):\n\u001b[1;32m    113\u001b[0m     \u001b[38;5;28;01mif\u001b[39;00m arg_name \u001b[38;5;241m==\u001b[39m \u001b[38;5;124m\"\u001b[39m\u001b[38;5;124mrepo_id\u001b[39m\u001b[38;5;124m\"\u001b[39m:\n\u001b[0;32m--> 114\u001b[0m         \u001b[43mvalidate_repo_id\u001b[49m\u001b[43m(\u001b[49m\u001b[43marg_value\u001b[49m\u001b[43m)\u001b[49m\n\u001b[1;32m    116\u001b[0m     \u001b[38;5;28;01melif\u001b[39;00m arg_name \u001b[38;5;241m==\u001b[39m \u001b[38;5;124m\"\u001b[39m\u001b[38;5;124mtoken\u001b[39m\u001b[38;5;124m\"\u001b[39m \u001b[38;5;129;01mand\u001b[39;00m arg_value \u001b[38;5;129;01mis\u001b[39;00m \u001b[38;5;129;01mnot\u001b[39;00m \u001b[38;5;28;01mNone\u001b[39;00m:\n\u001b[1;32m    117\u001b[0m         has_token \u001b[38;5;241m=\u001b[39m \u001b[38;5;28;01mTrue\u001b[39;00m\n",
      "File \u001b[0;32m~/.venv/python_3_9/lib/python3.10/site-packages/huggingface_hub/utils/_validators.py:166\u001b[0m, in \u001b[0;36mvalidate_repo_id\u001b[0;34m(repo_id)\u001b[0m\n\u001b[1;32m    161\u001b[0m     \u001b[38;5;28;01mraise\u001b[39;00m HFValidationError(\n\u001b[1;32m    162\u001b[0m         \u001b[38;5;124mf\u001b[39m\u001b[38;5;124m\"\u001b[39m\u001b[38;5;124mRepo id must be a string, not \u001b[39m\u001b[38;5;132;01m{\u001b[39;00m\u001b[38;5;28mtype\u001b[39m(repo_id)\u001b[38;5;132;01m}\u001b[39;00m\u001b[38;5;124m: \u001b[39m\u001b[38;5;124m'\u001b[39m\u001b[38;5;132;01m{\u001b[39;00mrepo_id\u001b[38;5;132;01m}\u001b[39;00m\u001b[38;5;124m'\u001b[39m\u001b[38;5;124m.\u001b[39m\u001b[38;5;124m\"\u001b[39m\n\u001b[1;32m    163\u001b[0m     )\n\u001b[1;32m    165\u001b[0m \u001b[38;5;28;01mif\u001b[39;00m repo_id\u001b[38;5;241m.\u001b[39mcount(\u001b[38;5;124m\"\u001b[39m\u001b[38;5;124m/\u001b[39m\u001b[38;5;124m\"\u001b[39m) \u001b[38;5;241m>\u001b[39m \u001b[38;5;241m1\u001b[39m:\n\u001b[0;32m--> 166\u001b[0m     \u001b[38;5;28;01mraise\u001b[39;00m HFValidationError(\n\u001b[1;32m    167\u001b[0m         \u001b[38;5;124m\"\u001b[39m\u001b[38;5;124mRepo id must be in the form \u001b[39m\u001b[38;5;124m'\u001b[39m\u001b[38;5;124mrepo_name\u001b[39m\u001b[38;5;124m'\u001b[39m\u001b[38;5;124m or \u001b[39m\u001b[38;5;124m'\u001b[39m\u001b[38;5;124mnamespace/repo_name\u001b[39m\u001b[38;5;124m'\u001b[39m\u001b[38;5;124m:\u001b[39m\u001b[38;5;124m\"\u001b[39m\n\u001b[1;32m    168\u001b[0m         \u001b[38;5;124mf\u001b[39m\u001b[38;5;124m\"\u001b[39m\u001b[38;5;124m \u001b[39m\u001b[38;5;124m'\u001b[39m\u001b[38;5;132;01m{\u001b[39;00mrepo_id\u001b[38;5;132;01m}\u001b[39;00m\u001b[38;5;124m'\u001b[39m\u001b[38;5;124m. Use `repo_type` argument if needed.\u001b[39m\u001b[38;5;124m\"\u001b[39m\n\u001b[1;32m    169\u001b[0m     )\n\u001b[1;32m    171\u001b[0m \u001b[38;5;28;01mif\u001b[39;00m \u001b[38;5;129;01mnot\u001b[39;00m REPO_ID_REGEX\u001b[38;5;241m.\u001b[39mmatch(repo_id):\n\u001b[1;32m    172\u001b[0m     \u001b[38;5;28;01mraise\u001b[39;00m HFValidationError(\n\u001b[1;32m    173\u001b[0m         \u001b[38;5;124m\"\u001b[39m\u001b[38;5;124mRepo id must use alphanumeric chars or \u001b[39m\u001b[38;5;124m'\u001b[39m\u001b[38;5;124m-\u001b[39m\u001b[38;5;124m'\u001b[39m\u001b[38;5;124m, \u001b[39m\u001b[38;5;124m'\u001b[39m\u001b[38;5;124m_\u001b[39m\u001b[38;5;124m'\u001b[39m\u001b[38;5;124m, \u001b[39m\u001b[38;5;124m'\u001b[39m\u001b[38;5;124m.\u001b[39m\u001b[38;5;124m'\u001b[39m\u001b[38;5;124m, \u001b[39m\u001b[38;5;124m'\u001b[39m\u001b[38;5;124m--\u001b[39m\u001b[38;5;124m'\u001b[39m\u001b[38;5;124m and \u001b[39m\u001b[38;5;124m'\u001b[39m\u001b[38;5;124m..\u001b[39m\u001b[38;5;124m'\u001b[39m\u001b[38;5;124m are\u001b[39m\u001b[38;5;124m\"\u001b[39m\n\u001b[1;32m    174\u001b[0m         \u001b[38;5;124m\"\u001b[39m\u001b[38;5;124m forbidden, \u001b[39m\u001b[38;5;124m'\u001b[39m\u001b[38;5;124m-\u001b[39m\u001b[38;5;124m'\u001b[39m\u001b[38;5;124m and \u001b[39m\u001b[38;5;124m'\u001b[39m\u001b[38;5;124m.\u001b[39m\u001b[38;5;124m'\u001b[39m\u001b[38;5;124m cannot start or end the name, max length is 96:\u001b[39m\u001b[38;5;124m\"\u001b[39m\n\u001b[1;32m    175\u001b[0m         \u001b[38;5;124mf\u001b[39m\u001b[38;5;124m\"\u001b[39m\u001b[38;5;124m \u001b[39m\u001b[38;5;124m'\u001b[39m\u001b[38;5;132;01m{\u001b[39;00mrepo_id\u001b[38;5;132;01m}\u001b[39;00m\u001b[38;5;124m'\u001b[39m\u001b[38;5;124m.\u001b[39m\u001b[38;5;124m\"\u001b[39m\n\u001b[1;32m    176\u001b[0m     )\n",
      "\u001b[0;31mHFValidationError\u001b[0m: Repo id must be in the form 'repo_name' or 'namespace/repo_name': '/work/stual/res_ICDAR/method_2/tmp/221-camembert-ner-joint-labelling-io/checkpoint-1800'. Use `repo_type` argument if needed."
     ]
    }
   ],
   "source": [
    "from transformers import pipeline\n",
    "from transformers import AutoTokenizer, AutoModelForTokenClassification, TokenClassificationPipeline\n",
    "\n",
    "LIMIT = 100\n",
    "\n",
    "tokenizer = AutoTokenizer.from_pretrained(FINETUNED_MODEL) #Param : tokenizer du modele souhaité\n",
    "model = AutoModelForTokenClassification.from_pretrained(FINETUNED_MODEL) #Modèle choisi\n",
    "\n",
    "#Classification des entités\n",
    "nlp = pipeline('ner', model=model, tokenizer=tokenizer, aggregation_strategy=None, use_fast=True)"
   ]
  },
  {
   "cell_type": "markdown",
   "id": "c22e5910",
   "metadata": {},
   "source": [
    "### Examples"
   ]
  },
  {
   "cell_type": "code",
   "execution_count": 7,
   "id": "f9ecab43-7166-4e97-9ff4-151e88f457f6",
   "metadata": {},
   "outputs": [],
   "source": [
    "samples = \"\"\"\n",
    "☞ ",
    " ",
    "T ",
    "Dufant (Victor), libraire, r. du Gros-Che- ",
    "net. 2. ",
    "JO \\n\n",
    "Dutay, essayeur du commerce, place Dau- ",
    " ",
    "- ",
    "píině, 5. ",
    "DOB \\n\n",
    "Dulay, chandronnier, r. du Pont- aux- ",
    "Chuux, 15. ",
    "SI \\n\n",
    "Dufay (V.e), grenetière, r. du Fauh.-S. ",
    "Denis, 20. ",
    "372 \\n\n",
    "Y ",
    "☞ ",
    "Dnten,charentier, 1. Montmartre, 89. 318 \\n\n",
    "Dufey fils, bijoutier, passage de la Réunion ",
    "A \\n\n",
    "Dnley, boucher, r. S.&quot;Louis-au-Marais,3. ",
    "* \\n\n",
    "☞ ",
    "Duffand, bijonteer, r. S.-Martin, 107. 284 \\n\n",
    "Duftaud, maçon, r. S-Honore ",
    " ",
    "353. ",
    "O \\n\n",
    "Dullaut, chandronnier, r. de la Sourdière ",
    "I- ( ",
    "☞T4 \\n\n",
    "lukils. limonauier, 1. des Colonnes, 6. J9 \\n\n",
    "— ",
    "T ",
    "Dullocu, architecte, r. Basse-Porte-S.De- ",
    "— ",
    "Ris, 28. \\n\n",
    "Duflot, loueur de carrosses, r. de Paradis- ",
    "505 ",
    "Poissonnière, 22. \\n\n",
    "Dufort, bottier, Palais-R., gal. vitrée, 215. ",
    "A \\n\n",
    "Dufort fils, bottier (exp. 1819.), r. J.-J.. ",
    "Rousscan. 18. ",
    "290 \\n\n",
    "* ",
    "Dufort, tabletier, r. Jean-Pain-Mollet, 10. ",
    "4O \\n\n",
    "Dufossé, teiniurier, r. du Faub.-Montmar- ",
    "tre , 63. ",
    "483 \\n\n",
    "Duſour el Besnard, march, de bois à bruler, ",
    "quai de la Tournelle, 17. etr. des Fossés- ",
    "SBernard. 11. ",
    "Dí \\n\n",
    "Dufour jeune, march, de bois à brüler ",
    "de la Pépinière, 53. ",
    "7 r. \\n\n",
    "Dufour (Mad.), march. de chapeaux de ",
    "paitle, passage dn Panorama, 11. ",
    "IO \\n\n",
    "Dutour, thapelier, r. S.-Honore ",
    "383. 3og \\n\n",
    "Dufour, cirier, r. de PArbre-Sec, 6o. ",
    "316 \\n\n",
    "Dufour et co., commiss., r. des Contures- ",
    " ",
    "DAO ",
    "S. Dervajs, 18. \\n\n",
    "Dulour, corropeir, 1. des Vertusy1d 3 \\n\n",
    "Dufour (Charles), épicier, r. S.-Denis, ",
    "Jo7. ",
    "☞ ",
    "332 \\n\n",
    "Dufour, fab. d&apos;éventails (erp. 1819) ",
    "Beaubourg, 48. ",
    " ",
    "360 \\n\n",
    "Dufour, faiencter, r. S.-Anne , 50. ",
    "302 \\n\n",
    "Dufour, ",
    "A. Sarnt,r. Ventadour, ",
    "☞7 \\n\n",
    "Dufour (Gabriel), libraire, r. de Vaugirard, ",
    "A \\n\n",
    "Dufour, maçon, r. S.-Jean-Baptiste, 4 402 \\n\n",
    "Dufour, architecte, r. de Chartres-S.-Ho- ",
    "2781 40a ",
    "nore, 12. (Elig.) \\n\n",
    "Dufour (Mad.), nouveautes, 1. Neuve-des- ",
    "H12 ",
    "Petits-Champs, 4. \\n\n",
    "Dufour Chabrol, papetier, r. S.-Martin ",
    "☞ ",
    "4 \\n\n",
    "Dufour (J.) et co,, fab. de papiers peints, ",
    "((1819); r. Beauvean-S. Antoine, 19. \\n\n",
    "Waring et Gillow Limited, ameublements an- ",
    "glais, éctairage électrique et appareils sa- ",
    "nitaires, r. Glück, 8 et boul. Haussmann, ",
    "31, TELÉPH] 244.45; succursale, r. Bleue, 7. ",
    "WARISON�PARIS. ",
    "TĚLÉPH 244.40. Adr.\\n\n",
    "Barruel (Paul), fabr. de produis chimiques ",
    "et de siccatif zumatique, adjoint au maire ",
    "du 15e arrond., \n",
    "Alleray, 70; dépót chez H. ",
    "Suillot sle-Croix-de-la-Bretonnerič. 21 \\n\n",
    "Marchand (Mme) née Louise Scelle, en gros et détail, r. ",
    "77, et à Bercy, r. de Bourgogne, 25. ",
    "d'Enfer, \\n\n",
    "Very (A.). ingenieur-constructeur, r. d'Angou- ",
    "lême, 66, cité d'Angouléme, 6. TĚLÉPH 420.82. \\n\n",
    "Vacherie de Royaumont, Brémontler. ",
    "16; Chaussée-d'Antin, 68; Phals- ",
    "bourg, 3 ; blv. Poissonnière, 1, et blv. ",
    "St-Martin, 15. \\n\n",
    "Budan, inspect.-gén. des études, r. Charlot. 18 (au Marais). \\n\n",
    "\"\"\""
   ]
  },
  {
   "cell_type": "code",
   "execution_count": 9,
   "id": "07da614f",
   "metadata": {
    "scrolled": false
   },
   "outputs": [
    {
     "name": "stdout",
     "output_type": "stream",
     "text": [
      "☞ ",
      " ",
      "T ",
      "Dufant (Victor), libraire, r. du Gros-Che- ",
      "net. 2. ",
      "JO \n",
      "[{'entity': 'O+O', 'score': 0.99571, 'index': 1, 'word': '▁', 'start': 0, 'end': 1}, {'entity': 'O+O', 'score': 0.99648464, 'index': 2, 'word': '☞', 'start': 0, 'end': 1}, {'entity': 'O+O', 'score': 0.9963676, 'index': 3, 'word': '▁T', 'start': 2, 'end': 4}, {'entity': 'I-PER+O', 'score': 0.99819547, 'index': 4, 'word': '▁Du', 'start': 4, 'end': 7}, {'entity': 'I-PER+O', 'score': 0.9981883, 'index': 5, 'word': 'fant', 'start': 7, 'end': 11}, {'entity': 'I-PER+O', 'score': 0.998181, 'index': 6, 'word': '▁(', 'start': 11, 'end': 13}, {'entity': 'I-PER+O', 'score': 0.9981736, 'index': 7, 'word': 'Vi', 'start': 13, 'end': 15}, {'entity': 'I-PER+O', 'score': 0.9981623, 'index': 8, 'word': 'ctor', 'start': 15, 'end': 19}, {'entity': 'O+O', 'score': 0.9929508, 'index': 9, 'word': '),', 'start': 19, 'end': 21}, {'entity': 'I-ACT+O', 'score': 0.9947491, 'index': 10, 'word': '▁libraire', 'start': 21, 'end': 30}, {'entity': 'O+O', 'score': 0.99617743, 'index': 11, 'word': ',', 'start': 30, 'end': 31}, {'entity': 'I-SPAT+i_LOC', 'score': 0.99821657, 'index': 12, 'word': '▁r', 'start': 31, 'end': 33}, {'entity': 'I-SPAT+i_LOC', 'score': 0.998198, 'index': 13, 'word': '.', 'start': 33, 'end': 34}, {'entity': 'I-SPAT+i_LOC', 'score': 0.9982173, 'index': 14, 'word': '▁du', 'start': 34, 'end': 37}, {'entity': 'I-SPAT+i_LOC', 'score': 0.9982048, 'index': 15, 'word': '▁Gros', 'start': 37, 'end': 42}, {'entity': 'I-SPAT+i_LOC', 'score': 0.99820817, 'index': 16, 'word': '-', 'start': 42, 'end': 43}, {'entity': 'I-SPAT+i_LOC', 'score': 0.9981579, 'index': 17, 'word': 'Ch', 'start': 43, 'end': 45}, {'entity': 'I-SPAT+i_LOC', 'score': 0.9981647, 'index': 18, 'word': 'e', 'start': 45, 'end': 46}, {'entity': 'I-SPAT+i_LOC', 'score': 0.99801207, 'index': 19, 'word': '-', 'start': 46, 'end': 47}, {'entity': 'I-SPAT+i_LOC', 'score': 0.9980817, 'index': 20, 'word': '▁net', 'start': 47, 'end': 51}, {'entity': 'O+O', 'score': 0.4346289, 'index': 21, 'word': '.', 'start': 51, 'end': 52}, {'entity': 'O+O', 'score': 0.7604905, 'index': 22, 'word': '▁2', 'start': 52, 'end': 54}, {'entity': 'O+O', 'score': 0.9884843, 'index': 23, 'word': '.', 'start': 54, 'end': 55}, {'entity': 'O+O', 'score': 0.9913681, 'index': 24, 'word': '▁JO', 'start': 55, 'end': 58}, {'entity': 'O+O', 'score': 0.9944733, 'index': 25, 'word': '▁', 'start': 58, 'end': 59}]\n",
      "☞ ",
      " ",
      "T<PER> ",
      "Dufant (Victor</PER>),<ACT> libraire</ACT>,<SPAT><LOC> r. du Gros-Che- ",
      "net</LOC></SPAT>. 2. ",
      "JO \n",
      "\n",
      "Dutay, essayeur du commerce, place Dau- ",
      " ",
      "- ",
      "píině, 5. ",
      "DOB \n",
      "[{'entity': 'I-PER+O', 'score': 0.998184, 'index': 1, 'word': '▁Du', 'start': 0, 'end': 2}, {'entity': 'I-PER+O', 'score': 0.99817836, 'index': 2, 'word': 'ta', 'start': 2, 'end': 4}, {'entity': 'I-PER+O', 'score': 0.99817264, 'index': 3, 'word': 'y', 'start': 4, 'end': 5}, {'entity': 'O+O', 'score': 0.99298227, 'index': 4, 'word': ',', 'start': 5, 'end': 6}, {'entity': 'I-ACT+O', 'score': 0.99591666, 'index': 5, 'word': '▁essaye', 'start': 6, 'end': 13}, {'entity': 'I-ACT+O', 'score': 0.99584204, 'index': 6, 'word': 'ur', 'start': 13, 'end': 15}, {'entity': 'I-ACT+O', 'score': 0.99564505, 'index': 7, 'word': '▁du', 'start': 15, 'end': 18}, {'entity': 'I-ACT+O', 'score': 0.99572057, 'index': 8, 'word': '▁commerce', 'start': 18, 'end': 27}, {'entity': 'O+O', 'score': 0.9957671, 'index': 9, 'word': ',', 'start': 27, 'end': 28}, {'entity': 'I-SPAT+i_LOC', 'score': 0.9982052, 'index': 10, 'word': '▁place', 'start': 28, 'end': 34}, {'entity': 'I-SPAT+i_LOC', 'score': 0.9982029, 'index': 11, 'word': '▁D', 'start': 34, 'end': 36}, {'entity': 'I-SPAT+i_LOC', 'score': 0.99820304, 'index': 12, 'word': 'au', 'start': 36, 'end': 38}, {'entity': 'I-SPAT+i_LOC', 'score': 0.9981793, 'index': 13, 'word': '-', 'start': 38, 'end': 39}, {'entity': 'I-SPAT+i_LOC', 'score': 0.99811363, 'index': 14, 'word': '▁-', 'start': 40, 'end': 42}, {'entity': 'I-SPAT+i_LOC', 'score': 0.99816364, 'index': 15, 'word': '▁p', 'start': 42, 'end': 44}, {'entity': 'I-SPAT+i_LOC', 'score': 0.9981791, 'index': 16, 'word': 'í', 'start': 44, 'end': 45}, {'entity': 'I-SPAT+i_LOC', 'score': 0.9981604, 'index': 17, 'word': 'in', 'start': 45, 'end': 47}, {'entity': 'I-SPAT+i_LOC', 'score': 0.99511164, 'index': 18, 'word': 'ě', 'start': 47, 'end': 48}, {'entity': 'I-SPAT+O', 'score': 0.99161494, 'index': 19, 'word': ',', 'start': 48, 'end': 49}, {'entity': 'I-SPAT+i_CARDINAL', 'score': 0.99780816, 'index': 20, 'word': '▁5', 'start': 49, 'end': 51}, {'entity': 'O+O', 'score': 0.9905495, 'index': 21, 'word': '.', 'start': 51, 'end': 52}, {'entity': 'O+O', 'score': 0.991376, 'index': 22, 'word': '▁D', 'start': 52, 'end': 54}, {'entity': 'O+O', 'score': 0.99123126, 'index': 23, 'word': 'OB', 'start': 54, 'end': 56}, {'entity': 'O+O', 'score': 0.9939208, 'index': 24, 'word': '▁', 'start': 56, 'end': 57}]\n",
      "<PER>Dutay</PER>,<ACT> essayeur du commerce</ACT>,<SPAT><LOC> place Dau- ",
      " ",
      "- ",
      "píině</LOC>,<CARDINAL> 5</CARDINAL></SPAT>. ",
      "DOB \n",
      "\n",
      "Dulay, chandronnier, r. du Pont- aux- ",
      "Chuux, 15. ",
      "SI \n",
      "[{'entity': 'I-PER+O', 'score': 0.99817264, 'index': 1, 'word': '▁Du', 'start': 0, 'end': 2}, {'entity': 'I-PER+O', 'score': 0.9981692, 'index': 2, 'word': 'lay', 'start': 2, 'end': 5}, {'entity': 'O+O', 'score': 0.9918846, 'index': 3, 'word': ',', 'start': 5, 'end': 6}, {'entity': 'I-ACT+O', 'score': 0.9956999, 'index': 4, 'word': '▁c', 'start': 6, 'end': 8}, {'entity': 'I-ACT+O', 'score': 0.99571264, 'index': 5, 'word': 'hand', 'start': 8, 'end': 12}, {'entity': 'I-ACT+O', 'score': 0.995713, 'index': 6, 'word': 'r', 'start': 12, 'end': 13}, {'entity': 'I-ACT+O', 'score': 0.99574995, 'index': 7, 'word': 'onnier', 'start': 13, 'end': 19}, {'entity': 'O+O', 'score': 0.99636286, 'index': 8, 'word': ',', 'start': 19, 'end': 20}, {'entity': 'I-SPAT+i_LOC', 'score': 0.9982096, 'index': 9, 'word': '▁r', 'start': 20, 'end': 22}, {'entity': 'I-SPAT+i_LOC', 'score': 0.9982205, 'index': 10, 'word': '.', 'start': 22, 'end': 23}, {'entity': 'I-SPAT+i_LOC', 'score': 0.9982127, 'index': 11, 'word': '▁du', 'start': 23, 'end': 26}, {'entity': 'I-SPAT+i_LOC', 'score': 0.9982033, 'index': 12, 'word': '▁Pont', 'start': 26, 'end': 31}, {'entity': 'I-SPAT+i_LOC', 'score': 0.99820244, 'index': 13, 'word': '-', 'start': 31, 'end': 32}, {'entity': 'I-SPAT+i_LOC', 'score': 0.99818915, 'index': 14, 'word': '▁aux', 'start': 32, 'end': 36}, {'entity': 'I-SPAT+i_LOC', 'score': 0.9981766, 'index': 15, 'word': '-', 'start': 36, 'end': 37}, {'entity': 'I-SPAT+i_LOC', 'score': 0.9981797, 'index': 16, 'word': '▁Chu', 'start': 37, 'end': 41}, {'entity': 'I-SPAT+i_LOC', 'score': 0.9981755, 'index': 17, 'word': 'ux', 'start': 41, 'end': 43}, {'entity': 'I-SPAT+O', 'score': 0.9941367, 'index': 18, 'word': ',', 'start': 43, 'end': 44}, {'entity': 'I-SPAT+i_CARDINAL', 'score': 0.99788827, 'index': 19, 'word': '▁15', 'start': 44, 'end': 47}, {'entity': 'O+O', 'score': 0.9949443, 'index': 20, 'word': '.', 'start': 47, 'end': 48}, {'entity': 'O+O', 'score': 0.99484646, 'index': 21, 'word': '▁SI', 'start': 48, 'end': 51}, {'entity': 'O+O', 'score': 0.99569976, 'index': 22, 'word': '▁', 'start': 51, 'end': 52}]\n",
      "<PER>Dulay</PER>,<ACT> chandronnier</ACT>,<SPAT><LOC> r. du Pont- aux- ",
      "Chuux</LOC>,<CARDINAL> 15</CARDINAL></SPAT>. ",
      "SI \n",
      "\n",
      "Dufay (V.e), grenetière, r. du Fauh.-S. ",
      "Denis, 20. ",
      "372 \n",
      "[{'entity': 'I-PER+O', 'score': 0.9981852, 'index': 1, 'word': '▁Du', 'start': 0, 'end': 2}, {'entity': 'I-PER+O', 'score': 0.99818486, 'index': 2, 'word': 'fa', 'start': 2, 'end': 4}, {'entity': 'I-PER+O', 'score': 0.9981816, 'index': 3, 'word': 'y', 'start': 4, 'end': 5}, {'entity': 'I-PER+O', 'score': 0.99817085, 'index': 4, 'word': '▁(', 'start': 5, 'end': 7}, {'entity': 'I-PER+O', 'score': 0.99809533, 'index': 5, 'word': 'V', 'start': 7, 'end': 8}, {'entity': 'I-PER+O', 'score': 0.99776495, 'index': 6, 'word': '.', 'start': 8, 'end': 9}, {'entity': 'I-PER+O', 'score': 0.99783933, 'index': 7, 'word': 'e', 'start': 9, 'end': 10}, {'entity': 'O+O', 'score': 0.88995016, 'index': 8, 'word': '),', 'start': 10, 'end': 12}, {'entity': 'I-ACT+O', 'score': 0.9951722, 'index': 9, 'word': '▁', 'start': 12, 'end': 13}, {'entity': 'I-ACT+O', 'score': 0.99533916, 'index': 10, 'word': 'gren', 'start': 13, 'end': 17}, {'entity': 'I-ACT+O', 'score': 0.9949449, 'index': 11, 'word': 'e', 'start': 17, 'end': 18}, {'entity': 'I-ACT+O', 'score': 0.9950807, 'index': 12, 'word': 'tière', 'start': 18, 'end': 23}, {'entity': 'O+O', 'score': 0.99716884, 'index': 13, 'word': ',', 'start': 23, 'end': 24}, {'entity': 'I-SPAT+i_LOC', 'score': 0.99821943, 'index': 14, 'word': '▁r', 'start': 24, 'end': 26}, {'entity': 'I-SPAT+i_LOC', 'score': 0.9982242, 'index': 15, 'word': '.', 'start': 26, 'end': 27}, {'entity': 'I-SPAT+i_LOC', 'score': 0.9982223, 'index': 16, 'word': '▁du', 'start': 27, 'end': 30}, {'entity': 'I-SPAT+i_LOC', 'score': 0.9982116, 'index': 17, 'word': '▁Fau', 'start': 30, 'end': 34}, {'entity': 'I-SPAT+i_LOC', 'score': 0.99821293, 'index': 18, 'word': 'h', 'start': 34, 'end': 35}, {'entity': 'I-SPAT+i_LOC', 'score': 0.998211, 'index': 19, 'word': '.', 'start': 35, 'end': 36}, {'entity': 'I-SPAT+i_LOC', 'score': 0.99820995, 'index': 20, 'word': '-', 'start': 36, 'end': 37}, {'entity': 'I-SPAT+i_LOC', 'score': 0.9982065, 'index': 21, 'word': 'S', 'start': 37, 'end': 38}, {'entity': 'I-SPAT+i_LOC', 'score': 0.99820757, 'index': 22, 'word': '.', 'start': 38, 'end': 39}, {'entity': 'I-SPAT+i_LOC', 'score': 0.9981951, 'index': 23, 'word': '▁Denis', 'start': 39, 'end': 45}, {'entity': 'I-SPAT+O', 'score': 0.9949007, 'index': 24, 'word': ',', 'start': 45, 'end': 46}, {'entity': 'I-SPAT+i_CARDINAL', 'score': 0.9969182, 'index': 25, 'word': '▁20', 'start': 46, 'end': 49}, {'entity': 'O+O', 'score': 0.9057672, 'index': 26, 'word': '.', 'start': 49, 'end': 50}, {'entity': 'O+O', 'score': 0.9919219, 'index': 27, 'word': '▁3', 'start': 50, 'end': 52}, {'entity': 'O+O', 'score': 0.9798693, 'index': 28, 'word': '72', 'start': 52, 'end': 54}, {'entity': 'O+O', 'score': 0.997267, 'index': 29, 'word': '▁', 'start': 54, 'end': 55}]\n",
      "<PER>Dufay (V.e</PER>),<ACT> grenetière</ACT>,<SPAT><LOC> r. du Fauh.-S. ",
      "Denis</LOC>,<CARDINAL> 20</CARDINAL></SPAT>. ",
      "372 \n",
      "\n",
      "Y ",
      "☞ ",
      "Dnten,charentier, 1. Montmartre, 89. 318 \n",
      "[{'entity': 'O+O', 'score': 0.99173075, 'index': 1, 'word': '▁Y', 'start': 0, 'end': 1}, {'entity': 'O+O', 'score': 0.9959229, 'index': 2, 'word': '▁', 'start': 1, 'end': 2}, {'entity': 'O+O', 'score': 0.9965694, 'index': 3, 'word': '☞', 'start': 2, 'end': 3}, {'entity': 'I-PER+O', 'score': 0.998181, 'index': 4, 'word': '▁D', 'start': 3, 'end': 5}, {'entity': 'I-PER+O', 'score': 0.99814117, 'index': 5, 'word': 'nt', 'start': 5, 'end': 7}, {'entity': 'I-PER+O', 'score': 0.99814105, 'index': 6, 'word': 'en', 'start': 7, 'end': 9}, {'entity': 'I-ACT+O', 'score': 0.57420564, 'index': 7, 'word': ',', 'start': 9, 'end': 10}, {'entity': 'I-ACT+O', 'score': 0.9959437, 'index': 8, 'word': 'char', 'start': 10, 'end': 14}, {'entity': 'I-ACT+O', 'score': 0.9958902, 'index': 9, 'word': 'en', 'start': 14, 'end': 16}, {'entity': 'I-ACT+O', 'score': 0.9958871, 'index': 10, 'word': 'tier', 'start': 16, 'end': 20}, {'entity': 'O+O', 'score': 0.9875771, 'index': 11, 'word': ',', 'start': 20, 'end': 21}, {'entity': 'I-SPAT+i_LOC', 'score': 0.99795735, 'index': 12, 'word': '▁1.', 'start': 21, 'end': 24}, {'entity': 'I-SPAT+i_LOC', 'score': 0.9981476, 'index': 13, 'word': '▁Montmartre', 'start': 24, 'end': 35}, {'entity': 'I-SPAT+O', 'score': 0.9218378, 'index': 14, 'word': ',', 'start': 35, 'end': 36}, {'entity': 'I-SPAT+i_CARDINAL', 'score': 0.99451846, 'index': 15, 'word': '▁89', 'start': 36, 'end': 39}, {'entity': 'I-SPAT+O', 'score': 0.6285802, 'index': 16, 'word': '.', 'start': 39, 'end': 40}, {'entity': 'O+O', 'score': 0.93372077, 'index': 17, 'word': '▁3', 'start': 40, 'end': 42}, {'entity': 'I-SPAT+i_CARDINAL', 'score': 0.9345341, 'index': 18, 'word': '18', 'start': 42, 'end': 44}, {'entity': 'O+O', 'score': 0.9961551, 'index': 19, 'word': '▁', 'start': 44, 'end': 45}]\n",
      "Y ",
      "☞<PER> ",
      "Dnten</PER><ACT>,charentier</ACT>,<SPAT><LOC> 1. Montmartre</LOC>,<CARDINAL> 89</CARDINAL>.</SPAT> 3<SPAT><CARDINAL>18</CARDINAL></SPAT> \n",
      "\n",
      "Dufey fils, bijoutier, passage de la Réunion ",
      "A \n",
      "[{'entity': 'I-PER+O', 'score': 0.9981939, 'index': 1, 'word': '▁Du', 'start': 0, 'end': 2}, {'entity': 'I-PER+O', 'score': 0.99819225, 'index': 2, 'word': 'fe', 'start': 2, 'end': 4}, {'entity': 'I-PER+O', 'score': 0.99819094, 'index': 3, 'word': 'y', 'start': 4, 'end': 5}, {'entity': 'I-PER+O', 'score': 0.9981937, 'index': 4, 'word': '▁fils', 'start': 5, 'end': 10}, {'entity': 'O+O', 'score': 0.98158133, 'index': 5, 'word': ',', 'start': 10, 'end': 11}, {'entity': 'I-ACT+O', 'score': 0.9955178, 'index': 6, 'word': '▁bijou', 'start': 11, 'end': 17}, {'entity': 'I-ACT+O', 'score': 0.9954058, 'index': 7, 'word': 'tier', 'start': 17, 'end': 21}, {'entity': 'O+O', 'score': 0.98504794, 'index': 8, 'word': ',', 'start': 21, 'end': 22}, {'entity': 'I-SPAT+i_LOC', 'score': 0.9982016, 'index': 9, 'word': '▁passage', 'start': 22, 'end': 30}, {'entity': 'I-SPAT+i_LOC', 'score': 0.9982022, 'index': 10, 'word': '▁de', 'start': 30, 'end': 33}, {'entity': 'I-SPAT+i_LOC', 'score': 0.99819994, 'index': 11, 'word': '▁la', 'start': 33, 'end': 36}, {'entity': 'I-SPAT+i_LOC', 'score': 0.9981883, 'index': 12, 'word': '▁Réunion', 'start': 36, 'end': 44}, {'entity': 'I-SPAT+i_CARDINAL', 'score': 0.9974088, 'index': 13, 'word': '▁A', 'start': 44, 'end': 46}, {'entity': 'I-SPAT+i_CARDINAL', 'score': 0.6380444, 'index': 14, 'word': '▁', 'start': 46, 'end': 47}]\n",
      "<PER>Dufey fils</PER>,<ACT> bijoutier</ACT>,<SPAT><LOC> passage de la Réunion</LOC><CARDINAL> ",
      "A </CARDINAL></SPAT>\n",
      "\n",
      "Dnley, boucher, r. S.&quot;Louis-au-Marais,3. ",
      "* \n",
      "[{'entity': 'I-PER+O', 'score': 0.99818414, 'index': 1, 'word': '▁D', 'start': 0, 'end': 1}, {'entity': 'I-PER+O', 'score': 0.99816626, 'index': 2, 'word': 'n', 'start': 1, 'end': 2}, {'entity': 'I-PER+O', 'score': 0.9981706, 'index': 3, 'word': 'ley', 'start': 2, 'end': 5}, {'entity': 'O+O', 'score': 0.9734163, 'index': 4, 'word': ',', 'start': 5, 'end': 6}, {'entity': 'I-ACT+O', 'score': 0.995106, 'index': 5, 'word': '▁boucher', 'start': 6, 'end': 14}, {'entity': 'O+O', 'score': 0.9955878, 'index': 6, 'word': ',', 'start': 14, 'end': 15}, {'entity': 'I-SPAT+i_LOC', 'score': 0.99820423, 'index': 7, 'word': '▁r', 'start': 15, 'end': 17}, {'entity': 'I-SPAT+i_LOC', 'score': 0.9981494, 'index': 8, 'word': '.', 'start': 17, 'end': 18}, {'entity': 'I-SPAT+i_LOC', 'score': 0.9982053, 'index': 9, 'word': '▁S', 'start': 18, 'end': 20}, {'entity': 'I-SPAT+i_LOC', 'score': 0.99820507, 'index': 10, 'word': '.', 'start': 20, 'end': 21}, {'entity': 'I-SPAT+i_LOC', 'score': 0.9982052, 'index': 11, 'word': '&', 'start': 21, 'end': 22}, {'entity': 'I-SPAT+i_LOC', 'score': 0.9981926, 'index': 12, 'word': 'quot', 'start': 22, 'end': 26}, {'entity': 'I-SPAT+i_LOC', 'score': 0.9981968, 'index': 13, 'word': ';', 'start': 26, 'end': 27}, {'entity': 'I-SPAT+i_LOC', 'score': 0.9981997, 'index': 14, 'word': 'Louis', 'start': 27, 'end': 32}, {'entity': 'I-SPAT+i_LOC', 'score': 0.9982027, 'index': 15, 'word': '-', 'start': 32, 'end': 33}, {'entity': 'I-SPAT+i_LOC', 'score': 0.99820244, 'index': 16, 'word': 'au', 'start': 33, 'end': 35}, {'entity': 'I-SPAT+i_LOC', 'score': 0.9982002, 'index': 17, 'word': '-', 'start': 35, 'end': 36}, {'entity': 'I-SPAT+i_LOC', 'score': 0.9982048, 'index': 18, 'word': 'Mar', 'start': 36, 'end': 39}, {'entity': 'I-SPAT+i_LOC', 'score': 0.9982016, 'index': 19, 'word': 'ais', 'start': 39, 'end': 42}, {'entity': 'I-SPAT+O', 'score': 0.9522709, 'index': 20, 'word': ',', 'start': 42, 'end': 43}, {'entity': 'I-SPAT+i_CARDINAL', 'score': 0.99578226, 'index': 21, 'word': '3.', 'start': 43, 'end': 45}, {'entity': 'O+O', 'score': 0.9921595, 'index': 22, 'word': '▁*', 'start': 45, 'end': 47}, {'entity': 'O+O', 'score': 0.995017, 'index': 23, 'word': '▁', 'start': 47, 'end': 48}]\n",
      "<PER>Dnley</PER>,<ACT> boucher</ACT>,<SPAT><LOC> r. S.&amp;quot;Louis-au-Marais</LOC>,<CARDINAL>3.</CARDINAL></SPAT> ",
      "* \n",
      "\n",
      "☞ ",
      "Duffand, bijonteer, r. S.-Martin, 107. 284 \n"
     ]
    },
    {
     "name": "stdout",
     "output_type": "stream",
     "text": [
      "[{'entity': 'O+O', 'score': 0.99695694, 'index': 1, 'word': '▁', 'start': 0, 'end': 1}, {'entity': 'O+O', 'score': 0.9970897, 'index': 2, 'word': '☞', 'start': 0, 'end': 1}, {'entity': 'I-PER+O', 'score': 0.9981906, 'index': 3, 'word': '▁D', 'start': 1, 'end': 3}, {'entity': 'I-PER+O', 'score': 0.99818134, 'index': 4, 'word': 'uff', 'start': 3, 'end': 6}, {'entity': 'I-PER+O', 'score': 0.99817324, 'index': 5, 'word': 'and', 'start': 6, 'end': 9}, {'entity': 'O+O', 'score': 0.9872393, 'index': 6, 'word': ',', 'start': 9, 'end': 10}, {'entity': 'I-ACT+O', 'score': 0.9961438, 'index': 7, 'word': '▁bi', 'start': 10, 'end': 13}, {'entity': 'I-ACT+O', 'score': 0.99613404, 'index': 8, 'word': 'jon', 'start': 13, 'end': 16}, {'entity': 'I-ACT+O', 'score': 0.9960602, 'index': 9, 'word': 'te', 'start': 16, 'end': 18}, {'entity': 'I-ACT+O', 'score': 0.99608755, 'index': 10, 'word': 'er', 'start': 18, 'end': 20}, {'entity': 'O+O', 'score': 0.9959798, 'index': 11, 'word': ',', 'start': 20, 'end': 21}, {'entity': 'I-SPAT+i_LOC', 'score': 0.99822336, 'index': 12, 'word': '▁r', 'start': 21, 'end': 23}, {'entity': 'I-SPAT+i_LOC', 'score': 0.99820423, 'index': 13, 'word': '.', 'start': 23, 'end': 24}, {'entity': 'I-SPAT+i_LOC', 'score': 0.9982198, 'index': 14, 'word': '▁S', 'start': 24, 'end': 26}, {'entity': 'I-SPAT+i_LOC', 'score': 0.99822, 'index': 15, 'word': '.', 'start': 26, 'end': 27}, {'entity': 'I-SPAT+i_LOC', 'score': 0.9982222, 'index': 16, 'word': '-', 'start': 27, 'end': 28}, {'entity': 'I-SPAT+i_LOC', 'score': 0.9981957, 'index': 17, 'word': 'Martin', 'start': 28, 'end': 34}, {'entity': 'I-SPAT+O', 'score': 0.99487644, 'index': 18, 'word': ',', 'start': 34, 'end': 35}, {'entity': 'I-SPAT+i_CARDINAL', 'score': 0.99789584, 'index': 19, 'word': '▁107', 'start': 35, 'end': 39}, {'entity': 'O+O', 'score': 0.99153495, 'index': 20, 'word': '.', 'start': 39, 'end': 40}, {'entity': 'O+O', 'score': 0.9919897, 'index': 21, 'word': '▁2', 'start': 40, 'end': 42}, {'entity': 'O+O', 'score': 0.9936603, 'index': 22, 'word': '84', 'start': 42, 'end': 44}, {'entity': 'O+O', 'score': 0.99729973, 'index': 23, 'word': '▁', 'start': 44, 'end': 45}]\n",
      "☞<PER> ",
      "Duffand</PER>,<ACT> bijonteer</ACT>,<SPAT><LOC> r. S.-Martin</LOC>,<CARDINAL> 107</CARDINAL></SPAT>. 284 \n",
      "\n",
      "Duftaud, maçon, r. S-Honore ",
      " ",
      "353. ",
      "O \n",
      "[{'entity': 'I-PER+O', 'score': 0.9981871, 'index': 1, 'word': '▁Du', 'start': 0, 'end': 2}, {'entity': 'I-PER+O', 'score': 0.998181, 'index': 2, 'word': 'ft', 'start': 2, 'end': 4}, {'entity': 'I-PER+O', 'score': 0.99818283, 'index': 3, 'word': 'aud', 'start': 4, 'end': 7}, {'entity': 'O+O', 'score': 0.9779594, 'index': 4, 'word': ',', 'start': 7, 'end': 8}, {'entity': 'I-ACT+O', 'score': 0.9954686, 'index': 5, 'word': '▁maçon', 'start': 8, 'end': 14}, {'entity': 'O+O', 'score': 0.99641776, 'index': 6, 'word': ',', 'start': 14, 'end': 15}, {'entity': 'I-SPAT+i_LOC', 'score': 0.9982052, 'index': 7, 'word': '▁r', 'start': 15, 'end': 17}, {'entity': 'I-SPAT+i_LOC', 'score': 0.99817646, 'index': 8, 'word': '.', 'start': 17, 'end': 18}, {'entity': 'I-SPAT+i_LOC', 'score': 0.9982185, 'index': 9, 'word': '▁S', 'start': 18, 'end': 20}, {'entity': 'I-SPAT+i_LOC', 'score': 0.99821883, 'index': 10, 'word': '-', 'start': 20, 'end': 21}, {'entity': 'I-SPAT+i_LOC', 'score': 0.9982204, 'index': 11, 'word': 'H', 'start': 21, 'end': 22}, {'entity': 'I-SPAT+i_LOC', 'score': 0.99821824, 'index': 12, 'word': 'on', 'start': 22, 'end': 24}, {'entity': 'I-SPAT+i_LOC', 'score': 0.9982152, 'index': 13, 'word': 'ore', 'start': 24, 'end': 27}, {'entity': 'I-SPAT+i_CARDINAL', 'score': 0.9937459, 'index': 14, 'word': '▁35', 'start': 28, 'end': 31}, {'entity': 'I-SPAT+i_CARDINAL', 'score': 0.8702771, 'index': 15, 'word': '3.', 'start': 31, 'end': 33}, {'entity': 'O+O', 'score': 0.773589, 'index': 16, 'word': '▁O', 'start': 33, 'end': 35}, {'entity': 'O+O', 'score': 0.9899559, 'index': 17, 'word': '▁', 'start': 35, 'end': 36}]\n",
      "<PER>Duftaud</PER>,<ACT> maçon</ACT>,<SPAT><LOC> r. S-Honore</LOC> ",
      "<CARDINAL> ",
      "353.</CARDINAL></SPAT> ",
      "O \n",
      "\n",
      "Dullaut, chandronnier, r. de la Sourdière ",
      "I- ( ",
      "☞T4 \n",
      "[{'entity': 'I-PER+O', 'score': 0.9981865, 'index': 1, 'word': '▁Du', 'start': 0, 'end': 2}, {'entity': 'I-PER+O', 'score': 0.9981816, 'index': 2, 'word': 'lla', 'start': 2, 'end': 5}, {'entity': 'I-PER+O', 'score': 0.99818146, 'index': 3, 'word': 'ut', 'start': 5, 'end': 7}, {'entity': 'O+O', 'score': 0.9923671, 'index': 4, 'word': ',', 'start': 7, 'end': 8}, {'entity': 'I-ACT+O', 'score': 0.99569136, 'index': 5, 'word': '▁c', 'start': 8, 'end': 10}, {'entity': 'I-ACT+O', 'score': 0.99570376, 'index': 6, 'word': 'hand', 'start': 10, 'end': 14}, {'entity': 'I-ACT+O', 'score': 0.99570376, 'index': 7, 'word': 'r', 'start': 14, 'end': 15}, {'entity': 'I-ACT+O', 'score': 0.9957228, 'index': 8, 'word': 'onnier', 'start': 15, 'end': 21}, {'entity': 'O+O', 'score': 0.99655724, 'index': 9, 'word': ',', 'start': 21, 'end': 22}, {'entity': 'I-SPAT+i_LOC', 'score': 0.9982128, 'index': 10, 'word': '▁r', 'start': 22, 'end': 24}, {'entity': 'I-SPAT+i_LOC', 'score': 0.9982157, 'index': 11, 'word': '.', 'start': 24, 'end': 25}, {'entity': 'I-SPAT+i_LOC', 'score': 0.99821424, 'index': 12, 'word': '▁de', 'start': 25, 'end': 28}, {'entity': 'I-SPAT+i_LOC', 'score': 0.99820733, 'index': 13, 'word': '▁la', 'start': 28, 'end': 31}, {'entity': 'I-SPAT+i_LOC', 'score': 0.99820197, 'index': 14, 'word': '▁S', 'start': 31, 'end': 33}, {'entity': 'I-SPAT+i_LOC', 'score': 0.99820197, 'index': 15, 'word': 'ourd', 'start': 33, 'end': 37}, {'entity': 'I-SPAT+i_LOC', 'score': 0.99819714, 'index': 16, 'word': 'ière', 'start': 37, 'end': 41}, {'entity': 'I-SPAT+i_CARDINAL', 'score': 0.9870767, 'index': 17, 'word': '▁I', 'start': 41, 'end': 43}, {'entity': 'O+O', 'score': 0.9814571, 'index': 18, 'word': '-', 'start': 43, 'end': 44}, {'entity': 'O+O', 'score': 0.9879687, 'index': 19, 'word': '▁(', 'start': 44, 'end': 46}, {'entity': 'O+O', 'score': 0.9896466, 'index': 20, 'word': '▁', 'start': 46, 'end': 47}, {'entity': 'O+O', 'score': 0.99026805, 'index': 21, 'word': '☞', 'start': 47, 'end': 48}, {'entity': 'O+O', 'score': 0.9902204, 'index': 22, 'word': 'T', 'start': 48, 'end': 49}, {'entity': 'O+O', 'score': 0.9898621, 'index': 23, 'word': '4', 'start': 49, 'end': 50}, {'entity': 'O+O', 'score': 0.9935318, 'index': 24, 'word': '▁', 'start': 50, 'end': 51}]\n",
      "<PER>Dullaut</PER>,<ACT> chandronnier</ACT>,<SPAT><LOC> r. de la Sourdière</LOC><CARDINAL> ",
      "I</CARDINAL></SPAT>- ( ",
      "☞T4 \n",
      "\n",
      "lukils. limonauier, 1. des Colonnes, 6. J9 \n",
      "[{'entity': 'I-PER+O', 'score': 0.99809164, 'index': 1, 'word': '▁l', 'start': 0, 'end': 1}, {'entity': 'I-PER+O', 'score': 0.998021, 'index': 2, 'word': 'uk', 'start': 1, 'end': 3}, {'entity': 'I-PER+O', 'score': 0.9979837, 'index': 3, 'word': 'ils', 'start': 3, 'end': 6}, {'entity': 'I-ACT+O', 'score': 0.88038653, 'index': 4, 'word': '.', 'start': 6, 'end': 7}, {'entity': 'I-ACT+O', 'score': 0.992623, 'index': 5, 'word': '▁limon', 'start': 7, 'end': 13}, {'entity': 'I-ACT+O', 'score': 0.99182254, 'index': 6, 'word': 'au', 'start': 13, 'end': 15}, {'entity': 'I-ACT+O', 'score': 0.9898599, 'index': 7, 'word': 'ier', 'start': 15, 'end': 18}, {'entity': 'O+O', 'score': 0.97921556, 'index': 8, 'word': ',', 'start': 18, 'end': 19}, {'entity': 'I-SPAT+i_LOC', 'score': 0.99819714, 'index': 9, 'word': '▁1.', 'start': 19, 'end': 22}, {'entity': 'I-SPAT+i_LOC', 'score': 0.99823064, 'index': 10, 'word': '▁des', 'start': 22, 'end': 26}, {'entity': 'I-SPAT+i_LOC', 'score': 0.99823016, 'index': 11, 'word': '▁Col', 'start': 26, 'end': 30}, {'entity': 'I-SPAT+i_LOC', 'score': 0.9982315, 'index': 12, 'word': 'onne', 'start': 30, 'end': 34}, {'entity': 'I-SPAT+i_LOC', 'score': 0.9982287, 'index': 13, 'word': 's', 'start': 34, 'end': 35}, {'entity': 'I-SPAT+O', 'score': 0.99591845, 'index': 14, 'word': ',', 'start': 35, 'end': 36}, {'entity': 'I-SPAT+i_CARDINAL', 'score': 0.99801147, 'index': 15, 'word': '▁6', 'start': 36, 'end': 38}, {'entity': 'I-SPAT+O', 'score': 0.5894619, 'index': 16, 'word': '.', 'start': 38, 'end': 39}, {'entity': 'O+O', 'score': 0.99336314, 'index': 17, 'word': '▁J', 'start': 39, 'end': 41}, {'entity': 'O+O', 'score': 0.9920066, 'index': 18, 'word': '9', 'start': 41, 'end': 42}, {'entity': 'O+O', 'score': 0.99616265, 'index': 19, 'word': '▁', 'start': 42, 'end': 43}]\n",
      "<PER>lukils</PER><ACT>. limonauier</ACT>,<SPAT><LOC> 1. des Colonnes</LOC>,<CARDINAL> 6</CARDINAL>.</SPAT> J9 \n",
      "\n",
      "— ",
      "T ",
      "Dullocu, architecte, r. Basse-Porte-S.De- ",
      "— ",
      "Ris, 28. \n",
      "[{'entity': 'O+O', 'score': 0.99756324, 'index': 1, 'word': '▁—', 'start': 0, 'end': 1}, {'entity': 'O+O', 'score': 0.99666375, 'index': 2, 'word': '▁T', 'start': 1, 'end': 3}, {'entity': 'I-PER+O', 'score': 0.99815375, 'index': 3, 'word': '▁Du', 'start': 3, 'end': 6}, {'entity': 'I-PER+O', 'score': 0.9980988, 'index': 4, 'word': 'll', 'start': 6, 'end': 8}, {'entity': 'I-PER+O', 'score': 0.9979824, 'index': 5, 'word': 'ocu', 'start': 8, 'end': 11}, {'entity': 'O+O', 'score': 0.9907815, 'index': 6, 'word': ',', 'start': 11, 'end': 12}, {'entity': 'I-ACT+O', 'score': 0.9952689, 'index': 7, 'word': '▁architecte', 'start': 12, 'end': 23}, {'entity': 'O+O', 'score': 0.99708253, 'index': 8, 'word': ',', 'start': 23, 'end': 24}, {'entity': 'I-SPAT+i_LOC', 'score': 0.99819607, 'index': 9, 'word': '▁r', 'start': 24, 'end': 26}, {'entity': 'I-SPAT+i_LOC', 'score': 0.9981951, 'index': 10, 'word': '.', 'start': 26, 'end': 27}, {'entity': 'I-SPAT+i_LOC', 'score': 0.99821055, 'index': 11, 'word': '▁Basse', 'start': 27, 'end': 33}, {'entity': 'I-SPAT+i_LOC', 'score': 0.99820757, 'index': 12, 'word': '-', 'start': 33, 'end': 34}, {'entity': 'I-SPAT+i_LOC', 'score': 0.9982048, 'index': 13, 'word': 'Port', 'start': 34, 'end': 38}, {'entity': 'I-SPAT+i_LOC', 'score': 0.9981927, 'index': 14, 'word': 'e', 'start': 38, 'end': 39}, {'entity': 'I-SPAT+i_LOC', 'score': 0.9981816, 'index': 15, 'word': '-', 'start': 39, 'end': 40}, {'entity': 'I-SPAT+i_LOC', 'score': 0.9981844, 'index': 16, 'word': 'S', 'start': 40, 'end': 41}, {'entity': 'I-SPAT+i_LOC', 'score': 0.9981912, 'index': 17, 'word': '.', 'start': 41, 'end': 42}, {'entity': 'I-SPAT+i_LOC', 'score': 0.9981749, 'index': 18, 'word': 'De', 'start': 42, 'end': 44}, {'entity': 'I-SPAT+i_LOC', 'score': 0.99810827, 'index': 19, 'word': '-', 'start': 44, 'end': 45}, {'entity': 'I-SPAT+i_LOC', 'score': 0.9981148, 'index': 20, 'word': '▁—', 'start': 45, 'end': 47}, {'entity': 'I-SPAT+i_LOC', 'score': 0.9981073, 'index': 21, 'word': '▁Ris', 'start': 47, 'end': 51}, {'entity': 'I-SPAT+O', 'score': 0.9878369, 'index': 22, 'word': ',', 'start': 51, 'end': 52}, {'entity': 'I-SPAT+i_CARDINAL', 'score': 0.9969478, 'index': 23, 'word': '▁28', 'start': 52, 'end': 55}, {'entity': 'O+O', 'score': 0.99630773, 'index': 24, 'word': '.', 'start': 55, 'end': 56}, {'entity': 'O+O', 'score': 0.997081, 'index': 25, 'word': '▁', 'start': 56, 'end': 57}]\n",
      "— ",
      "T<PER> ",
      "Dullocu</PER>,<ACT> architecte</ACT>,<SPAT><LOC> r. Basse-Porte-S.De- ",
      "— ",
      "Ris</LOC>,<CARDINAL> 28</CARDINAL></SPAT>. \n",
      "\n",
      "Duflot, loueur de carrosses, r. de Paradis- ",
      "505 ",
      "Poissonnière, 22. \n",
      "[{'entity': 'I-PER+O', 'score': 0.9981856, 'index': 1, 'word': '▁Du', 'start': 0, 'end': 2}, {'entity': 'I-PER+O', 'score': 0.9981832, 'index': 2, 'word': 'f', 'start': 2, 'end': 3}, {'entity': 'I-PER+O', 'score': 0.9981787, 'index': 3, 'word': 'lot', 'start': 3, 'end': 6}, {'entity': 'O+O', 'score': 0.99507207, 'index': 4, 'word': ',', 'start': 6, 'end': 7}, {'entity': 'I-ACT+O', 'score': 0.9957997, 'index': 5, 'word': '▁loue', 'start': 7, 'end': 12}, {'entity': 'I-ACT+O', 'score': 0.9958061, 'index': 6, 'word': 'ur', 'start': 12, 'end': 14}, {'entity': 'I-ACT+O', 'score': 0.9957891, 'index': 7, 'word': '▁de', 'start': 14, 'end': 17}, {'entity': 'I-ACT+O', 'score': 0.99583423, 'index': 8, 'word': '▁car', 'start': 17, 'end': 21}, {'entity': 'I-ACT+O', 'score': 0.99585897, 'index': 9, 'word': 'ro', 'start': 21, 'end': 23}, {'entity': 'I-ACT+O', 'score': 0.9958348, 'index': 10, 'word': 'sses', 'start': 23, 'end': 27}, {'entity': 'O+O', 'score': 0.99683833, 'index': 11, 'word': ',', 'start': 27, 'end': 28}, {'entity': 'I-SPAT+i_LOC', 'score': 0.99820864, 'index': 12, 'word': '▁r', 'start': 28, 'end': 30}, {'entity': 'I-SPAT+i_LOC', 'score': 0.9981798, 'index': 13, 'word': '.', 'start': 30, 'end': 31}, {'entity': 'I-SPAT+i_LOC', 'score': 0.99819034, 'index': 14, 'word': '▁de', 'start': 31, 'end': 34}, {'entity': 'I-SPAT+i_LOC', 'score': 0.9981779, 'index': 15, 'word': '▁Paradis', 'start': 34, 'end': 42}, {'entity': 'I-SPAT+i_LOC', 'score': 0.99629635, 'index': 16, 'word': '-', 'start': 42, 'end': 43}, {'entity': 'I-SPAT+i_LOC', 'score': 0.9981312, 'index': 17, 'word': '▁50', 'start': 43, 'end': 46}, {'entity': 'I-SPAT+i_LOC', 'score': 0.9981287, 'index': 18, 'word': '5', 'start': 46, 'end': 47}, {'entity': 'I-SPAT+i_LOC', 'score': 0.9981798, 'index': 19, 'word': '▁Poisson', 'start': 47, 'end': 55}, {'entity': 'I-SPAT+i_LOC', 'score': 0.998173, 'index': 20, 'word': 'nière', 'start': 55, 'end': 60}, {'entity': 'I-SPAT+O', 'score': 0.9959115, 'index': 21, 'word': ',', 'start': 60, 'end': 61}, {'entity': 'I-SPAT+i_CARDINAL', 'score': 0.99759465, 'index': 22, 'word': '▁22', 'start': 61, 'end': 64}, {'entity': 'O+O', 'score': 0.99690753, 'index': 23, 'word': '.', 'start': 64, 'end': 65}, {'entity': 'O+O', 'score': 0.9970693, 'index': 24, 'word': '▁', 'start': 65, 'end': 66}]\n",
      "<PER>Duflot</PER>,<ACT> loueur de carrosses</ACT>,<SPAT><LOC> r. de Paradis- ",
      "505 ",
      "Poissonnière</LOC>,<CARDINAL> 22</CARDINAL></SPAT>. \n",
      "\n",
      "Dufort, bottier, Palais-R., gal. vitrée, 215. ",
      "A \n",
      "[{'entity': 'I-PER+O', 'score': 0.99818206, 'index': 1, 'word': '▁Du', 'start': 0, 'end': 2}, {'entity': 'I-PER+O', 'score': 0.99817836, 'index': 2, 'word': 'fort', 'start': 2, 'end': 6}, {'entity': 'O+O', 'score': 0.986971, 'index': 3, 'word': ',', 'start': 6, 'end': 7}, {'entity': 'I-ACT+O', 'score': 0.9954645, 'index': 4, 'word': '▁bot', 'start': 7, 'end': 11}, {'entity': 'I-ACT+O', 'score': 0.9954254, 'index': 5, 'word': 'tier', 'start': 11, 'end': 15}, {'entity': 'O+O', 'score': 0.96855026, 'index': 6, 'word': ',', 'start': 15, 'end': 16}, {'entity': 'I-SPAT+i_LOC', 'score': 0.99795157, 'index': 7, 'word': '▁Palais', 'start': 16, 'end': 23}, {'entity': 'I-SPAT+i_LOC', 'score': 0.99803203, 'index': 8, 'word': '-', 'start': 23, 'end': 24}, {'entity': 'I-SPAT+i_LOC', 'score': 0.99801195, 'index': 9, 'word': 'R', 'start': 24, 'end': 25}, {'entity': 'I-SPAT+i_LOC', 'score': 0.9980301, 'index': 10, 'word': '.', 'start': 25, 'end': 26}, {'entity': 'I-SPAT+i_LOC', 'score': 0.9979893, 'index': 11, 'word': ',', 'start': 26, 'end': 27}, {'entity': 'I-SPAT+i_LOC', 'score': 0.99814475, 'index': 12, 'word': '▁gal', 'start': 27, 'end': 31}, {'entity': 'I-SPAT+i_LOC', 'score': 0.99810386, 'index': 13, 'word': '.', 'start': 31, 'end': 32}, {'entity': 'I-SPAT+i_LOC', 'score': 0.9980567, 'index': 14, 'word': '▁vitrée', 'start': 32, 'end': 39}, {'entity': 'I-SPAT+O', 'score': 0.9952146, 'index': 15, 'word': ',', 'start': 39, 'end': 40}, {'entity': 'I-SPAT+i_CARDINAL', 'score': 0.99808466, 'index': 16, 'word': '▁2', 'start': 40, 'end': 42}, {'entity': 'I-SPAT+i_CARDINAL', 'score': 0.9968094, 'index': 17, 'word': '15.', 'start': 42, 'end': 45}, {'entity': 'O+O', 'score': 0.992396, 'index': 18, 'word': '▁A', 'start': 45, 'end': 47}, {'entity': 'O+O', 'score': 0.9934129, 'index': 19, 'word': '▁', 'start': 47, 'end': 48}]\n",
      "<PER>Dufort</PER>,<ACT> bottier</ACT>,<SPAT><LOC> Palais-R., gal. vitrée</LOC>,<CARDINAL> 215.</CARDINAL></SPAT> ",
      "A \n",
      "\n",
      "Dufort fils, bottier (exp. 1819.), r. J.-J.. ",
      "Rousscan. 18. ",
      "290 \n"
     ]
    },
    {
     "name": "stdout",
     "output_type": "stream",
     "text": [
      "[{'entity': 'I-PER+O', 'score': 0.99819297, 'index': 1, 'word': '▁Du', 'start': 0, 'end': 2}, {'entity': 'I-PER+O', 'score': 0.99818987, 'index': 2, 'word': 'fort', 'start': 2, 'end': 6}, {'entity': 'I-PER+O', 'score': 0.99818987, 'index': 3, 'word': '▁fils', 'start': 6, 'end': 11}, {'entity': 'O+O', 'score': 0.97874534, 'index': 4, 'word': ',', 'start': 11, 'end': 12}, {'entity': 'I-DESC+i_ACT', 'score': 0.9174126, 'index': 5, 'word': '▁bot', 'start': 12, 'end': 16}, {'entity': 'I-DESC+i_ACT', 'score': 0.92170715, 'index': 6, 'word': 'tier', 'start': 16, 'end': 20}, {'entity': 'I-DESC+i_ACT', 'score': 0.85495996, 'index': 7, 'word': '▁(', 'start': 20, 'end': 22}, {'entity': 'I-DESC+i_TITREP', 'score': 0.8442012, 'index': 8, 'word': 'exp', 'start': 22, 'end': 25}, {'entity': 'I-DESC+i_TITREP', 'score': 0.7632165, 'index': 9, 'word': '.', 'start': 25, 'end': 26}, {'entity': 'I-DESC+i_TITREP', 'score': 0.85508275, 'index': 10, 'word': '▁18', 'start': 26, 'end': 29}, {'entity': 'I-DESC+i_ACT', 'score': 0.4429265, 'index': 11, 'word': '19', 'start': 29, 'end': 31}, {'entity': 'O+O', 'score': 0.3480353, 'index': 12, 'word': '.', 'start': 31, 'end': 32}, {'entity': 'O+O', 'score': 0.98394704, 'index': 13, 'word': '),', 'start': 32, 'end': 34}, {'entity': 'I-SPAT+i_LOC', 'score': 0.9982167, 'index': 14, 'word': '▁r', 'start': 34, 'end': 36}, {'entity': 'I-SPAT+i_LOC', 'score': 0.99817574, 'index': 15, 'word': '.', 'start': 36, 'end': 37}, {'entity': 'I-SPAT+i_LOC', 'score': 0.99822086, 'index': 16, 'word': '▁J', 'start': 37, 'end': 39}, {'entity': 'I-SPAT+i_LOC', 'score': 0.99822026, 'index': 17, 'word': '.', 'start': 39, 'end': 40}, {'entity': 'I-SPAT+i_LOC', 'score': 0.9982206, 'index': 18, 'word': '-', 'start': 40, 'end': 41}, {'entity': 'I-SPAT+i_LOC', 'score': 0.99821496, 'index': 19, 'word': 'J', 'start': 41, 'end': 42}, {'entity': 'I-SPAT+i_LOC', 'score': 0.9982128, 'index': 20, 'word': '.', 'start': 42, 'end': 43}, {'entity': 'I-SPAT+i_LOC', 'score': 0.9981951, 'index': 21, 'word': '.', 'start': 43, 'end': 44}, {'entity': 'I-SPAT+i_LOC', 'score': 0.9981908, 'index': 22, 'word': '▁Rou', 'start': 44, 'end': 48}, {'entity': 'I-SPAT+i_LOC', 'score': 0.998187, 'index': 23, 'word': 's', 'start': 48, 'end': 49}, {'entity': 'I-SPAT+i_LOC', 'score': 0.9981781, 'index': 24, 'word': 's', 'start': 49, 'end': 50}, {'entity': 'I-SPAT+i_LOC', 'score': 0.99815816, 'index': 25, 'word': 'can', 'start': 50, 'end': 53}, {'entity': 'I-SPAT+i_LOC', 'score': 0.9464022, 'index': 26, 'word': '.', 'start': 53, 'end': 54}, {'entity': 'I-SPAT+i_CARDINAL', 'score': 0.98828226, 'index': 27, 'word': '▁18', 'start': 54, 'end': 57}, {'entity': 'O+O', 'score': 0.83987564, 'index': 28, 'word': '.', 'start': 57, 'end': 58}, {'entity': 'O+O', 'score': 0.9631019, 'index': 29, 'word': '▁2', 'start': 58, 'end': 60}, {'entity': 'O+O', 'score': 0.982803, 'index': 30, 'word': '90', 'start': 60, 'end': 62}, {'entity': 'O+O', 'score': 0.99604106, 'index': 31, 'word': '▁', 'start': 62, 'end': 63}]\n",
      "<PER>Dufort fils</PER>,<DESC><ACT> bottier (</ACT><TITREP>exp. 18</TITREP><ACT>19</ACT></DESC>.),<SPAT><LOC> r. J.-J.. ",
      "Rousscan.</LOC><CARDINAL> 18</CARDINAL></SPAT>. ",
      "290 \n",
      "\n",
      "* ",
      "Dufort, tabletier, r. Jean-Pain-Mollet, 10. ",
      "4O \n",
      "[{'entity': 'O+O', 'score': 0.99631953, 'index': 1, 'word': '▁*', 'start': 0, 'end': 1}, {'entity': 'I-PER+O', 'score': 0.9981686, 'index': 2, 'word': '▁Du', 'start': 1, 'end': 4}, {'entity': 'I-PER+O', 'score': 0.9981654, 'index': 3, 'word': 'fort', 'start': 4, 'end': 8}, {'entity': 'O+O', 'score': 0.8325742, 'index': 4, 'word': ',', 'start': 8, 'end': 9}, {'entity': 'I-ACT+O', 'score': 0.9957295, 'index': 5, 'word': '▁table', 'start': 9, 'end': 15}, {'entity': 'I-ACT+O', 'score': 0.99570554, 'index': 6, 'word': 'tier', 'start': 15, 'end': 19}, {'entity': 'O+O', 'score': 0.9960949, 'index': 7, 'word': ',', 'start': 19, 'end': 20}, {'entity': 'I-SPAT+i_LOC', 'score': 0.9982029, 'index': 8, 'word': '▁r', 'start': 20, 'end': 22}, {'entity': 'I-SPAT+i_LOC', 'score': 0.99821174, 'index': 9, 'word': '.', 'start': 22, 'end': 23}, {'entity': 'I-SPAT+i_LOC', 'score': 0.99820185, 'index': 10, 'word': '▁Jean', 'start': 23, 'end': 28}, {'entity': 'I-SPAT+i_LOC', 'score': 0.99820423, 'index': 11, 'word': '-', 'start': 28, 'end': 29}, {'entity': 'I-SPAT+i_LOC', 'score': 0.99820423, 'index': 12, 'word': 'P', 'start': 29, 'end': 30}, {'entity': 'I-SPAT+i_LOC', 'score': 0.9981993, 'index': 13, 'word': 'ain', 'start': 30, 'end': 33}, {'entity': 'I-SPAT+i_LOC', 'score': 0.9981945, 'index': 14, 'word': '-', 'start': 33, 'end': 34}, {'entity': 'I-SPAT+i_LOC', 'score': 0.998197, 'index': 15, 'word': 'M', 'start': 34, 'end': 35}, {'entity': 'I-SPAT+i_LOC', 'score': 0.9981724, 'index': 16, 'word': 'ollet', 'start': 35, 'end': 40}, {'entity': 'I-SPAT+O', 'score': 0.9946536, 'index': 17, 'word': ',', 'start': 40, 'end': 41}, {'entity': 'I-SPAT+i_CARDINAL', 'score': 0.9978346, 'index': 18, 'word': '▁10', 'start': 41, 'end': 44}, {'entity': 'O+O', 'score': 0.9801697, 'index': 19, 'word': '.', 'start': 44, 'end': 45}, {'entity': 'O+O', 'score': 0.9954998, 'index': 20, 'word': '▁4', 'start': 45, 'end': 47}, {'entity': 'O+O', 'score': 0.9952904, 'index': 21, 'word': 'O', 'start': 47, 'end': 48}, {'entity': 'O+O', 'score': 0.9969708, 'index': 22, 'word': '▁', 'start': 48, 'end': 49}]\n",
      "*<PER> ",
      "Dufort</PER>,<ACT> tabletier</ACT>,<SPAT><LOC> r. Jean-Pain-Mollet</LOC>,<CARDINAL> 10</CARDINAL></SPAT>. ",
      "4O \n",
      "\n",
      "Dufossé, teiniurier, r. du Faub.-Montmar- ",
      "tre , 63. ",
      "483 \n",
      "[{'entity': 'I-PER+O', 'score': 0.99818027, 'index': 1, 'word': '▁Du', 'start': 0, 'end': 2}, {'entity': 'I-PER+O', 'score': 0.9981767, 'index': 2, 'word': 'foss', 'start': 2, 'end': 6}, {'entity': 'I-PER+O', 'score': 0.9981743, 'index': 3, 'word': 'é', 'start': 6, 'end': 7}, {'entity': 'O+O', 'score': 0.97896224, 'index': 4, 'word': ',', 'start': 7, 'end': 8}, {'entity': 'I-ACT+O', 'score': 0.99586415, 'index': 5, 'word': '▁te', 'start': 8, 'end': 11}, {'entity': 'I-ACT+O', 'score': 0.9958676, 'index': 6, 'word': 'ini', 'start': 11, 'end': 14}, {'entity': 'I-ACT+O', 'score': 0.9959019, 'index': 7, 'word': 'urier', 'start': 14, 'end': 19}, {'entity': 'O+O', 'score': 0.99556583, 'index': 8, 'word': ',', 'start': 19, 'end': 20}, {'entity': 'I-SPAT+i_LOC', 'score': 0.9982167, 'index': 9, 'word': '▁r', 'start': 20, 'end': 22}, {'entity': 'I-SPAT+i_LOC', 'score': 0.998221, 'index': 10, 'word': '.', 'start': 22, 'end': 23}, {'entity': 'I-SPAT+i_LOC', 'score': 0.9982237, 'index': 11, 'word': '▁du', 'start': 23, 'end': 26}, {'entity': 'I-SPAT+i_LOC', 'score': 0.9982157, 'index': 12, 'word': '▁Fau', 'start': 26, 'end': 30}, {'entity': 'I-SPAT+i_LOC', 'score': 0.9982151, 'index': 13, 'word': 'b', 'start': 30, 'end': 31}, {'entity': 'I-SPAT+i_LOC', 'score': 0.99821115, 'index': 14, 'word': '.', 'start': 31, 'end': 32}, {'entity': 'I-SPAT+i_LOC', 'score': 0.998207, 'index': 15, 'word': '-', 'start': 32, 'end': 33}, {'entity': 'I-SPAT+i_LOC', 'score': 0.9982108, 'index': 16, 'word': 'Mont', 'start': 33, 'end': 37}, {'entity': 'I-SPAT+i_LOC', 'score': 0.99820423, 'index': 17, 'word': 'mar', 'start': 37, 'end': 40}, {'entity': 'I-SPAT+i_LOC', 'score': 0.9981963, 'index': 18, 'word': '-', 'start': 40, 'end': 41}, {'entity': 'I-SPAT+i_LOC', 'score': 0.9981804, 'index': 19, 'word': '▁tre', 'start': 41, 'end': 45}, {'entity': 'I-SPAT+O', 'score': 0.99529725, 'index': 20, 'word': '▁', 'start': 45, 'end': 46}, {'entity': 'I-SPAT+O', 'score': 0.9858773, 'index': 21, 'word': ',', 'start': 46, 'end': 47}, {'entity': 'I-SPAT+i_CARDINAL', 'score': 0.99483794, 'index': 22, 'word': '▁63', 'start': 47, 'end': 50}, {'entity': 'O+O', 'score': 0.99536693, 'index': 23, 'word': '.', 'start': 50, 'end': 51}, {'entity': 'O+O', 'score': 0.9954449, 'index': 24, 'word': '▁4', 'start': 51, 'end': 53}, {'entity': 'O+O', 'score': 0.9957747, 'index': 25, 'word': '83', 'start': 53, 'end': 55}, {'entity': 'O+O', 'score': 0.99713635, 'index': 26, 'word': '▁', 'start': 55, 'end': 56}]\n",
      "<PER>Dufossé</PER>,<ACT> teiniurier</ACT>,<SPAT><LOC> r. du Faub.-Montmar- ",
      "tre</LOC> ,<CARDINAL> 63</CARDINAL></SPAT>. ",
      "483 \n",
      "\n",
      "Duſour el Besnard, march, de bois à bruler, ",
      "quai de la Tournelle, 17. etr. des Fossés- ",
      "SBernard. 11. ",
      "Dí \n",
      "[{'entity': 'I-PER+O', 'score': 0.99815816, 'index': 1, 'word': '▁Du', 'start': 0, 'end': 2}, {'entity': 'I-PER+O', 'score': 0.9981256, 'index': 2, 'word': 's', 'start': 2, 'end': 3}, {'entity': 'I-PER+O', 'score': 0.9981173, 'index': 3, 'word': 'our', 'start': 3, 'end': 6}, {'entity': 'I-PER+O', 'score': 0.99784803, 'index': 4, 'word': '▁el', 'start': 6, 'end': 9}, {'entity': 'I-PER+O', 'score': 0.998073, 'index': 5, 'word': '▁Be', 'start': 9, 'end': 12}, {'entity': 'I-PER+O', 'score': 0.99807847, 'index': 6, 'word': 's', 'start': 12, 'end': 13}, {'entity': 'I-PER+O', 'score': 0.998018, 'index': 7, 'word': 'nard', 'start': 13, 'end': 17}, {'entity': 'O+O', 'score': 0.9940712, 'index': 8, 'word': ',', 'start': 17, 'end': 18}, {'entity': 'I-ACT+O', 'score': 0.99543107, 'index': 9, 'word': '▁march', 'start': 18, 'end': 24}, {'entity': 'I-ACT+O', 'score': 0.994548, 'index': 10, 'word': ',', 'start': 24, 'end': 25}, {'entity': 'I-ACT+O', 'score': 0.9951768, 'index': 11, 'word': '▁de', 'start': 25, 'end': 28}, {'entity': 'I-ACT+O', 'score': 0.995417, 'index': 12, 'word': '▁bois', 'start': 28, 'end': 33}, {'entity': 'I-ACT+O', 'score': 0.9954419, 'index': 13, 'word': '▁à', 'start': 33, 'end': 35}, {'entity': 'I-ACT+O', 'score': 0.9955609, 'index': 14, 'word': '▁bru', 'start': 35, 'end': 39}, {'entity': 'I-ACT+O', 'score': 0.9954705, 'index': 15, 'word': 'ler', 'start': 39, 'end': 42}, {'entity': 'O+O', 'score': 0.9932609, 'index': 16, 'word': ',', 'start': 42, 'end': 43}, {'entity': 'I-SPAT+i_LOC', 'score': 0.998201, 'index': 17, 'word': '▁qu', 'start': 43, 'end': 46}, {'entity': 'I-SPAT+i_LOC', 'score': 0.99820423, 'index': 18, 'word': 'ai', 'start': 46, 'end': 48}, {'entity': 'I-SPAT+i_LOC', 'score': 0.9982035, 'index': 19, 'word': '▁de', 'start': 48, 'end': 51}, {'entity': 'I-SPAT+i_LOC', 'score': 0.9981989, 'index': 20, 'word': '▁la', 'start': 51, 'end': 54}, {'entity': 'I-SPAT+i_LOC', 'score': 0.99818677, 'index': 21, 'word': '▁Tour', 'start': 54, 'end': 59}, {'entity': 'I-SPAT+i_LOC', 'score': 0.9981718, 'index': 22, 'word': 'nelle', 'start': 59, 'end': 64}, {'entity': 'I-SPAT+O', 'score': 0.99584323, 'index': 23, 'word': ',', 'start': 64, 'end': 65}, {'entity': 'I-SPAT+i_CARDINAL', 'score': 0.99805, 'index': 24, 'word': '▁17', 'start': 65, 'end': 68}, {'entity': 'I-SPAT+O', 'score': 0.55286235, 'index': 25, 'word': '.', 'start': 68, 'end': 69}, {'entity': 'I-SPAT+i_LOC', 'score': 0.79831743, 'index': 26, 'word': '▁et', 'start': 69, 'end': 72}, {'entity': 'I-SPAT+i_LOC', 'score': 0.98704344, 'index': 27, 'word': 'r', 'start': 72, 'end': 73}, {'entity': 'I-SPAT+i_LOC', 'score': 0.98984176, 'index': 28, 'word': '.', 'start': 73, 'end': 74}, {'entity': 'I-SPAT+i_LOC', 'score': 0.99799347, 'index': 29, 'word': '▁des', 'start': 74, 'end': 78}, {'entity': 'I-SPAT+i_LOC', 'score': 0.9981335, 'index': 30, 'word': '▁Fo', 'start': 78, 'end': 81}, {'entity': 'I-SPAT+i_LOC', 'score': 0.99813336, 'index': 31, 'word': 'ssé', 'start': 81, 'end': 84}, {'entity': 'I-SPAT+i_LOC', 'score': 0.99810994, 'index': 32, 'word': 's', 'start': 84, 'end': 85}, {'entity': 'I-SPAT+i_LOC', 'score': 0.9975151, 'index': 33, 'word': '-', 'start': 85, 'end': 86}, {'entity': 'I-SPAT+i_LOC', 'score': 0.99793893, 'index': 34, 'word': '▁S', 'start': 86, 'end': 88}, {'entity': 'I-SPAT+i_LOC', 'score': 0.9973948, 'index': 35, 'word': 'Bernard', 'start': 88, 'end': 95}, {'entity': 'O+O', 'score': 0.99480504, 'index': 36, 'word': '.', 'start': 95, 'end': 96}, {'entity': 'O+O', 'score': 0.99175745, 'index': 37, 'word': '▁11', 'start': 96, 'end': 99}, {'entity': 'O+O', 'score': 0.99333304, 'index': 38, 'word': '.', 'start': 99, 'end': 100}, {'entity': 'O+O', 'score': 0.99342644, 'index': 39, 'word': '▁D', 'start': 100, 'end': 102}, {'entity': 'O+O', 'score': 0.99442214, 'index': 40, 'word': 'í', 'start': 102, 'end': 103}, {'entity': 'O+O', 'score': 0.99496895, 'index': 41, 'word': '▁', 'start': 103, 'end': 104}]\n",
      "<PER>Duſour el Besnard</PER>,<ACT> march, de bois à bruler</ACT>,<SPAT><LOC> ",
      "quai de la Tournelle</LOC>,<CARDINAL> 17</CARDINAL>.<LOC> etr. des Fossés- ",
      "SBernard</LOC></SPAT>. 11. ",
      "Dí \n",
      "\n",
      "Dufour jeune, march, de bois à brüler ",
      "de la Pépinière, 53. ",
      "7 r. \n"
     ]
    },
    {
     "name": "stdout",
     "output_type": "stream",
     "text": [
      "[{'entity': 'I-PER+O', 'score': 0.99819154, 'index': 1, 'word': '▁Du', 'start': 0, 'end': 2}, {'entity': 'I-PER+O', 'score': 0.99818414, 'index': 2, 'word': 'four', 'start': 2, 'end': 6}, {'entity': 'I-PER+O', 'score': 0.9981812, 'index': 3, 'word': '▁jeune', 'start': 6, 'end': 12}, {'entity': 'O+O', 'score': 0.9871601, 'index': 4, 'word': ',', 'start': 12, 'end': 13}, {'entity': 'I-DESC+i_ACT', 'score': 0.66297853, 'index': 5, 'word': '▁march', 'start': 13, 'end': 19}, {'entity': 'I-DESC+i_ACT', 'score': 0.59895146, 'index': 6, 'word': ',', 'start': 19, 'end': 20}, {'entity': 'I-DESC+i_ACT', 'score': 0.65066147, 'index': 7, 'word': '▁de', 'start': 20, 'end': 23}, {'entity': 'I-DESC+i_ACT', 'score': 0.5357219, 'index': 8, 'word': '▁bois', 'start': 23, 'end': 28}, {'entity': 'I-DESC+i_ACT', 'score': 0.5806365, 'index': 9, 'word': '▁à', 'start': 28, 'end': 30}, {'entity': 'I-DESC+i_ACT', 'score': 0.52131927, 'index': 10, 'word': '▁br', 'start': 30, 'end': 33}, {'entity': 'I-DESC+i_ACT', 'score': 0.605073, 'index': 11, 'word': 'ü', 'start': 33, 'end': 34}, {'entity': 'I-DESC+i_ACT', 'score': 0.6756735, 'index': 12, 'word': 'ler', 'start': 34, 'end': 37}, {'entity': 'I-DESC+O', 'score': 0.89364976, 'index': 13, 'word': '▁de', 'start': 37, 'end': 40}, {'entity': 'I-DESC+O', 'score': 0.8298152, 'index': 14, 'word': '▁la', 'start': 40, 'end': 43}, {'entity': 'I-SPAT+i_LOC', 'score': 0.6668267, 'index': 15, 'word': '▁P', 'start': 43, 'end': 45}, {'entity': 'I-DESC+O', 'score': 0.56948924, 'index': 16, 'word': 'épi', 'start': 45, 'end': 48}, {'entity': 'I-SPAT+i_LOC', 'score': 0.50496674, 'index': 17, 'word': 'nière', 'start': 48, 'end': 53}, {'entity': 'I-SPAT+O', 'score': 0.8862897, 'index': 18, 'word': ',', 'start': 53, 'end': 54}, {'entity': 'I-SPAT+i_CARDINAL', 'score': 0.997883, 'index': 19, 'word': '▁53', 'start': 54, 'end': 57}, {'entity': 'O+O', 'score': 0.978044, 'index': 20, 'word': '.', 'start': 57, 'end': 58}, {'entity': 'O+O', 'score': 0.97273636, 'index': 21, 'word': '▁7', 'start': 58, 'end': 60}, {'entity': 'O+O', 'score': 0.90967935, 'index': 22, 'word': '▁r', 'start': 60, 'end': 62}, {'entity': 'O+O', 'score': 0.8894526, 'index': 23, 'word': '.', 'start': 62, 'end': 63}, {'entity': 'O+O', 'score': 0.8449795, 'index': 24, 'word': '▁', 'start': 63, 'end': 64}]\n",
      "<PER>Dufour jeune</PER>,<DESC><ACT> march, de bois à brüler</ACT> ",
      "de la</DESC><SPAT><LOC> P</LOC></SPAT><DESC>épi</DESC><SPAT><LOC>nière</LOC>,<CARDINAL> 53</CARDINAL></SPAT>. ",
      "7 r. \n",
      "\n",
      "Dufour (Mad.), march. de chapeaux de ",
      "paitle, passage dn Panorama, 11. ",
      "IO \n",
      "[{'entity': 'I-PER+O', 'score': 0.9981975, 'index': 1, 'word': '▁Du', 'start': 0, 'end': 2}, {'entity': 'I-PER+O', 'score': 0.9981951, 'index': 2, 'word': 'four', 'start': 2, 'end': 6}, {'entity': 'I-PER+O', 'score': 0.9981822, 'index': 3, 'word': '▁(', 'start': 6, 'end': 8}, {'entity': 'I-PER+O', 'score': 0.9981627, 'index': 4, 'word': 'M', 'start': 8, 'end': 9}, {'entity': 'I-PER+O', 'score': 0.99800533, 'index': 5, 'word': 'ad', 'start': 9, 'end': 11}, {'entity': 'I-PER+O', 'score': 0.9962612, 'index': 6, 'word': '.', 'start': 11, 'end': 12}, {'entity': 'O+O', 'score': 0.99230725, 'index': 7, 'word': '),', 'start': 12, 'end': 14}, {'entity': 'I-ACT+O', 'score': 0.9956144, 'index': 8, 'word': '▁march', 'start': 14, 'end': 20}, {'entity': 'I-ACT+O', 'score': 0.9953754, 'index': 9, 'word': '.', 'start': 20, 'end': 21}, {'entity': 'I-ACT+O', 'score': 0.99557567, 'index': 10, 'word': '▁de', 'start': 21, 'end': 24}, {'entity': 'I-ACT+O', 'score': 0.9956209, 'index': 11, 'word': '▁chapeaux', 'start': 24, 'end': 33}, {'entity': 'I-ACT+O', 'score': 0.9956037, 'index': 12, 'word': '▁de', 'start': 33, 'end': 36}, {'entity': 'I-ACT+O', 'score': 0.99568814, 'index': 13, 'word': '▁p', 'start': 36, 'end': 38}, {'entity': 'I-ACT+O', 'score': 0.995719, 'index': 14, 'word': 'ait', 'start': 38, 'end': 41}, {'entity': 'I-ACT+O', 'score': 0.99569726, 'index': 15, 'word': 'le', 'start': 41, 'end': 43}, {'entity': 'O+O', 'score': 0.9946196, 'index': 16, 'word': ',', 'start': 43, 'end': 44}, {'entity': 'I-SPAT+i_LOC', 'score': 0.9982167, 'index': 17, 'word': '▁passage', 'start': 44, 'end': 52}, {'entity': 'I-SPAT+i_LOC', 'score': 0.9982158, 'index': 18, 'word': '▁d', 'start': 52, 'end': 54}, {'entity': 'I-SPAT+i_LOC', 'score': 0.9982054, 'index': 19, 'word': 'n', 'start': 54, 'end': 55}, {'entity': 'I-SPAT+i_LOC', 'score': 0.99819785, 'index': 20, 'word': '▁Pan', 'start': 55, 'end': 59}, {'entity': 'I-SPAT+i_LOC', 'score': 0.9981828, 'index': 21, 'word': 'orama', 'start': 59, 'end': 64}, {'entity': 'I-SPAT+O', 'score': 0.99438804, 'index': 22, 'word': ',', 'start': 64, 'end': 65}, {'entity': 'I-SPAT+i_CARDINAL', 'score': 0.9975885, 'index': 23, 'word': '▁11', 'start': 65, 'end': 68}, {'entity': 'O+O', 'score': 0.84633684, 'index': 24, 'word': '.', 'start': 68, 'end': 69}, {'entity': 'O+O', 'score': 0.9861377, 'index': 25, 'word': '▁', 'start': 69, 'end': 70}, {'entity': 'O+O', 'score': 0.984478, 'index': 26, 'word': 'IO', 'start': 70, 'end': 72}, {'entity': 'O+O', 'score': 0.9931425, 'index': 27, 'word': '▁', 'start': 72, 'end': 73}]\n",
      "<PER>Dufour (Mad.</PER>),<ACT> march. de chapeaux de ",
      "paitle</ACT>,<SPAT><LOC> passage dn Panorama</LOC>,<CARDINAL> 11</CARDINAL></SPAT>. ",
      "IO \n",
      "\n",
      "Dutour, thapelier, r. S.-Honore ",
      "383. 3og \n",
      "[{'entity': 'I-PER+O', 'score': 0.99816835, 'index': 1, 'word': '▁Du', 'start': 0, 'end': 2}, {'entity': 'I-PER+O', 'score': 0.9981352, 'index': 2, 'word': 'tour', 'start': 2, 'end': 6}, {'entity': 'O+O', 'score': 0.62554145, 'index': 3, 'word': ',', 'start': 6, 'end': 7}, {'entity': 'I-ACT+O', 'score': 0.99578357, 'index': 4, 'word': '▁', 'start': 7, 'end': 8}, {'entity': 'I-ACT+O', 'score': 0.9960264, 'index': 5, 'word': 'tha', 'start': 8, 'end': 11}, {'entity': 'I-ACT+O', 'score': 0.99601424, 'index': 6, 'word': 'pe', 'start': 11, 'end': 13}, {'entity': 'I-ACT+O', 'score': 0.9957865, 'index': 7, 'word': 'lier', 'start': 13, 'end': 17}, {'entity': 'O+O', 'score': 0.9937691, 'index': 8, 'word': ',', 'start': 17, 'end': 18}, {'entity': 'I-SPAT+i_LOC', 'score': 0.998216, 'index': 9, 'word': '▁r', 'start': 18, 'end': 20}, {'entity': 'I-SPAT+i_LOC', 'score': 0.99820256, 'index': 10, 'word': '.', 'start': 20, 'end': 21}, {'entity': 'I-SPAT+i_LOC', 'score': 0.9982198, 'index': 11, 'word': '▁S', 'start': 21, 'end': 23}, {'entity': 'I-SPAT+i_LOC', 'score': 0.9982205, 'index': 12, 'word': '.', 'start': 23, 'end': 24}, {'entity': 'I-SPAT+i_LOC', 'score': 0.9982223, 'index': 13, 'word': '-', 'start': 24, 'end': 25}, {'entity': 'I-SPAT+i_LOC', 'score': 0.99822134, 'index': 14, 'word': 'H', 'start': 25, 'end': 26}, {'entity': 'I-SPAT+i_LOC', 'score': 0.9982179, 'index': 15, 'word': 'on', 'start': 26, 'end': 28}, {'entity': 'I-SPAT+i_LOC', 'score': 0.998209, 'index': 16, 'word': 'ore', 'start': 28, 'end': 31}, {'entity': 'I-SPAT+i_CARDINAL', 'score': 0.99441385, 'index': 17, 'word': '▁38', 'start': 31, 'end': 34}, {'entity': 'O+O', 'score': 0.9667745, 'index': 18, 'word': '3.', 'start': 34, 'end': 36}, {'entity': 'O+O', 'score': 0.9928227, 'index': 19, 'word': '▁3', 'start': 36, 'end': 38}, {'entity': 'O+O', 'score': 0.99345547, 'index': 20, 'word': 'og', 'start': 38, 'end': 40}, {'entity': 'O+O', 'score': 0.9938294, 'index': 21, 'word': '▁', 'start': 40, 'end': 41}]\n",
      "<PER>Dutour</PER>,<ACT> thapelier</ACT>,<SPAT><LOC> r. S.-Honore</LOC><CARDINAL> ",
      "38</CARDINAL></SPAT>3. 3og \n",
      "\n",
      "Dufour, cirier, r. de PArbre-Sec, 6o. ",
      "316 \n",
      "[{'entity': 'I-PER+O', 'score': 0.99817574, 'index': 1, 'word': '▁Du', 'start': 0, 'end': 2}, {'entity': 'I-PER+O', 'score': 0.9981705, 'index': 2, 'word': 'four', 'start': 2, 'end': 6}, {'entity': 'O+O', 'score': 0.97228235, 'index': 3, 'word': ',', 'start': 6, 'end': 7}, {'entity': 'I-ACT+O', 'score': 0.995867, 'index': 4, 'word': '▁ci', 'start': 7, 'end': 10}, {'entity': 'I-ACT+O', 'score': 0.9958839, 'index': 5, 'word': 'rier', 'start': 10, 'end': 14}, {'entity': 'O+O', 'score': 0.99531543, 'index': 6, 'word': ',', 'start': 14, 'end': 15}, {'entity': 'I-SPAT+i_LOC', 'score': 0.99821717, 'index': 7, 'word': '▁r', 'start': 15, 'end': 17}, {'entity': 'I-SPAT+i_LOC', 'score': 0.99821496, 'index': 8, 'word': '.', 'start': 17, 'end': 18}, {'entity': 'I-SPAT+i_LOC', 'score': 0.9982216, 'index': 9, 'word': '▁de', 'start': 18, 'end': 21}, {'entity': 'I-SPAT+i_LOC', 'score': 0.99821556, 'index': 10, 'word': '▁PA', 'start': 21, 'end': 24}, {'entity': 'I-SPAT+i_LOC', 'score': 0.998216, 'index': 11, 'word': 'r', 'start': 24, 'end': 25}, {'entity': 'I-SPAT+i_LOC', 'score': 0.998214, 'index': 12, 'word': 'bre', 'start': 25, 'end': 28}, {'entity': 'I-SPAT+i_LOC', 'score': 0.99820983, 'index': 13, 'word': '-', 'start': 28, 'end': 29}, {'entity': 'I-SPAT+i_LOC', 'score': 0.99820185, 'index': 14, 'word': 'Sec', 'start': 29, 'end': 32}, {'entity': 'I-SPAT+O', 'score': 0.99482936, 'index': 15, 'word': ',', 'start': 32, 'end': 33}, {'entity': 'I-SPAT+i_CARDINAL', 'score': 0.9979703, 'index': 16, 'word': '▁6', 'start': 33, 'end': 35}, {'entity': 'I-SPAT+i_CARDINAL', 'score': 0.8513435, 'index': 17, 'word': 'o', 'start': 35, 'end': 36}, {'entity': 'O+O', 'score': 0.844149, 'index': 18, 'word': '.', 'start': 36, 'end': 37}, {'entity': 'O+O', 'score': 0.9944306, 'index': 19, 'word': '▁3', 'start': 37, 'end': 39}, {'entity': 'O+O', 'score': 0.9948915, 'index': 20, 'word': '16', 'start': 39, 'end': 41}, {'entity': 'O+O', 'score': 0.99665135, 'index': 21, 'word': '▁', 'start': 41, 'end': 42}]\n",
      "<PER>Dufour</PER>,<ACT> cirier</ACT>,<SPAT><LOC> r. de PArbre-Sec</LOC>,<CARDINAL> 6o</CARDINAL></SPAT>. ",
      "316 \n",
      "\n",
      "Dufour et co., commiss., r. des Contures- ",
      " ",
      "DAO ",
      "S. Dervajs, 18. \n",
      "[{'entity': 'I-PER+O', 'score': 0.9981694, 'index': 1, 'word': '▁Du', 'start': 0, 'end': 2}, {'entity': 'I-PER+O', 'score': 0.9981646, 'index': 2, 'word': 'four', 'start': 2, 'end': 6}, {'entity': 'I-PER+O', 'score': 0.9981079, 'index': 3, 'word': '▁et', 'start': 6, 'end': 9}, {'entity': 'I-PER+O', 'score': 0.9974246, 'index': 4, 'word': '▁co', 'start': 9, 'end': 12}, {'entity': 'I-PER+O', 'score': 0.99111146, 'index': 5, 'word': '.', 'start': 12, 'end': 13}, {'entity': 'O+O', 'score': 0.78336066, 'index': 6, 'word': ',', 'start': 13, 'end': 14}, {'entity': 'I-ACT+O', 'score': 0.99577796, 'index': 7, 'word': '▁commis', 'start': 14, 'end': 21}, {'entity': 'I-ACT+O', 'score': 0.9956748, 'index': 8, 'word': 's', 'start': 21, 'end': 22}, {'entity': 'I-ACT+O', 'score': 0.9951468, 'index': 9, 'word': '.', 'start': 22, 'end': 23}, {'entity': 'O+O', 'score': 0.8723419, 'index': 10, 'word': ',', 'start': 23, 'end': 24}, {'entity': 'I-SPAT+i_LOC', 'score': 0.99811316, 'index': 11, 'word': '▁r', 'start': 24, 'end': 26}, {'entity': 'I-SPAT+i_LOC', 'score': 0.99772173, 'index': 12, 'word': '.', 'start': 26, 'end': 27}, {'entity': 'I-SPAT+i_LOC', 'score': 0.99816054, 'index': 13, 'word': '▁des', 'start': 27, 'end': 31}, {'entity': 'I-SPAT+i_LOC', 'score': 0.9981812, 'index': 14, 'word': '▁Con', 'start': 31, 'end': 35}, {'entity': 'I-SPAT+i_LOC', 'score': 0.99809617, 'index': 15, 'word': 'tures', 'start': 35, 'end': 40}, {'entity': 'I-SPAT+i_LOC', 'score': 0.995908, 'index': 16, 'word': '-', 'start': 40, 'end': 41}, {'entity': 'I-SPAT+i_LOC', 'score': 0.9974734, 'index': 17, 'word': '▁D', 'start': 42, 'end': 44}, {'entity': 'I-SPAT+i_LOC', 'score': 0.99305737, 'index': 18, 'word': 'AO', 'start': 44, 'end': 46}, {'entity': 'I-SPAT+i_LOC', 'score': 0.9980521, 'index': 19, 'word': '▁S', 'start': 46, 'end': 48}, {'entity': 'I-SPAT+i_LOC', 'score': 0.99814665, 'index': 20, 'word': '.', 'start': 48, 'end': 49}, {'entity': 'I-SPAT+i_LOC', 'score': 0.9981864, 'index': 21, 'word': '▁Der', 'start': 49, 'end': 53}, {'entity': 'I-SPAT+i_LOC', 'score': 0.9981865, 'index': 22, 'word': 'va', 'start': 53, 'end': 55}, {'entity': 'I-SPAT+i_LOC', 'score': 0.99817574, 'index': 23, 'word': 'j', 'start': 55, 'end': 56}, {'entity': 'I-SPAT+i_LOC', 'score': 0.998154, 'index': 24, 'word': 's', 'start': 56, 'end': 57}, {'entity': 'I-SPAT+O', 'score': 0.99173427, 'index': 25, 'word': ',', 'start': 57, 'end': 58}, {'entity': 'I-SPAT+i_CARDINAL', 'score': 0.99789363, 'index': 26, 'word': '▁18', 'start': 58, 'end': 61}, {'entity': 'O+O', 'score': 0.9736449, 'index': 27, 'word': '.', 'start': 61, 'end': 62}, {'entity': 'O+O', 'score': 0.9954332, 'index': 28, 'word': '▁', 'start': 62, 'end': 63}]\n",
      "<PER>Dufour et co.</PER>,<ACT> commiss.</ACT>,<SPAT><LOC> r. des Contures- ",
      " ",
      "DAO ",
      "S. Dervajs</LOC>,<CARDINAL> 18</CARDINAL></SPAT>. \n",
      "\n",
      "Dulour, corropeir, 1. des Vertusy1d 3 \n",
      "[{'entity': 'I-PER+O', 'score': 0.99819285, 'index': 1, 'word': '▁Du', 'start': 0, 'end': 2}, {'entity': 'I-PER+O', 'score': 0.99818426, 'index': 2, 'word': 'lou', 'start': 2, 'end': 5}, {'entity': 'I-PER+O', 'score': 0.9981735, 'index': 3, 'word': 'r', 'start': 5, 'end': 6}, {'entity': 'O+O', 'score': 0.97246706, 'index': 4, 'word': ',', 'start': 6, 'end': 7}, {'entity': 'I-ACT+O', 'score': 0.99609405, 'index': 5, 'word': '▁corr', 'start': 7, 'end': 12}, {'entity': 'I-ACT+O', 'score': 0.9960603, 'index': 6, 'word': 'ope', 'start': 12, 'end': 15}, {'entity': 'I-ACT+O', 'score': 0.9959239, 'index': 7, 'word': 'ir', 'start': 15, 'end': 17}, {'entity': 'O+O', 'score': 0.9848526, 'index': 8, 'word': ',', 'start': 17, 'end': 18}, {'entity': 'I-SPAT+i_LOC', 'score': 0.9981457, 'index': 9, 'word': '▁1.', 'start': 18, 'end': 21}, {'entity': 'I-SPAT+i_LOC', 'score': 0.998184, 'index': 10, 'word': '▁des', 'start': 21, 'end': 25}, {'entity': 'I-SPAT+i_LOC', 'score': 0.9981699, 'index': 11, 'word': '▁Vert', 'start': 25, 'end': 30}, {'entity': 'I-SPAT+i_LOC', 'score': 0.99816006, 'index': 12, 'word': 'us', 'start': 30, 'end': 32}, {'entity': 'I-SPAT+i_LOC', 'score': 0.99790215, 'index': 13, 'word': 'y', 'start': 32, 'end': 33}, {'entity': 'I-SPAT+i_LOC', 'score': 0.99728787, 'index': 14, 'word': '1', 'start': 33, 'end': 34}, {'entity': 'I-SPAT+i_LOC', 'score': 0.97019166, 'index': 15, 'word': 'd', 'start': 34, 'end': 35}, {'entity': 'I-SPAT+i_CARDINAL', 'score': 0.93113714, 'index': 16, 'word': '▁3', 'start': 35, 'end': 37}, {'entity': 'O+O', 'score': 0.9898968, 'index': 17, 'word': '▁', 'start': 37, 'end': 38}]\n",
      "<PER>Dulour</PER>,<ACT> corropeir</ACT>,<SPAT><LOC> 1. des Vertusy1d</LOC><CARDINAL> 3</CARDINAL></SPAT> \n",
      "\n",
      "Dufour (Charles), épicier, r. S.-Denis, ",
      "Jo7. ",
      "☞ ",
      "332 \n",
      "[{'entity': 'I-PER+O', 'score': 0.99819297, 'index': 1, 'word': '▁Du', 'start': 0, 'end': 2}, {'entity': 'I-PER+O', 'score': 0.99818915, 'index': 2, 'word': 'four', 'start': 2, 'end': 6}, {'entity': 'I-PER+O', 'score': 0.99817514, 'index': 3, 'word': '▁(', 'start': 6, 'end': 8}, {'entity': 'I-PER+O', 'score': 0.9981511, 'index': 4, 'word': 'Charles', 'start': 8, 'end': 15}, {'entity': 'O+O', 'score': 0.9830943, 'index': 5, 'word': '),', 'start': 15, 'end': 17}, {'entity': 'I-ACT+O', 'score': 0.9955444, 'index': 6, 'word': '▁épi', 'start': 17, 'end': 21}, {'entity': 'I-ACT+O', 'score': 0.9956749, 'index': 7, 'word': 'cier', 'start': 21, 'end': 25}, {'entity': 'O+O', 'score': 0.99672556, 'index': 8, 'word': ',', 'start': 25, 'end': 26}, {'entity': 'I-SPAT+i_LOC', 'score': 0.9982065, 'index': 9, 'word': '▁r', 'start': 26, 'end': 28}, {'entity': 'I-SPAT+i_LOC', 'score': 0.99819, 'index': 10, 'word': '.', 'start': 28, 'end': 29}, {'entity': 'I-SPAT+i_LOC', 'score': 0.99820626, 'index': 11, 'word': '▁S', 'start': 29, 'end': 31}, {'entity': 'I-SPAT+i_LOC', 'score': 0.9982084, 'index': 12, 'word': '.', 'start': 31, 'end': 32}, {'entity': 'I-SPAT+i_LOC', 'score': 0.9982065, 'index': 13, 'word': '-', 'start': 32, 'end': 33}, {'entity': 'I-SPAT+i_LOC', 'score': 0.9981944, 'index': 14, 'word': 'Denis', 'start': 33, 'end': 38}, {'entity': 'I-SPAT+O', 'score': 0.9898142, 'index': 15, 'word': ',', 'start': 38, 'end': 39}, {'entity': 'I-SPAT+i_CARDINAL', 'score': 0.9976065, 'index': 16, 'word': '▁Jo', 'start': 39, 'end': 42}, {'entity': 'I-SPAT+i_CARDINAL', 'score': 0.97314227, 'index': 17, 'word': '7', 'start': 42, 'end': 43}, {'entity': 'O+O', 'score': 0.9918969, 'index': 18, 'word': '.', 'start': 43, 'end': 44}, {'entity': 'O+O', 'score': 0.99442494, 'index': 19, 'word': '▁', 'start': 44, 'end': 45}, {'entity': 'O+O', 'score': 0.9945427, 'index': 20, 'word': '☞', 'start': 45, 'end': 46}, {'entity': 'O+O', 'score': 0.9943666, 'index': 21, 'word': '▁3', 'start': 46, 'end': 48}, {'entity': 'O+O', 'score': 0.9941896, 'index': 22, 'word': '32', 'start': 48, 'end': 50}, {'entity': 'O+O', 'score': 0.99628335, 'index': 23, 'word': '▁', 'start': 50, 'end': 51}]\n",
      "<PER>Dufour (Charles</PER>),<ACT> épicier</ACT>,<SPAT><LOC> r. S.-Denis</LOC>,<CARDINAL> ",
      "Jo7</CARDINAL></SPAT>. ",
      "☞ ",
      "332 \n",
      "\n",
      "Dufour, fab. d&apos;éventails (erp. 1819) ",
      "Beaubourg, 48. ",
      " ",
      "360 \n",
      "[{'entity': 'I-PER+O', 'score': 0.99818367, 'index': 1, 'word': '▁Du', 'start': 0, 'end': 2}, {'entity': 'I-PER+O', 'score': 0.99817693, 'index': 2, 'word': 'four', 'start': 2, 'end': 6}, {'entity': 'O+O', 'score': 0.90182954, 'index': 3, 'word': ',', 'start': 6, 'end': 7}, {'entity': 'I-DESC+i_ACT', 'score': 0.9530523, 'index': 4, 'word': '▁fa', 'start': 7, 'end': 10}, {'entity': 'I-DESC+i_ACT', 'score': 0.95324963, 'index': 5, 'word': 'b', 'start': 10, 'end': 11}, {'entity': 'I-DESC+i_ACT', 'score': 0.95291924, 'index': 6, 'word': '.', 'start': 11, 'end': 12}, {'entity': 'I-DESC+i_ACT', 'score': 0.9536121, 'index': 7, 'word': '▁d', 'start': 12, 'end': 14}, {'entity': 'O+O', 'score': 0.98264325, 'index': 8, 'word': '&', 'start': 14, 'end': 15}, {'entity': 'I-DESC+i_ACT', 'score': 0.953483, 'index': 9, 'word': 'apos', 'start': 15, 'end': 19}, {'entity': 'I-DESC+i_ACT', 'score': 0.9541945, 'index': 10, 'word': ';', 'start': 19, 'end': 20}, {'entity': 'I-DESC+i_ACT', 'score': 0.9534972, 'index': 11, 'word': 'é', 'start': 20, 'end': 21}, {'entity': 'I-DESC+i_ACT', 'score': 0.9534728, 'index': 12, 'word': 'vent', 'start': 21, 'end': 25}, {'entity': 'I-DESC+i_ACT', 'score': 0.95361596, 'index': 13, 'word': 'a', 'start': 25, 'end': 26}, {'entity': 'I-DESC+i_ACT', 'score': 0.9537063, 'index': 14, 'word': 'ils', 'start': 26, 'end': 29}, {'entity': 'I-DESC+O', 'score': 0.8218567, 'index': 15, 'word': '▁(', 'start': 29, 'end': 31}, {'entity': 'I-DESC+i_TITREP', 'score': 0.8812859, 'index': 16, 'word': 'er', 'start': 31, 'end': 33}, {'entity': 'I-DESC+i_TITREP', 'score': 0.8866794, 'index': 17, 'word': 'p', 'start': 33, 'end': 34}, {'entity': 'I-DESC+i_TITREP', 'score': 0.8846039, 'index': 18, 'word': '.', 'start': 34, 'end': 35}, {'entity': 'I-DESC+i_TITREP', 'score': 0.8991407, 'index': 19, 'word': '▁18', 'start': 35, 'end': 38}, {'entity': 'I-DESC+i_TITREP', 'score': 0.75269073, 'index': 20, 'word': '19', 'start': 38, 'end': 40}, {'entity': 'I-DESC+O', 'score': 0.8611398, 'index': 21, 'word': ')', 'start': 40, 'end': 41}, {'entity': 'I-SPAT+i_LOC', 'score': 0.9981117, 'index': 22, 'word': '▁Beau', 'start': 41, 'end': 46}, {'entity': 'I-SPAT+i_LOC', 'score': 0.9980945, 'index': 23, 'word': 'bourg', 'start': 46, 'end': 51}, {'entity': 'I-SPAT+O', 'score': 0.9921957, 'index': 24, 'word': ',', 'start': 51, 'end': 52}, {'entity': 'I-SPAT+i_CARDINAL', 'score': 0.99759775, 'index': 25, 'word': '▁48', 'start': 52, 'end': 55}, {'entity': 'O+O', 'score': 0.9445217, 'index': 26, 'word': '.', 'start': 55, 'end': 56}, {'entity': 'O+O', 'score': 0.9906384, 'index': 27, 'word': '▁360', 'start': 57, 'end': 61}, {'entity': 'O+O', 'score': 0.9967237, 'index': 28, 'word': '▁', 'start': 61, 'end': 62}]\n"
     ]
    },
    {
     "name": "stdout",
     "output_type": "stream",
     "text": [
      "<PER>Dufour</PER>,<DESC><ACT> fab. d</ACT></DESC>&amp;<DESC><ACT>apos;éventails</ACT> (<TITREP>erp. 1819</TITREP>)</DESC><SPAT><LOC> ",
      "Beaubourg</LOC>,<CARDINAL> 48</CARDINAL></SPAT>. ",
      " ",
      "360 \n",
      "\n",
      "Dufour, faiencter, r. S.-Anne , 50. ",
      "302 \n",
      "[{'entity': 'I-PER+O', 'score': 0.9981838, 'index': 1, 'word': '▁Du', 'start': 0, 'end': 2}, {'entity': 'I-PER+O', 'score': 0.99817884, 'index': 2, 'word': 'four', 'start': 2, 'end': 6}, {'entity': 'O+O', 'score': 0.9402022, 'index': 3, 'word': ',', 'start': 6, 'end': 7}, {'entity': 'I-ACT+O', 'score': 0.9962482, 'index': 4, 'word': '▁fai', 'start': 7, 'end': 11}, {'entity': 'I-ACT+O', 'score': 0.9961845, 'index': 5, 'word': 'enc', 'start': 11, 'end': 14}, {'entity': 'I-ACT+O', 'score': 0.99601114, 'index': 6, 'word': 'ter', 'start': 14, 'end': 17}, {'entity': 'O+O', 'score': 0.9914961, 'index': 7, 'word': ',', 'start': 17, 'end': 18}, {'entity': 'I-SPAT+i_LOC', 'score': 0.9982121, 'index': 8, 'word': '▁r', 'start': 18, 'end': 20}, {'entity': 'I-SPAT+i_LOC', 'score': 0.998192, 'index': 9, 'word': '.', 'start': 20, 'end': 21}, {'entity': 'I-SPAT+i_LOC', 'score': 0.9982167, 'index': 10, 'word': '▁S', 'start': 21, 'end': 23}, {'entity': 'I-SPAT+i_LOC', 'score': 0.99821824, 'index': 11, 'word': '.', 'start': 23, 'end': 24}, {'entity': 'I-SPAT+i_LOC', 'score': 0.9982192, 'index': 12, 'word': '-', 'start': 24, 'end': 25}, {'entity': 'I-SPAT+i_LOC', 'score': 0.9982146, 'index': 13, 'word': 'Anne', 'start': 25, 'end': 29}, {'entity': 'I-SPAT+O', 'score': 0.9963993, 'index': 14, 'word': '▁', 'start': 29, 'end': 30}, {'entity': 'I-SPAT+O', 'score': 0.99537575, 'index': 15, 'word': ',', 'start': 30, 'end': 31}, {'entity': 'I-SPAT+i_CARDINAL', 'score': 0.99804354, 'index': 16, 'word': '▁50', 'start': 31, 'end': 34}, {'entity': 'O+O', 'score': 0.9085446, 'index': 17, 'word': '.', 'start': 34, 'end': 35}, {'entity': 'O+O', 'score': 0.9922725, 'index': 18, 'word': '▁30', 'start': 35, 'end': 38}, {'entity': 'O+O', 'score': 0.99258465, 'index': 19, 'word': '2', 'start': 38, 'end': 39}, {'entity': 'O+O', 'score': 0.996326, 'index': 20, 'word': '▁', 'start': 39, 'end': 40}]\n",
      "<PER>Dufour</PER>,<ACT> faiencter</ACT>,<SPAT><LOC> r. S.-Anne</LOC> ,<CARDINAL> 50</CARDINAL></SPAT>. ",
      "302 \n",
      "\n",
      "Dufour, ",
      "A. Sarnt,r. Ventadour, ",
      "☞7 \n",
      "[{'entity': 'I-PER+O', 'score': 0.99818486, 'index': 1, 'word': '▁Du', 'start': 0, 'end': 2}, {'entity': 'I-PER+O', 'score': 0.99818003, 'index': 2, 'word': 'four', 'start': 2, 'end': 6}, {'entity': 'O+O', 'score': 0.72307116, 'index': 3, 'word': ',', 'start': 6, 'end': 7}, {'entity': 'I-ACT+O', 'score': 0.9911259, 'index': 4, 'word': '▁A', 'start': 7, 'end': 9}, {'entity': 'I-ACT+O', 'score': 0.9927037, 'index': 5, 'word': '.', 'start': 9, 'end': 10}, {'entity': 'I-ACT+O', 'score': 0.9937117, 'index': 6, 'word': '▁Sar', 'start': 10, 'end': 14}, {'entity': 'I-ACT+O', 'score': 0.98803955, 'index': 7, 'word': 'nt', 'start': 14, 'end': 16}, {'entity': 'I-ACT+O', 'score': 0.528365, 'index': 8, 'word': ',', 'start': 16, 'end': 17}, {'entity': 'I-SPAT+i_LOC', 'score': 0.9979962, 'index': 9, 'word': 'r', 'start': 17, 'end': 18}, {'entity': 'I-SPAT+i_LOC', 'score': 0.9980714, 'index': 10, 'word': '.', 'start': 18, 'end': 19}, {'entity': 'I-SPAT+i_LOC', 'score': 0.99819404, 'index': 11, 'word': '▁Vent', 'start': 19, 'end': 24}, {'entity': 'I-SPAT+i_LOC', 'score': 0.99819094, 'index': 12, 'word': 'ado', 'start': 24, 'end': 27}, {'entity': 'I-SPAT+i_LOC', 'score': 0.99818027, 'index': 13, 'word': 'ur', 'start': 27, 'end': 29}, {'entity': 'I-SPAT+O', 'score': 0.9963027, 'index': 14, 'word': ',', 'start': 29, 'end': 30}, {'entity': 'I-SPAT+i_CARDINAL', 'score': 0.9980896, 'index': 15, 'word': '▁', 'start': 30, 'end': 31}, {'entity': 'I-SPAT+i_CARDINAL', 'score': 0.8762818, 'index': 16, 'word': '☞', 'start': 31, 'end': 32}, {'entity': 'O+O', 'score': 0.55497587, 'index': 17, 'word': '7', 'start': 32, 'end': 33}, {'entity': 'O+O', 'score': 0.9969959, 'index': 18, 'word': '▁', 'start': 33, 'end': 34}]\n",
      "<PER>Dufour</PER>,<ACT> ",
      "A. Sarnt,</ACT><SPAT><LOC>r. Ventadour</LOC>,<CARDINAL> ",
      "☞</CARDINAL></SPAT>7 \n",
      "\n",
      "Dufour (Gabriel), libraire, r. de Vaugirard, ",
      "A \n",
      "[{'entity': 'I-PER+O', 'score': 0.9981913, 'index': 1, 'word': '▁Du', 'start': 0, 'end': 2}, {'entity': 'I-PER+O', 'score': 0.99818844, 'index': 2, 'word': 'four', 'start': 2, 'end': 6}, {'entity': 'I-PER+O', 'score': 0.99817896, 'index': 3, 'word': '▁(', 'start': 6, 'end': 8}, {'entity': 'I-PER+O', 'score': 0.998175, 'index': 4, 'word': 'G', 'start': 8, 'end': 9}, {'entity': 'I-PER+O', 'score': 0.99809676, 'index': 5, 'word': 'abri', 'start': 9, 'end': 13}, {'entity': 'I-PER+O', 'score': 0.99813724, 'index': 6, 'word': 'el', 'start': 13, 'end': 15}, {'entity': 'O+O', 'score': 0.99119276, 'index': 7, 'word': '),', 'start': 15, 'end': 17}, {'entity': 'I-ACT+O', 'score': 0.99466646, 'index': 8, 'word': '▁libraire', 'start': 17, 'end': 26}, {'entity': 'O+O', 'score': 0.9963865, 'index': 9, 'word': ',', 'start': 26, 'end': 27}, {'entity': 'I-SPAT+i_LOC', 'score': 0.9982169, 'index': 10, 'word': '▁r', 'start': 27, 'end': 29}, {'entity': 'I-SPAT+i_LOC', 'score': 0.9982174, 'index': 11, 'word': '.', 'start': 29, 'end': 30}, {'entity': 'I-SPAT+i_LOC', 'score': 0.9982224, 'index': 12, 'word': '▁de', 'start': 30, 'end': 33}, {'entity': 'I-SPAT+i_LOC', 'score': 0.9982168, 'index': 13, 'word': '▁Vau', 'start': 33, 'end': 37}, {'entity': 'I-SPAT+i_LOC', 'score': 0.9982134, 'index': 14, 'word': 'gir', 'start': 37, 'end': 40}, {'entity': 'I-SPAT+i_LOC', 'score': 0.99821496, 'index': 15, 'word': 'ard', 'start': 40, 'end': 43}, {'entity': 'I-SPAT+O', 'score': 0.99486405, 'index': 16, 'word': ',', 'start': 43, 'end': 44}, {'entity': 'I-SPAT+i_CARDINAL', 'score': 0.9980463, 'index': 17, 'word': '▁A', 'start': 44, 'end': 46}, {'entity': 'O+O', 'score': 0.9914663, 'index': 18, 'word': '▁', 'start': 46, 'end': 47}]\n",
      "<PER>Dufour (Gabriel</PER>),<ACT> libraire</ACT>,<SPAT><LOC> r. de Vaugirard</LOC>,<CARDINAL> ",
      "A</CARDINAL></SPAT> \n",
      "\n",
      "Dufour, maçon, r. S.-Jean-Baptiste, 4 402 \n",
      "[{'entity': 'I-PER+O', 'score': 0.9981793, 'index': 1, 'word': '▁Du', 'start': 0, 'end': 2}, {'entity': 'I-PER+O', 'score': 0.9981736, 'index': 2, 'word': 'four', 'start': 2, 'end': 6}, {'entity': 'O+O', 'score': 0.9750302, 'index': 3, 'word': ',', 'start': 6, 'end': 7}, {'entity': 'I-ACT+O', 'score': 0.9956097, 'index': 4, 'word': '▁maçon', 'start': 7, 'end': 13}, {'entity': 'O+O', 'score': 0.9967416, 'index': 5, 'word': ',', 'start': 13, 'end': 14}, {'entity': 'I-SPAT+i_LOC', 'score': 0.998192, 'index': 6, 'word': '▁r', 'start': 14, 'end': 16}, {'entity': 'I-SPAT+i_LOC', 'score': 0.9981913, 'index': 7, 'word': '.', 'start': 16, 'end': 17}, {'entity': 'I-SPAT+i_LOC', 'score': 0.9981964, 'index': 8, 'word': '▁S', 'start': 17, 'end': 19}, {'entity': 'I-SPAT+i_LOC', 'score': 0.99819416, 'index': 9, 'word': '.', 'start': 19, 'end': 20}, {'entity': 'I-SPAT+i_LOC', 'score': 0.9981981, 'index': 10, 'word': '-', 'start': 20, 'end': 21}, {'entity': 'I-SPAT+i_LOC', 'score': 0.99819714, 'index': 11, 'word': 'Jean', 'start': 21, 'end': 25}, {'entity': 'I-SPAT+i_LOC', 'score': 0.998195, 'index': 12, 'word': '-', 'start': 25, 'end': 26}, {'entity': 'I-SPAT+i_LOC', 'score': 0.9981931, 'index': 13, 'word': 'Baptiste', 'start': 26, 'end': 34}, {'entity': 'I-SPAT+O', 'score': 0.9963606, 'index': 14, 'word': ',', 'start': 34, 'end': 35}, {'entity': 'I-SPAT+i_CARDINAL', 'score': 0.9980009, 'index': 15, 'word': '▁4', 'start': 35, 'end': 37}, {'entity': 'O+O', 'score': 0.9932253, 'index': 16, 'word': '▁40', 'start': 37, 'end': 40}, {'entity': 'I-SPAT+i_CARDINAL', 'score': 0.6181298, 'index': 17, 'word': '2', 'start': 40, 'end': 41}, {'entity': 'O+O', 'score': 0.997157, 'index': 18, 'word': '▁', 'start': 41, 'end': 42}]\n",
      "<PER>Dufour</PER>,<ACT> maçon</ACT>,<SPAT><LOC> r. S.-Jean-Baptiste</LOC>,<CARDINAL> 4</CARDINAL></SPAT> 40<SPAT><CARDINAL>2</CARDINAL></SPAT> \n",
      "\n",
      "Dufour, architecte, r. de Chartres-S.-Ho- ",
      "2781 40a ",
      "nore, 12. (Elig.) \n",
      "[{'entity': 'I-PER+O', 'score': 0.9981775, 'index': 1, 'word': '▁Du', 'start': 0, 'end': 2}, {'entity': 'I-PER+O', 'score': 0.998171, 'index': 2, 'word': 'four', 'start': 2, 'end': 6}, {'entity': 'O+O', 'score': 0.9915936, 'index': 3, 'word': ',', 'start': 6, 'end': 7}, {'entity': 'I-ACT+O', 'score': 0.994749, 'index': 4, 'word': '▁architecte', 'start': 7, 'end': 18}, {'entity': 'O+O', 'score': 0.99536103, 'index': 5, 'word': ',', 'start': 18, 'end': 19}, {'entity': 'I-SPAT+i_LOC', 'score': 0.9981889, 'index': 6, 'word': '▁r', 'start': 19, 'end': 21}, {'entity': 'I-SPAT+i_LOC', 'score': 0.9980557, 'index': 7, 'word': '.', 'start': 21, 'end': 22}, {'entity': 'I-SPAT+i_LOC', 'score': 0.99816835, 'index': 8, 'word': '▁de', 'start': 22, 'end': 25}, {'entity': 'I-SPAT+i_LOC', 'score': 0.9981664, 'index': 9, 'word': '▁Chartres', 'start': 25, 'end': 34}, {'entity': 'I-SPAT+i_LOC', 'score': 0.9981565, 'index': 10, 'word': '-', 'start': 34, 'end': 35}, {'entity': 'I-SPAT+i_LOC', 'score': 0.99814475, 'index': 11, 'word': 'S', 'start': 35, 'end': 36}, {'entity': 'I-SPAT+i_LOC', 'score': 0.99814475, 'index': 12, 'word': '.', 'start': 36, 'end': 37}, {'entity': 'I-SPAT+i_LOC', 'score': 0.99812156, 'index': 13, 'word': '-', 'start': 37, 'end': 38}, {'entity': 'I-SPAT+i_LOC', 'score': 0.9980399, 'index': 14, 'word': 'Ho', 'start': 38, 'end': 40}, {'entity': 'I-SPAT+i_LOC', 'score': 0.9951504, 'index': 15, 'word': '-', 'start': 40, 'end': 41}, {'entity': 'I-SPAT+i_CARDINAL', 'score': 0.66470265, 'index': 16, 'word': '▁27', 'start': 41, 'end': 44}, {'entity': 'I-SPAT+i_LOC', 'score': 0.7169351, 'index': 17, 'word': '81', 'start': 44, 'end': 46}, {'entity': 'I-SPAT+i_LOC', 'score': 0.91354054, 'index': 18, 'word': '▁40', 'start': 46, 'end': 49}, {'entity': 'I-SPAT+i_LOC', 'score': 0.88104004, 'index': 19, 'word': 'a', 'start': 49, 'end': 50}, {'entity': 'I-SPAT+i_LOC', 'score': 0.95272595, 'index': 20, 'word': '▁n', 'start': 50, 'end': 52}, {'entity': 'I-SPAT+i_LOC', 'score': 0.92567474, 'index': 21, 'word': 'ore', 'start': 52, 'end': 55}, {'entity': 'O+O', 'score': 0.65915096, 'index': 22, 'word': ',', 'start': 55, 'end': 56}, {'entity': 'I-SPAT+i_CARDINAL', 'score': 0.5118122, 'index': 23, 'word': '▁12', 'start': 56, 'end': 59}, {'entity': 'O+O', 'score': 0.8878971, 'index': 24, 'word': '.', 'start': 59, 'end': 60}, {'entity': 'I-TITRE+O', 'score': 0.36809835, 'index': 25, 'word': '▁(', 'start': 60, 'end': 62}, {'entity': 'I-TITRE+O', 'score': 0.3979744, 'index': 26, 'word': 'E', 'start': 62, 'end': 63}, {'entity': 'I-TITRE+O', 'score': 0.4077282, 'index': 27, 'word': 'lig', 'start': 63, 'end': 66}, {'entity': 'I-TITRE+O', 'score': 0.4019782, 'index': 28, 'word': '.', 'start': 66, 'end': 67}, {'entity': 'I-TITRE+O', 'score': 0.39473808, 'index': 29, 'word': ')', 'start': 67, 'end': 68}, {'entity': 'O+O', 'score': 0.45575896, 'index': 30, 'word': '▁', 'start': 68, 'end': 69}]\n",
      "<PER>Dufour</PER>,<ACT> architecte</ACT>,<SPAT><LOC> r. de Chartres-S.-Ho-</LOC><CARDINAL> ",
      "27</CARDINAL><LOC>81 40a ",
      "nore</LOC></SPAT>,<SPAT><CARDINAL> 12</CARDINAL></SPAT>.<TITRE> (Elig.)</TITRE> \n",
      "\n",
      "Dufour (Mad.), nouveautes, 1. Neuve-des- ",
      "H12 ",
      "Petits-Champs, 4. \n",
      "[{'entity': 'I-PER+O', 'score': 0.99819714, 'index': 1, 'word': '▁Du', 'start': 0, 'end': 2}, {'entity': 'I-PER+O', 'score': 0.99819475, 'index': 2, 'word': 'four', 'start': 2, 'end': 6}, {'entity': 'I-PER+O', 'score': 0.9981675, 'index': 3, 'word': '▁(', 'start': 6, 'end': 8}, {'entity': 'I-PER+O', 'score': 0.99814796, 'index': 4, 'word': 'M', 'start': 8, 'end': 9}, {'entity': 'I-PER+O', 'score': 0.99760675, 'index': 5, 'word': 'ad', 'start': 9, 'end': 11}, {'entity': 'I-PER+O', 'score': 0.9893834, 'index': 6, 'word': '.', 'start': 11, 'end': 12}, {'entity': 'O+O', 'score': 0.53777486, 'index': 7, 'word': '),', 'start': 12, 'end': 14}, {'entity': 'I-ACT+O', 'score': 0.99563146, 'index': 8, 'word': '▁nouveau', 'start': 14, 'end': 22}, {'entity': 'I-ACT+O', 'score': 0.995593, 'index': 9, 'word': 'tes', 'start': 22, 'end': 25}, {'entity': 'O+O', 'score': 0.9932428, 'index': 10, 'word': ',', 'start': 25, 'end': 26}, {'entity': 'I-SPAT+i_LOC', 'score': 0.9980623, 'index': 11, 'word': '▁1.', 'start': 26, 'end': 29}, {'entity': 'I-SPAT+i_LOC', 'score': 0.9981598, 'index': 12, 'word': '▁', 'start': 29, 'end': 30}, {'entity': 'I-SPAT+i_LOC', 'score': 0.99817276, 'index': 13, 'word': 'Neuve', 'start': 30, 'end': 35}, {'entity': 'I-SPAT+i_LOC', 'score': 0.9981488, 'index': 14, 'word': '-', 'start': 35, 'end': 36}, {'entity': 'I-SPAT+i_LOC', 'score': 0.9981194, 'index': 15, 'word': 'des', 'start': 36, 'end': 39}, {'entity': 'I-SPAT+i_LOC', 'score': 0.99776447, 'index': 16, 'word': '-', 'start': 39, 'end': 40}, {'entity': 'I-SPAT+i_LOC', 'score': 0.9978569, 'index': 17, 'word': '▁H', 'start': 40, 'end': 42}, {'entity': 'I-SPAT+i_LOC', 'score': 0.9973826, 'index': 18, 'word': '12', 'start': 42, 'end': 44}, {'entity': 'I-SPAT+i_LOC', 'score': 0.9981148, 'index': 19, 'word': '▁Petits', 'start': 44, 'end': 51}, {'entity': 'I-SPAT+i_LOC', 'score': 0.9981445, 'index': 20, 'word': '-', 'start': 51, 'end': 52}, {'entity': 'I-SPAT+i_LOC', 'score': 0.9981456, 'index': 21, 'word': 'Champ', 'start': 52, 'end': 57}, {'entity': 'I-SPAT+i_LOC', 'score': 0.998142, 'index': 22, 'word': 's', 'start': 57, 'end': 58}, {'entity': 'I-SPAT+O', 'score': 0.9815714, 'index': 23, 'word': ',', 'start': 58, 'end': 59}, {'entity': 'I-SPAT+i_CARDINAL', 'score': 0.9964725, 'index': 24, 'word': '▁4', 'start': 59, 'end': 61}, {'entity': 'O+O', 'score': 0.9809522, 'index': 25, 'word': '.', 'start': 61, 'end': 62}, {'entity': 'O+O', 'score': 0.9959163, 'index': 26, 'word': '▁', 'start': 62, 'end': 63}]\n",
      "<PER>Dufour (Mad.</PER>),<ACT> nouveautes</ACT>,<SPAT><LOC> 1. Neuve-des- ",
      "H12 ",
      "Petits-Champs</LOC>,<CARDINAL> 4</CARDINAL></SPAT>. \n",
      "\n",
      "Dufour Chabrol, papetier, r. S.-Martin ",
      "☞ ",
      "4 \n",
      "[{'entity': 'I-PER+O', 'score': 0.99819404, 'index': 1, 'word': '▁Du', 'start': 0, 'end': 2}, {'entity': 'I-PER+O', 'score': 0.99818903, 'index': 2, 'word': 'four', 'start': 2, 'end': 6}, {'entity': 'I-PER+O', 'score': 0.9981881, 'index': 3, 'word': '▁Chab', 'start': 6, 'end': 11}, {'entity': 'I-PER+O', 'score': 0.99818414, 'index': 4, 'word': 'rol', 'start': 11, 'end': 14}, {'entity': 'O+O', 'score': 0.97574973, 'index': 5, 'word': ',', 'start': 14, 'end': 15}, {'entity': 'I-ACT+O', 'score': 0.9957488, 'index': 6, 'word': '▁pape', 'start': 15, 'end': 20}, {'entity': 'I-ACT+O', 'score': 0.9956846, 'index': 7, 'word': 'tier', 'start': 20, 'end': 24}, {'entity': 'O+O', 'score': 0.99720263, 'index': 8, 'word': ',', 'start': 24, 'end': 25}, {'entity': 'I-SPAT+i_LOC', 'score': 0.9982089, 'index': 9, 'word': '▁r', 'start': 25, 'end': 27}, {'entity': 'I-SPAT+i_LOC', 'score': 0.9981988, 'index': 10, 'word': '.', 'start': 27, 'end': 28}, {'entity': 'I-SPAT+i_LOC', 'score': 0.99820614, 'index': 11, 'word': '▁S', 'start': 28, 'end': 30}, {'entity': 'I-SPAT+i_LOC', 'score': 0.998209, 'index': 12, 'word': '.', 'start': 30, 'end': 31}, {'entity': 'I-SPAT+i_LOC', 'score': 0.9982103, 'index': 13, 'word': '-', 'start': 31, 'end': 32}, {'entity': 'I-SPAT+i_LOC', 'score': 0.9981963, 'index': 14, 'word': 'Martin', 'start': 32, 'end': 38}, {'entity': 'I-SPAT+i_CARDINAL', 'score': 0.9696462, 'index': 15, 'word': '▁', 'start': 38, 'end': 39}, {'entity': 'I-SPAT+i_CARDINAL', 'score': 0.9277211, 'index': 16, 'word': '☞', 'start': 39, 'end': 40}, {'entity': 'I-SPAT+i_CARDINAL', 'score': 0.741613, 'index': 17, 'word': '▁4', 'start': 40, 'end': 42}, {'entity': 'O+O', 'score': 0.9971028, 'index': 18, 'word': '▁', 'start': 42, 'end': 43}]\n",
      "<PER>Dufour Chabrol</PER>,<ACT> papetier</ACT>,<SPAT><LOC> r. S.-Martin</LOC><CARDINAL> ",
      "☞ ",
      "4</CARDINAL></SPAT> \n",
      "\n",
      "Dufour (J.) et co,, fab. de papiers peints, ",
      "((1819); r. Beauvean-S. Antoine, 19. \n"
     ]
    },
    {
     "name": "stdout",
     "output_type": "stream",
     "text": [
      "[{'entity': 'I-PER+O', 'score': 0.9981901, 'index': 1, 'word': '▁Du', 'start': 0, 'end': 2}, {'entity': 'I-PER+O', 'score': 0.99818856, 'index': 2, 'word': 'four', 'start': 2, 'end': 6}, {'entity': 'I-PER+O', 'score': 0.99816495, 'index': 3, 'word': '▁(', 'start': 6, 'end': 8}, {'entity': 'I-PER+O', 'score': 0.9981573, 'index': 4, 'word': 'J', 'start': 8, 'end': 9}, {'entity': 'I-PER+O', 'score': 0.9979956, 'index': 5, 'word': '.', 'start': 9, 'end': 10}, {'entity': 'I-PER+O', 'score': 0.9980573, 'index': 6, 'word': ')', 'start': 10, 'end': 11}, {'entity': 'I-PER+O', 'score': 0.9980579, 'index': 7, 'word': '▁et', 'start': 11, 'end': 14}, {'entity': 'I-PER+O', 'score': 0.99714065, 'index': 8, 'word': '▁co', 'start': 14, 'end': 17}, {'entity': 'O+O', 'score': 0.9959488, 'index': 9, 'word': ',', 'start': 17, 'end': 18}, {'entity': 'O+O', 'score': 0.9562572, 'index': 10, 'word': ',', 'start': 18, 'end': 19}, {'entity': 'I-DESC+i_ACT', 'score': 0.9461617, 'index': 11, 'word': '▁fa', 'start': 19, 'end': 22}, {'entity': 'I-DESC+i_ACT', 'score': 0.94565165, 'index': 12, 'word': 'b', 'start': 22, 'end': 23}, {'entity': 'I-DESC+i_ACT', 'score': 0.94644177, 'index': 13, 'word': '.', 'start': 23, 'end': 24}, {'entity': 'I-DESC+i_ACT', 'score': 0.9474471, 'index': 14, 'word': '▁de', 'start': 24, 'end': 27}, {'entity': 'I-DESC+i_ACT', 'score': 0.94656044, 'index': 15, 'word': '▁papiers', 'start': 27, 'end': 35}, {'entity': 'I-DESC+i_ACT', 'score': 0.94480795, 'index': 16, 'word': '▁peint', 'start': 35, 'end': 41}, {'entity': 'I-DESC+i_ACT', 'score': 0.9454782, 'index': 17, 'word': 's', 'start': 41, 'end': 42}, {'entity': 'I-DESC+i_TITREP', 'score': 0.4485927, 'index': 18, 'word': ',', 'start': 42, 'end': 43}, {'entity': 'I-DESC+i_TITREP', 'score': 0.88946456, 'index': 19, 'word': '▁(', 'start': 43, 'end': 45}, {'entity': 'I-DESC+i_TITREP', 'score': 0.8942674, 'index': 20, 'word': '(', 'start': 45, 'end': 46}, {'entity': 'I-DESC+i_TITREP', 'score': 0.88785774, 'index': 21, 'word': '18', 'start': 46, 'end': 48}, {'entity': 'I-DESC+i_TITREP', 'score': 0.85262084, 'index': 22, 'word': '19', 'start': 48, 'end': 50}, {'entity': 'I-DESC+O', 'score': 0.529597, 'index': 23, 'word': ');', 'start': 50, 'end': 52}, {'entity': 'I-SPAT+i_LOC', 'score': 0.9981489, 'index': 24, 'word': '▁r', 'start': 52, 'end': 54}, {'entity': 'I-SPAT+i_LOC', 'score': 0.9981165, 'index': 25, 'word': '.', 'start': 54, 'end': 55}, {'entity': 'I-SPAT+i_LOC', 'score': 0.99813867, 'index': 26, 'word': '▁Beau', 'start': 55, 'end': 60}, {'entity': 'I-SPAT+i_LOC', 'score': 0.9981394, 'index': 27, 'word': 've', 'start': 60, 'end': 62}, {'entity': 'I-SPAT+i_LOC', 'score': 0.99813265, 'index': 28, 'word': 'an', 'start': 62, 'end': 64}, {'entity': 'I-SPAT+i_LOC', 'score': 0.9981217, 'index': 29, 'word': '-', 'start': 64, 'end': 65}, {'entity': 'I-SPAT+i_LOC', 'score': 0.9981036, 'index': 30, 'word': 'S', 'start': 65, 'end': 66}, {'entity': 'I-SPAT+i_LOC', 'score': 0.9981021, 'index': 31, 'word': '.', 'start': 66, 'end': 67}, {'entity': 'I-SPAT+i_LOC', 'score': 0.99808, 'index': 32, 'word': '▁Antoine', 'start': 67, 'end': 75}, {'entity': 'I-SPAT+O', 'score': 0.99665654, 'index': 33, 'word': ',', 'start': 75, 'end': 76}, {'entity': 'I-SPAT+i_CARDINAL', 'score': 0.9980433, 'index': 34, 'word': '▁19', 'start': 76, 'end': 79}, {'entity': 'O+O', 'score': 0.99633443, 'index': 35, 'word': '.', 'start': 79, 'end': 80}, {'entity': 'O+O', 'score': 0.996739, 'index': 36, 'word': '▁', 'start': 80, 'end': 81}]\n",
      "<PER>Dufour (J.) et co</PER>,,<DESC><ACT> fab. de papiers peints</ACT><TITREP>, ",
      "((1819</TITREP>);</DESC><SPAT><LOC> r. Beauvean-S. Antoine</LOC>,<CARDINAL> 19</CARDINAL></SPAT>. \n",
      "\n",
      "Waring et Gillow Limited, ameublements an- ",
      "glais, éctairage électrique et appareils sa- ",
      "nitaires, r. Glück, 8 et boul. Haussmann, ",
      "31, TELÉPH] 244.45; succursale, r. Bleue, 7. ",
      "WARISON�PARIS. ",
      "TĚLÉPH 244.40. Adr.\n",
      "[{'entity': 'I-PER+O', 'score': 0.99816954, 'index': 1, 'word': '▁War', 'start': 0, 'end': 3}, {'entity': 'I-PER+O', 'score': 0.99814403, 'index': 2, 'word': 'ing', 'start': 3, 'end': 6}, {'entity': 'I-PER+O', 'score': 0.99813074, 'index': 3, 'word': '▁et', 'start': 6, 'end': 9}, {'entity': 'I-PER+O', 'score': 0.9980755, 'index': 4, 'word': '▁Gil', 'start': 9, 'end': 13}, {'entity': 'I-PER+O', 'score': 0.99757916, 'index': 5, 'word': 'low', 'start': 13, 'end': 16}, {'entity': 'I-PER+i_TITREH', 'score': 0.5065641, 'index': 6, 'word': '▁Limite', 'start': 16, 'end': 23}, {'entity': 'I-PER+O', 'score': 0.8498106, 'index': 7, 'word': 'd', 'start': 23, 'end': 24}, {'entity': 'O+O', 'score': 0.9917385, 'index': 8, 'word': ',', 'start': 24, 'end': 25}, {'entity': 'I-ACT+O', 'score': 0.9954152, 'index': 9, 'word': '▁', 'start': 25, 'end': 26}, {'entity': 'I-ACT+O', 'score': 0.9953863, 'index': 10, 'word': 'ameublement', 'start': 26, 'end': 37}, {'entity': 'I-ACT+O', 'score': 0.99527186, 'index': 11, 'word': 's', 'start': 37, 'end': 38}, {'entity': 'I-ACT+O', 'score': 0.9952409, 'index': 12, 'word': '▁an', 'start': 38, 'end': 41}, {'entity': 'I-ACT+O', 'score': 0.9951899, 'index': 13, 'word': '-', 'start': 41, 'end': 42}, {'entity': 'I-ACT+O', 'score': 0.99525154, 'index': 14, 'word': '▁g', 'start': 42, 'end': 44}, {'entity': 'I-ACT+O', 'score': 0.99535614, 'index': 15, 'word': 'lais', 'start': 44, 'end': 48}, {'entity': 'I-ACT+O', 'score': 0.9948362, 'index': 16, 'word': ',', 'start': 48, 'end': 49}, {'entity': 'I-ACT+O', 'score': 0.9952754, 'index': 17, 'word': '▁éc', 'start': 49, 'end': 52}, {'entity': 'I-ACT+O', 'score': 0.9951826, 'index': 18, 'word': 't', 'start': 52, 'end': 53}, {'entity': 'I-ACT+O', 'score': 0.9952035, 'index': 19, 'word': 'ai', 'start': 53, 'end': 55}, {'entity': 'I-ACT+O', 'score': 0.9952285, 'index': 20, 'word': 'rage', 'start': 55, 'end': 59}, {'entity': 'I-ACT+O', 'score': 0.99534166, 'index': 21, 'word': '▁électrique', 'start': 59, 'end': 70}, {'entity': 'I-ACT+O', 'score': 0.99505144, 'index': 22, 'word': '▁et', 'start': 70, 'end': 73}, {'entity': 'I-ACT+O', 'score': 0.99513716, 'index': 23, 'word': '▁appareils', 'start': 73, 'end': 83}, {'entity': 'I-ACT+O', 'score': 0.99512625, 'index': 24, 'word': '▁sa', 'start': 83, 'end': 86}, {'entity': 'I-ACT+O', 'score': 0.9950642, 'index': 25, 'word': '-', 'start': 86, 'end': 87}, {'entity': 'I-ACT+O', 'score': 0.99511635, 'index': 26, 'word': '▁ni', 'start': 87, 'end': 90}, {'entity': 'I-ACT+O', 'score': 0.9952586, 'index': 27, 'word': 'taires', 'start': 90, 'end': 96}, {'entity': 'O+O', 'score': 0.99751663, 'index': 28, 'word': ',', 'start': 96, 'end': 97}, {'entity': 'I-SPAT+i_LOC', 'score': 0.99800307, 'index': 29, 'word': '▁r', 'start': 97, 'end': 99}, {'entity': 'I-SPAT+i_LOC', 'score': 0.9975006, 'index': 30, 'word': '.', 'start': 99, 'end': 100}, {'entity': 'I-SPAT+i_LOC', 'score': 0.99789125, 'index': 31, 'word': '▁Gl', 'start': 100, 'end': 103}, {'entity': 'I-SPAT+i_LOC', 'score': 0.9978783, 'index': 32, 'word': 'ü', 'start': 103, 'end': 104}, {'entity': 'I-SPAT+i_LOC', 'score': 0.9978613, 'index': 33, 'word': 'ck', 'start': 104, 'end': 106}, {'entity': 'I-SPAT+O', 'score': 0.9947062, 'index': 34, 'word': ',', 'start': 106, 'end': 107}, {'entity': 'I-SPAT+i_CARDINAL', 'score': 0.9979335, 'index': 35, 'word': '▁8', 'start': 107, 'end': 109}, {'entity': 'O+O', 'score': 0.99261546, 'index': 36, 'word': '▁et', 'start': 109, 'end': 112}, {'entity': 'I-SPAT+i_LOC', 'score': 0.99506724, 'index': 37, 'word': '▁', 'start': 112, 'end': 113}, {'entity': 'I-SPAT+i_LOC', 'score': 0.99779725, 'index': 38, 'word': 'boul', 'start': 113, 'end': 117}, {'entity': 'I-SPAT+i_LOC', 'score': 0.99442, 'index': 39, 'word': '.', 'start': 117, 'end': 118}, {'entity': 'I-SPAT+i_LOC', 'score': 0.9977964, 'index': 40, 'word': '▁Ha', 'start': 118, 'end': 121}, {'entity': 'I-SPAT+i_LOC', 'score': 0.997799, 'index': 41, 'word': 'us', 'start': 121, 'end': 123}, {'entity': 'I-SPAT+i_LOC', 'score': 0.9976277, 'index': 42, 'word': 's', 'start': 123, 'end': 124}, {'entity': 'I-SPAT+i_LOC', 'score': 0.99750805, 'index': 43, 'word': 'mann', 'start': 124, 'end': 128}, {'entity': 'I-SPAT+O', 'score': 0.9927188, 'index': 44, 'word': ',', 'start': 128, 'end': 129}, {'entity': 'I-SPAT+i_CARDINAL', 'score': 0.99625385, 'index': 45, 'word': '▁31', 'start': 129, 'end': 132}, {'entity': 'O+O', 'score': 0.9820784, 'index': 46, 'word': ',', 'start': 132, 'end': 133}, {'entity': 'I-DESC+i_TITREP', 'score': 0.41101325, 'index': 47, 'word': '▁TE', 'start': 133, 'end': 136}, {'entity': 'I-DESC+i_TITREP', 'score': 0.40448228, 'index': 48, 'word': 'LÉ', 'start': 136, 'end': 138}, {'entity': 'I-DESC+i_TITREP', 'score': 0.47498003, 'index': 49, 'word': 'PH', 'start': 138, 'end': 140}, {'entity': 'I-DESC+i_TITREP', 'score': 0.4009492, 'index': 50, 'word': ']', 'start': 140, 'end': 141}, {'entity': 'O+O', 'score': 0.93375456, 'index': 51, 'word': '▁24', 'start': 141, 'end': 144}, {'entity': 'O+O', 'score': 0.96838313, 'index': 52, 'word': '4.', 'start': 144, 'end': 146}, {'entity': 'O+O', 'score': 0.9806527, 'index': 53, 'word': '45', 'start': 146, 'end': 148}, {'entity': 'O+O', 'score': 0.9970837, 'index': 54, 'word': ';', 'start': 148, 'end': 149}, {'entity': 'I-SPAT+i_FT', 'score': 0.8448488, 'index': 55, 'word': '▁succursale', 'start': 149, 'end': 160}, {'entity': 'I-SPAT+O', 'score': 0.8199445, 'index': 56, 'word': ',', 'start': 160, 'end': 161}, {'entity': 'I-SPAT+i_LOC', 'score': 0.996154, 'index': 57, 'word': '▁r', 'start': 161, 'end': 163}, {'entity': 'I-SPAT+i_LOC', 'score': 0.86731786, 'index': 58, 'word': '.', 'start': 163, 'end': 164}, {'entity': 'I-SPAT+i_LOC', 'score': 0.99462044, 'index': 59, 'word': '▁Bleu', 'start': 164, 'end': 169}, {'entity': 'I-SPAT+i_LOC', 'score': 0.99501204, 'index': 60, 'word': 'e', 'start': 169, 'end': 170}, {'entity': 'I-SPAT+O', 'score': 0.97360706, 'index': 61, 'word': ',', 'start': 170, 'end': 171}, {'entity': 'I-SPAT+i_CARDINAL', 'score': 0.9942814, 'index': 62, 'word': '▁7', 'start': 171, 'end': 173}, {'entity': 'O+O', 'score': 0.9464405, 'index': 63, 'word': '.', 'start': 173, 'end': 174}, {'entity': 'O+O', 'score': 0.4714647, 'index': 64, 'word': '▁W', 'start': 174, 'end': 176}, {'entity': 'O+O', 'score': 0.34180456, 'index': 65, 'word': 'ARI', 'start': 176, 'end': 179}, {'entity': 'O+O', 'score': 0.3770623, 'index': 66, 'word': 'SON', 'start': 179, 'end': 182}, {'entity': 'O+O', 'score': 0.792239, 'index': 67, 'word': '▁PARIS', 'start': 182, 'end': 188}, {'entity': 'O+O', 'score': 0.8919745, 'index': 68, 'word': '.', 'start': 188, 'end': 189}, {'entity': 'O+O', 'score': 0.7017439, 'index': 69, 'word': '▁T', 'start': 189, 'end': 191}, {'entity': 'O+O', 'score': 0.59845227, 'index': 70, 'word': 'Ě', 'start': 191, 'end': 192}, {'entity': 'O+O', 'score': 0.46097115, 'index': 71, 'word': 'LÉ', 'start': 192, 'end': 194}, {'entity': 'O+O', 'score': 0.4063625, 'index': 72, 'word': 'PH', 'start': 194, 'end': 196}, {'entity': 'O+O', 'score': 0.9274875, 'index': 73, 'word': '▁24', 'start': 196, 'end': 199}, {'entity': 'O+O', 'score': 0.96684474, 'index': 74, 'word': '4.', 'start': 199, 'end': 201}, {'entity': 'O+O', 'score': 0.97377497, 'index': 75, 'word': '40', 'start': 201, 'end': 203}, {'entity': 'O+O', 'score': 0.9799518, 'index': 76, 'word': '.', 'start': 203, 'end': 204}, {'entity': 'O+O', 'score': 0.96469116, 'index': 77, 'word': '▁Ad', 'start': 204, 'end': 207}, {'entity': 'O+O', 'score': 0.96766996, 'index': 78, 'word': 'r', 'start': 207, 'end': 208}, {'entity': 'O+O', 'score': 0.96661204, 'index': 79, 'word': '.', 'start': 208, 'end': 209}]\n",
      "<PER>Waring et Gillow<TITREH> Limite</TITREH>d</PER>,<ACT> ameublements an- ",
      "glais, éctairage électrique et appareils sa- ",
      "nitaires</ACT>,<SPAT><LOC> r. Glück</LOC>,<CARDINAL> 8</CARDINAL></SPAT> et<SPAT><LOC> boul. Haussmann</LOC>,<CARDINAL> ",
      "31</CARDINAL></SPAT>,<DESC><TITREP> TELÉPH]</TITREP></DESC> 244.45;<SPAT><FT> succursale</FT>,<LOC> r. Bleue</LOC>,<CARDINAL> 7</CARDINAL></SPAT>. ",
      "WARISON�PARIS. ",
      "TĚLÉPH 244.40. Adr.\n",
      "\n",
      "Barruel (Paul), fabr. de produis chimiques ",
      "et de siccatif zumatique, adjoint au maire ",
      "du 15e arrond., \n",
      "[{'entity': 'I-PER+O', 'score': 0.99819475, 'index': 1, 'word': '▁Bar', 'start': 0, 'end': 3}, {'entity': 'I-PER+O', 'score': 0.99819046, 'index': 2, 'word': 'r', 'start': 3, 'end': 4}, {'entity': 'I-PER+O', 'score': 0.99819046, 'index': 3, 'word': 'uel', 'start': 4, 'end': 7}, {'entity': 'I-PER+O', 'score': 0.9981761, 'index': 4, 'word': '▁(', 'start': 7, 'end': 9}, {'entity': 'I-PER+O', 'score': 0.99805826, 'index': 5, 'word': 'Paul', 'start': 9, 'end': 13}, {'entity': 'O+O', 'score': 0.83182967, 'index': 6, 'word': '),', 'start': 13, 'end': 15}, {'entity': 'I-DESC+i_ACT', 'score': 0.55082554, 'index': 7, 'word': '▁fa', 'start': 15, 'end': 18}, {'entity': 'I-DESC+i_ACT', 'score': 0.6451372, 'index': 8, 'word': 'br', 'start': 18, 'end': 20}, {'entity': 'I-DESC+i_ACT', 'score': 0.7180311, 'index': 9, 'word': '.', 'start': 20, 'end': 21}, {'entity': 'I-ACT+O', 'score': 0.52275014, 'index': 10, 'word': '▁de', 'start': 21, 'end': 24}, {'entity': 'I-ACT+O', 'score': 0.5665101, 'index': 11, 'word': '▁produis', 'start': 24, 'end': 32}, {'entity': 'I-ACT+O', 'score': 0.503049, 'index': 12, 'word': '▁chimiques', 'start': 32, 'end': 42}, {'entity': 'I-ACT+O', 'score': 0.54842424, 'index': 13, 'word': '▁et', 'start': 42, 'end': 45}, {'entity': 'I-ACT+O', 'score': 0.53716546, 'index': 14, 'word': '▁de', 'start': 45, 'end': 48}, {'entity': 'I-ACT+O', 'score': 0.5246079, 'index': 15, 'word': '▁si', 'start': 48, 'end': 51}, {'entity': 'I-ACT+O', 'score': 0.5158209, 'index': 16, 'word': 'cc', 'start': 51, 'end': 53}, {'entity': 'I-ACT+O', 'score': 0.5508827, 'index': 17, 'word': 'atif', 'start': 53, 'end': 57}, {'entity': 'I-ACT+O', 'score': 0.5364225, 'index': 18, 'word': '▁zu', 'start': 57, 'end': 60}, {'entity': 'I-ACT+O', 'score': 0.5315492, 'index': 19, 'word': 'matique', 'start': 60, 'end': 67}, {'entity': 'I-DESC+O', 'score': 0.6212463, 'index': 20, 'word': ',', 'start': 67, 'end': 68}, {'entity': 'I-DESC+O', 'score': 0.72581184, 'index': 21, 'word': '▁adjoint', 'start': 68, 'end': 76}, {'entity': 'I-DESC+O', 'score': 0.8737196, 'index': 22, 'word': '▁au', 'start': 76, 'end': 79}, {'entity': 'I-DESC+O', 'score': 0.81504655, 'index': 23, 'word': '▁maire', 'start': 79, 'end': 85}, {'entity': 'I-DESC+O', 'score': 0.9073345, 'index': 24, 'word': '▁du', 'start': 85, 'end': 88}, {'entity': 'I-DESC+O', 'score': 0.8548704, 'index': 25, 'word': '▁15', 'start': 88, 'end': 91}, {'entity': 'I-DESC+O', 'score': 0.8284293, 'index': 26, 'word': 'e', 'start': 91, 'end': 92}, {'entity': 'I-DESC+O', 'score': 0.7313369, 'index': 27, 'word': '▁ar', 'start': 92, 'end': 95}, {'entity': 'I-DESC+O', 'score': 0.7071932, 'index': 28, 'word': 'rond', 'start': 95, 'end': 99}, {'entity': 'I-SPAT+i_LOC', 'score': 0.39235422, 'index': 29, 'word': '.', 'start': 99, 'end': 100}, {'entity': 'I-SPAT+O', 'score': 0.9800672, 'index': 30, 'word': ',', 'start': 100, 'end': 101}, {'entity': 'I-SPAT+i_CARDINAL', 'score': 0.9958806, 'index': 31, 'word': '▁', 'start': 101, 'end': 102}]\n",
      "<PER>Barruel (Paul</PER>),<DESC><ACT> fabr.</ACT></DESC><ACT> de produis chimiques ",
      "et de siccatif zumatique</ACT><DESC>, adjoint au maire ",
      "du 15e arrond</DESC><SPAT><LOC>.</LOC>,<CARDINAL> </CARDINAL></SPAT>\n",
      "\n",
      "Alleray, 70; dépót chez H. ",
      "Suillot sle-Croix-de-la-Bretonnerič. 21 \n",
      "[{'entity': 'I-PER+O', 'score': 0.99817073, 'index': 1, 'word': '▁Aller', 'start': 0, 'end': 5}, {'entity': 'I-PER+O', 'score': 0.99814606, 'index': 2, 'word': 'ay', 'start': 5, 'end': 7}, {'entity': 'I-PER+O', 'score': 0.8400703, 'index': 3, 'word': ',', 'start': 7, 'end': 8}, {'entity': 'I-SPAT+i_CARDINAL', 'score': 0.5534225, 'index': 4, 'word': '▁70', 'start': 8, 'end': 11}, {'entity': 'O+O', 'score': 0.9922752, 'index': 5, 'word': ';', 'start': 11, 'end': 12}, {'entity': 'I-SPAT+i_FT', 'score': 0.60553205, 'index': 6, 'word': '▁dép', 'start': 12, 'end': 16}, {'entity': 'I-SPAT+i_FT', 'score': 0.62885475, 'index': 7, 'word': 'ó', 'start': 16, 'end': 17}, {'entity': 'I-SPAT+i_FT', 'score': 0.6302172, 'index': 8, 'word': 't', 'start': 17, 'end': 18}, {'entity': 'I-SPAT+i_FT', 'score': 0.31531525, 'index': 9, 'word': '▁chez', 'start': 18, 'end': 23}, {'entity': 'I-SPAT+i_LOC', 'score': 0.80029696, 'index': 10, 'word': '▁H', 'start': 23, 'end': 25}, {'entity': 'I-SPAT+i_LOC', 'score': 0.73591316, 'index': 11, 'word': '.', 'start': 25, 'end': 26}, {'entity': 'I-SPAT+i_LOC', 'score': 0.8078257, 'index': 12, 'word': '▁Su', 'start': 26, 'end': 29}, {'entity': 'I-SPAT+i_LOC', 'score': 0.79722327, 'index': 13, 'word': 'illot', 'start': 29, 'end': 34}, {'entity': 'I-SPAT+i_LOC', 'score': 0.9596095, 'index': 14, 'word': '▁s', 'start': 34, 'end': 36}, {'entity': 'I-SPAT+i_LOC', 'score': 0.9930443, 'index': 15, 'word': 'le', 'start': 36, 'end': 38}, {'entity': 'I-SPAT+i_LOC', 'score': 0.9953401, 'index': 16, 'word': '-', 'start': 38, 'end': 39}, {'entity': 'I-SPAT+i_LOC', 'score': 0.99678075, 'index': 17, 'word': 'Croix', 'start': 39, 'end': 44}, {'entity': 'I-SPAT+i_LOC', 'score': 0.9971232, 'index': 18, 'word': '-', 'start': 44, 'end': 45}, {'entity': 'I-SPAT+i_LOC', 'score': 0.9973502, 'index': 19, 'word': 'de', 'start': 45, 'end': 47}, {'entity': 'I-SPAT+i_LOC', 'score': 0.99754936, 'index': 20, 'word': '-', 'start': 47, 'end': 48}, {'entity': 'I-SPAT+i_LOC', 'score': 0.9975682, 'index': 21, 'word': 'la', 'start': 48, 'end': 50}, {'entity': 'I-SPAT+i_LOC', 'score': 0.9976527, 'index': 22, 'word': '-', 'start': 50, 'end': 51}, {'entity': 'I-SPAT+i_LOC', 'score': 0.99783105, 'index': 23, 'word': 'B', 'start': 51, 'end': 52}, {'entity': 'I-SPAT+i_LOC', 'score': 0.99777716, 'index': 24, 'word': 'ret', 'start': 52, 'end': 55}, {'entity': 'I-SPAT+i_LOC', 'score': 0.99762255, 'index': 25, 'word': 'onner', 'start': 55, 'end': 60}, {'entity': 'I-SPAT+i_LOC', 'score': 0.9955864, 'index': 26, 'word': 'i', 'start': 60, 'end': 61}, {'entity': 'I-SPAT+i_LOC', 'score': 0.8174997, 'index': 27, 'word': 'č', 'start': 61, 'end': 62}, {'entity': 'I-SPAT+O', 'score': 0.5717717, 'index': 28, 'word': '.', 'start': 62, 'end': 63}, {'entity': 'I-SPAT+i_CARDINAL', 'score': 0.950311, 'index': 29, 'word': '▁21', 'start': 63, 'end': 66}, {'entity': 'O+O', 'score': 0.996896, 'index': 30, 'word': '▁', 'start': 66, 'end': 67}]\n",
      "<PER>Alleray,</PER><SPAT><CARDINAL> 70</CARDINAL></SPAT>;<SPAT><FT> dépót chez</FT><LOC> H. ",
      "Suillot sle-Croix-de-la-Bretonnerič</LOC>.<CARDINAL> 21</CARDINAL></SPAT> \n",
      "\n",
      "Marchand (Mme) née Louise Scelle, en gros et détail, r. ",
      "77, et à Bercy, r. de Bourgogne, 25. ",
      "d'Enfer, \n"
     ]
    },
    {
     "name": "stdout",
     "output_type": "stream",
     "text": [
      "[{'entity': 'I-PER+O', 'score': 0.99818903, 'index': 1, 'word': '▁Marchand', 'start': 0, 'end': 8}, {'entity': 'I-PER+O', 'score': 0.99815875, 'index': 2, 'word': '▁(', 'start': 8, 'end': 10}, {'entity': 'I-PER+O', 'score': 0.99814117, 'index': 3, 'word': 'M', 'start': 10, 'end': 11}, {'entity': 'I-PER+O', 'score': 0.9981511, 'index': 4, 'word': 'me', 'start': 11, 'end': 13}, {'entity': 'I-PER+O', 'score': 0.9981285, 'index': 5, 'word': ')', 'start': 13, 'end': 14}, {'entity': 'I-PER+O', 'score': 0.99802387, 'index': 6, 'word': '▁née', 'start': 14, 'end': 18}, {'entity': 'I-PER+O', 'score': 0.9980819, 'index': 7, 'word': '▁Louise', 'start': 18, 'end': 25}, {'entity': 'I-PER+O', 'score': 0.998038, 'index': 8, 'word': '▁Sc', 'start': 25, 'end': 28}, {'entity': 'I-PER+O', 'score': 0.9980046, 'index': 9, 'word': 'elle', 'start': 28, 'end': 32}, {'entity': 'O+O', 'score': 0.9958585, 'index': 10, 'word': ',', 'start': 32, 'end': 33}, {'entity': 'I-ACT+O', 'score': 0.99148434, 'index': 11, 'word': '▁en', 'start': 33, 'end': 36}, {'entity': 'I-ACT+O', 'score': 0.99357754, 'index': 12, 'word': '▁gros', 'start': 36, 'end': 41}, {'entity': 'I-ACT+O', 'score': 0.99413633, 'index': 13, 'word': '▁et', 'start': 41, 'end': 44}, {'entity': 'I-ACT+O', 'score': 0.9938788, 'index': 14, 'word': '▁détail', 'start': 44, 'end': 51}, {'entity': 'O+O', 'score': 0.9794597, 'index': 15, 'word': ',', 'start': 51, 'end': 52}, {'entity': 'I-SPAT+i_LOC', 'score': 0.9043194, 'index': 16, 'word': '▁r', 'start': 52, 'end': 54}, {'entity': 'I-SPAT+O', 'score': 0.6120022, 'index': 17, 'word': '.', 'start': 54, 'end': 55}, {'entity': 'I-SPAT+i_CARDINAL', 'score': 0.981498, 'index': 18, 'word': '▁77', 'start': 55, 'end': 58}, {'entity': 'O+O', 'score': 0.992353, 'index': 19, 'word': ',', 'start': 58, 'end': 59}, {'entity': 'O+O', 'score': 0.9847565, 'index': 20, 'word': '▁et', 'start': 59, 'end': 62}, {'entity': 'I-SPAT+O', 'score': 0.743945, 'index': 21, 'word': '▁à', 'start': 62, 'end': 64}, {'entity': 'I-SPAT+i_LOC', 'score': 0.9952095, 'index': 22, 'word': '▁Bercy', 'start': 64, 'end': 70}, {'entity': 'I-SPAT+O', 'score': 0.5067783, 'index': 23, 'word': ',', 'start': 70, 'end': 71}, {'entity': 'I-SPAT+i_LOC', 'score': 0.9975575, 'index': 24, 'word': '▁r', 'start': 71, 'end': 73}, {'entity': 'I-SPAT+i_LOC', 'score': 0.99397355, 'index': 25, 'word': '.', 'start': 73, 'end': 74}, {'entity': 'I-SPAT+i_LOC', 'score': 0.99714774, 'index': 26, 'word': '▁de', 'start': 74, 'end': 77}, {'entity': 'I-SPAT+i_LOC', 'score': 0.9960646, 'index': 27, 'word': '▁Bourgogne', 'start': 77, 'end': 87}, {'entity': 'I-SPAT+O', 'score': 0.9903114, 'index': 28, 'word': ',', 'start': 87, 'end': 88}, {'entity': 'I-SPAT+i_CARDINAL', 'score': 0.99746007, 'index': 29, 'word': '▁25', 'start': 88, 'end': 91}, {'entity': 'I-SPAT+i_LOC', 'score': 0.91968995, 'index': 30, 'word': '.', 'start': 91, 'end': 92}, {'entity': 'I-SPAT+i_LOC', 'score': 0.9939476, 'index': 31, 'word': '▁d', 'start': 92, 'end': 94}, {'entity': 'I-SPAT+i_LOC', 'score': 0.881271, 'index': 32, 'word': \"'\", 'start': 94, 'end': 95}, {'entity': 'I-SPAT+i_LOC', 'score': 0.98903614, 'index': 33, 'word': 'Enfer', 'start': 95, 'end': 100}, {'entity': 'O+O', 'score': 0.86285096, 'index': 34, 'word': ',', 'start': 100, 'end': 101}, {'entity': 'O+O', 'score': 0.85412025, 'index': 35, 'word': '▁', 'start': 101, 'end': 102}]\n",
      "<PER>Marchand (Mme) née Louise Scelle</PER>,<ACT> en gros et détail</ACT>,<SPAT><LOC> r</LOC>.<CARDINAL> ",
      "77</CARDINAL></SPAT>, et<SPAT> à<LOC> Bercy</LOC>,<LOC> r. de Bourgogne</LOC>,<CARDINAL> 25</CARDINAL><LOC>. ",
      "d'Enfer</LOC></SPAT>, \n",
      "\n",
      "Very (A.). ingenieur-constructeur, r. d'Angou- ",
      "lême, 66, cité d'Angouléme, 6. TĚLÉPH 420.82. \n",
      "[{'entity': 'I-PER+O', 'score': 0.9981876, 'index': 1, 'word': '▁Ver', 'start': 0, 'end': 3}, {'entity': 'I-PER+O', 'score': 0.998181, 'index': 2, 'word': 'y', 'start': 3, 'end': 4}, {'entity': 'I-PER+O', 'score': 0.9981527, 'index': 3, 'word': '▁(', 'start': 4, 'end': 6}, {'entity': 'I-PER+O', 'score': 0.99810505, 'index': 4, 'word': 'A', 'start': 6, 'end': 7}, {'entity': 'I-PER+O', 'score': 0.99750936, 'index': 5, 'word': '.', 'start': 7, 'end': 8}, {'entity': 'I-PER+O', 'score': 0.9961041, 'index': 6, 'word': ').', 'start': 8, 'end': 10}, {'entity': 'I-ACT+O', 'score': 0.9954389, 'index': 7, 'word': '▁in', 'start': 10, 'end': 13}, {'entity': 'I-ACT+O', 'score': 0.99549437, 'index': 8, 'word': 'gen', 'start': 13, 'end': 16}, {'entity': 'I-ACT+O', 'score': 0.99505144, 'index': 9, 'word': 'i', 'start': 16, 'end': 17}, {'entity': 'I-ACT+O', 'score': 0.9950539, 'index': 10, 'word': 'eur', 'start': 17, 'end': 20}, {'entity': 'I-ACT+O', 'score': 0.9950235, 'index': 11, 'word': '-', 'start': 20, 'end': 21}, {'entity': 'I-ACT+O', 'score': 0.9952285, 'index': 12, 'word': 'construct', 'start': 21, 'end': 30}, {'entity': 'I-ACT+O', 'score': 0.99503654, 'index': 13, 'word': 'eur', 'start': 30, 'end': 33}, {'entity': 'O+O', 'score': 0.9945247, 'index': 14, 'word': ',', 'start': 33, 'end': 34}, {'entity': 'I-SPAT+i_LOC', 'score': 0.9982027, 'index': 15, 'word': '▁r', 'start': 34, 'end': 36}, {'entity': 'I-SPAT+i_LOC', 'score': 0.9981996, 'index': 16, 'word': '.', 'start': 36, 'end': 37}, {'entity': 'I-SPAT+i_LOC', 'score': 0.998195, 'index': 17, 'word': '▁d', 'start': 37, 'end': 39}, {'entity': 'I-SPAT+i_LOC', 'score': 0.99819416, 'index': 18, 'word': \"'\", 'start': 39, 'end': 40}, {'entity': 'I-SPAT+i_LOC', 'score': 0.9981762, 'index': 19, 'word': 'Ang', 'start': 40, 'end': 43}, {'entity': 'I-SPAT+i_LOC', 'score': 0.9981652, 'index': 20, 'word': 'ou', 'start': 43, 'end': 45}, {'entity': 'I-SPAT+i_LOC', 'score': 0.9981573, 'index': 21, 'word': '-', 'start': 45, 'end': 46}, {'entity': 'I-SPAT+i_LOC', 'score': 0.99814713, 'index': 22, 'word': '▁l', 'start': 46, 'end': 48}, {'entity': 'I-SPAT+i_LOC', 'score': 0.99814653, 'index': 23, 'word': 'ême', 'start': 48, 'end': 51}, {'entity': 'I-SPAT+O', 'score': 0.99586725, 'index': 24, 'word': ',', 'start': 51, 'end': 52}, {'entity': 'I-SPAT+i_CARDINAL', 'score': 0.9979486, 'index': 25, 'word': '▁66', 'start': 52, 'end': 55}, {'entity': 'O+O', 'score': 0.5552794, 'index': 26, 'word': ',', 'start': 55, 'end': 56}, {'entity': 'I-SPAT+i_LOC', 'score': 0.97002184, 'index': 27, 'word': '▁cité', 'start': 56, 'end': 61}, {'entity': 'I-SPAT+i_LOC', 'score': 0.99295396, 'index': 28, 'word': '▁d', 'start': 61, 'end': 63}, {'entity': 'I-SPAT+i_LOC', 'score': 0.975387, 'index': 29, 'word': \"'\", 'start': 63, 'end': 64}, {'entity': 'I-SPAT+i_LOC', 'score': 0.99691784, 'index': 30, 'word': 'Ang', 'start': 64, 'end': 67}, {'entity': 'I-SPAT+i_LOC', 'score': 0.9963247, 'index': 31, 'word': 'oul', 'start': 67, 'end': 70}, {'entity': 'I-SPAT+i_LOC', 'score': 0.9954145, 'index': 32, 'word': 'éme', 'start': 70, 'end': 73}, {'entity': 'I-SPAT+O', 'score': 0.5443046, 'index': 33, 'word': ',', 'start': 73, 'end': 74}, {'entity': 'I-SPAT+i_CARDINAL', 'score': 0.9297594, 'index': 34, 'word': '▁6', 'start': 74, 'end': 76}, {'entity': 'O+O', 'score': 0.98976946, 'index': 35, 'word': '.', 'start': 76, 'end': 77}, {'entity': 'O+O', 'score': 0.9875238, 'index': 36, 'word': '▁T', 'start': 77, 'end': 79}, {'entity': 'O+O', 'score': 0.9890436, 'index': 37, 'word': 'Ě', 'start': 79, 'end': 80}, {'entity': 'O+O', 'score': 0.98651195, 'index': 38, 'word': 'LÉ', 'start': 80, 'end': 82}, {'entity': 'O+O', 'score': 0.98289424, 'index': 39, 'word': 'PH', 'start': 82, 'end': 84}, {'entity': 'O+O', 'score': 0.9892324, 'index': 40, 'word': '▁4', 'start': 84, 'end': 86}, {'entity': 'O+O', 'score': 0.9904635, 'index': 41, 'word': '20', 'start': 86, 'end': 88}, {'entity': 'O+O', 'score': 0.9906219, 'index': 42, 'word': '.', 'start': 88, 'end': 89}, {'entity': 'O+O', 'score': 0.9902614, 'index': 43, 'word': '82', 'start': 89, 'end': 91}, {'entity': 'O+O', 'score': 0.97957075, 'index': 44, 'word': '.', 'start': 91, 'end': 92}, {'entity': 'O+O', 'score': 0.99235547, 'index': 45, 'word': '▁', 'start': 92, 'end': 93}]\n",
      "<PER>Very (A.).</PER><ACT> ingenieur-constructeur</ACT>,<SPAT><LOC> r. d'Angou- ",
      "lême</LOC>,<CARDINAL> 66</CARDINAL></SPAT>,<SPAT><LOC> cité d'Angouléme</LOC>,<CARDINAL> 6</CARDINAL></SPAT>. TĚLÉPH 420.82. \n",
      "\n",
      "Vacherie de Royaumont, Brémontler. ",
      "16; Chaussée-d'Antin, 68; Phals- ",
      "bourg, 3 ; blv. Poissonnière, 1, et blv. ",
      "St-Martin, 15. \n",
      "[{'entity': 'I-PER+O', 'score': 0.99803966, 'index': 1, 'word': '▁V', 'start': 0, 'end': 1}, {'entity': 'I-PER+O', 'score': 0.9978829, 'index': 2, 'word': 'ache', 'start': 1, 'end': 5}, {'entity': 'I-PER+O', 'score': 0.9980116, 'index': 3, 'word': 'rie', 'start': 5, 'end': 8}, {'entity': 'I-PER+O', 'score': 0.99786, 'index': 4, 'word': '▁de', 'start': 8, 'end': 11}, {'entity': 'I-PER+O', 'score': 0.9816523, 'index': 5, 'word': '▁Roy', 'start': 11, 'end': 15}, {'entity': 'I-PER+O', 'score': 0.9329658, 'index': 6, 'word': 'aumont', 'start': 15, 'end': 21}, {'entity': 'O+O', 'score': 0.9044324, 'index': 7, 'word': ',', 'start': 21, 'end': 22}, {'entity': 'I-SPAT+i_LOC', 'score': 0.9936009, 'index': 8, 'word': '▁Bré', 'start': 22, 'end': 26}, {'entity': 'I-SPAT+i_LOC', 'score': 0.99412847, 'index': 9, 'word': 'mont', 'start': 26, 'end': 30}, {'entity': 'I-SPAT+i_LOC', 'score': 0.9913208, 'index': 10, 'word': 'ler', 'start': 30, 'end': 33}, {'entity': 'I-SPAT+O', 'score': 0.6599123, 'index': 11, 'word': '.', 'start': 33, 'end': 34}, {'entity': 'I-SPAT+i_CARDINAL', 'score': 0.9935773, 'index': 12, 'word': '▁16', 'start': 34, 'end': 37}, {'entity': 'O+O', 'score': 0.94082814, 'index': 13, 'word': ';', 'start': 37, 'end': 38}, {'entity': 'I-SPAT+i_LOC', 'score': 0.9974233, 'index': 14, 'word': '▁Chauss', 'start': 38, 'end': 45}, {'entity': 'I-SPAT+i_LOC', 'score': 0.9973807, 'index': 15, 'word': 'ée', 'start': 45, 'end': 47}, {'entity': 'I-SPAT+i_LOC', 'score': 0.9974451, 'index': 16, 'word': '-', 'start': 47, 'end': 48}, {'entity': 'I-SPAT+i_LOC', 'score': 0.99755704, 'index': 17, 'word': 'd', 'start': 48, 'end': 49}, {'entity': 'I-SPAT+i_LOC', 'score': 0.9974825, 'index': 18, 'word': \"'\", 'start': 49, 'end': 50}, {'entity': 'I-SPAT+i_LOC', 'score': 0.9974632, 'index': 19, 'word': 'Anti', 'start': 50, 'end': 54}, {'entity': 'I-SPAT+i_LOC', 'score': 0.9973732, 'index': 20, 'word': 'n', 'start': 54, 'end': 55}, {'entity': 'I-SPAT+O', 'score': 0.98089623, 'index': 21, 'word': ',', 'start': 55, 'end': 56}, {'entity': 'I-SPAT+i_CARDINAL', 'score': 0.99729997, 'index': 22, 'word': '▁68', 'start': 56, 'end': 59}, {'entity': 'O+O', 'score': 0.9873969, 'index': 23, 'word': ';', 'start': 59, 'end': 60}, {'entity': 'I-SPAT+i_LOC', 'score': 0.99539715, 'index': 24, 'word': '▁Ph', 'start': 60, 'end': 63}, {'entity': 'I-SPAT+i_LOC', 'score': 0.9946827, 'index': 25, 'word': 'als', 'start': 63, 'end': 66}, {'entity': 'I-SPAT+i_LOC', 'score': 0.9954022, 'index': 26, 'word': '-', 'start': 66, 'end': 67}, {'entity': 'I-SPAT+i_LOC', 'score': 0.9914009, 'index': 27, 'word': '▁bourg', 'start': 67, 'end': 73}, {'entity': 'I-SPAT+O', 'score': 0.98484117, 'index': 28, 'word': ',', 'start': 73, 'end': 74}, {'entity': 'I-SPAT+i_CARDINAL', 'score': 0.99680305, 'index': 29, 'word': '▁3', 'start': 74, 'end': 76}, {'entity': 'O+O', 'score': 0.9962463, 'index': 30, 'word': '▁;', 'start': 76, 'end': 78}, {'entity': 'I-SPAT+i_LOC', 'score': 0.987867, 'index': 31, 'word': '▁bl', 'start': 78, 'end': 81}, {'entity': 'I-SPAT+i_LOC', 'score': 0.9882918, 'index': 32, 'word': 'v', 'start': 81, 'end': 82}, {'entity': 'I-SPAT+i_LOC', 'score': 0.98955333, 'index': 33, 'word': '.', 'start': 82, 'end': 83}, {'entity': 'I-SPAT+i_LOC', 'score': 0.9950557, 'index': 34, 'word': '▁Poisson', 'start': 83, 'end': 91}, {'entity': 'I-SPAT+i_LOC', 'score': 0.9942152, 'index': 35, 'word': 'nière', 'start': 91, 'end': 96}, {'entity': 'I-SPAT+O', 'score': 0.98184055, 'index': 36, 'word': ',', 'start': 96, 'end': 97}, {'entity': 'I-SPAT+i_CARDINAL', 'score': 0.99677163, 'index': 37, 'word': '▁1', 'start': 97, 'end': 99}, {'entity': 'O+O', 'score': 0.9962225, 'index': 38, 'word': ',', 'start': 99, 'end': 100}, {'entity': 'O+O', 'score': 0.9970229, 'index': 39, 'word': '▁et', 'start': 100, 'end': 103}, {'entity': 'I-SPAT+i_LOC', 'score': 0.9930669, 'index': 40, 'word': '▁bl', 'start': 103, 'end': 106}, {'entity': 'I-SPAT+i_LOC', 'score': 0.9925371, 'index': 41, 'word': 'v', 'start': 106, 'end': 107}, {'entity': 'I-SPAT+i_LOC', 'score': 0.9927394, 'index': 42, 'word': '.', 'start': 107, 'end': 108}, {'entity': 'I-SPAT+i_LOC', 'score': 0.9943336, 'index': 43, 'word': '▁St', 'start': 108, 'end': 111}, {'entity': 'I-SPAT+i_LOC', 'score': 0.994222, 'index': 44, 'word': '-', 'start': 111, 'end': 112}, {'entity': 'I-SPAT+i_LOC', 'score': 0.9921869, 'index': 45, 'word': 'Martin', 'start': 112, 'end': 118}, {'entity': 'I-SPAT+O', 'score': 0.97917193, 'index': 46, 'word': ',', 'start': 118, 'end': 119}, {'entity': 'I-SPAT+i_CARDINAL', 'score': 0.9974132, 'index': 47, 'word': '▁15', 'start': 119, 'end': 122}, {'entity': 'O+O', 'score': 0.97478503, 'index': 48, 'word': '.', 'start': 122, 'end': 123}, {'entity': 'O+O', 'score': 0.9957638, 'index': 49, 'word': '▁', 'start': 123, 'end': 124}]\n",
      "<PER>Vacherie de Royaumont</PER>,<SPAT><LOC> Brémontler</LOC>.<CARDINAL> ",
      "16</CARDINAL></SPAT>;<SPAT><LOC> Chaussée-d'Antin</LOC>,<CARDINAL> 68</CARDINAL></SPAT>;<SPAT><LOC> Phals- ",
      "bourg</LOC>,<CARDINAL> 3</CARDINAL></SPAT> ;<SPAT><LOC> blv. Poissonnière</LOC>,<CARDINAL> 1</CARDINAL></SPAT>, et<SPAT><LOC> blv. ",
      "St-Martin</LOC>,<CARDINAL> 15</CARDINAL></SPAT>. \n",
      "\n",
      "Budan, inspect.-gén. des études, r. Charlot. 18 (au Marais). \n",
      "[{'entity': 'I-PER+O', 'score': 0.9981888, 'index': 1, 'word': '▁Bud', 'start': 0, 'end': 3}, {'entity': 'I-PER+O', 'score': 0.9981735, 'index': 2, 'word': 'an', 'start': 3, 'end': 5}, {'entity': 'O+O', 'score': 0.9936899, 'index': 3, 'word': ',', 'start': 5, 'end': 6}, {'entity': 'I-ACT+O', 'score': 0.99597126, 'index': 4, 'word': '▁inspect', 'start': 6, 'end': 14}, {'entity': 'I-ACT+O', 'score': 0.99588436, 'index': 5, 'word': '.', 'start': 14, 'end': 15}, {'entity': 'I-ACT+O', 'score': 0.99593544, 'index': 6, 'word': '-', 'start': 15, 'end': 16}, {'entity': 'I-ACT+O', 'score': 0.99598086, 'index': 7, 'word': 'gén', 'start': 16, 'end': 19}, {'entity': 'I-ACT+O', 'score': 0.9958566, 'index': 8, 'word': '.', 'start': 19, 'end': 20}, {'entity': 'I-ACT+O', 'score': 0.9959202, 'index': 9, 'word': '▁des', 'start': 20, 'end': 24}, {'entity': 'I-ACT+O', 'score': 0.9959902, 'index': 10, 'word': '▁études', 'start': 24, 'end': 31}, {'entity': 'O+O', 'score': 0.9969773, 'index': 11, 'word': ',', 'start': 31, 'end': 32}, {'entity': 'I-SPAT+i_LOC', 'score': 0.9981749, 'index': 12, 'word': '▁r', 'start': 32, 'end': 34}, {'entity': 'I-SPAT+i_LOC', 'score': 0.99804115, 'index': 13, 'word': '.', 'start': 34, 'end': 35}, {'entity': 'I-SPAT+i_LOC', 'score': 0.9981311, 'index': 14, 'word': '▁Char', 'start': 35, 'end': 40}, {'entity': 'I-SPAT+i_LOC', 'score': 0.9980794, 'index': 15, 'word': 'lot', 'start': 40, 'end': 43}, {'entity': 'I-SPAT+i_LOC', 'score': 0.9934803, 'index': 16, 'word': '.', 'start': 43, 'end': 44}, {'entity': 'I-SPAT+i_CARDINAL', 'score': 0.9976908, 'index': 17, 'word': '▁18', 'start': 44, 'end': 47}, {'entity': 'I-SPAT+i_LOC', 'score': 0.8847118, 'index': 18, 'word': '▁(', 'start': 47, 'end': 49}, {'entity': 'I-SPAT+i_LOC', 'score': 0.9936906, 'index': 19, 'word': 'au', 'start': 49, 'end': 51}, {'entity': 'I-SPAT+i_LOC', 'score': 0.9972646, 'index': 20, 'word': '▁Marais', 'start': 51, 'end': 58}, {'entity': 'O+O', 'score': 0.7575285, 'index': 21, 'word': ').', 'start': 58, 'end': 60}, {'entity': 'O+O', 'score': 0.99120283, 'index': 22, 'word': '▁', 'start': 60, 'end': 61}]\n",
      "<PER>Budan</PER>,<ACT> inspect.-gén. des études</ACT>,<SPAT><LOC> r. Charlot.</LOC><CARDINAL> 18</CARDINAL><LOC> (au Marais</LOC></SPAT>). \n",
      "\n"
     ]
    }
   ],
   "source": [
    "from xmlize_util import get_NER_tags, xmlize_multilevel\n",
    "\n",
    "for s in samples.split('\\n'):\n",
    "    if s != '':\n",
    "        print(s)\n",
    "        res = nlp(s)\n",
    "        print(res)\n",
    "        levels, num_levels = get_NER_tags(s,res)\n",
    "        xml = xmlize_multilevel(levels,num_levels)\n",
    "        #Corrections IO\n",
    "        \"\"\"\n",
    "        - Sur-apprentissage : . = fin d'entité ? => </LOC></SPAT>.<SPAT><LOC>\n",
    "        - Classification de déchets de l'OCR : \n",
    "            - ex : <LOC> ",
    "JO</LOC>\n",
    "            - Différence floue entre déchet de l'OCR et CARDINAL\n",
    "            - <SPAT><LOC> r. de Chartres-S.-Ho- ",
    "27</LOC><CARDINAL>81 40</CARDINAL><LOC>a ",
    "n</LOC></SPAT>\n",
    "        - Mauvais découpage dans une entité : <PER><TITRE-H>☞</TITRE-H> ",
    "Duff</PER>and     <PER> ",
    "Du</PER>fort\n",
    "        - Ponctuation : <PER>),</PER>\n",
    "        - ??? : <ACT> commis</ACT><PER>s</PER>\n",
    "        - Confusion TITRE, TITRE-H (assez logique)\n",
    "        - Passe à côté des TITRE avec le PSEP : <PER>Y<TITREH> ",
    "</TITREH></PER>☞<PER> ",
    "Dnten</PER> (entraine un décallage dans la fonction de reconstruction XML)\n",
    "        - Ressort 2 fois le même morceau de texte dans deux classes différentes : <PER><TITREH>☞</TITREH></PER>☞<PER> ",
    "Duffand</PER> ???? Problèmes fonction xml ?\n",
    "        - Coupe des mots en plusieurs parties : <SPAT><LOC> r. de Paradis-</LOC><CARDINAL> ",
    "505</CARDINAL><LOC> ",
    "Poisson</LOC>nière\n",
    "        - Erreur d'encodage post-traitement : </ACT>&amp;<ACT> pour le &\n",
    "        \n",
    "        xml = xml.replace('</LOC></SPAT>.<SPAT><LOC>','.')\n",
    "        xml = xml.replace('</LOC></SPAT><DESC>.</DESC><SPAT><LOC>','.')\n",
    "        xml = xml.replace('</ACT>&amp;<ACT>','&')\n",
    "        xml = xml.replace('</ACT>.<ACT>','.')\n",
    "        xml = xml.replace('</LOC><CARDINAL>.</CARDINAL><LOC>','.')\n",
    "        xml = xml.replace(\"</LOC></SPAT><ACT>'</ACT><SPAT><LOC>\",\"'\")\n",
    "        xml = xml.replace(\"<LOC>,</LOC>\",',')\n",
    "        xml = xml.replace(\"<LOC>.</LOC>\",'.')\n",
    "        xml = xml.replace(\"<CARDINAL>.</CARDINAL>\",\".\")\n",
    "        xml = xml.replace(\"<SPAT>.</SPAT>\",\".\")\n",
    "        \"\"\"\n",
    "        print(xml)\n",
    "        print('')"
   ]
  },
  {
   "cell_type": "code",
   "execution_count": null,
   "id": "1da62181",
   "metadata": {},
   "outputs": [],
   "source": []
  }
 ],
 "metadata": {
  "kernelspec": {
   "display_name": "Python 3 (ipykernel)",
   "language": "python",
   "name": "python3"
  },
  "language_info": {
   "codemirror_mode": {
    "name": "ipython",
    "version": 3
   },
   "file_extension": ".py",
   "mimetype": "text/x-python",
   "name": "python",
   "nbconvert_exporter": "python",
   "pygments_lexer": "ipython3",
   "version": "3.10.8"
  }
 },
 "nbformat": 4,
 "nbformat_minor": 5
}
