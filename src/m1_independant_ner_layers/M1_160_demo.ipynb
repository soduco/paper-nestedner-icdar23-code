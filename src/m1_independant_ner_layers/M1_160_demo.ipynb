{
 "cells": [
  {
   "cell_type": "markdown",
   "id": "cda9d76b",
   "metadata": {},
   "source": [
    "# 160 : Demo Nested-NER Multihead"
   ]
  },
  {
   "cell_type": "code",
   "execution_count": null,
   "id": "9d45b838",
   "metadata": {},
   "outputs": [],
   "source": [
    "#!pip install ipywidgets"
   ]
  },
  {
   "cell_type": "code",
   "execution_count": 1,
   "id": "80021026",
   "metadata": {},
   "outputs": [
    {
     "name": "stdout",
     "output_type": "stream",
     "text": [
      "Enabling notebook extension jupyter-js-widgets/extension...\n",
      "      - Validating: \u001b[32mOK\u001b[0m\n"
     ]
    }
   ],
   "source": [
    "!jupyter nbextension enable --py widgetsnbextension"
   ]
  },
  {
   "cell_type": "code",
   "execution_count": 7,
   "id": "8eb1d071",
   "metadata": {},
   "outputs": [],
   "source": [
    "models = ['nlpso/m1_ind_layers_ref_cmbert_io',\n",
    " 'nlpso/m1_ind_layers_ref_cmbert_iob2',\n",
    " 'nlpso/m1_ind_layers_ref_ptrn_cmbert_io',\n",
    " 'nlpso/m1_ind_layers_ref_ptrn_cmbert_iob2',\n",
    " 'nlpso/m1_ind_layers_ocr_cmbert_io',\n",
    " 'nlpso/m1_ind_layers_ocr_cmbert_iob2',\n",
    " 'nlpso/m1_ind_layers_ocr_ptrn_cmbert_io',\n",
    " 'nlpso/m1_ind_layers_ocr_ptrn_cmbert_iob2',\n",
    "]"
   ]
  },
  {
   "cell_type": "markdown",
   "id": "77eba078",
   "metadata": {},
   "source": [
    "Choose an model on the HuggingFace among the following list :"
   ]
  },
  {
   "cell_type": "code",
   "execution_count": 9,
   "id": "d545388c",
   "metadata": {},
   "outputs": [
    {
     "data": {
      "application/vnd.jupyter.widget-view+json": {
       "model_id": "c9c31da4d84c4181ad8ed74cb3bb0926",
       "version_major": 2,
       "version_minor": 0
      },
      "text/plain": [
       "RadioButtons(layout=Layout(width='max-content'), options=('nlpso/m1_ind_layers_ref_cmbert_io', 'nlpso/m1_ind_l…"
      ]
     },
     "metadata": {},
     "output_type": "display_data"
    }
   ],
   "source": [
    "import ipywidgets as widgets\n",
    "\n",
    "model = widgets.RadioButtons(\n",
    "            options=models,\n",
    "            layout={'width': 'max-content'}\n",
    "        )\n",
    "model"
   ]
  },
  {
   "cell_type": "code",
   "execution_count": 14,
   "id": "40ce675c",
   "metadata": {},
   "outputs": [
    {
     "name": "stdout",
     "output_type": "stream",
     "text": [
      "nlpso/m1_ind_layers_ref_cmbert_io_level_1\n",
      "nlpso/m1_ind_layers_ref_cmbert_io_level_2\n"
     ]
    }
   ],
   "source": [
    "FINETUNED_MODEL_N1 = model.value + '_level_1'\n",
    "FINETUNED_MODEL_N2 = model.value + '_level_2'\n",
    "print(FINETUNED_MODEL_N1)\n",
    "print(FINETUNED_MODEL_N2)"
   ]
  },
  {
   "cell_type": "markdown",
   "id": "c22e5910",
   "metadata": {},
   "source": [
    "### Data"
   ]
  },
  {
   "cell_type": "code",
   "execution_count": 15,
   "id": "f9ecab43-7166-4e97-9ff4-151e88f457f6",
   "metadata": {},
   "outputs": [],
   "source": [
    "samples = \"\"\"☞ ",
    " ",
    "T ",
    "Dufant (Victor), libraire, r. du Gros-Che- ",
    "net. 2. ",
    "JO \\n\n",
    "Dutay, essayeur du commerce, place Dau- ",
    " ",
    "- ",
    "píině, 5. ",
    "DOB \\n\n",
    "Dulay, chandronnier, r. du Pont- aux- ",
    "Chuux, 15. ",
    "SI \\n\n",
    "Dufay (V.e), grenetière, r. du Fauh.-S. ",
    "Denis, 20. ",
    "372 \\n\n",
    "Y ",
    "☞ ",
    "Dnten,charentier, 1. Montmartre, 89. 318 \\n\n",
    "Dufey fils, bijoutier, passage de la Réunion ",
    "A \\n\n",
    "Dnley, boucher, r. S.&quot;Louis-au-Marais,3. ",
    "* \\n\n",
    "☞ ",
    "Duffand, bijonteer, r. S.-Martin, 107. 284 \\n\n",
    "Duftaud, maçon, r. S-Honore ",
    " ",
    "353. ",
    "O \\n\n",
    "Dullaut, chandronnier, r. de la Sourdière ",
    "I- ( ",
    "☞T4 \\n\n",
    "lukils. limonauier, 1. des Colonnes, 6. J9 \\n\n",
    "— ",
    "T ",
    "Dullocu, architecte, r. Basse-Porte-S.De- ",
    "— ",
    "Ris, 28. \\n\n",
    "Duflot, loueur de carrosses, r. de Paradis- ",
    "505 ",
    "Poissonnière, 22. \\n\n",
    "Dufort, bottier, Palais-R., gal. vitrée, 215. ",
    "A \\n\n",
    "Dufort fils, bottier (exp. 1819.), r. J.-J.. ",
    "Rousscan. 18. ",
    "290 \\n\n",
    "* ",
    "Dufort, tabletier, r. Jean-Pain-Mollet, 10. ",
    "4O \\n\n",
    "Dufossé, teiniurier, r. du Faub.-Montmar- ",
    "tre , 63. ",
    "483 \\n\n",
    "Duſour el Besnard, march, de bois à bruler, ",
    "quai de la Tournelle, 17. etr. des Fossés- ",
    "SBernard. 11. ",
    "Dí \\n\n",
    "Dufour jeune, march, de bois à brüler ",
    "de la Pépinière, 53. ",
    "7 r. \\n\n",
    "Dufour (Mad.), march. de chapeaux de ",
    "paitle, passage dn Panorama, 11. ",
    "IO \\n\n",
    "Dutour, thapelier, r. S.-Honore ",
    "383. 3og \\n\n",
    "Dufour, cirier, r. de PArbre-Sec, 6o. ",
    "316 \\n\n",
    "Dufour et co., commiss., r. des Contures- ",
    " ",
    "DAO ",
    "S. Dervajs, 18. \\n\n",
    "Dulour, corropeir, 1. des Vertusy1d 3 \\n\n",
    "Dufour (Charles), épicier, r. S.-Denis, ",
    "Jo7. ",
    "☞ ",
    "332 \\n\n",
    "Dufour, fab. d&apos;éventails (erp. 1819) ",
    "Beaubourg, 48. ",
    " ",
    "360 \\n\n",
    "Dufour, faiencter, r. S.-Anne , 50. ",
    "302 \\n\n",
    "Dufour, ",
    "A. Sarnt,r. Ventadour, ",
    "☞7 \\n\n",
    "Dufour (Gabriel), libraire, r. de Vaugirard, ",
    "A \\n\n",
    "Dufour, maçon, r. S.-Jean-Baptiste, 4 402 \\n\n",
    "Dufour, architecte, r. de Chartres-S.-Ho- ",
    "2781 40a ",
    "nore, 12. (Elig.) \\n\n",
    "Dufour (Mad.), nouveautes, 1. Neuve-des- ",
    "H12 ",
    "Petits-Champs, 4. \\n\n",
    "Dufour Chabrol, papetier, r. S.-Martin ",
    "☞ ",
    "4 \\n\n",
    "Dufour (J.) et co,, fab. de papiers peints, ",
    "((1819); r. Beauvean-S. Antoine, 19. \\n\n",
    "\\n\n",
    "Waring et Gillow Limited, ameublements an- ",
    "glais, éctairage électrique et appareils sa- ",
    "nitaires, r. Glück, 8 et boul. Haussmann, ",
    "31, TELÉPH] 244.45; succursale, r. Bleue, 7. ",
    "WARISON�PARIS. ",
    "TĚLÉPH 244.40. Adr.\\n\n",
    "Barruel (Paul), fabr. de produis chimiques ",
    "et de siccatif zumatique, adjoint au maire ",
    "du 15e arrond., Alleray, 70; dépót chez H. ",
    "Suillot sle-Croix-de-la-Bretonnerič. 21 \\n\n",
    "Marchand (Mme) née Louise Scelle, en gros et détail, r. ",
    "77, et à Bercy, r. de Bourgogne, 25. ",
    "d'Enfer, \\n\n",
    "Very (A.). ingenieur-constructeur, r. d'Angou- ",
    "lême, 66, cité d'Angouléme, 6. TĚLÉPH 420.82. \\n\n",
    "Vacherie de Royaumont, Brémontler. ",
    "16; Chaussée-d'Antin, 68; Phals- ",
    "bourg, 3 ; blv. Poissonnière, 1, et blv. ",
    "St-Martin, 15. \\n\n",
    "Budan, inspect.-gén. des études, r. Charlot. 18 (au Marais). \\n\n",
    "\"\"\""
   ]
  },
  {
   "cell_type": "markdown",
   "id": "c400dc18",
   "metadata": {},
   "source": [
    "### Tools"
   ]
  },
  {
   "cell_type": "code",
   "execution_count": 18,
   "id": "e60296ae",
   "metadata": {
    "scrolled": true
   },
   "outputs": [
    {
     "data": {
      "application/vnd.jupyter.widget-view+json": {
       "model_id": "110c8f9ed52f4f68bda83e2881f420b7",
       "version_major": 2,
       "version_minor": 0
      },
      "text/plain": [
       "Downloading:   0%|          | 0.00/710 [00:00<?, ?B/s]"
      ]
     },
     "metadata": {},
     "output_type": "display_data"
    },
    {
     "data": {
      "application/vnd.jupyter.widget-view+json": {
       "model_id": "8a7670c6673141f48aabfc9f80feb031",
       "version_major": 2,
       "version_minor": 0
      },
      "text/plain": [
       "Downloading:   0%|          | 0.00/811k [00:00<?, ?B/s]"
      ]
     },
     "metadata": {},
     "output_type": "display_data"
    },
    {
     "data": {
      "application/vnd.jupyter.widget-view+json": {
       "model_id": "fba4eb14949942d7bb6f305be830095a",
       "version_major": 2,
       "version_minor": 0
      },
      "text/plain": [
       "Downloading:   0%|          | 0.00/2.42M [00:00<?, ?B/s]"
      ]
     },
     "metadata": {},
     "output_type": "display_data"
    },
    {
     "data": {
      "application/vnd.jupyter.widget-view+json": {
       "model_id": "f0617440331647589d8d0acb87861ee8",
       "version_major": 2,
       "version_minor": 0
      },
      "text/plain": [
       "Downloading:   0%|          | 0.00/241 [00:00<?, ?B/s]"
      ]
     },
     "metadata": {},
     "output_type": "display_data"
    },
    {
     "data": {
      "application/vnd.jupyter.widget-view+json": {
       "model_id": "d7fe7405dc1a458abf8ccd9110ae652b",
       "version_major": 2,
       "version_minor": 0
      },
      "text/plain": [
       "Downloading:   0%|          | 0.00/1.20k [00:00<?, ?B/s]"
      ]
     },
     "metadata": {},
     "output_type": "display_data"
    },
    {
     "data": {
      "application/vnd.jupyter.widget-view+json": {
       "model_id": "9b5137c56b6c4a029a4f67c2c234f926",
       "version_major": 2,
       "version_minor": 0
      },
      "text/plain": [
       "Downloading:   0%|          | 0.00/440M [00:00<?, ?B/s]"
      ]
     },
     "metadata": {},
     "output_type": "display_data"
    },
    {
     "data": {
      "application/vnd.jupyter.widget-view+json": {
       "model_id": "bf0f3f45ccc54742980c3a53c03f70bf",
       "version_major": 2,
       "version_minor": 0
      },
      "text/plain": [
       "Downloading:   0%|          | 0.00/710 [00:00<?, ?B/s]"
      ]
     },
     "metadata": {},
     "output_type": "display_data"
    },
    {
     "data": {
      "application/vnd.jupyter.widget-view+json": {
       "model_id": "85af12dbc7b646469dcb44bf527a2e88",
       "version_major": 2,
       "version_minor": 0
      },
      "text/plain": [
       "Downloading:   0%|          | 0.00/811k [00:00<?, ?B/s]"
      ]
     },
     "metadata": {},
     "output_type": "display_data"
    },
    {
     "data": {
      "application/vnd.jupyter.widget-view+json": {
       "model_id": "a1536e9598af4ec99e972b98ebf255a9",
       "version_major": 2,
       "version_minor": 0
      },
      "text/plain": [
       "Downloading:   0%|          | 0.00/2.42M [00:00<?, ?B/s]"
      ]
     },
     "metadata": {},
     "output_type": "display_data"
    },
    {
     "data": {
      "application/vnd.jupyter.widget-view+json": {
       "model_id": "936db1c6ee49403491220f05902cd95c",
       "version_major": 2,
       "version_minor": 0
      },
      "text/plain": [
       "Downloading:   0%|          | 0.00/241 [00:00<?, ?B/s]"
      ]
     },
     "metadata": {},
     "output_type": "display_data"
    },
    {
     "data": {
      "application/vnd.jupyter.widget-view+json": {
       "model_id": "7707040a96614636b307b28a33a42080",
       "version_major": 2,
       "version_minor": 0
      },
      "text/plain": [
       "Downloading:   0%|          | 0.00/1.20k [00:00<?, ?B/s]"
      ]
     },
     "metadata": {},
     "output_type": "display_data"
    },
    {
     "data": {
      "application/vnd.jupyter.widget-view+json": {
       "model_id": "228af81d9cc848dabbb2b81e36c849e2",
       "version_major": 2,
       "version_minor": 0
      },
      "text/plain": [
       "Downloading:   0%|          | 0.00/440M [00:00<?, ?B/s]"
      ]
     },
     "metadata": {},
     "output_type": "display_data"
    },
    {
     "name": "stdout",
     "output_type": "stream",
     "text": [
      "☞ ",
      " ",
      "T ",
      "Dufant (Victor), libraire, r. du Gros-Che- ",
      "net. 2. ",
      "JO \n",
      "<TITREH>☞</TITREH><PER> ",
      "T ",
      "Dufant (Victor</PER>), <ACT>libraire</ACT>, <SPAT><LOC>r. du Gros-Che- ",
      "net</LOC>. <CARDINAL>2</CARDINAL>.<LOC> ",
      "JO</LOC></SPAT> \n",
      "\n",
      "\n",
      "\n",
      "Dutay, essayeur du commerce, place Dau- ",
      " ",
      "- ",
      "píině, 5. ",
      "DOB \n",
      "<PER>Dutay</PER>, <ACT>essayeur du commerce</ACT>, <SPAT><LOC>place Dau- ",
      " ",
      "- ",
      "píině</LOC>, <CARDINAL>5</CARDINAL>. ",
      "DOB</SPAT> \n",
      "\n",
      "\n",
      "\n",
      "Dulay, chandronnier, r. du Pont- aux- ",
      "Chuux, 15. ",
      "SI \n",
      "<PER>Dulay</PER>, <ACT>chandronnier</ACT>, <SPAT><LOC>r. du Pont- aux- ",
      "Chuux</LOC>, <CARDINAL>15</CARDINAL>. ",
      "SI</SPAT> \n",
      "\n",
      "\n",
      "\n",
      "Dufay (V.e), grenetière, r. du Fauh.-S. ",
      "Denis, 20. ",
      "372 \n",
      "<PER>Dufay (V.e),</PER> <ACT>grenetière</ACT>, <SPAT><LOC>r. du Fauh.-S. ",
      "Denis</LOC>, <CARDINAL>20</CARDINAL></SPAT>.<CARDINAL> ",
      "372</CARDINAL> \n",
      "\n",
      "\n",
      "\n",
      "Y ",
      "☞ ",
      "Dnten,charentier, 1. Montmartre, 89. 318 \n",
      "<PER>Y<TITREH> ",
      "</TITREH>☞ ",
      "Dnten</PER>,<ACT>charentier</ACT>, <SPAT><LOC>1. Montmartre</LOC>, <CARDINAL>89</CARDINAL></SPAT>. <CARDINAL>318</CARDINAL> \n",
      "\n",
      "\n",
      "\n",
      "Dufey fils, bijoutier, passage de la Réunion ",
      "A \n",
      "<PER>Dufey fils</PER>, <ACT>bijoutier</ACT>, <SPAT><LOC>passage de la Réunion</LOC><CARDINAL> ",
      "A</CARDINAL> <LOC></LOC></SPAT>\n",
      "\n",
      "\n",
      "\n",
      "Dnley, boucher, r. S.&quot;Louis-au-Marais,3. ",
      "* \n",
      "<PER>Dnley</PER>, <ACT>boucher</ACT>, <SPAT><LOC>r. S.&amp;quot;Louis-au-Marais</LOC>,<CARDINAL>3.</CARDINAL></SPAT> ",
      "* \n",
      "\n",
      "\n",
      "\n",
      "☞ ",
      "Duffand, bijonteer, r. S.-Martin, 107. 284 \n",
      "☞<PER> ",
      "Duffand</PER>, <ACT>bijonteer</ACT>, <SPAT><LOC>r. S.-Martin</LOC>, <CARDINAL>107</CARDINAL></SPAT>. <CARDINAL>284</CARDINAL> \n",
      "\n",
      "\n",
      "\n",
      "Duftaud, maçon, r. S-Honore ",
      " ",
      "353. ",
      "O \n",
      "<PER>Duftaud</PER>, <ACT>maçon</ACT>, <SPAT><LOC>r. S-Honore</LOC> ",
      "<CARDINAL> ",
      "353.</CARDINAL><LOC> ",
      "O</LOC></SPAT> \n",
      "\n",
      "\n",
      "\n",
      "Dullaut, chandronnier, r. de la Sourdière ",
      "I- ( ",
      "☞T4 \n",
      "<PER>Dullaut</PER>, <ACT>chandronnier</ACT>, <SPAT><LOC>r. de la Sourdière ",
      "I- ( ",
      "☞T4</LOC></SPAT> \n",
      "\n",
      "\n",
      "\n",
      "lukils. limonauier, 1. des Colonnes, 6. J9 \n",
      "<PER>lukils. limonauier</PER>, <SPAT><LOC>1. des Colonnes</LOC>, <CARDINAL>6</CARDINAL>. <CARDINAL>J9</CARDINAL></SPAT> \n",
      "\n",
      "\n",
      "\n",
      "— ",
      "T ",
      "Dullocu, architecte, r. Basse-Porte-S.De- ",
      "— ",
      "Ris, 28. \n",
      "—<PER> ",
      "T ",
      "Dullocu</PER>, <ACT>architecte</ACT>, <SPAT><LOC>r. Basse-Porte-S.De- ",
      "— ",
      "Ris</LOC>, <CARDINAL>28</CARDINAL></SPAT>. \n",
      "\n",
      "\n",
      "\n",
      "Duflot, loueur de carrosses, r. de Paradis- ",
      "505 ",
      "Poissonnière, 22. \n",
      "<PER>Duflot</PER>, <ACT>loueur de carrosses</ACT>, <SPAT><LOC>r. de Paradis-</LOC><CARDINAL> ",
      "50</CARDINAL><LOC>5 ",
      "Poissonnière</LOC>, <CARDINAL>22</CARDINAL></SPAT>. \n",
      "\n",
      "\n",
      "\n",
      "Dufort, bottier, Palais-R., gal. vitrée, 215. ",
      "A \n",
      "<PER>Dufort</PER>, <ACT>bottier</ACT>, <SPAT><LOC>Palais-R., gal. vitrée</LOC>, <CARDINAL>215.</CARDINAL><LOC> ",
      "A</LOC> </SPAT>\n",
      "\n",
      "\n",
      "\n",
      "Dufort fils, bottier (exp. 1819.), r. J.-J.. ",
      "Rousscan. 18. ",
      "290 \n",
      "<PER>Dufort fils</PER>, <DESC>bottier (exp. 1819</DESC>.), <SPAT><LOC>r. J.-J.. ",
      "Rousscan</LOC>. <CARDINAL>18</CARDINAL></SPAT>.<CARDINAL> ",
      "290</CARDINAL> \n",
      "\n",
      "\n",
      "\n",
      "* ",
      "Dufort, tabletier, r. Jean-Pain-Mollet, 10. ",
      "4O \n",
      "*<PER> ",
      "Dufort</PER>, <ACT>tabletier</ACT>, <SPAT><LOC>r. Jean-Pain-Mollet</LOC>, <CARDINAL>10</CARDINAL>.</SPAT> ",
      "4<SPAT>O</SPAT> \n",
      "\n",
      "\n",
      "\n",
      "Dufossé, teiniurier, r. du Faub.-Montmar- ",
      "tre , 63. ",
      "483 \n",
      "<PER>Dufossé</PER>, <ACT>teiniurier</ACT>, <SPAT><LOC>r. du Faub.-Montmar- ",
      "tre</LOC> , <CARDINAL>63</CARDINAL></SPAT>. ",
      "4<CARDINAL>83</CARDINAL> \n",
      "\n",
      "\n",
      "\n",
      "Duſour el Besnard, march, de bois à bruler, ",
      "quai de la Tournelle, 17. etr. des Fossés- ",
      "SBernard. 11. ",
      "Dí \n",
      "<PER>Duſour el Besnard</PER>, <ACT>march, de bois à bruler</ACT>,<SPAT><LOC> ",
      "quai de la Tournelle</LOC>, <CARDINAL>17</CARDINAL>. et<LOC>r. des Fossés- ",
      "SBernard</LOC>. <CARDINAL>11</CARDINAL>.<TITREH> ",
      "Dí</TITREH></SPAT> \n",
      "\n",
      "\n",
      "\n",
      "Dufour jeune, march, de bois à brüler ",
      "de la Pépinière, 53. ",
      "7 r. \n",
      "<PER>Dufour jeune</PER>, <ACT>march, de bois à <LOC>brüler ",
      "de la Pépinière</LOC></ACT><SPAT>, <CARDINAL>53</CARDINAL>.<CARDINAL> ",
      "7</CARDINAL> <LOC>r</LOC>. </SPAT>\n",
      "\n",
      "\n",
      "\n",
      "Dufour (Mad.), march. de chapeaux de ",
      "paitle, passage dn Panorama, 11. ",
      "IO \n",
      "<PER>Dufour (Mad.</PER>), <ACT>march. de chapeaux de ",
      "paitle</ACT>, <SPAT><LOC>passage dn Panorama</LOC>, <CARDINAL>11</CARDINAL>.<LOC> ",
      "IO</LOC></SPAT> \n",
      "\n",
      "\n",
      "\n",
      "Dutour, thapelier, r. S.-Honore ",
      "383. 3og \n",
      "<PER>Dutour</PER>, <ACT>thapelier</ACT>, <SPAT><LOC>r. S.-Honore</LOC><CARDINAL> ",
      "383. 3</CARDINAL>og</SPAT> \n",
      "\n",
      "\n",
      "\n",
      "Dufour, cirier, r. de PArbre-Sec, 6o. ",
      "316 \n",
      "<PER>Dufour</PER>, <ACT>cirier</ACT>, <SPAT><LOC>r. de PArbre-Sec</LOC>, <CARDINAL>6o</CARDINAL>.<CARDINAL> ",
      "316</CARDINAL></SPAT> \n",
      "\n",
      "\n",
      "\n",
      "Dufour et co., commiss., r. des Contures- ",
      " ",
      "DAO ",
      "S. Dervajs, 18. \n",
      "<PER>Dufour et co.,</PER> <ACT>commiss</ACT>., <SPAT><LOC>r. des Contures- ",
      " ",
      "DAO ",
      "S. Dervajs</LOC>, <CARDINAL>18</CARDINAL></SPAT>. \n",
      "\n",
      "\n",
      "\n",
      "Dulour, corropeir, 1. des Vertusy1d 3 \n",
      "<PER>Dulour</PER>, <ACT>corropeir</ACT>, <SPAT><LOC>1. des Vertusy1d</LOC> <CARDINAL>3</CARDINAL></SPAT> \n",
      "\n",
      "\n",
      "\n",
      "Dufour (Charles), épicier, r. S.-Denis, ",
      "Jo7. ",
      "☞ ",
      "332 \n",
      "<PER>Dufour (Charles),</PER> <ACT>épicier</ACT>, <SPAT><LOC>r. S.-Denis, ",
      "Jo7. ",
      "☞</LOC><CARDINAL> ",
      "332</CARDINAL></SPAT> \n",
      "\n",
      "\n",
      "\n",
      "Dufour, fab. d&apos;éventails (erp. 1819) ",
      "Beaubourg, 48. ",
      " ",
      "360 \n",
      "<PER>Dufour</PER>, <DESC>fab. d&amp;apos;éventails (erp. 1819)</DESC><SPAT><LOC> ",
      "Beaubourg</LOC>, <CARDINAL>48</CARDINAL></SPAT>. ",
      "<CARDINAL> ",
      "360</CARDINAL> \n",
      "\n",
      "\n",
      "\n",
      "Dufour, faiencter, r. S.-Anne , 50. ",
      "302 \n",
      "<PER>Dufour</PER>, <ACT>faiencter</ACT>, <SPAT><LOC>r. S.-Anne</LOC> , <CARDINAL>50</CARDINAL></SPAT>.<CARDINAL> ",
      "302</CARDINAL> \n",
      "\n",
      "\n",
      "\n",
      "Dufour, ",
      "A. Sarnt,r. Ventadour, ",
      "☞7 \n",
      "<PER>Dufour</PER>,<SPAT> ",
      "A. Sarnt,<LOC>r. Ventadour</LOC>,<CARDINAL> ",
      "☞7</CARDINAL></SPAT> \n",
      "\n",
      "\n",
      "\n",
      "Dufour (Gabriel), libraire, r. de Vaugirard, ",
      "A \n",
      "<PER>Dufour (Gabriel</PER>), <ACT>libraire</ACT>, <SPAT><LOC>r. de Vaugirard,</LOC><CARDINAL> ",
      "A</CARDINAL> <LOC></LOC></SPAT>\n",
      "\n",
      "\n",
      "\n",
      "Dufour, maçon, r. S.-Jean-Baptiste, 4 402 \n",
      "<PER>Dufour</PER>, <ACT>maçon</ACT>, <SPAT><LOC>r. S.-Jean-Baptiste</LOC>, <CARDINAL>4 402</CARDINAL></SPAT> \n",
      "\n",
      "\n",
      "\n",
      "Dufour, architecte, r. de Chartres-S.-Ho- ",
      "2781 40a ",
      "nore, 12. (Elig.) \n",
      "<PER>Dufour</PER>, <ACT>architecte</ACT>, <SPAT><LOC>r. de Chartres-S.-Ho-</LOC><CARDINAL> ",
      "2781 40</CARDINAL><LOC>a ",
      "nore</LOC>, <CARDINAL>12</CARDINAL>. (E</SPAT><PER>lig.</PER><SPAT>)</SPAT> \n",
      "\n",
      "\n",
      "\n",
      "Dufour (Mad.), nouveautes, 1. Neuve-des- ",
      "H12 ",
      "Petits-Champs, 4. \n",
      "<PER>Dufour (Mad.),</PER> <ACT>nouveautes</ACT>, 1. <SPAT>Neuve-des- ",
      "H12 ",
      "Petits-Champs, <CARDINAL>4</CARDINAL></SPAT>. \n",
      "\n",
      "\n",
      "\n",
      "Dufour Chabrol, papetier, r. S.-Martin ",
      "☞ ",
      "4 \n",
      "<PER>Dufour Chabrol</PER>, <ACT>papetier</ACT>, <SPAT><LOC>r. S.-Martin ",
      "☞</LOC><CARDINAL> ",
      "4</CARDINAL></SPAT> \n",
      "\n",
      "\n",
      "\n",
      "Dufour (J.) et co,, fab. de papiers peints, ",
      "((1819); r. Beauvean-S. Antoine, 19. \n",
      "<PER>Dufour (J.) et co,</PER>, <DESC>fab. de papiers peints</DESC>,<DESC><CARDINAL> ",
      "(</CARDINAL>(<CARDINAL>18</CARDINAL>19</DESC>); <SPAT><LOC>r. Beauvean-S. Antoine</LOC>, <CARDINAL>19</CARDINAL></SPAT>. \n",
      "\n",
      "\n",
      "\n",
      "\n",
      "\n",
      "\n",
      "\n",
      "Waring et Gillow Limited, ameublements an- ",
      "glais, éctairage électrique et appareils sa- ",
      "nitaires, r. Glück, 8 et boul. Haussmann, ",
      "31, TELÉPH] 244.45; succursale, r. Bleue, 7. ",
      "WARISON�PARIS. ",
      "TĚLÉPH 244.40. Adr.\n",
      "<PER>Waring et Gillow Limited</PER>, <ACT>ameublements an- ",
      "glais, éctairage électrique et appareils sa- ",
      "nitaires</ACT>, <SPAT><LOC>r. Glück</LOC>, <CARDINAL>8</CARDINAL></SPAT> et <SPAT><LOC>boul. Haussmann</LOC>,<CARDINAL> ",
      "31</CARDINAL>, TELÉPH] 24</SPAT>4.45; <SPAT>succursale, <LOC>r. Bleue</LOC>, <CARDINAL>7</CARDINAL>.</SPAT><PER> ",
      "WARISON�PARIS. ",
      "TĚLÉPH 244.40</PER>. Adr.\n",
      "\n",
      "\n",
      "\n",
      "Barruel (Paul), fabr. de produis chimiques ",
      "et de siccatif zumatique, adjoint au maire ",
      "du 15e arrond., Alleray, 70; dépót chez H. ",
      "Suillot sle-Croix-de-la-Bretonnerič. 21 \n",
      "<PER>Barruel (Paul</PER>), <ACT>fabr. de produis chimiques ",
      "et de siccatif zumatique, adjoint au maire ",
      "du 15e arrond.</ACT>, <SPAT><LOC>Alleray</LOC>, <CARDINAL>70</CARDINAL></SPAT>; <SPAT>dépót chez H. ",
      "Suillot s<LOC>le-Croix-de-la-Bretonnerič</LOC>. <CARDINAL>21</CARDINAL></SPAT> \n",
      "\n",
      "\n",
      "\n",
      "Marchand (Mme) née Louise Scelle, en gros et détail, r. ",
      "77, et à Bercy, r. de Bourgogne, 25. ",
      "d'Enfer, \n",
      "<PER>Marchand (Mme) née Louise Scelle</PER>, <ACT>en gros et détail</ACT>, <SPAT><LOC>r.</LOC><CARDINAL> ",
      "77</CARDINAL></SPAT>, et <SPAT>à <LOC>Bercy</LOC>, <LOC>r. de Bourgogne</LOC>, <CARDINAL>25</CARDINAL>. ",
      "d</SPAT>'<SPAT>Enfer</SPAT>, \n",
      "\n",
      "\n",
      "\n",
      "Very (A.). ingenieur-constructeur, r. d'Angou- ",
      "lême, 66, cité d'Angouléme, 6. TĚLÉPH 420.82. \n",
      "<PER>Very (A.).</PER> <ACT>ingenieur-constructeur</ACT>, <SPAT>r. d</SPAT>'<SPAT>Angou- ",
      "lême, <CARDINAL>66</CARDINAL>, cité d</SPAT>'<SPAT>Angouléme, <CARDINAL>6</CARDINAL>. <LOC>TĚLÉPH</LOC> 420.82</SPAT>. \n",
      "\n",
      "\n",
      "\n",
      "Vacherie de Royaumont, Brémontler. ",
      "16; Chaussée-d'Antin, 68; Phals- ",
      "bourg, 3 ; blv. Poissonnière, 1, et blv. ",
      "St-Martin, 15. \n"
     ]
    },
    {
     "name": "stdout",
     "output_type": "stream",
     "text": [
      "<PER>Vacherie de Royaumont</PER>, <SPAT><LOC>Brémontler</LOC>.<CARDINAL> ",
      "16</CARDINAL></SPAT>; <SPAT>Chaussée-d'Antin, <CARDINAL>68</CARDINAL></SPAT>; <SPAT><LOC>Phals- ",
      "bourg</LOC>, <CARDINAL>3</CARDINAL></SPAT> ; <SPAT><LOC>blv. Poissonnière</LOC>, <CARDINAL>1</CARDINAL></SPAT>, et <SPAT><LOC>blv. ",
      "St-Martin</LOC>, <CARDINAL>15</CARDINAL></SPAT>. \n",
      "\n",
      "\n",
      "\n",
      "Budan, inspect.-gén. des études, r. Charlot. 18 (au Marais). \n",
      "<PER>Budan</PER>, <ACT>inspect.-gén. des études</ACT>, <SPAT><LOC>r. Charlot.</LOC> <CARDINAL>18</CARDINAL> <LOC>(au Marais</LOC></SPAT>). \n",
      "\n",
      "\n",
      "\n",
      "\n",
      "\n"
     ]
    }
   ],
   "source": [
    "from transformers import AutoTokenizer, AutoModelForTokenClassification, TokenClassificationPipeline\n",
    "from xmlize_util import get_NER_tags, xmlize_multilevel\n",
    "\n",
    "LIMIT = 100\n",
    "\n",
    "#Tools n1\n",
    "tokenizer1 = AutoTokenizer.from_pretrained(FINETUNED_MODEL_N1)\n",
    "model1 = AutoModelForTokenClassification.from_pretrained(FINETUNED_MODEL_N1)\n",
    "apply1 = TokenClassificationPipeline(model=model1, tokenizer=tokenizer1, aggregation_strategy='simple', ignore_labels=[''])\n",
    "\n",
    "#Tools n2\n",
    "tokenizer2 = AutoTokenizer.from_pretrained(FINETUNED_MODEL_N2)\n",
    "model2 = AutoModelForTokenClassification.from_pretrained(FINETUNED_MODEL_N2)\n",
    "apply2 = TokenClassificationPipeline(model=model2, tokenizer=tokenizer2, aggregation_strategy='simple', ignore_labels=[''])\n",
    "\n",
    "for s in samples.split(\"\\n\"):\n",
    "    print(s)\n",
    "    res = []\n",
    "    res.append(apply1(s))\n",
    "    res.append(apply2(s))\n",
    "    levels, num_levels = get_NER_tags(s,res)\n",
    "\n",
    "    if len(levels['niv_1']) > 0:\n",
    "        print(xmlize_multilevel(levels,num_levels))\n",
    "    print('')"
   ]
  },
  {
   "cell_type": "code",
   "execution_count": null,
   "id": "2904f9fd",
   "metadata": {},
   "outputs": [],
   "source": []
  }
 ],
 "metadata": {
  "kernelspec": {
   "display_name": "Python 3 (ipykernel)",
   "language": "python",
   "name": "python3"
  },
  "language_info": {
   "codemirror_mode": {
    "name": "ipython",
    "version": 3
   },
   "file_extension": ".py",
   "mimetype": "text/x-python",
   "name": "python",
   "nbconvert_exporter": "python",
   "pygments_lexer": "ipython3",
   "version": "3.10.8"
  }
 },
 "nbformat": 4,
 "nbformat_minor": 5
}
