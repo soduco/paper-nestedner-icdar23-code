{
 "cells": [
  {
   "cell_type": "markdown",
   "id": "cda9d76b",
   "metadata": {},
   "source": [
    "# 160 : Demo M1"
   ]
  },
  {
   "cell_type": "code",
   "execution_count": null,
   "id": "9d45b838",
   "metadata": {},
   "outputs": [],
   "source": [
    "#!pip install ipywidgets"
   ]
  },
  {
   "cell_type": "code",
   "execution_count": null,
   "id": "80021026",
   "metadata": {},
   "outputs": [],
   "source": [
    "!jupyter nbextension enable --py widgetsnbextension"
   ]
  },
  {
   "cell_type": "code",
   "execution_count": null,
   "id": "8eb1d071",
   "metadata": {},
   "outputs": [],
   "source": [
    "models = ['nlpso/m1_ind_layers_ref_cmbert_io',\n",
    " 'nlpso/m1_ind_layers_ref_cmbert_iob2',\n",
    " 'nlpso/m1_ind_layers_ref_ptrn_cmbert_io',\n",
    " 'nlpso/m1_ind_layers_ref_ptrn_cmbert_iob2',\n",
    " 'nlpso/m1_ind_layers_ocr_cmbert_io',\n",
    " 'nlpso/m1_ind_layers_ocr_cmbert_iob2',\n",
    " 'nlpso/m1_ind_layers_ocr_ptrn_cmbert_io',\n",
    " 'nlpso/m1_ind_layers_ocr_ptrn_cmbert_iob2',\n",
    "]"
   ]
  },
  {
   "cell_type": "markdown",
   "id": "77eba078",
   "metadata": {},
   "source": [
    "Choose an model on the HuggingFace among the following list :"
   ]
  },
  {
   "cell_type": "code",
   "execution_count": null,
   "id": "d545388c",
   "metadata": {},
   "outputs": [],
   "source": [
    "import ipywidgets as widgets\n",
    "\n",
    "model = widgets.RadioButtons(\n",
    "            options=models,\n",
    "            layout={'width': 'max-content'}\n",
    "        )\n",
    "model"
   ]
  },
  {
   "cell_type": "code",
   "execution_count": null,
   "id": "40ce675c",
   "metadata": {},
   "outputs": [],
   "source": [
    "FINETUNED_MODEL_N1 = model.value + '_level_1'\n",
    "FINETUNED_MODEL_N2 = model.value + '_level_2'\n",
    "print(FINETUNED_MODEL_N1)\n",
    "print(FINETUNED_MODEL_N2)"
   ]
  },
  {
   "cell_type": "markdown",
   "id": "c22e5910",
   "metadata": {},
   "source": [
    "### Data"
   ]
  },
  {
   "cell_type": "code",
   "execution_count": null,
   "id": "f9ecab43-7166-4e97-9ff4-151e88f457f6",
   "metadata": {},
   "outputs": [],
   "source": [
    "samples = \"\"\"☞ ",
    " ",
    "T ",
    "Dufant (Victor), libraire, r. du Gros-Che- ",
    "net. 2. ",
    "JO \\n\n",
    "Dutay, essayeur du commerce, place Dau- ",
    " ",
    "- ",
    "píině, 5. ",
    "DOB \\n\n",
    "Dulay, chandronnier, r. du Pont- aux- ",
    "Chuux, 15. ",
    "SI \\n\n",
    "Dufay (V.e), grenetière, r. du Fauh.-S. ",
    "Denis, 20. ",
    "372 \\n\n",
    "Y ",
    "☞ ",
    "Dnten,charentier, 1. Montmartre, 89. 318 \\n\n",
    "Dufey fils, bijoutier, passage de la Réunion ",
    "A \\n\n",
    "Dnley, boucher, r. S.&quot;Louis-au-Marais,3. ",
    "* \\n\n",
    "☞ ",
    "Duffand, bijonteer, r. S.-Martin, 107. 284 \\n\n",
    "Duftaud, maçon, r. S-Honore ",
    " ",
    "353. ",
    "O \\n\n",
    "Dullaut, chandronnier, r. de la Sourdière ",
    "I- ( ",
    "☞T4 \\n\n",
    "lukils. limonauier, 1. des Colonnes, 6. J9 \\n\n",
    "— ",
    "T ",
    "Dullocu, architecte, r. Basse-Porte-S.De- ",
    "— ",
    "Ris, 28. \\n\n",
    "Duflot, loueur de carrosses, r. de Paradis- ",
    "505 ",
    "Poissonnière, 22. \\n\n",
    "Dufort, bottier, Palais-R., gal. vitrée, 215. ",
    "A \\n\n",
    "Dufort fils, bottier (exp. 1819.), r. J.-J.. ",
    "Rousscan. 18. ",
    "290 \\n\n",
    "* ",
    "Dufort, tabletier, r. Jean-Pain-Mollet, 10. ",
    "4O \\n\n",
    "Dufossé, teiniurier, r. du Faub.-Montmar- ",
    "tre , 63. ",
    "483 \\n\n",
    "Duſour el Besnard, march, de bois à bruler, ",
    "quai de la Tournelle, 17. etr. des Fossés- ",
    "SBernard. 11. ",
    "Dí \\n\n",
    "Dufour jeune, march, de bois à brüler ",
    "de la Pépinière, 53. ",
    "7 r. \\n\n",
    "Dufour (Mad.), march. de chapeaux de ",
    "paitle, passage dn Panorama, 11. ",
    "IO \\n\n",
    "Dutour, thapelier, r. S.-Honore ",
    "383. 3og \\n\n",
    "Dufour, cirier, r. de PArbre-Sec, 6o. ",
    "316 \\n\n",
    "Dufour et co., commiss., r. des Contures- ",
    " ",
    "DAO ",
    "S. Dervajs, 18. \\n\n",
    "Dulour, corropeir, 1. des Vertusy1d 3 \\n\n",
    "Dufour (Charles), épicier, r. S.-Denis, ",
    "Jo7. ",
    "☞ ",
    "332 \\n\n",
    "Dufour, fab. d&apos;éventails (erp. 1819) ",
    "Beaubourg, 48. ",
    " ",
    "360 \\n\n",
    "Dufour, faiencter, r. S.-Anne , 50. ",
    "302 \\n\n",
    "Dufour, ",
    "A. Sarnt,r. Ventadour, ",
    "☞7 \\n\n",
    "Dufour (Gabriel), libraire, r. de Vaugirard, ",
    "A \\n\n",
    "Dufour, maçon, r. S.-Jean-Baptiste, 4 402 \\n\n",
    "Dufour, architecte, r. de Chartres-S.-Ho- ",
    "2781 40a ",
    "nore, 12. (Elig.) \\n\n",
    "Dufour (Mad.), nouveautes, 1. Neuve-des- ",
    "H12 ",
    "Petits-Champs, 4. \\n\n",
    "Dufour Chabrol, papetier, r. S.-Martin ",
    "☞ ",
    "4 \\n\n",
    "Dufour (J.) et co,, fab. de papiers peints, ",
    "((1819); r. Beauvean-S. Antoine, 19. \\n\n",
    "\\n\n",
    "Waring et Gillow Limited, ameublements an- ",
    "glais, éctairage électrique et appareils sa- ",
    "nitaires, r. Glück, 8 et boul. Haussmann, ",
    "31, TELÉPH] 244.45; succursale, r. Bleue, 7. ",
    "WARISON�PARIS. ",
    "TĚLÉPH 244.40. Adr.\\n\n",
    "Barruel (Paul), fabr. de produis chimiques ",
    "et de siccatif zumatique, adjoint au maire ",
    "du 15e arrond., Alleray, 70; dépót chez H. ",
    "Suillot sle-Croix-de-la-Bretonnerič. 21 \\n\n",
    "Marchand (Mme) née Louise Scelle, en gros et détail, r. ",
    "77, et à Bercy, r. de Bourgogne, 25. ",
    "d'Enfer, \\n\n",
    "Very (A.). ingenieur-constructeur, r. d'Angou- ",
    "lême, 66, cité d'Angouléme, 6. TĚLÉPH 420.82. \\n\n",
    "Vacherie de Royaumont, Brémontler. ",
    "16; Chaussée-d'Antin, 68; Phals- ",
    "bourg, 3 ; blv. Poissonnière, 1, et blv. ",
    "St-Martin, 15. \\n\n",
    "Budan, inspect.-gén. des études, r. Charlot. 18 (au Marais). \\n\n",
    "\"\"\""
   ]
  },
  {
   "cell_type": "markdown",
   "id": "c400dc18",
   "metadata": {},
   "source": [
    "### Tools"
   ]
  },
  {
   "cell_type": "code",
   "execution_count": null,
   "id": "e60296ae",
   "metadata": {
    "scrolled": true
   },
   "outputs": [],
   "source": [
    "from transformers import AutoTokenizer, AutoModelForTokenClassification, TokenClassificationPipeline\n",
    "from xmlize_util import get_NER_tags, xmlize_multilevel\n",
    "\n",
    "LIMIT = 100\n",
    "\n",
    "#Tools n1\n",
    "tokenizer1 = AutoTokenizer.from_pretrained(FINETUNED_MODEL_N1)\n",
    "model1 = AutoModelForTokenClassification.from_pretrained(FINETUNED_MODEL_N1)\n",
    "apply1 = TokenClassificationPipeline(model=model1, tokenizer=tokenizer1, aggregation_strategy='simple', ignore_labels=[''])\n",
    "\n",
    "#Tools n2\n",
    "tokenizer2 = AutoTokenizer.from_pretrained(FINETUNED_MODEL_N2)\n",
    "model2 = AutoModelForTokenClassification.from_pretrained(FINETUNED_MODEL_N2)\n",
    "apply2 = TokenClassificationPipeline(model=model2, tokenizer=tokenizer2, aggregation_strategy='simple', ignore_labels=[''])\n",
    "\n",
    "for s in samples.split(\"\\n\"):\n",
    "    print(s)\n",
    "    res = []\n",
    "    res.append(apply1(s))\n",
    "    res.append(apply2(s))\n",
    "    levels, num_levels = get_NER_tags(s,res)\n",
    "\n",
    "    if len(levels['niv_1']) > 0:\n",
    "        print(xmlize_multilevel(levels,num_levels))\n",
    "    print('')"
   ]
  },
  {
   "cell_type": "code",
   "execution_count": null,
   "id": "2904f9fd",
   "metadata": {},
   "outputs": [],
   "source": []
  }
 ],
 "metadata": {
  "kernelspec": {
   "display_name": "Python 3 (ipykernel)",
   "language": "python",
   "name": "python3"
  },
  "language_info": {
   "codemirror_mode": {
    "name": "ipython",
    "version": 3
   },
   "file_extension": ".py",
   "mimetype": "text/x-python",
   "name": "python",
   "nbconvert_exporter": "python",
   "pygments_lexer": "ipython3",
   "version": "3.10.8"
  }
 },
 "nbformat": 4,
 "nbformat_minor": 5
}
