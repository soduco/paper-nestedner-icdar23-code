{
 "cells": [
  {
   "cell_type": "markdown",
   "id": "cda9d76b",
   "metadata": {},
   "source": [
    "# 150 : Qualitative analysis using M1"
   ]
  },
  {
   "cell_type": "code",
   "execution_count": 2,
   "id": "8ff6c9e6",
   "metadata": {},
   "outputs": [
    {
     "name": "stdout",
     "output_type": "stream",
     "text": [
      "2\n"
     ]
    }
   ],
   "source": [
    "import os\n",
    "os.environ[\"CUDA_VISIBLE_DEVICES\"] = \"2\" #Numéro GPU\n",
    "print(os.environ[\"CUDA_VISIBLE_DEVICES\"])"
   ]
  },
  {
   "cell_type": "code",
   "execution_count": 3,
   "id": "da53ce29-cd5f-4295-ac93-2677c2d07034",
   "metadata": {},
   "outputs": [
    {
     "name": "stdout",
     "output_type": "stream",
     "text": [
      "['/lrde/home2/stual/stage_DAS/m1_independant_ner_layers', '/usr/lib/python310.zip', '/usr/lib/python3.10', '/usr/lib/python3.10/lib-dynload', '', '/lrde/home2/stual/.venv/python_3_9/lib/python3.10/site-packages']\n",
      "/lrde/home2/stual/stage_DAS/m1_independant_ner_layers\n",
      "/work/stual/dataset_ICDAR\n",
      "/work/stual/res_ICDAR/method_1\n"
     ]
    }
   ],
   "source": [
    "import os, sys\n",
    "from pathlib import Path\n",
    "\n",
    "ENV_IS_GOOGLE_COLAB = True if 'google.colab' in str(get_ipython()) else False\n",
    "os.environ[\"ENV_IS_GOOGLE_COLAB\"] = str(ENV_IS_GOOGLE_COLAB)\n",
    "\n",
    "if ENV_IS_GOOGLE_COLAB:\n",
    "  from google.colab import drive\n",
    "  mountpoint = Path(\"/content/drive\")\n",
    "  drive.mount(str(mountpoint)) # Mount gdrive to BASE\n",
    "  base = mountpoint / \"MyDrive\" # Adapt this to your situation\n",
    "  sys.path.append(str(base)) # Add BASE to Python Path\n",
    "  BASE = Path(base).resolve() # Make BASE absolute\n",
    "  DATASETS =  BASE / \"dataset\"\n",
    "else:\n",
    "  BASE = Path(os.path.dirname(os.path.realpath(\"__file__\"))).resolve() # If not on GColab, BASE will be the directory of this notebook\n",
    "  DATASETS = Path('/work/stual/dataset_ICDAR').resolve()\n",
    "  OUT_BASE = Path('/work/stual/res_ICDAR/method_1').resolve()\n",
    "\n",
    "print(sys.path)\n",
    "print(BASE)\n",
    "print(DATASETS)\n",
    "print(OUT_BASE)"
   ]
  },
  {
   "cell_type": "markdown",
   "id": "c2021c2a",
   "metadata": {},
   "source": [
    "## Model"
   ]
  },
  {
   "cell_type": "markdown",
   "id": "44b9b68e",
   "metadata": {},
   "source": [
    "Choose a fine-tuned model to evaluate in the following list :"
   ]
  },
  {
   "cell_type": "code",
   "execution_count": 4,
   "id": "f1a4baed",
   "metadata": {},
   "outputs": [
    {
     "name": "stdout",
     "output_type": "stream",
     "text": [
      "FINE-TUNED MODELS\n",
      "/tmp/111-camembert-ner-multihead-io/level-1/checkpoint-900\n",
      "/tmp/111-camembert-ner-multihead-io/level-2/checkpoint-600\n",
      "/tmp/112-camembert-ner-multihead-iob2/level-1/checkpoint-1200\n",
      "/tmp/112-camembert-ner-multihead-iob2/level-2/checkpoint-1200\n",
      "/tmp/113-pretrained-camembert-ner-multihead-io/level-1/checkpoint-1100\n",
      "/tmp/113-pretrained-camembert-ner-multihead-io/level-2/checkpoint-800\n",
      "/tmp/114-pretrained-camembert-multihead-iob2/level-1/checkpoint-1000\n",
      "/tmp/114-pretrained-camembert-multihead-iob2/level-2/checkpoint-900\n",
      "/tmp/121-camembert-ner-multihead-io/level-1/checkpoint-2600\n",
      "/tmp/121-camembert-ner-multihead-io/level-2/checkpoint-1000\n",
      "/tmp/122-camembert-ner-multihead-iob2/level-1/checkpoint-1100\n",
      "/tmp/122-camembert-ner-multihead-iob2/level-2/checkpoint-900\n",
      "/tmp/123-pretrained-camembert-ner-multihead-io/level-1/checkpoint-2000\n",
      "/tmp/123-pretrained-camembert-ner-multihead-io/level-2/checkpoint-800\n",
      "/tmp/124-pretrained-camembert-multihead-iob2/level-1/checkpoint-2200\n",
      "/tmp/124-pretrained-camembert-multihead-iob2/level-2/checkpoint-1300\n"
     ]
    }
   ],
   "source": [
    "import glob\n",
    "\n",
    "models_list = sorted(glob.glob(f\"{OUT_BASE}/tmp/*/level-*/checkpoint*\"))\n",
    "print(\"FINE-TUNED MODELS\")\n",
    "for m in models_list:\n",
    "    l = m.split('/work/stual/res_ICDAR/method_1/')\n",
    "    l = '/'.join(l[-2:])\n",
    "    print(l)"
   ]
  },
  {
   "cell_type": "code",
   "execution_count": 5,
   "id": "025d1f39",
   "metadata": {},
   "outputs": [],
   "source": [
    "### Model you want to run\n",
    "MODEL_PATH_L1 = OUT_BASE / f\"tmp/111-camembert-ner-multihead-io/level-1/checkpoint-900\"\n",
    "MODEL_PATH_L2 = OUT_BASE / f\"tmp/111-camembert-ner-multihead-io/level-2/checkpoint-600\"\n",
    "FORMAT = \"IO\"\n",
    "SET = \"REF\""
   ]
  },
  {
   "cell_type": "markdown",
   "id": "6fbb597f",
   "metadata": {},
   "source": [
    "## Load data"
   ]
  },
  {
   "cell_type": "markdown",
   "id": "299fc2c1",
   "metadata": {},
   "source": [
    "### Gold"
   ]
  },
  {
   "cell_type": "code",
   "execution_count": 17,
   "id": "2aa81965",
   "metadata": {},
   "outputs": [
    {
     "data": {
      "text/plain": [
       "Dataset({\n",
       "    features: ['tokens', 'ner_tags_niv1', 'ner_tags_niv2', 'input_ids', 'attention_mask', 'labels_niv1', 'labels_niv2'],\n",
       "    num_rows: 1685\n",
       "})"
      ]
     },
     "execution_count": 17,
     "metadata": {},
     "output_type": "execute_result"
    }
   ],
   "source": [
    "import os\n",
    "from pathlib import Path\n",
    "from config import logger\n",
    "from datasets import load_from_disk\n",
    "\n",
    "TRAINSETS_SIZES = [6084] #To train only on the biggest dataset\n",
    "\n",
    "# INPUT / OUTPUT DIRS\n",
    "INPUT_DIR = OUT_BASE / f\"m1-experiment_2_prepared_dataset_pero_ocr_io_pretrained_camembert_ner_v2\"\n",
    "DATA = INPUT_DIR / f\"huggingface_6084\"\n",
    "\n",
    "train_dev_test = load_from_disk(DATA)\n",
    "test = train_dev_test[\"test\"]\n",
    "test"
   ]
  },
  {
   "cell_type": "markdown",
   "id": "3741d14e",
   "metadata": {},
   "source": [
    "### Non-structured entries"
   ]
  },
  {
   "cell_type": "code",
   "execution_count": 18,
   "id": "983f5a25",
   "metadata": {},
   "outputs": [
    {
     "name": "stdout",
     "output_type": "stream",
     "text": [
      "1685\n",
      "/work/stual/res_ICDAR/method_1/m1-experiment_2_prepared_dataset_pero_ocr_io_pretrained_camembert_ner_v2/test_entries.txt\n"
     ]
    }
   ],
   "source": [
    "PATH = INPUT_DIR / f'test_entries.txt'\n",
    "with open(PATH, 'r',encoding='utf8') as ex:\n",
    "    lines = ex.readlines()\n",
    "    for i in range(len(lines)):\n",
    "        lines[i] = lines[i].replace('\\n','')\n",
    "print(len(lines))\n",
    "print(str(PATH))"
   ]
  },
  {
   "cell_type": "markdown",
   "id": "eaba547f",
   "metadata": {},
   "source": [
    "## Pipeline"
   ]
  },
  {
   "cell_type": "code",
   "execution_count": 19,
   "id": "4c5b00a0",
   "metadata": {},
   "outputs": [],
   "source": [
    "from transformers import pipeline\n",
    "from transformers import AutoTokenizer, AutoModelForTokenClassification, TokenClassificationPipeline\n",
    "\n",
    "LIMIT = 100\n",
    "\n",
    "#Level-1 layer\n",
    "tokenizer_l1 = AutoTokenizer.from_pretrained(MODEL_PATH_L1)\n",
    "model_l1 = AutoModelForTokenClassification.from_pretrained(MODEL_PATH_L1)\n",
    "nlp_l1 = TokenClassificationPipeline(model=model_l1, tokenizer=tokenizer_l1, aggregation_strategy=None, ignore_labels=[''])\n",
    "\n",
    "#Level-2 layer\n",
    "tokenizer_l2 = AutoTokenizer.from_pretrained(MODEL_PATH_L2)\n",
    "model_l2 = AutoModelForTokenClassification.from_pretrained(MODEL_PATH_L2)\n",
    "nlp_l2 = TokenClassificationPipeline(model=model_l2, tokenizer=tokenizer_l2, aggregation_strategy=None, ignore_labels=[''])"
   ]
  },
  {
   "cell_type": "code",
   "execution_count": 20,
   "id": "e356ec10",
   "metadata": {},
   "outputs": [
    {
     "name": "stdout",
     "output_type": "stream",
     "text": [
      "<PER>Aubertin</PER>, <ACT>professeur au lycée Louis-le-Grand</ACT>,<SPAT><LOC> ",
      "Saints-Pères</LOC>, <CARDINAL>7</CARDINAL></SPAT>.\n",
      "\n",
      "<PER>baints-Peres, . ",
      "Aubertin,</PER> <ACT>représentant du peuple (Marne</ACT>),<SPAT><LOC> ",
      "Richelieu</LOC>, <CARDINAL>63</CARDINAL></SPAT><PER>.</PER>\n",
      "\n",
      "<PER>Aubertin</PER>, <ACT>teinturier - dégraisseur</ACT>, <SPAT><LOC>passage ",
      "Brady</LOC>, <CARDINAL>30</CARDINAL>, <CARDINAL>32</CARDINAL> et <CARDINAL>34</CARDINAL></SPAT>, et <SPAT><LOC>Cadet</LOC>, <CARDINAL>6</CARDINAL></SPAT>.\n",
      "\n",
      "<PER>Aubertin</PER>, <ACT>teinturier-dégraisseur</ACT>, <SPAT><LOC>Faub.-St- ",
      "Honoré</LOC>, <CARDINAL>99</CARDINAL></SPAT>.\n",
      "\n",
      "<PER>Auberville (Ctesse douairière d</PER>&amp;<PER>apos;),</PER> <SPAT><LOC>Grenelle-St- ",
      "Germ.</LOC>, <CARDINAL>69</CARDINAL></SPAT>.\n",
      "\n",
      "<PER>Auberville (Ctesse d</PER>&amp;<PER>apos;)</PER> , <SPAT>Grenelle-Saint-Ger- ",
      "main, <CARDINAL>100</CARDINAL></SPAT>.\n",
      "\n",
      "<PER>Aubery-Fromental</PER>, <ACT>bijout. en or</ACT>, <SPAT>Temple, <CARDINAL>89</CARDINAL></SPAT>.\n",
      "\n",
      "<PER>Aubery-Galban</PER>, <ACT>imp.-lithog</ACT><SPAT>. <LOC>pass. du Caire</LOC>,<CARDINAL> ",
      "129</CARDINAL></SPAT>.\n",
      "\n",
      "<PER>Aubespin (Cte Léonel de l),</PER> <SPAT><LOC>Union</LOC>, <CARDINAL>24</CARDINAL></SPAT>.\n",
      "\n",
      "<PER>Aubeux</PER>, <ACT>fab d</ACT>&amp;<ACT>apos;étoffes pour gilets</ACT>, <SPAT><LOC>Orillon</LOC>, <CARDINAL>20</CARDINAL></SPAT>, ",
      "et <SPAT><LOC>impasse de l</LOC></SPAT>&amp;<SPAT><LOC>apos;Orillon</LOC>, <CARDINAL>6</CARDINAL></SPAT>.\n",
      "\n",
      "<PER>Aubier</PER>, <ACT>épicier</ACT>, <SPAT><LOC>place Saint-Sulpice</LOC>, <CARDINAL>6</CARDINAL></SPAT>, et <SPAT><LOC>Ca- ",
      "nettes</LOC>, <CARDINAL>25</CARDINAL></SPAT>.\n",
      "\n",
      "<PER>Aubigny d&amp;apos;Assy (Ctesse d),</PER> <SPAT><LOC>Babylone</LOC>, <CARDINAL>24</CARDINAL></SPAT>.\n",
      "\n",
      "<PER>Aubin</PER>, <ACT>artificier</ACT>, <SPAT>Lafayette, <CARDINAL>113</CARDINAL>, <LOC>en face la rue ",
      "Château-Landon</LOC></SPAT>.\n",
      "\n",
      "<PER>Aubin</PER>, <DESC>avoc. à la cour de cassation</DESC>, <SPAT><LOC>Joubert</LOC>, <CARDINAL>6</CARDINAL></SPAT>.\n",
      "\n",
      "<PER>Aubin</PER>, <ACT>boulanger</ACT>, <SPAT><LOC>Petits-Augustins</LOC>, <CARDINAL>20</CARDINAL></SPAT>.\n",
      "\n",
      "<PER>Aubin (Ch.),</PER> <ACT>commissionn</ACT>., <SPAT><LOC>Faubourg-Pois- ",
      "sonnière</LOC>, <CARDINAL>8</CARDINAL></SPAT>.\n",
      "\n",
      "<PER>Aubin</PER>, <ACT>cuirs en poils</ACT>, <SPAT><LOC>Française</LOC>, <CARDINAL>4</CARDINAL></SPAT>.\n",
      "\n",
      "<PER>Aubin et Cie</PER> <ACT>éperonn</ACT>., <SPAT><LOC>St-Nicolas-d&amp;apos;Antin</LOC>, <CARDINAL>74</CARDINAL></SPAT>\n",
      "\n",
      "<PER>Aubin (E.),</PER> <ACT>éventailliste</ACT>, <SPAT><LOC>Saint-Denis.</LOC> <CARDINAL>358</CARDINAL><LOC>, ",
      "passage du Ponceau, escalier A</LOC>.</SPAT>\n",
      "\n",
      "<PER>Aubin</PER>, <ACT>imprimeur en taille-douce</ACT>, <SPAT><LOC>Caire</LOC>, <CARDINAL>1.</CARDINAL></SPAT>\n",
      "\n",
      "<PER>Aubin (G.</PER>), <ACT>mandataire de la caisse d</ACT>&amp;<ACT>apos;union ",
      "commerciale</ACT>, <SPAT><LOC>Meslay</LOC>, <CARDINAL>43</CARDINAL></SPAT>.\n",
      "\n",
      "<PER>Aubin</PER>, <ACT>fab. d</ACT>&amp;<ACT>apos;outils</ACT>, <SPAT><LOC>Popincourt</LOC>, <CARDINAL>5</CARDINAL></SPAT>.\n",
      "\n",
      "<PER>Aubin</PER>, <ACT>pharm. et droguiste</ACT>, <SPAT><LOC>Bourtibourg</LOC>, <CARDINAL>12</CARDINAL></SPAT>.\n",
      "\n",
      "<PER>Aubin fils</PER>, <ACT>fab. de poires à poudre</ACT>, <SPAT><LOC>Breteuil</LOC>,<CARDINAL> ",
      "6</CARDINAL></SPAT>.\n",
      "\n",
      "<PER>Aubin</PER>, <ACT>propriet.</ACT>, <SPAT><LOC>Neuve-St-Méry</LOC>, <CARDINAL>28</CARDINAL></SPAT>.\n",
      "\n",
      "<PER>Aubin aîné</PER>, <ACT>vins, traiteur</ACT>, <SPAT><LOC>Université</LOC>, <CARDINAL>124</CARDINAL></SPAT>.\n",
      "\n",
      "<PER>Aubin</PER>, <ACT>vins</ACT>, <SPAT><LOC>Ste-Opportune</LOC>, <CARDINAL>5</CARDINAL></SPAT>.\n",
      "\n",
      "<PER>Aubin-Thoumasson</PER>, <ACT>tailleur</ACT>, <SPAT><LOC>Bouloi</LOC>,<CARDINAL> ",
      "I</CARDINAL></SPAT>.\n",
      "\n",
      "<PER>Aubine</PER>, <ACT>boulanger</ACT>, <SPAT><LOC>Ecole-de-Médecine</LOC>, <CARDINAL>34</CARDINAL></SPAT>.\n",
      "\n",
      "<PER>Aubine</PER>, <ACT>lingerie, nouveautés</ACT>, <SPAT>Bourbon-Ville- ",
      "neuve, <CARDINAL>43</CARDINAL></SPAT>.\n",
      "\n",
      "<PER>Aubine</PER>, <ACT>liquoriste</ACT>, <SPAT><LOC>St-Jacques</LOC>, <CARDINAL>41</CARDINAL></SPAT>.\n",
      "\n",
      "<PER>Aubine</PER> vins, <SPAT><LOC>Deux-Ecus</LOC>,<CARDINAL> ",
      "19</CARDINAL></SPAT>.\n",
      "\n",
      "<PER>Aubine (X.),</PER><ACT>vins et eaux-de-vie en gros</ACT>,<SPAT><LOC> ",
      "Chanoinesse</LOC>, <CARDINAL>24</CARDINAL></SPAT>.\n",
      "\n",
      "<PER>Aubine</PER>, <ACT>vins</ACT>, <SPAT><LOC>Verderet</LOC>, <CARDINAL>13</CARDINAL></SPAT>.\n",
      "\n",
      "<PER>Aubineau</PER>, <ACT>horloger</ACT>, <SPAT><LOC>Tracy</LOC>. <CARDINAL>7</CARDINAL></SPAT>.\n",
      "\n",
      "<PER>Aubineau</PER>, <ACT>fab de lampes-phares</ACT>, <SPAT><LOC>Meslay</LOC>, <CARDINAL>65</CARDINAL></SPAT>\n",
      "\n",
      "<PER>Aubineau (A.),</PER> <ACT>négociant et fabricant de sucre</ACT>,<SPAT><LOC> ",
      "Corderie-du-Temple</LOC>, <CARDINAL>11</CARDINAL></SPAT>.\n",
      "\n",
      "<PER>Aubinet (Mme),</PER> <ACT>mercière</ACT>, <SPAT><LOC>Val Ste-Catherine</LOC>,<CARDINAL> ",
      "19</CARDINAL></SPAT>.\n",
      "\n",
      "<PER>Aublay</PER>, <ACT>employé à la bibliothèque Ste-Gene- ",
      "viève</ACT><SPAT>, à la bibliothèque, <LOC>place du Carré-Sainte- ",
      "Geneviève</LOC>, <CARDINAL>1.</CARDINAL></SPAT>\n",
      "\n",
      "<PER>Aublet</PER>, <ACT>menuisier-ébeniste</ACT>, <SPAT><LOC>Lourcine</LOC>, <CARDINAL>102</CARDINAL></SPAT>.\n",
      "\n",
      "<PER>Aublet</PER>, <ACT>serrurier</ACT>, <SPAT><LOC>Madeleine</LOC>, <CARDINAL>8</CARDINAL></SPAT>.\n",
      "\n",
      "<PER>Aublin</PER>, <ACT>rentier</ACT>, <SPAT><LOC>impasse d</LOC></SPAT>&amp;<SPAT><LOC>apos; Argenteuil</LOC>,<CARDINAL> ",
      "7</CARDINAL></SPAT>.\n",
      "\n",
      "<PER>Aublin</PER>, <ACT>médecin</ACT>, <SPAT><LOC>Bertin-Poirée</LOC>, <CARDINAL>10</CARDINAL></SPAT>.\n",
      "\n",
      "<PER>Aublin, Cafe-Concert</PER>, <SPAT><LOC>Mazarine</LOC>, <CARDINAL>48</CARDINAL></SPAT>.\n",
      "\n",
      "<PER>Aubon</PER>, <ACT>anc. avoué</ACT>, <SPAT><LOC>Faubourg-St-Martin</LOC>, <CARDINAL>13</CARDINAL></SPAT>.\n",
      "\n",
      "<PER>Aubouer aîné</PER>, <ACT>ébeniste</ACT>, <SPAT><LOC>Lesdiguières</LOC>, <CARDINAL>17</CARDINAL></SPAT>.\n",
      "\n",
      "<PER>Aubouer jeune</PER>, <ACT>ébéniste</ACT>, <SPAT><LOC>Charenton</LOC>, <CARDINAL>35</CARDINAL></SPAT>.\n",
      "\n",
      "<PER>Aubouin</PER>, <ACT>serrurier</ACT>, <SPAT><LOC>St-Avoye</LOC>, <CARDINAL>38</CARDINAL></SPAT>.\n",
      "\n",
      "<PER>Aubourg</PER>, <ACT>agent d</ACT>&amp;apos;<ACT>affaires</ACT>, <SPAT><LOC>Guénégaud</LOC>, <CARDINAL>18</CARDINAL></SPAT>.\n",
      "\n",
      "<PER>Aubourg</PER>, <ACT>boulanger</ACT>, <SPAT><LOC>Fosses-Saint-Germain- ",
      "l</LOC></SPAT>&amp;<SPAT><LOC>apos;Auxerrois</LOC>, <CARDINAL>10</CARDINAL></SPAT>.\n",
      "\n",
      "<PER>Aubourg</PER>, <ACT>limonadier</ACT>, <SPAT><LOC>St-Antoine</LOC>, <CARDINAL>104</CARDINAL></SPAT>.\n",
      "\n",
      "<PER>Aubout (F.),</PER> <ACT>mécanicien</ACT>, <SPAT><LOC>Croix-du-Temple</LOC>, <CARDINAL>17</CARDINAL></SPAT>.\n",
      "\n",
      "<PER>Aubrée, 1er</PER> <ACT>commis aux contributions direc- ",
      "tes</ACT>, <SPAT><LOC>Poultier</LOC>, <CARDINAL>9</CARDINAL></SPAT>.\n",
      "\n",
      "<PER>Aubrée</PER>, <ACT>horloger</ACT>, <SPAT><LOC>St-Honoré</LOC>, 13</SPAT>4.\n",
      "\n",
      "<PER>Aubrée aîné</PER>, <ACT>couvert. pour chevaux</ACT>, <SPAT><LOC>Grande- ",
      "Truanderie</LOC>, <CARDINAL>50</CARDINAL></SPAT>.\n",
      "\n",
      "<PER>Aubrée</PER>, <ACT>tourneur en cuivre</ACT>, <SPAT><LOC>Ponceau</LOC>, <CARDINAL>22</CARDINAL></SPAT>.\n",
      "\n",
      "<PER>Aubrée (Mme ",
      "vins</PER>, <SPAT><LOC>boul. du Temple</LOC>, <CARDINAL>76</CARDINAL></SPAT><PER>.</PER>\n",
      "\n",
      "<PER>Aubrée-Thibault et Périer</PER>, <ACT>lingerie</ACT>, <SPAT><LOC>Rambu- ",
      "teau</LOC>, <CARDINAL>26</CARDINAL></SPAT>.\n",
      "\n",
      "<PER>Aubril (Guitry, successeur),</PER> <ACT>rasoirs de long ",
      "cours</ACT>, <SPAT><LOC>Palais-National</LOC>, <CARDINAL>138</CARDINAL> et <CARDINAL>139</CARDINAL></SPAT>.\n",
      "\n",
      "<PER>Aubriot</PER>, <ACT>pâtissier traiteur</ACT>, <SPAT><LOC>Saint-Honoré</LOC>, <CARDINAL>390</CARDINAL></SPAT>.\n",
      "\n",
      "<PER>Aubriot</PER>, <ACT>vins</ACT>, <SPAT><LOC>Babylone</LOC>, <CARDINAL>62</CARDINAL></SPAT>.\n",
      "\n",
      "<PER>Aubron</PER>, <ACT>doreur sur cuir</ACT>, <SPAT><LOC>Temple</LOC>, <CARDINAL>49</CARDINAL></SPAT>.\n",
      "\n",
      "<PER>Aubrun</PER>, <ACT>ébéniste</ACT>, <SPAT><LOC>Jacob</LOC>,<CARDINAL> ",
      "6</CARDINAL></SPAT>.\n",
      "\n",
      "<PER>Aubrun fils</PER>, <ACT>entrepreneur de charpente</ACT>, <SPAT><LOC>Jean&amp;quot; ",
      "Goujon</LOC>, <CARDINAL>52</CARDINAL></SPAT>.\n",
      "\n",
      "<PER>Aubrun</PER>, <ACT>entrepren. de maçonn</ACT>., <SPAT><LOC>Laborde</LOC>, <CARDINAL>39</CARDINAL></SPAT>.\n",
      "\n",
      "<PER>Aubrun</PER>, <ACT>maître maçon</ACT>, <SPAT><LOC>Saint-Michel—du- ",
      "Roule</LOC>, <CARDINAL>8</CARDINAL></SPAT>.\n",
      "\n",
      "<PER>Aubrun</PER>, <ACT>médecin</ACT>, <SPAT><LOC>Petit-Musc</LOC>, <CARDINAL>33</CARDINAL></SPAT>.\n",
      "\n",
      "<PER>Aubruu</PER>, <ACT>menuisier-ébéniste</ACT>, <SPAT><LOC>Savoie</LOC>, <CARDINAL>9</CARDINAL></SPAT>.\n",
      "\n"
     ]
    },
    {
     "name": "stdout",
     "output_type": "stream",
     "text": [
      "<PER>Aubry (Félix), de la mais. Aubry et Ferté</PER>,<SPAT><LOC> ",
      "Nve-St-Eustache</LOC>, <CARDINAL>26</CARDINAL></SPAT><PER>.</PER>\n",
      "\n",
      "<PER>Aubry</PER>, <ACT>ancien sous-chef à la Légion d</ACT>&amp;<ACT>apos;hon- ",
      "neur</ACT>, <SPAT><LOC>Sentier</LOC>, <CARDINAL>28</CARDINAL></SPAT>.\n",
      "\n",
      "<PER>Aubry</PER>, <ACT>contrôleur des contributions directes</ACT>,<SPAT><LOC> ",
      "Racine</LOC>, <CARDINAL>5</CARDINAL></SPAT>.\n",
      "\n",
      "<PER>Aubry</PER>, <ACT>déménag.</ACT>, <SPAT><LOC>Cadet</LOC>, <CARDINAL>11</CARDINAL></SPAT>.\n",
      "\n",
      "<PER>Aubry (Mme</PER>), <ACT>bijoux dorés</ACT>, <SPAT>Palais-Natio- ",
      "nal, <CARDINAL>137</CARDINAL></SPAT>.\n",
      "\n",
      "<PER>Aubry et Jacques</PER>, <ACT>bijoutiers en or</ACT>, <SPAT>Michel- ",
      "le-Comte, <CARDINAL>27</CARDINAL></SPAT>.\n",
      "\n",
      "<PER>Aubry</PER>, <ACT>bougies</ACT>, <SPAT><LOC>Aubry-le-Boucher</LOC>, <CARDINAL>37</CARDINAL></SPAT>.\n",
      "\n",
      "<PER>Aubry</PER>, <ACT>chaudronnier</ACT>, <SPAT><LOC>Ecole-de-Medecine</LOC>, <CARDINAL>68</CARDINAL></SPAT>, ",
      "et <SPAT><LOC>Grégoire-de-Tours</LOC>, <CARDINAL>18</CARDINAL></SPAT>.\n",
      "\n",
      "<PER>Aubry</PER>, <ACT>chaudronnier</ACT>, <SPAT><LOC>Grenelle-St-Germ.</LOC>, <CARDINAL>74</CARDINAL></SPAT>.\n",
      "\n",
      "<PER>Aubry</PER>, <ACT>fab. de chaussons et de socques</ACT>, <SPAT><LOC>Gra- ",
      "villiers</LOC>, <CARDINAL>3</CARDINAL></SPAT>.\n",
      "\n",
      "<PER>Aubry (Rousseau, successeur),</PER> <ACT>comestibles</ACT>,<SPAT><LOC> ",
      "boul. Poissonnière</LOC>, <CARDINAL>I</CARDINAL></SPAT>.\n",
      "\n",
      "<PER>Aubry</PER>, <ACT>corroyeur</ACT>, <SPAT><LOC>Laborde</LOC>, <CARDINAL>32</CARDINAL></SPAT>.\n",
      "\n",
      "<PER>Aubry</PER>, <ACT>coutelier</ACT>, <SPAT><LOC>Vieille-du-Temple</LOC>, 13</SPAT>1.\n",
      "\n",
      "<PER>Aubry ainé</PER>, <ACT>courtier-gourmet</ACT>, <SPAT><LOC>St-Antoine</LOC>, <CARDINAL>100</CARDINAL></SPAT>.\n",
      "\n",
      "<PER>Aubry frères</PER>, <ACT>négociants en dentelles</ACT>, <SPAT><LOC>Jeû- ",
      "neurs</LOC>, <CARDINAL>33</CARDINAL></SPAT>.\n",
      "\n",
      "<PER>Aubry et Ferté</PER>, <ACT>fab. de dentelles</ACT>, <SPAT><LOC>Neuve-St.- ",
      "Eustache</LOC>, <CARDINAL>26</CARDINAL></SPAT>.\n",
      "\n",
      "<PER>Aubry (Ed.</PER>), <ACT>denrées coloniales, fécules et si- ",
      "rops</ACT>, <SPAT><LOC>St-Méry</LOC>, <CARDINAL>41</CARDINAL></SPAT>.*)\n",
      "\n",
      "<PER>Aubry</PER>, <ACT>epicerie et chocolats</ACT>, <SPAT><LOC>Ponthieu</LOC>, <CARDINAL>4</CARDINAL> et <CARDINAL>6</CARDINAL></SPAT>, ",
      "et <SPAT><LOC>Montaigne</LOC>, <CARDINAL>10</CARDINAL></SPAT>.\n",
      "\n",
      "<PER>Aubry</PER>, <ACT>ferbl.-lampiste</ACT>, <SPAT><LOC>Hôtel-Colbert</LOC>, <CARDINAL>11</CARDINAL></SPAT>.\n",
      "\n",
      "<PER>Aubry</PER>, <ACT>fabricant de fleurs</ACT>, <SPAT><LOC>Ste-Appoline</LOC>,<CARDINAL> ",
      "33</CARDINAL></SPAT>\n",
      "\n",
      "<PER>Aubry</PER>, <ACT>fleuriste</ACT>, <SPAT><LOC>Beaurepaire</LOC>, <CARDINAL>10-12</CARDINAL></SPAT>.\n",
      "\n",
      "<PER>Aubry (Mme</PER>), <ACT>garnitures de bourses</ACT>, <SPAT>Berry ",
      "(Marais), <CARDINAL>13</CARDINAL></SPAT>.\n",
      "\n",
      "<PER>Aubry</PER>, <ACT>instituteur</ACT>, <SPAT><LOC>Faubourg-Poissonmère</LOC>, <CARDINAL>90</CARDINAL></SPAT>.\n",
      "\n",
      "<PER>Aubry</PER>, <ACT>libraire d</ACT>&amp;apos<ACT>;occasion</ACT>, <SPAT><LOC>Anjou-Dauphine</LOC>,<CARDINAL> ",
      "3</CARDINAL> et <CARDINAL>9</CARDINAL></SPAT>.\n",
      "\n",
      "<PER>Aubry</PER>, <ACT>limonadier</ACT>, <SPAT><LOC>boul. Poissonnière</LOC>, <CARDINAL>32</CARDINAL></SPAT>.\n",
      "\n",
      "<PER>Aubry</PER>, <ACT>lingerie</ACT>, <SPAT><LOC>Bourbon-Villeneuve</LOC>, <CARDINAL>52</CARDINAL></SPAT>.\n",
      "\n",
      "<PER>Aubry</PER>, <ACT>maison meublée</ACT>, <SPAT><LOC>pass. Tivoli</LOC>, <CARDINAL>24</CARDINAL></SPAT>.\n",
      "\n",
      "<PER>Aubry</PER>, <ACT>menuisier</ACT>, <SPAT><LOC>N.-D.-Nazareth</LOC>, <CARDINAL>6 bis</CARDINAL></SPAT>.\n",
      "\n",
      "<PER>Aubry</PER>, <ACT>neg.-commiss.</ACT> , <SPAT>Echiquier, <CARDINAL>40</CARDINAL></SPAT>.\n",
      "\n",
      "<PER>Aubry</PER>, <ACT>notaire</ACT>, <SPAT><LOC>boul. des Italiens</LOC>, <CARDINAL>27</CARDINAL></SPAT>.\n",
      "\n",
      "<PER>Aubry (Mme ",
      "papier</PER> <ACT>timbré</ACT>, <SPAT><LOC>Furstemberg</LOC>, <CARDINAL>3</CARDINAL></SPAT>.\n",
      "\n",
      "<PER>Aubry</PER>, <ACT>peintre-vitrier</ACT>, <SPAT><LOC>Savonnerie</LOC>, <CARDINAL>13</CARDINAL></SPAT>.\n",
      "\n",
      "<PER>Aubry</PER>, <ACT>pensionnat</ACT>, <SPAT><LOC>St-Denis</LOC>. <CARDINAL>307</CARDINAL></SPAT>\n",
      "\n",
      "<PER>Aubry père</PER>, <ACT>propriét</ACT>., <SPAT><LOC>Neuve-St-Eustache</LOC>, <CARDINAL>26</CARDINAL></SPAT>.\n",
      "\n",
      "<PER>Aubry</PER>, <ACT>repres. du peuple</ACT> (<SPAT><LOC>Nord ",
      "Racine</LOC>, <CARDINAL>5</CARDINAL></SPAT>.\n",
      "\n",
      "<PER>Aubry</PER>, <ACT>serrurier</ACT>, <SPAT><LOC>Messageries</LOC>, <CARDINAL>7</CARDINAL></SPAT>.\n",
      "\n",
      "<PER>Aubry</PER>, <ACT>serrurier</ACT>, <SPAT><LOC>Beaurepaire</LOC>, <CARDINAL>31</CARDINAL></SPAT>.\n",
      "\n",
      "<PER>Aubry</PER>, <ACT>serrurier</ACT>, <SPAT><LOC>N.-D.-de-Nazareth</LOC>, <CARDINAL>1.</CARDINAL></SPAT>\n",
      "\n",
      "<PER>Aubry</PER>, <ACT>serrurier pour roulettes</ACT>, <SPAT><LOC>Charonne</LOC>. <CARDINAL>33</CARDINAL></SPAT>,\n",
      "\n",
      "<PER>Aubry</PER>, <ACT>tailleur</ACT>, <SPAT><LOC>Bourbn-Villeneuve</LOC>, <CARDINAL>41</CARDINAL></SPAT>.\n",
      "\n",
      "<PER>Aubry</PER>, <ACT>tourneur en cuivre</ACT>, <SPAT><LOC>Fossés-Saint- ",
      "Jacques</LOC>. <CARDINAL>12</CARDINAL></SPAT>.\n",
      "\n",
      "<PER>Aubry</PER>, <ACT>tourneur en cuivre et en optique</ACT>,<SPAT><LOC> ",
      "Gravilliers</LOC>, <CARDINAL>3</CARDINAL></SPAT>.\n",
      "\n",
      "<PER>Aubry</PER>, <ACT>vins</ACT>, <SPAT><LOC>aux Ours</LOC>, <CARDINAL>37</CARDINAL></SPAT>.\n",
      "\n",
      "<PER>Aubry</PER>, <ACT>vins fins et liqueurs</ACT>, <SPAT><LOC>Richelieu</LOC>, <CARDINAL>94</CARDINAL></SPAT>, et<SPAT><LOC> ",
      "St-Marc</LOC>. <CARDINAL>27</CARDINAL></SPAT>.\n",
      "\n",
      "<PER>Aubry (A</PER>), <ACT>vins</ACT>, <SPAT><LOC>quai Valmy</LOC>, <CARDINAL>257</CARDINAL></SPAT> et <SPAT><LOC>Canal- ",
      "Saint-Martin</LOC>, <CARDINAL>1.</CARDINAL></SPAT>\n",
      "\n",
      "<PER>Aubry</PER>, <ACT>vins</ACT>, <SPAT><LOC>Marche-St-Jean</LOC>, <CARDINAL>21</CARDINAL></SPAT>.\n",
      "\n",
      "<PER>Aubry</PER>, <ACT>vins</ACT>, <SPAT><LOC>Corbeau</LOC>, <CARDINAL>42</CARDINAL></SPAT>, et <SPAT><LOC>St-Maur</LOC>, <CARDINAL>169</CARDINAL></SPAT>.\n",
      "\n",
      "<PER>Aubry-Lapied</PER>, <ACT>tourneur</ACT>, <SPAT><LOC>Gravilliers</LOC>, <CARDINAL>28</CARDINAL><LOC>, ",
      "cour de Rome</LOC></SPAT>.\n",
      "\n",
      "<PER>Aubry-Lecomte *</PER>, <ACT>art.-peint. lithogr.</ACT>, <SPAT><LOC>Bac</LOC><CARDINAL>,42</CARDINAL></SPAT>.\n",
      "\n",
      "<PER>Aubry — Foucault</PER>, <ACT>gérant de la Gazette de ",
      "France</ACT>, <SPAT><LOC>Doyenné</LOC>, <CARDINAL>12</CARDINAL></SPAT>.\n",
      "\n",
      "<PER>Aubry-Maurice</PER>, <ACT>représentant du peuple ",
      "(Vosges</ACT>), <SPAT><LOC>Concorde</LOC>, <CARDINAL>14</CARDINAL></SPAT>.\n",
      "\n",
      "<PER>Auburtin</PER>, <ACT>menuisier</ACT>, <SPAT><LOC>Trois-Bornes</LOC>, <CARDINAL>39</CARDINAL></SPAT>.\n",
      "\n",
      "<PER>Auburtin père</PER>, <ACT>fab. de cuirs vernis</ACT>, <SPAT><LOC>barrière ",
      "des Deux-Moulins, rue des Rentiers</LOC>, <CARDINAL>35</CARDINAL></SPAT>.\n",
      "\n",
      "<PER>Aubusson (Ctesse d</PER>&amp;<PER>apos; ",
      "),</PER> <SPAT><LOC>Varennes-St-Germ.</LOC>, <CARDINAL>41</CARDINAL></SPAT>.\n",
      "\n",
      "<PER>Auchard</PER>, <ACT>limonadier</ACT>, <SPAT><LOC>Four-St-Honore</LOC>, <CARDINAL>1</CARDINAL></SPAT>, et<SPAT><LOC> ",
      "St-Honoré</LOC>, <CARDINAL>76</CARDINAL></SPAT>.\n",
      "\n",
      "<PER>Auchart</PER>, <ACT>tonnelier</ACT>, <SPAT><LOC>Boucher</LOC>, <CARDINAL>12</CARDINAL></SPAT>.\n",
      "\n",
      "<PER>Aucher</PER>, <ACT>tailleur</ACT>, <SPAT><LOC>St-Roch</LOC>, <CARDINAL>37</CARDINAL></SPAT>.\n",
      "\n",
      "<PER>Aucher</PER>, <ACT>fab. de pianos</ACT>, <SPAT><LOC>Bondy</LOC>, <CARDINAL>44</CARDINAL></SPAT>.\n",
      "\n",
      "<PER>Auclair</PER>, <ACT>fab. de briques</ACT>, <SPAT><LOC>chemin de ronde de la ",
      "barriere des Trois-Couronnes</LOC>, <CARDINAL>0.</CARDINAL></SPAT>\n",
      "\n",
      "<PER>Auclair</PER>, <ACT>pharmacien</ACT>, <SPAT><LOC>Saint-Nicolas d</LOC></SPAT>&amp;<SPAT><LOC>apos;Antin</LOC>,<CARDINAL> ",
      "54</CARDINAL></SPAT>, et <SPAT><LOC>Havre</LOC>, <CARDINAL>1.</CARDINAL></SPAT>\n",
      "\n",
      "<PER>Auclaire</PER>, <ACT>vente de fonds de boulangerie</ACT>,<SPAT><LOC> ",
      "Viarmes</LOC>, <CARDINAL>29</CARDINAL></SPAT>.\n",
      "\n",
      "<PER>Aucler, de la maison Surmont et Aucler</PER>, <SPAT><LOC>Sen- ",
      "tier</LOC>, <CARDINAL>31</CARDINAL></SPAT><PER>.</PER>\n",
      "\n",
      "<PER>Aucler (A.</PER>), <ACT>mercerie et quincaill., dépôt ",
      "d</ACT>&amp;<ACT>apos;aiguilles</ACT>, <SPAT><LOC>Bourg-l&amp;apos;Abbé</LOC>, <CARDINAL>19 ancien 21</CARDINAL></SPAT>.\n",
      "\n",
      "<PER>Aucler (Ve) et Ledoux</PER>, <ACT>confiseurs</ACT>, <SPAT><LOC>Lombards</LOC>,<CARDINAL> ",
      "46</CARDINAL> et <CARDINAL>48</CARDINAL></SPAT>.\n",
      "\n",
      "<PER>Aucler</PER>, <ACT>épicier</ACT>, <SPAT><LOC>Faub.-Poissonnière</LOC>, <CARDINAL>42</CARDINAL></SPAT>.\n",
      "\n",
      "<PER>Auclerc</PER>, <ACT>sous-chef de bureau à la prefecture ",
      "de police</ACT>.\n",
      "\n",
      "<PER>Aucoc ",
      "A. ",
      "bonnetier</PER>, <SPAT><LOC>Paix</LOC>, <CARDINAL>6</CARDINAL></SPAT>.\n",
      "\n",
      "<PER>Aucoc aîné</PER>, <ACT>fab. de nécess. et d</ACT>&amp;<ACT>apos;orfévrerie</ACT>,<SPAT><LOC> ",
      "Paix</LOC>, <CARDINAL>6</CARDINAL></SPAT>.\n",
      "\n"
     ]
    },
    {
     "name": "stdout",
     "output_type": "stream",
     "text": [
      "<PER>Aucoc (Hyacinthe</PER>), <SPAT><LOC>Basse-du-Rempart</LOC>, <CARDINAL>14</CARDINAL></SPAT>.\n",
      "\n",
      "<PER>Auconor</PER>, <ACT>rentier</ACT>, <SPAT><LOC>Notre-Dame-de-Grâce</LOC>, <CARDINAL>5</CARDINAL></SPAT>.\n",
      "\n",
      "<PER>Audan et Ce</PER>, <ACT>achats et ventes à commission</ACT>,<SPAT><LOC> ",
      "Vieux Augustins</LOC>, <CARDINAL>27</CARDINAL></SPAT>.\n",
      "\n",
      "<PER>Aude</PER>, <ACT>bottier</ACT>, <SPAT><LOC>Montholon</LOC>, <CARDINAL>27</CARDINAL></SPAT>.\n",
      "\n",
      "<PER>Aude (Clément</PER>), <ACT>fab. de broches à tisser</ACT>,<SPAT><LOC> ",
      "Amandiers-Popincourt</LOC>, <CARDINAL>19</CARDINAL></SPAT>.\n",
      "\n",
      "<PER>Aude (Mlle ",
      "couturière</PER>, <SPAT><LOC>Lille</LOC>, <CARDINAL>15</CARDINAL></SPAT>.\n",
      "\n",
      "<PER>Audé</PER>, <ACT>propriet.</ACT>, <SPAT><LOC>Duphot</LOC>, <CARDINAL>15</CARDINAL></SPAT>.\n",
      "\n",
      "<PER>Aude</PER>, <ACT>rentier</ACT>, <SPAT><LOC>Neuverdes-Mathurins</LOC><CARDINAL> ",
      "3</CARDINAL></SPAT>\n",
      "\n",
      "<PER>Audebert</PER>, <ACT>architecte vérificateur</ACT>, <SPAT><LOC>boulevard ",
      "Bonne-Nouvelle</LOC>, <CARDINAL>9</CARDINAL></SPAT>.\n",
      "\n",
      "<PER>Audeber (le pasteur</PER>), <SPAT><LOC>aux Batignolles, de l</LOC></SPAT>&amp;<SPAT><LOC>apos;É- ",
      "cluse</LOC>, <CARDINAL>6</CARDINAL></SPAT>.\n",
      "\n",
      "<PER>Audebrent</PER>, <ACT>epicier</ACT>, <SPAT><LOC>Monthabor</LOC>, <CARDINAL>32</CARDINAL></SPAT>.\n",
      "\n",
      "<PER>Audefroy</PER>, <ACT>dépôt de sangles</ACT>, <SPAT><LOC>Meslay</LOC>, <CARDINAL>53</CARDINAL></SPAT>.\n",
      "\n",
      "<PER>Audemars (Louis</PER>), <ACT>fab. d&amp;apos;horlogerie, repré- ",
      "senté par Hector Audemars</ACT>, <SPAT><LOC>St-Fiacre</LOC>, <CARDINAL>3</CARDINAL></SPAT><ACT>.</ACT>\n",
      "\n",
      "<PER>Audenet fils */</PER>, <ACT>banquier</ACT>, <SPAT><LOC>Faubourg-Poisson- ",
      "nière</LOC>, <CARDINAL>25</CARDINAL></SPAT>.\n",
      "\n",
      "<PER>Audenier (Mme</PER>), <ACT>fab. de corsets</ACT>, <SPAT><LOC>Montmartre</LOC>,<CARDINAL> ",
      "165</CARDINAL></SPAT>.\n",
      "\n",
      "<PER>Audevard</PER>, <ACT>opticien</ACT>, <SPAT><LOC>quai de l</LOC></SPAT>&amp;<SPAT><LOC>apos;Horloge</LOC>, <CARDINAL>41</CARDINAL></SPAT>.\n",
      "\n",
      "<PER>Audeville (Vve</PER>), <ACT>direct. du théâtre Lazari</ACT>,<SPAT><LOC> ",
      "Charlot</LOC>, <CARDINAL>47</CARDINAL></SPAT>.\n",
      "\n",
      "<PER>Audiat ",
      "F. )</PER> <ACT>fab. de dentelles</ACT>, <SPAT><LOC>Mail</LOC>, <CARDINAL>22</CARDINAL></SPAT>.\n",
      "\n",
      "<PER>Audiat</PER>, <ACT>médecin, inspecteur général des pri- ",
      "sons</ACT>, <SPAT><LOC>Bleue</LOC>, <CARDINAL>34</CARDINAL></SPAT>.\n",
      "\n",
      "<PER>Audibert X</PER>, <SPAT><LOC>Monceaux-du-Roule</LOC>, <CARDINAL>15</CARDINAL></SPAT>.\n",
      "\n",
      "<PER>Audibert-Lebel (Mme</PER>), <ACT>fab. de fleurs</ACT>, <SPAT><LOC>Tracy</LOC>, <CARDINAL>7</CARDINAL></SPAT>.\n",
      "\n",
      "<PER>Audibert fils</PER>, <ACT>medecin</ACT>, <SPAT><LOC>Montholon</LOC>, <CARDINAL>3</CARDINAL></SPAT>.\n",
      "\n",
      "<PER>Audibran( ",
      "J. ",
      "dent.</PER>, <SPAT><LOC>Vingt-Quatre-Février</LOC>, <CARDINAL>2</CARDINAL></SPAT>.\n",
      "\n",
      "<PER>Audiffred</PER>, <DESC>juge suppl. au tribunal de com- ",
      "merce</DESC>, <SPAT><LOC>Bons-Enfants</LOC>, <CARDINAL>26</CARDINAL></SPAT><ACT>.</ACT>\n",
      "\n",
      "<PER>Audiffred</PER>, <ACT>entrepr. de demenagements</ACT>, <SPAT><LOC>Faub.- ",
      "St-Martin</LOC>, <CARDINAL>67</CARDINAL></SPAT>.\n",
      "\n",
      "<PER>Audiffret (Mis d</PER>&amp;<PER>apos;), C. &amp;amp;,</PER> <ACT>président à la cour ",
      "des comptes</ACT>, <SPAT><LOC>St-Honoré</LOC>, <CARDINAL>387</CARDINAL></SPAT>.\n",
      "\n",
      "<PER>Audiffret</PER>, <ACT>employé aux manuscrits de la Bi- ",
      "plioth. nation</ACT>, <SPAT><LOC>Miromesnil</LOC>, <CARDINAL>21</CARDINAL></SPAT>.\n",
      "\n",
      "<PER>Audiganne</PER>, <ACT>chef de bureau au minist. de l</ACT>&amp;<ACT>apos;a- ",
      "griculture et du commerce</ACT>.\n",
      "\n",
      "<PER>Audigé</PER>, <ACT>fab. de nécessaires</ACT>, <SPAT><LOC>Notre-Dame- ",
      "des-Victoires</LOC>, <CARDINAL>44</CARDINAL></SPAT>.\n",
      "\n",
      "<PER>Audiguier</PER>, <ACT>correcteur à l</ACT>&amp;<ACT>apos;Imprimerie nation.</ACT> ,<SPAT><LOC> ",
      "Filles-du Calvaire</LOC>, <CARDINAL>6</CARDINAL></SPAT>.\n",
      "\n",
      "<PER>Audin</PER>, <ACT>homme de ",
      "lettres</ACT>, <SPAT><LOC>Christine</LOC>, <CARDINAL>3</CARDINAL></SPAT>.\n",
      "\n",
      "<PER>Audin</PER>, <ACT>maréchal-expert</ACT>, <SPAT><LOC>Laborde</LOC>, <CARDINAL>43</CARDINAL></SPAT>.\n",
      "\n",
      "<PER>Audinet</PER>, <ACT>offic. de santé</ACT>, <SPAT><LOC>Deux-Ecus</LOC>, <CARDINAL>33</CARDINAL></SPAT>.\n",
      "\n",
      "<PER>Audinet et Cie</PER>, <ACT>vins en gros</ACT>, <SPAT><LOC>quai de la Tour- ",
      "nelle</LOC>, <CARDINAL>33</CARDINAL></SPAT>.\n",
      "\n",
      "<PER>Audiquet</PER>, <ACT>bijoutier en doré et metteur en œu- ",
      "vre</ACT>, <SPAT><LOC>Temple</LOC>, <CARDINAL>83</CARDINAL></SPAT>.*)\n",
      "\n",
      "<PER>Audoin</PER>, <ACT>tailleur</ACT>, <SPAT><LOC>Geoffroy-Marie</LOC>, <CARDINAL>12</CARDINAL></SPAT>.\n",
      "\n",
      "<PER>Audoire</PER>, <ACT>pâtissier</ACT>, <SPAT><LOC>St-Honore</LOC>, <CARDINAL>107</CARDINAL></SPAT>.\n",
      "\n",
      "<PER>Audois (Vve</PER>), <ACT>fabr. de franges pour châles</ACT>,<SPAT> ",
      "Montorgueil, <CARDINAL>71</CARDINAL></SPAT>.\n",
      "\n",
      "<PER>Audon ainé</PER>, <ACT>négociant</ACT>, <SPAT><LOC>Poissonnière</LOC>,<CARDINAL> ",
      "37</CARDINAL></SPAT>.\n",
      "\n",
      "<PER>Audot</PER>, <ACT>libraire</ACT>, <SPAT><LOC>Paon-St-André</LOC>, <CARDINAL>8</CARDINAL></SPAT>.\n",
      "\n",
      "<PER>Audot</PER>, <ACT>plaqué, nécessaires, orfévrerie</ACT>, <SPAT><LOC>Riche- ",
      "lieu</LOC>, <CARDINAL>81</CARDINAL></SPAT>.\n",
      "\n",
      "<PER>Audot (Mme</PER>), <ACT>sage-femme</ACT>, <SPAT><LOC>Faubourg-Saint- ",
      "Jacques</LOC>, <CARDINAL>6</CARDINAL></SPAT>.\n",
      "\n",
      "<PER>Audouard</PER>, <ACT>courtier de comm</ACT>., <SPAT>rue</SPAT>...\n",
      "\n",
      "<PER>Audouard fils</PER>, <ACT>graveur en bijoux</ACT>, <SPAT><LOC>Grenelle-St- ",
      "Honore</LOC>, <CARDINAL>19</CARDINAL></SPAT>.\n",
      "\n",
      "<PER>Audouard (P. et L.),</PER> <ACT>fab. de joaillerie, bijou- ",
      "terie</ACT>, <SPAT><LOC>Grenelle-St-Honoré</LOC>, <CARDINAL>19</CARDINAL></SPAT>.\n",
      "\n",
      "<PER>Audouard, O. X</PER>, <ACT>médecin</ACT>, <SPAT><LOC>Cadet</LOC>, <CARDINAL>6</CARDINAL></SPAT>.\n",
      "\n",
      "<PER>Audoucet (Mme</PER>), <ACT>lingerie et nouveautés</ACT>, <SPAT>Mont- ",
      "martre, <CARDINAL>104</CARDINAL></SPAT>.\n",
      "\n",
      "<PER>Audouin</PER>, <ACT>ancien avoué</ACT>, <SPAT><LOC>Bourbon-Villeneuve</LOC>,<CARDINAL>33</CARDINAL></SPAT>.\n",
      "\n",
      "<PER>Audouin ( A.</PER>), <ACT>graisse pour voitures</ACT>,<SPAT><LOC> ",
      "Vieilles-Haudriettes</LOC>, <CARDINAL>8</CARDINAL></SPAT>.\n",
      "\n",
      "<PER>Audouin (L.),</PER> <ACT>commissionnaire en papeterie</ACT>,<SPAT><LOC> ",
      "Petit-Lion-St-Sauveur</LOC>, <CARDINAL>10</CARDINAL></SPAT>.\n",
      "\n",
      "<PER>Audouit</PER>, <ACT>directeur de la Manuelle</ACT>,<SPAT><LOC>Sèvres</LOC>, <CARDINAL>19</CARDINAL></SPAT>.\n",
      "\n",
      "<PER>Audousset, de</PER> <DESC>la maison Leclercq</DESC> <PER>et Audous-</PER><DESC> ",
      "set</DESC>, <SPAT><LOC>Rambuteau</LOC>, <CARDINAL>124</CARDINAL></SPAT><PER>.</PER>\n",
      "\n",
      "<PER>Audoux</PER>, <ACT>tailleur</ACT>, <SPAT><LOC>cour Saint-Jacques-la-Bou- ",
      "cherie</LOC>, <CARDINAL>9</CARDINAL></SPAT>.\n",
      "\n",
      "<PER>Audoux -Delanoy</PER>, <ACT>officier garde du com- ",
      "merce</ACT>, <SPAT><LOC>Hoche</LOC>, <CARDINAL>11</CARDINAL></SPAT>.\n",
      "\n",
      "<PER>Daressy</PER>, <ACT>professeur d</ACT>&amp;apos<ACT>;armes</ACT>, <SPAT><LOC>Faub.-Mont- ",
      "martre</LOC>. <CARDINAL>10</CARDINAL></SPAT>.\n",
      "\n",
      "<PER>Dareste</PER>, <ACT>avocat</ACT>, <SPAT><LOC>Fleurus</LOC>, <CARDINAL>37</CARDINAL></SPAT>.\n",
      "\n",
      "<PER>Dareste i</PER>, <ACT>chef de bureau à l</ACT>&amp;<ACT>apos;administration ",
      "des contributions indirectes</ACT>, <SPAT><LOC>Fleurus</LOC>, <CARDINAL>37</CARDINAL></SPAT>.\n",
      "\n",
      "<PER>Dareste</PER>, <ACT>professeur au college Stanislas</ACT>,<SPAT><LOC> ",
      "Fleurus</LOC>, <CARDINAL>37</CARDINAL></SPAT>.\n",
      "\n",
      "<PER>Daret</PER>, <ACT>dessinateur pour broderies</ACT>, <SPAT><LOC>St-Denis</LOC>,<CARDINAL> ",
      "53</CARDINAL></SPAT>.\n",
      "\n",
      "<PER>Daret</PER>�, <ACT>inspecteur des bâtiments du minis- ",
      "tère de la guerre</ACT>, <SPAT><LOC>St-Dominique-St-Germ.</LOC><CARDINAL>90</CARDINAL></SPAT>.\n",
      "\n",
      "<PER>Darey</PER>, <ACT>mecanicien</ACT>, <SPAT><LOC>Cherche-Midi</LOC>, <CARDINAL>59</CARDINAL></SPAT>, <SPAT>passage ",
      "St-Maur, <CARDINAL>9</CARDINAL></SPAT>.\n",
      "\n",
      "<PER>Darfeuil</PER>, <ACT>propr.</ACT> , <SPAT><LOC>Boulogne</LOC>, <CARDINAL>14</CARDINAL></SPAT>.\n",
      "\n",
      "<PER>Dargaud et Cie</PER>, <ACT>marbrier</ACT>, <ACT>boulv.</ACT> <SPAT>des Filles-du- ",
      "Calvaire, <CARDINAL>20</CARDINAL></SPAT>.\n",
      "\n",
      "<PER>Dargaud</PER>, <ACT>tailleur</ACT>, <SPAT><LOC>Chaussée-d&amp;apos; Antin</LOC>, <CARDINAL>48</CARDINAL></SPAT>.\n",
      "\n",
      "<PER>Dargenne</PER>. <ACT>herboriste-pharmacien</ACT>, <SPAT><LOC>Fontaine- ",
      "Molière</LOC>, <CARDINAL>10</CARDINAL></SPAT>.\n",
      "\n",
      "<PER>Dargent</PER>, <ACT>bottier</ACT>, <SPAT><LOC>Vieux-Augustins</LOC>, <CARDINAL>63</CARDINAL></SPAT>.\n",
      "\n",
      "<PER>Dargent</PER>, <ACT>faiencier</ACT>, <SPAT><LOC>Faub. -du-Temple</LOC>, <CARDINAL>18</CARDINAL></SPAT>.\n",
      "\n",
      "<PER>Dargent (Mme</PER>), <ACT>sage-femme</ACT>, <SPAT><LOC>Faub.-Saint- ",
      "Denis</LOC>, <CARDINAL>162</CARDINAL></SPAT>\n",
      "\n",
      "<PER>Dargent</PER>, <ACT>vins</ACT>, <SPAT><LOC>Aubry-le-Boucher</LOC>, <CARDINAL>38</CARDINAL></SPAT>.\n",
      "\n"
     ]
    },
    {
     "name": "stdout",
     "output_type": "stream",
     "text": [
      "<PER>Dargent jeune</PER>, <ACT>vins</ACT>, <SPAT><LOC>Roquette</LOC>, <CARDINAL>14</CARDINAL></SPAT>.\n",
      "\n",
      "<PER>Dargenton</PER>, <ACT>chef de bureau au ministère de ",
      "l</ACT>&amp;<ACT>apos;Agriculture et <LOC>du Commerce</LOC></ACT>.\n",
      "\n",
      "<PER>Dargère &amp;amp;/§</PER>, <ACT>anc. avoué</ACT>, <SPAT><LOC>Godot</LOC>, <CARDINAL>27</CARDINAL></SPAT>.\n",
      "\n",
      "<PER>Dargis</PER>, <ACT>propr.</ACT>, <SPAT><LOC>Croix-des-Petits-Champs</LOC>, <CARDINAL>29</CARDINAL></SPAT>.\n",
      "\n",
      "<PER>Daridan</PER>, <ACT>proprietaire</ACT>, <SPAT><LOC>Berlin</LOC>, <CARDINAL>15</CARDINAL></SPAT>.\n",
      "\n",
      "<PER>Darier</PER>, <ACT>charpentier</ACT> , <SPAT>St - Maur -Popincourt,<CARDINAL> ",
      "139</CARDINAL></SPAT>.\n",
      "\n",
      "<PER>Dariez</PER>, <ACT>pralines aux cubèbes purs</ACT>, <SPAT><LOC>Jean-J.— ",
      "Rousseau</LOC>, <CARDINAL>21</CARDINAL></SPAT>.\n",
      "\n",
      "<PER>Daris frères</PER>, <ACT>peintres-vitriers</ACT>, <SPAT><LOC>pass. du Sau- ",
      "mon, maison XXVI</LOC></SPAT>.\n",
      "\n",
      "<PER>Daris (Th.),</PER> <ACT>entrepreneur de peintures</ACT>, <SPAT><LOC>Fossés- ",
      "Montmartre</LOC>, <CARDINAL>14</CARDINAL></SPAT>.\n",
      "\n",
      "<PER>Daris</PER>, <ACT>peintre-vitrier</ACT>, <SPAT><LOC>Vieux-Augustins</LOC>, <CARDINAL>63</CARDINAL></SPAT>.\n",
      "\n",
      "<PER>Dariste</PER>, <ACT>représentant du peuple</ACT> <DESC>( Basses-Py- ",
      "re</DESC><ACT>nées</ACT>), <SPAT><LOC>Ferme</LOC>, <CARDINAL>26</CARDINAL></SPAT><DESC>.</DESC>\n",
      "\n",
      "<PER>Darley</PER>, <ACT>anc. medecin</ACT>, <SPAT><LOC>Grands-Augustins</LOC>, <CARDINAL>23</CARDINAL></SPAT>.\n",
      "\n",
      "<PER>Darlignie</PER>, <ACT>inspecteur de &amp;apos;enregistrement</ACT>, <SPAT><LOC>Du- ",
      "phot</LOC>, <CARDINAL>19</CARDINAL></SPAT>.\n",
      "\n",
      "<PER>Darlu</PER>, <ACT>rentier</ACT>, <SPAT><LOC>Neuve-des-Mathurins</LOC>, <CARDINAL>38</CARDINAL></SPAT>.\n",
      "\n",
      "<PER>D</PER>&amp;<PER>apos;Armengau</PER>, <ACT>receveur de l</ACT>&amp;<ACT>apos;Enregistrement</ACT>,<SPAT><LOC> ",
      "Neuve-des-Petits-Champs</LOC>, <CARDINAL>53</CARDINAL></SPAT>.\n",
      "\n",
      "<PER>Darmoy</PER>, <ACT>architecte-verificateur</ACT>, <SPAT><LOC>Nve-St-Eus- ",
      "taché</LOC>, <CARDINAL>30</CARDINAL></SPAT>.\n",
      "\n",
      "<PER>Darnet</PER>, <ACT>tailleur</ACT>, <SPAT><LOC>Marivaux-Italiens</LOC>, <CARDINAL>13</CARDINAL></SPAT>.\n",
      "\n",
      "<PER>Dernaudin &amp;amp;,</PER> <ACT>capitaine au corps d</ACT>&amp;<ACT>apos;état-major</ACT>,<SPAT><LOC> ",
      "Paradis-Poissonniere</LOC>, <CARDINAL>17</CARDINAL></SPAT>.\n",
      "\n",
      "<PER>Darnet (D.),</PER> <ACT>chemisier</ACT>, <SPAT><LOC>Richelieu</LOC>, <CARDINAL>83</CARDINAL>, <CARDINAL>ancien ",
      "33</CARDINAL></SPAT>.\n",
      "\n",
      "<PER>Darnet</PER>, <ACT>épicier</ACT>, <SPAT><LOC>faub. St-Honore</LOC>, <CARDINAL>217</CARDINAL></SPAT>.\n",
      "\n",
      "<PER>Darnet</PER>, <ACT>tailleur</ACT>, <SPAT><LOC>boulv. des Italiens</LOC>, <CARDINAL>13</CARDINAL></SPAT>, et <SPAT><LOC>Ma- ",
      "rivaux</LOC>, <CARDINAL>13</CARDINAL></SPAT>.\n",
      "\n",
      "<PER>Darnis</PER>, <ACT>directeur du Moniteur industriel</ACT>,<SPAT><LOC> ",
      "Echiquier</LOC>, <CARDINAL>36</CARDINAL></SPAT>.\n",
      "\n",
      "<PER>D</PER>&amp;<PER>apos;Arnould</PER>, <ACT>proprietaire</ACT>, <SPAT><LOC>Plumet</LOC>, <CARDINAL>14</CARDINAL></SPAT>.\n",
      "\n",
      "<PER>Darodes</PER>, <ACT>grav</ACT>. <ACT>et peintre</ACT>, <SPAT><LOC>Val-de-Grâce</LOC>, <CARDINAL>9</CARDINAL></SPAT>.\n",
      "\n",
      "<PER>Darondeau as</PER>, <ACT>ingenieur hydrographe</ACT>, <SPAT><LOC>Ouest</LOC>,<CARDINAL> ",
      "40</CARDINAL></SPAT>.\n",
      "\n",
      "<PER>Daroux</PER>, <ACT>confiseur</ACT>, <SPAT><LOC>St-Martin</LOC>, <CARDINAL>86</CARDINAL></SPAT>.\n",
      "\n",
      "<PER>Darrac</PER>, <ACT>tapissier, cardage de matelas , épura- ",
      "tion de literie</ACT>, <SPAT><LOC>Cadet</LOC>, <CARDINAL>23</CARDINAL>, <CARDINAL>27</CARDINAL></SPAT>, et <SPAT><LOC>Lamartine</LOC></SPAT>, <CARDINAL>1.</CARDINAL>\n",
      "\n",
      "<PER>Darras</PER> , <ACT>bonnetier</ACT>, <SPAT><LOC>Ferronnerie</LOC>, <CARDINAL>2</CARDINAL></SPAT>.\n",
      "\n",
      "<PER>Darras (Mme C. ),</PER> <ACT>cabinet de lecture</ACT>, <SPAT><LOC>boul. ",
      "Saint-Denis</LOC>, <CARDINAL>6</CARDINAL></SPAT>.\n",
      "\n",
      "<PER>Darras</PER>, <ACT>épicerie et fab. de chocolats</ACT>, <SPAT><LOC>Croix- ",
      "des-Petits-Champs</LOC>, <CARDINAL>8</CARDINAL></SPAT>.\n",
      "\n",
      "<PER>Darras</PER>, <ACT>papetier</ACT>, <SPAT><LOC>Montmartre</LOC>, <CARDINAL>180</CARDINAL></SPAT>.\n",
      "\n",
      "<PER>Darras (Mme</PER>), <ACT>papier timbré</ACT>, <SPAT><LOC>Faub.-Sain&amp;apos; ",
      "Martin</LOC>, <CARDINAL>91</CARDINAL></SPAT>.\n",
      "\n",
      "<PER>Darras</PER>, <ACT>serrurier</ACT>, <SPAT><LOC>St-Honoré</LOC>, <CARDINAL>340</CARDINAL></SPAT>.\n",
      "\n",
      "<PER>Darriaut</PER>, <ACT>médecin</ACT>, <SPAT><LOC>Nve-St-Martin</LOC>, <CARDINAL>3</CARDINAL></SPAT>.\n",
      "\n",
      "<PER>Darricarere ",
      "A. ",
      "</PER><ACT>anc. négoc</ACT>., <SPAT><LOC>Victoire</LOC>. <CARDINAL>46</CARDINAL></SPAT>.\n",
      "\n",
      "<PER>Darricau 2/</PER>, <ACT>directeur de l</ACT>&amp;<ACT>apos;administration au ",
      "ministère de la guerre</ACT>.\n",
      "\n",
      "<PER>Darrier</PER>, <ACT>charpentier</ACT>, <SPAT><LOC>St-Maur-Popincourt</LOC>, <CARDINAL>45</CARDINAL></SPAT>.\n",
      "\n",
      "<PER>Darrou</PER>, <ACT>pharmacien</ACT>, <SPAT><LOC>Rumfort</LOC>, <CARDINAL>14</CARDINAL></SPAT>.\n",
      "\n",
      "<PER>Darroux</PER>, <ACT>hôtel d</ACT>&amp;<ACT>apos;Amiens</ACT>, <SPAT><LOC>Argenteuil</LOC>, <CARDINAL>60</CARDINAL></SPAT>.\n",
      "\n",
      "<PER>Darru (A.),</PER> <ACT>architecte</ACT>, <SPAT><LOC>Laroche foucault</LOC>, <CARDINAL>33</CARDINAL></SPAT>.\n",
      "\n",
      "<PER>Darsy, Montaigut et Compagnie</PER>, <ACT>escompte et ",
      "recouvrements</ACT>, <SPAT><LOC>Tracy</LOC>, <CARDINAL>8</CARDINAL></SPAT>.\n",
      "\n",
      "<PER>Darte flls ainé</PER>, <ACT>porcelaine blanche et dorée</ACT>,<SPAT><LOC> ",
      "Vinaigriers</LOC>, <CARDINAL>21</CARDINAL></SPAT>.\n",
      "\n",
      "—<PER> ",
      "Dartenet (Vve</PER>), <ACT>confiseur</ACT>, <SPAT><LOC>Vannerie</LOC>, <CARDINAL>25</CARDINAL></SPAT>.\n",
      "\n",
      "<PER>Dartheil</PER>, <ACT>coutelier</ACT>, <SPAT><LOC>Zacharie</LOC>, <CARDINAL>9</CARDINAL></SPAT>\n",
      "\n",
      "<PER>Darthenay</PER>, <ACT>articles en cire</ACT>, <SPAT><LOC>Angouleme-du ",
      "Temple</LOC>, <CARDINAL>16</CARDINAL></SPAT>.\n",
      "\n",
      "<PER>Darthez</PER>, <ACT>ancien banquier</ACT>, <SPAT><LOC>Rivoli</LOC>, <CARDINAL>28 bis</CARDINAL></SPAT>.\n",
      "\n",
      "<PER>Dartigny (Mme)</PER> , <ACT>prolesseur de pianos</ACT>, <SPAT><LOC>Seine- ",
      "St-Germain</LOC>, <CARDINAL>79</CARDINAL></SPAT>.\n",
      "\n",
      "<PER>D</PER>&amp;<PER>apos;Artigues</PER>, <ACT>anc. banquier</ACT>, <SPAT><LOC>Joubert</LOC>, <CARDINAL>32</CARDINAL></SPAT>.\n",
      "\n",
      "<PER>D</PER><ACT>&amp;</ACT><PER>apos;Artigues (A.),</PER> <ACT>delégue du ministère des ",
      "finances près les comptoirs nationaux</ACT>, <SPAT><LOC>Ar- ",
      "cade</LOC>, <CARDINAL>27</CARDINAL></SPAT>\n",
      "\n",
      "<PER>Dartigues</PER>, <ACT>professeur de chant au lycée Na ",
      "poléon</ACT>, <SPAT><LOC>Clovis</LOC>, <CARDINAL>23</CARDINAL></SPAT>.\n",
      "\n",
      "<PER>Dartigues &amp;amp;§</PER>, <ACT>propriet.</ACT>, <SPAT><LOC>Tronchet</LOC>, <CARDINAL>3</CARDINAL></SPAT>.\n",
      "\n",
      "<PER>Dartois (Armand),</PER> <ACT>auteur dramat</ACT>., <SPAT><LOC>clos des ",
      "Terno</LOC></SPAT>\n",
      "\n",
      "<PER>Dartois</PER>, <ACT>fab. de briquets</ACT>, <SPAT><LOC>Pass. Jouffroy</LOC>, <CARDINAL>9</CARDINAL></SPAT>.\n",
      "\n",
      "<PER>D</PER><ACT>&amp;</ACT><PER>apos;Artois (A.),</PER> <ACT>directeur de la Normandie, mu- ",
      "tualité des dix-neuf départements du nord ",
      "contre l&amp;apos;incendie, <LOC>Monmartre, IIl</LOC></ACT>\n",
      "\n",
      "<PER>Dartois (Achille),</PER> <ACT>homme de lettres</ACT>, <SPAT><LOC>Gram- ",
      "mont</LOC>, <CARDINAL>10</CARDINAL></SPAT>.\n",
      "\n",
      "<PER>Dartois, C. 2/4</PER> , <ACT>genéral de brigade</ACT>, <SPAT><LOC>Varen- ",
      "nes</LOC>, <CARDINAL>38</CARDINAL></SPAT>.\n",
      "\n",
      "<PER>Daru (Cte Napoléon de), O. i</PER>, <ACT>représentant du ",
      "peuple</ACT>, <SPAT><LOC>Lille</LOC>, <CARDINAL>75</CARDINAL></SPAT>.\n",
      "\n",
      "<PER>Daru</PER><SPAT><LOC> ",
      "baronne ",
      "Lille</LOC>. <CARDINAL>79</CARDINAL></SPAT>.\n",
      "\n",
      "<PER>Daru</PER>, <ACT>à la caiss. gén. d</ACT>&amp;<ACT>apos;amort</ACT>., <SPAT><LOC>Oratoire St-Ho- ",
      "Rore</LOC></SPAT>.\n",
      "\n",
      "<PER>Daru (Vte Paul ",
      ") <CARDINAL>3</CARDINAL></PER>, <SPAT><LOC>Lille</LOC>, <CARDINAL>75</CARDINAL></SPAT>.\n",
      "\n",
      "<PER>Darvant</PER>, <ACT>rampiste</ACT>, <SPAT><LOC>Neuve-de-la-Fidelité</LOC>,<CARDINAL> ",
      "2</CARDINAL></SPAT>.\n",
      "\n",
      "<PER>Darville (Mme),</PER> <ACT>artiste à la Porte-St-Martin</ACT>,<SPAT><LOC> ",
      "boul. Bonne-Nouvelle</LOC>, <CARDINAL>21</CARDINAL></SPAT><ACT>.</ACT>\n",
      "\n",
      "<PER>Darvogne-Riottot</PER>, <ACT>bijoutier en cuivre</ACT>, <SPAT><LOC>Mont- ",
      "morency</LOC>, <CARDINAL>10</CARDINAL></SPAT>.\n",
      "\n",
      "<PER>D</PER>&amp;apos<PER>;Arx</PER>, <ACT>tourneur-filateur</ACT>, <SPAT><LOC>Roquette</LOC>, <CARDINAL>83</CARDINAL></SPAT>.\n",
      "\n",
      "<PER>Dasque (Vve</PER>), <ACT>artificier</ACT>, <SPAT><LOC>Grès</LOC>, <CARDINAL>10</CARDINAL></SPAT>.\n",
      "\n",
      "<PER>Dassailly</PER>, <ACT>rentier</ACT>, <SPAT><LOC>Faub.-St-Honoré</LOC>, <CARDINAL>25</CARDINAL></SPAT>.\n",
      "\n"
     ]
    },
    {
     "name": "stdout",
     "output_type": "stream",
     "text": [
      "<PER>Dasse (Mme ",
      " modes</PER>, <SPAT><LOC>Richelieu</LOC>, <CARDINAL>38</CARDINAL></SPAT>.\n",
      "\n",
      "<PER>Dasset</PER>, <ACT>propriet.</ACT>, <SPAT><LOC>Bleue</LOC>, 3</SPAT> b<LOC>ts</LOC>.\n",
      "\n",
      "<PER>Dassier (A. ),</PER> <ACT>banquier</ACT>, <SPAT><LOC>Victoire</LOC>, <CARDINAL>62</CARDINAL></SPAT>.\n",
      "\n",
      "<PER>Dassier</PER>, <ACT>chapelier, passementier, equip. mili— ",
      "taire</ACT> , <SPAT><LOC>Richelieu</LOC>, <CARDINAL>12</CARDINAL></SPAT>.\n",
      "\n",
      "<PER>Dassonville</PER>, <ACT>coiffeur</ACT>, <SPAT><LOC>Notre-Dame-des-Victoi- ",
      "res</LOC>, <CARDINAL>17</CARDINAL></SPAT>.\n",
      "\n",
      "<PER>Dassonville</PER>, <ACT>liqueurs</ACT>, <SPAT><LOC>Fossés-St-Germain- ",
      "Auxerrois</LOC>, <CARDINAL>3</CARDINAL></SPAT>.\n",
      "\n",
      "<PER>Dassonville</PER>, <ACT>fub. de sabots</ACT>, <SPAT><LOC>Calandre</LOC>, <CARDINAL>22</CARDINAL></SPAT>.\n",
      "\n",
      "<PER>Dassy</PER>, <ACT>fab, de chaussons de tresse</ACT>, <SPAT><LOC>St-Victor</LOC>,<CARDINAL> ",
      "4</CARDINAL></SPAT>\n",
      "\n",
      "<PER>Dasté</PER>, <ACT>layetier</ACT>, <SPAT><LOC>rempart St-Honore</LOC>,<CARDINAL> ",
      "II</CARDINAL></SPAT>.\n",
      "\n",
      "<PER>Dastis is et fils</PER>, <ACT>draps</ACT>, <SPAT><LOC>Mauvaises-Paroles</LOC>, <CARDINAL>20</CARDINAL></SPAT>.\n",
      "\n",
      "<PER>Dastugue</PER>, <ACT>epicier</ACT>, <SPAT><LOC>Faub.-St-Martin</LOC>, 16</SPAT>2.\n",
      "\n",
      "<PER>Dastugues</PER>, <ACT>bottier</ACT>, <SPAT><LOC>boul. Poissonnière</LOC>, <CARDINAL>5</CARDINAL></SPAT>.\n",
      "\n",
      "<PER>Dat</PER>, <ACT>vins</ACT>, <SPAT><LOC>quai Billy</LOC>, <CARDINAL>12</CARDINAL></SPAT>.\n",
      "\n",
      "<PER>Datessen</PER>, <ACT>mêtreur-vérificateur</ACT>, <SPAT><LOC>Pot-de-Fer- ",
      "St-Sulpice</LOC>, <CARDINAL>2</CARDINAL></SPAT>.\n",
      "\n",
      "<PER>Datin (Mme ",
      "herbor.</PER>, <SPAT><LOC>Vieille-du-Temple</LOC>, <CARDINAL>100</CARDINAL></SPAT>.\n",
      "\n",
      "<PER>Datin</PER>, <ACT>layetier-emballeur</ACT>, <SPAT><LOC>Clery</LOC>, <CARDINAL>96</CARDINAL></SPAT>.\n",
      "\n",
      "<PER>Datin et Poisson</PER>, <ACT>layetiers-emballeurs</ACT>, <SPAT><LOC>Rou- ",
      "gemont</LOC>, <CARDINAL>15</CARDINAL></SPAT>.\n",
      "\n",
      "<PER>Datin (Mme ",
      "),</PER> <ACT>sage-femme</ACT>, <SPAT><LOC>Clery</LOC>, <CARDINAL>27</CARDINAL></SPAT>\n",
      "\n",
      "<PER>Datour</PER>, <ACT>monteur en bronze</ACT>, <SPAT><LOC>Amelot</LOC>, <CARDINAL>34-36</CARDINAL></SPAT>.\n",
      "\n",
      "<PER>Datry</PER>,<ACT> ",
      "passementier</ACT>, <SPAT><LOC>St-Denis</LOC>, 17</SPAT>3.\n",
      "\n",
      "<PER>Dattin</PER>, <ACT>bijoutier en dore</ACT> , <SPAT>St-Martin, <CARDINAL>168</CARDINAL></SPAT>.\n",
      "\n",
      "<PER>Daubancourt</PER>, <ACT>horloger</ACT>, <SPAT><LOC>St-Lazare</LOC>, 12</SPAT>1.\n",
      "\n",
      "<PER>Daubas</PER>, <ACT>brossier</ACT>, <SPAT><LOC>Mouffetard</LOC>, <CARDINAL>210</CARDINAL></SPAT>.\n",
      "\n",
      "<PER>Daubas</PER>, <ACT>fab. de meubles</ACT>, <SPAT><LOC>Grenelle-St-Ger- ",
      "main</LOC>, <CARDINAL>35</CARDINAL></SPAT>.\n",
      "\n",
      "<PER>Daubasse</PER>, <ACT>coiffeur</ACT>, <SPAT><LOC>St-Honoré</LOC>, <CARDINAL>359</CARDINAL></SPAT>.\n",
      "\n",
      "<PER>Daube père</PER>, <ACT>jardinier-fleuriste</ACT>, <SPAT><LOC>Charonne</LOC>, 16</SPAT>4.\n",
      "\n",
      "<PER>Daubemont (Ch. ),</PER> <ACT>serrurier-mécanicien</ACT>, <SPAT><LOC>Mé- ",
      "mlmontant</LOC>, <CARDINAL>147</CARDINAL></SPAT>.\n",
      "\n",
      "<PER>D</PER>&amp;<PER>apos;Aubenas et Piot de Berle (Mmes</PER>), <ACT>institu- ",
      "tion</ACT>, <SPAT>St-Jacques, <CARDINAL>289</CARDINAL></SPAT>.\n",
      "\n",
      "<PER>Daubié</PER>, <ACT>fab. de plaqué et de maillechort</ACT>,<SPAT><LOC> ",
      "Petite-Rue-d&amp;apos;Austerlitz</LOC>, <CARDINAL>1.</CARDINAL></SPAT>\n",
      "\n",
      "<PER>Daubignard</PER><ACT> ",
      "(Hil.  hôtel du Tibre</ACT>, <SPAT><LOC>Helder</LOC>, <CARDINAL>8</CARDINAL></SPAT>.\n",
      "\n",
      "<PER>Daubigny (Mme et Mile</PER>), <ACT>blanchissage et rac- ",
      "commodage de dentelles</ACT>, <SPAT><LOC>Chuillot</LOC>, <CARDINAL>65</CARDINAL></SPAT>.\n",
      "\n",
      "<PER>Daubigny</PER>, <ACT>liquoriste et tabac</ACT>, <SPAT>St-Martin, <CARDINAL>145</CARDINAL></SPAT>.\n",
      "\n",
      "<PER>Daubigny (P. ",
      "),</PER> <ACT>peintre</ACT>, <SPAT><LOC>cour du Harlay</LOC>, <CARDINAL>22</CARDINAL></SPAT>.\n",
      "\n",
      "<PER>Daubigny (Mme),</PER> <ACT>peintre</ACT>, <SPAT><LOC>cour du Harlay</LOC>, <CARDINAL>22</CARDINAL></SPAT>.\n",
      "\n",
      "<PER>Daubigny</PER>, <ACT>peintre paysagiste</ACT>, <SPAT><LOC>q. d</LOC></SPAT>&amp;<SPAT><LOC>apos;Anjou</LOC>, <CARDINAL>13</CARDINAL></SPAT>\n",
      "\n",
      "<PER>Daubigny</PER>, <ACT>métreur-vérificateur</ACT>, <SPAT><LOC>Neuve-Saint- ",
      "Martin</LOC>, <CARDINAL>12</CARDINAL></SPAT>.\n",
      "\n",
      "<PER>Daubigny</PER>, <ACT>vins</ACT>, <SPAT><LOC>Sevres</LOC>, <CARDINAL>100</CARDINAL></SPAT>.\n",
      "\n",
      "<PER>Daubin</PER> , <ACT>ferreur de lacets</ACT>, <SPAT><LOC>Gr. Truanderie</LOC>, <CARDINAL>2</CARDINAL></SPAT>.\n",
      "\n",
      "<PER>Daubin</PER>, <ACT>vannier</ACT>, <SPAT><LOC>Menilmontant</LOC>, <CARDINAL>88</CARDINAL></SPAT>.\n",
      "\n",
      "<PER>Daubourg et Cie</PER>, <ACT>entrepreneur de vidanges</ACT>,<SPAT><LOC> ",
      "St-Ambroise-Popincourt</LOC>, <CARDINAL>6</CARDINAL></SPAT>.\n",
      "\n",
      "<PER>Daubre Mme),</PER> <ACT>artiste à l&amp;apos;Opéra</ACT>, <SPAT><LOC>Blanche</LOC>, <CARDINAL>70</CARDINAL></SPAT>.\n",
      "\n",
      "<PER>Daubrée</PER>, <ACT>propr</ACT>., <SPAT><LOC>St-Lazaře</LOC>, <CARDINAL>64</CARDINAL></SPAT>.\n",
      "\n",
      "<PER>Daubresse (Mine</PER>), <ACT>lingerie</ACT>, <SPAT>Lamartine, <CARDINAL>33</CARDINAL></SPAT>.\n",
      "\n",
      "<PER>D</PER>&amp;<PER>apos;Aubusson et Kugelmann</PER>, <ACT>imprimeurs</ACT><SPAT><LOC> ",
      "Feydeau</LOC>, <CARDINAL>8</CARDINAL></SPAT>.\n",
      "\n",
      "<PER>Dauchart</PER>, <ACT>coiffeur</ACT>, <SPAT><LOC>Rocher</LOC>, <CARDINAL>14</CARDINAL></SPAT>.\n",
      "\n",
      "<PER>Dauchel-Ducrocq et Cie</PER>, <ACT>tissus en gros</ACT>, <SPAT><LOC>The- ",
      "venot</LOC>, <CARDINAL>24</CARDINAL></SPAT>.\n",
      "\n",
      "<PER>Dauchet</PER>, <ACT>rentier</ACT>, <SPAT><LOC>Bac</LOC>, <CARDINAL>34</CARDINAL></SPAT>.\n",
      "\n",
      "<PER>Dauchet</PER>, <ACT>traiteur</ACT>, <SPAT><LOC>Marché-St-Honoré</LOC>, <CARDINAL>28</CARDINAL></SPAT>.\n",
      "\n",
      "<PER>Dauchez (Amedée),</PER> <ACT>avocat, agent du canal ",
      "d&amp;apos;Aire à la Bassée</ACT>, <SPAT><LOC>St-Guillaume</LOC>, <CARDINAL>12</CARDINAL></SPAT><ACT>.</ACT>\n",
      "\n",
      "<PER>Dauchez-Hemar</PER>, <ACT>propriét., directeur de la ",
      "tontine d</ACT>&amp;<ACT>apos;Orléans</ACT>, <SPAT><LOC>St-Guillaume</LOC>, <CARDINAL>12</CARDINAL></SPAT>.\n",
      "\n",
      "<PER>Dauchez (E. ),</PER> <ACT>referendaire à la cour des ",
      "Comptes</ACT><SPAT>, des Vignes à <LOC>Passy</LOC></SPAT><ACT>.</ACT>\n",
      "\n",
      "<PER>Dauchy</PER>, <ACT>tabac et liqueurs</ACT>, <SPAT><LOC>Pastourelle</LOC>, <CARDINAL>22</CARDINAL></SPAT>.\n",
      "\n",
      "<PER>Daud</PER>, <ACT>fab. de bandes de billards</ACT>, <SPAT><LOC>boul. du ",
      "Temple</LOC>, <CARDINAL>16</CARDINAL></SPAT>.\n",
      "\n",
      "<PER>Daudan</PER>, <ACT>imprimeur-lithograp</ACT>., <SPAT><LOC>Convention</LOC>, <CARDINAL>3</CARDINAL></SPAT>.\n",
      "\n",
      "<PER>Daudé</PER>, <ACT>directeur du Château-Rouge</ACT>, <SPAT><LOC>Chaus- ",
      "sée-de-Clignancourt</LOC>, <CARDINAL>20</CARDINAL></SPAT>.\n",
      "\n",
      "<PER>Daude</PER>, <ACT>grav. sur metaux</ACT>, <SPAT><LOC>Simon-le-Franc</LOC>, <CARDINAL>9</CARDINAL></SPAT>.\n",
      "\n",
      "<PER>Daude</PER>, <ACT>fab. d</ACT>&amp;<ACT>apos;œillets métalliques</ACT>, <SPAT><LOC>Arcis</LOC>, <CARDINAL>22</CARDINAL></SPAT>.\n",
      "\n",
      "<PER>Daude</PER>, <ACT>peintre-vitrier</ACT>, <SPAT><LOC>Cadran</LOC>, <CARDINAL>14</CARDINAL></SPAT>.\n",
      "\n",
      "<PER>Daudenarde</PER><SPAT><LOC> ",
      "Amedée ",
      "Guerin-Boisseau</LOC>, <CARDINAL>40</CARDINAL></SPAT>.\n",
      "\n",
      "<PER>Daudet (Eug.</PER>), <ACT>institution</ACT>, <SPAT><LOC>f. St-Honoré</LOC>, <CARDINAL>235</CARDINAL></SPAT>.\n",
      "\n",
      "<PER>Daudet et Loisel</PER>, <ACT>maçons</ACT>, <SPAT><LOC>St-Nicolas d</LOC></SPAT>&amp;<SPAT><LOC>apos;Antin</LOC>, ",
      ".<CARDINAL> ",
      "4</CARDINAL></SPAT>\n",
      "\n",
      "<PER>Daudeville</PER>, <ACT>potier d</ACT>&amp;<ACT>apos;étain</ACT>, <SPAT><LOC>Cimetière-St-Nico- ",
      "las</LOC>, <CARDINAL>19</CARDINAL></SPAT>.\n",
      "\n",
      "<PER>Daudin</PER>, <ACT>fab. de chapeaux</ACT>, <SPAT><LOC>Vieille-du-Temple</LOC>,<CARDINAL> ",
      "8</CARDINAL></SPAT>.\n",
      "\n",
      "<PER>Daudin</PER>, <ACT>faïencier</ACT>, <SPAT><LOC>q. de la Mégisserie</LOC>, <CARDINAL>56</CARDINAL></SPAT>, et<SPAT><LOC> ",
      "St-Germain-lAuxerrois</LOC>, <CARDINAL>65</CARDINAL></SPAT>.\n",
      "\n",
      "<PER>Daudin</PER>, <ACT>hôtel de Strasbourg</ACT>, <SPAT><LOC>Fidelite</LOC>, <CARDINAL>17</CARDINAL></SPAT>.\n",
      "\n",
      "<PER>Daudin</PER>, <ACT>libraire</ACT>, <SPAT><LOC>St-Victor</LOC>, <CARDINAL>63</CARDINAL></SPAT>\n",
      "\n",
      "<PER>Daudre (F.) et Ch. Rattaire</PER>, <ACT>negoc</ACT>., <SPAT><LOC>Mont- ",
      "martre</LOC>. <CARDINAL>169</CARDINAL></SPAT>.\n",
      "\n",
      "<PER>Dandre (A.</PER>), <ACT>mousseline et linge de table en ",
      "gros</ACT>, <SPAT><LOC>Bertin-Poirée</LOC>, <CARDINAL>17</CARDINAL></SPAT>.\n",
      "\n",
      "<PER>Daudy</PER>, <ACT>libraire</ACT>, <SPAT><LOC>passage St-Roch</LOC>, <CARDINAL>10</CARDINAL></SPAT>.\n",
      "\n",
      "<PER>Dauge</PER>, <ACT>brosserie</ACT>, <SPAT><LOC>St-Martin</LOC>, <CARDINAL>166</CARDINAL></SPAT>.\n",
      "\n"
     ]
    },
    {
     "name": "stdout",
     "output_type": "stream",
     "text": [
      "<PER>Dauge (P.</PER>), <ACT>dépòt de papiers</ACT>, <SPAT><LOC>Blancs-Man- ",
      "teaux</LOC>. <CARDINAL>35</CARDINAL></SPAT>.\n",
      "\n",
      "<PER>Dauge (F.) fils et Cie</PER>, <ACT>filateurs de coton et fabri- ",
      "cants de cotons retors</ACT>, <SPAT><LOC>St-Fiacre</LOC>, <CARDINAL>3</CARDINAL></SPAT>.\n",
      "\n",
      "<PER>Daugny (B.) <TITREH>§</TITREH></PER>, <ACT>rentier</ACT>, <SPAT><LOC>Bleue</LOC>, <CARDINAL>29</CARDINAL></SPAT>.\n",
      "\n",
      "<PER>Daugreilh</PER>, <ACT>salon littéraire</ACT>, <SPAT><LOC>Faub.-St-Hono- ",
      "ré</LOC>, <CARDINAL>66</CARDINAL></SPAT>.\n",
      "\n",
      "<PER>Daulé</PER>, <ACT>stéréotypeur</ACT>,<SPAT>St-Benoit-St-Germain, <CARDINAL>8</CARDINAL></SPAT>.\n",
      "\n",
      "<PER>Daulle, C. s, général</PER>, <SPAT><LOC>boulev. Poisson- ",
      "nière</LOC>. <CARDINAL>23</CARDINAL></SPAT>.\n",
      "\n",
      "<PER>Daumain</PER>, <ACT>bijoutier-garniss</ACT>., <SPAT><LOC>Phélippeaux</LOC>, <CARDINAL>22</CARDINAL></SPAT>.\n",
      "\n",
      "<PER>Daumas (T.),</PER> <ACT>fabricant d</ACT>&amp;<ACT>apos;encre d</ACT>&amp;<ACT>apos;imprimerie ",
      "et produits chimiques</ACT>, <SPAT><LOC>quai Napoléon</LOC>, <CARDINAL>I1.</CARDINAL></SPAT>\n",
      "\n",
      "<PER>Daumas , C. a/4</PER>, <ACT>général de brigade, chef du ",
      "service de l&amp;apos;Algerie au ministère de la guerre</ACT>,<SPAT><LOC> ",
      "Beaune</LOC>, <CARDINAL>14</CARDINAL></SPAT>.\n",
      "\n",
      "<PER>Daumas (Mine</PER>), <ACT>sage-femme</ACT>, <SPAT><LOC>Saint-Jacques, ",
      "JS</LOC>.</SPAT>\n",
      "\n",
      "<PER>Daumas</PER>, <ACT>statuaire</ACT>, <SPAT><LOC>Fourne aux</LOC>, <CARDINAL>28</CARDINAL></SPAT>.\n",
      "\n",
      "<PER>Daume</PER>, <ACT>tailleur</ACT>, <SPAT><LOC>Nve-St-Augustin</LOC>, <CARDINAL>20</CARDINAL></SPAT>.\n",
      "\n",
      "<PER>Daumesnil</PER>, <ACT>caſé restaurant</ACT>, <SPAT><LOC>Paix</LOC>, <CARDINAL>17</CARDINAL></SPAT>, et <SPAT><LOC>Nve- ",
      "St-Augustin</LOC>, <CARDINAL>54</CARDINAL></SPAT>.\n",
      "\n",
      "<PER>Daumié</PER>, <ACT>peintre-artiste</ACT>, <SPAT><LOC>quai d</LOC></SPAT>&amp;<SPAT><LOC>apos;Anjou</LOC>, <CARDINAL>9</CARDINAL></SPAT>.\n",
      "\n",
      "<PER>Daumin</PER>, <ACT>serrurier</ACT>, <SPAT><LOC>Faub. - St-Martin</LOC>, <CARDINAL>191</CARDINAL></SPAT>\n",
      "\n",
      "<PER>Daumont</PER>, <ACT>boulanger</ACT>, <SPAT><LOC>St-Lazare</LOC>, <CARDINAL>44</CARDINAL></SPAT>.\n",
      "\n",
      "<PER>Daumont, jeune</PER>, <ACT>mercerie en gros, art. de ",
      "Paris</ACT>, <SPAT>St-Denis, <CARDINAL>190</CARDINAL></SPAT>.\n",
      "\n",
      "<PER>Daunard</PER>, <ACT>jardinier- fleuriste</ACT>, <SPAT><LOC>Vaugirard</LOC>, 20</SPAT>4.\n",
      "\n",
      "<PER>Daunay</PER>, <ACT>huissier</ACT>, <SPAT><LOC>Compoise</LOC>, <CARDINAL>67</CARDINAL>, <LOC>à St-Denis</LOC></SPAT>.\n",
      "\n",
      "<PER>Dauneau</PER>, <ACT>epicier</ACT>, <SPAT><LOC>Grande-Truanderie</LOC>, <CARDINAL>46</CARDINAL></SPAT>.\n",
      "\n",
      "<PER>Dauner</PER><ACT> ",
      "(F. ",
      "négoc. en toiles</ACT>, <SPAT><LOC>St-Martin</LOC>, <CARDINAL>88</CARDINAL></SPAT>.\n",
      "\n",
      "<PER>Daunis</PER>, <ACT>vins</ACT>, <SPAT><LOC>boulevard de l</LOC></SPAT>&amp;<SPAT><LOC>apos;Hôpital</LOC>, <CARDINAL>32</CARDINAL></SPAT>.\n",
      "\n",
      "<PER>Daup et Cie</PER>, <ACT>lampes et bronzes</ACT>, <SPAT><LOC>Bondy</LOC>, <CARDINAL>80</CARDINAL></SPAT>.\n",
      "\n",
      "<PER>Daupeley</PER>, <ACT>commiss. -priseur</ACT>, <SPAT><LOC>Hazard</LOC>, <CARDINAL>15</CARDINAL></SPAT>.\n",
      "\n",
      "<PER>Daupeyro</PER> <ACT>ux, vins</ACT>, <SPAT><LOC>Varennes-St-Germain</LOC>, <CARDINAL>36</CARDINAL></SPAT>, ",
      "et <SPAT><LOC>Bac</LOC>, <CARDINAL>96</CARDINAL></SPAT>.\n",
      "\n",
      "<PER>Dauphin (Mlle</PER> ",
      ", <ACT>corsets</ACT>, <SPAT><LOC>Poissonmere</LOC>, <CARDINAL>46</CARDINAL></SPAT>.\n",
      "\n",
      "<PER>Dauphin ainé</PER>, <ACT>limonadier</ACT>, <SPAT><LOC>St-Martin</LOC>, <CARDINAL>256</CARDINAL></SPAT>.\n",
      "\n",
      "<PER>Dauphin</PER>, <ACT>limonadier</ACT>, <SPAT><LOC>boul. du Temple</LOC>, <CARDINAL>28</CARDINAL></SPAT>.\n",
      "\n",
      "<PER>Dauphin jeune et Cie</PER>, <ACT>fab. de moulures en bois ",
      "des iles, bordures et châssis</ACT>, <SPAT><LOC>Faub. St-De- ",
      "nis</LOC>, <CARDINAL>65</CARDINAL></SPAT>.\n",
      "\n",
      "<PER>Dauphin</PER>, <ACT>peintre</ACT>, <SPAT><LOC>Perche</LOC>, <CARDINAL>7</CARDINAL></SPAT>.\n",
      "\n",
      "<PER>Dauphin</PER>, <ACT>vins</ACT>, <SPAT><LOC>Deux-Ecus</LOC>, <CARDINAL>11</CARDINAL></SPAT>.\n",
      "\n",
      "<PER>Dauphin, bains</PER>, <SPAT><LOC>Perche</LOC>, <CARDINAL>7</CARDINAL></SPAT>.\n",
      "\n",
      "<PER>Dauphinot</PER>, <ACT>épicier</ACT>, <SPAT><LOC>Moulins</LOC>, <CARDINAL>17</CARDINAL></SPAT>, et <SPAT><LOC>Thérèse</LOC>. <CARDINAL>2</CARDINAL></SPAT>.\n",
      "\n",
      "<PER>Gaussen et Pouzadoux</PER>, <ACT>châles. <LOC>Banque</LOC>,</ACT> <SPAT><CARDINAL>1.</CARDINAL></SPAT>\n",
      "\n",
      "<PER>Gaussens fils</PER>, <ACT>bouteilles</ACT>, <SPAT><LOC>Dauphine</LOC>, <CARDINAL>10</CARDINAL></SPAT>.\n",
      "\n",
      "<PER>Gaussens, (Mme ",
      "rentière</PER>, <SPAT><LOC>Vivienne</LOC>. <CARDINAL>26</CARDINAL></SPAT><PER>.</PER>\n",
      "\n",
      "<PER>Gaussens père</PER>, <ACT>vins</ACT>, <SPAT><LOC>Battoir-St-André-des- ",
      "Arts</LOC> , <CARDINAL>12</CARDINAL></SPAT>.\n",
      "\n",
      "<PER>Gaussin</PER>�, <ACT>ingenieur-hydrographe</ACT>, <SPAT><LOC>rue des ",
      "Martyrs</LOC>, <CARDINAL>42</CARDINAL></SPAT>.\n",
      "\n",
      "<PER>Gaussiran</PER>, <ACT>tailleur</ACT>, <SPAT><LOC>Ancienne-Comédie</LOC>, <CARDINAL>25</CARDINAL></SPAT>.\n",
      "\n",
      "<PER>Gaut (Mme ",
      ",</PER> <ACT>reperceuse</ACT>, <SPAT><LOC>Pastourelle</LOC>, <CARDINAL>32</CARDINAL></SPAT>.\n",
      "\n",
      "<PER>Gaut (Vve ",
      "),</PER> <ACT>libraire</ACT>, <SPAT><LOC>gal. de l</LOC></SPAT>&amp;<SPAT><LOC>apos;Odéon</LOC>, <CARDINAL>4</CARDINAL></SPAT>.\n",
      "\n",
      "<PER>Gaut</PER> , <ACT>monteur en bronze</ACT> , <SPAT>Pastourelle, <CARDINAL>32</CARDINAL></SPAT>.\n",
      "\n",
      "<PER>Gaut-Guignery</PER>, <ACT>peintre et verniss. sur métaux</ACT>,<SPAT><LOC> ",
      "Grange-aux-Belles</LOC>, <CARDINAL>12</CARDINAL></SPAT>.\n",
      "\n",
      "<PER>Gauté (Mme</PER>), <ACT>corsets</ACT>, <SPAT><LOC>Chaussée-d&amp;apos;Antin</LOC>,<CARDINAL> ",
      "44</CARDINAL></SPAT>.\n",
      "\n",
      "<PER>Goutereau</PER>, <ACT>sous-chef de bureau à la préfec- ",
      "ture dela <LOC>šer ",
      "Č</LOC>.</ACT>\n",
      "\n",
      "<PER>Gautet (Mme</PER>), <ACT>chemises, cols et cravates</ACT>, <SPAT><LOC>Pal. ",
      "National, gal. Beaujolais</LOC>, <CARDINAL>94</CARDINAL></SPAT>.\n",
      "\n",
      "<PER>Gauthé</PER>, <ACT>sellier-carrossier</ACT>, <SPAT><LOC>Roquépine</LOC>,<CARDINAL> ",
      "7</CARDINAL></SPAT>.\n",
      "\n",
      "<PER>Gautheret</PER>, <ACT>papetier</ACT>, <SPAT><LOC>Laffitte</LOC>, <CARDINAL>45</CARDINAL></SPAT>.\n",
      "\n",
      "<PER>Gautherin</PER> , <ACT>serrurier en bâtiments</ACT>, <SPAT><LOC>passage ",
      "Tivoli</LOC>, <CARDINAL>20</CARDINAL></SPAT>.\n",
      "\n",
      "<PER>Gautheron</PER>, <ACT>épicier</ACT>, <SPAT><LOC>St-Honoré</LOC>, 23</SPAT>2\n",
      "\n",
      "<PER>Gauthey</PER>, <ACT>limonadier</ACT>, <SPAT><LOC>Poterie des Arcis</LOC>, <CARDINAL>16</CARDINAL></SPAT>.\n",
      "\n",
      "<PER>Gauthier (L.),</PER> <DESC>avocat à la cour d&amp;apos;appel</DESC>, <SPAT><LOC>Tré- ",
      "vise</LOC>, <CARDINAL>43</CARDINAL></SPAT>.\n",
      "\n",
      "<PER>Gauthier</PER>, <ACT>avoc.</ACT> <DESC>à la cour d&amp;apos;appel</DESC><SPAT>, <LOC>Lavoisier, ",
      "ZS</LOC>.</SPAT>\n",
      "\n",
      "<PER>Gauthier s</PER>, <ACT>architecte du gouvernement, ",
      "membre de l</ACT>&amp;<ACT>apos;Institut</ACT>, <SPAT><LOC>St-Georges</LOC>, <CARDINAL>5</CARDINAL></SPAT>.\n",
      "\n",
      "<PER>Gauthier</PER>, <ACT>boucher</ACT>, <SPAT><LOC>St-Denis</LOC>, <CARDINAL>387</CARDINAL></SPAT>.\n",
      "\n",
      "<PER>Gauthier</PER>, <ACT>boulanger</ACT>, <SPAT><LOC>Loursine</LOC>, <CARDINAL>89</CARDINAL></SPAT>.\n",
      "\n",
      "<PER>Gauthier</PER>, <ACT>boulanger</ACT>, <SPAT><LOC>St-Denis</LOC>, <CARDINAL>270</CARDINAL></SPAT>.\n",
      "\n",
      "<PER>Gauthier</PER>, <ACT>charpentier</ACT>, <SPAT><LOC>Chaudron</LOC>, <CARDINAL>10</CARDINAL></SPAT>.\n",
      "\n",
      "<PER>Gauthier, (aveugle),</PER> <ACT>chef-d&amp;apos;orchestre</ACT>, <SPAT><LOC>boulv. ",
      "des Invalides</LOC>, <CARDINAL>56</CARDINAL></SPAT>.\n",
      "\n",
      "<PER>Gauthier (Ch. ),</PER> <ACT>ciseleur en pendules</ACT>, <SPAT><LOC>Bourg- ",
      "Labbé</LOC>, <CARDINAL>16</CARDINAL></SPAT>.\n",
      "\n",
      "<PER>Gauthier</PER>, <ACT>coiffeur</ACT>, <SPAT><LOC>Bourbon-Villeneuve</LOC>, <CARDINAL>63</CARDINAL></SPAT>.\n",
      "\n",
      "<PER>Gauthier ",
      "Mme ",
      "couturière</PER>, <SPAT><LOC>Victoires</LOC>, <CARDINAL>73</CARDINAL></SPAT>.\n",
      "\n",
      "<PER>Gauthier (J.),</PER> <ACT>fabricant de cuirs vernis</ACT>,<SPAT><LOC> ",
      "Faub.-Montmartre</LOC>, <CARDINAL>4</CARDINAL></SPAT>.\n",
      "\n",
      "<PER>Gauthier frères</PER>, <ACT>cylindres canneles et articles ",
      "pour filatures</ACT>, <SPAT><LOC>Pavée-St-Sauveur</LOC>, <CARDINAL>3</CARDINAL></SPAT>.\n",
      "\n",
      "<PER>Gauthier fils</PER>, <ACT>emballeur</ACT>, <SPAT><LOC>Echiquier</LOC> <CARDINAL>32</CARDINAL></SPAT>.\n",
      "\n",
      "<PER>Gauthier</PER>, <ACT>horticulteur</ACT>. <SPAT><LOC>Beaune,</LOC><CARDINAL>57</CARDINAL> <LOC>à Belleville</LOC></SPAT>.&amp;quot;\n",
      "\n",
      "<PER>Gauthier</PER>, <ACT>horloger</ACT>, <SPAT><LOC>place de la Bourse</LOC>, <CARDINAL>12</CARDINAL></SPAT>.\n",
      "\n",
      "<PER>Gauthier</PER>, <ACT>hôtel du Mont-d&amp;apos;Or</ACT>, <SPAT><LOC>Viarmes</LOC>, <CARDINAL>14</CARDINAL></SPAT>.\n",
      "\n",
      "<PER>Gauthier</PER>, <ACT>jardinier-fleuriste</ACT>, <SPAT><LOC>av. Suffren</LOC>, <CARDINAL>20</CARDINAL></SPAT>.\n",
      "\n"
     ]
    },
    {
     "name": "stdout",
     "output_type": "stream",
     "text": [
      "<PER>Gauthier</PER>, <ACT>layetier</ACT>, <SPAT><LOC>Neuve-St-Laurent</LOC>, <CARDINAL>3</CARDINAL></SPAT>.\n",
      "\n",
      "<PER>Gauthier ",
      "Ve</PER><ACT> ",
      "limonadier</ACT>, <SPAT><LOC>jardin des Tuileries</LOC></SPAT>.\n",
      "\n",
      "<PER>Gauthier (Mme</PER> ",
      ", <ACT>maison meublée</ACT>, <SPAT><LOC>Duphot</LOC>,<CARDINAL> ",
      "I</CARDINAL></SPAT>.\n",
      "\n",
      "<PER>Gauthier</PER>, <ACT>menuisier en bâtiments</ACT>, <SPAT><LOC>Faub.-St- ",
      "Antoine</LOC>, <CARDINAL>21</CARDINAL></SPAT>.\n",
      "\n",
      "<PER>Gauthier</PER>, <ACT>négoc.</ACT> , <SPAT><LOC>Fontaines-du-Temple</LOC>. <CARDINAL>11</CARDINAL></SPAT>.&amp;quot;\n",
      "\n",
      "<PER>Gauthier</PER>, <ACT>pâtissier</ACT>, <SPAT><LOC>place des Vosges</LOC>, <CARDINAL>25</CARDINAL></SPAT>.\n",
      "\n",
      "<PER>Gauthier</PER>, <ACT>peintre-artiste</ACT>, <SPAT><LOC>Chérubini</LOC>, <CARDINAL>1.</CARDINAL></SPAT>\n",
      "\n",
      "<PER>Gauthier</PER>, <ACT>entrepreneur de peinture en bâti- ",
      "ments</ACT>, <SPAT><LOC>Réforme</LOC>, <CARDINAL>13</CARDINAL></SPAT>.\n",
      "\n",
      "<PER>Gauthier</PER>, <ACT>peintre en bâtiments</ACT>, <SPAT><LOC>St-Antoine</LOC>,<CARDINAL> ",
      "35</CARDINAL></SPAT>.\n",
      "\n",
      "<PER>Gauthier fils</PER>, <ACT>fab. de presses</ACT>, <SPAT><LOC>Parcheminerie</LOC>,<CARDINAL> ",
      "I</CARDINAL></SPAT>\n",
      "\n",
      "<PER>Gauthier</PER>, <ACT>propriétaire</ACT>, <SPAT><LOC>St�Lazare</LOC>, <CARDINAL>119</CARDINAL></SPAT>.\n",
      "\n",
      "<PER>Gauthier jeune</PER>, <ACT>quincaillerie et serrurerie</ACT>,<SPAT><LOC> ",
      "Michel-le-Comte</LOC>, <CARDINAL>23</CARDINAL></SPAT>.\n",
      "\n",
      "<PER>Gauthier</PER>, <ACT>receveur de l</ACT>&amp;apos<ACT>;enreg</ACT>., <SPAT><LOC>Louvois</LOC>, <CARDINAL>8</CARDINAL></SPAT>.\n",
      "\n",
      "<PER>Gauthier (Emile</PER>), <ACT>redacteur en chef du jour- ",
      "nal la Semaine</ACT>, <SPAT><LOC>Ste-Anne</LOC>, <CARDINAL>51 bis</CARDINAL></SPAT>.*)\n",
      "\n",
      "<PER>Gauthier</PER>, <ACT>restaurant</ACT>, <SPAT><LOC>Harpe</LOC><CARDINAL>,59</CARDINAL></SPAT>.\n",
      "\n",
      "<PER>Gauthier</PER>, <ACT>restaurateur</ACT>, <SPAT><LOC>Bouloi</LOC>, <CARDINAL>22</CARDINAL></SPAT>.\n",
      "\n",
      "<PER>Gauthier et Lemarchand</PER>, <ACT>scieurs de bois à la ",
      "mécanique</ACT>, <SPAT><LOC>Faub.-St-Antoine</LOC>, <CARDINAL>115</CARDINAL> et <CARDINAL>117</CARDINAL></SPAT>, et<SPAT><LOC> ",
      "rue de Charonne</LOC>, <CARDINAL>36</CARDINAL> et <CARDINAL>38</CARDINAL></SPAT>.\n",
      "\n",
      "<PER>Gauthier</PER>, <ACT>sellier-charron-carrossier</ACT>, <SPAT><LOC>boul. de ",
      "l</LOC></SPAT><ACT>&amp;</ACT><SPAT><LOC>apos;Hôpital</LOC>, <CARDINAL>60</CARDINAL></SPAT>.\n",
      "\n",
      "<PER>Gauthier</PER>, <ACT>sous-directeur aux Finances</ACT>, <SPAT><LOC>Pon- ",
      "thieu</LOC>, <CARDINAL>14</CARDINAL></SPAT>.\n",
      "\n",
      "<PER>Gauthier</PER>, <ACT>tailleur</ACT>, <SPAT><LOC>Vivienne</LOC>, <CARDINAL>2</CARDINAL></SPAT>.\n",
      "\n",
      "<PER>Gauthier</PER>, <ACT>tourneur en chaises et fauteuils</ACT>,<SPAT><LOC> ",
      "Cherche-Midi</LOC>, <CARDINAL>29</CARDINAL></SPAT>.\n",
      "\n",
      "<PER>Gauthier</PER>, <ACT>traiteur</ACT>, <SPAT><LOC>Mauconseil</LOC>, <CARDINAL>35</CARDINAL></SPAT>.\n",
      "\n",
      "<PER>Gauthier (Mme ",
      ",</PER><ACT>vins</ACT>, <SPAT><LOC>Mandar</LOC>, <CARDINAL>10</CARDINAL></SPAT>.\n",
      "\n",
      "<PER>Gauthier</PER>, <ACT>vins</ACT>, <SPAT><LOC>pl. Baudoyer</LOC>, <CARDINAL>6</CARDINAL></SPAT>.\n",
      "\n",
      "<PER>Gauthier</PER>, <ACT>vins</ACT>, <SPAT>Roi-de-Sicile</SPAT>, et <SPAT>Pavée, <CARDINAL>1.</CARDINAL></SPAT>\n",
      "\n",
      "<PER>Gauthier</PER>, <ACT>vins</ACT>, <SPAT><LOC>Mouffetard</LOC>, <CARDINAL>240</CARDINAL></SPAT>.\n",
      "\n",
      "<PER>Gauthier</PER>, <ACT>vins</ACT>, <SPAT><LOC>Faub.-St-Martin</LOC>, <CARDINAL>121,</CARDINAL></SPAT> et <SPAT><LOC>Fidé- ",
      "lité</LOC>, <CARDINAL>2</CARDINAL></SPAT>.\n",
      "\n",
      "<PER>Gauthier</PER>, <ACT>vins</ACT>, <SPAT><LOC>Berry au Marais</LOC>, <CARDINAL>12</CARDINAL></SPAT>.\n",
      "\n",
      "<PER>Gauthier</PER>, <ACT>vins</ACT>, <SPAT><LOC>cour Lamoignon</LOC>, <CARDINAL>8</CARDINAL></SPAT>.\n",
      "\n",
      "<PER>Gauthier de Charnacé</PER>, <ACT>juge au trib. de 1re ins- ",
      "tance</ACT>, <SPAT><LOC>Nve-St-Paul</LOC>, <CARDINAL>15</CARDINAL></SPAT>.\n",
      "\n",
      "<PER>Gauthier-d&amp;apos;Hauteserve, O. <CARDINAL>2</CARDINAL></PER>, <ACT>ancien adminis- ",
      "trateur de l</ACT>&amp;<ACT>apos;octroi de Paris</ACT>, <SPAT><LOC>St-Georges</LOC>, <CARDINAL>7</CARDINAL></SPAT>.\n",
      "\n",
      "<PER>Gauthier-la-Chapelle</PER>, <DESC>avocat à la cour d</DESC>&amp;<DESC>apos;appel</DESC>,<SPAT><LOC> ",
      "Odeon</LOC>, <CARDINAL>31 bis</CARDINAL></SPAT>.\n",
      "\n",
      "<PER>Gauthier-Deville</PER>, <ACT>tailleur</ACT>, <SPAT><LOC>Coquillière</LOC>, <CARDINAL>32</CARDINAL></SPAT>.\n",
      "\n",
      "<PER>Gauthier-Horcholle</PER>, <ACT>robes</ACT>, <SPAT>Vivienne, <CARDINAL>2</CARDINAL></SPAT>.\n",
      "\n",
      "<PER>Gauthier et Isnard</PER>, <ACT>fab. de colliers pour che— ",
      "vaux</ACT>, <SPAT><LOC>pass. Saulnier</LOC>, <CARDINAL>10</CARDINAL></SPAT>.\n",
      "\n",
      "<PER>Gauthier, Rey et Ducrot</PER>, <ACT>fab. de plaques de ",
      "cornes</ACT>, <SPAT><LOC>boul. de Belleville</LOC>, <CARDINAL>9</CARDINAL></SPAT>, hors. barrière.\n",
      "\n",
      "<PER>Gauthrin (A.]</PER>, <ACT>négt-armateur</ACT>, <SPAT><LOC>Fontaine-du- ",
      "Temple</LOC>, <CARDINAL>16</CARDINAL></SPAT>.\n",
      "\n",
      "<PER>Gauthrot</PER>, <ACT>vins</ACT>, <SPAT><LOC>Bernardins</LOC>, <CARDINAL>9</CARDINAL></SPAT>.\n",
      "\n",
      "<PER>Gautier aîné</PER>, <ACT>affineur de métaux et fondeur de ",
      "cendres</ACT>, <SPAT><LOC>Basfroid</LOC>, <CARDINAL>18</CARDINAL></SPAT>.\n",
      "\n",
      "<PER>Gautier</PER>, <ACT>architecte</ACT>, <SPAT><LOC>Université</LOC>. <CARDINAL>34</CARDINAL></SPAT>.\n",
      "\n",
      "<PER>Gautier (Scipion ",
      "),</PER> <ACT>ancien nég.</ACT>, <SPAT><LOC>Trévise</LOC>, <CARDINAL>34</CARDINAL></SPAT>.\n",
      "\n",
      "<PER>Gautier (A. ),</PER> <DESC>avocat à la cour d</DESC>&amp;<DESC>apos;appel</DESC>, <SPAT><LOC>Fey- ",
      "deau</LOC>,<CARDINAL> ",
      "24</CARDINAL></SPAT><DESC>.</DESC>\n",
      "\n",
      "<PER>Gautier</PER>, <ACT>bains à vap.</ACT>, <SPAT><LOC>Monsieur-le-Prince</LOC>, <CARDINAL>27</CARDINAL></SPAT>.\n",
      "\n",
      "<PER>Gautier (F.</PER>), <ACT>bijouterie et horlogerie</ACT>, <SPAT><LOC>Fosses- ",
      "Montmartre</LOC>, <CARDINAL>3</CARDINAL></SPAT>.\n",
      "\n",
      "<PER>Gautier</PER>, <ACT>boucher</ACT>, <SPAT><LOC>Dauphine</LOC>, <CARDINAL>31</CARDINAL></SPAT>.\n",
      "\n",
      "<PER>Gauthier</PER>, <ACT>fab. de chocolats.</ACT> <SPAT>St-Dominiques, <CARDINAL>74</CARDINAL></SPAT>.\n",
      "\n",
      "<PER>Gautier</PER>, <ACT>commissionn. en quincaillerie</ACT>, <SPAT><LOC>En- ",
      "fants-Rouges</LOC>, <CARDINAL>9</CARDINAL></SPAT>.\n",
      "\n",
      "<PER>Gautier</PER>, <ACT>dentiste</ACT>, <SPAT><LOC>Caire</LOC>, <CARDINAL>24</CARDINAL></SPAT>\n",
      "\n",
      "<PER>Gautier</PER>, <ACT>épicier</ACT>, <SPAT><LOC>St-Honore</LOC>, <CARDINAL>24</CARDINAL></SPAT>.\n",
      "\n",
      "<PER>Gautier</PER>, <ACT>épicier</ACT>, <SPAT><LOC>Bellechasse</LOC>, <CARDINAL>23</CARDINAL></SPAT>, et <SPAT><LOC>St-Domi- ",
      "nique</LOC>, <CARDINAL>74</CARDINAL></SPAT>.\n",
      "\n",
      "<PER>Gauthier et Rethers</PER>, <ACT>fab. de gainerie</ACT>, <SPAT><LOC>Page- ",
      "vin</LOC>, <CARDINAL>10</CARDINAL></SPAT>.\n",
      "\n",
      "<PER>Gautier aîné</PER>, <ACT>gainier</ACT>, <SPAT><LOC>Grenétat, I</LOC> <CARDINAL>I</CARDINAL></SPAT>,\n",
      "\n",
      "<PER>Gautier</PER>, <ACT>h. garni de Sully</ACT>, <SPAT><LOC>Convention</LOC>, <CARDINAL>6</CARDINAL></SPAT>.\n",
      "\n",
      "<PER>Gautier jeune</PER>, <ACT>huile en gros</ACT>, <SPAT><LOC>Vieille-du-Tem- ",
      "ple</LOC>, <CARDINAL>3</CARDINAL></SPAT>.\n",
      "\n",
      "<PER>Gautier (J. L.),</PER> <ACT>interprète assermenté</ACT>, <SPAT><LOC>Anjou- ",
      "St-Honoré</LOC>, <CARDINAL>58</CARDINAL></SPAT>.\n",
      "\n",
      "<PER>Gautier</PER>, <ACT>imprim.-lithog.</ACT>, <SPAT><LOC>pass. Choiseul</LOC>, <CARDINAL>67</CARDINAL></SPAT>.\n",
      "\n",
      "<PER>Gautier</PER>, <ACT>laines, literie</ACT>, <SPAT><LOC>Chanoinesse</LOC>, <CARDINAL>26</CARDINAL></SPAT>.\n",
      "\n",
      "<PER>Gautier</PER>, <ACT>médecin</ACT>, <SPAT><LOC>Sentier</LOC>, <CARDINAL>13</CARDINAL></SPAT>.\n",
      "\n",
      "<PER>Gautier</PER>, <ACT>médecin</ACT>, <SPAT><LOC>Ste-Anne</LOC>, <CARDINAL>22</CARDINAL></SPAT>.\n",
      "\n",
      "<PER>Gautier (Mme ",
      "modes</PER>, <SPAT><LOC>Vivienne</LOC>, <CARDINAL>7</CARDINAL></SPAT>.\n",
      "\n",
      "<PER>Gautier</PER>, <ACT>morceaux de drap et literie</ACT>, <SPAT><LOC>Tonnel- ",
      "leriè</LOC>, <CARDINAL>33</CARDINAL></SPAT>.\n",
      "\n",
      "<PER>Gautier</PER>, <ACT>fab. de montures de parapluies, et ",
      "parapluies</ACT>, <SPAT><LOC>Grenétat</LOC>, <CARDINAL>2</CARDINAL>, <LOC>pass. St-Denis</LOC></SPAT>.\n",
      "\n",
      "<PER>Gautier aîné</PER>, <ACT>pâtissier</ACT>, <SPAT><LOC>pass. Choiseul</LOC>, <CARDINAL>61</CARDINAL></SPAT>.\n",
      "\n",
      "<PER>Gautier</PER>, <ACT>peintre en bâtiments</ACT>, <SPAT><LOC>Jeannisson</LOC>, <CARDINAL>15</CARDINAL></SPAT>.\n",
      "\n",
      "<PER>Gautier (J.),</PER> <ACT>pharmacien-herboriste</ACT>, <SPAT><LOC>Quatre- ",
      "Vents</LOC>, <CARDINAL>16</CARDINAL></SPAT>.\n",
      "\n",
      "<PER>Gautier et Fortier</PER>, <ACT>fab. de produits chimiques</ACT>,<SPAT><LOC> ",
      "St-Maur-Popincourt</LOC>, <CARDINAL>219</CARDINAL></SPAT>.\n",
      "\n",
      "<PER>Gautier</PER>, <ACT>propriétaire</ACT>, <SPAT><LOC>Ferme</LOC>, <CARDINAL>18</CARDINAL></SPAT>.\n",
      "\n"
     ]
    },
    {
     "name": "stdout",
     "output_type": "stream",
     "text": [
      "<PER>Gautier, (</PER><SPAT>Mme ",
      " pro<LOC>pr. Rambuteau</LOC>, <CARDINAL>124</CARDINAL></SPAT>.\n",
      "\n",
      "<PER>Gautier (J.-L.),</PER> <ACT>proprietaire</ACT>, <SPAT><LOC>Bonnefond</LOC>, <CARDINAL>32</CARDINAL></SPAT>.\n",
      "\n",
      "<PER>Gautier</PER>, <ACT>quincaillier</ACT>, <SPAT><LOC>Montholon</LOC>, <CARDINAL>37</CARDINAL></SPAT>.\n",
      "\n",
      "<PER>Gautier</PER>, <ACT>tabletier</ACT>, <SPAT><LOC>Ancienne-Comédie</LOC>, <CARDINAL>14</CARDINAL></SPAT>.\n",
      "\n",
      "<PER>Gautier (L.),</PER> <ACT>taillandier-quincaillier</ACT>, <SPAT>Bar-du- ",
      "Bec, <CARDINAL>10</CARDINAL> et <CARDINAL>12</CARDINAL></SPAT>*\n",
      "\n",
      "<PER>Gautier</PER>, <ACT>tailleur</ACT>, <SPAT><LOC>Ventadour</LOC>, <CARDINAL>8</CARDINAL></SPAT>.\n",
      "\n",
      "<PER>Gautier</PER>, <ACT>md. tailleur</ACT>, <SPAT><LOC>Cotte.</LOC> <CARDINAL>30</CARDINAL></SPAT>.\n",
      "\n",
      "<PER>Gautier,</PER> <ACT>tonnelier</ACT>, <SPAT><LOC>Phelippeaux</LOC>, <CARDINAL>28</CARDINAL></SPAT>.\n",
      "\n",
      "<PER>Gautier (A.),</PER> <ACT>fab. de jeux, tabletterie en gé- ",
      "néral</ACT>, <SPAT>St-Martin, <CARDINAL>255</CARDINAL></SPAT>.\n",
      "\n",
      "<PER>Gautier</PER>, <ACT>vitrier-peintre</ACT>, <SPAT><LOC>Parc-au-Marais</LOC>, <CARDINAL>4</CARDINAL></SPAT>.\n",
      "\n",
      "<PER>Gautier-Dagoty X</PER>, <ACT>chef de division au minis- ",
      "tère des trav. publics</ACT>, <SPAT><LOC>Tournon</LOC>, <CARDINAL>14</CARDINAL></SPAT>.\n",
      "\n",
      "<PER>Gautier-Dalechamp</PER><ACT>s</ACT>, <ACT>blondes et dentelles</ACT>,<SPAT><LOC> ",
      "N. -D. -des-Victoires</LOC>, <CARDINAL>36</CARDINAL></SPAT>.\n",
      "\n",
      "<PER>Gautier-Bouchard</PER>, <ACT>neg.-droguistes, couleurs,</ACT><SPAT> ",
      "cranderie. <CARDINAL>41</CARDINAL></SPAT>.\n",
      "\n",
      "<PER>Gautier d&amp;apos;Uzerche. O.</PER> . <SPAT><LOC>Bac</LOC>, <CARDINAL>86</CARDINAL></SPAT>.\n",
      "\n",
      "<PER>Gautray</PER>, <ACT>empl. à la ville</ACT>, <SPAT><LOC>Faub. -St-Honoré</LOC> <CARDINAL>70</CARDINAL></SPAT>.\n",
      "\n",
      "<PER>Gautreau</PER>, <SPAT><LOC>Arcades</LOC>, <CARDINAL>55</CARDINAL></SPAT>.\n",
      "\n",
      "<PER>Gautrin</PER>, <ACT>épicier</ACT>, <SPAT><LOC>Faub.-St-Antoine</LOC>, <CARDINAL>207</CARDINAL></SPAT>.\n",
      "\n",
      "<PER>Gautrin</PER>, <ACT>maraicher</ACT>, <SPAT><LOC>St-Maur-Popincourt</LOC>, 22</SPAT>4.\n",
      "\n",
      "<PER>Gautrin (F.</PER>), <ACT>serrurier en bâtiments</ACT>, <SPAT><LOC>Argen- ",
      "teuil</LOC>, <CARDINAL>37</CARDINAL></SPAT>.\n",
      "\n",
      "<PER>Gautron, dit Grassot</PER>, <ACT>boulanger</ACT>, <SPAT><LOC>Orléans-St- ",
      "Marcel</LOC>, <CARDINAL>23</CARDINAL></SPAT>.\n",
      "\n",
      "<PER>Gautron</PER>, <ACT>coiffeur</ACT>, <SPAT><LOC>Savonnerie</LOC>, <CARDINAL>1.</CARDINAL></SPAT>\n",
      "\n",
      "<PER>Gautron</PER>, <ACT>mécanicien</ACT>, <SPAT><LOC>Grenétat</LOC>, <CARDINAL>16</CARDINAL></SPAT>.\n",
      "\n",
      "<PER>Gautron dit Grassot (Mme</PER>), <ACT>modes</ACT>, <SPAT><LOC>Orléans- ",
      "St-Marcel</LOC>, <CARDINAL>25</CARDINAL></SPAT>.\n",
      "\n",
      "<PER>Gautron</PER>, <ACT>vermicelle</ACT>, <SPAT><LOC>Grande Tuanderie</LOC>,<CARDINAL> ",
      "15</CARDINAL></SPAT>.\n",
      "\n",
      "<PER>Gautrot (P. J.).</PER> <ACT>administrateur général du ",
      "Mandataire des contribuables</ACT>, <SPAT><LOC>Drouot</LOC>, <CARDINAL>1</CARDINAL> et <CARDINAL>3</CARDINAL></SPAT>.\n",
      "\n",
      "<PER>Gautrot ainé et Cie</PER>, <ACT>fab. d</ACT>&amp;<ACT>apos;instruments de mu- ",
      "sique</ACT>, <SPAT><LOC>St-Louis-Marais</LOC>, <CARDINAL>60</CARDINAL></SPAT>.\n",
      "\n",
      "<PER>Gautrot et Foubert</PER>, <ACT>fab. de bronzes</ACT>, <SPAT><LOC>Saint- ",
      "Louis-Marais</LOC>, <CARDINAL>65</CARDINAL></SPAT>.\n",
      "\n",
      "<PER>Gautruche</PER>, <ACT>vins</ACT>, <SPAT><LOC>Quincampoix</LOC>, <CARDINAL>23</CARDINAL> et <CARDINAL>26</CARDINAL></SPAT>.\n",
      "\n",
      "<PER>Gautry</PER>, <ACT>gants</ACT>, <SPAT><LOC>Rivoli</LOC>, <CARDINAL>28 bis</CARDINAL></SPAT>.\n",
      "\n",
      "<PER>Gauvain</PER>, <ACT>arquebusier, tient tir</ACT>, <SPAT><LOC>boul. Mont- ",
      "Parnasse</LOC>, <CARDINAL>93</CARDINAL></SPAT>.\n",
      "\n",
      "<PER>Gauvain</PER>, <ACT>chaussures pour dames</ACT>, <SPAT><LOC>Faub.-St- ",
      "Denis</LOC>, <CARDINAL>35</CARDINAL></SPAT>.\n",
      "\n",
      "<PER>Gauvain ",
      "(Mme ",
      "libraire</PER>, <SPAT><LOC>St-Antoine</LOC>, <CARDINAL>177</CARDINAL></SPAT>,\n",
      "\n",
      "<PER>Gauvin</PER>, <ACT>objets d</ACT>&amp;<ACT>apos;arts en plâtre</ACT>, <SPAT><LOC>passage des ",
      "Panoramas, galerie des Variétés</LOC>, <CARDINAL>5</CARDINAL></SPAT>.\n",
      "\n",
      "<PER>Gauvin</PER>, <ACT>ebeniste</ACT>, <SPAT><LOC>Suresne</LOC>, <CARDINAL>8</CARDINAL></SPAT>.\n",
      "\n",
      "<PER>Gauvin</PER>, <ACT>lapidaire et bombeur de verres</ACT>, <SPAT><LOC>Trans- ",
      "nonain</LOC>, <CARDINAL>40</CARDINAL></SPAT>.\n",
      "\n",
      "<PER>Gauvin (Mlle</PER>), <ACT>lingerie</ACT>, <SPAT><LOC>Petites-Ecuries</LOC>, <CARDINAL>40</CARDINAL></SPAT>.\n",
      "\n",
      "<PER>Gauwin (Aug</PER>), <ACT>bonneterie</ACT>, <SPAT><LOC>Ferme</LOC>, <CARDINAL>56</CARDINAL></SPAT>.\n",
      "\n",
      "<PER>Gauzy</PER>, <ACT>coiffeur</ACT>, <SPAT><LOC>Harpe</LOC>, <CARDINAL>108</CARDINAL></SPAT>.\n",
      "\n",
      "<PER>Gavalda</PER>, <ACT>serrurier en bâtiments</ACT>, <SPAT><LOC>Lanery</LOC>, <CARDINAL>29</CARDINAL></SPAT>.\n",
      "\n",
      "<PER>Gavard (Ch.) *</PER>, <ACT>editeur des Galeries histo- ",
      "riques de Versailles</ACT>, <SPAT><LOC>Verneuil</LOC>, <CARDINAL>34</CARDINAL></SPAT>.\n",
      "\n",
      "<PER>Gavard Adrien),</PER> <ACT>fab. d</ACT>&amp;<ACT>apos;instruments de mathé- ",
      "matiques</ACT>, <SPAT><LOC>quai de l</LOC></SPAT>&amp;<SPAT><LOC>apos;Horloge</LOC>, <CARDINAL>9</CARDINAL></SPAT>.\n",
      "\n",
      "<PER>Gavard</PER>, <ACT>fab. de plaques de parapluies</ACT>, <SPAT><LOC>Neuve ",
      "St-Martin</LOC>, <CARDINAL>25</CARDINAL></SPAT>.\n",
      "\n",
      "<PER>Gavard</PER>, <ACT>teinturier-dégraisseur</ACT>, <SPAT><LOC>Paradis-Pois- ",
      "sonnière</LOC>, <CARDINAL>2</CARDINAL></SPAT>.\n",
      "\n",
      "<PER>Gavarni</PER>, <ACT>art.-peintre</ACT>, <SPAT><LOC>au Point-du-Jour</LOC></SPAT>.\n",
      "\n",
      "<PER>Gavarret</PER>, <ACT>représentant du peuple (Gers</ACT>), <SPAT><LOC>Gre- ",
      "nelle-St-Germain</LOC>, <CARDINAL>89</CARDINAL></SPAT>.\n",
      "\n",
      "<PER>Gavarry</PER>, <ACT>imprim. en taille-douce</ACT>, <SPAT><LOC>Palais-Natio- ",
      "nal, gal. de Nemours</LOC>, <CARDINAL>19</CARDINAL>, <CARDINAL>20</CARDINAL>, 21 et 22</SPAT>\n",
      "\n",
      "<PER>Gavary</PER>, <ACT>tabac</ACT>, <SPAT><LOC>Boulv. Poissonnière</LOC>, <CARDINAL>24</CARDINAL></SPAT>.\n",
      "\n",
      "<PER>Gavault</PER>, <ACT>anc. avoué</ACT>, <SPAT><LOC>Victoires</LOC>, <CARDINAL>73</CARDINAL></SPAT>.\n",
      "\n",
      "<PER>Gaveau</PER>, <ACT>facteur et accordeur de pianos</ACT>, <SPAT><LOC>Faub. ",
      "du Temple</LOC>, <CARDINAL>34</CARDINAL></SPAT>.\n",
      "\n",
      "<PER>Gaveau ainé (Ve</PER>), <ACT>quincaillerie et clouterie</ACT>,<SPAT><LOC> ",
      "Faub.-St-Martin</LOC>, <CARDINAL>188</CARDINAL></SPAT>.\n",
      "\n",
      "<PER>Gaveau jeune</PER>, <ACT>mouchoirs de poche</ACT>, <SPAT><LOC>Mauvaises- ",
      "Paroles</LOC>, <CARDINAL>9</CARDINAL></SPAT>.\n",
      "\n",
      "<PER>Gaveau</PER>, <ACT>serrurier</ACT>, <SPAT><LOC>Caumartin</LOC>, <CARDINAL>49</CARDINAL></SPAT>.\n",
      "\n",
      "<PER>Gaveau</PER>, <ACT>serrurier en batiments</ACT>, <SPAT><LOC>Courcelles</LOC>,<CARDINAL> ",
      "1.</CARDINAL></SPAT>\n",
      "\n",
      "<PER>Gaveau</PER>, <ACT>vins</ACT>, <SPAT><LOC>Ferronnerie</LOC>, <CARDINAL>29</CARDINAL></SPAT>.\n",
      "\n",
      "<PER>Gaveau</PER>, <ACT>vins</ACT>, <SPAT><LOC>Pavée St-Sauveur</LOC>, <CARDINAL>7</CARDINAL></SPAT>.\n",
      "\n",
      "<PER>Gaveaux et Nicolais</PER> , <ACT>fabr. de presses d</ACT>&amp;<ACT>apos;impri- ",
      "merie</ACT>, <SPAT><LOC>Traverse</LOC>, <CARDINAL>21</CARDINAL> et <CARDINAL>23</CARDINAL></SPAT>.&amp;quot;\n",
      "\n",
      "<PER>Gaveaux</PER>, <ACT>vins</ACT><SPAT>, <LOC>Française</LOC>, I</SPAT>\n",
      "\n",
      "<PER>Gaveaux</PER>, <ACT>prof. de chant</ACT>, <SPAT><LOC>Vanneau</LOC>, <CARDINAL>80</CARDINAL></SPAT>.\n",
      "\n",
      "<PER>Gavelle</PER> , <ACT>rentier</ACT>, <SPAT><LOC>Grange Batelière</LOC>, <CARDINAL>12</CARDINAL></SPAT>.\n",
      "\n",
      "<PER>Gavelot (L.)</PER> <ACT>giaçage et satinage de papiers</ACT>,<SPAT><LOC> ",
      "Bons-Enfants</LOC>, <CARDINAL>26</CARDINAL></SPAT>.\n",
      "\n",
      "<PER>Gavelot (J.) jeune</PER>, <ACT>commissionn. en librairie ",
      "pour l</ACT>&amp;<ACT>apos;étranger</ACT>, <SPAT><LOC>Bons-Enfants</LOC>, <CARDINAL>26</CARDINAL></SPAT>.\n",
      "\n",
      "<PER>Gaverelle</PER>, <ACT>architecte-vérificateur</ACT>, <SPAT><LOC>Vieille-du- ",
      "Temple</LOC>, <CARDINAL>98</CARDINAL></SPAT>.\n",
      "\n",
      "<PER>Gavet</PER>, <ACT>commiss.-priseur</ACT>, <SPAT><LOC>Notre-Dame-des-Vic- ",
      "toires</LOC>, <CARDINAL>42</CARDINAL></SPAT>.\n",
      "\n",
      "——<PER> ",
      "Gavet</PER>, <ACT>coutelier</ACT>, <SPAT><LOC>St-Honoré</LOC>, <CARDINAL>138</CARDINAL></SPAT>.\n",
      "\n",
      "<PER>Gavet</PER>, <ACT>fab. d</ACT>&amp;<ACT>apos;optique</ACT>, <SPAT><LOC>Gravilliers</LOC>, <CARDINAL>26</CARDINAL></SPAT>.\n",
      "\n",
      "<PER>Gavet</PER>, <ACT>peintre et propriétaire</ACT>, <SPAT><LOC>Croix-des-Pe- ",
      "tits-Champs</LOC>, <CARDINAL>31</CARDINAL></SPAT>.\n",
      "\n",
      "<PER>Gavignet (Mme)</PER> ",
      ", <ACT>layetier</ACT>, <SPAT><LOC>Amboise</LOC>, <CARDINAL>4</CARDINAL></SPAT>.\n",
      "\n",
      "<PER>Gavignot</PER>, <DESC>avoué à la c. d</DESC>&amp;<DESC>apos;appel</DESC>, <SPAT><LOC>Coq St-Ho- ",
      "nore</LOC>, <CARDINAL>5</CARDINAL></SPAT>.\n",
      "\n"
     ]
    },
    {
     "name": "stdout",
     "output_type": "stream",
     "text": [
      "—<PER> ",
      "Gavillon</PER>, <ACT>maréchal-expert</ACT>, <SPAT><LOC>Vaugirard</LOC>, 14</SPAT>3.\n",
      "\n",
      "<PER>Gavini (Denis),</PER> <ACT>représentant du peuple (Cor- ",
      "se</ACT>), <SPAT><LOC>Tronchet</LOC>, <CARDINAL>1.</CARDINAL></SPAT>\n",
      "\n",
      "<PER>Gavois</PER> , <ACT>vernisseur sur métaux</ACT>, <SPAT><LOC>Neuve-St- ",
      "Pierre</LOC>, <CARDINAL>12</CARDINAL></SPAT>.\n",
      "\n",
      "<PER>Gavory</PER>, <ACT>architecte</ACT>, <SPAT><LOC>quai St-Michel</LOC>, <CARDINAL>21</CARDINAL></SPAT>.\n",
      "\n",
      "<PER>Gavot, frères</PER>, <ACT>cartonniers</ACT>, <SPAT><LOC>Aumaire</LOC>, <CARDINAL>36</CARDINAL></SPAT>.\n",
      "\n",
      "<PER>Gavot</PER>, <ACT>vins</ACT>, <SPAT><LOC>Faub.-St-Antoine</LOC>, 13</SPAT>3.\n",
      "\n",
      "<PER>Gavoty (H. ),</PER> <ACT>agent de diverses fabriques</ACT>,<SPAT><LOC> ",
      "Enghien</LOC>, <CARDINAL>54</CARDINAL></SPAT>.\n",
      "\n",
      "<PER>Gavoty</PER>, <ACT>cuirs en gros</ACT>, <SPAT><LOC>Mauconseil</LOC>, <CARDINAL>31</CARDINAL></SPAT>.\n",
      "\n",
      "<PER>Gavoy</PER>, <ACT>pensionnat</ACT>, <SPAT><LOC>allée des Veuves</LOC>, <CARDINAL>34</CARDINAL></SPAT>.\n",
      "\n",
      "<PER>Gavrel</PER>, <ACT>peintre en bâtiments</ACT>, <SPAT><LOC>St-Méry</LOC>, <CARDINAL>48</CARDINAL></SPAT>, et<SPAT><LOC> ",
      "St-Martin</LOC>, <CARDINAL>30</CARDINAL></SPAT>.\n",
      "\n",
      "<PER>Vasselin</PER>, <ACT>ébeniste</ACT>, <SPAT><LOC>Charenton</LOC>, <CARDINAL>87</CARDINAL></SPAT>.\n",
      "\n",
      "<PER>Vasselin</PER>, <ACT>ébeniste</ACT>, <SPAT><LOC>Frochot</LOC>, <CARDINAL>1.</CARDINAL></SPAT>\n",
      "\n",
      "<PER>Vasselin</PER>, <ACT>ferblantier</ACT>, <SPAT>Ste-Foy, <CARDINAL>4</CARDINAL></SPAT>.\n",
      "\n",
      "<PER>Vasselin</PER>, <ACT>jardinier</ACT>, <SPAT><LOC>Roquette</LOC>, <CARDINAL>115</CARDINAL></SPAT>.\n",
      "\n",
      "<PER>Vasselon (E.),</PER> <ACT>dessinateur en nouveautés pour ",
      "rubans</ACT>, <SPAT><LOC>Palais-National, galerie Montpensier</LOC>,<CARDINAL> ",
      "18</CARDINAL></SPAT>.\n",
      "\n",
      "<PER>Vasset, O.</PER> , <ACT>ancien référendaire à la cour des ",
      "comptes</ACT>, <SPAT><LOC>Enfer</LOC>, <CARDINAL>102</CARDINAL></SPAT>.\n",
      "\n",
      "<PER>Vasset</PER>, <ACT>fabr. de chaises</ACT>, <SPAT><LOC>boulev. du Temple</LOC>,<CARDINAL> ",
      "43</CARDINAL></SPAT>\n",
      "\n",
      "<PER>Vasset</PER>, <ACT>mercerie et bonneterie</ACT>, <SPAT><LOC>Noyers</LOC>, <CARDINAL>15</CARDINAL></SPAT>.\n",
      "\n",
      "<PER>Vasseur</PER>, <ACT>charcutier</ACT>, <SPAT><LOC>Vieux-Marché-St-Mar- ",
      "tin</LOC>, <CARDINAL>16</CARDINAL></SPAT>, et <SPAT><LOC>Nationale</LOC>, <CARDINAL>2</CARDINAL></SPAT>.\n",
      "\n",
      "<PER>Vasseur ",
      "A.</PER> <ACT>coiffeur</ACT>, <SPAT><LOC>29-Juillet</LOC>, <CARDINAL>3</CARDINAL></SPAT>.\n",
      "\n",
      "<PER>Vasseur (Mme ",
      "corsets</PER>, <SPAT><LOC>boul. St-Denis</LOC>, <CARDINAL>1.</CARDINAL></SPAT>\n",
      "\n",
      "<PER>Vasseur</PER>, <ACT>courtier de commerce</ACT>, <SPAT><LOC>N.-D.-de-Lo- ",
      "rette</LOC>, <CARDINAL>18</CARDINAL></SPAT>.\n",
      "\n",
      "<PER>Vasseur</PER>, <ACT>épicier</ACT>, <SPAT><LOC>St-Dominique-St-Germain</LOC>,<CARDINAL> ",
      "52</CARDINAL></SPAT>, et <SPAT><LOC>Bac</LOC>, <CARDINAL>47</CARDINAL></SPAT>.\n",
      "\n",
      "<PER>Vasseur ",
      "Mlle</PER> ",
      ",<ACT>jouets</ACT>, <SPAT><LOC>Bac</LOC>, <CARDINAL>101</CARDINAL></SPAT>\n",
      "\n",
      "<PER>Vasseur</PER>, <ACT>laine et tapis</ACT>, <SPAT><LOC>St-Honoré</LOC>, 26</SPAT>2.\n",
      "\n",
      "<PER>Vasseur</PER>, <ACT>limonadier</ACT>, <SPAT><LOC>Londres</LOC>, <CARDINAL>1.</CARDINAL></SPAT>\n",
      "\n",
      "<PER>Vasseur (Vve) et Cie</PER>, <ACT>fabrique de lingeries et ",
      "nouveautés</ACT>, <SPAT><LOC>Mauconseil</LOC>, <CARDINAL>2</CARDINAL></SPAT>.\n",
      "\n",
      "<PER>Vasseur ",
      "(L.-H.),</PER> <ACT>médecin</ACT>, <SPAT><LOC>Bar-du-Bec</LOC>, <CARDINAL>9</CARDINAL></SPAT>.\n",
      "\n",
      "<PER>Vasseur ",
      "L. ",
      "&amp;quot;</PER><ACT>médecin</ACT>, <SPAT><LOC>Poitevins</LOC>, <CARDINAL>9</CARDINAL></SPAT>.\n",
      "\n",
      "<PER>Vasseur</PER>, <ACT>menuisier</ACT>, <SPAT><LOC>cloitre des Bernardins</LOC>,<CARDINAL> ",
      "II</CARDINAL></SPAT>.\n",
      "\n",
      "<PER>Vasseur</PER>, <ACT>menuisier</ACT>, <SPAT><LOC>Poissonnière</LOC>, <CARDINAL>23</CARDINAL></SPAT>.\n",
      "\n",
      "<PER>Vasseur</PER>, <ACT>naturaliste et anatomiste</ACT>, <SPAT><LOC>Sorbonne</LOC>,<CARDINAL> ",
      "18</CARDINAL></SPAT>.\n",
      "\n",
      "<PER>Vasseur</PER>, <ACT>professeur d</ACT>&amp;apos<ACT>;écriture</ACT>, <SPAT><LOC>Harpe</LOC>, <CARDINAL>26</CARDINAL></SPAT>.\n",
      "\n",
      "<PER>Vasseur</PER>, <ACT>représentant du peuple (Ardèche</ACT>), <SPAT><LOC>al- ",
      "lée d</LOC></SPAT>&amp;<SPAT><LOC>apos;Antin</LOC>, <CARDINAL>25</CARDINAL></SPAT>.\n",
      "\n",
      "<PER>Vasseur (Mme</PER>), <ACT>sage-femme</ACT>, <SPAT><LOC>Roi-de-Sicile</LOC>,<CARDINAL> ",
      "47</CARDINAL></SPAT>, et <SPAT><LOC>Vieille-du-Temple</LOC>, <CARDINAL>14</CARDINAL></SPAT>.\n",
      "\n",
      "<PER>Vasseur</PER>, <ACT>vins</ACT>, <SPAT><LOC>Angoulème-du-Temple</LOC>, <CARDINAL>30</CARDINAL></SPAT>, et<SPAT><LOC> ",
      "Folie-Méricourt</LOC>, <CARDINAL>10</CARDINAL></SPAT>.\n",
      "\n",
      "<PER>Vasseur</PER>, <ACT>vins</ACT>, <SPAT><LOC>boul. de l</LOC></SPAT>&amp;<SPAT><LOC>apos;Hôpital</LOC>, <CARDINAL>1.</CARDINAL></SPAT>\n",
      "\n",
      "<PER>Vasseur</PER>, <ACT>vins</ACT>, <SPAT><LOC>Faub.-du-Temple</LOC>, <CARDINAL>56</CARDINAL> et <CARDINAL>74</CARDINAL></SPAT>.\n",
      "\n",
      "<PER>Vasseur (J. B.),</PER> <ACT>vins</ACT>, <SPAT><LOC>Bleue</LOC>, <CARDINAL>1</CARDINAL></SPAT>, et <SPAT><LOC>Faub.-Pois- ",
      "sonnière</LOC>, <CARDINAL>67</CARDINAL></SPAT>.\n",
      "\n",
      "<PER>Vasson</PER>, <ACT>fab. de papiers peints, peintre en bâti- ",
      "ments</ACT>, <SPAT><LOC>Nve-Bourg-l&amp;apos;Abbé</LOC>, <CARDINAL>9</CARDINAL> et <CARDINAL>10</CARDINAL></SPAT>.\n",
      "\n",
      "<PER>Vasson</PER>, <ACT>boulanger</ACT>, <SPAT><LOC>Saint-Dominique-St-Ger- ",
      "main</LOC>, <CARDINAL>98</CARDINAL></SPAT>.\n",
      "\n",
      "<PER>Vasson</PER>, <ACT>menuisier</ACT>, <SPAT><LOC>Montorgueil</LOC>, <CARDINAL>33</CARDINAL></SPAT>.\n",
      "\n",
      "<PER>Vasson-Montel</PER>, <ACT>boulanger</ACT>, <SPAT><LOC>Noyers</LOC>, <CARDINAL>24</CARDINAL></SPAT>.\n",
      "\n",
      "<PER>Vassout</PER>, <ACT>entrepreneur de déménagements</ACT>,<SPAT><LOC> ",
      "Petit-Moine</LOC>, <CARDINAL>22</CARDINAL></SPAT>.\n",
      "\n",
      "<PER>Vassy</PER><SPAT> ",
      "comte de ",
      "<LOC>boul. de la Madeleine</LOC>, <CARDINAL>19</CARDINAL></SPAT>.\n",
      "\n",
      "<PER>Vast-Vimeux</PER>, <ACT>représentant du peuple (Cha- ",
      "renle-Inférieure)</ACT><SPAT><LOC> ",
      "Rivoli</LOC>, <CARDINAL>6</CARDINAL></SPAT>.\n",
      "\n",
      "<PER>Vastel</PER>, <ACT>paveur</ACT>, <SPAT><LOC>impasse du Maine</LOC>, <CARDINAL>3</CARDINAL></SPAT>.\n",
      "\n",
      "<PER>Vatable (baron), C. *</PER>, <ACT>général de brigade ",
      "en retraite</ACT>, <SPAT><LOC>Ferme-des-Mathurins</LOC>, <CARDINAL>3</CARDINAL></SPAT>.\n",
      "\n",
      "<PER>Vatard et Doucet</PER>, <ACT>fab. de bijoux en doublé ",
      "d</ACT>&amp;apos<ACT>;or</ACT>, <SPAT><LOC>Chapon</LOC>, <CARDINAL>18</CARDINAL></SPAT>.\n",
      "\n",
      "<PER>Vatel</PER>, <ACT>agent de change</ACT>, <SPAT><LOC>Grange-Batelière</LOC>, <CARDINAL>18</CARDINAL></SPAT>.\n",
      "\n",
      "<PER>Vatel</PER>, <ACT>ancien dir. de théâtre</ACT>, <SPAT><LOC>Godot-de-Mau- ",
      "roy</LOC>, <CARDINAL>18</CARDINAL></SPAT>.\n",
      "\n",
      "<PER>Vatel</PER>, <ACT>médecin-vétérinaire</ACT>, <SPAT><LOC>Sts-Pères</LOC>, <CARDINAL>65</CARDINAL></SPAT>.\n",
      "\n",
      "<PER>Vaterlot</PER>, <ACT>cordonnier</ACT>, <SPAT><LOC>Faubourg-St-Honoré</LOC>, <CARDINAL>74</CARDINAL></SPAT>\n",
      "\n",
      "<PER>Vatier</PER>, <ACT>graveur sur métaux</ACT>, <SPAT><LOC>Ancienne-Comé- ",
      "die</LOC>, <CARDINAL>12</CARDINAL></SPAT>.\n",
      "\n",
      "<PER>Vatier</PER>, <ACT>prop.</ACT>, <SPAT><LOC>q. Voltaire</LOC>, <CARDINAL>11</CARDINAL></SPAT>.\n",
      "\n",
      "<PER>Vatimesnil (H. de) ,O. *</PER>, <ACT>avocat à la cour ",
      "d</ACT>&amp;<ACT>apos;appel, représentant du peuple (Eure</ACT>), <SPAT><LOC>St- ",
      "Dominique-St-Germain</LOC>, <CARDINAL>11</CARDINAL></SPAT><ACT>.</ACT>\n",
      "\n",
      "<PER>Vatin, de la maison Richard et Vatin</PER>, <SPAT><LOC>Nve-St- ",
      "Eustache</LOC>, <CARDINAL>36</CARDINAL> et <CARDINAL>40</CARDINAL></SPAT><PER>.</PER>\n",
      "\n",
      "<PER>Vatin, Berny et Cie</PER>, <ACT>fabr. de châles</ACT>, <SPAT><LOC>Neuve- ",
      "St-Eustache</LOC>, <CARDINAL>22</CARDINAL></SPAT>.\n",
      "\n",
      "<PER>Vatin (F.) jeune et Cie</PER>, <ACT>fab. de gazes de ",
      "soie</ACT>, <SPAT><LOC>Cléry</LOC>, <CARDINAL>13</CARDINAL></SPAT>.\n",
      "\n",
      "<PER>Vatinelle</PER>, <ACT>graveur en médailles</ACT>, <SPAT><LOC>passage Ste- ",
      "Marie-du-Roule</LOC>, <CARDINAL>12</CARDINAL></SPAT>.\n",
      "\n",
      "<PER>Vatinelle (P.),</PER> <ACT>peintre-artiste</ACT>, <SPAT><LOC>Faub.-Montmar- ",
      "tre</LOC>, <CARDINAL>33</CARDINAL></SPAT>.\n",
      "\n",
      "<PER>Vattebled (Emile</PER>), <ACT>rubans</ACT>, <SPAT><LOC>Neuve-des-Petits- ",
      "Champs</LOC>, <CARDINAL>51</CARDINAL></SPAT>.\n",
      "\n",
      "<PER>Vattemare (Alexandre),</PER> <ACT>prop.</ACT>, <SPAT><LOC>Clichy</LOC>, <CARDINAL>56</CARDINAL></SPAT>.\n",
      "\n",
      "<PER>Vaton</PER>, <ACT>libraire</ACT>, <SPAT><LOC>Bac</LOC>, <CARDINAL>50</CARDINAL></SPAT>.\n",
      "\n",
      "<PER>Vatonne</PER>, <ACT>vins</ACT>, <SPAT><LOC>Phélippeaux</LOC>, <CARDINAL>27</CARDINAL></SPAT>.\n",
      "\n",
      "<PER>Vatre</PER>, <ACT>sellier-harnach</ACT>., <SPAT><LOC>Faub.-St-Honoré</LOC>, <CARDINAL>123</CARDINAL><LOC>, ",
      "cour du Commerce</LOC>, <CARDINAL>4</CARDINAL></SPAT>.\n",
      "\n"
     ]
    },
    {
     "name": "stdout",
     "output_type": "stream",
     "text": [
      "<PER>Vattier</PER>, <ACT>ciment romain de Pouilly en Auxois</ACT>,<SPAT><LOC> ",
      "quai Valmy</LOC>. <CARDINAL>1017</CARDINAL></SPAT>*\n",
      "\n",
      "<PER>Vattier</PER>, <ACT>hôtel de la Pointe à Pitre</ACT>, <SPAT><LOC>Bac</LOC>, <CARDINAL>125</CARDINAL> et<CARDINAL> ",
      "127</CARDINAL></SPAT>.\n",
      "\n",
      "<PER>Vattier</PER>, <ACT>pension bourgeoise</ACT>, <SPAT><LOC>Clef</LOC>, <CARDINAL>5</CARDINAL></SPAT>.\n",
      "\n",
      "<PER>Vattier</PER>, <ACT>messager d&amp;apos;Etat, huissier à l</ACT>&amp;<ACT>apos;Assemblée ",
      "nationale</ACT>, <SPAT><LOC>Massena</LOC>, <CARDINAL>8</CARDINAL></SPAT>.\n",
      "\n",
      "<PER>Vattone (Edouard),</PER> <ACT>entrepreneur de démoli- ",
      "tions</ACT>, <SPAT><LOC>cour Batave</LOC> , <CARDINAL>8</CARDINAL></SPAT>; <SPAT>chantier, <LOC>Vaugirard, ",
      "IO</LOC></SPAT>\n",
      "\n",
      "<PER>Vattonne</PER>, <ACT>fab. de passementeries</ACT>, <SPAT><LOC>cour Batave</LOC>,<CARDINAL> ",
      "8</CARDINAL></SPAT>.\n",
      "\n",
      "<PER>Vattré frères</PER>, <ACT>quincail. et serrur</ACT>., <SPAT><LOC>Aumaire</LOC>, <CARDINAL>47</CARDINAL></SPAT>.\n",
      "\n",
      "<PER>Vatry (de</PER>), <ACT>representant du peuple (Meurthe</ACT>),<SPAT><LOC> ",
      "Notre-Dame-de-Lorette</LOC>, <CARDINAL>20</CARDINAL></SPAT>.\n",
      "\n",
      "<PER>Vaubaillon</PER>, <ACT>vins</ACT>, <SPAT><LOC>St-Martin</LOC>, <CARDINAL>53</CARDINAL></SPAT>.\n",
      "\n",
      "<PER>Vauban</PER><SPAT> ",
      "(Ctesse de<LOC> ",
      "Ferme-des-Mathurins</LOC>, <CARDINAL>6</CARDINAL></SPAT>.\n",
      "\n",
      "<PER>Vaublanc ",
      "(Cte et <LOC>Ctesse ",
      "Las-Cases</LOC>, <CARDINAL>1.</CARDINAL></PER>\n",
      "\n",
      "<PER>Vaublanc</PER> <SPAT>(<LOC>Vte Arthur de ",
      "Las-Cases</LOC>, <CARDINAL>8</CARDINAL></SPAT>.\n",
      "\n",
      "<PER>Vaucanu</PER>, <ACT>toiles en gros</ACT>, <SPAT><LOC>Thibault-aux-Dez</LOC>,<CARDINAL> ",
      "16</CARDINAL></SPAT>.\n",
      "\n",
      "<PER>Vauchel ",
      "(Vve ",
      ",</PER><ACT>fab. de peignes</ACT>, <SPAT><LOC>Mauconseil</LOC>, <CARDINAL>10</CARDINAL></SPAT>.\n",
      "\n",
      "<PER>Vauchelet *</PER>, <ACT>peintre d</ACT>&amp;<ACT>apos;histoire et de portraits</ACT>,<SPAT><LOC> ",
      "Parme</LOC>, <CARDINAL>3</CARDINAL></SPAT>.\n",
      "\n",
      "<PER>Vaucher</PER>, <ACT>entrep. de peinture</ACT>, <SPAT><LOC>Pet.-Ecuries</LOC>, <CARDINAL>31</CARDINAL></SPAT>\n",
      "\n",
      "<PER>Vauclair</PER>, <ACT>hôtel du Midi</ACT>, <SPAT><LOC>Grenelle-St-Honoré</LOC>,<CARDINAL> ",
      "59</CARDINAL></SPAT>.\n",
      "\n",
      "<PER>Vauclin</PER>, <ACT>propriét</ACT>., <SPAT><LOC>Lepelletier</LOC>, <CARDINAL>23</CARDINAL></SPAT>.\n",
      "\n",
      "<PER>Vauclin</PER>, <ACT>vins</ACT><SPAT>. <LOC>Basse-du-Rempart</LOC>, <CARDINAL>38</CARDINAL></SPAT>.\n",
      "\n",
      "<PER>Vaudet</PER>, <ACT>serrurier, fabric. d</ACT>&amp;<ACT>apos;outils pour le ",
      "forage des puits artésiens</ACT>, <SPAT><LOC>Parc-Marais</LOC>, <CARDINAL>5</CARDINAL></SPAT>.\n",
      "\n",
      "<PER>Vaudeville</PER> <ACT>(theâtre</ACT><SPAT><LOC> ",
      "pl. de la Bourse</LOC>, <CARDINAL>29</CARDINAL></SPAT>.\n",
      "\n",
      "<PER>Vaudin</PER>, <ACT>bijoutier-horloger</ACT>, <SPAT>St-Denis, <CARDINAL>107</CARDINAL></SPAT>.\n",
      "\n",
      "<PER>Vaudin</PER>, <ACT>menuisier</ACT>, <SPAT><LOC>Cinq-Diamants</LOC>, <CARDINAL>17</CARDINAL></SPAT>.\n",
      "\n",
      "<PER>Vaudin</PER>, <ACT>passementier</ACT>, <SPAT><LOC>Beaubourg</LOC>, <CARDINAL>46-48</CARDINAL></SPAT>.\n",
      "\n",
      "<PER>Vaudoré</PER>, <ACT>représentant du peuple (Orne</ACT>), <SPAT><LOC>Nve- ",
      "des-Mathurins</LOC>, <CARDINAL>106</CARDINAL></SPAT>.\n",
      "\n",
      "<PER>Vaudoré (Alexandre) et Cie</PER>, <ACT>fab. d</ACT>&amp;<ACT>apos;appareils ",
      "pour l</ACT>&amp;<ACT>apos;éclairage par le gaz</ACT>, <SPAT><LOC>J.-J.-Rousseau</LOC>, <CARDINAL>6</CARDINAL></SPAT>.*)\n",
      "\n",
      "<PER>Vaudorme</PER>, <ACT>menuisier</ACT>, <SPAT><LOC>Faub.-St-Martin</LOC>, <CARDINAL>97</CARDINAL> et<CARDINAL> ",
      "99</CARDINAL></SPAT>.\n",
      "\n",
      "<PER>Vaudoyer (L.),</PER> <ACT>architecte</ACT>, <SPAT><LOC>Sts-Pères</LOC>, <CARDINAL>46</CARDINAL></SPAT>.\n",
      "\n",
      "<PER>Vaudre</PER>, <ACT>droguerie, herboriste et commissionn</ACT>.,<SPAT><LOC> ",
      "Lenoir-St-Honoré</LOC>, <CARDINAL>2</CARDINAL></SPAT>.\n",
      "\n",
      "<PER>Vaudremer</PER>, <ACT>fabr. de bijoux en or</ACT>, <SPAT><LOC>Michel-le- ",
      "Comte</LOC>, <CARDINAL>18</CARDINAL></SPAT>.*)\n",
      "\n",
      "<PER>Vaudreuil (Cte de ",
      "0.</PER> , <SPAT><LOC>Cassette</LOC>, <CARDINAL>16</CARDINAL></SPAT>.\n",
      "\n",
      "<PER>Vaudreuil ",
      "(</PER><SPAT><LOC>Csse ",
      "Caumartin</LOC>, <CARDINAL>44</CARDINAL></SPAT>\n",
      "\n",
      "<PER>Vaudreuil</PER><SPAT> ",
      "(Ctesse douairière de ",
      "Cassette, <CARDINAL>16</CARDINAL></SPAT>.\n",
      "\n",
      "<PER>Vaudrey, C. 2</PER>, <ACT>colonel d</ACT>&amp;<ACT>apos;artillerie, représen- ",
      "tant du peuple, aide de camp du président</ACT>,<SPAT><LOC> ",
      "Faub.-St-Honoré</LOC>, <CARDINAL>55</CARDINAL></SPAT>.\n",
      "\n",
      "<PER>Vaudrier</PER>, <ACT>chapelier</ACT>, <SPAT><LOC>St-Jacques</LOC>, <CARDINAL>116</CARDINAL></SPAT>.\n",
      "\n",
      "<PER>Vaudron</PER>, <ACT>charcutier</ACT>, <SPAT>St-Jacques, <CARDINAL>336</CARDINAL></SPAT>.\n",
      "\n",
      "<PER>Vaufreland (Bon Georges de) &amp;amp;</PER>, <ACT>officier de ca- ",
      "valerie</ACT>, <SPAT><LOC>avenue Gabrielle</LOC>, <CARDINAL>38</CARDINAL></SPAT>.\n",
      "\n",
      "<PER>Vaufreland</PER><SPAT> ",
      "(<LOC>Vsse ",
      "Ville-lEvêque</LOC>, <CARDINAL>3</CARDINAL></SPAT>.\n",
      "\n",
      "<PER>Vaufreland (Vte de),</PER> <SPAT><LOC>avenue des Champs- ",
      "Elysées</LOC>, <CARDINAL>18</CARDINAL></SPAT>.\n",
      "\n",
      "<PER>Vaugel</PER>, <ACT>enlumineur</ACT>, <SPAT><LOC>Vavin</LOC>, <CARDINAL>15</CARDINAL></SPAT>.\n",
      "\n",
      "<PER>Vaugelade-Duplantier</PER>, <ACT>tapis en gros</ACT>, <SPAT><LOC>Sentier</LOC>,<CARDINAL> ",
      "11</CARDINAL></SPAT>.\n",
      "\n",
      "<PER>Vaugeois (Mlles</PER>), <ACT>broderies</ACT>, <SPAT>St-Honoré, 37</SPAT>1.\n",
      "\n",
      "<PER>Vaugeois et Truchy</PER>, <ACT>passementeries et bro- ",
      "deries</ACT>, <SPAT>Mauconseil, <CARDINAL>1</CARDINAL><LOC>, en face le corps de ",
      "garde</LOC></SPAT>.*)\n",
      "\n",
      "<PER>Vaugeois</PER>, <ACT>maçon</ACT>, <SPAT><LOC>Angoulême-du-Temple</LOC>,<CARDINAL>50</CARDINAL></SPAT>.\n",
      "\n",
      "<PER>Vaugeois</PER>, <ACT>vins</ACT>, <SPAT><LOC>Coq-St-Honore</LOC>, <CARDINAL>11</CARDINAL></SPAT>.\n",
      "\n",
      "<PER>Vaugien</PER>, <ACT>appartements meublés</ACT>, <SPAT><LOC>avenue Ste- ",
      "Marie-du-Roule</LOC>, <CARDINAL>6</CARDINAL></SPAT>.\n",
      "\n",
      "<PER>Vaugiraud (Vte de),</PER> <SPAT><LOC>St-Dominique-St-Ger- ",
      "main</LOC>, <CARDINAL>41</CARDINAL></SPAT>.\n",
      "\n",
      "<PER>Vaugon</PER>, <ACT>boucher</ACT>, <SPAT><LOC>St-Louis-St-Honoré</LOC>, <CARDINAL>9</CARDINAL></SPAT>, et<SPAT><LOC> ",
      "St-Honore</LOC>, <CARDINAL>27</CARDINAL></SPAT>3.\n",
      "\n",
      "<PER>Vaugon</PER>, <ACT>fab. de cols-crav.</ACT>, <SPAT><LOC>Rambuteau</LOC>, <CARDINAL>57</CARDINAL></SPAT>.\n",
      "\n",
      "<PER>Vaugondy</PER> <ACT>fab. de chaussons de tresse</ACT>, <SPAT><LOC>St-An- ",
      "toine</LOC>, <CARDINAL>128</CARDINAL></SPAT>.\n",
      "\n",
      "<PER>Vaugoux</PER>, <ACT>fleurs</ACT>, <SPAT><LOC>Caire</LOC>, <CARDINAL>2</CARDINAL></SPAT>.\n",
      "\n",
      "<PER>Vaugrenat (de</PER>), <SPAT><LOC>Casimir--Périer</LOC>, <CARDINAL>6</CARDINAL></SPAT>.\n",
      "\n",
      "<PER>Vaujuas (de),</PER> <ACT>représentant du peuple (Ma- ",
      "venne)</ACT><SPAT><LOC> ",
      "Grenelle-St-Germain</LOC>, <CARDINAL>75</CARDINAL></SPAT>.\n",
      "\n",
      "<PER>Vaulabelle</PER>, <ACT>conservat. du cimetière du Nord</ACT><SPAT> ",
      "(<LOC>Montmartre</LOC></SPAT>).\n",
      "\n",
      "<PER>Vaulabelle</PER><DESC> ",
      "(de ",
      "h. de lettres</DESC>, <SPAT><LOC>Lamartine</LOC>, <CARDINAL>34</CARDINAL></SPAT>.\n",
      "\n",
      "<PER>Vaulogé ",
      "(Vte */ et</PER> <SPAT><LOC>Vsse ",
      "Cherche-Midi</LOC>, <CARDINAL>11</CARDINAL></SPAT>.\n",
      "\n",
      "<PER>Vaulot</PER>, <ACT>potier d</ACT>&amp;<ACT>apos;étain, fab. de comptoirs de ",
      "marchands de vins</ACT>, <SPAT>St-Martin, <CARDINAL>220</CARDINAL>čis</SPAT>.\n",
      "\n",
      "<PER>Vaumier (Vre</PER>), <ACT>faiences</ACT>, <SPAT>marché à la Verdure,<CARDINAL> ",
      "60</CARDINAL></SPAT>.\n",
      "\n",
      "<PER>Vaumorin</PER>,<ACT>tonnelier</ACT>, <SPAT><LOC>Grenelle-St-Germ.</LOC>, <CARDINAL>84</CARDINAL></SPAT>.\n",
      "\n",
      "<PER>Vaunois</PER>, <ACT>anc. avoué</ACT>, <SPAT><LOC>Louis-le-Grand</LOC>, <CARDINAL>35</CARDINAL></SPAT>.\n",
      "\n",
      "<PER>Vauquelin</PER>, <ACT>épicier</ACT>, <SPAT><LOC>Nve-Breda</LOC>, <CARDINAL>23</CARDINAL></SPAT>.\n",
      "\n",
      "<PER>Vauquelin</PER>, <ACT>médecin</ACT>, <SPAT><LOC>quai Napoléon</LOC>, <CARDINAL>23</CARDINAL></SPAT>.\n",
      "\n",
      "<PER>Vauquelin</PER>, <ACT>médecin</ACT>, <SPAT><LOC>St-Christophe</LOC>, <CARDINAL>4</CARDINAL></SPAT>.\n",
      "\n",
      "<PER>Vauquelin</PER>, <ACT>propr</ACT>., <SPAT><LOC>Lepelletier</LOC>, <CARDINAL>23</CARDINAL></SPAT>.\n",
      "\n",
      "<PER>Vaur (baron de ",
      "),</PER> <SPAT><LOC>Louis-le-Grand</LOC>, <CARDINAL>6</CARDINAL></SPAT>.\n",
      "\n",
      "<PER>Vaur-Cornet</PER>, <ACT>fabr. de soufflets</ACT>, <SPAT><LOC>Aval</LOC>,<CARDINAL> ",
      "7</CARDINAL></SPAT>.\n",
      "\n",
      "<PER>Vauréal</PER> <SPAT>(<LOC>Cte de ",
      "Amsterdam</LOC>, <CARDINAL>19</CARDINAL></SPAT>.\n",
      "\n",
      "<PER>Vaury jeune</PER>, <ACT>boulanger</ACT>, <SPAT><LOC>St-Honoré</LOC>, <CARDINAL>400</CARDINAL></SPAT>.\n",
      "\n",
      "<PER>Vaute</PER>, <ACT>coiffeur</ACT>, <SPAT><LOC>Temple</LOC>, <CARDINAL>44-10</CARDINAL></SPAT>\n",
      "\n",
      "<PER>Vauthelin</PER>, <ACT>vins</ACT>, <SPAT><LOC>Musée</LOC>, <CARDINAL>20</CARDINAL></SPAT>.\n",
      "\n",
      "<PER>Vauthier</PER>, <SPAT><LOC>boul. des Italiens</LOC>, <CARDINAL>26</CARDINAL></SPAT>\n",
      "\n",
      "<PER>Vauthier</PER>, <ACT>architecte</ACT>, <SPAT><LOC>Paradis-Poissonnière</LOC>, <CARDINAL>4</CARDINAL></SPAT>.\n",
      "\n"
     ]
    },
    {
     "name": "stdout",
     "output_type": "stream",
     "text": [
      "<PER>Vauthier</PER>, <ACT>bonneterie</ACT>, <SPAT><LOC>St-Georges</LOC>, <CARDINAL>60</CARDINAL></SPAT>.\n",
      "\n",
      "<PER>Vauthier</PER>, <ACT>bureau de nourrices</ACT>, <SPAT><LOC>passage des Pe- ",
      "tites-Ecuries</LOC>, <CARDINAL>4</CARDINAL></SPAT>.\n",
      "\n",
      "<PER>Vauthier</PER>, <ACT>coutelier, fab. d</ACT>&amp;<ACT>apos;mstruments de chi- ",
      "rurgie</ACT>, <SPAT><LOC>Dauphine</LOC>, <CARDINAL>34</CARDINAL></SPAT>.\n",
      "\n",
      "<PER>Vauthier</PER>, <ACT>épicerie et mercerie</ACT>, <SPAT><LOC>Dupuis-Ven- ",
      "dôme</LOC>, <CARDINAL>5</CARDINAL></SPAT>.\n",
      "\n",
      "<PER>Vauthier ",
      "(Mlle ",
      "institutrice</PER>, <SPAT><LOC>St-Victor</LOC>, <CARDINAL>24 bis</CARDINAL></SPAT>.\n",
      "\n",
      "<PER>Vauthier</PER>, <ACT>menuisier</ACT>, <SPAT><LOC>Quincampoix</LOC>, <CARDINAL>78</CARDINAL></SPAT>.\n",
      "\n",
      "<PER>Vauthier (J.) ",
      "&amp;quot;</PER> <ACT>porcelaines</ACT>, <SPAT><LOC>Vinaigriers</LOC>, <CARDINAL>27</CARDINAL></SPAT>.\n",
      "\n",
      "<PER>Vauthier</PER>, <ACT>tabac</ACT>, <SPAT><LOC>Faubourg-Montmartre</LOC>, <CARDINAL>29</CARDINAL></SPAT>.\n",
      "\n",
      "<PER>Vautier</PER>, <ACT>acier poli</ACT>, <SPAT><LOC>St-Maur-Popincourt</LOC>, 13</SPAT>1.\n",
      "\n",
      "<PER>Vautier</PER>, <DESC>avocat cour d</DESC>&amp;<DESC>apos;appel</DESC>, <SPAT><LOC>Montagne-Ste- ",
      "Geneviève</LOC>, <CARDINAL>37</CARDINAL></SPAT>.\n",
      "\n",
      "<PER>Vautier</PER>, <ACT>architecte</ACT>, <SPAT><LOC>Dragon</LOC>, <CARDINAL>3</CARDINAL></SPAT>.\n",
      "\n",
      "<PER>Vautier</PER>, <ACT>fab. de bas</ACT>, <SPAT><LOC>Fontaine-St-Georges</LOC>, <CARDINAL>9</CARDINAL></SPAT>.\n",
      "\n",
      "<PER>Vautier</PER>, <ACT>bureau de nourrices</ACT>, <SPAT><LOC>Pagevin</LOC>, <CARDINAL>3</CARDINAL></SPAT>., et<SPAT><LOC> ",
      "passage des Petites-Ecuries</LOC>, <CARDINAL>4</CARDINAL></SPAT>.\n",
      "\n",
      "<PER>Vautier (F.),</PER> <ACT>grand café de l</ACT>&amp;<ACT>apos;Europe</ACT>, <SPAT><LOC>Vi- ",
      "vienne</LOC>, <CARDINAL>36</CARDINAL><LOC>, passage Feydeau</LOC>, <CARDINAL>17</CARDINAL>, <LOC>passage des ",
      "Panoramas</LOC>, <CARDINAL>42</CARDINAL></SPAT>.\n",
      "\n",
      "<PER>Vautier</PER>, <ACT>coiffeur</ACT>, <SPAT><LOC>Huchette</LOC>, <CARDINAL>22</CARDINAL></SPAT>.\n",
      "\n",
      "<PER>Vautier</PER>, <ACT>commissaire-priseur</ACT>, <SPAT><LOC>Michodière</LOC>, <CARDINAL>12</CARDINAL></SPAT>.\n",
      "\n",
      "<PER>Vautier père</PER>, <ACT>fondeur, fontainier-plombier</ACT>,<SPAT><LOC> ",
      "Juifs</LOC>, <CARDINAL>7</CARDINAL></SPAT>.\n",
      "\n",
      "<PER>Vautier</PER>, <ACT>ingénieur-civil</ACT>, <SPAT><LOC>Dragon</LOC>, <CARDINAL>3</CARDINAL></SPAT>.\n",
      "\n",
      "<PER>Vautier</PER>, <ACT>mé decin-dentiste</ACT>, <SPAT><LOC>Temple</LOC>, <CARDINAL>137 bis</CARDINAL></SPAT>.\n",
      "\n",
      "<PER>Vautier</PER>, <ACT>mégissier</ACT>, <SPAT><LOC>Fer-à-Moulin</LOC>, <CARDINAL>42</CARDINAL></SPAT>.\n",
      "\n",
      "<PER>Vautier</PER>, <ACT>fab. de peignes</ACT>, <SPAT><LOC>Aumaire</LOC>, <CARDINAL>39</CARDINAL></SPAT>.\n",
      "\n",
      "<PER>Vautier</PER>, <ACT>plombier, garde-robes</ACT>, <SPAT><LOC>Quatre-Fils</LOC> ,<CARDINAL> ",
      "2</CARDINAL></SPAT>.\n",
      "\n",
      "<PER>Vautier ",
      "Vve ",
      "viles</PER>, <SPAT><LOC>Mouffetard</LOC>, <CARDINAL>30</CARDINAL></SPAT>.\n",
      "\n",
      "<PER>Vautrain</PER>, <DESC>avoc - à la cour d&amp;apos;appel, maire du ",
      "9me arrondissement</DESC>, <SPAT><LOC>quai Bourbon</LOC>, <CARDINAL>21</CARDINAL></SPAT><DESC>.</DESC>\n",
      "\n",
      "<PER>Vautrain</PER>, <ACT>recev. à l</ACT>&amp;<ACT>apos;octroi</ACT>, <SPAT><LOC>quai Bourbôn</LOC>, <CARDINAL>21</CARDINAL></SPAT>.\n",
      "\n",
      "<PER>Vautravers</PER>, <ACT>herboriste</ACT>, <SPAT><LOC>Nonaindières</LOC>, <CARDINAL>19</CARDINAL></SPAT>.\n",
      "\n",
      "<PER>Vautré</PER> <SPAT>(<LOC>Vve Bonne de ",
      "Bourgogne</LOC>, <CARDINAL>50</CARDINAL></SPAT>.\n",
      "\n",
      "<PER>Vautrin (Isidore</PER><ACT> ",
      "avocat</ACT>, <SPAT><LOC>Bussy</LOC>, <CARDINAL>13</CARDINAL></SPAT>.\n",
      "\n",
      "<PER>Vautrin</PER>, <ACT>boucher</ACT>, <SPAT><LOC>Nve-Ste-Catherine</LOC>, <CARDINAL>7</CARDINAL></SPAT>.\n",
      "\n",
      "<PER>Vautrin</PER>, <ACT>limonadier</ACT>, <SPAT><LOC>Provence</LOC>, <CARDINAL>7 bis</CARDINAL></SPAT>.\n",
      "\n",
      "<PER>Vautrin (Mlle ",
      "lingerie</PER>, <SPAT><LOC>Provence</LOC>, <CARDINAL>5</CARDINAL></SPAT>.\n",
      "\n",
      "<PER>Vautrin fils</PER>, <ACT>fab. d</ACT>&amp;<ACT>apos;orfévrerie de table</ACT>,<SPAT><LOC> ",
      "Quatre-Fils</LOC>, <CARDINAL>21</CARDINAL></SPAT>.\n",
      "\n",
      "<PER>Vautrot</PER>, <ACT>épicier</ACT>, <SPAT><LOC>Vannes</LOC>, <CARDINAL>4</CARDINAL></SPAT>.\n",
      "\n",
      "<PER>Vauty</PER>, <ACT>ancien commissionnaire</ACT>, <SPAT><LOC>Fraternité</LOC>, <CARDINAL>27</CARDINAL></SPAT>.\n",
      "\n",
      "<PER>Vauve des Roys</PER>, <ACT>profess. de lang.</ACT>, <SPAT><LOC>St-Domi- ",
      "nique</LOC>, <CARDINAL>46</CARDINAL></SPAT>.\n",
      "\n",
      "<PER>Vauveers</PER>, <ACT>négociant</ACT>, <SPAT><LOC>Université</LOC>, <CARDINAL>56</CARDINAL></SPAT>\n",
      "\n",
      "<PER>Vauversin ",
      "(Mme ",
      "pension</PER>, <SPAT><LOC>Malte</LOC>,<CARDINAL> ",
      "15</CARDINAL></SPAT><PER>.</PER>\n",
      "\n",
      "<PER>Vauvert frères</PER>, <ACT>confection d</ACT>&amp;<ACT>apos;habillements en ",
      "gros</ACT>, <SPAT>St-Denis, <CARDINAL>37</CARDINAL></SPAT>.\n",
      "\n",
      "<PER>Vauvillé</PER>, <SPAT><LOC>Godot</LOC>, <CARDINAL>18</CARDINAL></SPAT>.\n",
      "\n",
      "<PER>Vauvillé (H.),</PER> <ACT>meubles et menuisier en bâti- ",
      "ments</ACT>, <SPAT><LOC>Faubourg-Poissonnière</LOC>, <CARDINAL>53</CARDINAL></SPAT>.\n",
      "\n",
      "<PER>Vauvilliers (E. ),</PER> <ACT>préparateur au baccalauréat</ACT>,<SPAT><LOC> ",
      "Maçons-Sorbonne</LOC>, <CARDINAL>17</CARDINAL></SPAT>.\n",
      "\n",
      "<PER>Vauvilliers i</PER>, <DESC>avocat à la cour d</DESC>&amp;<DESC>apos;appel</DESC>, <SPAT><LOC>Fer- ",
      "me</LOC>, <CARDINAL>34 bis</CARDINAL></SPAT>.\n",
      "\n",
      "<PER>Vauvineux (Cte de</PER> ",
      ", <SPAT><LOC>Anjou-St-Honoré</LOC>, <CARDINAL>51</CARDINAL></SPAT>.\n",
      "\n",
      "<PER>Vauvrayfrères</PER>, <ACT>ferblantiers-lampistes</ACT>, <SPAT><LOC>Phelip- ",
      "peaux</LOC>, <CARDINAL>27</CARDINAL></SPAT>.\n",
      "\n",
      "<PER>Vauvray (Aug.),</PER> <ACT>ferblantier lampiste</ACT>, <SPAT><LOC>Gravil- ",
      "liers</LOC>, <CARDINAL>29</CARDINAL></SPAT>.\n",
      "\n",
      "<PER>Vaux</PER> (<SPAT><LOC>Bon de ",
      "Helder</LOC>, <CARDINAL>17</CARDINAL></SPAT>.\n",
      "\n",
      "<PER>Vaux (Mme</PER>), <ACT>enseignement mutuel</ACT><DESC>, 1er ar- ",
      "rondissement</DESC>, <SPAT><LOC>Longchamps</LOC>, <CARDINAL>29</CARDINAL></SPAT><DESC>.</DESC>\n",
      "\n",
      "<PER>Vaux</PER>, <ACT>serrurier</ACT>, <SPAT><LOC>Martignac</LOC>, <CARDINAL>24</CARDINAL></SPAT>.\n",
      "\n",
      "<PER>Vavasseur</PER>, <ACT>boucher</ACT>, <SPAT><LOC>Vieille-Bouclerie</LOC>, <CARDINAL>20</CARDINAL></SPAT>.\n",
      "\n",
      "<PER>Vavasseur (Mme</PER>), <ACT>broderies</ACT>, <SPAT><LOC>Notre-Dame-des- ",
      "Victoires</LOC>, <CARDINAL>19</CARDINAL></SPAT>.\n",
      "\n",
      "<PER>Vavasseur</PER>, <ACT>épicier</ACT>, <SPAT><LOC>St-Antoine</LOC>, <CARDINAL>210</CARDINAL></SPAT>.\n",
      "\n",
      "<PER>Vavasseur</PER>, <ACT>propriétaire</ACT>, <SPAT><LOC>St-Georges</LOC>, <CARDINAL>60</CARDINAL></SPAT>.\n",
      "\n",
      "<PER>Vavasseur ",
      "Vve</PER> <ACT>vins</ACT>, <SPAT><LOC>Ecluses-St-Martin</LOC>, <CARDINAL>16</CARDINAL></SPAT>.\n",
      "\n",
      "<PER>Vavasseur-Desperriers</PER>, <ACT>avoué honoraire</ACT>, <SPAT><LOC>Notre- ",
      "Dame-de-Lorette</LOC>, <CARDINAL>16</CARDINAL></SPAT>.\n",
      "\n",
      "<PER>Vavrand</PER>, <ACT>cabinet de ",
      "lecture</ACT>, <SPAT><LOC>Pigale</LOC>, <CARDINAL>33</CARDINAL></SPAT>.\n",
      "\n",
      "<PER>Vax (Ch.)</PER><ACT> ",
      "limonadier</ACT>, <SPAT>St-Honoré, <CARDINAL>118</CARDINAL></SPAT>.\n",
      "\n",
      "<PER>Vax</PER>, <ACT>vins</ACT>, <SPAT><LOC>Sevres</LOC>, <CARDINAL>79</CARDINAL></SPAT>\n",
      "\n",
      "<PER>Vidron</PER>, <ACT>tabletier</ACT>, <SPAT><LOC>Rambuteau</LOC>, <CARDINAL>43</CARDINAL></SPAT>.\n",
      "\n",
      "<PER>Vié</PER>, <ACT>fab. de bonneterie</ACT>, <SPAT><LOC>St-Jacques</LOC>, 16</SPAT>1.\n",
      "\n",
      "<PER>Vié</PER>, <ACT>boucher</ACT>, <SPAT><LOC>St-Victor</LOC>, <CARDINAL>75</CARDINAL></SPAT>.\n",
      "\n",
      "<PER>Vié</PER>, <ACT>entrepreneur de maçonnerie</ACT>, <SPAT><LOC>St-Domini- ",
      "que-St-Germain</LOC>, <CARDINAL>18</CARDINAL></SPAT>.\n",
      "\n",
      "<PER>Vié</PER>, <ACT>relieur</ACT>, <SPAT><LOC>Ecole-Polytechnique</LOC>,<CARDINAL> ",
      "7</CARDINAL></SPAT>.\n",
      "\n",
      "<PER>Vie</PER>, <ACT>pâtissier</ACT>, <SPAT><LOC>Lancry</LOC>, <CARDINAL>27</CARDINAL></SPAT>\n",
      "\n",
      "<PER>Vié (E.),</PER> <ACT>représentant de commerce</ACT>, <SPAT><LOC>François- ",
      "Miron</LOC>,<CARDINAL> ",
      "4</CARDINAL></SPAT>.\n",
      "\n",
      "<PER>Viefville</PER>, <ACT>notaire</ACT>, <SPAT><LOC>q. d</LOC></SPAT>&amp;<SPAT><LOC>apos;Orléans</LOC>, <CARDINAL>6</CARDINAL></SPAT>.\n",
      "\n",
      "<PER>Vieillard (L.),</PER> <ACT>spécialité pour deuil</ACT>, <SPAT><LOC>boul. St- ",
      "Denis</LOC>, <CARDINAL>15</CARDINAL></SPAT>, et <SPAT><LOC>St-Antoine</LOC>, <CARDINAL>89</CARDINAL></SPAT>.\n",
      "\n",
      "<PER>Vieillard &amp;amp;</PER>, <ACT>conservateur à la bibliothèque de ",
      "l</ACT>&amp;<ACT>apos;Arsenal</ACT>, <SPAT><LOC>Sully</LOC>, <CARDINAL>3</CARDINAL></SPAT>.\n",
      "\n",
      "<PER>Vieillard</PER>, <ACT>représentant du peuple (Manche</ACT>),<SPAT><LOC> ",
      "Sentier</LOC>, <CARDINAL>34</CARDINAL></SPAT>.\n",
      "\n",
      "<PER>Vieille</PER>, <ACT>peintre en bât</ACT>., <SPAT><LOC>Grange-Batelière</LOC>, <CARDINAL>11</CARDINAL></SPAT>.\n",
      "\n",
      "<PER>Vieille</PER>, <ACT>plumassier-fleuriste</ACT>, <SPAT>Caire,<CARDINAL> ",
      "7</CARDINAL></SPAT>.\n",
      "\n"
     ]
    },
    {
     "name": "stdout",
     "output_type": "stream",
     "text": [
      "<PER>Vieille *</PER>, <ACT>professeur agrégé</ACT> <DESC>à la</DESC> <ACT>Faculté des ",
      "sciences, maître des conférences à l&amp;apos;Ecole ",
      "na</ACT>\n",
      "\n",
      "<PER>Vieille-Montagne (société anonyme de la ),</PER><SPAT><LOC> ",
      "Richer</LOC>, <CARDINAL>19</CARDINAL></SPAT>.\n",
      "\n",
      "<PER>Vicillesse( ",
      "hosp.de la),</PER> <ACT>pour hommes</ACT>, <SPAT><LOC>à Bicêtre</LOC></SPAT>.\n",
      "\n",
      "<PER>Vieillesse (hospice de la ),</PER> <ACT>pour femmes</ACT>, <SPAT><LOC>boul. ",
      "de l</LOC></SPAT><PER>&amp;</PER><SPAT>apos<LOC>;Hôpital</LOC>, <CARDINAL>47</CARDINAL></SPAT>.\n",
      "\n",
      "<PER>Vieillot</PER>, <ACT>éditeur</ACT>, <SPAT><LOC>Notre-Dame-de-Nazareth</LOC>, <CARDINAL>32</CARDINAL></SPAT>.\n",
      "\n",
      "<PER>Vieira et Cie</PER>, <ACT>commission</ACT><DESC>naires, de Rio-Janei- ",
      "ro</DESC>, <SPAT><LOC>Richer</LOC>, <CARDINAL>46</CARDINAL></SPAT>.\n",
      "\n",
      "<PER>Viel</PER>, <ACT>agent général du bureau du charbon de ",
      "bois et gérant de l</ACT>&amp;<ACT>apos;école de natation Henri IV</ACT>,<SPAT><LOC> ",
      "Bretonvilliers</LOC>, <CARDINAL>1.</CARDINAL></SPAT>\n",
      "\n",
      "<PER>Viel</PER>, <ACT>ancien négociant</ACT>, <SPAT><LOC>St-Roch</LOC>, <CARDINAL>24</CARDINAL></SPAT>.\n",
      "\n",
      "<PER>Viel</PER>, <ACT>architecte</ACT>, <SPAT><LOC>pl. Lafayette</LOC>, <CARDINAL>22</CARDINAL></SPAT>.\n",
      "\n",
      "<PER>Vieil (Antonin ",
      "1),</PER> <ACT>architecte</ACT>, <SPAT><LOC>Choiseul</LOC>, <CARDINAL>27</CARDINAL></SPAT>.\n",
      "\n",
      "<PER>Viel</PER>, <ACT>avocat</ACT>, <SPAT><LOC>Cherche-Midi</LOC>, <CARDINAL>23</CARDINAL></SPAT>.\n",
      "\n",
      "<PER>Viel</PER>, <ACT>carrossier</ACT>, <SPAT><LOC>Vanneau</LOC>, <CARDINAL>50</CARDINAL></SPAT>.\n",
      "\n",
      "<PER>Viel jeune</PER>, <ACT>charron-serrurier</ACT>, <SPAT><LOC>Vaugirard</LOC>, <CARDINAL>16</CARDINAL></SPAT>.\n",
      "\n",
      "<PER>Viel (François),</PER> <ACT>charron</ACT>, <SPAT><LOC>Fossés.-St-Marcel, ",
      "O</LOC></SPAT>\n",
      "\n",
      "<PER>Viel</PER>, <ACT>épicier et tabac</ACT>, <SPAT><LOC>boul. de l</LOC></SPAT>&amp;<SPAT><LOC>apos;Hôpital</LOC>, <CARDINAL>34</CARDINAL></SPAT>.\n",
      "\n",
      "<PER>Viel</PER>, <ACT>epicier</ACT>, <SPAT><LOC>St-Roch</LOC>, <CARDINAL>7</CARDINAL></SPAT>.\n",
      "\n",
      "<PER>Viel ",
      "(</PER><ACT>A. ",
      " fab. de lingerie</ACT>, <SPAT><LOC>Jeuneurs</LOC>, <CARDINAL>44</CARDINAL></SPAT>.\n",
      "\n",
      "<PER>Viel</PER>, <ACT>papiers peints</ACT>, <SPAT><LOC>boul. St-Denis</LOC>, <CARDINAL>15</CARDINAL></SPAT>.\n",
      "\n",
      "<PER>Viel</PER>, <ACT>peintre en bâtiments</ACT>, <SPAT><LOC>Chabrol</LOC>, <CARDINAL>5</CARDINAL></SPAT>.\n",
      "\n",
      "<PER>Viel (Mme</PER>), <ACT>tabac</ACT>, <SPAT><LOC>boulev. Bonne-Nouvelle,</LOC><CARDINAL> ",
      "Z</CARDINAL></SPAT>\n",
      "\n",
      "<PER>Viel</PER>, <ACT>vins</ACT>, <SPAT><LOC>St-Vincent-de-Paul</LOC>, <CARDINAL>6</CARDINAL></SPAT>.\n",
      "\n",
      "<PER>Viel</PER>, <ACT>vins</ACT>, <SPAT><LOC>Victoire</LOC>, <CARDINAL>87</CARDINAL></SPAT>.\n",
      "\n",
      "<PER>Viel</PER>, <ACT>vins</ACT>, <SPAT><LOC>Michodière</LOC>,<CARDINAL> ",
      "1</CARDINAL></SPAT>, et <SPAT><LOC>Port-Mahon</LOC>, <CARDINAL>2</CARDINAL></SPAT>.\n",
      "\n",
      "<PER>Viel-Castel (baron L.), O. 2</PER>, <ACT>directeur de la ",
      "politique au ministère des affaires étran- ",
      "gères</ACT>, <SPAT><LOC>Université</LOC>, <CARDINAL>108</CARDINAL></SPAT>.\n",
      "\n",
      "<PER>Viel-Castel</PER> <SPAT>(<LOC>comte de ",
      "Caumartin</LOC>,<CARDINAL> ",
      "17</CARDINAL></SPAT>.\n",
      "\n",
      "<PER>Vielle</PER>, <ACT>limonadier</ACT>, <SPAT>café de la Régence,<LOC> ",
      "place du Palais-National, rue St-Honoré</LOC>,<CARDINAL> ",
      "24</CARDINAL></SPAT>3.\n",
      "\n",
      "<PER>Vielle (Mme ",
      ",</PER><ACT>mercière</ACT>, <SPAT><LOC>Vaugirard</LOC>, 15</SPAT>1.\n",
      "\n",
      "<PER>Vielle</PER>, <ACT>vins fins et ordinaires</ACT>, <SPAT><LOC>St-André-des- ",
      "Arts</LOC>, <CARDINAL>1.</CARDINAL></SPAT>\n",
      "\n",
      "<PER>Vielle - Delamare,</PER> <DESC>de la maison Marshall de ",
      "Londres et Vielle-Delamare</DESC> , <SPAT><LOC>Faub. St-De- ",
      "nis</LOC>, 14</SPAT>2.\n",
      "\n",
      "<PER>Vielleville</PER>, <ACT>bronzes, pendules</ACT>, <SPAT>Berry-au-Ma- ",
      "rais, <CARDINAL>9</CARDINAL></SPAT>.\n",
      "\n",
      "<PER>Viennay ",
      "(Cte de</PER> ",
      "<SPAT><LOC>,Vaugirard</LOC>, <CARDINAL>38</CARDINAL></SPAT>.\n",
      "\n",
      "<PER>Viennay ",
      "(Léonce de</PER> ",
      ", <SPAT>Vaugirard, <CARDINAL>38</CARDINAL></SPAT>.\n",
      "\n",
      "<PER>Viennay ",
      "(</PER><SPAT><LOC>baron Henry de ",
      "Vaugirard</LOC>, <CARDINAL>38</CARDINAL></SPAT>\n",
      "\n",
      "<PER>Viennay (Vte Gabriel de ",
      "),</PER> <SPAT><LOC>Vaugirard</LOC>, <CARDINAL>38</CARDINAL></SPAT>.\n",
      "\n",
      "<PER>Viennay ",
      "(Mse de),</PER> <SPAT><LOC>Vaugirard</LOC>, <CARDINAL>38</CARDINAL></SPAT>.\n",
      "\n",
      "<PER>Vienne</PER>, <ACT>inspecteur au chemin de fer du Nord</ACT>,<SPAT><LOC> ",
      "Lafayette</LOC>, <CARDINAL>52</CARDINAL></SPAT>.\n",
      "\n",
      "<PER>Viennet, C. X</PER>, <ACT>de l</ACT>&amp;<ACT>apos;Institut</ACT>, <SPAT><LOC>Godot</LOC>, <CARDINAL>18</CARDINAL></SPAT>.\n",
      "\n",
      "<PER>Viennet (Mme</PER> ",
      ", <ACT>fab. de bas</ACT>, <SPAT><LOC>Clichy</LOC>, <CARDINAL>13</CARDINAL></SPAT>.\n",
      "\n",
      "<PER>&amp;quot;iennot (G.),</PER><ACT>bijoutier en jais</ACT>, <SPAT><LOC>Nve-Bourg- ",
      "Abbé</LOC><CARDINAL> ",
      "2</CARDINAL></SPAT>.\n",
      "\n",
      "<PER>Viennot</PER>, <ACT>pedicure et bains</ACT>, <SPAT><LOC>Montholon</LOC>, <CARDINAL>28</CARDINAL></SPAT>.\n",
      "\n",
      "<PER>Viennot</PER>, <ACT>serrurier</ACT>, <SPAT><LOC>Petits-Champs-St-Martin</LOC>,<CARDINAL> ",
      "8</CARDINAL></SPAT>.\n",
      "\n",
      "<PER>Viennot (C.),</PER> <ACT>sous-chef aux finances</ACT>, <SPAT><LOC>Lavoi- ",
      "sier</LOC>, <CARDINAL>25</CARDINAL></SPAT>.\n",
      "\n",
      "<PER>Viennot</PER>, <ACT>vins</ACT>, <SPAT><LOC>Caumartin</LOC>, <CARDINAL>58</CARDINAL></SPAT>.\n",
      "\n",
      "<PER>Viennot</PER>, <ACT>vins</ACT>, <SPAT><LOC>Nve-des-Petits-Champs</LOC>, <CARDINAL>72</CARDINAL></SPAT>, et<SPAT><LOC> ",
      "Louis-le-Grand</LOC>, <CARDINAL>2</CARDINAL></SPAT>.\n",
      "\n",
      "<PER>Vienot (Gustave</PER>), <ACT>caissier de la compagnie ",
      "nationale d</ACT>&amp;<ACT>apos;assurances sur la vie</ACT>, <SPAT><LOC>Ménars</LOC>, <CARDINAL>3</CARDINAL></SPAT>.\n",
      "\n",
      "<PER>Vienot</PER>, <ACT>peintre-artiste</ACT>, <SPAT><LOC>Chaussée-d&amp;apos;Antin</LOC>,<CARDINAL> ",
      "62</CARDINAL></SPAT>.\n",
      "\n",
      "<PER>Vienot</PER>, <ACT>peintre en voitures</ACT>, <SPAT><LOC>Faub.-St-Denis</LOC>, ",
      "22</SPAT>1.\n",
      "\n",
      "<PER>Vient (L.</PER>), <ACT>tailleur, march. flaconnier</ACT>, <SPAT><LOC>Saint- ",
      "Denis</LOC>, <CARDINAL>290</CARDINAL></SPAT>.\n",
      "\n",
      "<PER>Vier ",
      "(Mme ",
      ",</PER><ACT>polisseuse</ACT>, <SPAT><LOC>J.-J. Rousseau</LOC>, <CARDINAL>13</CARDINAL></SPAT>.\n",
      "\n",
      "<PER>Vierhaus jeune</PER>, <ACT>ébéniste</ACT>, <SPAT><LOC>Beautreillis</LOC>, <CARDINAL>9</CARDINAL></SPAT>.\n",
      "\n",
      "<PER>Viers</PER>, <ACT>nourrisseur</ACT>, <SPAT><LOC>Mouffetard</LOC>, <CARDINAL>225</CARDINAL></SPAT>.\n",
      "\n",
      "<PER>Vierset</PER>, <ACT>cordonnier p. dames</ACT>, <SPAT><LOC>Bourg-l&amp;apos;Abbé</LOC>, <CARDINAL>5</CARDINAL></SPAT>.\n",
      "\n",
      "<PER>Viet</PER>, <ACT>anc. économe à la Banque de France</ACT>,<SPAT><LOC> ",
      "St-Lazare</LOC>, <CARDINAL>66</CARDINAL></SPAT>.\n",
      "\n",
      "<PER>Viet</PER>, <ACT>colle de poisson</ACT>, <SPAT><LOC>Cloche-Perche</LOC>, <CARDINAL>10</CARDINAL></SPAT>.\n",
      "\n",
      "<PER>Viette</PER>, <ACT>arquebusier</ACT>, <SPAT><LOC>Ferme</LOC>, <CARDINAL>13</CARDINAL></SPAT>.\n",
      "\n",
      "<PER>Viette</PER>, <ACT>epicier</ACT> , <SPAT>Arbre-Sec , <CARDINAL>29</CARDINAL></SPAT>, et <SPAT><LOC>Fosses-St- ",
      "Germain-l&amp;apos;Auxerrois</LOC>, <CARDINAL>25</CARDINAL></SPAT>.\n",
      "\n",
      "<PER>Vieux (A.),</PER> <ACT>armurier</ACT>, <SPAT><LOC>passage Vivienne</LOC>, <CARDINAL>33</CARDINAL></SPAT>.\n",
      "\n",
      "<PER>Vieux</PER>, <ACT>ébéniste</ACT>, <SPAT><LOC>Faub.-St-Antoine</LOC>, <CARDINAL>59</CARDINAL></SPAT>.\n",
      "\n",
      "<PER>Viéville</PER>, <ACT>fab. de boutons</ACT>, <SPAT><LOC>Aumaire</LOC>, <CARDINAL>48</CARDINAL></SPAT>, et <SPAT><LOC>place ",
      "St-Nicolas-des-Champs</LOC>, <CARDINAL>2</CARDINAL></SPAT>.\n",
      "\n",
      "<PER>Viéville</PER>, <ACT>dessinat. en broder</ACT>., <SPAT><LOC>Poissonnière</LOC>, <CARDINAL>15</CARDINAL></SPAT>.\n",
      "\n",
      "<PER>Vieville</PER>, <ACT>épicier</ACT>, <SPAT><LOC>Bretagne</LOC>, <CARDINAL>11</CARDINAL></SPAT>\n",
      "\n",
      "<PER>Vieyra-Molina</PER>,<ACT>agent de change</ACT>, <SPAT><LOC>Grange-Bate- ",
      "lière</LOC>, <CARDINAL>11</CARDINAL></SPAT>; <SPAT>domicile, <LOC>St-Georges</LOC>, <CARDINAL>43</CARDINAL></SPAT>.\n",
      "\n",
      "<PER>Vieyra-Molina (J.-H.),</PER> <ACT>propriétaire</ACT>, <SPAT><LOC>Chaussée- ",
      "d</LOC></SPAT>&amp;<SPAT><LOC>apos;Antin</LOC>, <CARDINAL>19 bis</CARDINAL></SPAT>.\n",
      "\n",
      "<PER>Vigel</PER>, <ACT>tabac</ACT>, <SPAT><LOC>Vertbois</LOC>, <CARDINAL>24</CARDINAL></SPAT>.\n",
      "\n",
      "<PER>Viger-Duvignon</PER>, <ACT>peintre</ACT>, <SPAT><LOC>Ouest</LOC>, <CARDINAL>36</CARDINAL></SPAT>.\n",
      "\n",
      "<PER>Vigerie (L.) ainé</PER>, <ACT>parfumeur</ACT>, <SPAT><LOC>St-Denis</LOC>, 24</SPAT>3.\n",
      "\n",
      "<PER>Viget</PER>, <ACT>bijout., orfév., horlog.</ACT>, <SPAT>St-Antoine, <CARDINAL>201</CARDINAL>—<CARDINAL> ",
      "203-2</CARDINAL>05</SPAT>.\n",
      "\n",
      "<PER>Vigier</PER>, <DESC>avoué de 1re instance</DESC>, <SPAT><LOC>q. Voltaire</LOC>,<CARDINAL> ",
      "17</CARDINAL></SPAT>.\n",
      "\n",
      "<PER>Vigier</PER><SPAT> ",
      "(baronne de ",
      "&amp;quot;Rivoli, <CARDINAL>30</CARDINAL></SPAT>\n",
      "\n",
      "<PER>Vigier jeune</PER>, <ACT>commiss. en horlog</ACT>., <SPAT><LOC>Bouloi</LOC>, <CARDINAL>10</CARDINAL></SPAT>.\n",
      "\n"
     ]
    },
    {
     "name": "stdout",
     "output_type": "stream",
     "text": [
      "<PER>Vigier</PER>, <ACT>coutelier</ACT>, <SPAT><LOC>Faub.-St-Antoine</LOC>, <CARDINAL>247</CARDINAL></SPAT>.\n",
      "\n",
      "<PER>Vigier (Cte A.), � <CARDINAL>2</CARDINAL></PER>, <SPAT>quai Voltaire.</SPAT> <CARDINAL>1.</CARDINAL>\n",
      "\n",
      "<PER>Vigier (S. et J.) frères</PER>, <ACT>fab. de tapis</ACT>, <SPAT><LOC>Crois- ",
      "sant</LOC>, <CARDINAL>18</CARDINAL></SPAT>.\n",
      "\n",
      "<PER>Vigier</PER>, <ACT>plumassier</ACT>, <SPAT><LOC>Mazagran</LOC>, <CARDINAL>13</CARDINAL></SPAT>.\n",
      "\n",
      "<PER>Vigla</PER>, <ACT>bijoutier pour deuil</ACT>, <SPAT><LOC>Gravilliers</LOC> <CARDINAL>1.</CARDINAL></SPAT>\n",
      "\n",
      "<PER>Vigla <TITREH>�§</TITREH></PER>, <ACT>médecin</ACT>, <SPAT><LOC>Vieux-Colombier</LOC>, <CARDINAL>3</CARDINAL></SPAT>.\n",
      "\n",
      "<PER>Vignacourt</PER><SPAT><LOC> ",
      "comtesse de ",
      "Bac</LOC>, <CARDINAL>94</CARDINAL></SPAT>.\n",
      "\n",
      "<PER>Vignais</PER>, <ACT>mécanicien -serrurier</ACT>, <SPAT><LOC>Nve-St-Lau- ",
      "rent</LOC>, <CARDINAL>10</CARDINAL></SPAT>.\n",
      "\n",
      "<PER>Vignais (de),</PER> <ACT>orfévrer. plaq</ACT>., <SPAT><LOC>Montmartre</LOC>, <CARDINAL>180</CARDINAL></SPAT>.\n",
      "\n",
      "<PER>Vignal</PER>, <ACT>médecin</ACT>, <SPAT><LOC>Faub.-St-Denis</LOC>, <CARDINAL>50</CARDINAL></SPAT>.\n",
      "\n",
      "<PER>Vignat frères</PER>, <ACT>rubans et étoffes de soie</ACT>, <SPAT><LOC>place ",
      "des Victoires</LOC>, <CARDINAL>3</CARDINAL></SPAT>.\n",
      "\n",
      "<PER>Vignau</PER>, <ACT>coiffeur</ACT>, <SPAT><LOC>St-Victor</LOC>, <CARDINAL>165</CARDINAL></SPAT>.\n",
      "\n",
      "<PER>Vignaud (J.) et Cie</PER> , <ACT>mérinos et impressions</ACT>,<SPAT><LOC> ",
      "Sentier</LOC>,<CARDINAL> ",
      "6</CARDINAL></SPAT>.\n",
      "\n",
      "<PER>Vignaud</PER>, <ACT>restaurateur</ACT>, <SPAT><LOC>place de l</LOC></SPAT>&amp;<SPAT><LOC>apos;Odéon</LOC>, <CARDINAL>2</CARDINAL></SPAT>, et<SPAT><LOC> ",
      "carrefour</LOC>. <CARDINAL>38</CARDINAL></SPAT>.\n",
      "\n",
      "<PER>Vignaux</PER>, <ACT>pâtissier</ACT>, <SPAT><LOC>Dauphine</LOC>, <CARDINAL>10</CARDINAL></SPAT>.\n",
      "\n",
      "<PER>Vigné</PER>, <ACT>outils et ferrailles</ACT>, <SPAT><LOC>Beaubourg</LOC>, <CARDINAL>50</CARDINAL></SPAT>.\n",
      "\n",
      "<PER>Vigne</PER>, <ACT>bois en gros et détail</ACT>, <SPAT><LOC>Union</LOC>, <CARDINAL>20</CARDINAL></SPAT>.\n",
      "\n",
      "<PER>Vigne jeune</PER>, <ACT>jouets d</ACT>&amp;<ACT>apos;enfants</ACT>, <SPAT><LOC>Beaubourg</LOC>, <CARDINAL>59</CARDINAL></SPAT>.\n",
      "\n",
      "<PER>Vigneaux</PER>, <ACT>bur. de placement des garçons mar- ",
      "chands de vins</ACT>, <SPAT><LOC>q. de la Grève</LOC>, <CARDINAL>24</CARDINAL></SPAT>.\n",
      "\n",
      "<PER>Vignères</PER>, <ACT>marchand d</ACT>&amp;<ACT>apos;écriteaux</ACT>, <SPAT><LOC>Ste-Anne</LOC>,<CARDINAL> ",
      "16</CARDINAL></SPAT>.\n",
      "\n",
      "<PER>Vignères</PER>, <ACT>estampes anciennes</ACT>, <SPAT><LOC>Carrousel</LOC><CARDINAL> ",
      "4</CARDINAL></SPAT>\n",
      "\n",
      "<PER>Vigneron ainé</PER>, <ACT>bottier</ACT>, <SPAT>St-Marc, <CARDINAL>25</CARDINAL></SPAT>.\n",
      "\n",
      "<PER>Vigneron jeune</PER>, <ACT>bottier</ACT>, <SPAT>St-Marc, <CARDINAL>28</CARDINAL></SPAT>.\n",
      "\n",
      "<PER>Vigneron</PER>, <ACT>charcutier</ACT>, <SPAT><LOC>Martyrs</LOC>, <CARDINAL>29</CARDINAL></SPAT>.\n",
      "\n",
      "<PER>Vigneron</PER>, <ACT>charcutier</ACT>, <SPAT><LOC>St-Lazare</LOC>, <CARDINAL>74</CARDINAL></SPAT>.\n",
      "\n",
      "<PER>Vigneron</PER>, <ACT>curiosités</ACT>, <SPAT><LOC>Vieux-Colombier</LOC>, <CARDINAL>17</CARDINAL></SPAT>.\n",
      "\n",
      "<PER>Vigneron, successeur de Plarière</PER>, <ACT>ferblantier ",
      "pour caisses d</ACT>&amp;<ACT>apos;emballage</ACT>, <SPAT><LOC>Faub.-St-Denis</LOC>,<CARDINAL> ",
      "14</CARDINAL></SPAT>.\n",
      "\n",
      "<PER>Vigneron</PER>, <ACT>menuisier-modeleur</ACT>, <SPAT><LOC>Trois-Bornes</LOC>,<CARDINAL> ",
      "I</CARDINAL></SPAT>.\n",
      "\n",
      "<PER>Vigneron</PER>, <ACT>peintre en bâtiments</ACT>, <SPAT><LOC>Saint-Anas- ",
      "tase</LOC>, <CARDINAL>12</CARDINAL></SPAT>.\n",
      "\n",
      "<PER>Vigneron</PER>, <ACT>vins</ACT>, <SPAT><LOC>Croix-St-Martin</LOC>, <CARDINAL>20</CARDINAL></SPAT>.\n",
      "\n",
      "<PER>Vignes</PER>, <ACT>ferblantier-lampiste</ACT>, <SPAT><LOC>Harpe</LOC>, <CARDINAL>117</CARDINAL></SPAT>.\n",
      "\n",
      "<PER>Vignes</PER>, <ACT>tulles unis et brodés</ACT>, <SPAT><LOC>Sentier</LOC>, <CARDINAL>16</CARDINAL></SPAT>.\n",
      "\n",
      "<PER>Vignes (Th.</PER>), <ACT>représentant du peuple (Arié- ",
      "ge</ACT>), <SPAT><LOC>Faub. -St-Honoré</LOC>, <CARDINAL>100</CARDINAL></SPAT>.\n",
      "\n",
      "<PER>Vigneux</PER>, <ACT>liqueurs</ACT>, <SPAT><LOC>Paradis Poissonnière</LOC>, <CARDINAL>6</CARDINAL></SPAT>.\n",
      "\n",
      "<PER>Vignolle</PER>, <ACT>architecte</ACT>, <SPAT><LOC>pl. des Vosges</LOC>, <CARDINAL>26</CARDINAL></SPAT>.\n",
      "\n",
      "<PER>Vignolles (Ctesse de ),</PER> <SPAT><LOC>Saint-Dominique</LOC>, <CARDINAL>27</CARDINAL></SPAT>.\n",
      "\n",
      "<PER>Vignolo</PER>, <ACT>medecin</ACT>, <SPAT><LOC>Cassette</LOC>, <CARDINAL>25</CARDINAL></SPAT>.\n",
      "\n",
      "<PER>Vignon (Mme ",
      "</PER>, <ACT>coutur</ACT>., <SPAT><LOC>Faub.-Poissonnière</LOC>, <CARDINAL>23</CARDINAL></SPAT>.\n",
      "\n",
      "<PER>Vignon</PER>, <ACT>épicier</ACT>, <SPAT><LOC>Sept-Voies</LOC>, <CARDINAL>1.</CARDINAL></SPAT>\n",
      "\n",
      "<PER>Vignon</PER>, <ACT>vins</ACT>, <SPAT><LOC>Neuve-St-Laurent</LOC>, <CARDINAL>23</CARDINAL> et <CARDINAL>33</CARDINAL></SPAT>, et<SPAT><LOC> ",
      "Croix</LOC>, <CARDINAL>20</CARDINAL></SPAT>.\n",
      "\n",
      "<PER>Vignon jeune</PER>, <ACT>vins</ACT>, <SPAT><LOC>Reynie</LOC>, <CARDINAL>13</CARDINAL></SPAT>.\n",
      "\n",
      "<PER>Vignon</PER>, <ACT>vins</ACT>, <SPAT><LOC>Taranne</LOC>, <CARDINAL>27</CARDINAL></SPAT>.\n",
      "\n",
      "<PER>Vignon, Cte de Servasca</PER>, <SPAT><LOC>Lamartine</LOC>, <CARDINAL>34</CARDINAL></SPAT><PER>.</PER>\n",
      "\n",
      "<PER>Vigny (J.),</PER> <ACT>médecin</ACT>, <SPAT><LOC>Nve-des-Petits-Champs</LOC>,<CARDINAL> ",
      "58</CARDINAL></SPAT>\n",
      "\n",
      "<PER>Vigny (Mlle ",
      "</PER>, <ACT>pensionnat</ACT>, <SPAT><LOC>Beaune</LOC>, <CARDINAL>12</CARDINAL></SPAT>.\n",
      "\n",
      "<PER>Vigot</PER>, <ACT>tabac</ACT>, <SPAT><LOC>Strasbourg</LOC>, <CARDINAL>13</CARDINAL></SPAT>.\n",
      "\n",
      "<PER>Vigourel et Cie</PER>, <ACT>escompte et recouvrements</ACT>,<SPAT><LOC> ",
      "Neuve-St-Augustin</LOC>, <CARDINAL>20</CARDINAL></SPAT>.\n",
      "\n",
      "<PER>Vigoureux</PER>, <ACT>architecte</ACT>, <SPAT><LOC>Savoie</LOC>, <CARDINAL>11</CARDINAL></SPAT>\n",
      "\n",
      "<PER>Vigoureux</PER>, <ACT>architecte</ACT>, <SPAT><LOC>quai Napoléon</LOC>, <CARDINAL>23</CARDINAL></SPAT>.\n",
      "\n",
      "<PER>Vigoureux</PER>, <ACT>carrossier</ACT>, <SPAT><LOC>allée des Veuves</LOC>, <CARDINAL>103</CARDINAL></SPAT>.\n",
      "\n",
      "<PER>Vigoureux, <TITREH>O. 1§</TITREH></PER>, <ACT>insp. divisionn. aux ponts et ",
      "chaussées</ACT>, <SPAT><LOC>Grenelle-St-Germain</LOC>, <CARDINAL>67</CARDINAL></SPAT>.\n",
      "\n",
      "<PER>Vigoureux</PER>, <ACT>propr. et vins</ACT>, <SPAT><LOC>Fidélité</LOC>, <CARDINAL>7</CARDINAL></SPAT>, et <SPAT><LOC>Nve- ",
      "de-la-Fidélité</LOC>, <CARDINAL>40</CARDINAL></SPAT>.\n",
      "\n",
      "<PER>Vigouroux (Mme</PER>), <ACT>fab. de corsets</ACT>, <SPAT><LOC>Louis-le- ",
      "Grand</LOC>, <CARDINAL>29</CARDINAL></SPAT>.\n",
      "\n",
      "<PER>Vigouroux</PER>, <ACT>hôtel de l</ACT>&amp;<ACT>apos;Europe</ACT>, <SPAT><LOC>Vingt-Quatre- ",
      "Février</LOC>, <CARDINAL>4</CARDINAL></SPAT>.\n",
      "\n",
      "<PER>Vigouroux</PER>, <ACT>rentier</ACT>, <SPAT><LOC>Provence</LOC>, <CARDINAL>7 bis</CARDINAL></SPAT>.\n",
      "\n",
      "<PER>Viguès frères</PER>, <ACT>bois des îles</ACT>, <SPAT><LOC>Faub.-St-An- ",
      "toine</LOC>, <CARDINAL>59</CARDINAL></SPAT>.\n",
      "\n",
      "<PER>Viguet (M.-L.) X</PER>, <SPAT><LOC>N.-D.-de-Lorette</LOC>, <CARDINAL>40</CARDINAL></SPAT>.\n",
      "\n",
      "<PER>Viguié</PER>, <ACT>propriétaire</ACT>, <SPAT><LOC>Jean-Goujon</LOC>, <CARDINAL>2</CARDINAL></SPAT>.\n",
      "\n",
      "<PER>Viguié (Jacques-Frédéric),</PER> <ACT>métaux, fontes et ",
      "zinc</ACT>, <SPAT>Bergère, <CARDINAL>32</CARDINAL></SPAT>.\n",
      "\n",
      "<PER>Viguier, O. */8</PER>, <ACT>inspect. général des études</ACT>,<SPAT><LOC> ",
      "Вас</LOC>, <CARDINAL>35</CARDINAL></SPAT>.\n",
      "\n",
      "<PER>Viguier</PER>, <ACT>cartonmer</ACT>, <SPAT><LOC>Thevenot</LOC>, <CARDINAL>32</CARDINAL></SPAT>.\n",
      "\n",
      "<PER>Viguier</PER>, <ACT>chapelier</ACT>, <SPAT><LOC>St-Honoré</LOC>, 13</SPAT>1.\n",
      "\n",
      "<PER>Viguier (B.</PER>), <ACT>porcelaines et cristaux</ACT>, <SPAT><LOC>boul. ",
      "Beaumarchais</LOC>, <CARDINAL>6</CARDINAL></SPAT>.\n",
      "\n",
      "<PER>Viguier</PER>, <ACT>représentant du peuple (Cher</ACT>), <SPAT><LOC>Ar- ",
      "bre-Sec</LOC>, <CARDINAL>44</CARDINAL></SPAT>.\n",
      "\n",
      "<PER>Viguier fils</PER>, <ACT>toiles et linge de table</ACT>, <SPAT><LOC>Mau- ",
      "vaises-Paroles</LOC>, <CARDINAL>18</CARDINAL></SPAT>.\n",
      "\n",
      "<PER>Viguier, père,</PER> <ACT>prop</ACT>., <SPAT><LOC>Enghien</LOC>, <CARDINAL>12</CARDINAL></SPAT>.\n",
      "\n",
      "<PER>Vilacèque</PER>, <ACT>tailleur</ACT>, <SPAT><LOC>Nve-des-Petits-Champs</LOC>, <CARDINAL>7</CARDINAL></SPAT>.\n",
      "\n",
      "<PER>Vilain</PER>, <ACT>avocat</ACT>, <SPAT><LOC>Neuve-des-Capucines</LOC>, <CARDINAL>7</CARDINAL></SPAT>.\n",
      "\n",
      "<PER>Vilain</PER>, <ACT>chemisier</ACT>, <SPAT><LOC>passage Jouffroy</LOC>, <CARDINAL>31</CARDINAL></SPAT>.\n",
      "\n",
      "<PER>Vilain</PER>, <ACT>commissionnaire</ACT>, <SPAT><LOC>Angoulême-du-Tem- ",
      "ple</LOC>, <CARDINAL>20</CARDINAL></SPAT>.\n",
      "\n"
     ]
    },
    {
     "name": "stdout",
     "output_type": "stream",
     "text": [
      "<PER>Vilain</PER>, <ACT>cordier, marchand de filasse</ACT>, <SPAT><LOC>Cossonne- ",
      "rie</LOC>, <CARDINAL>33</CARDINAL> et <CARDINAL>31</CARDINAL></SPAT>.\n",
      "\n",
      "<PER>Vilain</PER>, <ACT>épicier</ACT>, <SPAT><LOC>Montreuil</LOC>, <CARDINAL>2</CARDINAL></SPAT>.\n",
      "\n",
      "<PER>Vilain</PER>, <ACT>paveur</ACT>, <SPAT><LOC>Moreau</LOC>, <CARDINAL>32</CARDINAL></SPAT>.\n",
      "\n",
      "<PER>Vilain (Victor)</PER> <ACT>sculpteur</ACT>, <SPAT><LOC>Nord</LOC>, <CARDINAL>5</CARDINAL></SPAT>.\n",
      "\n",
      "<PER>Vilain</PER>, <ACT>serrurier-mécanicien</ACT>, <SPAT><LOC>Ouest</LOC>, <CARDINAL>24</CARDINAL></SPAT>.\n",
      "\n",
      "<PER>Vilatte</PER>, <ACT>pharmacien</ACT>, <SPAT><LOC>St-Honoré</LOC>, 23</SPAT>2.\n",
      "\n",
      "<PER>Vilcère</PER>, <ACT>avocat, homme de lettres</ACT>, <SPAT><LOC>Guy-La- ",
      "brosse</LOC>, <CARDINAL>8</CARDINAL></SPAT>.\n",
      "\n",
      "<PER>Vilcoq</PER>, <ACT>anc. notaire</ACT>, <SPAT><LOC>Hauteville</LOC>, <CARDINAL>35</CARDINAL></SPAT>.\n",
      "\n",
      "<PER>Vilcoq (Ch.),</PER> <ACT>négociant en vins</ACT>, <SPAT><LOC>Nve-St-Au- ",
      "gustin</LOC>, <CARDINAL>11</CARDINAL></SPAT>.\n",
      "\n",
      "<PER>Vilcoq</PER>, <ACT>peintre-vitrier</ACT>, <SPAT><LOC>Bac</LOC>, <CARDINAL>61</CARDINAL></SPAT>.\n",
      "\n",
      "<PER>Vilcoq (Ch.</PER> ",
      "<SPAT><LOC>,Aiguillerie</LOC>, <CARDINAL>4</CARDINAL></SPAT>.\n",
      "\n",
      "<PER>Vilcoq</PER>, <ACT>vins</ACT>. <SPAT><LOC>Faub. -St-Martin</LOC>, <CARDINAL>67</CARDINAL></SPAT>.\n",
      "\n",
      "<PER>Vildé</PER>, <ACT>fab. de chapeaux</ACT>, <SPAT><LOC>Plâtre-Ste-Avoie</LOC>, <CARDINAL>14</CARDINAL></SPAT>.\n",
      "\n",
      "<PER>Vildé</PER>, <ACT>chapelier</ACT>, <SPAT><LOC>St-Dominique</LOC>, 16</SPAT>1.\n",
      "\n",
      "<PER>Vildieu</PER>, <ACT>courtier-gourmet</ACT>, <SPAT><LOC>St-Victor</LOC>, <CARDINAL>6</CARDINAL></SPAT>.\n",
      "\n",
      "<PER>Vildieu</PER>, <ACT>vins</ACT>, <SPAT><LOC>St-Denis</LOC>, 23</SPAT>2.\n",
      "\n",
      "<PER>Vildieu</PER>, <ACT>vins en gros</ACT>, <SPAT><LOC>St-Victor</LOC>, <CARDINAL>26</CARDINAL></SPAT>.\n",
      "\n",
      "<PER>Vilin</PER>, <ACT>facteur au beurre</ACT>, <SPAT><LOC>Piliers-Potiers-d&amp;apos;E- ",
      "tain</LOC>, <CARDINAL>16</CARDINAL> et <CARDINAL>18</CARDINAL></SPAT>.\n",
      "\n",
      "<PER>Vilin</PER>, <ACT>épicier</ACT>, <SPAT><LOC>Popincourt</LOC>, <CARDINAL>32</CARDINAL></SPAT>.\n",
      "\n",
      "<PER>Villain</PER>, <ACT>architecte</ACT>, <SPAT><LOC>Bourdaloue</LOC>,<CARDINAL> ",
      "1.</CARDINAL></SPAT>\n",
      "\n",
      "<PER>Villain</PER>, <ACT>bijoutier</ACT>, <SPAT><LOC>Ménilmontant</LOC>, <CARDINAL>35</CARDINAL></SPAT>.\n",
      "\n",
      "<PER>Villain</PER>, <ACT>charbon</ACT>, <SPAT><LOC>Fontaine-Molière</LOC>, <CARDINAL>5</CARDINAL></SPAT>.\n",
      "\n",
      "<PER>Villain</PER>, <ACT>boucher</ACT>, <SPAT><LOC>Charlot</LOC>, <CARDINAL>24</CARDINAL></SPAT>.\n",
      "\n",
      "<PER>Villain</PER>, <ACT>chemisier</ACT>, <SPAT><LOC>passage Jouffroy</LOC>, <CARDINAL>31</CARDINAL></SPAT>.\n",
      "\n",
      "<PER>Villain (Mlle A. ",
      "),</PER> <ACT>dentelles</ACT>, <SPAT><LOC>St-Fiacre</LOC>, <CARDINAL>3</CARDINAL></SPAT>.\n",
      "\n",
      "<PER>Villain</PER>, <ACT>imprimeur-lithographe</ACT>, <SPAT><LOC>Sèvres</LOC>, <CARDINAL>19</CARDINAL></SPAT>.\n",
      "\n",
      "<PER>Villain (J.),</PER> <ACT>ingénieur civil</ACT>, <SPAT><LOC>St-Germain-des— ",
      "Prés</LOC>, <CARDINAL>12</CARDINAL></SPAT>.\n",
      "\n",
      "<PER>Villain</PER>, <ACT>fab. de moulures guillochées</ACT>, <SPAT><LOC>Faub.— ",
      "St-Antoine</LOC>, <CARDINAL>99</CARDINAL></SPAT>, et <SPAT><LOC>rue de Charonne</LOC>, <CARDINAL>36</CARDINAL> et <CARDINAL>40</CARDINAL></SPAT>.\n",
      "\n",
      "<PER>Villain ainé</PER>, <ACT>quincaillerie</ACT>, <SPAT><LOC>Faub.-Poissonnière</LOC>,<CARDINAL> ",
      "42</CARDINAL></SPAT>.\n",
      "\n",
      "<PER>Villain (Mme</PER>), <ACT>sage-femme</ACT>, <SPAT><LOC>Cherche-Midi</LOC>, <CARDINAL>60</CARDINAL></SPAT>.\n",
      "\n",
      "<PER>Villain</PER>, <ACT>vannier</ACT>, <SPAT><LOC>Sevres</LOC>, <CARDINAL>71</CARDINAL></SPAT>.\n",
      "\n",
      "<PER>Villain-Moisne</PER> , <ACT>prop</ACT>., <SPAT><LOC>Arcade</LOC>, <CARDINAL>53</CARDINAL></SPAT>.\n",
      "\n",
      "<PER>Villaine</PER>, <ACT>chapelier</ACT>, <SPAT><LOC>St-Antoine</LOC>, <CARDINAL>148</CARDINAL></SPAT>.\n",
      "\n",
      "<PER>Villand</PER>, <ACT>tourneur en cuivre</ACT>, <SPAT><LOC>Transnonain</LOC>, <CARDINAL>34</CARDINAL></SPAT>.\n",
      "\n",
      "<PER>Barbot</PER>, <SPAT><LOC>Bourguignons</LOC>, <CARDINAL>37</CARDINAL></SPAT>.\n",
      "\n",
      "<PER>Baron (Philibert) O</PER>, <ACT>jardinier— ",
      "fleuriste</ACT>, <SPAT><LOC>Buisson-St-Louis</LOC>, <CARDINAL>31</CARDINAL></SPAT>.\n",
      "\n",
      "<PER>Berthelot</PER>, <SPAT>Loursine,<CARDINAL> ",
      "128</CARDINAL></SPAT>\n",
      "\n",
      "<PER>Bicqulin</PER>, <SPAT><LOC>Fosses-St-Victor</LOC>, <CARDINAL>39</CARDINAL></SPAT>.\n",
      "\n",
      "<PER>Bondoux</PER>, <ACT>specialité de pelargo- ",
      "niums, calcéolarias, ſuchsias, ",
      "verbenas et dahlias, et plantes ",
      "nouvelles, expédie en province ",
      "et à l étranger</ACT>, <SPAT><LOC>Lourcme</LOC>, 15</SPAT>1.*\n",
      "\n",
      "<PER>Bonnin</PER>, <SPAT><LOC>St-Dom.-St-Germ.</LOC>, 18</SPAT>3.\n",
      "\n",
      "<PER>Boron</PER>, <ACT>el pepinieriste</ACT>, <SPAT><LOC>impasse St- ",
      "Ambroise</LOC>, <CARDINAL>9</CARDINAL></SPAT>.\n",
      "\n",
      "<PER>Bossin, Louesse et Cie</PER>, <ACT>botanistes ",
      "et pépinieristes, collection d&amp;apos;ar- ",
      "bres, de graines potagères, four- ",
      "ragères, d&amp;apos;arbres et de fleurs; ",
      "dépôt de librairie agricole el hor- ",
      "ticole, instruments d&amp;apos;agriculture ",
      "et d&amp;apos;horticulture; griffes, pattes ",
      "et oignons à fleurs, jacinthes de ",
      "Hollande, etc</ACT>., <SPAT><LOC>quai de la Megis- ",
      "serie</LOC>, <CARDINAL>28</CARDINAL></SPAT>, <SPAT>pepinière à Limours ",
      "(<LOC>Seine-et-Oise</LOC></SPAT>)\n",
      "\n",
      "<PER>Boulard fils</PER>, <SPAT><LOC>Boulets</LOC>, <CARDINAL>16</CARDINAL></SPAT>.\n",
      "\n",
      "<PER>Boutreux</PER>, <SPAT><LOC>avenue de Saxe</LOC>, <CARDINAL>8</CARDINAL></SPAT>.\n",
      "\n",
      "<PER>Branckotx</PER>, <ACT>fleuriste</ACT>, <SPAT><LOC>Biron.</LOC> <CARDINAL>19</CARDINAL></SPAT>.\n",
      "\n",
      "<PER>Bréon</PER>, <ACT>grainetier-ſleuriste el pé- ",
      "pineriste, expedition de graines et ",
      "plantes pour toutes les colonies ; ",
      "collections superbes d&amp;apos;oignons à ",
      "fleurs, dahlias, rosiers, arbres ",
      "fruitiers et d&amp;apos;agrément; collection ",
      "d&amp;apos;ordre de graines polagères, de ",
      "fleurs et fourragères</ACT>, <SPAT><LOC>quai de la ",
      "Mégisserie</LOC>, <CARDINAL>70</CARDINAL></SPAT><ACT>.</ACT>\n",
      "\n",
      "<PER>Briollet</PER>, <SPAT><LOC>St-Lazare</LOC>,<CARDINAL> ",
      "106</CARDINAL></SPAT>.\n",
      "\n",
      "<PER>Bulher</PER>, <ACT>dessinateur de parcs et ",
      "jardins</ACT>, <SPAT><LOC>Grenelle-S. -G.</LOC>, <CARDINAL>147</CARDINAL></SPAT>.\n",
      "\n",
      "<PER>Cels frères</PER>, <DESC>horticulleurs</DESC>, <DESC>chaus-</DESC><SPAT> ",
      "see</SPAT> <DESC>du Maine</DESC><SPAT>.</SPAT> <DESC><CARDINAL>77</CARDINAL>; collection de ",
      "caclées, orchidées, camélias, pal- ",
      "miers et végétaux exotiques de ",
      "toutes les partiës du globe, 6 mé- ",
      "dailles d&amp;apos;or, 18 médailles d&amp;apos;ar- ",
      "gent de diverses Sociétés d&amp;apos;horti- ",
      "culture</DESC>, <DESC>1849</DESC>, <DESC>exportation pour ",
      "la France et l&amp;apos;étranger.</DESC>\n",
      "\n",
      "<PER>Chalumeau dit Printemps</PER>, <SPAT>Aman- ",
      "diers — <LOC>Popincourt</LOC>, <CARDINAL>37</CARDINAL></SPAT>.\n",
      "\n",
      "<PER>Chantin, (Antoine),</PER> <DESC>1850, cer- ",
      "cle d&amp;apos;horticulture, horticuleur, ",
      "spécialité de palmiers et autres ",
      "plantes rares de serre chaude et ",
      "de serre tempérée, camélias, ",
      "azaléas (exportation</DESC>), <SPAT><LOC>boul. des ",
      "Gobelins</LOC>, <CARDINAL>24</CARDINAL></SPAT><DESC>.</DESC>\n",
      "\n",
      "<PER>Chapon</PER>, <SPAT><LOC>quai Napoléon</LOC>, <CARDINAL>33</CARDINAL></SPAT>.\n",
      "\n",
      "<PER>Chapet ainé (Mme</PER>), <ACT>fleurs natu- ",
      "relles</ACT>, <SPAT><LOC>boul. des Capucines</LOC>, <CARDINAL>25</CARDINAL></SPAT>.\n",
      "\n",
      "<PER>Charon</PER>, <ACT>fleurs naturelles et entre- ",
      "preneur de peinture</ACT>, <SPAT><LOC>St-Domini- ",
      "que</LOC>, <CARDINAL>23</CARDINAL></SPAT>.\n",
      "\n",
      "<PER>Chaudy père</PER>, <SPAT><LOC>Trois-Couronnes-du- ",
      "Temple</LOC>. <CARDINAL>30</CARDINAL></SPAT>.\n",
      "\n",
      "<PER>Chauvière (Alexandre),</PER> <SPAT><LOC>Roquette</LOC>,<CARDINAL> ",
      "15</CARDINAL>2,</SPAT> <DESC>spécialité de dahlias, géra- ",
      "niums, plantes nouvelles et les ",
      "plus rares, de serre-chaude, serre ",
      "tempérée et de pleine terre, ayant ",
      "reçu 20 médailles d&amp;apos;or et d&amp;apos;ar- ",
      "gent aux diverses expositions; ex- ",
      "pédition pour la France et l&amp;apos;é- ",
      "tranger.</DESC>\n",
      "\n",
      "<PER>Clément</PER>, <SPAT><LOC>Boulets</LOC>, <CARDINAL>22</CARDINAL></SPAT>.\n",
      "\n",
      "<PER>Clément</PER>, <SPAT><LOC>Vaugirard</LOC>, 21</SPAT>2.\n",
      "\n",
      "<PER>Clouet fils aine</PER>, <SPAT><LOC>St-Maur-Popin- ",
      "court</LOC>, <CARDINAL>53</CARDINAL></SPAT>.\n",
      "\n",
      "<PER>Colçon</PER>, <SPAT><LOC>Saint-Dominique-St-Ger- ",
      "main</LOC>, <CARDINAL>167</CARDINAL></SPAT>.\n",
      "\n",
      "<PER>Conard</PER>, <SPAT><LOC>St-Dom.-St-Germ.</LOC>, <CARDINAL>217</CARDINAL></SPAT>.\n",
      "\n",
      "<PER>Constant</PER>, <SPAT><LOC>place du Trône</LOC>, <CARDINAL>6</CARDINAL></SPAT>.\n",
      "\n",
      "<PER>Courtois (Henry), maison</PER> <DESC>Tam</DESC><PER>- ",
      "p</PER><DESC>onnet, horticulteur, possesseur ",
      "des premiers camélias venus en ",
      "France, et donnés à M. Tam- ",
      "ponnet par l&amp;apos;impératrice José- ",
      "phine</DESC>, <SPAT><LOC>Muette</LOC>, <CARDINAL>16</CARDINAL></SPAT><DESC>.</DESC>\n",
      "\n",
      "<PER>Courtois</PER>, <SPAT><LOC>Faub -Poissonnière</LOC>, <CARDINAL>16</CARDINAL>4, ",
      "magasin, <LOC>q. de la Mégisserie</LOC>, <CARDINAL>34</CARDINAL></SPAT>.\n",
      "\n"
     ]
    },
    {
     "name": "stdout",
     "output_type": "stream",
     "text": [
      "<PER>Crepeau</PER>, <SPAT><LOC>allée des Veuves</LOC>, <CARDINAL>79</CARDINAL></SPAT>.\n",
      "\n",
      "<PER>Daube père</PER>, <SPAT><LOC>Charonne</LOC>, <CARDINAL>164.</CARDINAL></SPAT>\n",
      "\n",
      "<PER>Daunard</PER>, <SPAT><LOC>Vaugirard</LOC>, 20</SPAT>4.\n",
      "\n",
      "<PER>Debille</PER>, <SPAT><LOC>Muette</LOC>, <CARDINAL>25</CARDINAL></SPAT>.\n",
      "\n",
      "<PER>Delaunay</PER>, <SPAT><LOC>Santé</LOC>, <CARDINAL>42</CARDINAL></SPAT>.\n",
      "\n",
      "<PER>Delaunay</PER>, <SPAT><LOC>Charonne</LOC>, <CARDINAL>172.</CARDINAL></SPAT>\n",
      "\n",
      "<PER>Delaunay</PER>, <SPAT><LOC>avenue de Breteuil</LOC>, <CARDINAL>36</CARDINAL></SPAT>.\n",
      "\n",
      "<PER>Delaunay</PER>, <SPAT><LOC>Reuilly</LOC>. <CARDINAL>51</CARDINAL></SPAT>.\n",
      "\n",
      "<PER>Deschamps</PER>, <SPAT><LOC>Chevert</LOC>, <CARDINAL>15</CARDINAL></SPAT>.\n",
      "\n",
      "<PER>Dub</PER><SPAT>nis. <LOC>N -D.-des-Champs</LOC>, <CARDINAL>15</CARDINAL></SPAT>.\n",
      "\n",
      "<PER>Dufoix</PER>, <SPAT>Roquette, 15</SPAT>3.\n",
      "\n",
      "<PER>Dufoy jeune</PER>, <SPAT><LOC>Amandiers-Popin- ",
      "court</LOC>, <CARDINAL>35</CARDINAL></SPAT>.\n",
      "\n",
      "<PER>Dulac père</PER>, <SPAT><LOC>Picpus</LOC>, <CARDINAL>23</CARDINAL></SPAT>.\n",
      "\n",
      "<PER>Dupont</PER>, <SPAT><LOC>St-Maur-Popincourt</LOC>, <CARDINAL>50</CARDINAL></SPAT>.\n",
      "\n",
      "<PER>Duval</PER>, <ACT>jardinier ſleuriste, entre- ",
      "preneur de jardins bourgeois</ACT>,<SPAT><LOC> ",
      "Contrescarpe-St-Marcel</LOC>, <CARDINAL>23</CARDINAL></SPAT>.\n",
      "\n",
      "<PER>Estier</PER>, <SPAT><LOC>place Dup&amp;apos;eix</LOC>, <CARDINAL>31</CARDINAL></SPAT>.\n",
      "\n",
      "<PER>Ferrand</PER>, <SPAT><LOC>Glacière</LOC>, <CARDINAL>27</CARDINAL></SPAT>\n",
      "\n",
      "<PER>Fonrouge</PER>, <SPAT><LOC>Lyonnais</LOC>, <CARDINAL>11</CARDINAL></SPAT>.\n",
      "\n",
      "<PER>Forney (Ls</PER>), <SPAT><LOC>Fosses-St-Marc.</LOC>, <CARDINAL>63</CARDINAL></SPAT>.\n",
      "\n",
      "<PER>Fournier</PER>, <SPAT><LOC>Lourcine</LOC>, <CARDINAL>148</CARDINAL></SPAT>.\n",
      "\n",
      "<PER>Gauthier</PER>, <PER>(</PER><DESC>B1849</DESC>, <SPAT><LOC>av Suffren</LOC>, <CARDINAL>20</CARDINAL></SPAT><DESC>.</DESC>\n",
      "\n",
      "<PER>Gautrin</PER>, <SPAT><LOC>St-Maur-Popinc.</LOC>, <CARDINAL>224</CARDINAL></SPAT>\n",
      "\n",
      "<PER>Gelin</PER>, <SPAT><LOC>Mont-Parnasse</LOC>, <CARDINAL>63</CARDINAL></SPAT>.\n",
      "\n",
      "<PER>Gendrier</PER>, <ACT>fleurs naturelles</ACT>, <SPAT><LOC>Saint- ",
      "Honoré</LOC>, <CARDINAL>256</CARDINAL></SPAT>.\n",
      "\n",
      "<PER>Gérard et Courtois</PER>, (<DESC>D 1849</DESC>, <SPAT><LOC>q ",
      "de la Megisserie</LOC>, <CARDINAL>34</CARDINAL></SPAT><DESC>.</DESC>\n",
      "\n",
      "<PER>Germain</PER>, <SPAT><LOC>Amandiers-Popinc.</LOC>, <CARDINAL>32</CARDINAL></SPAT>, ",
      "et <SPAT><LOC>St-Maur-Popincourt</LOC>. <CARDINAL>5</CARDINAL></SPAT>.\n",
      "\n",
      "<PER>Gros</PER>, <SPAT><LOC>St-Maur-Popincourt</LOC>, <CARDINAL>228</CARDINAL></SPAT>.\n",
      "\n",
      "<PER>Hacville fils</PER>, <SPAT><LOC>Loursine</LOC>, <CARDINAL>141</CARDINAL></SPAT>\n",
      "\n",
      "<PER>Hervé</PER>, <SPAT><LOC>Fourneaux</LOC>. <CARDINAL>39</CARDINAL></SPAT>\n",
      "\n",
      "<PER>Heurteaux</PER>, <SPAT><LOC>Charonne</LOC>, <CARDINAL>130</CARDINAL>, <LOC>faub.</LOC></SPAT>\n",
      "\n",
      "<PER>Houdart</PER>, <SPAT><LOC>Montreuil</LOC>, <CARDINAL>82</CARDINAL></SPAT>.\n",
      "\n",
      "<PER>Huard</PER>, <SPAT><LOC>Loursine</LOC>, <CARDINAL>74</CARDINAL></SPAT>.\n",
      "\n",
      "<PER>Jacquin aîné et Cie</PER>, <ACT>gramiers, ",
      "fleuristes et pépiniéristes; com- ",
      "merce en gros et en détail de ",
      "graines potagères et fourragè- ",
      "res, graines de fleurs et d&amp;apos;ar- ",
      "bres, oignons à fleurs et plantes ",
      "et arbres de tous genres</ACT> ; <SPAT><LOC>au Bon ",
      "Jardinier, quai de la Mégisse- ",
      "rie</LOC>, <CARDINAL>14</CARDINAL></SPAT>. <DESC>Cultures</DESC> <ACT>expérimentale</ACT>s,<SPAT><LOC> ",
      "au Grand-Charonne, route de ",
      "Bagnolet</LOC>, <CARDINAL>20</CARDINAL>, <LOC>près Paris</LOC></SPAT>; mé- ",
      "dailles d<ACT>&amp;</ACT>apos;or et d<ACT>&amp;</ACT>apos;argent des <ACT>di</ACT>-<ACT> ",
      "verses societés horticole</ACT>s.\n",
      "\n",
      "<PER>Jamain (H.),</PER> <SPAT><LOC>Cendrier</LOC>, <CARDINAL>1.</CARDINAL></SPAT>\n",
      "\n",
      "<PER>Jamin (J.-L.) et Durand</PER>, <SPAT><LOC>Buffon</LOC>,<CARDINAL> ",
      "69</CARDINAL>, <LOC>près le Jardin des Plantes</LOC></SPAT><DESC>. ",
      "Pepinières générales et siége de ",
      "l&amp;apos;établissement à <LOC>Bourg-la-Reine, ",
      "près Sceaux</LOC></DESC>, (<DESC>B</DESC> 1849<DESC>.</DESC>\n",
      "\n",
      "<PER>Jolly (P.),</PER> <ACT>des sinateur de jardins</ACT>,<SPAT><LOC> ",
      "Petit-Pont</LOC>, <CARDINAL>10</CARDINAL></SPAT>.\n",
      "\n",
      "<PER>Jourdier</PER>, <SPAT><LOC>Charenton</LOC>, <CARDINAL>115</CARDINAL></SPAT>.\n",
      "\n",
      "<PER>Laine</PER>, <SPAT><LOC>Muette</LOC>,<CARDINAL> ",
      "10</CARDINAL></SPAT>.\n",
      "\n",
      "<PER>Lamy</PER>, <SPAT><LOC>Genti ",
      "ly</LOC>, <CARDINAL>36</CARDINAL></SPAT>.\n",
      "\n",
      "<PER>Lapipe fils</PER>, <SPAT><LOC>Basfroid</LOC>. <CARDINAL>11</CARDINAL></SPAT>.\n",
      "\n",
      "<PER>Lapipe père</PER>, <SPAT><LOC>Roquette</LOC>, <CARDINAL>98</CARDINAL></SPAT>.\n",
      "\n",
      "<PER>Lapipe-Pernelle</PER>, <SPAT><LOC>Boulets</LOC>, <CARDINAL>15</CARDINAL></SPAT>.\n",
      "\n",
      "<PER>Lardot</PER>, <SPAT><LOC>Roquette</LOC>, <CARDINAL>181</CARDINAL></SPAT>\n",
      "\n",
      "<PER>Laurent</PER>, <SPAT><LOC>Lourcine</LOC>, <CARDINAL>88</CARDINAL></SPAT>\n",
      "\n",
      "<PER>Lecomte</PER>, <SPAT><LOC>aven. de Lowendal</LOC>, <CARDINAL>51</CARDINAL></SPAT>\n",
      "\n",
      "<PER>Ledrand</PER>, <SPAT><LOC>Vaugirard</LOC>, <CARDINAL>208</CARDINAL></SPAT>.\n",
      "\n",
      "<PER>Ledru</PER>, <SPAT><LOC>Montgallet</LOC>, <CARDINAL>12</CARDINAL></SPAT>.\n",
      "\n",
      "<PER>Lefebure</PER>, <SPAT><LOC>Mont-Parnasse</LOC>, <CARDINAL>49</CARDINAL></SPAT>.\n",
      "\n",
      "<PER>Lemaire-Deconulle</PER>, <SPAT><LOC>Sante</LOC>, <CARDINAL>11</CARDINAL></SPAT> et<SPAT> ",
      "D</SPAT>.\n",
      "\n",
      "<PER>Lemichez (Alp.),</PER> <DESC>horticulteur, ",
      "O 1845 O 1816, O 1846, O ",
      "1847, 0 1847</DESC>, <DESC>O 1847</DESC>, <SPAT><LOC>Trois- ",
      "Couronnes</LOC>, <CARDINAL>18</CARDINAL></SPAT><DESC>.</DESC>\n",
      "\n",
      "<PER>Lemoine</PER>, <SPAT><LOC>passage de l</LOC></SPAT>&amp;<SPAT>apos;Opéra, gal. ",
      "de l</SPAT>&amp;<SPAT>apos;Horloge, <CARDINAL>1.</CARDINAL></SPAT>\n",
      "\n",
      "<PER>Lhomme</PER>, <ACT>jardinier en chef du ",
      "jardin de pharmacie</ACT>, <SPAT><LOC>Enfer</LOC>, <CARDINAL>37</CARDINAL></SPAT>.\n",
      "\n",
      "<PER>Mabire</PER>, <SPAT><LOC>Lourcine</LOC>, <CARDINAL>124</CARDINAL></SPAT>.\n",
      "\n",
      "<PER>Marest</PER>, <SPAT><LOC>Enfer</LOC>, <CARDINAL>87 ter</CARDINAL></SPAT>.\n",
      "\n",
      "<PER>Margottin</PER>. (( <DESC>S. R. 1843 et 1814</DESC>,<SPAT><LOC> ",
      "Marche-aux-Chevaux</LOC>, <CARDINAL>33</CARDINAL></SPAT><DESC>.</DESC>\n",
      "\n",
      "<PER>Martine</PER>, <ACT>jardinier-ſleurisle</ACT>, <SPAT><LOC>im- ",
      "pusse Haute-Fort</LOC>, <CARDINAL>4</CARDINAL></SPAT>.\n",
      "\n",
      "<PER>Martine J.-L.) ",
      "&amp;quot</PER>;<SPAT>Bourguignons, <CARDINAL>29</CARDINAL></SPAT>.\n",
      "\n",
      "<PER>Masson (Pierre</PER>), <SPAT><LOC>boul. Saint-Jac- ",
      "ques</LOC>, <CARDINAL>46</CARDINAL></SPAT>.\n",
      "\n",
      "<PER>Mathieu</PER>, <SPAT><LOC>Buffon</LOC>, <CARDINAL>69</CARDINAL></SPAT>.\n",
      "\n",
      "<PER>Mathieu</PER>, <DESC>( S. Hortic. 1828-32- ",
      "36</DESC>, <SPAT><LOC>Marche-aux-Chevaux</LOC>, <CARDINAL>32</CARDINAL></SPAT>;<SPAT> ",
      "ci-devant <LOC>r. Buffon</LOC>, <CARDINAL>23</CARDINAL></SPAT><DESC>.</DESC>\n",
      "\n",
      "<PER>Michel (Ch. ),</PER> <DESC>spécialité d&amp;apos;éri- ",
      "cas, épacris, azaleas des Indes, ",
      "camélias, etc, fait des envois en ",
      "province et à l&amp;apos;étranger, 81849</DESC>,<SPAT><LOC> ",
      "Bou</LOC>lets, <CARDINAL>31</CARDINAL>, <LOC>Faub. St -An- ",
      "to</LOC></SPAT>\n",
      "\n",
      "<PER>Michon</PER>, <ACT>fleurs naturelles</ACT>, <SPAT><LOC>pass. ",
      "de l</LOC></SPAT><ACT>&amp;</ACT><SPAT><LOC>apos;Opéra, gal. du Baromètre</LOC>,<CARDINAL> ",
      "6</CARDINAL> et <CARDINAL>8</CARDINAL></SPAT>.\n",
      "\n",
      "<PER>Moree</PER>, <SPAT><LOC>Amandiers-Popinc.</LOC>, <CARDINAL>39</CARDINAL></SPAT>.\n",
      "\n",
      "<PER>Morel (Ch)</PER> , <SPAT><LOC>Amandiers-Popin- ",
      "court</LOC>, <CARDINAL>40</CARDINAL></SPAT>.\n",
      "\n",
      "<PER>Moret</PER>, <SPAT><LOC>Cordelières</LOC>, <CARDINAL>3</CARDINAL></SPAT>.\n",
      "\n",
      "<PER>Moynet</PER>, <SPAT><LOC>Roquette</LOC>, <CARDINAL>190</CARDINAL></SPAT>.\n",
      "\n",
      "<PER>Neveu</PER>, <SPAT><LOC>Amandiers-Popinc.</LOC>, <CARDINAL>38</CARDINAL></SPAT>.\n",
      "\n",
      "<PER>Noel</PER>, <ACT>culture de plantes medicina- ",
      "les</ACT>, <SPAT><LOC>des Cornes</LOC>, <CARDINAL>10</CARDINAL></SPAT>.\n",
      "\n",
      "<PER>Noiriel</PER>, <SPAT><LOC>Sèvres</LOC>. <CARDINAL>167</CARDINAL></SPAT>.\n",
      "\n",
      "<PER>Noisette (Lonis) neveu</PER>, <DESC>culture ",
      "spéciale d&amp;</DESC><ACT>apos</ACT><DESC>;azaléas de l&amp;apos;Inde, rho- ",
      "dodendrons, arboréa, camelias, ",
      "rosiers, dahlias et autres, expor- ",
      "tatzon pour la France et l&amp;</DESC>apos<DESC>;étran- ",
      "ger</DESC>, <DESC>O</DESC> 1846, <SPAT>S. C. A.<LOC>, Roquette</LOC>,<CARDINAL> ",
      "142</CARDINAL> (ci-devant), <LOC>Biron</LOC>, <CARDINAL>12</CARDINAL>, <LOC>Faub.- ",
      "St-Jacques</LOC></SPAT><DESC>.</DESC>\n",
      "\n",
      "<PER>Nourry</PER>, <SPAT><LOC>Lourcine</LOC>, <CARDINAL>145</CARDINAL></SPAT>.\n",
      "\n",
      "<PER>Olevrel</PER>, <SPAT><LOC>Croulebarbe</LOC>, <CARDINAL>47</CARDINAL></SPAT>.\n",
      "\n",
      "<PER>Ozange</PER>, <SPAT><LOC>Faub.-St-Antoine</LOC>, <CARDINAL>277</CARDINAL></SPAT>.\n",
      "\n"
     ]
    },
    {
     "name": "stdout",
     "output_type": "stream",
     "text": [
      "<PER>Paillet</PER>, <SPAT><LOC>Austerlitz-St-Marcel</LOC>. <CARDINAL>4</CARDINAL></SPAT>\n",
      "\n",
      "<PER>Pare</PER>, <SPAT><LOC>Lourcine</LOC>. <CARDINAL>147</CARDINAL></SPAT>.\n",
      "\n",
      "<PER>Pele</PER>, <SPAT><LOC>Lourcine</LOC>, <CARDINAL>81</CARDINAL>, 0</SPAT> <DESC>S. H. 1841, ",
      "plantes exotiques et indigènes, ",
      "culture spéciale des plantes viva- ",
      "ces les plus rares et les plus nou- ",
      "velles de pleine terre et de serre ",
      "tempérée, expédilion et exporla- ",
      "tion pour la France et l&amp;apos;étranger.</DESC>\n",
      "\n",
      "<PER>Pertu sot</PER>, <SPAT><LOC>Roquette</LOC>, <CARDINAL>156</CARDINAL></SPAT>\n",
      "\n",
      "<PER>Picard (Vve</PER><SPAT>, <LOC>Roquette</LOC>, <CARDINAL>167</CARDINAL></SPAT>.\n",
      "\n",
      "<PER>Pilloy</PER>, <SPAT><LOC>Lourcine</LOC>, <CARDINAL>122</CARDINAL></SPAT>.\n",
      "\n",
      "<PER>Pinard</PER>, <SPAT><LOC>avenue de Breteuil</LOC>, <CARDINAL>68</CARDINAL></SPAT>.\n",
      "\n",
      "<PER>Pivert</PER>, <SPAT><LOC>Kléber</LOC>. <CARDINAL>33</CARDINAL></SPAT>.\n",
      "\n",
      "<PER>Potor</PER>, <SPAT><LOC>Boulets</LOC>, <CARDINAL>30</CARDINAL></SPAT>\n",
      "\n",
      "<PER>Prevost</PER>, <DESC><LOC>S. Hortic.</LOC> 18<LOC>32</LOC></DESC>, <SPAT><LOC>ga- ",
      "lerie de Nemours</LOC>, <CARDINAL>13</CARDINAL> et <CARDINAL>14</CARDINAL>, <LOC>Pa- ",
      "lais-National</LOC></SPAT><DESC>.</DESC>\n",
      "\n",
      "<PER>Quillardet, O S. Hortic</PER><DESC>. 1832</DESC>,<SPAT><LOC> ",
      "Buisson-St-Louis</LOC>, <CARDINAL>23</CARDINAL></SPAT><DESC>.</DESC>\n",
      "\n",
      "<PER>Ragonot</PER>, <ACT>fleurs natur.</ACT>, <SPAT><LOC>Paix</LOC>, <CARDINAL>18</CARDINAL></SPAT>.\n",
      "\n",
      "<SPAT><LOC>Rapp. de la Clef</LOC>, <CARDINAL>37</CARDINAL></SPAT>.\n",
      "\n",
      "<PER>Renon (P.</PER>), <SPAT><LOC>Fourneaux</LOC>, <CARDINAL>35</CARDINAL></SPAT>.\n",
      "\n",
      "<PER>Rousselle</PER>, <SPAT><LOC>Roquette</LOC>, 16</SPAT>1.\n",
      "\n",
      "<PER>Rouveau</PER>, <SPAT><LOC>Amandiers-Popinc.</LOC>, <CARDINAL>29</CARDINAL></SPAT>.\n",
      "\n",
      "<PER>Ryfkogel (J.-B.</PER>), <SPAT><LOC>Vaugirard</LOC>, <CARDINAL>187</CARDINAL></SPAT>.\n",
      "\n",
      "<PER>Saugé</PER>, <SPAT><LOC>Sante</LOC>, <CARDINAL>42</CARDINAL></SPAT>\n",
      "\n",
      "<PER>Sebillotte, Mechin, I</PER>\n",
      "\n",
      "<PER>Stinville</PER>, <SPAT><LOC>Petite-Reuilly</LOC>, <CARDINAL>26</CARDINAL></SPAT>.\n",
      "\n",
      "<PER>Tavernier</PER>, <SPAT><LOC>Fosses-St-Marcel</LOC>, <CARDINAL>16</CARDINAL></SPAT>.\n",
      "\n",
      "<PER>Thibault-Prudent</PER>, <ACT>arbres frui- ",
      "tiers, forestiers et d&amp;apos;agrément, ",
      "graines potagères, de fleurs me- ",
      "dicinales, fourragères, de grande ",
      "culture, expédie pour la</ACT> <DESC>France</DESC><ACT> ",
      "et l&amp;apos;étranger</ACT>, <SPAT><LOC>rue de la Ferron- ",
      "nerie</LOC>, <CARDINAL>11</CARDINAL><LOC>, près le marché des In- ",
      "nocents, à la Cloche des halles ",
      "aux legumes</LOC></SPAT><ACT>.</ACT>\n",
      "\n",
      "<PER>Thibaut et Ketelèer</PER>, <ACT>horticulteurs</ACT>,<SPAT><LOC> ",
      "r. de Charonne</LOC>, <CARDINAL>146</CARDINAL></SPAT><ACT>, plantes ",
      "nouvelles de serre, d&amp;apos;orangerie ",
      "et de pleine terre ; collections ",
      "spéciales de camelias, azaléa ",
      "de l&amp;apos;Inde, pélargoniums, dahlias ",
      "verveines, fuchsia, rhododen- ",
      "drum et conifères (arbres verts ",
      "résineux), etc</ACT>.\n",
      "\n",
      "<PER>Tollard (Jean) jeune</PER>, <SPAT><LOC>place des ",
      "Trois - Maries</LOC>, <CARDINAL>4</CARDINAL></SPAT> ; <SPAT>cultures, <LOC>Ro- ",
      "quette</LOC>, <CARDINAL>113</CARDINAL>, <LOC>Faub.-St-Antoine</LOC></SPAT>.\n",
      "\n",
      "<PER>Tonnellier</PER><SPAT><LOC> ",
      "L. ",
      "Postes</LOC>, <CARDINAL>45</CARDINAL></SPAT>.\n",
      "\n",
      "<PER>Toussaint père et fils</PER>, <SPAT><LOC>Astorg</LOC>, <CARDINAL>21</CARDINAL></SPAT>.\n",
      "\n",
      "<PER>Touvais, successeur de Roblin</PER>,<ACT> ",
      "horticulteur-commerçant, culture ",
      "spéciale de rosiers, dahlias et di- ",
      "verses plantes de choix, pots à ",
      "fleurs et bouquets à main pour ",
      "fètes</ACT>, <SPAT><LOC>Notre-Dame-des-Champs</LOC>,<CARDINAL> ",
      "85</CARDINAL>, <LOC>ci-devant</LOC> <CARDINAL>47</CARDINAL>, <LOC>pres du Luxem- ",
      "bourg</LOC></SPAT><ACT>.</ACT>\n",
      "\n",
      "<PER>Tripet Vve) et Leblanc</PER>, <DESC>grainiers- ",
      "fleuristes et pépinieristes</DESC>, <SPAT><LOC>b. des ",
      "Capucines</LOC>, <CARDINAL>21</CARDINAL> (<LOC>AU CAPOUSTA</LOC>), ",
      "cultures <LOC>r</LOC>. <LOC>Biz</LOC>et, <CARDINAL>27</CARDINAL> (Champs- ",
      "Elysées</SPAT>), <DESC>graines de toutes es- ",
      "pèces, potagères, de fleurs, de ",
      "gazon de prairie, d&amp;apos;arbres, d&amp;apos;ar- ",
      "bustes et d&amp;apos;arbrisseaux, toutes ",
      "espèces d&amp;apos;oignons à fleurs, ané- ",
      "mones, jacinthes, renoncules, tu- ",
      "lipes par noms et coul urs et en ",
      "mélange, et melange de ces qua- ",
      "tre plantes bulbeuses, arbres à ",
      "fruits, arbres, arbustes et arbris- ",
      "seaux d&amp;apos;utilité et d&amp;apos;ornement, ",
      "rosiers, dahlias, oeillets, plantes ",
      "vivaces, etc.;  Société horti- ",
      "culture 1838, 1839, 1840, 1841, ",
      "1842</DESC>, <DESC>O 1843 et 1844; prix ",
      "d&amp;apos;honneur fondé par la duchesse ",
      "d&amp;apos;Orleans.</DESC>\n",
      "\n",
      "<PER>Tructin</PER>, <SPAT><LOC>St-Maur-Popinc.</LOC> , <CARDINAL>230</CARDINAL></SPAT>.\n",
      "\n",
      "<PER>Vaillant</PER>, <SPAT><LOC>boul. des Italiens</LOC>, <CARDINAL>29</CARDINAL></SPAT>.\n",
      "\n",
      "<PER>Vasselin</PER>, <SPAT><LOC>Roquette</LOC>, <CARDINAL>115</CARDINAL></SPAT>.\n",
      "\n",
      "<PER>Verdier (Vor) père</PER>, <DESC>spécialité de ",
      "rosiers, pivoines, noureautes d&amp;apos;ar- ",
      "bustes et plantes de plein air</DESC>, <DESC>O ",
      "décernée par la société centrale ",
      "d&amp;apos;horticuiture 1845</DESC>; <DESC>S</DESC>. C., ",
      "d<DESC>&amp;</DESC>apos;horticulture, 1841 et 1844 ; ",
      "A <DESC>Société</DESC> des <DESC>horticulteurs réu</DESC>-<DESC> ",
      "nis</DESC>; <DESC>Société nationale</DESC> d<DESC>&amp;</DESC>apos;<DESC>hor</DESC>-<DESC> ",
      "ticulture</DESC> 1842; D 1849, <SPAT><LOC>rue des ",
      "Trois-Ormes</LOC>, <CARDINAL>5</CARDINAL>, à la gare d</SPAT><DESC>&amp;</DESC><SPAT>apos;I- ",
      "vry</SPAT><DESC>.</DESC>\n",
      "\n",
      "<PER>Voiriot père</PER>, <ACT>maraicher</ACT>, <SPAT><LOC>avenue ",
      "Breteuil</LOC>, <CARDINAL>43</CARDINAL></SPAT>.\n",
      "\n",
      "<PER>Carpentier</PER>, <DESC>fab. de mannequins ",
      "d&amp;apos;homme et de cheval, <LOC>D 18</LOC>49</DESC> ,<SPAT> ",
      "Menilmontant, <CARDINAL>107</CARDINAL></SPAT><DESC>.</DESC>\n",
      "\n",
      "<PER>Croiset (Mme</PER>), <ACT>mannequins pour ",
      "accouchem</ACT>., <SPAT><LOC>Maçons Sorbonne</LOC>, <CARDINAL>21</CARDINAL></SPAT>.\n",
      "\n",
      "<PER>Debourge</PER>, <SPAT>à la Palette d&amp;apos;Or, <LOC>Ar- ",
      "bre-Sec.</LOC> <CARDINAL>46</CARDINAL>.</SPAT>\n",
      "\n",
      "<PER>Gagnery</PER>, <DESC>fabricant</DESC>, <DESC>par brevet d</DESC>&amp;<DESC>apos;in- ",
      "vention, de mannequins perfec- ",
      "tionnés se tenant sur leurs jam- ",
      "bes sans le secours d</DESC>&amp;apos;<DESC>un pied ni</DESC> ",
      "d&amp;apos;<DESC>aucun support</DESC>, et offrant l&amp;apos;a- ",
      "vantage de se grouper aussi près ",
      "l&amp;apos;un de l&amp;apos;autre qu&amp;apos;on le désire, ",
      "sans que rien puisse gêner le ",
      "mouvement des jambes; assorti- ",
      "ment de <DESC>mannequins ordinaires ",
      "à des prix très-mod</DESC>érés, <SPAT><LOC>St Mar- ",
      "tin</LOC>, 25</SPAT>1/, M. H. 1849.*\n",
      "\n",
      "<PER>Giroux (A.) et Cie</PER>, <ACT>vente et lo- ",
      "cation de mannequins remarqua- ",
      "bles par leur bon établissement et ",
      "leur modicité de prix</ACT>, <SPAT><LOC>Coq-St- ",
      "Honore</LOC>, <CARDINAL>3</CARDINAL></SPAT><ACT>.</ACT>\n",
      "\n",
      "<PER>Hallé</PER>, <SPAT><LOC>St-Denis</LOC>, <CARDINAL>239</CARDINAL></SPAT>.\n",
      "\n",
      "<PER>Paillard (J.-M.), successeur de ",
      "J. Panier</PER>, <DESC>mannequins et ma- ",
      "quelles de toutes sortes, <LOC>Paris ",
      "et façon de Paris</LOC>,  <CARDINAL>18</CARDINAL>44</DESC>,<SPAT><LOC> ",
      "Francs-Bourgeois-Marais</LOC>, <CARDINAL>21</CARDINAL></SPAT><DESC>.</DESC>\n",
      "\n",
      "<PER>Renaudin</PER>, <ACT>mannequins pour pein- ",
      "tres</ACT>, <SPAT><LOC>Montmartre</LOC>, <CARDINAL>12</CARDINAL></SPAT>.\n",
      "\n",
      "<PER>Ricois jeune</PER>, <ACT>location de très— ",
      "beaux mannequins neufs</ACT>, <SPAT><LOC>Petits- ",
      "Augustins</LOC>, <CARDINAL>11</CARDINAL></SPAT>.\n",
      "\n",
      "<PER>Vaissière aîné</PER>, <DESC>inventeur et seul ",
      "fabricant des bustes en osier per- ",
      "fectionnés pour tailleurs et con- ",
      "fectionneurs : il leur montre le ",
      "procédé pour les garnir</DESC>, <SPAT><LOC>Sainte- ",
      "Avoie</LOC>, <CARDINAL>32</CARDINAL></SPAT><DESC>.</DESC>\n",
      "\n",
      "<PER>Cagin</PER>, <ACT>marbrier, assortiment de ",
      "cheminées et marbres pour meu- ",
      "bles</ACT>, <SPAT><LOC>Faub.—St-Antoine</LOC>, <CARDINAL>21</CARDINAL></SPAT>, et<SPAT><LOC> ",
      "Roquette</LOC>, <CARDINAL>2</CARDINAL>, <LOC>cour du Cheval- ",
      "B</LOC></SPAT>\n",
      "\n",
      "<PER>Dargaud et Cie</PER>, <SPAT><LOC>boul. des Filles- ",
      "du Calvaire</LOC>, <CARDINAL>20</CARDINAL></SPAT>; <ACT>carrières à Chas- ",
      "sal, ateliers de sculptures méca- ",
      "niques</ACT> <SPAT>à <LOC>Molinges (Jura</LOC></SPAT><ACT>).</ACT>\n",
      "\n",
      "<PER>Deconchy</PER>, <DESC>O 1834</DESC>, <SPAT><LOC>Faub.-St- ",
      "Martin</LOC>, <CARDINAL>124</CARDINAL></SPAT><DESC>.</DESC>\n",
      "\n",
      "<PER>Dervillé et Cie</PER>, <ACT>marbres français ",
      "et étrangers, bruts et polis, com- ",
      "mission, dép. de MM. Beaugrand ",
      "et Cie, de Bousigmies (Nord), ",
      "albâ res, pierres de Tonnerre</ACT>,<SPAT><LOC> ",
      "quai Jemmapes</LOC>, <CARDINAL>36</CARDINAL> et <CARDINAL>38</CARDINAL></SPAT>, <SPAT>mai- ",
      "son à <LOC>Marseille</LOC></SPAT>, <SPAT>dépôt à <LOC>Cette</LOC></SPAT><ACT>.</ACT>\n",
      "\n"
     ]
    },
    {
     "name": "stdout",
     "output_type": "stream",
     "text": [
      "<PER>Dupuis (J.</PER>), <ACT>pierres de liais</ACT>, <SPAT><LOC>petite ",
      "ue St-Pierre-Amelot</LOC>, <CARDINAL>22</CARDINAL></SPAT>.\n",
      "\n",
      "<PER>Friand (B.),</PER> <SPAT><LOC>petite rue St-Pierre- ",
      "Popincourt</LOC>, <CARDINAL>18</CARDINAL></SPAT>.\n",
      "\n",
      "<PER>Henraux (S.),</PER> <ACT>propriétaire de car- ",
      "rières à l</ACT><DESC>&amp;apos</DESC><ACT>;étranger</ACT>; <SPAT>maisons à ",
      "Carrara (Modène) et à Seravezza ",
      "(Toscane), <LOC>Tronchet</LOC>, <CARDINAL>9</CARDINAL></SPAT><DESC>.</DESC>\n",
      "\n",
      "<PER>Lemaire</PER>, <SPAT><LOC>Saint-Pierre - Popin- ",
      "court</LOC>, <CARDINAL>18</CARDINAL>, <LOC>dans le pass.</LOC> <CARDINAL>2</CARDINAL></SPAT>.\n",
      "\n",
      "<PER>Millardet</PER>, <ACT>marbres français et ",
      "étrangers, commission</ACT>, <SPAT><LOC>Chemin- ",
      "Vert</LOC>, <CARDINAL>9</CARDINAL></SPAT>.\n",
      "\n",
      "<PER>Thomas</PER>, <ACT>marbres de France, de ",
      "Belgique et d</ACT>&amp;<ACT>apos;Italie</ACT>, <SPAT><LOC>petite r. St- ",
      "Pierre-Popincourt</LOC>, <CARDINAL>4</CARDINAL></SPAT>.\n",
      "\n",
      "<PER>Association du Sablier</PER> ; <ACT>marbriers ",
      "et tailleurs de pierre réunis, ",
      "pour les monuments funèbres ",
      "et publics, ornements de pre- ",
      "mier choix pour la sculpture sur ",
      "pierre et sur marbre, transports ",
      "des corps en province et à l&amp;apos;é- ",
      "tranger</ACT> , <SPAT><LOC>Fontaine—St-Georges</LOC>,<CARDINAL> ",
      "46</CARDINAL></SPAT><ACT>.</ACT>\n",
      "\n",
      "<PER>Admant</PER>, <SPAT><LOC>Roquette</LOC>, <CARDINAL>167</CARDINAL></SPAT>.\n",
      "\n",
      "<PER>Amiot jeune</PER>, <SPAT><LOC>q.Jemmapes</LOC>, <CARDINAL>180</CARDINAL></SPAT>.\n",
      "\n",
      "<PER>Amiot</PER>, <SPAT><LOC>Pontoise</LOC>, <CARDINAL>23</CARDINAL></SPAT>.\n",
      "\n",
      "<PER>Bala</PER><SPAT>gny. <LOC>Urselines</LOC>, <CARDINAL>21</CARDINAL></SPAT>.\n",
      "\n",
      "<PER>Barall</PER>, <ACT>sculpteur</ACT>, <SPAT><LOC>St-Nicolas-St- ",
      "Antoine</LOC>, <CARDINAL>7</CARDINAL></SPAT>.\n",
      "\n",
      "<PER>Barbier</PER>, <SPAT><LOC>Roquette</LOC>,<CARDINAL> ",
      "166</CARDINAL></SPAT>\n",
      "\n",
      "<PER>Basserie et Cie.</PER> <SPAT>Roquette, <CARDINAL>188</CARDINAL></SPAT>.\n",
      "\n",
      "<PER>Benard</PER>, <SPAT><LOC>Pot-de-Fer-St-Marcel</LOC>,<CARDINAL> ",
      "4</CARDINAL></SPAT>.\n",
      "\n",
      "<PER>Bernard</PER>, <SPAT><LOC>Enfer</LOC>, <CARDINAL>124</CARDINAL></SPAT>\n",
      "\n",
      "<PER>Beuvrier</PER>, <ACT>graveur</ACT>, <SPAT><LOC>Roquette ",
      "S</LOC></SPAT>\n",
      "\n",
      "<PER>Blot frères</PER>, <SPAT><LOC>Roquette</LOC>, 18</SPAT>4.\n",
      "\n",
      "<PER>Boiteux</PER>, <SPAT><LOC>Francs-Bourgeois -Ma- ",
      "rais</LOC>, <CARDINAL>0.</CARDINAL></SPAT>\n",
      "\n",
      "<PER>Boiton dit Latonr</PER>, <ACT>sculpteur-mar- ",
      "brier</ACT>, <SPAT>Roquette, <CARDINAL>111</CARDINAL></SPAT>.\n",
      "\n",
      "<PER>Bolard</PER>, <SPAT><LOC>Nve-Coquenard</LOC>, <CARDINAL>13 bis</CARDINAL></SPAT>.\n",
      "\n",
      "<PER>Bordes</PER>, <SPAT><LOC>Roquette</LOC>, 16</SPAT>3.\n",
      "\n",
      "<PER>Boucneau jeune</PER>, <SPAT><LOC>Amelot</LOC>, <CARDINAL>76</CARDINAL></SPAT>.\n",
      "\n",
      "<PER>Bouguet</PER>, <SPAT><LOC>St-Denis</LOC>, <CARDINAL>380</CARDINAL></SPAT>.\n",
      "\n",
      "<PER>Bourgès</PER>, <SPAT><LOC>Roquette</LOC>, 15</SPAT>3.\n",
      "\n",
      "<PER>Bourrousse fils aîné</PER>, <DESC>fab. de fon- ",
      "taines filtrantes en pierre et en ",
      "marbre, fait la fourniture de ",
      "toutes sortes de pierres taillées, ",
      "tant pour le bâtiment que pour ",
      "travaux hydrauliques ; fait éga- ",
      "lement la marbrerie, tant pour ",
      "meubles et bâtiments que pour ",
      "monuments funèbres. Fait tou— ",
      "tes sortes de carrelages en liais ",
      "et en marbres , mosaïques, dal- ",
      "lages, etc.; fontaines en gros, ",
      "en pierre et en marbre, commis- ",
      "sion en marbrerie</DESC>, <SPAT>Ste-Avoye,<CARDINAL> ",
      "59</CARDINAL>, hôtel <LOC>St-Aignan</LOC></SPAT><DESC>.</DESC>\n",
      "\n",
      "<PER>Brasseur</PER>, <SPAT><LOC>Perle</LOC>, <CARDINAL>4</CARDINAL></SPAT>\n",
      "\n",
      "<PER>Brasseur</PER>, <SPAT><LOC>Petite</LOC> St-Pierre-Popin- ",
      "court, <LOC>8, ruelle des Lilas</LOC>, <CARDINAL>10</CARDINAL></SPAT>.\n",
      "\n",
      "<PER>Bray</PER>, <SPAT><LOC>Mont-Parnasse</LOC>, <CARDINAL>41</CARDINAL></SPAT>.\n",
      "\n",
      "<PER>Brizard</PER>, <ACT>sculpteur-marbrier</ACT>, <SPAT><LOC>Ro- ",
      "quette</LOC>, <CARDINAL>170</CARDINAL></SPAT>.\n",
      "\n",
      "<PER>Brunard</PER>, <SPAT><LOC>Amelot</LOC>,<CARDINAL> ",
      "76</CARDINAL></SPAT>.\n",
      "\n",
      "<PER>Cabot</PER>, <SPAT><LOC>Roquette</LOC>, 17</SPAT>2.\n",
      "\n",
      "<PER>Cagin</PER>, <ACT>assortiment de cheminées et ",
      "marbres pour meubles</ACT>, <SPAT><LOC>Faub.-St- ",
      "Antome</LOC>, <CARDINAL>21</CARDINAL></SPAT>, et <SPAT><LOC>Roquette</LOC>, <CARDINAL>2</CARDINAL>,<LOC> ",
      "cour du Cheval-Blanc</LOC></SPAT>.\n",
      "\n",
      "<PER>Catau</PER>, <SPAT><LOC>Anjou-St-Honoré</LOC>, <CARDINAL>71</CARDINAL></SPAT>.\n",
      "\n",
      "<PER>Chambroy fils</PER>, <ACT>sculpteur-marbrier</ACT>,<SPAT> ",
      "Roquette, <CARDINAL>157</CARDINAL></SPAT>.\n",
      "\n",
      "<PER>Chappey</PER>, <SPAT><LOC>Fontaine-St-Georges</LOC>,<CARDINAL> ",
      "40</CARDINAL></SPAT>.\n",
      "\n",
      "<PER>Chardron - Voisin</PER>, <SPAT><LOC>Ménilmontant</LOC>,<CARDINAL> ",
      "7</CARDINAL></SPAT>.\n",
      "\n",
      "<PER>Charpentier et Thillier</PER>, <SPAT><LOC>Mont-Par- ",
      "nasse</LOC>, <CARDINAL>77</CARDINAL></SPAT>.\n",
      "\n",
      "<PER>Charrin</PER>, <ACT>monuments funéraires</ACT>,<SPAT><LOC> ",
      "Mont-Parnasse</LOC>, <CARDINAL>45</CARDINAL></SPAT>.\n",
      "\n",
      "<PER>Chaumette</PER>, <ACT>monuments funèbres</ACT>,<SPAT><LOC> ",
      "Roquette</LOC>, <CARDINAL>178</CARDINAL></SPAT>.\n",
      "\n",
      "<PER>Chauvet</PER>, <SPAT><LOC>Princesse</LOC>, <CARDINAL>4</CARDINAL></SPAT>.\n",
      "\n",
      "<PER>Chauvois</PER>, <SPAT><LOC>Roquette</LOC>, <CARDINAL>163</CARDINAL></SPAT>\n",
      "\n",
      "<PER>Coquet neveu</PER>, <SPAT><LOC>Martel</LOC>, <CARDINAL>10</CARDINAL></SPAT>.\n",
      "\n",
      "<PER>Coune Silvestre,</PER> <DESC>fait</DESC> <ACT>la mosaique ",
      "de Florence en relief et les in- ",
      "crustations de différents marbres ",
      "de couleur et pierres fines; res- ",
      "tauration d&amp;apos;objets d&amp;apos;or et de cu- ",
      "riosité</ACT>, <SPAT><LOC>r. du Sabot</LOC>, <CARDINAL>2</CARDINAL>et <CARDINAL>4</CARDINAL>, don- ",
      "nant<LOC> ",
      "u Four-St-Giermamn</LOC></SPAT><ACT>.</ACT>\n",
      "\n",
      "<PER>Crétin</PER>, <SPAT><LOC>St-Thomas-d&amp;apos;Enfer</LOC>, <CARDINAL>16</CARDINAL></SPAT>.\n",
      "\n",
      "<PER>Dalby</PER>, <SPAT><LOC>Roquette</LOC>, 17</SPAT>4.\n",
      "\n",
      "<PER>Daviau</PER>, <SPAT><LOC>Roquette</LOC>, <CARDINAL>196</CARDINAL></SPAT>.\n",
      "\n",
      "<PER>David ",
      "J.) ainé</PER>, <SPAT><LOC>Corbeau</LOC>, <CARDINAL>26</CARDINAL></SPAT>.\n",
      "\n",
      "<PER>Debedé</PER>, <ACT>sculpt</ACT>., <SPAT>pass. de l</SPAT>&amp;<SPAT>apos;Indus- ",
      "trie, <CARDINAL>20</CARDINAL></SPAT>.\n",
      "\n",
      "<PER>Delaforge</PER>, <SPAT><LOC>Montparnasse</LOC>, <CARDINAL>75</CARDINAL></SPAT>, et<SPAT><LOC> ",
      "Delambre</LOC>, <CARDINAL>22</CARDINAL></SPAT>.\n",
      "\n",
      "<PER>Delaunay</PER>, <SPAT>Roquette, 17</SPAT>1.\n",
      "\n",
      "<PER>Delle</PER>, <SPAT><LOC>Crebillon</LOC>, <CARDINAL>6</CARDINAL></SPAT>.\n",
      "\n",
      "<PER>Dereume</PER>, <SPAT><LOC>petite rue St-Pierre- ",
      "Popincourt</LOC>, <CARDINAL>3</CARDINAL></SPAT>, et <SPAT><LOC>r. Amelot</LOC>, <CARDINAL>34 ",
      "Z</CARDINAL></SPAT> ",
      ").\n",
      "\n",
      "<PER>Déthy (B.)</PER><SPAT><LOC> ",
      "Grand-Prieuré</LOC>, <CARDINAL>7</CARDINAL></SPAT>.\n",
      "\n",
      "<PER>Diot</PER>, <SPAT><LOC>Mont-Parnasse</LOC>, <CARDINAL>67</CARDINAL></SPAT>.\n",
      "\n",
      "<PER>Dubois-Vital</PER>,<SPAT><LOC>Petite-Rue-St-Pierre- ",
      "Popincourt</LOC>, <CARDINAL>18</CARDINAL></SPAT>.\n",
      "\n",
      "<PER>Dubuis</PER>, <SPAT><LOC>Montparnasse</LOC>, <CARDINAL>20</CARDINAL></SPAT>.\n",
      "\n",
      "<PER>Dumond ",
      "A.),</PER> <SPAT><LOC>Roquette</LOC>, <CARDINAL>176</CARDINAL></SPAT>.\n",
      "\n",
      "<PER>Dumont, et jardinier</PER>, <SPAT><LOC>Delambre, ",
      "QO</LOC>.</SPAT>\n",
      "\n",
      "<PER>Duport</PER>, <SPAT><LOC>Marché-aux-Fleurs</LOC>, <CARDINAL>3</CARDINAL></SPAT>.\n",
      "\n",
      "<PER>Duquenoy</PER>, <SPAT><LOC>Grange-aux-Belles</LOC>,<CARDINAL> ",
      "43</CARDINAL></SPAT>.\n",
      "\n",
      "<PER>Durand jeune</PER>, <SPAT><LOC>Charenton</LOC>, <CARDINAL>55</CARDINAL></SPAT>.\n",
      "\n",
      "<PER>Durand-Sol</PER>, <SPAT><LOC>Moreau</LOC>, <CARDINAL>57</CARDINAL></SPAT>.\n",
      "\n",
      "<PER>Duval</PER>, <ACT>monuments funebres</ACT><SPAT><LOC> ",
      "Mont-Parnasse</LOC>, <CARDINAL>62</CARDINAL></SPAT>.\n",
      "\n",
      "<PER>Duvivier</PER>, <ACT>Cord</ACT><SPAT>erie-St-Honoré,<CARDINAL>7</CARDINAL></SPAT>, ",
      "et <SPAT><LOC>Madeleine</LOC>, <CARDINAL>11</CARDINAL></SPAT>.\n",
      "\n",
      "<PER>Egloff</PER>, <SPAT><LOC>Roquette</LOC>, <CARDINAL>137</CARDINAL></SPAT>.\n",
      "\n",
      "<PER>Feder</PER>, <SPAT><LOC>Moscou</LOC>, <CARDINAL>7</CARDINAL></SPAT>.\n",
      "\n",
      "<PER>Fendt-Adam</PER>, <SPAT><LOC>Popincourt</LOC>, <CARDINAL>39</CARDINAL></SPAT>.\n",
      "\n",
      "<PER>Ferey</PER>, <SPAT><LOC>Roquette</LOC>, 16</SPAT>1.\n",
      "\n",
      "<PER>Flamarion</PER>, <ACT>monuments funebres</ACT>,<SPAT> ",
      "Roquette, <CARDINAL>107</CARDINAL></SPAT>.\n",
      "\n",
      "<PER>Foucher</PER>, <SPAT><LOC>Roquette</LOC>, <CARDINAL>117</CARDINAL></SPAT>.\n",
      "\n",
      "<PER>Frison-Durand</PER>, <SPAT><LOC>St-Nicolas-St-An- ",
      "tolne</LOC>, <CARDINAL>15</CARDINAL></SPAT>.\n",
      "\n",
      "<PER>Gardien</PER>, <SPAT><LOC>Faub. -St-Antoine</LOC>,<CARDINAL> ",
      "15</CARDINAL></SPAT>.\n",
      "\n",
      "<PER>Genevois</PER>, <SPAT><LOC>Jean-Robert</LOC>, <CARDINAL>7</CARDINAL></SPAT>.\n",
      "\n",
      "<PER>George</PER> , <SPAT><LOC>Petite-Rue-St-Pierre— ",
      "Popincourt</LOC>, <CARDINAL>18</CARDINAL></SPAT>.\n",
      "\n",
      "<PER>Georgery (A.),</PER> <ACT>sculpteur</ACT>, <SPAT><LOC>Van- ",
      "neau</LOC>. <CARDINAL>30</CARDINAL></SPAT>\n",
      "\n"
     ]
    },
    {
     "name": "stdout",
     "output_type": "stream",
     "text": [
      "<PER>Ghislain</PER>, <SPAT><LOC>St-Sebastien</LOC>, <CARDINAL>15</CARDINAL></SPAT>.\n",
      "\n",
      "<PER>Girard et Cie</PER>, <SPAT><LOC>Fontaine—St-Geor- ",
      "ge</LOC>, <CARDINAL>29</CARDINAL></SPAT>.\n",
      "\n",
      "<PER>Godet</PER>, <SPAT><LOC>Roquette</LOC>, <CARDINAL>149</CARDINAL></SPAT>.\n",
      "\n",
      "<PER>Gouault</PER>, <SPAT><LOC>Suresne</LOC>,<CARDINAL> ",
      "25</CARDINAL></SPAT>.\n",
      "\n",
      "<PER>Grandpierre</PER>, <ACT>en pendules</ACT>, <SPAT><LOC>Tourai- ",
      "ne-Marals</LOC>, <CARDINAL>3</CARDINAL></SPAT>.\n",
      "\n",
      "<PER>Greban</PER>, <SPAT><LOC>Roquette</LOC>, <CARDINAL>180</CARDINAL></SPAT>.\n",
      "\n",
      "<PER>Groley</PER>, <SPAT><LOC>Mont-Parnasse</LOC>, <CARDINAL>74</CARDINAL></SPAT>.\n",
      "\n",
      "<PER>Guerin fils</PER>, <ACT>entrepreneur de mo- ",
      "numents funèbres</ACT>, <SPAT><LOC>Roquette</LOC>, ",
      "18</SPAT>1.\n",
      "\n",
      "<PER>Guillou</PER>, <SPAT><LOC>Marais-du-Temple</LOC>, <CARDINAL>52</CARDINAL></SPAT>.\n",
      "\n",
      "<PER>Hairion</PER>, <SPAT><LOC>St-Pierre-Popinc.</LOC>, <CARDINAL>18</CARDINAL></SPAT>.\n",
      "\n",
      "<PER>Hamelin fils</PER>, <SPAT><LOC>Roquette</LOC>, <CARDINAL>155</CARDINAL></SPAT>.\n",
      "\n",
      "<PER>Hardy</PER>, <SPAT><LOC>Tournelle</LOC>, <CARDINAL>22</CARDINAL></SPAT>.\n",
      "\n",
      "<PER>Hersent et fils</PER>, <SPAT><LOC>boulev. des Inva- ",
      "Ides</LOC>, <CARDINAL>15</CARDINAL></SPAT>.\n",
      "\n",
      "<PER>Hubert</PER>, <SPAT><LOC>Vieille-du Temple</LOC>, <CARDINAL>110</CARDINAL></SPAT>.\n",
      "\n",
      "<PER>Jacquet</PER>, <SPAT><LOC>Mont-Parnasse</LOC>, <CARDINAL>59</CARDINAL></SPAT>.\n",
      "\n",
      "<PER>Jacquet et Cie</PER>, <SPAT><LOC>Fontaine-St-Geor- ",
      "ge</LOC>, <CARDINAL>26</CARDINAL></SPAT>.\n",
      "\n",
      "<PER>Jolly fils</PER>, <SPAT><LOC>Roquette</LOC>, <CARDINAL>190</CARDINAL></SPAT>.\n",
      "\n",
      "<PER>Jonniaux</PER>, <SPAT><LOC>Faub.-Saint-Antoine</LOC>,<CARDINAL> ",
      "J5</CARDINAL></SPAT>.\n",
      "\n",
      "<PER>Jouniaux</PER>, <SPAT><LOC>Duperré</LOC>, <CARDINAL>13</CARDINAL></SPAT>.\n",
      "\n",
      "<PER>Jubier</PER>, <SPAT><LOC>boul. des Amandiers</LOC>, <CARDINAL>47</CARDINAL> ",
      "et <CARDINAL>48</CARDINAL></SPAT>.\n",
      "\n",
      "<PER>Jullien-Cyr</PER>, <SPAT><LOC>Jean-Bart</LOC>, <CARDINAL>8</CARDINAL></SPAT>.\n",
      "\n",
      "<PER>Kibleur</PER>, <SPAT><LOC>St-Nicolas-St-Antoine</LOC>,<CARDINAL> ",
      "18</CARDINAL></SPAT>.\n",
      "\n",
      "<PER>Kibleur</PER>,<SPAT><LOC> ",
      "Fidelité</LOC>, <CARDINAL>22</CARDINAL></SPAT>.\n",
      "\n",
      "<PER>Lamblin</PER>, <SPAT><LOC>Roquette</LOC>, <CARDINAL>190</CARDINAL></SPAT>.\n",
      "\n",
      "<PER>Langlois (R.</PER>), <SPAT><LOC>Popincourt</LOC>, <CARDINAL>76</CARDINAL></SPAT>.\n",
      "\n",
      "<PER>Lebegue frères (ancienne maison ",
      "Duriez</PER>), <DESC>entrepreneurs de monu- ",
      "ments funèbres</DESC>, <SPAT><LOC>Roquette</LOC>, <CARDINAL>200</CARDINAL></SPAT> ;<DESC> ",
      "entreprennent la construction ",
      "des caveaux de famille, la sculp- ",
      "ture et la gravure; ils expédient ",
      "avec garantie pour les départe- ",
      "ments et l&amp;apos;étranger, et se char- ",
      "gent de la fourniture des grilles ",
      "et entourages; caveaux de dépôt ",
      "pour inhumations provisoires.</DESC>\n",
      "\n",
      "<PER>Lebègue (Mile Th.), successeur de ",
      "M. Vallet</PER>, <DESC>entrepreneur de mo- ",
      "numents funebres</DESC>, <SPAT><LOC>boul. Montpar- ",
      "nasse</LOC>, <CARDINAL>64</CARDINAL>, <LOC>près le cimetière du ",
      "Sud</LOC></SPAT><DESC>; monuments en pierre et en ",
      "marbres ; construction de caveaux ",
      "et de chapelles ; sculpture, gra- ",
      "vure d&amp;apos;inscriptions; grilles en ",
      "fer, entourages et croix de bois ; ",
      "entreprend, pour les bâtiments, ",
      "les cheminées en marbre et en ",
      "pierre; fontaines et dessus de ",
      "commodes ;entretien de tombeaux ",
      "et jardins à l&amp;apos;année ; caveau de ",
      "dépôt pour inhumation provisoire</DESC> ;<DESC> ",
      "fait des envois dans tous pays.</DESC>\n",
      "\n",
      "<PER>Lebègue</PER>, <SPAT><LOC>Montparnasse</LOC> <CARDINAL>71</CARDINAL></SPAT>\n",
      "\n",
      "<PER>Lecomte</PER>, <ACT>monuments funèbres</ACT>,<SPAT><LOC> ",
      "Roquette</LOC>, 16</SPAT>3.\n",
      "\n",
      "<PER>Lefeux</PER>, <SPAT><LOC>Roquette</LOC>, <CARDINAL>188</CARDINAL></SPAT>.\n",
      "\n",
      "<PER>Lefevre</PER>, <SPAT><LOC>boul. des Amandiers</LOC>,<CARDINAL> ",
      "45</CARDINAL></SPAT>.\n",
      "\n",
      "<PER>Lefort</PER>, <SPAT><LOC>cité Laurent-Jussieu</LOC>, <CARDINAL>7</CARDINAL></SPAT>.\n",
      "\n",
      "<PER>Leroy</PER>, <ACT>entrepreneur de monu- ",
      "ments funèbres</ACT>, <SPAT><LOC>Roquette</LOC>, <CARDINAL>177</CARDINAL></SPAT>.&amp;quot;\n",
      "\n",
      "<PER>Lesné</PER>, <SPAT><LOC>Faub.-St-Antoine</LOC>,<CARDINAL> ",
      "74</CARDINAL></SPAT>.\n",
      "\n",
      "<PER>Levasseur</PER>, <SPAT><LOC>Roquette</LOC>, <CARDINAL>179</CARDINAL></SPAT>.\n",
      "\n",
      "<PER>Lion</PER>, <SPAT><LOC>Charenton</LOC>, <CARDINAL>24</CARDINAL></SPAT>.\n",
      "\n",
      "<PER>LISSO</PER>, <SPAT><LOC>Chemin-Vert</LOC>, <CARDINAL>14</CARDINAL></SPAT>.\n",
      "\n",
      "<PER>Loichemolle</PER>, <ACT>marbrerie et sculp- ",
      "ture, cheminées de 8 à 10 fr. et ",
      "au-dessus, differents marbres et ",
      "formes</ACT>, <SPAT><LOC>Petite-rue-St-Pierre-Po- ",
      "pincourt</LOC>, <CARDINAL>2 bis</CARDINAL></SPAT>.*)\n",
      "\n",
      "<PER>Lourense ainé (Vve</PER>), <SPAT><LOC>cour de la ",
      "Juiverie</LOC>, <CARDINAL>12</CARDINAL></SPAT>.\n",
      "\n",
      "<PER>Lyon</PER><SPAT>, <LOC>Malte</LOC>, <CARDINAL>7</CARDINAL></SPAT>\n",
      "\n",
      "<PER>Maillochon</PER>, <ACT>marbrier et sculpteur</ACT>,<SPAT><LOC> ",
      "Roquette</LOC>, 19</SPAT>4.*\n",
      "\n",
      "<PER>Mancel</PER>, <SPAT><LOC>Pépinière</LOC>, <CARDINAL>92</CARDINAL></SPAT>, et <SPAT><LOC>avenue ",
      "Percier</LOC>, <CARDINAL>4</CARDINAL></SPAT>.\n",
      "\n",
      "<PER>Marchand</PER>, <SPAT><LOC>Petite-Rue-St-Pierre- ",
      "Popincourt</LOC>, <CARDINAL>3</CARDINAL></SPAT>.\n",
      "\n",
      "<PER>Marga (Eug.), (ancienne maison ",
      "Marga et fils),</PER> <DESC>sculpteur- mar- ",
      "brier; cheminées, autels, tombes ",
      "de tout style, pour Paris et la pro- ",
      "vince, fait l&amp;apos;exportation</DESC>, <SPAT><LOC>boul. des ",
      "Filles du-Calvaire</LOC>, <CARDINAL>5</CARDINAL></SPAT><DESC>.</DESC>\n",
      "\n",
      "<PER>Marquet</PER>, <SPAT><LOC>Roquette</LOC>, <CARDINAL>198</CARDINAL></SPAT>.\n",
      "\n",
      "<PER>Martin ainé</PER>, <SPAT><LOC>Angoulême-du-Tem- ",
      "ple</LOC>, <CARDINAL>30</CARDINAL></SPAT>.\n",
      "\n",
      "<PER>Martin</PER>, <SPAT><LOC>Faub. St-Antoine</LOC>, <CARDINAL>56</CARDINAL></SPAT>.\n",
      "\n",
      "<PER>Martin</PER>, <SPAT><LOC>Vinaigriers</LOC>, <CARDINAL>24</CARDINAL></SPAT>.\n",
      "\n",
      "<PER>Mathey</PER>, <ACT>marbrier, meubles</ACT>, <SPAT>Tra- ",
      "versière-St-Antoine, <CARDINAL>73</CARDINAL></SPAT>.\n",
      "\n",
      "<PER>Mattar</PER>, <SPAT><LOC>St-Denis</LOC>, <CARDINAL>376</CARDINAL></SPAT>.\n",
      "\n",
      "<PER>Menne</PER>, <ACT>pour pendules, bronzes, ",
      "meubles et bâtiments, le tout à ",
      "juste prix</ACT>, <SPAT><LOC>boul. Beaumarchais</LOC>,<CARDINAL> ",
      "79</CARDINAL></SPAT> nouveau, <SPAT>entrée de l</SPAT>&amp;apos<SPAT>;atelier,<LOC> ",
      "r. des Tournelles</LOC>, <CARDINAL>53</CARDINAL></SPAT>.\n",
      "\n",
      "<PER>Mercier</PER>, <SPAT><LOC>Nve-Menilmontant</LOC>, <CARDINAL>8</CARDINAL></SPAT>.\n",
      "\n",
      "<PER>Mercier</PER>, <ACT>ent pendules</ACT>, <SPAT><LOC>Dupetit— ",
      "Thouars</LOC>, <CARDINAL>14</CARDINAL></SPAT>.\n",
      "\n",
      "<PER>Mercier</PER>, <DESC>marbrier de l&amp;apos;ancienne ",
      "Liste civile, spécialité du báti- ",
      "ment, monuments et édifices pu- ",
      "blics, fait tout ce qui concerne la ",
      "marbrerie</DESC>, <SPAT><LOC>Chaptal</LOC>, <CARDINAL>15</CARDINAL></SPAT><DESC>.</DESC>\n",
      "\n",
      "<PER>Merlin</PER>, <SPAT><LOC>Delambre</LOC>, <CARDINAL>20</CARDINAL></SPAT>\n",
      "\n",
      "<PER>Mestre</PER>, <SPAT><LOC>pass. du Désir</LOC>, <CARDINAL>1.</CARDINAL></SPAT>\n",
      "\n",
      "<PER>Michel</PER>, <SPAT><LOC>Tournelles</LOC>, <CARDINAL>80</CARDINAL></SPAT>, et <SPAT><LOC>Saint ",
      "Gilles</LOC>, <CARDINAL>2</CARDINAL></SPAT>.\n",
      "\n",
      "<PER>Millet aîné</PER>, <SPAT><LOC>Traversière</LOC>, <CARDINAL>39</CARDINAL></SPAT>.\n",
      "\n",
      "<PER>ACHARD</PER>,<SPAT><LOC> ",
      "R. du Temple</LOC>-<CARDINAL> ",
      "53</CARDINAL></SPAT>.\n",
      "\n",
      "<PER>Allehume</PER>,<SPAT><LOC> ",
      "R.S Jacques</LOC>:<CARDINAL> ",
      "1</CARDINAL>hh</SPAT>.\n",
      "\n",
      "<PER>Antoine</PER>, <SPAT><LOC>R. des Bons-Enfans</LOC>.<CARDINAL> ",
      "16</CARDINAL></SPAT>.\n",
      "\n",
      "<PER>Arganty</PER> <SPAT><LOC>A du Fb. S. Martin</LOC>, <CARDINAL>11</CARDINAL></SPAT>.\n",
      "\n",
      "<PER>Aubry</PER> ,<SPAT>K. Montmarire, <CARDINAL>112</CARDINAL></SPAT>.\n",
      "\n",
      "<PER>Aubry</PER><SPAT><LOC> ",
      "R. S Benoit</LOC> , <CARDINAL>20</CARDINAL></SPAT>\n",
      "\n",
      "<PER>Aubry</PER> , <SPAT><LOC>R. de Sèvres</LOC>, <CARDINAL>11</CARDINAL><LOC>q</LOC></SPAT>.\n",
      "\n",
      "<PER>Avet</PER> <SPAT><LOC>R SrSeverin</LOC>, <CARDINAL>15</CARDINAL></SPAT>.\n",
      "\n",
      "<PER>Ayné</PER>; <SPAT><LOC>K. Aubry Boucher</LOC>, <CARDINAL>12</CARDINAL></SPAT>.\n",
      "\n",
      "<PER>Ballne</PER>, <SPAT><LOC>I. de la Gossopnerie</LOC>, <CARDINAL>9</CARDINAL></SPAT>.\n",
      "\n",
      "<PER>Bailly</PER>, <SPAT><LOC>Iidu Marché-Palu</LOC>, <CARDINAL>10</CARDINAL></SPAT>.\n",
      "\n",
      "<PER>Bailly</PER>, <SPAT><LOC>B. des Lombarids</LOC>, ",
      "25</SPAT>-\n",
      "\n",
      "<PER>Baron</PER>, <SPAT><LOC>R. S. Denis</LOC> ",
      "<CARDINAL> ",
      "1</CARDINAL></SPAT>\n",
      "\n",
      "<PER>Barré</PER><SPAT><LOC> ",
      "R. J. J Honsieau ",
      "3D</LOC></SPAT>\n",
      "\n",
      "<PER>BaunierpB Pomonnerie</PER> <SPAT>slilo</SPAT>.\n",
      "\n",
      "<PER>Bertaux</PER>, <SPAT><LOC>R. des Fossés-Moutm</LOC>, <CARDINAL>31</CARDINAL></SPAT>.\n",
      "\n"
     ]
    },
    {
     "name": "stdout",
     "output_type": "stream",
     "text": [
      "<PER>Bertout</PER>, <SPAT><LOC>Faub. Montmartre</LOC><CARDINAL> ",
      "TI</CARDINAL></SPAT>\n",
      "\n",
      "<PER>Hertant</PER><SPAT>. <TITREH>R. Č</TITREH><LOC>. Sauveur</LOC>.</SPAT>\n",
      "\n",
      "<PER>N ",
      " ",
      "Hertrand<LOC> ",
      "1H. S. Martin</LOC>,<CARDINAL> ",
      "I</CARDINAL></PER>\n",
      "\n",
      "<PER>Anfray tl Gauthier</PER>, <SPAT><LOC>R. de la Vieille- ",
      "a ",
      "Monnoie</LOC>, <CARDINAL>18</CARDINAL></SPAT>.\n",
      "\n",
      "<PER>Anfrie</PER>, <SPAT><LOC>R. S. Martin</LOC>, <CARDINAL>B6</CARDINAL></SPAT>.\n",
      "\n",
      "<PER>e ",
      "Argant</PER>, <SPAT><LOC>R.S. Domin, Gros Caillon</LOC>;<CARDINAL> ",
      "51</CARDINAL></SPAT>.\n",
      "\n",
      "<PER>Aubé frères,</PER> <ACT>(droguistes)</ACT> <SPAT><LOC>R. des Lom ",
      "hards</LOC>, o</SPAT>.\n",
      "\n",
      "<PER>Aubin</PER> , <SPAT><LOC>R. de Grenelle</LOC>, <CARDINAL>37.</CARDINAL><LOC>H. aux Bl.</LOC></SPAT>\n",
      "\n",
      "<PER>Aubry</PER> ; <SPAT><LOC>Faub. S. Martin</LOC> , 13</SPAT>3.\n",
      "\n",
      "<PER>A</PER><SPAT>nger<LOC> ",
      "K. des Vicilles Tuilleries</LOC>, <CARDINAL>4</CARDINAL></SPAT>.\n",
      "\n",
      "<PER>Anger ",
      "Ve)</PER><SPAT><LOC>R. Iean-Pain-Mollet ",
      "Z.</LOC></SPAT>\n",
      "\n",
      "<PER>Auger</PER>, <SPAT><LOC>R. de In Verrerie</LOC>,<TITREH> ",
      "</TITREH>☞</SPAT>\n",
      "\n",
      "<PER>Bailleux frère et sour</PER>, <SPAT><LOC>R. Hes Deux- ",
      "r1 ",
      "Parles S. Sauyeur</LOC>. <CARDINAL>1.</CARDINAL>i</SPAT>\n",
      "\n",
      "<PER>Baralte</PER>, <SPAT><LOC>R dess Petils Pilliers</LOC>,<LOC> ",
      "☞</LOC></SPAT>.\n",
      "\n",
      "<PER>Barbat; (Arog.)</PER><SPAT><LOC>R. S. Houore</LOC>, 23</SPAT>2.\n",
      "\n",
      "<PER>Baron frères</PER>, <SPAT><LOC>R. de l</LOC></SPAT>&amp;<SPAT><LOC>apos;Edhiquier</LOC>,<CARDINAL>32</CARDINAL></SPAT>.\n",
      "\n",
      "<PER>Bataille</PER>, <SPAT><LOC>R. S.Nichise</LOC> ;<CARDINAL> ",
      "36</CARDINAL></SPAT>.\n",
      "\n",
      "<PER>Baudot</PER>,<SPAT><LOC>R. Ne des Petits-Champs</LOC>, <CARDINAL>60</CARDINAL></SPAT>.\n",
      "\n",
      "<PER>Bayllivet</PER>, <PER>(en gros)</PER> <SPAT><LOC>R. de la Grands- ",
      "Truanderie saf:tt</LOC><CARDINAL> ",
      "31 ",
      "7</CARDINAL></SPAT>\n",
      "\n",
      "<PER>Bayvel</PER>, <SPAT>R. de la Vérrerie, fo</SPAT>.\n",
      "\n",
      "<PER>Baźin</PER>, <SPAT><LOC>Ki des F.S. Germ. des-Prás</LOC> , <CARDINAL>20</CARDINAL></SPAT>.\n",
      "\n",
      "<PER>Benunter</PER>, <SPAT><LOC>R. Thiroun</LOC>, <CARDINAL>b</CARDINAL>.</SPAT>\n",
      "\n",
      "<PER>Bellanger</PER>, <SPAT><LOC>R. de TEcharpe</LOC></SPAT>\n",
      "\n",
      "<PER>Berlaux</PER>, <SPAT><LOC>R: St Thomas du Louvre</LOC>, <CARDINAL>4</CARDINAL></SPAT>.\n",
      "\n",
      "<PER>HertaRK ",
      " H. de Lappe</PER>\n",
      "\n",
      "<PER>Bernard <TITREH>†</TITREH></PER>.<SPAT><LOC>Ri Chabanois</LOC>,&amp;quot;<CARDINAL>5</CARDINAL></SPAT>.\n",
      "\n",
      "<PER>TELe ",
      "RI <LOC>SPMartin</LOC> y <CARDINAL>15</CARDINAL>r</PER>.\n",
      "\n",
      "<PER>Rennit &amp;quot;et Pignard</PER>, <SPAT><LOC>RiN. Eganterdí</LOC></SPAT>.\n",
      "\n",
      "<PER>Benoit</PER>, <SPAT><LOC>R. de Malle</LOC>, <CARDINAL>11</CARDINAL>. ",
      "A ",
      " ",
      "Tuil</SPAT>.\n",
      "\n",
      "<PER>Beltante</PER>, <SPAT><LOC>R. Faub. S. Antoine</LOC>. <CARDINAL>233</CARDINAL></SPAT>.\n",
      "\n",
      "<PER>Bellière</PER>, <SPAT><LOC>R. de In Libertě</LOC>. <CARDINAL>55</CARDINAL></SPAT>.\n",
      "\n",
      "<PER>Boyen-Bal</PER>, <SPAT><LOC>R. N. Egalite</LOC>, <CARDINAL>20</CARDINAL>. <LOC>�B.N</LOC></SPAT>\n",
      "\n",
      "<PER>Bouzenot</PER>, <SPAT><LOC>Faub. Polssonniëra</LOC>, <CARDINAL>18</CARDINAL></SPAT>. ",
      "—\n",
      "\n",
      "<PER>Boutron</PER>, <SPAT><LOC>Q. deca Tournelle</LOC>. <CARDINAL>19</CARDINAL></SPAT>.\n",
      "\n",
      "<PER>Boutemard</PER>, <SPAT><LOC>R. des. Boucheries</LOC>,<CARDINAL> ",
      "B ",
      "23</CARDINAL></SPAT>.\n",
      "\n",
      "<PER>Bourette</PER>, <SPAT><LOC>R. de la Madeleine</LOC>, <CARDINAL>31</CARDINAL></SPAT>.\n",
      "\n",
      "—<PER> ",
      "Bourguignon freres ",
      "A-T-ELDITES,</PER> <SPAT><CARDINAL>i</CARDINAL> ",
      "— ",
      "<LOC> ",
      "R. Notre-Dan ",
      "S</LOC></SPAT>\n",
      "\n",
      "<PER>e ",
      "Bourgoin</PER>, <SPAT><LOC>R. du March. S. Mariin</LOC></SPAT>,\n",
      "\n",
      "<PER>Bourgeois J R. S. Marlin, <LOC>M4.</LOC></PER>\n",
      "\n",
      "<PER>Bourlon</PER>,<SPAT><LOC> ",
      "J ",
      " ",
      "an Márche-Neul</LOC>, <CARDINAL>14</CARDINAL></SPAT>.\n",
      "\n",
      "<PER>Bourdon</PER>, <SPAT><LOC>R. Helvetius</LOC>.<LOC> ",
      "D</LOC></SPAT>\n",
      "\n",
      "—<PER> ",
      "Böurdon</PER><SPAT><LOC> ",
      "R. S. Antoie</LOC>,<LOC>a</LOC><TITREH> ",
      "</TITREH></SPAT>☞\n",
      "\n",
      "<PER>Bourdon</PER> <SPAT>K. du Hěldér,<CARDINAL> ",
      "12</CARDINAL></SPAT>.\n",
      "\n",
      "<PER>n ",
      "Bouly</PER> <SPAT><LOC>R. Charentou</LOC></SPAT> ",
      "—\n",
      "\n",
      "—<PER> ",
      "Boulanger<TITREH> ",
      "☞</TITREH> ",
      "*</PER>.<SPAT> ",
      "R. S.</SPAT>&amp;<SPAT>apos;Honore<CARDINAL>,5</CARDINAL></SPAT>.\n",
      "\n",
      "<PER>Bouillery</PER><SPAT> ",
      "1 ",
      "R. Eiquetonne,<LOC> ",
      "F</LOC></SPAT>\n",
      "\n",
      "<PER>e ",
      " ",
      "Bougon</PER>, <SPAT><LOC>R. de la Lingerie</LOC> <CARDINAL>.3.</CARDINAL></SPAT>\n",
      "\n",
      "<PER>Honet</PER>,<SPAT><LOC> ",
      "R. de la-Conourda</LOC>, <CARDINAL>12</CARDINAL></SPAT>.\n",
      "\n",
      "<PER>Boudet</PER>, <SPAT><LOC>R. S. Sulpice</LOC>, ",
      "— —</SPAT> ",
      "—\n",
      "\n",
      "<PER>Bounherant</PER>, <ACT>(marchand de thé ef fonl ",
      "ce qui concerne les dereunema</ACT> <SPAT>A. ",
      "Vivienne , <CARDINAL>7</CARDINAL></SPAT>. ",
      "1.\n",
      "\n",
      "<PER>Boucher frères</PER>, <SPAT><LOC>R. (du Faub. Monx ",
      "5. 3 ",
      "martre</LOC>, <CARDINAL>25</CARDINAL></SPAT>.<CARDINAL> ",
      "8</CARDINAL>\n",
      "\n",
      "<PER>Boncher</PER>, <SPAT><LOC>R. de Ia Harpe ",
      "☞</LOC></SPAT>\n",
      "\n",
      "<PER>Bordin</PER>, <SPAT><LOC>R.S. Denis</LOC>,<CARDINAL> ",
      "175</CARDINAL></SPAT>\n",
      "\n",
      "<PER>n ",
      "Bordet</PER>,<SPAT> ",
      "n<LOC> ",
      "R. Pilliers-Potiers-d&amp;apos;Etain</LOC>. <CARDINAL>J4</CARDINAL></SPAT>\n",
      "\n",
      "<PER>Bordeau</PER>, <SPAT><LOC>R. de Gláry</LOC>,<CARDINAL>29</CARDINAL></SPAT>\n",
      "\n",
      "<PER>Honnin</PER><SPAT><LOC> ",
      "R. S. Martin</LOC>, 15</SPAT>3.\n",
      "\n",
      "<PER>Bonnegn</PER>, <SPAT><LOC>R. N. des Petits-Champs</LOC>, <CARDINAL>6o</CARDINAL></SPAT>.\n",
      "\n",
      "<PER>Bonnard</PER>, <SPAT><LOC>K. dOrleans</LOC>,<CARDINAL>11</CARDINAL>. <LOC>H.Ut.H</LOC></SPAT>\n",
      "\n",
      "<PER>Boix</PER>, <SPAT><LOC>R. de. H Concorde</LOC> ; <CARDINAL>12</CARDINAL></SPAT>.\n",
      "\n",
      "—<PER> ",
      "Boisgard</PER>, <SPAT><LOC>E. Montorguctl</LOC>, to</SPAT>.\n",
      "\n",
      "<PER>Bobin</PER> , <SPAT><LOC>R. de la Cossonnerie, At.</LOC></SPAT>\n",
      "\n",
      "<PER>Bobin</PER> , <SPAT><LOC>R. Montorgapil</LOC>, <CARDINAL>33</CARDINAL></SPAT>.\n",
      "\n",
      "<PER>Blon ",
      "elu-du-Rosne</PER>, <SPAT><LOC>R. du P. Carr.</LOC> <CARDINAL>8</CARDINAL></SPAT><PER>.</PER>\n",
      "\n",
      "<PER>Blond</PER>, <ACT>(drog.)</ACT> <SPAT><LOC>R. Ste. Marguerite.</LOC><CARDINAL>3</CARDINAL><LOC>o</LOC></SPAT>.\n",
      "\n",
      "<PER>Blin</PER><SPAT> ",
      "R.S. Denis, <CARDINAL>210</CARDINAL></SPAT>.\n",
      "\n",
      "<PER>Bisbón</PER>, <SPAT><LOC>R. S. Fictôr</LOC><CARDINAL> ",
      "66</CARDINAL></SPAT>.\n",
      "\n",
      "<PER>DIÉSOR</PER> ",
      "*<SPAT><LOC> ",
      "R. S. André-des-Aris</LOC> ",
      "* ",
      "— —</SPAT> ",
      "*\n",
      "\n",
      "<PER>Leek</PER><SPAT><LOC> ",
      "R. du Four</LOC>, <CARDINAL>16</CARDINAL>. — <LOC>DHilé</LOC></SPAT>.\n",
      "\n",
      "<PER>MP ",
      "R.</PER> . <SPAT><LOC>Germain-l Aunerroj</LOC><CARDINAL>4 12</CARDINAL></SPAT>.\n",
      "\n",
      "<PER>Detanapí ",
      "fils</PER><SPAT>. <LOC>K. du Temple</LOC>, <CARDINAL>4</CARDINAL>r</SPAT>.\n",
      "\n",
      "<PER>Bouzevíilé<LOC> ",
      "K. ",
      "S ",
      "Honore</LOC><CARDINAL> ",
      "8</CARDINAL>h</PER>-\n",
      "\n",
      "<PER>Apk</PER><SPAT><LOC> ",
      "R. de. Vaugirard</LOC>, <CARDINAL>6</CARDINAL><LOC>r</LOC></SPAT>.\n",
      "\n",
      "<PER>ek</PER><SPAT><LOC> ",
      "R. Chabannais</LOC>,<CARDINAL> ",
      "10</CARDINAL></SPAT>.\n",
      "\n",
      "<PER>PČSSkU ",
      "D1le.)</PER> <SPAT><LOC>H, des Bourdonnais</LOC>, <CARDINAL>2l</CARDINAL>-</SPAT>\n",
      "\n",
      "<PER>PK ",
      "eard</PER>, <SPAT><LOC>R. Monffetard</LOC>, <CARDINAL>1.</CARDINAL></SPAT>\n",
      "\n",
      "<PER>ny ",
      "— ",
      "Noirot</PER> <ACT>(aarnden</ACT>), <SPAT><LOC>R. S. Victor</LOC>,<CARDINAL>154</CARDINAL></SPAT>\n",
      "\n",
      "<PER>Ostat</PER>, <SPAT><LOC>K. du Bacq</LOC><CARDINAL> ",
      "*38</CARDINAL></SPAT>.\n",
      "\n",
      "—<PER> ",
      "Rachard</PER>, <SPAT><LOC>Birgére</LOC>, <CARDINAL>22</CARDINAL></SPAT>\n",
      "\n",
      "<PER>Paneto</PER>, <SPAT><LOC>R.S. Honpre</LOC>, <CARDINAL>179</CARDINAL></SPAT>.\n",
      "\n",
      "<PER>ascal fils</PER><SPAT><LOC> ",
      "R. Ceruti</LOC>, <CARDINAL>8</CARDINAL></SPAT>\n",
      "\n",
      "<PER>Pascal (</PER><ACT>carossier</ACT>), <SPAT><LOC>Boulev. Mont- ",
      "martre</LOC>, <CARDINAL>1.</CARDINAL></SPAT>\n",
      "\n",
      "—<PER> ",
      "Pelletier</PER><ACT> ",
      "chrör. ",
      "</ACT>. <SPAT>du Bacq<CARDINAL> ",
      "2 67</CARDINAL></SPAT>\n",
      "\n",
      "..<PER> ",
      "Pichard</PER>, <SPAT><LOC>R. Montmarire</LOC>, <CARDINAL>170</CARDINAL></SPAT>.\n",
      "\n",
      "<PER>Piet</PER>, <SPAT><LOC>H. de Provence</LOC>,<CARDINAL>5</CARDINAL></SPAT>.\n",
      "\n",
      "<PER>Prelôt</PER>, <SPAT><LOC>R. Feydeau</LOC>, <CARDINAL>13</CARDINAL></SPAT>.\n",
      "\n",
      "—<PER> ",
      "Rafard</PER>, <SPAT><LOC>R. S. Florentin, ",
      "R</LOC></SPAT>\n",
      "\n",
      "<PER>Rapiat</PER> <ACT>(harnacheura</ACT>, <SPAT><LOC>place des Vic- ",
      "toires</LOC>, <LOC>D</LOC>.</SPAT>\n",
      "\n",
      "<PER>Raps</PER> <ACT>(charron</ACT>), <SPAT><LOC>R. de Verneuil</LOC>, <CARDINAL>46</CARDINAL></SPAT>.\n",
      "\n",
      "<PER>Quevin</PER> <ACT>(charron</ACT>), <SPAT><LOC>R. des Petites- ",
      "Eurefi IRs</LOC></SPAT>\n",
      "\n",
      "<PER>Philippot</PER> <ACT>(caros</ACT> 1, <SPAT><LOC>R. de l</LOC></SPAT>&amp;<SPAT><LOC>apos;Arcade</LOC>, <CARDINAL>26</CARDINAL></SPAT>.\n",
      "\n",
      "<PER>Perès</PER> <ACT>(car</ACT>), <SPAT><LOC>R.N-Ste, Catherine</LOC>, <CARDINAL>16</CARDINAL></SPAT>. ",
      "—\n",
      "\n",
      "<PER>Paspal père</PER> <ACT>(cares.)</ACT> <SPAT><LOC>R. Guénegaud</LOC>, <CARDINAL>31</CARDINAL></SPAT>.\n",
      "\n",
      "<PER>Neuhansel [hernacheur)</PER> ; <SPAT><LOC>R. du ",
      "r 12 ",
      "BeHuVIN</LOC></SPAT>\n",
      "\n",
      "<PER>Mugnerot</PER> <ACT>(caros.</ACT>).<SPAT><LOC>R. de lUniver- ",
      "F ",
      "silé</LOC> <CARDINAL>72</CARDINAL>; ",
      "—<LOC> ",
      "va-</LOC></SPAT>\n",
      "\n",
      "<PER>onmar</PER> <ACT>(efis.)</ACT><SPAT><LOC> ",
      "FR. de Turenve</LOC>, <CARDINAL>79</CARDINAL></SPAT>.\n",
      "\n"
     ]
    },
    {
     "name": "stdout",
     "output_type": "stream",
     "text": [
      "<PER>Vosgien</PER> <ACT>(carossier</ACT>), <SPAT><LOC>R. Neuve des ",
      "Capucines</LOC>, <LOC>G</LOC>.</SPAT>\n",
      "\n",
      "<PER>Vidal (</PER><ACT>charronY K</ACT><SPAT>, <LOC>du Baco</LOC><CARDINAL> ",
      "33</CARDINAL></SPAT>.\n",
      "\n",
      "—<PER> ",
      "Termot ",
      "— ",
      "Č</PER><SPAT>aros<LOC>. J. R. Joubert</LOC>, <CARDINAL>32</CARDINAL></SPAT>,\n",
      "\n",
      "<PER>Rourlan (</PER> <ACT>caras</ACT><SPAT>. <LOC>F. R. Bérgére. ",
      "Te</LOC></SPAT>\n",
      "\n",
      "<PER>Touchard</PER>, <SPAT><LOC>R. Richer</LOC>, <CARDINAL>25</CARDINAL></SPAT>.\n",
      "\n",
      "<PER>Tauzin</PER> <ACT>[caros.</ACT>), <SPAT><LOC>R. de Grenelle</LOC>, <CARDINAL>4s</CARDINAL>. ",
      "— <LOC>Páhtatne de trenetle</LOC></SPAT>\n",
      "\n",
      "<PER>Tardif</PER>, <SPAT><LOC>R. d</LOC></SPAT>&amp;<SPAT><LOC>apos;Anjou</LOC>, <CARDINAL>4</CARDINAL> — <LOC>Roule</LOC></SPAT>.\n",
      "\n",
      "<PER>Simon</PER> ; <SPAT><LOC>R. N. des Mathurins</LOC>, <CARDINAL>13</CARDINAL></SPAT>.\n",
      "\n",
      "<PER>Simon ainé 1 carps.)</PER> ,<SPAT>Rdu Bace<CARDINAL> ",
      "1O3</CARDINAL></SPAT>\n",
      "\n",
      "<PER>Scheek</PER> <ACT>(caros. ",
      "&amp;</ACT>quot<SPAT>;R. du Hélder, <CARDINAL>14</CARDINAL></SPAT>.\n",
      "\n",
      "<PER>Ronsin. (Mre.)</PER> <SPAT><LOC>R. de Chpisaul</LOC>, <CARDINAL>5</CARDINAL></SPAT>.\n",
      "\n",
      "<PER>Roduwart</PER>, <SPAT><LOC>R. du Helder</LOC>,<CARDINAL>12</CARDINAL></SPAT>.\n",
      "\n",
      "<PER>Robert</PER>, <SPAT><LOC>R. Bergère</LOC>, <CARDINAL>19</CARDINAL></SPAT>.\n",
      "\n",
      "<PER>Richer</PER>, <SPAT><LOC>R. Gaillon</LOC>, <CARDINAL>1r</CARDINAL></SPAT>.\n",
      "\n",
      "<PER>Richard</PER><ACT> ",
      "(hamuch.</ACT>), <SPAT><LOC>R. Feydean</LOC>, <CARDINAL>6</CARDINAL></SPAT>.\n",
      "\n",
      "<PER>Reis</PER>, <SPAT><LOC>Pl. du Corps législatif</LOC>, <CARDINAL>101</CARDINAL></SPAT>.\n",
      "\n",
      "—<PER> ",
      "Havenot</PER>, <SPAT><LOC>R. du Sépulcre</LOC>, <CARDINAL>27</CARDINAL></SPAT>.\n",
      "\n",
      "<PER>Ravencan</PER>, <ACT>beulx</ACT>, <SPAT><LOC>da Dépôt</LOC>, <CARDINAL>23</CARDINAL></SPAT>\n",
      "\n",
      "<PER>Ledomie</PER> <ACT>(en botta))</ACT><SPAT><LOC>R. S. Denin</LOC> <CARDINAL>356</CARDINAL></SPAT>.\n",
      "\n",
      "<PER>Lehel, Gstraduveaat)</PER> <SPAT><LOC>R. Wiiene</LOC>,<TITREH> ",
      "</TITREH>☞</SPAT>\n",
      "\n",
      "<PER>VuRTNRupH, <LOC>M deS:HIDNUS ",
      "D</LOC></PER>\n",
      "\n",
      "17<PER> ",
      "Hpnariug Etaees a aparanue ",
      " du Trih</PER><SPAT> ",
      "a de pierresprlop<LOC>. ",
      "r ",
      "Fu ",
      "Par ",
      "-</LOC></SPAT>-\n",
      "\n",
      "<PER>R H.  ",
      "Hor</PER><SPAT>ang cadel<CARDINAL> ",
      "25</CARDINAL>. ",
      "Ghenet ",
      " ",
      " ",
      "du GFos- ",
      "E</SPAT> ",
      "&amp;quot;\n",
      "\n",
      "<PER>TuyoL et CumT. <TITREH> ",
      "☞</TITREH> ",
      "-&amp;quot;</PER><SPAT><LOC> ",
      "R,de la Monnou ",
      "B ",
      " Et tQes ",
      "  T 5</LOC></SPAT>\n",
      "\n",
      "<PER>TOS ",
      "<TITREH> ",
      "☞</TITREH>OOLGJ†DOE ",
      "1* ",
      "Penis</PER> g<PER>.o</PER>\n",
      "\n",
      "<PER>Hermon-Bonmard ocomp. Gétoffes)</PER><SPAT><LOC> ",
      "R. S: Denis</LOC> <CARDINAL>,15.</CARDINAL></SPAT><TITREH> ",
      "</TITREH>☞\n",
      "\n",
      "<PER>r ",
      "Fumevfctofresl, <LOC>b. des BOUTUOITGIS</LOC>, S.</PER>\n",
      "\n",
      "<PER>FiRion</PER> (<SPAT>H, ",
      "pla ce des ",
      " compl ",
      "Victoires ",
      " ",
      "gétoff es</SPAT>\n",
      "\n",
      "<PER>Dumont</PER> ,<SPAT><LOC>R des Fosseg S. Germain- ",
      "— ",
      "Ij ",
      "k ",
      "Auxerroi</LOC>, <CARDINAL>I</CARDINAL></SPAT>\n",
      "\n",
      "☞☞2<PER> ",
      "Duhamel, Bnufousa et comp.</PER> <SPAT><LOC>Rue S. ",
      " ",
      "Dentiš ráh</LOC></SPAT> ",
      "=\n",
      "\n",
      "<PER>DeHIAIJUHHedve(<LOC>RN DEHTe ",
      "LEF</LOC></PER>\n",
      "\n",
      "—17<PER> ",
      "Delasalle, jeune,</PER><SPAT> ",
      "Lhumpg, <LOC>FF. ",
      "K. ",
      " ",
      "E. des: Petis</LOC></SPAT>\n",
      "\n",
      "<PER>David ( J. B. L. ),</PER> <SPAT><LOC>R. r. des Petits ",
      "Champs</LOC><CARDINAL>4</CARDINAL></SPAT>\n",
      "\n",
      "<PER>Chenavard</PER> <ACT>( manuf d</ACT><DESC>&amp;</DESC><ACT>apos;élof nouo. ",
      "1 ",
      "lii</ACT> <DESC>de ThorIgI1 ",
      "E ",
      ")<CARDINAL>7</CARDINAL></DESC>\n",
      "\n",
      "—<PER> ",
      "Cheldeville et</PER> <SPAT>comp. R. S. Denis, <CARDINAL>188</CARDINAL></SPAT>.\n",
      "\n",
      "<PER>Chauvin</PER>, <SPAT>R. Thibauthode.If</SPAT>.\n",
      "\n",
      "<PER>Harlet lls</PER> <ACT>(nouuleh modes.)</ACT><SPAT><LOC>R. des ",
      "Gosses Monitmatare</LOC></SPAT>;<SPAT>:<LOC> ",
      "A</LOC></SPAT>\n",
      "\n",
      "<PER>Charbant</PER>, <SPAT><LOC>R.S.:Honeré</LOC><CARDINAL>4 129</CARDINAL></SPAT>.\n",
      "\n",
      "<PER>Chambert</PER> <ACT>(raa) (en sros ",
      " ",
      "venot</ACT><SPAT>, <CARDINAL>24</CARDINAL>.<LOC> ",
      "R. Thé-</LOC></SPAT>\n",
      "\n",
      "<PER>T ",
      " ",
      "Chabanel ( L.);</PER> <SPAT><LOC>R. Bertin- Poiree</LOC>,<CARDINAL> ",
      "T</CARDINAL></SPAT>\n",
      "\n",
      "<PER>Cartier fils</PER> <ACT>(etoffes pour membtes ef</ACT><SPAT><LOC> ",
      "Hijde ln Lbi</LOC>, <CARDINAL>89</CARDINAL>.<LOC> ",
      "E</LOC></SPAT>\n",
      "\n",
      "<PER>apentier el Flenry</PER> <ACT>(étoffes</ACT>), <SPAT><LOC>R. S. ",
      "i- ",
      "1 ",
      "EDeuis</LOC> <CARDINAL>3231</CARDINAL><LOC>.3111</LOC>..&amp;apos; <LOC>r2.</LOC></SPAT>\n",
      "\n",
      "—<PER> ",
      "Boyer el. Alary frères</PER> <ACT>(en botte</ACT>), <SPAT><LOC>R. ",
      "*</LOC><CARDINAL>2</CARDINAL><LOC> ",
      "N.StMeryr 4L</LOC>. <LOC></LOC>. <LOC>M </LOC></SPAT>.<SPAT><CARDINAL> ",
      "2</CARDINAL></SPAT>. ",
      "— ",
      "— ",
      "T\n",
      "\n",
      "<PER>Bondon (</PER><DESC>de bas</DESC> <PER>de soie 1,<LOC>B? degla ",
      "T ",
      "Můnn.IIL:i1ul ",
      " PW1h</LOC></PER>\n",
      "\n",
      "<PER>DoREaud FECOMP. ",
      "R.S</PER>, <SPAT><LOC>Honorel</LOC>, <CARDINAL>334</CARDINAL></SPAT>\n",
      "\n",
      "<PER>Bouna</PER> <ACT>(en baited)</ACT> <SPAT><LOC>Ma SiDenis, An</LOC></SPAT>\n",
      "\n",
      "<PER>LDÉnudet ",
      "&amp;quot;</PER><SPAT>R. Phcvenot, <CARDINAL>5</CARDINAL></SPAT>.\n",
      "\n",
      "<PER>Bizet</PER> <DESC>( d</DESC>&amp;apos<DESC>;etoffas</DESC> y. <SPAT><LOC>R. du Pet Fonl</LOC>, <CARDINAL>26</CARDINAL></SPAT>.\n",
      "\n",
      "<PER>Bessan</PER><ACT> ",
      "an botte</ACT><SPAT><LOC> ",
      "R. S. Deniša</LOC> <CARDINAL>229</CARDINAL></SPAT>.\n",
      "\n",
      "5<PER> ",
      "Beruard&amp;apos;</PER>, <SPAT><LOC>Hlllle-l&amp;apos;Arbre sec</LOC> <CARDINAL>: 5</CARDINAL></SPAT>.\n",
      "\n",
      "<PER>HeTÉeř ",
      "T Alen.1i HBoncher4</PER>\n",
      "\n",
      "<PER>W ",
      " ",
      "E ",
      " ",
      "TV1 ",
      "DEen</PER> , <SPAT><LOC>L DHtave</LOC><CARDINAL> ",
      "114</CARDINAL></SPAT>\n",
      "\n",
      "<PER>Davleci HlsiirH,IL. aeTroura restai</PER>\n",
      "\n",
      "<PER>DRTIELY ",
      "ÉH DOEIENEAH.S. DeN ",
      " ",
      "1E</PER>\n",
      "\n",
      "<PER>Barbier (</PER><ACT>�étoſſes<LOC> ",
      "1HonnOiS&amp;apos</LOC>;</ACT><PER>,</PER> <DESC><CARDINAL>2</CARDINAL></DESC><SPAT>.<LOC> ",
      "R. des: Beur- ",
      "L ",
      "T1M</LOC></SPAT>\n",
      "\n",
      "<PER>Anbinean et Pluchart [</PER>&amp;<PER>apos;</PER><ACT>etuon venites</ACT><PER>.]</PER>,<SPAT> ",
      "—<LOC>1L ",
      "passagë des Fetits Peres</LOC></SPAT>, ",
      "—\n",
      "\n",
      "<PER>ET ",
      "H.SEnt<LOC> ",
      "IFF ",
      "Pif</LOC></PER>\n",
      "\n",
      "<PER>HAMAGI et domp. <LOC>F,3..Deni</LOC> <CARDINAL>150</CARDINAL></PER>.\n",
      "\n",
      "<PER>Arnoult</PER>, <ACT>fabr. de moules de boutons</ACT>, <SPAT><LOC>r. de ",
      "la Chanverrerie</LOC>, <CARDINAL>8</CARDINAL></SPAT>.\n",
      "\n",
      "<PER>Bayard</PER>, <SPAT><LOC>r. du Roule</LOC>, <CARDINAL>21</CARDINAL></SPAT>.\n",
      "\n",
      "<PER>Berchet</PER>, <SPAT><LOC>r. du Temple</LOC>, <CARDINAL>71</CARDINAL></SPAT>.\n",
      "\n",
      "<PER>Bouchet</PER>, <ACT>fabr</ACT>., <SPAT><LOC>r. du Cimetière-Saint- ",
      "Nicolas</LOC>, <CARDINAL>5</CARDINAL></SPAT>.\n",
      "\n",
      "<PER>Chardin et comp.</PER>, <ACT>fabr. de boutons de ",
      "métal artimomantico, par brevet din- ",
      "vention</ACT>, <SPAT><LOC>à Vaugirard</LOC></SPAT>.\n",
      "\n",
      "<PER>Chevalier</PER>, <ACT>ſabr. de boutons de soie</ACT>, <SPAT><LOC>rue ",
      "S.-Denis</LOC>, <CARDINAL>41</CARDINAL></SPAT>.\n",
      "\n",
      "<PER>Inge</PER>,<ACT> ",
      "fabr.</ACT>, <SPAT><LOC>r. Pastourelle</LOC>, <CARDINAL>18</CARDINAL></SPAT>.\n",
      "\n",
      "<PER>Josse (Ch.) et Fr. Duquesne ainé</PER>, <ACT>fabr. ",
      "el quincailliers</ACT>,<SPAT><LOC>r. Neuve-S.-Merry</LOC>, <CARDINAL>44</CARDINAL></SPAT>.\n",
      "\n",
      "<PER>Joubert</PER>, <SPAT><LOC>passage de la Marmite</LOC>. <CARDINAL>1.</CARDINAL></SPAT>\n",
      "\n",
      "<PER>Lalonël-Puissan, ",
      "L.)</PER> <SPAT><LOC>r. Quincampeix</LOC>, <CARDINAL>33</CARDINAL></SPAT>.\n",
      "\n",
      "<PER>Lambriquet, (Aug.)</PER> <ACT>fabric</ACT>., <SPAT><LOC>rue de la ",
      "Grande-Truanderie</LOC>, <CARDINAL>52</CARDINAL></SPAT>.\n",
      "\n",
      "<PER>Maillard</PER>, <ACT>boutons plaqués et autres ",
      "modes</ACT>, <SPAT><LOC>r. S.-Martin</LOC>, <CARDINAL>222.</CARDINAL></SPAT> ",
      "de\n",
      "\n",
      "<PER>Mionnet</PER>, <ACT>ſabr. de S. M. Impériale cl ",
      "Royale</ACT>, <SPAT><LOC>r. Neuve-S.-Martin</LOC>, <CARDINAL>5</CARDINAL></SPAT>.\n",
      "\n",
      "<PER>Molière</PER>, <ACT>fabric., et paillons or el argent</ACT>,<SPAT><LOC> ",
      "r. de la Monnaie</LOC>, <CARDINAL>19</CARDINAL></SPAT>.\n",
      "\n",
      "<PER>Christofle, (Isidor)</PER> <ACT>fabr. de boutons de ",
      "fantaisie</ACT>, <SPAT><LOC>r. du Temple</LOC>, <CARDINAL>22</CARDINAL></SPAT>.\n",
      "\n",
      "<PER>Coquart</PER>, <ACT>fabr</ACT>., <SPAT><LOC>r. Barre-du-Bec</LOC>, <CARDINAL>17</CARDINAL></SPAT>.\n",
      "\n",
      "<PER>Dallof</PER>, <SPAT><LOC>r. du Chevalier-du-Guet</LOC>, <CARDINAL>1.</CARDINAL></SPAT>\n",
      "\n",
      "<PER>Damin</PER>, <SPAT><LOC>quai de la Monnaie</LOC>, <CARDINAL>25</CARDINAL></SPAT>.\n",
      "\n",
      "<PER>Delaporte frères</PER>, <ACT>march. et ſabric. en ",
      "tous genres</ACT>, <SPAT><LOC>rue des Deux-Portes-S.- ",
      "Sauveur</LOC>, <CARDINAL>18</CARDINAL></SPAT>.\n",
      "\n",
      "<PER>Mousset</PER>, <ACT>fabr</ACT>., <SPAT><LOC>r. du Vert-bois</LOC>, <CARDINAL>8</CARDINAL></SPAT>.\n",
      "\n",
      "<PER>Pépin, (Mad.)</PER> <SPAT><LOC>r. Marceau</LOC>, <CARDINAL>24</CARDINAL></SPAT>.\n",
      "\n",
      "<PER>Pilgrain</PER>, <SPAT><LOC>r. S.-Honoré</LOC>, <CARDINAL>25</CARDINAL></SPAT>.\n",
      "\n",
      "<PER>Poncelet</PER>, <ACT>fabr.</ACT>, <SPAT><LOC>rue S.-Martin</LOC>, <CARDINAL>183,</CARDINAL> <LOC>ct ",
      "rue du Grand-Hurleur</LOC>, <CARDINAL>3</CARDINAL></SPAT>.\n",
      "\n",
      "<PER>Pothier, (Alex.-Mathias)</PER> <ACT>fabr, boutons ",
      "duniforme</ACT>, <SPAT><LOC>r. S.-Martin</LOC>, <CARDINAL>104</CARDINAL>, <LOC>passage ",
      "de la Réunion</LOC>, <CARDINAL>10</CARDINAL></SPAT><PER>.</PER>\n",
      "\n"
     ]
    },
    {
     "name": "stdout",
     "output_type": "stream",
     "text": [
      "<PER>Demonjay, et fran</PER><ACT>gier</ACT>, <SPAT><LOC>r. S.-Honoré</LOC>, <CARDINAL>34</CARDINAL></SPAT>.\n",
      "\n",
      "<PER>Desmanches</PER>, <ACT>fabr.</ACT>, <SPAT>cul-de-sac Basfour</SPAT>.\n",
      "\n",
      "<PER>Desvertus</PER>, <SPAT><LOC>passage de la Marmite</LOC></SPAT>.\n",
      "\n",
      "<PER>Dillais</PER>, <SPAT><LOC>r. S.-Honoré</LOC>, <CARDINAL>114</CARDINAL></SPAT>.\n",
      "\n",
      "<PER>Dubray</PER>, <ACT>fabr</ACT>., <SPAT><LOC>r. Verderel</LOC>, <CARDINAL>3</CARDINAL></SPAT>.\n",
      "\n",
      "<PER>Dubuisson, ",
      "(Mad.)</PER> <SPAT><LOC>r. S.-Severin</LOC>, <CARDINAL>30</CARDINAL></SPAT>.\n",
      "\n",
      "<PER>Duhamel</PER>, <SPAT><LOC>r. S.-Honoré</LOC>, <CARDINAL>50</CARDINAL></SPAT>.\n",
      "\n",
      "<PER>Feuillet</PER>, <ACT>ſabric. de boutons d</ACT>&amp;<ACT>apos;uniforme ",
      "en lous genres</ACT>, <SPAT><LOC>r. des Pet.-Champs</LOC>, <CARDINAL>2</CARDINAL></SPAT>.\n",
      "\n",
      "<PER>Gravelin</PER>, <SPAT><LOC>r. Tirecharpe</LOC>, <CARDINAL>8</CARDINAL></SPAT>.\n",
      "\n",
      "<PER>Héricée, (J.-L.)</PER> <ACT>fabric. pour la troupe; ",
      "boutons en étain fondu massiſs, à nu- ",
      "méros et à légendes</ACT>, <SPAT><LOC>r. Bourg-l&amp;apos;Abbé</LOC>, <CARDINAL>52</CARDINAL></SPAT><ACT>.</ACT>\n",
      "\n",
      "<PER>Hesse</PER>, <ACT>fabr. de boutons plaqués or et ",
      "argent</ACT>, <SPAT><LOC>r. Michel-le-Comte</LOC>, <CARDINAL>14</CARDINAL></SPAT>.\n",
      "\n",
      "<PER>Houdier</PER>, <SPAT><LOC>r. S.-Denis</LOC>, <CARDINAL>398</CARDINAL></SPAT>.\n",
      "\n",
      "<PER>Raffard</PER>, <SPAT><LOC>r. de la Ferronnerie</LOC>. <CARDINAL>12</CARDINAL></SPAT>\n",
      "\n",
      "<PER>Renand-Delset, (Mad.) fa</PER><ACT>br</ACT>., <SPAT><LOC>rue de la ",
      "Monnaie</LOC>, <CARDINAL>12</CARDINAL></SPAT><PER>.</PER>\n",
      "\n",
      "<PER>Reynaud</PER>, <SPAT><LOC>r. S.-Honoré</LOC>, <CARDINAL>167</CARDINAL></SPAT>.\n",
      "\n",
      "<PER>Reynaud</PER>, <SPAT><LOC>r. Richelieu</LOC>. <CARDINAL>9</CARDINAL></SPAT>.\n",
      "\n",
      "<PER>Rose</PER>, <ACT>fabr</ACT>., <SPAT><LOC>r. Greneta</LOC>, <CARDINAL>13</CARDINAL></SPAT>.\n",
      "\n",
      "<PER>Roussel</PER>, <ACT>fabr.</ACT>, <SPAT><LOC>r. Frépillon</LOC>, <CARDINAL>5</CARDINAL></SPAT>.\n",
      "\n",
      "<PER>Rousselle</PER>, <ACT>fabr.</ACT>, <SPAT><LOC>r. Chapon</LOC>, <CARDINAL>14</CARDINAL></SPAT>.\n",
      "\n",
      "<PER>Roussilhe</PER>, <ACT>ſabr</ACT>., <SPAT><LOC>r. des Gravilliers</LOC>. <CARDINAL>25</CARDINAL></SPAT>.\n",
      "\n",
      "<PER>Saner, (Guil.)</PER> <ACT>fabr. pour les militutres ",
      "de loutes armes</ACT>, <SPAT><LOC>r. S.-Laurent</LOC>, <CARDINAL>30</CARDINAL></SPAT>.\n",
      "\n",
      "<PER>Schey</PER>, <ACT>breveté dinvention</ACT>, <SPAT><LOC>r. des Petites- ",
      "Ecuries</LOC>, <CARDINAL>5</CARDINAL></SPAT>.\n",
      "\n",
      "<PER>Schmit</PER>, <ACT>fabr</ACT>., <SPAT><LOC>r. des Petits-Champs</LOC>. <CARDINAL>4</CARDINAL></SPAT>.\n",
      "\n",
      "<PER>Sornet, (Gab.)</PER> <SPAT><LOC>r. de la Ferronnerie</LOC>, <CARDINAL>6 bis</CARDINAL></SPAT>.\n",
      "\n",
      "<PER>Tardu</PER>, <ACT>ſabr.</ACT>, <SPAT><LOC>rue Sainl-Denis</LOC>, <CARDINAL>124</CARDINAL></SPAT>; <SPAT><LOC>cour ",
      "Batave</LOC>, <CARDINAL>3</CARDINAL></SPAT>.\n",
      "\n",
      "<PER>Trouillion</PER>, <ACT>fabr</ACT>., <SPAT><LOC>r. Chapon</LOC>, <CARDINAL>12</CARDINAL></SPAT>.\n",
      "\n",
      "<PER>Aznet</PER>, <SPAT><LOC>r. de Loursine</LOC>, <CARDINAL>6</CARDINAL></SPAT>.\n",
      "\n",
      "<PER>Beaugrand</PER>, <SPAT><LOC>r. de Reuilly</LOC>, <CARDINAL>12</CARDINAL></SPAT>.\n",
      "\n",
      "<PER>Bouillerot S.-Ange</PER>, <SPAT><LOC>r. de Loursine</LOC>, <CARDINAL>10</CARDINAL></SPAT>.\n",
      "\n",
      "<PER>Boutté</PER>, <SPAT><LOC>r. Mouffetard</LOC>, <CARDINAL>88</CARDINAL></SPAT>.\n",
      "\n",
      "<PER>Carpentier</PER>, <SPAT><LOC>r. du Harlay</LOC>, <CARDINAL>7</CARDINAL>. <LOC>(Marais</LOC></SPAT>.)\n",
      "\n",
      "<PER>Chevalier</PER>, <SPAT><LOC>r. Mouffetard</LOC>, <CARDINAL>104</CARDINAL></SPAT>.\n",
      "\n",
      "<PER>Debruge</PER>, <SPAT><LOC>rue S.-Dominique</LOC>, <CARDINAL>71</CARDINAL>. (<LOC>Gros- ",
      "Caillou</LOC>.</SPAT>)\n",
      "\n",
      "<PER>Devillepoix</PER>, <SPAT><LOC>r. du Faub.-S.-Antoine</LOC>, 21</SPAT>2.\n",
      "\n",
      "<PER>Dulamée</PER>, <ACT>fabric. de bière anglaise et ",
      "d</ACT>&amp;<ACT>apos;esprit-de-vin</ACT>, <SPAT><LOC>r. Rochechouart</LOC>, <CARDINAL>44</CARDINAL></SPAT>.\n",
      "\n",
      "<PER>François</PER>, <SPAT><LOC>r. Mouffetard</LOC>, <CARDINAL>116</CARDINAL></SPAT>.\n",
      "\n",
      "<PER>Gibé</PER>, <SPAT><LOC>r. du Faub.-S.-Antoine</LOC>, <CARDINAL>295</CARDINAL></SPAT>.\n",
      "\n",
      "<PER>Giell</PER>, <SPAT><LOC>r. de la Corderie</LOC>, <CARDINAL>13</CARDINAL>. (<LOC>Marais</LOC></SPAT>.)\n",
      "\n",
      "<PER>Christofle, (Ve.) fa</PER><ACT>br</ACT>., <SPAT><LOC>r. S.-Denis</LOC>, 17</SPAT>3.\n",
      "\n",
      "—<PER> ",
      "Christofle, (André)</PER> <ACT>fabr. de boutons pla- ",
      "qués d</ACT>&amp;<ACT>apos;or et d</ACT>&amp;<ACT>apos;argent</ACT>, <SPAT><LOC>rue des Enfans- ",
      "Rouges</LOC>, <CARDINAL>7</CARDINAL></SPAT>.\n",
      "\n",
      "<PER>Colinet</PER>, <ACT>fabr.</ACT>, <SPAT><LOC>S.-Martin</LOC>, <CARDINAL>68</CARDINAL></SPAT>.\n",
      "\n",
      "<PER>Bouillery</PER>, <SPAT><LOC>r. du Puits-l&amp;apos;Ermite</LOC>, <CARDINAL>14</CARDINAL></SPAT>.\n",
      "\n",
      "<PER>Demarseille</PER>, <SPAT><LOC>r. du Faub.-S.-Denis</LOC>, <CARDINAL>114</CARDINAL></SPAT>.\n",
      "\n",
      "<PER>Denis</PER>, <SPAT><LOC>r. de Loursine</LOC>, <CARDINAL>46</CARDINAL></SPAT>.\n",
      "\n",
      "<PER>Vaillant</PER>, <ACT>fabr</ACT>., <SPAT><LOC>r. Aubry-le-Boucher</LOC>, <CARDINAL>43</CARDINAL></SPAT>.\n",
      "\n",
      "<PER>Vallée</PER>, <SPAT><LOC>rue Saint-Denis</LOC>, <CARDINAL>374</CARDINAL></SPAT>.\n",
      "\n",
      "<PER>Barbe-Derveaux</PER>, <ACT>fabricant de brosses et ",
      "pinceaux à lusage des peintres, etc.</ACT>,<SPAT><LOC> ",
      "rue Beaubourg</LOC>, <CARDINAL>44</CARDINAL></SPAT>.\n",
      "\n",
      "<PER>Huet</PER>, <SPAT><LOC>rue de la Vieille-Bouclerie</LOC>, <CARDINAL>23</CARDINAL></SPAT>.\n",
      "\n",
      "<PER>Jiou</PER>, <SPAT><LOC>rue de la Barillerie</LOC>, <CARDINAL>8</CARDINAL></SPAT>.\n",
      "\n",
      "<PER>Lamarée</PER>, <SPAT><LOC>rue Saint-Deuis</LOC>, 29</SPAT>2.\n",
      "\n",
      "<PER>Lecoiffier-Wallez</PER>,<ACT>etcordier</ACT>, <SPAT><LOC>r. du Bac</LOC>, <CARDINAL>37</CARDINAL></SPAT>.\n",
      "\n",
      "<PER>Lejean</PER>, <SPAT><LOC>rue de Thionville</LOC>, <CARDINAL>36</CARDINAL></SPAT>.\n",
      "\n",
      "<PER>Saunier</PER>, <ACT>fabr. de brosses de Lyon et pin- ",
      "ceaux pour les miniatures</ACT>, <SPAT><LOC>rue Saint- ",
      "Benoît</LOC>, <CARDINAL>12</CARDINAL>, <LOC>faubourg Saint-Germain</LOC></SPAT>.\n",
      "\n",
      "<PER>Laurent, et tablet.</PER>, <SPAT><LOC>Pal.-Royal, galerie de ",
      "pierre</LOC>, <CARDINAL>50</CARDINAL></SPAT>.\n",
      "\n",
      "<PER>Gobert</PER>, <ACT>fabr. et ciseleur</ACT>, <SPAT><LOC>rue des Gravil- ",
      "liers</LOC>, <CARDINAL>28</CARDINAL></SPAT>.\n",
      "\n",
      "<PER>Gouvet</PER>, <ACT>doreur</ACT>, <SPAT><LOC>rue de Sèvres</LOC>,<CARDINAL> ",
      "3</CARDINAL></SPAT>.\n",
      "\n",
      "<PER>Herouard, et doreur</PER>, <SPAT><LOC>rue aux Ours</LOC>, <CARDINAL>28</CARDINAL></SPAT>.\n",
      "\n",
      "<PER>Kmoysan</PER>, <ACT>fabr., fait lustres, girandoles ",
      "hollandaises, bras de cheminée et de ",
      "quinquet</ACT>, <SPAT><LOC>rue Saint-Martin</LOC>, <CARDINAL>17</CARDINAL></SPAT>2.\n",
      "\n",
      "<PER>Pienot</PER>, <ACT>dorures, pendules, etc.</ACT>, <SPAT><LOC>rue des ",
      "Fossés-Montmartre</LOC>, <CARDINAL>10</CARDINAL></SPAT>.\n",
      "\n",
      "<PER>Pillioud, et pendules</PER>, <SPAT><LOC>rue N.-des-Petits- ",
      "Champs</LOC>, <CARDINAL>14</CARDINAL></SPAT>.\n",
      "\n",
      "<PER>Quennessen, et d</PER><ACT>orures</ACT>, <SPAT><LOC>r. Napoléon</LOC>, <CARDINAL>11</CARDINAL></SPAT>.\n",
      "\n",
      "<PER>Ravrio et comp.,</PER> <ACT>fabr. de bronzes et cu- ",
      "riosités</ACT>, <SPAT><LOC>r. Richelieu</LOC>, <CARDINAL>93</CARDINAL></SPAT>; <SPAT><LOC>la fabrique ",
      "rue Montmartre</LOC>, <CARDINAL>16</CARDINAL></SPAT>1.\n",
      "\n",
      "<PER>Laguesse et Jamme, success. de L.-B. La- ",
      "guesse et fils</PER>, <ACT>fab de bronzes et horlo- ",
      "gerie</ACT>, <SPAT><LOC>rue Chapon</LOC>, <CARDINAL>23</CARDINAL></SPAT><PER>.</PER>\n",
      "\n",
      "<PER>Lange</PER>, <SPAT><LOC>rue Sainte-Avoie</LOC>, <CARDINAL>19</CARDINAL></SPAT>.\n",
      "\n",
      "<PER>Lebel</PER>, <ACT>fabric. de flambeaux et éperons ",
      "d</ACT>&amp;<ACT>apos;or et d</ACT>&amp;<ACT>apos;argent</ACT>, <SPAT><LOC>rue Bourg-l&amp;apos;Abbé</LOC>, <CARDINAL>32</CARDINAL></SPAT>.\n",
      "\n",
      "<PER>Ledure</PER>, <ACT>ſabr. de bronzes et pendules</ACT>, <SPAT><LOC>rue ",
      "Neuve des-Petits-Champs, au coin de ",
      "celle Chabanais</LOC></SPAT>.\n",
      "\n",
      "<PER>Lemaire</PER>, <ACT>ſabr. de pendules, candelabres, ",
      "corbeilles et vases</ACT>, <SPAT><LOC>rue Turenne</LOC>, <CARDINAL>53</CARDINAL></SPAT>.\n",
      "\n",
      "<PER>Lemire</PER>, <SPAT><LOC>rue de la Vieille-Monnaie</LOC>, <CARDINAL>17</CARDINAL></SPAT>.\n",
      "\n",
      "<PER>Reiche, et d</PER><ACT>orures pour les boîtes de pen- ",
      "dules</ACT>, <SPAT><LOC>r. Notre-Dame-de-Nazareth</LOC>, <CARDINAL>19</CARDINAL></SPAT>.\n",
      "\n",
      "<PER>Rigault</PER>, <ACT>fabr</ACT>., <SPAT><LOC>r. du Fanb.-du-Temple</LOC>,<CARDINAL>46</CARDINAL></SPAT>.\n",
      "\n",
      "<PER>Romain</PER>, <ACT>fabr. pour pendules et girand</ACT>.,<SPAT><LOC> ",
      "r. des Douze-Portes</LOC>, <CARDINAL>3</CARDINAL></SPAT>.\n",
      "\n",
      "<PER>Savart</PER>, <ACT>ſabr. de bronzes, tient en pendules ",
      "assortiment de jolis modèles</ACT>, <SPAT><LOC>r. Phe- ",
      "lippeaux</LOC>, <CARDINAL>11</CARDINAL></SPAT><ACT>.</ACT>\n",
      "\n"
     ]
    },
    {
     "name": "stdout",
     "output_type": "stream",
     "text": [
      "<PER>Simon, (Isaac) et fabr. de</PER> <ACT>pendules</ACT>, <SPAT><LOC>rue ",
      "Neuve-Saint-Merry</LOC>, <CARDINAL>81</CARDINAL></SPAT><PER>.</PER>\n",
      "\n",
      "<PER>Sornet, (Laurent)</PER> <ACT>fabric. de bronzes</ACT>, <SPAT><LOC>rue ",
      "de la Ferronnerie</LOC>, <CARDINAL>6</CARDINAL></SPAT>.\n",
      "\n",
      "<PER>Soyez, fabr.,</PER> <ACT>lient magasin de dorures ",
      "et lustres</ACT>. <SPAT><LOC>r. N.-des-Pet.-Champs</LOC>, <CARDINAL>89</CARDINAL></SPAT>.\n",
      "\n",
      "<PER>Lepage et comp.</PER>, <ACT>dorures et articles d</ACT>&amp;<ACT>apos;a- ",
      "meublement</ACT>, <SPAT><LOC>rue Meslay</LOC>, <CARDINAL>58</CARDINAL></SPAT>.\n",
      "\n",
      "<PER>Thomire, Duterme et comp.</PER>, <ACT>fabric. de ",
      "bronzes dorés</ACT>, <SPAT><LOC>r. Boucherai</LOC>, <CARDINAL>7</CARDINAL></SPAT>.\n",
      "\n",
      "<PER>Tremet</PER>, <SPAT>ſabr. <LOC>r. S.-Denis</LOC>, <CARDINAL>349</CARDINAL></SPAT>.\n",
      "\n",
      "<PER>Barré</PER>, <SPAT><LOC>rue Saint-Denis</LOC> , <CARDINAL>238</CARDINAL></SPAT>.\n",
      "\n",
      "<PER>Beuvart</PER>, <SPAT><LOC>rue Saint-Denis</LOC>, <CARDINAL>66</CARDINAL></SPAT>.\n",
      "\n",
      "<PER>Boucher</PER>, <SPAT><LOC>rue Saint-Denis</LOC>, <CARDINAL>267</CARDINAL></SPAT>.\n",
      "\n",
      "<PER>Boucherat</PER>, <SPAT><LOC>rue Saint-Denis</LOC>, <CARDINAL>234</CARDINAL></SPAT>\n",
      "\n",
      "<PER>Chabot</PER>, <SPAT><LOC>rue Saint-Denis</LOC>, <CARDINAL>190</CARDINAL></SPAT>.\n",
      "\n",
      "<PER>Chateau</PER>, <SPAT><LOC>rue Saint-Denis</LOC> , <CARDINAL>334</CARDINAL></SPAT>.\n",
      "\n",
      "<PER>Cherion</PER>, <DESC>ſabric. de pinceaux, fournit ",
      "�&amp;apos;Ecole impériale poly technique, les ",
      "différentes administrations et bureaux ",
      "de S. M. l&amp;apos;Empereur et Roi</DESC>, <SPAT><LOC>quai de ",
      "l</LOC></SPAT><DESC>&amp;</DESC><SPAT><LOC>apos;Horloge-du-Palais</LOC>, <CARDINAL>61</CARDINAL></SPAT><DESC>.</DESC>\n",
      "\n",
      "<PER>Delarue et Barbier, et naltiers ,</PER> <DESC>tiennent</DESC><ACT> ",
      "fabrique de jonc et sparterie</ACT>, <SPAT><LOC>passage ",
      "du Saumon</LOC>, <CARDINAL>30</CARDINAL></SPAT>.\n",
      "\n",
      "<PER>Lefèvre</PER>, <SPAT><LOC>rue Saint-Denis</LOC>, <CARDINAL>94</CARDINAL></SPAT>.\n",
      "\n",
      "<PER>Lefèvre, (L.-J.)</PER> <ACT>fabr. pour le château des ",
      "Tuileries</ACT>, <SPAT><LOC>rue de la Barillerie</LOC>, <CARDINAL>31</CARDINAL></SPAT><ACT>.</ACT>\n",
      "\n",
      "<PER>Raimond</PER> ",
      ", <SPAT><LOC>rue de la Mortellerie</LOC>, <CARDINAL>81</CARDINAL></SPAT>.\n",
      "\n",
      "<PER>Ramossin</PER>, <SPAT><LOC>rue Saint-Martin</LOC>, <CARDINAL>210</CARDINAL></SPAT>.\n",
      "\n",
      "<PER>Fontana, (Fr.)</PER> <ACT>fabric. de brosses et pin- ",
      "ceaux pour peindre</ACT>, <SPAT><LOC>rue Neuve-Saint- ",
      "Denis</LOC>, <CARDINAL>13</CARDINAL></SPAT>.\n",
      "\n",
      "<PER>Tribout, ",
      "(</PER><SPAT>Ve.)<LOC>r. du Faub.-S.-Honoré</LOC>, <CARDINAL>68</CARDINAL></SPAT>.\n",
      "\n",
      "<PER>Henry</PER>, <SPAT><LOC>r. S.-Martin</LOC>, <CARDINAL>206</CARDINAL></SPAT>.\n",
      "\n",
      "<PER>Henry</PER>, <SPAT><LOC>Palais-Royal, gal. de pierre</LOC>, <CARDINAL>24</CARDINAL></SPAT>.\n",
      "\n",
      "<PER>Houelle</PER>, <SPAT><LOC>r. au Maire</LOC>, <CARDINAL>51</CARDINAL></SPAT>.\n",
      "\n",
      "<PER>Jutard</PER>, <SPAT><LOC>r. Bourg-l&amp;apos;Abbé</LOC>, <CARDINAL>34</CARDINAL></SPAT>.\n",
      "\n",
      "<PER>Maillet aîné</PER>, <SPAT><LOC>r. Jean-Robert</LOC>, <CARDINAL>17</CARDINAL></SPAT>.\n",
      "\n",
      "<PER>Lesage, et dorures</PER>, <SPAT><LOC>bouley. des Italiens</LOC>, <CARDINAL>2</CARDINAL></SPAT>.\n",
      "\n",
      "<PER>Olivier, (Mad.)</PER> <SPAT><LOC>pass. des Panoramas</LOC>, <CARDINAL>62</CARDINAL></SPAT><PER>.</PER>\n",
      "\n",
      "<PER>Perrotin</PER>, <SPAT><LOC>r. S.-Denis</LOC>, <CARDINAL>124</CARDINAL> , <LOC>cour Batave</LOC></SPAT>.\n",
      "\n",
      "<PER>Pollet, ",
      "(Ve.)</PER> <SPAT><LOC>rue Saint-Deuis</LOC>, 30</SPAT>4.\n",
      "\n",
      "<PER>Aubert, (Mad.) pour</PER><ACT>tour du théâtre Franç</ACT>.\n",
      "\n",
      "<PER>Bidault</PER>, <SPAT><LOC>r. S.-Martin</LOC>, <CARDINAL>245</CARDINAL></SPAT>.\n",
      "\n",
      "<PER>Cailly</PER>, <ACT>ctarmes</ACT>, <SPAT><LOC>P.-Royal,gal. de pierre</LOC>,<CARDINAL>7</CARDINAL></SPAT>.\n",
      "\n",
      "<PER>Casca</PER>, <SPAT><LOC>r. S..Martin</LOC>, <CARDINAL>260</CARDINAL></SPAT>.\n",
      "\n",
      "<PER>Dumuis</PER>, <SPAT><LOC>Palais-Royal. gal. de pierre</LOC>, <CARDINAL>118</CARDINAL></SPAT>.\n",
      "\n",
      "<PER>Gournet</PER>, <SPAT><LOC>Palais-Roy., gal. de pierre</LOC>, <CARDINAL>155</CARDINAL></SPAT>.\n",
      "\n",
      "<PER>Guillereau, ",
      "(Ve.)</PER> <SPAT><LOC>r. S.-Martin</LOC>, <CARDINAL>95</CARDINAL></SPAT>.\n",
      "\n",
      "<PER>Bertrand, (Le comte)</PER> <SPAT><LOC>rue Duphot</LOC>, <CARDINAL>I1.</CARDINAL></SPAT>\n",
      "\n",
      "<PER>Bertrand-Barrère</PER>, <SPAT><LOC>r. Lepelletier</LOC>, <CARDINAL>6</CARDINAL></SPAT>.\n",
      "\n",
      "<PER>Bertrand</PER>, <SPAT><LOC>rue des Jeüneurs</LOC>, <CARDINAL>5</CARDINAL></SPAT>.&amp;quot;\n",
      "\n",
      "<PER>Bervic</PER>, <ACT>membre de l</ACT>&amp;apos<ACT>;Institut</ACT>, <SPAT><LOC>r. de Gre- ",
      "nelle-S.-Honoré</LOC>, <CARDINAL>47</CARDINAL></SPAT>.\n",
      "\n",
      "<PER>Besnard</PER>, <SPAT><LOC>r. J.-J.-Rousseau</LOC>, <CARDINAL>5</CARDINAL></SPAT>.\n",
      "\n",
      "<PER>Besson</PER>, <ACT>membre du Corps-Législatif</ACT>, <SPAT><LOC>rue ",
      "Notre-Dame-des-Victoires</LOC>, <CARDINAL>22</CARDINAL></SPAT>.\n",
      "\n",
      "<PER>Besson</PER>, <SPAT><LOC>r. Helvétius</LOC>, <CARDINAL>23</CARDINAL></SPAT>.\n",
      "\n",
      "<PER>Besson</PER>, <SPAT><LOC>quai de l</LOC></SPAT>&amp;<SPAT><LOC>apos;Ecole</LOC>, <CARDINAL>22</CARDINAL></SPAT>.\n",
      "\n",
      "<PER>Bethnon</PER>, <SPAT><LOC>r. du Jour</LOC>, <CARDINAL>19</CARDINAL></SPAT>.\n",
      "\n",
      "<PER>Béthune</PER>,<SPAT><LOC> ",
      "De ",
      "r. de Lille</LOC>, <CARDINAL>30</CARDINAL></SPAT>.\n",
      "\n",
      "<PER>Béthune, ",
      "(Ve. de)</PER> <SPAT><LOC>r. S.-Guillaume</LOC>, <CARDINAL>20</CARDINAL></SPAT><PER>.</PER>\n",
      "\n",
      "<PER>Beugnot, (Le comte)</PER> <ACT>conseiller d</ACT>&amp;<ACT>apos;Etat</ACT>,<SPAT><LOC> ",
      "r. Grange-Batelière</LOC>, <CARDINAL>8</CARDINAL></SPAT>.\n",
      "\n",
      "<PER>Beurnouville, (Le comte)</PER> <ACT>sénateur</ACT>, <SPAT><LOC>r. du ",
      "Faub.-S.-Honoré</LOC>, <CARDINAL>51</CARDINAL></SPAT>.\n",
      "\n",
      "<PER>Beuvron, (Mad. de)</PER> <SPAT><LOC>r. de Grenelle - Saint- ",
      "Germain</LOC>, <CARDINAL>81</CARDINAL></SPAT><PER>.</PER>\n",
      "\n",
      "<PER>Bodiment, ",
      "Gabriel)</PER> <SPAT><LOC>r. du Port-Mahon</LOC>, <CARDINAL>12</CARDINAL></SPAT>.\n",
      "\n",
      "<PER>Bocquet, (L.)</PER> <SPAT><LOC>r. du Faub.-Poissonnière</LOC>, <CARDINAL>3</CARDINAL></SPAT>.\n",
      "\n",
      "<PER>Boignes</PER>, <SPAT>(De) <LOC>r. Neuve-des-Mathurins</LOC>, <CARDINAL>22</CARDINAL></SPAT>.\n",
      "\n",
      "<PER>Boirot</PER>, <ACT>membre du Corps-Législatif</ACT>, <SPAT><LOC>rue ",
      "Saint-Thomas-du-Louvre</LOC>, <CARDINAL>15</CARDINAL></SPAT>.\n",
      "\n",
      "<PER>Boisard</PER>, <ACT>pasteur du culte luthérien</ACT>, <SPAT><LOC>rue ",
      "des Billettes</LOC>, <CARDINAL>16</CARDINAL></SPAT>.\n",
      "\n",
      "<PER>Boisconteau. (De)</PER> <SPAT><LOC>r. de l</LOC></SPAT><PER>&amp;</PER><SPAT><LOC>apos;Arbre-Sec</LOC>, <CARDINAL>33</CARDINAL></SPAT>.\n",
      "\n",
      "<PER>Boisgelin, (Mad. de)</PER> <SPAT><LOC>r. de Grenelle-Saint- ",
      "Germain</LOC>, <CARDINAL>53</CARDINAL></SPAT><PER>.</PER>\n",
      "\n",
      "<PER>Boisleger</PER>, <SPAT><LOC>r. Cléry</LOC>, <CARDINAL>70</CARDINAL></SPAT>.\n",
      "\n",
      "<PER>Boissière, (La comtesse de la)</PER> <SPAT><LOC>rue de Ver- ",
      "neuil</LOC>, <CARDINAL>29</CARDINAL></SPAT>.\n",
      "\n",
      "<PER>Boissy-Danglas, (Le comte) sénateur</PER>, <SPAT><LOC>rue ",
      "Choiseul</LOC>, <CARDINAL>13</CARDINAL></SPAT>.\n",
      "\n",
      "<PER>Bonjour</PER>, <SPAT><LOC>rue et passage des Petits-Pères</LOC>, <CARDINAL>5</CARDINAL></SPAT>.\n",
      "\n",
      "<PER>Bonnard</PER>, <SPAT><LOC>place des Victoires</LOC>, <CARDINAL>2</CARDINAL></SPAT>.\n",
      "\n",
      "<PER>Bonne</PER>, <SPAT><LOC>r. de l</LOC></SPAT>&amp;<SPAT><LOC>apos;Odéon</LOC>, <CARDINAL>28</CARDINAL></SPAT>.\n",
      "\n",
      "<PER>Bezenval, (Le baron de)</PER> <SPAT><LOC>rue du Mont- ",
      "Blanc</LOC>, <CARDINAL>21</CARDINAL></SPAT>.\n",
      "\n",
      "<PER>Béziade-Davaray</PER>, <SPAT><LOC>rue de Grenelle-Saint- ",
      "Germain</LOC>, <CARDINAL>85</CARDINAL></SPAT>.\n",
      "\n",
      "<PER>Biancourt, (De )</PER> <SPAT><LOC>r. Joubert</LOC>, <CARDINAL>39</CARDINAL></SPAT>.\n",
      "\n",
      "<PER>Biancourt</PER>, <SPAT><LOC>r. S.-Georges</LOC>, <CARDINAL>1.</CARDINAL></SPAT>\n",
      "\n",
      "<PER>Biaudos de Carteja</PER>, <ACT>auditeur</ACT>, <SPAT><LOC>rue de ",
      "Lille</LOC>, <CARDINAL>43</CARDINAL></SPAT>.\n",
      "\n",
      "<PER>Bianzat</PER>, <SPAT><LOC>cour Harlay</LOC>, <CARDINAL>21</CARDINAL></SPAT>.\n",
      "\n",
      "<PER>Bidault</PER>, <SPAT><LOC>r. de Ménilmontant</LOC>, <CARDINAL>20</CARDINAL></SPAT>.\n",
      "\n",
      "<PER>Biers fils</PER>, <SPAT><LOC>r. S.-Honoré</LOC>, <CARDINAL>334</CARDINAL></SPAT>.\n",
      "\n",
      "<PER>Bignan</PER>, <SPAT><LOC>r. Helvélius</LOC>, <CARDINAL>18</CARDINAL></SPAT>.\n",
      "\n",
      "<PER>Bigotini, (Dlle.)</PER> <SPAT><LOC>r. Choiseul</LOC>, <CARDINAL>9</CARDINAL></SPAT>.\n",
      "\n",
      "<PER>Billand</PER>, <SPAT><LOC>r. du Faub.-Montmartre</LOC>, <CARDINAL>11</CARDINAL></SPAT>.\n",
      "\n",
      "<PER>Billette</PER>, <SPAT><LOC>r. S.-Honoré</LOC>, 39</SPAT>2.\n",
      "\n",
      "<PER>Bioche</PER>, <SPAT><LOC>r. S.-André-des-Arts</LOC>, <CARDINAL>63</CARDINAL></SPAT>.\n",
      "\n",
      "<PER>Biot</PER>, <ACT>membre de l</ACT>&amp;<ACT>apos;Institul</ACT>, <SPAT><LOC>pl. Cambray</LOC>, <CARDINAL>1.</CARDINAL></SPAT>\n",
      "\n"
     ]
    },
    {
     "name": "stdout",
     "output_type": "stream",
     "text": [
      "<PER>Birouste</PER>, <SPAT><LOC>r. Basse-du-Rempart</LOC>, <CARDINAL>28</CARDINAL></SPAT>.\n",
      "\n",
      "<PER>Bizet</PER>, <SPAT><LOC>r. du Faub.-S.-Denis</LOC>, <CARDINAL>46</CARDINAL></SPAT>.\n",
      "\n",
      "<PER>Blacque</PER>, <SPAT><LOC>r. Cloche-Perche</LOC>, <CARDINAL>10</CARDINAL></SPAT>.\n",
      "\n",
      "<PER>Blancard, (Le baron de)</PER> <SPAT><LOC>quai Malaquais</LOC>, <CARDINAL>15</CARDINAL></SPAT>.\n",
      "\n",
      "<PER>Blanchard</PER>, <SPAT><LOC>r. de la Michodière</LOC>, <CARDINAL>6</CARDINAL></SPAT>.\n",
      "\n",
      "<PER>Blanc-Ménil, (Mad. de)</PER> <SPAT><LOC>rue du Mont- ",
      "Blanc</LOC>, <CARDINAL>45</CARDINAL></SPAT>.\n",
      "\n",
      "<PER>Blanquart (Le chevalier) de Bailleul</PER>,<ACT> ",
      "membre du Corps-Législatif</ACT>, <SPAT><LOC>quai Ma- ",
      "laquai</LOC>, <CARDINAL>15</CARDINAL></SPAT>.\n",
      "\n",
      "<PER>Bonnejean</PER>, <ACT></ACT><DESC>auditeur au Conseil-d&amp;apos;Etat</DESC>,<SPAT><LOC> ",
      "r. Neuve-Luxembourg</LOC>, <CARDINAL>11</CARDINAL></SPAT><DESC>.</DESC>\n",
      "\n",
      "<PER>Bonnet</PER>, <SPAT><LOC>r. Richelieu</LOC>, <CARDINAL>87</CARDINAL></SPAT>.\n",
      "\n",
      "<PER>Bontems, ",
      "(Mad.)</PER> <SPAT><LOC>r. Hauteville</LOC>, <CARDINAL>37</CARDINAL></SPAT>.\n",
      "\n",
      "<PER>Bontems, (Mad.)</PER> <SPAT><LOC>place du Pal.-Royal</LOC>, 24</SPAT>1.\n",
      "\n",
      "<PER>Boquestant, (Le baron de)</PER> <SPAT><LOC>r. Neuve-des- ",
      "Petits-Champs</LOC>, <CARDINAL>89</CARDINAL></SPAT>.\n",
      "\n",
      "<PER>Bordeaux, ",
      "(Mad.)</PER> <SPAT><LOC>quai de l</LOC></SPAT><PER>&amp;</PER><SPAT><LOC>apos;Ecole</LOC>, <CARDINAL>28</CARDINAL></SPAT>.\n",
      "\n",
      "<PER>Borghèse, (S. A. S. le prince)</PER> <ACT>gouverneur ",
      "général des départemens au-delà des ",
      "Alpes</ACT>, <SPAT><LOC>r. du Faub.-S.-Honoré</LOC>, <CARDINAL>39</CARDINAL></SPAT>.\n",
      "\n",
      "<PER>Bosc</PER>, <ACT>membre de l</ACT>&amp;<ACT>apos;Institut</ACT>, <SPAT><LOC>rue des Ma- ",
      "cons-Sorbonne</LOC>, <CARDINAL>15</CARDINAL></SPAT>.\n",
      "\n",
      "<PER>Boscary, (Ve.)</PER> <SPAT><LOC>r. Blanche</LOC>, <CARDINAL>5</CARDINAL></SPAT><PER>.</PER>\n",
      "\n",
      "<PER>Boselly</PER>, <SPAT><LOC>rue Neuve - de - Berry, faub. ",
      "Saint-Honoré</LOC>, <CARDINAL>2</CARDINAL></SPAT>.\n",
      "\n",
      "<PER>Bossu,</PER> <DESC>curé de Saint-Eustache</DESC>, <SPAT><LOC>r. Mont- ",
      "martre</LOC>, <CARDINAL>1.</CARDINAL></SPAT>\n",
      "\n",
      "<PER>Bossut</PER>, <ACT>membre de l</ACT>&amp;<ACT>apos;Institut</ACT>, <SPAT><LOC>rue des ",
      "Saints-Pères</LOC>, <CARDINAL>48</CARDINAL></SPAT>.\n",
      "\n",
      "<PER>Botta</PER>, <ACT>membre du Corps-Législatif</ACT>, <SPAT><LOC>rue ",
      "de Bourgogne</LOC>, <CARDINAL>28</CARDINAL></SPAT>.\n",
      "\n",
      "<PER>Boncherville, (Ve.)</PER> <SPAT><LOC>r. de Sèvres, aux ",
      "Dames-Saint-Thomas</LOC></SPAT><PER>.</PER>\n",
      "\n",
      "<PER>Bouchet, ",
      "(Pierre)</PER> <SPAT><LOC>rue Boudreau</LOC>, <CARDINAL>1.</CARDINAL></SPAT>\n",
      "\n",
      "<PER>Blavette père</PER>, <SPAT><LOC>r. Barbette</LOC>, <CARDINAL>6</CARDINAL></SPAT>.\n",
      "\n",
      "<PER>Blazuel</PER>, <SPAT><LOC>r. du Puits</LOC>, <CARDINAL>8</CARDINAL>, <LOC>au Marais</LOC></SPAT>.\n",
      "\n",
      "<PER>Bligny</PER>, <SPAT><LOC>r. des Bons-Enfans</LOC>, <CARDINAL>23</CARDINAL></SPAT>.\n",
      "\n",
      "<PER>Blin</PER>, <SPAT><LOC>quai de l</LOC></SPAT>&amp;<SPAT><LOC>apos;Ecole</LOC>, <CARDINAL>26</CARDINAL></SPAT>.\n",
      "\n",
      "<PER>Blin de S.-Maur</PER>, <SPAT><LOC>r. Napoléon</LOC>, <CARDINAL>8</CARDINAL></SPAT><PER>.</PER>\n",
      "\n",
      "<PER>Blond</PER>, <SPAT><LOC>r. des Fos.-S.-Germ.-l&amp;apos;Auxerrois</LOC>, <CARDINAL>8</CARDINAL></SPAT>.\n",
      "\n",
      "<PER>Blondeau</PER>, <SPAT><LOC>r. J.-J.-Rousseau</LOC>, <CARDINAL>12</CARDINAL></SPAT>.\n",
      "\n",
      "<PER>Blondel</PER>, <SPAT><LOC>r. S.-Florentin</LOC>, <CARDINAL>7</CARDINAL></SPAT>.\n",
      "\n",
      "<PER>Bobierre</PER>, <SPAT><LOC>r. Taitbout</LOC>, <CARDINAL>19</CARDINAL></SPAT>.\n",
      "\n",
      "<PER>Bochard de Champigny père et fils</PER>, <SPAT><LOC>rue ",
      "du Canivet</LOC>, <CARDINAL>2</CARDINAL></SPAT>.\n",
      "\n",
      "<PER>Bockairy</PER>, <SPAT><LOC>r. Croix-des-Petits-Champs</LOC>, <CARDINAL>23</CARDINAL></SPAT>.\n",
      "\n",
      "<PER>Bouchet, (Le chevalier)</PER> <ACT>membre du Corps- ",
      "Législatif</ACT>, <SPAT><LOC>r. N.-des-Mathurins</LOC>, <CARDINAL>23</CARDINAL></SPAT>.\n",
      "\n",
      "<PER>Boudoux</PER>, <SPAT><LOC>r. Richelieu</LOC>, <CARDINAL>68</CARDINAL></SPAT>.\n",
      "\n",
      "<PER>Boufflers, (De)</PER> <SPAT><LOC>rue du Faubourg-Saint- ",
      "Honoré</LOC>, <CARDINAL>114</CARDINAL></SPAT><PER>.</PER>\n",
      "\n",
      "<PER>Boufflers, (Mad. de)</PER> <SPAT><LOC>r. du Faubourg-Pois- ",
      "sonnière</LOC>, <CARDINAL>1.</CARDINAL></SPAT>\n",
      "\n",
      "<PER>Bouguainville, (Veuve Baraudin de)</PER> <SPAT><LOC>rue ",
      "Neuve-Luxembourg</LOC>, <CARDINAL>3</CARDINAL></SPAT><PER>.</PER>\n",
      "\n",
      "<PER>Bouillac</PER>, <SPAT><LOC>r. d</LOC></SPAT>&amp;<SPAT><LOC>apos;Amboise</LOC>, <CARDINAL>9</CARDINAL></SPAT>\n",
      "\n",
      "<PER>Bouilly</PER>, <SPAT><LOC>r. d</LOC></SPAT>&amp;<SPAT><LOC>apos;Antin</LOC>, <CARDINAL>10</CARDINAL></SPAT>.\n",
      "\n",
      "<PER>Bouisson</PER>, <SPAT><LOC>r. Neuve-Luxembourg</LOC>.<CARDINAL> ",
      "20</CARDINAL></SPAT>.\n",
      "\n",
      "<PER>Bouchon</PER>, <SPAT><LOC>r. Favart</LOC>, <CARDINAL>4</CARDINAL></SPAT>.\n",
      "\n",
      "<PER>Terroir</PER>, <SPAT><LOC>rue Mouffetard</LOC>, <CARDINAL>507</CARDINAL></SPAT>.\n",
      "\n",
      "<PER>Tessé (de),</PER> <SPAT><LOC>rne d</LOC></SPAT>&amp;<SPAT><LOC>apos;Anjou-St.-Honoré</LOC>, <CARDINAL>24</CARDINAL></SPAT>.\n",
      "\n",
      "<PER>Tessier</PER>, <ACT>membre de l</ACT>&amp;apos<ACT>;institut</ACT>, <SPAT><LOC>rue des ",
      "Petits-Augustins</LOC>, <CARDINAL>26</CARDINAL></SPAT>.\n",
      "\n",
      "<PER>Texier</PER>, <SPAT><LOC>rue Saint-Lazare</LOC> , <CARDINAL>80</CARDINAL></SPAT>.\n",
      "\n",
      "<PER>Tiberghien</PER>, <SPAT><LOC>rue Vivienne</LOC>,<CARDINAL> ",
      "17</CARDINAL></SPAT>.\n",
      "\n",
      "<PER>Tiefry</PER>, <SPAT><LOC>rue du Faub.-Poissonnière</LOC>, <CARDINAL>35</CARDINAL></SPAT>.\n",
      "\n",
      "<PER>Tilly (le général comte de)</PER> , <SPAT><LOC>rue Caumar- ",
      "tin</LOC>, <CARDINAL>23</CARDINAL></SPAT>.\n",
      "\n",
      "<PER>Tingry (Mad. de)</PER> , <SPAT><LOC>rue Varenues</LOC>, <CARDINAL>14</CARDINAL></SPAT>.\n",
      "\n",
      "<PER>Tiron l</PER>&amp;<PER>apos;ainé</PER>, <SPAT><LOC>passage des Petits-Pères</LOC>,<CARDINAL> ",
      "9</CARDINAL></SPAT>.\n",
      "\n",
      "<PER>Tiron (Prosper</PER>), <SPAT><LOC>passage des Petits- ",
      "Pères</LOC>, <CARDINAL>9</CARDINAL></SPAT>.\n",
      "\n",
      "<PER>Tisserand</PER>, <SPAT><LOC>rue de Seine, faub. Saint- ",
      "Germoin</LOC>, <CARDINAL>16</CARDINAL></SPAT>.\n",
      "\n",
      "<PER>Tissot de Morena</PER> , <SPAT><LOC>rue de Vaugirard</LOC>, <CARDINAL>34</CARDINAL></SPAT>.\n",
      "\n",
      "<PER>Titon</PER>, <SPAT><LOC>rue Meslay</LOC> , <CARDINAL>26</CARDINAL></SPAT>.\n",
      "\n",
      "<PER>Thalouet</PER>, <SPAT><LOC>rue Joubert</LOC>, <CARDINAL>20</CARDINAL></SPAT>.\n",
      "\n",
      "<PER>Thayer</PER>, <SPAT><LOC>rue Saint-Marc</LOC> , <CARDINAL>10</CARDINAL></SPAT>.\n",
      "\n",
      "<PER>Thébaux, (D.lle) Thébaux</PER> , <SPAT>rue Va- ",
      "rennes, <CARDINAL>6</CARDINAL></SPAT>.\n",
      "\n",
      "<PER>Thelusson (de</PER>), <SPAT><LOC>rue des Mathurins</LOC>, <CARDINAL>15</CARDINAL></SPAT>.\n",
      "\n",
      "<PER>Thélusson</PER>, <SPAT><LOC>r. Paradis-Poissonnière</LOC>, <CARDINAL>21</CARDINAL></SPAT>.\n",
      "\n",
      "<PER>Thevenard (le comte de)</PER> , <ACT>sénateur</ACT>, <SPAT><LOC>rue ",
      "Duphot</LOC>, <CARDINAL>8</CARDINAL></SPAT>.\n",
      "\n",
      "<PER>Thevenin (V.&amp;quot;</PER>), <SPAT><LOC>rue de Lille</LOC>, <CARDINAL>21</CARDINAL></SPAT>.\n",
      "\n",
      "<PER>Thevenin fils</PER>, <SPAT><LOC>rue de Lille</LOC> , <CARDINAL>21</CARDINAL></SPAT>.\n",
      "\n",
      "<PER>Thiboust</PER>, <SPAT><LOC>rue du Faub.-St.-Honoré</LOC> , <CARDINAL>19</CARDINAL></SPAT>.\n",
      "\n",
      "<PER>Thiébaut</PER>, <SPAT><LOC>rue des Trois-Frères</LOC>, <CARDINAL>13</CARDINAL></SPAT>.\n",
      "\n",
      "<PER>Thierry</PER> , <SPAT><LOC>rue de Grenelle-Saint-Ger- ",
      "main</LOC>, <CARDINAL>27</CARDINAL></SPAT>.\n",
      "\n",
      "<PER>Thierry</PER>, <SPAT><LOC>rue de Sèvre</LOC>, <CARDINAL>93</CARDINAL></SPAT>.\n",
      "\n",
      "<PER>Thierry</PER>, <SPAT><LOC>rue Sainte-Apolline</LOC>, <CARDINAL>15</CARDINAL></SPAT>.\n",
      "\n",
      "<PER>Thierry Grandval</PER>, <SPAT><LOC>rue de Provence</LOC> , <CARDINAL>12</CARDINAL></SPAT>.\n",
      "\n",
      "<PER>Thierry Manregard</PER> , <SPAT><LOC>rue Saint-Georges</LOC>, <CARDINAL>1.</CARDINAL></SPAT>\n",
      "\n",
      "<PER>Thierriet fils</PER>, <SPAT><LOC>rue de la Monnaie</LOC>, <CARDINAL>10</CARDINAL></SPAT>.\n",
      "\n",
      "<PER>Thillay</PER> , <ACT>professeur et conservateur du ",
      "cabinet de lécole de médecine</ACT>, <SPAT><LOC>rue de ",
      "l</LOC></SPAT>&amp;<SPAT><LOC>apos;Ecole de Médecine</LOC>, <CARDINAL>12</CARDINAL></SPAT>.\n",
      "\n",
      "<PER>Thiriet</PER>, <SPAT><LOC>rue Christine</LOC> , <CARDINAL>9</CARDINAL></SPAT>.\n",
      "\n",
      "<PER>Tholozé</PER>, <SPAT><LOC>quai Pelletier</LOC>, <CARDINAL>8</CARDINAL></SPAT>.\n",
      "\n",
      "<PER>Thomas</PER>, <ACT>membre du corps législatif</ACT><SPAT><LOC> ",
      "rue Neuve-Saint-Roch</LOC>, <CARDINAL>5</CARDINAL></SPAT>.\n",
      "\n",
      "<PER>Thomé (V.e ),</PER> <SPAT><LOC>rue des Francs-Bourgeois</LOC>,<CARDINAL> ",
      "16</CARDINAL><LOC>, au Marais</LOC></SPAT>.\n",
      "\n",
      "<PER>Thouin (le chevalier</PER>), <ACT>membre de lin- ",
      "stitut </ACT>.<SPAT><LOC>rue de Seine-St.-Victor</LOC>, <CARDINAL>55</CARDINAL></SPAT>.\n",
      "\n",
      "<PER>Thonret (V.&amp;quot;</PER>), <SPAT><LOC>r. St.-André-des-Arts</LOC>, <CARDINAL>66</CARDINAL></SPAT>.\n",
      "\n",
      "<PER>Thourou de Bertinval</PER>, <ACT>auditeur au ",
      "conseil d</ACT>&amp;<ACT>apos;état</ACT>, <SPAT><LOC>rue Chabannais</LOC>, <CARDINAL>4</CARDINAL></SPAT>.\n",
      "\n"
     ]
    },
    {
     "name": "stdout",
     "output_type": "stream",
     "text": [
      "<PER>Thuisy (de)</PER> , <SPAT><LOC>rue du Bac</LOC> , <CARDINAL>77</CARDINAL></SPAT>\n",
      "\n",
      "<PER>Thulis</PER> , <SPAT><LOC>boulevart Poissonnière</LOC>, <CARDINAL>14</CARDINAL></SPAT>.\n",
      "\n",
      "<PER>Thuret</PER>, <SPAT><LOC>rue de Carliglione</LOC> , <CARDINAL>9</CARDINAL></SPAT>.\n",
      "\n",
      "<PER>Tobler</PER>, <SPAT><LOC>rue Favart</LOC>, <CARDINAL>6</CARDINAL></SPAT>.\n",
      "\n",
      "<PER>Tochon</PER> , <SPAT><LOC>rue Caumartin</LOC>, <CARDINAL>25</CARDINAL></SPAT>.\n",
      "\n",
      "<PER>Tolozan</PER>, <SPAT><LOC>rue Saint-Dominique</LOC>, <CARDINAL>23</CARDINAL></SPAT>.\n",
      "\n",
      "<PER>Tompson</PER>, <SPAT><LOC>rue Madame</LOC>, <CARDINAL>5</CARDINAL></SPAT>.\n",
      "\n",
      "<PER>Tonnelière</PER>, <SPAT><LOC>rue Neuve-des-Mathurins</LOC>, <CARDINAL>1.</CARDINAL></SPAT>\n",
      "\n",
      "<PER>Torras</PER>, <SPAT><LOC>rue du Mont-Blanc</LOC> , <CARDINAL>28</CARDINAL></SPAT>.\n",
      "\n",
      "<PER>Torry</PER>, <SPAT><LOC>rne Neuve-des-Capucines</LOC>, <CARDINAL>15</CARDINAL></SPAT>.\n",
      "\n",
      "<PER>Toulongeon (le chevalier de),</PER> <ACT>membre du ",
      "corps législatif</ACT>, <SPAT><LOC>rne Miromesnil</LOC>, <CARDINAL>2</CARDINAL></SPAT>.\n",
      "\n",
      "<PER>Toulongeon (le chevalier</PER>), <ACT>membre de l</ACT>&amp;<ACT>apos;in- ",
      "stitut</ACT>, <SPAT><LOC>rue de Chaillot</LOC>, <CARDINAL>74</CARDINAL></SPAT>.\n",
      "\n",
      "<PER>Tourasse Maupas</PER>, <SPAT><LOC>rue des Lions-Saint- ",
      "Paul</LOC>, <CARDINAL>14</CARDINAL></SPAT>.\n",
      "\n",
      "<PER>Tourué</PER>, <SPAT><LOC>rue d</LOC></SPAT>&amp;<SPAT><LOC>apos;Argenteuil</LOC>, <CARDINAL>8</CARDINAL></SPAT>.\n",
      "\n",
      "<PER>Tourolle</PER>, <SPAT><LOC>rue Richelieu</LOC>, <CARDINAL>95</CARDINAL></SPAT>.\n",
      "\n",
      "<PER>Tourzel</PER> , <SPAT><LOC>rue de Lille</LOC> , <CARDINAL>84</CARDINAL></SPAT>.\n",
      "\n",
      "<PER>Tousselot</PER>, <SPAT><LOC>Marche des Jacobins</LOC></SPAT>.\n",
      "\n",
      "<PER>Toutau</PER>, <SPAT><LOC>rue Richer ",
      "&amp;</LOC>quot<LOC>;</LOC><CARDINAL> ",
      "22</CARDINAL></SPAT>.\n",
      "\n",
      "<PER>Touzard (le général de),</PER> <SPAT><LOC>rue de Bour- ",
      "gogne</LOC>, <CARDINAL>36</CARDINAL></SPAT>.\n",
      "\n",
      "<PER>Travault</PER>, <SPAT>rue de la Michodiére, ",
      "Z</SPAT>.\n",
      "\n",
      "<PER>Travenet (Mad. de),</PER> <SPAT><LOC>rue du Faub.-Saint- ",
      "Honoré</LOC> ",
      "&amp;quot;<CARDINAL>5</CARDINAL></SPAT>.\n",
      "\n",
      "<PER>Tremauville</PER> , <SPAT><LOC>rue de Grenelle-Faub.-St.- ",
      "Germain</LOC>, <CARDINAL>45</CARDINAL></SPAT>.\n",
      "\n",
      "<PER>Tremignon</PER>, <SPAT><LOC>rue de la Concorde</LOC>, <CARDINAL>4</CARDINAL></SPAT>.\n",
      "\n",
      "<PER>Tremouille (de la)</PER> , <SPAT><LOC>rue de Lille</LOC>, <CARDINAL>92</CARDINAL></SPAT>.\n",
      "\n",
      "<PER>Treneuil (de),</PER> <ACT>bibliothécaire de la biblio- ",
      "théque de l</ACT>&amp;<ACT>apos;arsenal</ACT>, <SPAT><LOC>rue Sully</LOC></SPAT>.\n",
      "\n",
      "<PER>Tressan (Mad. de),</PER> <SPAT><LOC>boulevart des Ita- ",
      "liens</LOC>, <CARDINAL>20</CARDINAL></SPAT>.\n",
      "\n",
      "<PER>Trévise (S. E. le maréchal duc de)</PER> , <SPAT><LOC>rue ",
      "de Lille</LOC> , <CARDINAL>88</CARDINAL></SPAT>.\n",
      "\n",
      "<PER>Trimolet (Mad.</PER>), <SPAT><LOC>rue Richelien</LOC>, <CARDINAL>96</CARDINAL></SPAT>.\n",
      "\n",
      "<PER>Trion de Montalembert (le comte</PER>), <ACT>membre ",
      "du corps législatif</ACT>. <SPAT><LOC>rue de la Chaise</LOC>, <CARDINAL>1.</CARDINAL></SPAT>\n",
      "\n",
      "<PER>Trollier Fétan</PER>, <SPAT><LOC>rue Poultière</LOC>, <CARDINAL>14</CARDINAL></SPAT>.\n",
      "\n",
      "<PER>Truguet (M. le vice-amiral</PER>), <SPAT><LOC>rue Verte</LOC>, <CARDINAL>20</CARDINAL></SPAT>.\n",
      "\n",
      "<PER>Tuffet Saint-Martin</PER>, <SPAT><LOC>rue Jacob</LOC>, <CARDINAL>20</CARDINAL></SPAT>.\n",
      "\n",
      "<PER>Turenne (de</PER>), <SPAT><LOC>rue Chauchat</LOC>, <CARDINAL>1.</CARDINAL></SPAT>\n",
      "\n",
      "<PER>Turenne (Mad. de),</PER> <SPAT><LOC>rue Menars</LOC>, <CARDINAL>2</CARDINAL></SPAT>.\n",
      "\n",
      "<PER>Turet</PER>, <SPAT><LOC>quai de l</LOC></SPAT>&amp;<SPAT><LOC>apos;Ecole</LOC>, <CARDINAL>16</CARDINAL></SPAT>.\n",
      "\n",
      "<PER>Turgot</PER> , <SPAT><LOC>rue Saint-Lazare</LOC>, <CARDINAL>58</CARDINAL></SPAT>.\n",
      "\n",
      "<PER>Turpin, de Crissé (le baron</PER>), <SPAT><LOC>rue du ",
      "Faub.-Montmartre</LOC> , <CARDINAL>51</CARDINAL></SPAT><PER>.</PER>\n",
      "\n",
      "<PER>Turreau (le général baron</PER>), <SPAT><LOC>rue de ",
      "Masseran</LOC>, <CARDINAL>3</CARDINAL></SPAT>.\n",
      "\n",
      "<PER>Tustal (le comte de),</PER> <ACT>sénateur</ACT>, <SPAT><LOC>rue de ",
      "l</LOC></SPAT>&amp;<SPAT><LOC>apos;Université</LOC>, <CARDINAL>96</CARDINAL></SPAT>.\n",
      "\n",
      "<PER>Valayer</PER>, <DESC>curé de</DESC> <PER>Soint-</PER><DESC>Germain-</DESC><PER>l&amp;apos;</PER><DESC>Au</DESC><PER>-</PER><DESC> ",
      "ver</DESC><PER>rois</PER> , <SPAT>rue de l</SPAT><PER>&amp;</PER><SPAT>apos;Arbre-Sec , <CARDINAL>22</CARDINAL></SPAT><PER>.</PER>\n",
      "\n",
      "<PER>Valence (le comte de),</PER> <ACT>sénateur</ACT>, <SPAT><LOC>rue de ",
      "a Madeleine</LOC>. <CARDINAL>35</CARDINAL></SPAT>.\n",
      "\n",
      "<PER>Valzutin</PER> , <SPAT><LOC>rue St.-Honoré</LOC> , <CARDINAL>319</CARDINAL></SPAT>.\n",
      "\n",
      "<PER>Valette</PER>, <SPAT><LOC>rue Napoléon</LOC> , <CARDINAL>21</CARDINAL></SPAT>.\n",
      "\n",
      "<PER>Valié Desnoyers</PER>, <SPAT><LOC>rue Cloche-Perche</LOC>, <CARDINAL>14</CARDINAL></SPAT>.\n",
      "\n",
      "<PER>Valletean de Chabrefy</PER> , <SPAT>rue Geoffroy- ",
      "Lasuier, <CARDINAL>26</CARDINAL></SPAT>.\n",
      "\n",
      "<PER>Valleville</PER>, <SPAT><LOC>rue Serv ndoni</LOC>, <CARDINAL>17</CARDINAL></SPAT>.\n",
      "\n",
      "<PER>Valmont Montpassant (V.e</PER>), <SPAT><LOC>rue d</LOC></SPAT>&amp;<SPAT><LOC>apos;Anjou</LOC>,<CARDINAL> ",
      "13</CARDINAL><LOC>, au Marais</LOC></SPAT>.\n",
      "\n",
      "<PER>Valmy (S. E. le maréchal duc de),</PER> <SPAT><LOC>rue ",
      "St.-Dominique-Saint-Germain</LOC>, <CARDINAL>54</CARDINAL></SPAT>.\n",
      "\n",
      "<PER>Van-Berchem</PER>, <SPAT><LOC>rue Bergère</LOC>, <CARDINAL>14</CARDINAL></SPAT>.\n",
      "\n",
      "<PER>Vandamme, comte d&amp;apos;Unsebourg</PER>, <SPAT><LOC>rue du ",
      "Mont-Blanc</LOC> , <CARDINAL>2</CARDINAL></SPAT><PER>.</PER>\n",
      "\n",
      "<PER>Toniges</PER>, <SPAT><LOC>rue Napoléon</LOC>, <CARDINAL>10</CARDINAL></SPAT>.\n",
      "\n",
      "<PER>Torcy (de)</PER> , <SPAT><LOC>rue de Bourgogne</LOC>, <CARDINAL>34</CARDINAL></SPAT>.\n",
      "\n",
      "<PER>Torras</PER>, <SPAT><LOC>ruę Budaux</LOC>, <CARDINAL>11</CARDINAL></SPAT>.\n",
      "\n"
     ]
    }
   ],
   "source": [
    "from xmlize_util import get_NER_tags, xmlize_multilevel, group_entities\n",
    "\n",
    "k = 0\n",
    "stats = []\n",
    "errors_count = 0\n",
    "errors = []\n",
    "for i in range(len(lines)):\n",
    "    s = lines[i]\n",
    "    res = []\n",
    "    res.append(nlp_l1(s))\n",
    "    res.append(nlp_l2(s))\n",
    "    \n",
    "    #Create joint-labels at token scale\n",
    "    preds_tokens = []\n",
    "    preds_tags = []\n",
    "    for j in range(len(res[0])):\n",
    "        l1 = res[0]\n",
    "        l2 = res[1]\n",
    "        preds_tokens.append(l1[j]['word'])\n",
    "        if l1[j]['entity'] != 'O' and l2[j]['entity'] != 'O':\n",
    "            preds_tags.append('I-' + l1[j]['entity'][0].lower() + '_' + l1[j]['entity'][2:] + '+' + l2[j]['entity'][0].lower() + '_' + l2[j]['entity'][2:])\n",
    "        elif l1[j]['entity'] != 'O' and l2[j]['entity'] == 'O':\n",
    "            preds_tags.append('I-' + l1[j]['entity'][0].lower() + '_' + l1[j]['entity'][2:] + '+' + l2[j]['entity'])\n",
    "        elif l1[j]['entity'] == 'O' and l2[j]['entity'] != 'O':\n",
    "            preds_tags.append('I-' + l1[j]['entity'] + '+' + l2[j]['entity'][0].lower() + '_' + l2[j]['entity'][2:])\n",
    "        else:\n",
    "            preds_tags.append('O+O')\n",
    "            \n",
    "    test_tags = []\n",
    "    for h in range(len(test[i][\"tokens\"])):\n",
    "        if test[i][\"ner_tags_niv1\"][h] != 'O' and test[i][\"ner_tags_niv2\"][h] != 'O':\n",
    "            test_tags.append('I-' + test[i][\"ner_tags_niv1\"][h][0].lower() + '_' + test[i][\"ner_tags_niv1\"][h][2:] + '+' + test[i][\"ner_tags_niv2\"][h][0].lower() + '_' + test[i][\"ner_tags_niv2\"][h][2:])\n",
    "        elif test[i][\"ner_tags_niv1\"][h] != 'O' and test[i][\"ner_tags_niv2\"][h] == 'O':\n",
    "            test_tags.append('I-' + test[i][\"ner_tags_niv1\"][h][0].lower() + '_' + test[i][\"ner_tags_niv1\"][h][2:] + '+O')\n",
    "        else:\n",
    "            test_tags.append('O+O')\n",
    "    \n",
    "    #Create XML output\n",
    "    aggregate = [group_entities(res[0],tokenizer_l1),group_entities(res[1],tokenizer_l1)]\n",
    "    levels, num_levels = get_NER_tags(s,aggregate)\n",
    "    \n",
    "    if len(levels['niv_1']) > 0:\n",
    "        xml = xmlize_multilevel(levels,num_levels)\n",
    "        print(xml)\n",
    "        print('')\n",
    "    \n",
    "    try:\n",
    "        assert len(test[i][\"tokens\"]) == len(preds_tokens)\n",
    "        assert len(test_tags) == len(preds_tags)\n",
    "        \n",
    "        stats.append([k,s,xml,test[i][\"tokens\"],test_tags,preds_tokens,preds_tags])\n",
    "    except:\n",
    "        errors_count += 1\n",
    "        print(\"NUM \" + str(k))\n",
    "        print(s)\n",
    "        print(xml)\n",
    "        \n",
    "    k += 1"
   ]
  },
  {
   "cell_type": "code",
   "execution_count": null,
   "id": "3cd552df",
   "metadata": {},
   "outputs": [],
   "source": [
    "columns = [\"index\",\"entry\",\"entry_xml\",\"spans_gold\",\"tags_gold\",\"spans_preds\",\"tags_preds\"]\n",
    "df = pd.DataFrame(stats,columns=columns)\n",
    "df"
   ]
  },
  {
   "cell_type": "markdown",
   "id": "98fd9c68",
   "metadata": {},
   "source": [
    "## F1-Score ranking\n",
    "F1-Score is calculated for each entry using seqeval library :\n",
    "* entities are rebuild using joint-labels with seqeval lib\n",
    "* f1-score is calculted for each entry"
   ]
  },
  {
   "cell_type": "code",
   "execution_count": 53,
   "id": "2f979bfa",
   "metadata": {},
   "outputs": [
    {
     "name": "stderr",
     "output_type": "stream",
     "text": [
      "/lrde/home2/stual/.venv/python_3_9/lib/python3.10/site-packages/seqeval/metrics/sequence_labeling.py:171: UserWarning: O+O seems not to be NE tag.\n",
      "  warnings.warn('{} seems not to be NE tag.'.format(chunk))\n"
     ]
    },
    {
     "name": "stdout",
     "output_type": "stream",
     "text": [
      "0\n"
     ]
    }
   ],
   "source": [
    "from seqeval.metrics import f1_score\n",
    "\n",
    "scores = []\n",
    "count = 0\n",
    "for i in range(len(df)):\n",
    "    y_preds = df.iloc[i][\"tags_preds\"]\n",
    "    y_true = df.iloc[i][\"tags_gold\"]\n",
    "    try:\n",
    "        f1 = f1_score([y_true],[y_preds])\n",
    "        scores.append(f1)\n",
    "    except:\n",
    "        count += 1\n",
    "        print(df.iloc[i])\n",
    "print(count)"
   ]
  },
  {
   "cell_type": "code",
   "execution_count": 54,
   "id": "a088604a",
   "metadata": {},
   "outputs": [],
   "source": [
    "df_f1 = df.copy()\n",
    "df_f1[\"f1\"] = scores\n",
    "df_f1 = df_f1.sort_values(by=['f1']).reset_index()\n",
    "del df_f1[\"level_0\"]"
   ]
  },
  {
   "cell_type": "code",
   "execution_count": 55,
   "id": "75854eca",
   "metadata": {},
   "outputs": [
    {
     "data": {
      "text/html": [
       "<div>\n",
       "<style scoped>\n",
       "    .dataframe tbody tr th:only-of-type {\n",
       "        vertical-align: middle;\n",
       "    }\n",
       "\n",
       "    .dataframe tbody tr th {\n",
       "        vertical-align: top;\n",
       "    }\n",
       "\n",
       "    .dataframe thead th {\n",
       "        text-align: right;\n",
       "    }\n",
       "</style>\n",
       "<table border=\"1\" class=\"dataframe\">\n",
       "  <thead>\n",
       "    <tr style=\"text-align: right;\">\n",
       "      <th></th>\n",
       "      <th>index</th>\n",
       "      <th>entry</th>\n",
       "      <th>entry_xml</th>\n",
       "      <th>spans_gold</th>\n",
       "      <th>tags_gold</th>\n",
       "      <th>spans_preds</th>\n",
       "      <th>tags_preds</th>\n",
       "      <th>f1</th>\n",
       "    </tr>\n",
       "  </thead>\n",
       "  <tbody>\n",
       "    <tr>\n",
       "      <th>0</th>\n",
       "      <td>4</td>\n",
       "      <td>Chardin et comp. fabr. de boutons de ",
       "métal art...</td>\n",
       "      <td>&lt;PER&gt;Chardin et comp. fabr. de&lt;/PER&gt; &lt;ACT&gt;bout...</td>\n",
       "      <td>[▁Char, din, ▁et, ▁comp, ., ▁fa, br, ., ▁de, ▁...</td>\n",
       "      <td>[I-i_PER+O, I-i_PER+O, I-i_PER+O, I-i_PER+O, I...</td>\n",
       "      <td>[▁Char, din, ▁et, ▁comp, ., ▁fa, br, ., ▁de, ▁...</td>\n",
       "      <td>[I-i_PER+O, I-i_PER+O, I-i_PER+O, I-i_PER+O, I...</td>\n",
       "      <td>0.000000</td>\n",
       "    </tr>\n",
       "    <tr>\n",
       "      <th>1</th>\n",
       "      <td>436</td>\n",
       "      <td>Dauchez (E. ), référendaire à la cour des ",
       "Comp...</td>\n",
       "      <td>&lt;PER&gt;Dauchez (E. ),&lt;/PER&gt; &lt;ACT&gt;référendaire à ...</td>\n",
       "      <td>[▁D, au, chez, ▁(, E, ., ▁),, ▁ré, fér, end, a...</td>\n",
       "      <td>[I-i_PER+O, I-i_PER+O, I-i_PER+O, I-i_PER+O, I...</td>\n",
       "      <td>[▁D, au, chez, ▁(, E, ., ▁),, ▁ré, fér, end, a...</td>\n",
       "      <td>[I-i_PER+O, I-i_PER+O, I-i_PER+O, I-i_PER+O, I...</td>\n",
       "      <td>0.000000</td>\n",
       "    </tr>\n",
       "    <tr>\n",
       "      <th>2</th>\n",
       "      <td>1181</td>\n",
       "      <td>Gagnery, fabricant, par brevet d'in- ",
       "vention, ...</td>\n",
       "      <td>&lt;PER&gt;Gagnery&lt;/PER&gt;, &lt;DESC&gt;fabricant&lt;/DESC&gt;, &lt;D...</td>\n",
       "      <td>[▁G, agne, ry, ,, ▁fabricant, ,, ▁par, ▁brevet...</td>\n",
       "      <td>[I-i_PER+O, I-i_PER+O, I-i_PER+O, O+O, I-i_DES...</td>\n",
       "      <td>[▁G, agne, ry, ,, ▁fabricant, ,, ▁par, ▁brevet...</td>\n",
       "      <td>[I-i_PER+O, I-i_PER+O, I-i_PER+O, O+O, I-i_DES...</td>\n",
       "      <td>0.210526</td>\n",
       "    </tr>\n",
       "    <tr>\n",
       "      <th>3</th>\n",
       "      <td>489</td>\n",
       "      <td>Gaussen et Pouzadoux, châles. Banque, 1. *</td>\n",
       "      <td>&lt;PER&gt;Gaussen et Pouzadoux&lt;/PER&gt;, &lt;ACT&gt;châles. ...</td>\n",
       "      <td>[▁Gau, ssen, ▁et, ▁Pou, za, doux, ,, ▁châle, s...</td>\n",
       "      <td>[I-i_PER+O, I-i_PER+O, I-i_PER+O, I-i_PER+O, I...</td>\n",
       "      <td>[▁Gau, ssen, ▁et, ▁Pou, za, doux, ,, ▁châle, s...</td>\n",
       "      <td>[I-i_PER+O, I-i_PER+O, I-i_PER+O, I-i_PER+O, I...</td>\n",
       "      <td>0.222222</td>\n",
       "    </tr>\n",
       "    <tr>\n",
       "      <th>4</th>\n",
       "      <td>1217</td>\n",
       "      <td>Bourrousse fils aîné, fab. de fon- ",
       "taines filt...</td>\n",
       "      <td>&lt;PER&gt;Bourrousse fils aîné&lt;/PER&gt;, &lt;DESC&gt;fab. de...</td>\n",
       "      <td>[▁Bour, rousse, ▁fils, ▁aîné, ,, ▁fa, b, ., ▁d...</td>\n",
       "      <td>[I-i_PER+O, I-i_PER+O, I-i_PER+O, I-i_PER+O, O...</td>\n",
       "      <td>[▁Bour, rousse, ▁fils, ▁aîné, ,, ▁fa, b, ., ▁d...</td>\n",
       "      <td>[I-i_PER+O, I-i_PER+O, I-i_PER+O, I-i_PER+O, O...</td>\n",
       "      <td>0.222222</td>\n",
       "    </tr>\n",
       "    <tr>\n",
       "      <th>...</th>\n",
       "      <td>...</td>\n",
       "      <td>...</td>\n",
       "      <td>...</td>\n",
       "      <td>...</td>\n",
       "      <td>...</td>\n",
       "      <td>...</td>\n",
       "      <td>...</td>\n",
       "      <td>...</td>\n",
       "    </tr>\n",
       "    <tr>\n",
       "      <th>1680</th>\n",
       "      <td>678</td>\n",
       "      <td>Vasseur, charcutier, Vieux-Marché-St-Mar- ",
       "tin,...</td>\n",
       "      <td>&lt;PER&gt;Vasseur&lt;/PER&gt;, &lt;ACT&gt;charcutier&lt;/ACT&gt;, &lt;SP...</td>\n",
       "      <td>[▁Va, sseur, ,, ▁char, cu, tier, ,, ▁Vieux, -,...</td>\n",
       "      <td>[I-i_PER+O, I-i_PER+O, O+O, I-i_ACT+O, I-i_ACT...</td>\n",
       "      <td>[▁Va, sseur, ,, ▁char, cu, tier, ,, ▁Vieux, -,...</td>\n",
       "      <td>[I-i_PER+O, I-i_PER+O, O+O, I-i_ACT+O, I-i_ACT...</td>\n",
       "      <td>1.000000</td>\n",
       "    </tr>\n",
       "    <tr>\n",
       "      <th>1681</th>\n",
       "      <td>677</td>\n",
       "      <td>Vasset, mercerie et bonneterie, Noyers, 15.</td>\n",
       "      <td>&lt;PER&gt;Vasset&lt;/PER&gt;, &lt;ACT&gt;mercerie et bonneterie...</td>\n",
       "      <td>[▁Vas, s, et, ,, ▁mer, ce, rie, ▁et, ▁bonne, t...</td>\n",
       "      <td>[I-i_PER+O, I-i_PER+O, I-i_PER+O, O+O, I-i_ACT...</td>\n",
       "      <td>[▁Vas, s, et, ,, ▁mer, ce, rie, ▁et, ▁bonne, t...</td>\n",
       "      <td>[I-i_PER+O, I-i_PER+O, I-i_PER+O, O+O, I-i_ACT...</td>\n",
       "      <td>1.000000</td>\n",
       "    </tr>\n",
       "    <tr>\n",
       "      <th>1682</th>\n",
       "      <td>676</td>\n",
       "      <td>Vasset, fabr. de chaises, boulev. du Temple, ",
       "43.</td>\n",
       "      <td>&lt;PER&gt;Vasset&lt;/PER&gt;, &lt;ACT&gt;fabr. de chaises&lt;/ACT&gt;...</td>\n",
       "      <td>[▁Vas, s, et, ,, ▁fa, br, ., ▁de, ▁chaises, ,,...</td>\n",
       "      <td>[I-i_PER+O, I-i_PER+O, I-i_PER+O, O+O, I-i_ACT...</td>\n",
       "      <td>[▁Vas, s, et, ,, ▁fa, br, ., ▁de, ▁chaises, ,,...</td>\n",
       "      <td>[I-i_PER+O, I-i_PER+O, I-i_PER+O, O+O, I-i_ACT...</td>\n",
       "      <td>1.000000</td>\n",
       "    </tr>\n",
       "    <tr>\n",
       "      <th>1683</th>\n",
       "      <td>787</td>\n",
       "      <td>Vauquelin, médecin, quai Napoléon, 23.</td>\n",
       "      <td>&lt;PER&gt;Vauquelin&lt;/PER&gt;, &lt;ACT&gt;médecin&lt;/ACT&gt;, &lt;SPA...</td>\n",
       "      <td>[▁Vau, que, lin, ,, ▁médecin, ,, ▁qu, ai, ▁Nap...</td>\n",
       "      <td>[I-i_PER+O, I-i_PER+O, I-i_PER+O, O+O, I-i_ACT...</td>\n",
       "      <td>[▁Vau, que, lin, ,, ▁médecin, ,, ▁qu, ai, ▁Nap...</td>\n",
       "      <td>[I-i_PER+O, I-i_PER+O, I-i_PER+O, O+O, I-i_ACT...</td>\n",
       "      <td>1.000000</td>\n",
       "    </tr>\n",
       "    <tr>\n",
       "      <th>1684</th>\n",
       "      <td>1684</td>\n",
       "      <td>ARMACIS et comp, R. S. Denis, 38.</td>\n",
       "      <td>&lt;PER&gt;ARMACIS et comp&lt;/PER&gt;, &lt;SPAT&gt;&lt;LOC&gt;R. S. D...</td>\n",
       "      <td>[▁, ARM, AC, IS, ▁et, ▁comp, ,, ▁R, ., ▁S, ., ...</td>\n",
       "      <td>[I-i_PER+O, I-i_PER+O, I-i_PER+O, I-i_PER+O, I...</td>\n",
       "      <td>[▁, ARM, AC, IS, ▁et, ▁comp, ,, ▁R, ., ▁S, ., ...</td>\n",
       "      <td>[I-i_PER+O, I-i_PER+O, I-i_PER+O, I-i_PER+O, I...</td>\n",
       "      <td>1.000000</td>\n",
       "    </tr>\n",
       "  </tbody>\n",
       "</table>\n",
       "<p>1685 rows × 8 columns</p>\n",
       "</div>"
      ],
      "text/plain": [
       "      index                                              entry  \\\n",
       "0         4  Chardin et comp. fabr. de boutons de\n",
       "métal art...   \n",
       "1       436  Dauchez (E. ), référendaire à la cour des\n",
       "Comp...   \n",
       "2      1181  Gagnery, fabricant, par brevet d'in-\n",
       "vention, ...   \n",
       "3       489         Gaussen et Pouzadoux, châles. Banque, 1. *   \n",
       "4      1217  Bourrousse fils aîné, fab. de fon-\n",
       "taines filt...   \n",
       "...     ...                                                ...   \n",
       "1680    678  Vasseur, charcutier, Vieux-Marché-St-Mar-\n",
       "tin,...   \n",
       "1681    677        Vasset, mercerie et bonneterie, Noyers, 15.   \n",
       "1682    676   Vasset, fabr. de chaises, boulev. du Temple,\n",
       "43.   \n",
       "1683    787             Vauquelin, médecin, quai Napoléon, 23.   \n",
       "1684   1684                  ARMACIS et comp, R. S. Denis, 38.   \n",
       "\n",
       "                                              entry_xml  \\\n",
       "0     <PER>Chardin et comp. fabr. de</PER> <ACT>bout...   \n",
       "1     <PER>Dauchez (E. ),</PER> <ACT>référendaire à ...   \n",
       "2     <PER>Gagnery</PER>, <DESC>fabricant</DESC>, <D...   \n",
       "3     <PER>Gaussen et Pouzadoux</PER>, <ACT>châles. ...   \n",
       "4     <PER>Bourrousse fils aîné</PER>, <DESC>fab. de...   \n",
       "...                                                 ...   \n",
       "1680  <PER>Vasseur</PER>, <ACT>charcutier</ACT>, <SP...   \n",
       "1681  <PER>Vasset</PER>, <ACT>mercerie et bonneterie...   \n",
       "1682  <PER>Vasset</PER>, <ACT>fabr. de chaises</ACT>...   \n",
       "1683  <PER>Vauquelin</PER>, <ACT>médecin</ACT>, <SPA...   \n",
       "1684  <PER>ARMACIS et comp</PER>, <SPAT><LOC>R. S. D...   \n",
       "\n",
       "                                             spans_gold  \\\n",
       "0     [▁Char, din, ▁et, ▁comp, ., ▁fa, br, ., ▁de, ▁...   \n",
       "1     [▁D, au, chez, ▁(, E, ., ▁),, ▁ré, fér, end, a...   \n",
       "2     [▁G, agne, ry, ,, ▁fabricant, ,, ▁par, ▁brevet...   \n",
       "3     [▁Gau, ssen, ▁et, ▁Pou, za, doux, ,, ▁châle, s...   \n",
       "4     [▁Bour, rousse, ▁fils, ▁aîné, ,, ▁fa, b, ., ▁d...   \n",
       "...                                                 ...   \n",
       "1680  [▁Va, sseur, ,, ▁char, cu, tier, ,, ▁Vieux, -,...   \n",
       "1681  [▁Vas, s, et, ,, ▁mer, ce, rie, ▁et, ▁bonne, t...   \n",
       "1682  [▁Vas, s, et, ,, ▁fa, br, ., ▁de, ▁chaises, ,,...   \n",
       "1683  [▁Vau, que, lin, ,, ▁médecin, ,, ▁qu, ai, ▁Nap...   \n",
       "1684  [▁, ARM, AC, IS, ▁et, ▁comp, ,, ▁R, ., ▁S, ., ...   \n",
       "\n",
       "                                              tags_gold  \\\n",
       "0     [I-i_PER+O, I-i_PER+O, I-i_PER+O, I-i_PER+O, I...   \n",
       "1     [I-i_PER+O, I-i_PER+O, I-i_PER+O, I-i_PER+O, I...   \n",
       "2     [I-i_PER+O, I-i_PER+O, I-i_PER+O, O+O, I-i_DES...   \n",
       "3     [I-i_PER+O, I-i_PER+O, I-i_PER+O, I-i_PER+O, I...   \n",
       "4     [I-i_PER+O, I-i_PER+O, I-i_PER+O, I-i_PER+O, O...   \n",
       "...                                                 ...   \n",
       "1680  [I-i_PER+O, I-i_PER+O, O+O, I-i_ACT+O, I-i_ACT...   \n",
       "1681  [I-i_PER+O, I-i_PER+O, I-i_PER+O, O+O, I-i_ACT...   \n",
       "1682  [I-i_PER+O, I-i_PER+O, I-i_PER+O, O+O, I-i_ACT...   \n",
       "1683  [I-i_PER+O, I-i_PER+O, I-i_PER+O, O+O, I-i_ACT...   \n",
       "1684  [I-i_PER+O, I-i_PER+O, I-i_PER+O, I-i_PER+O, I...   \n",
       "\n",
       "                                            spans_preds  \\\n",
       "0     [▁Char, din, ▁et, ▁comp, ., ▁fa, br, ., ▁de, ▁...   \n",
       "1     [▁D, au, chez, ▁(, E, ., ▁),, ▁ré, fér, end, a...   \n",
       "2     [▁G, agne, ry, ,, ▁fabricant, ,, ▁par, ▁brevet...   \n",
       "3     [▁Gau, ssen, ▁et, ▁Pou, za, doux, ,, ▁châle, s...   \n",
       "4     [▁Bour, rousse, ▁fils, ▁aîné, ,, ▁fa, b, ., ▁d...   \n",
       "...                                                 ...   \n",
       "1680  [▁Va, sseur, ,, ▁char, cu, tier, ,, ▁Vieux, -,...   \n",
       "1681  [▁Vas, s, et, ,, ▁mer, ce, rie, ▁et, ▁bonne, t...   \n",
       "1682  [▁Vas, s, et, ,, ▁fa, br, ., ▁de, ▁chaises, ,,...   \n",
       "1683  [▁Vau, que, lin, ,, ▁médecin, ,, ▁qu, ai, ▁Nap...   \n",
       "1684  [▁, ARM, AC, IS, ▁et, ▁comp, ,, ▁R, ., ▁S, ., ...   \n",
       "\n",
       "                                             tags_preds        f1  \n",
       "0     [I-i_PER+O, I-i_PER+O, I-i_PER+O, I-i_PER+O, I...  0.000000  \n",
       "1     [I-i_PER+O, I-i_PER+O, I-i_PER+O, I-i_PER+O, I...  0.000000  \n",
       "2     [I-i_PER+O, I-i_PER+O, I-i_PER+O, O+O, I-i_DES...  0.210526  \n",
       "3     [I-i_PER+O, I-i_PER+O, I-i_PER+O, I-i_PER+O, I...  0.222222  \n",
       "4     [I-i_PER+O, I-i_PER+O, I-i_PER+O, I-i_PER+O, O...  0.222222  \n",
       "...                                                 ...       ...  \n",
       "1680  [I-i_PER+O, I-i_PER+O, O+O, I-i_ACT+O, I-i_ACT...  1.000000  \n",
       "1681  [I-i_PER+O, I-i_PER+O, I-i_PER+O, O+O, I-i_ACT...  1.000000  \n",
       "1682  [I-i_PER+O, I-i_PER+O, I-i_PER+O, O+O, I-i_ACT...  1.000000  \n",
       "1683  [I-i_PER+O, I-i_PER+O, I-i_PER+O, O+O, I-i_ACT...  1.000000  \n",
       "1684  [I-i_PER+O, I-i_PER+O, I-i_PER+O, I-i_PER+O, I...  1.000000  \n",
       "\n",
       "[1685 rows x 8 columns]"
      ]
     },
     "execution_count": 55,
     "metadata": {},
     "output_type": "execute_result"
    }
   ],
   "source": [
    "df_f1"
   ]
  },
  {
   "cell_type": "code",
   "execution_count": 56,
   "id": "78b17082",
   "metadata": {},
   "outputs": [
    {
     "data": {
      "text/plain": [
       "Text(0.5, 0.98, 'Entery-scale F1-Score distribution over test set')"
      ]
     },
     "execution_count": 56,
     "metadata": {},
     "output_type": "execute_result"
    },
    {
     "data": {
      "image/png": "[encoded data removed]",
      "text/plain": [
       "<Figure size 432x288 with 1 Axes>"
      ]
     },
     "metadata": {
      "needs_background": "light"
     },
     "output_type": "display_data"
    }
   ],
   "source": [
    "import pylab as pl\n",
    "\n",
    "df_f1.hist(column='f1',bins=40,sharey=True, sharex=True)\n",
    "pl.suptitle('Entery-scale F1-Score distribution over test set')"
   ]
  },
  {
   "cell_type": "markdown",
   "id": "a0b6b85b",
   "metadata": {},
   "source": [
    "### 15-Top worst"
   ]
  },
  {
   "cell_type": "code",
   "execution_count": 59,
   "id": "6ccccc35",
   "metadata": {},
   "outputs": [
    {
     "name": "stdout",
     "output_type": "stream",
     "text": [
      "INDEX 0\n",
      "Chardin et comp. fabr. de boutons de ",
      "métal artimomantico, par brevet d'in- ",
      "vention, à Vaugirard.\n",
      "<PER>Aubourg</PER>, <ACT>limonadier</ACT>, <SPAT><LOC>St-Antoine</LOC>, <CARDINAL>104</CARDINAL></SPAT>.\n",
      "F1-Score : 0.0\n",
      "\n",
      "INDEX 1\n",
      "Dauchez (E. ), référendaire à la cour des ",
      "Comptes, des Vignes à Passy.\n",
      "<PER>Dargaud</PER>, <ACT>tailleur</ACT>, <SPAT><LOC>Chaussée-d'Antin</LOC>, <CARDINAL>48</CARDINAL></SPAT>.\n",
      "F1-Score : 0.0\n",
      "\n",
      "INDEX 2\n",
      "Gagnery, fabricant, par brevet d'in- ",
      "vention, de mannequins perfec- ",
      "tionnés se tenant sur leurs jam- ",
      "bes sans le secours d'un pied ni ",
      "d'aucun support, et offrant l'a- ",
      "vantage de se grouper aussi près ",
      "l'un de l'autre qu'on le désire, ",
      "sans que rien puisse gêner le ",
      "mouvement des jambes ; assorti- ",
      "ment de mannequins ordinaires ",
      "à des prix très-modérés, St Mar- ",
      "tin, 257, M. H. 1849.*\n",
      "<PER>Dauphin</PER>, <ACT>peintre</ACT>, <SPAT><LOC>Perche</LOC>, <CARDINAL>7</CARDINAL></SPAT>.\n",
      "F1-Score : 0.2105263157894737\n",
      "\n",
      "INDEX 3\n",
      "Gaussen et Pouzadoux, châles. Banque, 1. *\n",
      "<PER>Dauner (F.</PER>), <ACT>négoc. en toiles</ACT>, <SPAT><LOC>St-Martin</LOC>, <CARDINAL>88</CARDINAL></SPAT>.\n",
      "F1-Score : 0.22222222222222224\n",
      "\n",
      "INDEX 4\n",
      "Bourrousse fils aîné, fab. de fon- ",
      "taines filtrantes en pierre et en ",
      "marbre, fait la fourniture de ",
      "toutes sortes de pierres taillées, ",
      "tant pour le bâtiment que pour ",
      "travaux hydrauliques ; fait éga- ",
      "lement la marbrerie, tant pour ",
      "meubles et bâtiments que pour ",
      "monuments funèbres. Fait tou- ",
      "tes sortes de carrelages en liais ",
      "et en marbres, mosaïques, dal- ",
      "lages, etc. ; fontaines en gros, ",
      "en pierre et en marbre, commis- ",
      "sion en marbrerie, Ste-Avoye, ",
      "59, hôtel St-Aignan.\n",
      "<PER>Daup et Cie</PER>, <ACT>lampes et bronzes</ACT>, <SPAT><LOC>Bondy</LOC>, <CARDINAL>80</CARDINAL></SPAT>.\n",
      "F1-Score : 0.22222222222222224\n",
      "\n",
      "INDEX 5\n",
      "Cailly, et armes, P.-Royal,gal. de pierre,7.\n",
      "<PER>Daupeley</PER>, <ACT>commiss. -priseur</ACT>, <SPAT><LOC>Hazard</LOC>, <CARDINAL>15</CARDINAL></SPAT>.\n",
      "F1-Score : 0.25\n",
      "\n",
      "INDEX 6\n",
      "Lemichez (Alp.), horticulteur. ",
      "Ⓞ 1845, Ⓞ 1816, Ⓞ 1816, Ⓞ ",
      "1847, Ⓞ 1847, Ⓞ 1847, Trois- ",
      "Couronnes, 18.\n",
      "<PER>Daupeyroux</PER>, <ACT>vins</ACT>, <SPAT><LOC>Varennes-St-Germain</LOC>, <CARDINAL>36</CARDINAL></SPAT> ",
      "et <SPAT><LOC>Bac</LOC>, <CARDINAL>96</CARDINAL></SPAT>.\n",
      "F1-Score : 0.2608695652173913\n",
      "\n",
      "INDEX 7\n",
      "Vauréal (Cte de), Amsterdam,19.\n",
      "<PER>Dauphin aîné</PER>, <ACT>limonadier</ACT>, <SPAT><LOC>St-Martin</LOC>, <CARDINAL>256</CARDINAL></SPAT>. *\n",
      "F1-Score : 0.28571428571428575\n",
      "\n",
      "INDEX 8\n",
      "Michel ( Ch.), spécialité d'éri- ",
      "cas, épacris, azaléas des Indes, ",
      "camélias, etc , fait des envois en ",
      "province et à l'étranger, Ⓐ 1849, ",
      "Boulets, 31, Faub.-St-An- ",
      "toine.\n",
      "<PER>Dauphin</PER>, <ACT>limonadier</ACT>, <SPAT><LOC>boul. du Temple</LOC>, <CARDINAL>28</CARDINAL></SPAT>.\n",
      "F1-Score : 0.28571428571428575\n",
      "\n",
      "INDEX 9\n",
      "Verdier (Vor) père, specialité de ",
      "rosiers, pivoines, nouveautes d'ar- ",
      "bustes et plantes de plein air, Ⓞ ",
      "décernée par la société centrale ",
      "d'horticuiture 1845; Ⓐ S. C. ",
      "d'horticulture, 1841 et 1844 ; ",
      "Ⓐ Société des horticulteurs réu- ",
      "nis; Ⓐ Société nationale d'hor- ",
      "ticulture 1842; Ⓑ 1849, rue des ",
      "Trois-Ormes, 5, à la gare d'I- ",
      "vry. *\n",
      "<PER>Dauphin jeune et Cie</PER>, <ACT>fab. de moulures en bois ",
      "des iles, bordures et châssis</ACT>, <SPAT><LOC>Faub. St-De- ",
      "nis</LOC>, <CARDINAL>65</CARDINAL></SPAT>.\n",
      "F1-Score : 0.3225806451612903\n",
      "\n",
      "INDEX 10\n",
      "Vaulabelle, conservat. du cimetière du Nord ",
      "(Montmartre).\n",
      "<PER>Dassonville</PER>, <ACT>liqueurs</ACT>, <SPAT><LOC>Fossés-St-Germain- ",
      "Auxerrois</LOC>, <CARDINAL>3</CARDINAL></SPAT>.\n",
      "F1-Score : 0.3333333333333333\n",
      "\n",
      "INDEX 11\n",
      "Audouard, courtier de comm., rue. ..\n",
      "<PER>Dasset</PER>, <ACT>propriet.</ACT>, <SPAT><LOC>Bleue</LOC>, <CARDINAL>3 bis</CARDINAL></SPAT>.\n",
      "F1-Score : 0.3333333333333333\n",
      "\n",
      "INDEX 12\n",
      "Aubert, (Mad.) pourtour du théâtre Franç.\n",
      "<PER>Tremouille (de la)</PER> , <SPAT><LOC>rue de Lille</LOC>, <CARDINAL>92</CARDINAL></SPAT>.\n",
      "F1-Score : 0.3333333333333333\n",
      "\n",
      "INDEX 13\n",
      "Pelé, Lourcine, 81, Ⓐ S. H. 1841, ",
      "plantes exotiques et indigènes, ",
      "culture spéciale des plantes viva- ",
      "ces les plus rares et les plus nou- ",
      "velles de pleine terre et de serre ",
      "tempérée, expédition et exporta- ",
      "tion pour la France et l'étranger.\n",
      "<PER>Dareste</PER>, <ACT>avocat</ACT>, <SPAT><LOC>Fleurus</LOC>, <CARDINAL>37</CARDINAL></SPAT>.\n",
      "F1-Score : 0.3333333333333333\n",
      "\n"
     ]
    }
   ],
   "source": [
    "for i in range(len(df_f1[0:14])):\n",
    "    print(f\"INDEX {i}\")\n",
    "    print(df_f1.iloc[i][\"entry\"])\n",
    "    print(rdf.iloc[i][\"entry_xml\"])\n",
    "    print(f\"F1-Score : {df_f1.iloc[i]['f1']}\")\n",
    "    print(\"\")"
   ]
  },
  {
   "cell_type": "markdown",
   "id": "f28b631e",
   "metadata": {},
   "source": [
    "### 15-Top best"
   ]
  },
  {
   "cell_type": "code",
   "execution_count": 60,
   "id": "cc515768",
   "metadata": {},
   "outputs": [
    {
     "name": "stdout",
     "output_type": "stream",
     "text": [
      "Aubourg, limonadier, St-Antoine, 104.\n",
      "<PER>Aubourg</PER>, <ACT>limonadier</ACT>, <SPAT><LOC>St-Antoine</LOC>, <CARDINAL>104</CARDINAL></SPAT>.\n",
      "F1-Score : 1.0\n",
      "\n",
      "Dargaud, tailleur, Chaussée-d'Antin, 48.\n",
      "<PER>Dargaud</PER>, <ACT>tailleur</ACT>, <SPAT><LOC>Chaussée-d'Antin</LOC>, <CARDINAL>48</CARDINAL></SPAT>.\n",
      "F1-Score : 1.0\n",
      "\n",
      "Dauphin, peintre, Perche, 7.\n",
      "<PER>Dauphin</PER>, <ACT>peintre</ACT>, <SPAT><LOC>Perche</LOC>, <CARDINAL>7</CARDINAL></SPAT>.\n",
      "F1-Score : 1.0\n",
      "\n",
      "Dauner (F.), négoc. en toiles, St-Martin, 88.\n",
      "<PER>Dauner (F.</PER>), <ACT>négoc. en toiles</ACT>, <SPAT><LOC>St-Martin</LOC>, <CARDINAL>88</CARDINAL></SPAT>.\n",
      "F1-Score : 1.0\n",
      "\n",
      "Daup et Cie, lampes et bronzes, Bondy, 80.\n",
      "<PER>Daup et Cie</PER>, <ACT>lampes et bronzes</ACT>, <SPAT><LOC>Bondy</LOC>, <CARDINAL>80</CARDINAL></SPAT>.\n",
      "F1-Score : 1.0\n",
      "\n",
      "Daupeley, commiss. -priseur, Hazard, 15.\n",
      "<PER>Daupeley</PER>, <ACT>commiss. -priseur</ACT>, <SPAT><LOC>Hazard</LOC>, <CARDINAL>15</CARDINAL></SPAT>.\n",
      "F1-Score : 1.0\n",
      "\n",
      "Daupeyroux, vins, Varennes-St-Germain, 36 ",
      "et Bac, 96.\n",
      "<PER>Daupeyroux</PER>, <ACT>vins</ACT>, <SPAT><LOC>Varennes-St-Germain</LOC>, <CARDINAL>36</CARDINAL></SPAT> ",
      "et <SPAT><LOC>Bac</LOC>, <CARDINAL>96</CARDINAL></SPAT>.\n",
      "F1-Score : 1.0\n",
      "\n",
      "Dauphin aîné, limonadier, St-Martin, 256. *\n",
      "<PER>Dauphin aîné</PER>, <ACT>limonadier</ACT>, <SPAT><LOC>St-Martin</LOC>, <CARDINAL>256</CARDINAL></SPAT>. *\n",
      "F1-Score : 1.0\n",
      "\n",
      "Dauphin, limonadier, boul. du Temple, 28.\n",
      "<PER>Dauphin</PER>, <ACT>limonadier</ACT>, <SPAT><LOC>boul. du Temple</LOC>, <CARDINAL>28</CARDINAL></SPAT>.\n",
      "F1-Score : 1.0\n",
      "\n",
      "Dauphin jeune et Cie, fab. de moulures en bois ",
      "des iles, bordures et châssis, Faub. St-De- ",
      "nis, 65.\n",
      "<PER>Dauphin jeune et Cie</PER>, <ACT>fab. de moulures en bois ",
      "des iles, bordures et châssis</ACT>, <SPAT><LOC>Faub. St-De- ",
      "nis</LOC>, <CARDINAL>65</CARDINAL></SPAT>.\n",
      "F1-Score : 1.0\n",
      "\n",
      "Dassonville, liqueurs, Fossés-St-Germain- ",
      "Auxerrois, 3.\n",
      "<PER>Dassonville</PER>, <ACT>liqueurs</ACT>, <SPAT><LOC>Fossés-St-Germain- ",
      "Auxerrois</LOC>, <CARDINAL>3</CARDINAL></SPAT>.\n",
      "F1-Score : 1.0\n",
      "\n",
      "Dasset, propriet., Bleue, 3 bis.\n",
      "<PER>Dasset</PER>, <ACT>propriet.</ACT>, <SPAT><LOC>Bleue</LOC>, <CARDINAL>3 bis</CARDINAL></SPAT>.\n",
      "F1-Score : 1.0\n",
      "\n",
      "Tremouille (de la) , rue de Lille, 92.\n",
      "<PER>Tremouille (de la)</PER> , <SPAT><LOC>rue de Lille</LOC>, <CARDINAL>92</CARDINAL></SPAT>.\n",
      "F1-Score : 1.0\n",
      "\n",
      "Dareste, avocat, Fleurus, 37.\n",
      "<PER>Dareste</PER>, <ACT>avocat</ACT>, <SPAT><LOC>Fleurus</LOC>, <CARDINAL>37</CARDINAL></SPAT>.\n",
      "F1-Score : 1.0\n",
      "\n"
     ]
    }
   ],
   "source": [
    "rdf = df_f1.sort_values(by='f1', ascending=False)\n",
    "for i in range(len(rdf[0:14])):\n",
    "    print(rdf.iloc[i][\"entry\"])\n",
    "    print(rdf.iloc[i][\"entry_xml\"])\n",
    "    print(f\"F1-Score : {rdf.iloc[i]['f1']}\")\n",
    "    print(\"\")"
   ]
  },
  {
   "cell_type": "markdown",
   "id": "bb1581a2",
   "metadata": {},
   "source": [
    "## Sub-word global analysis"
   ]
  },
  {
   "cell_type": "code",
   "execution_count": 61,
   "id": "336e5dcc",
   "metadata": {},
   "outputs": [
    {
     "data": {
      "text/html": [
       "<div>\n",
       "<style scoped>\n",
       "    .dataframe tbody tr th:only-of-type {\n",
       "        vertical-align: middle;\n",
       "    }\n",
       "\n",
       "    .dataframe tbody tr th {\n",
       "        vertical-align: top;\n",
       "    }\n",
       "\n",
       "    .dataframe thead th {\n",
       "        text-align: right;\n",
       "    }\n",
       "</style>\n",
       "<table border=\"1\" class=\"dataframe\">\n",
       "  <thead>\n",
       "    <tr style=\"text-align: right;\">\n",
       "      <th></th>\n",
       "      <th>O+CARDINAL</th>\n",
       "      <th>O+LOC</th>\n",
       "      <th>ACT+O</th>\n",
       "      <th>ACT+LOC</th>\n",
       "      <th>DESC+O</th>\n",
       "      <th>DESC+CARDINAL</th>\n",
       "      <th>DESC+LOC</th>\n",
       "      <th>DESC+TITREP</th>\n",
       "      <th>PER+O</th>\n",
       "      <th>PER+LOC</th>\n",
       "      <th>PER+TITREH</th>\n",
       "      <th>SPAT+O</th>\n",
       "      <th>SPAT+CARDINAL</th>\n",
       "      <th>SPAT+LOC</th>\n",
       "      <th>O+O</th>\n",
       "    </tr>\n",
       "  </thead>\n",
       "  <tbody>\n",
       "    <tr>\n",
       "      <th>ACT+O</th>\n",
       "      <td>0.000000</td>\n",
       "      <td>0.000000</td>\n",
       "      <td>92.974528</td>\n",
       "      <td>0.000000</td>\n",
       "      <td>1.663928</td>\n",
       "      <td>0.000000</td>\n",
       "      <td>0.000000</td>\n",
       "      <td>0.000000</td>\n",
       "      <td>1.869351</td>\n",
       "      <td>0.000000</td>\n",
       "      <td>0.000000</td>\n",
       "      <td>0.677896</td>\n",
       "      <td>0.000000</td>\n",
       "      <td>0.123254</td>\n",
       "      <td>2.691044</td>\n",
       "    </tr>\n",
       "    <tr>\n",
       "      <th>DESC+O</th>\n",
       "      <td>0.000000</td>\n",
       "      <td>0.000000</td>\n",
       "      <td>29.160187</td>\n",
       "      <td>0.000000</td>\n",
       "      <td>62.752722</td>\n",
       "      <td>0.000000</td>\n",
       "      <td>0.155521</td>\n",
       "      <td>0.000000</td>\n",
       "      <td>2.255054</td>\n",
       "      <td>0.311042</td>\n",
       "      <td>0.000000</td>\n",
       "      <td>0.000000</td>\n",
       "      <td>0.000000</td>\n",
       "      <td>0.388802</td>\n",
       "      <td>4.976672</td>\n",
       "    </tr>\n",
       "    <tr>\n",
       "      <th>DESC+ACT</th>\n",
       "      <td>0.000000</td>\n",
       "      <td>0.000000</td>\n",
       "      <td>51.333333</td>\n",
       "      <td>0.000000</td>\n",
       "      <td>47.777778</td>\n",
       "      <td>0.000000</td>\n",
       "      <td>0.000000</td>\n",
       "      <td>0.000000</td>\n",
       "      <td>0.000000</td>\n",
       "      <td>0.000000</td>\n",
       "      <td>0.000000</td>\n",
       "      <td>0.000000</td>\n",
       "      <td>0.000000</td>\n",
       "      <td>0.000000</td>\n",
       "      <td>0.888889</td>\n",
       "    </tr>\n",
       "    <tr>\n",
       "      <th>DESC+TITREP</th>\n",
       "      <td>0.000000</td>\n",
       "      <td>0.000000</td>\n",
       "      <td>0.000000</td>\n",
       "      <td>0.000000</td>\n",
       "      <td>70.614035</td>\n",
       "      <td>0.877193</td>\n",
       "      <td>1.315789</td>\n",
       "      <td>0.877193</td>\n",
       "      <td>0.000000</td>\n",
       "      <td>0.000000</td>\n",
       "      <td>0.000000</td>\n",
       "      <td>2.192982</td>\n",
       "      <td>0.000000</td>\n",
       "      <td>0.000000</td>\n",
       "      <td>24.122807</td>\n",
       "    </tr>\n",
       "    <tr>\n",
       "      <th>PER+O</th>\n",
       "      <td>0.000000</td>\n",
       "      <td>0.000000</td>\n",
       "      <td>0.233879</td>\n",
       "      <td>0.000000</td>\n",
       "      <td>0.000000</td>\n",
       "      <td>0.000000</td>\n",
       "      <td>0.000000</td>\n",
       "      <td>0.000000</td>\n",
       "      <td>99.281657</td>\n",
       "      <td>0.066823</td>\n",
       "      <td>0.033411</td>\n",
       "      <td>0.183762</td>\n",
       "      <td>0.000000</td>\n",
       "      <td>0.033411</td>\n",
       "      <td>0.167056</td>\n",
       "    </tr>\n",
       "    <tr>\n",
       "      <th>PER+TITREH</th>\n",
       "      <td>0.000000</td>\n",
       "      <td>0.000000</td>\n",
       "      <td>0.000000</td>\n",
       "      <td>0.000000</td>\n",
       "      <td>0.000000</td>\n",
       "      <td>0.000000</td>\n",
       "      <td>0.000000</td>\n",
       "      <td>0.000000</td>\n",
       "      <td>0.826446</td>\n",
       "      <td>0.000000</td>\n",
       "      <td>99.173554</td>\n",
       "      <td>0.000000</td>\n",
       "      <td>0.000000</td>\n",
       "      <td>0.000000</td>\n",
       "      <td>0.000000</td>\n",
       "    </tr>\n",
       "    <tr>\n",
       "      <th>SPAT+O</th>\n",
       "      <td>0.000000</td>\n",
       "      <td>0.000000</td>\n",
       "      <td>0.107239</td>\n",
       "      <td>0.000000</td>\n",
       "      <td>0.053619</td>\n",
       "      <td>0.000000</td>\n",
       "      <td>0.000000</td>\n",
       "      <td>0.000000</td>\n",
       "      <td>0.000000</td>\n",
       "      <td>0.000000</td>\n",
       "      <td>0.000000</td>\n",
       "      <td>97.694370</td>\n",
       "      <td>0.321716</td>\n",
       "      <td>1.179625</td>\n",
       "      <td>0.643432</td>\n",
       "    </tr>\n",
       "    <tr>\n",
       "      <th>SPAT+CARDINAL</th>\n",
       "      <td>0.108519</td>\n",
       "      <td>0.000000</td>\n",
       "      <td>0.000000</td>\n",
       "      <td>0.000000</td>\n",
       "      <td>0.000000</td>\n",
       "      <td>0.000000</td>\n",
       "      <td>0.000000</td>\n",
       "      <td>0.000000</td>\n",
       "      <td>0.000000</td>\n",
       "      <td>0.000000</td>\n",
       "      <td>0.000000</td>\n",
       "      <td>0.054259</td>\n",
       "      <td>99.728703</td>\n",
       "      <td>0.054259</td>\n",
       "      <td>0.054259</td>\n",
       "    </tr>\n",
       "    <tr>\n",
       "      <th>SPAT+FT</th>\n",
       "      <td>0.000000</td>\n",
       "      <td>0.000000</td>\n",
       "      <td>32.558140</td>\n",
       "      <td>0.000000</td>\n",
       "      <td>23.255814</td>\n",
       "      <td>0.000000</td>\n",
       "      <td>0.000000</td>\n",
       "      <td>0.000000</td>\n",
       "      <td>0.000000</td>\n",
       "      <td>0.000000</td>\n",
       "      <td>0.000000</td>\n",
       "      <td>30.232558</td>\n",
       "      <td>0.000000</td>\n",
       "      <td>11.627907</td>\n",
       "      <td>2.325581</td>\n",
       "    </tr>\n",
       "    <tr>\n",
       "      <th>SPAT+LOC</th>\n",
       "      <td>0.000000</td>\n",
       "      <td>0.447427</td>\n",
       "      <td>0.044743</td>\n",
       "      <td>0.123043</td>\n",
       "      <td>0.000000</td>\n",
       "      <td>0.000000</td>\n",
       "      <td>0.123043</td>\n",
       "      <td>0.000000</td>\n",
       "      <td>0.000000</td>\n",
       "      <td>0.022371</td>\n",
       "      <td>0.000000</td>\n",
       "      <td>0.447427</td>\n",
       "      <td>0.011186</td>\n",
       "      <td>98.713647</td>\n",
       "      <td>0.067114</td>\n",
       "    </tr>\n",
       "    <tr>\n",
       "      <th>O+O</th>\n",
       "      <td>1.302028</td>\n",
       "      <td>1.622199</td>\n",
       "      <td>1.024546</td>\n",
       "      <td>0.000000</td>\n",
       "      <td>0.618997</td>\n",
       "      <td>0.000000</td>\n",
       "      <td>0.000000</td>\n",
       "      <td>0.000000</td>\n",
       "      <td>3.799360</td>\n",
       "      <td>0.021345</td>\n",
       "      <td>0.000000</td>\n",
       "      <td>0.576307</td>\n",
       "      <td>1.003202</td>\n",
       "      <td>0.170758</td>\n",
       "      <td>89.861259</td>\n",
       "    </tr>\n",
       "  </tbody>\n",
       "</table>\n",
       "</div>"
      ],
      "text/plain": [
       "               O+CARDINAL     O+LOC      ACT+O   ACT+LOC     DESC+O  \\\n",
       "ACT+O            0.000000  0.000000  92.974528  0.000000   1.663928   \n",
       "DESC+O           0.000000  0.000000  29.160187  0.000000  62.752722   \n",
       "DESC+ACT         0.000000  0.000000  51.333333  0.000000  47.777778   \n",
       "DESC+TITREP      0.000000  0.000000   0.000000  0.000000  70.614035   \n",
       "PER+O            0.000000  0.000000   0.233879  0.000000   0.000000   \n",
       "PER+TITREH       0.000000  0.000000   0.000000  0.000000   0.000000   \n",
       "SPAT+O           0.000000  0.000000   0.107239  0.000000   0.053619   \n",
       "SPAT+CARDINAL    0.108519  0.000000   0.000000  0.000000   0.000000   \n",
       "SPAT+FT          0.000000  0.000000  32.558140  0.000000  23.255814   \n",
       "SPAT+LOC         0.000000  0.447427   0.044743  0.123043   0.000000   \n",
       "O+O              1.302028  1.622199   1.024546  0.000000   0.618997   \n",
       "\n",
       "               DESC+CARDINAL  DESC+LOC  DESC+TITREP      PER+O   PER+LOC  \\\n",
       "ACT+O               0.000000  0.000000     0.000000   1.869351  0.000000   \n",
       "DESC+O              0.000000  0.155521     0.000000   2.255054  0.311042   \n",
       "DESC+ACT            0.000000  0.000000     0.000000   0.000000  0.000000   \n",
       "DESC+TITREP         0.877193  1.315789     0.877193   0.000000  0.000000   \n",
       "PER+O               0.000000  0.000000     0.000000  99.281657  0.066823   \n",
       "PER+TITREH          0.000000  0.000000     0.000000   0.826446  0.000000   \n",
       "SPAT+O              0.000000  0.000000     0.000000   0.000000  0.000000   \n",
       "SPAT+CARDINAL       0.000000  0.000000     0.000000   0.000000  0.000000   \n",
       "SPAT+FT             0.000000  0.000000     0.000000   0.000000  0.000000   \n",
       "SPAT+LOC            0.000000  0.123043     0.000000   0.000000  0.022371   \n",
       "O+O                 0.000000  0.000000     0.000000   3.799360  0.021345   \n",
       "\n",
       "               PER+TITREH     SPAT+O  SPAT+CARDINAL   SPAT+LOC        O+O  \n",
       "ACT+O            0.000000   0.677896       0.000000   0.123254   2.691044  \n",
       "DESC+O           0.000000   0.000000       0.000000   0.388802   4.976672  \n",
       "DESC+ACT         0.000000   0.000000       0.000000   0.000000   0.888889  \n",
       "DESC+TITREP      0.000000   2.192982       0.000000   0.000000  24.122807  \n",
       "PER+O            0.033411   0.183762       0.000000   0.033411   0.167056  \n",
       "PER+TITREH      99.173554   0.000000       0.000000   0.000000   0.000000  \n",
       "SPAT+O           0.000000  97.694370       0.321716   1.179625   0.643432  \n",
       "SPAT+CARDINAL    0.000000   0.054259      99.728703   0.054259   0.054259  \n",
       "SPAT+FT          0.000000  30.232558       0.000000  11.627907   2.325581  \n",
       "SPAT+LOC         0.000000   0.447427       0.011186  98.713647   0.067114  \n",
       "O+O              0.000000   0.576307       1.003202   0.170758  89.861259  "
      ]
     },
     "execution_count": 61,
     "metadata": {},
     "output_type": "execute_result"
    }
   ],
   "source": [
    "flat_preds = []\n",
    "flat_labels = []\n",
    "for i in range(len(df)):\n",
    "    flat_preds += df[\"tags_preds\"][i]\n",
    "    flat_labels += df[\"tags_gold\"][i]\n",
    "flat_preds = pd.Series(flat_preds, name=\"Predictions\")\n",
    "flat_labels = pd.Series(flat_labels, name=\"Gold\")\n",
    "\n",
    "global_confusion = pd.crosstab(flat_labels, flat_preds,normalize='index').multiply(100., axis=1)\n",
    "\n",
    "col = []\n",
    "for c in global_confusion.columns:\n",
    "    c = c.replace('I-','')\n",
    "    c = c.replace('i_','')\n",
    "    c = c.replace('B-','')\n",
    "    c = c.replace('b_','')\n",
    "    col.append(c)\n",
    "global_confusion.columns = col\n",
    "\n",
    "ind = []\n",
    "for c in global_confusion.index:\n",
    "    c = c.replace('I-','')\n",
    "    c = c.replace('i_','')\n",
    "    c = c.replace('B-','')\n",
    "    c = c.replace('b_','')\n",
    "    ind.append(c)\n",
    "global_confusion.index = ind\n",
    "global_confusion"
   ]
  },
  {
   "cell_type": "code",
   "execution_count": 62,
   "id": "605f65eb",
   "metadata": {},
   "outputs": [
    {
     "name": "stdout",
     "output_type": "stream",
     "text": [
      "Confusion matrix of reference and predicted tokens types.\n",
      "Values are normalized by row (percentage of each reference classe and its resultants predictions)\n",
      "Last row represent percentage of each class in gold.\n"
     ]
    },
    {
     "data": {
      "image/png": "[encoded data removed]",
      "text/plain": [
       "<Figure size 4320x1152 with 1 Axes>"
      ]
     },
     "metadata": {
      "needs_background": "light"
     },
     "output_type": "display_data"
    }
   ],
   "source": [
    "import pandas as pd\n",
    "import numpy as np\n",
    "import matplotlib.pyplot as plt\n",
    "import seaborn as sns\n",
    "\n",
    "#Init figure\n",
    "plt.figure(figsize=(60, 16))\n",
    "\n",
    "#Create heatmap\n",
    "snsfig = sns.heatmap(\n",
    "    global_confusion, \n",
    "    annot = True, #Display labels\n",
    "    cmap=sns.color_palette(\"rocket_r\", as_cmap=True), #Color\n",
    "    fmt=\".1f\",\n",
    "    cbar=False,\n",
    "    annot_kws={\"fontsize\":40}\n",
    ")\n",
    "\n",
    "#Rename label axis and set their style\n",
    "plt.xlabel('Predictions',weight = 'bold',fontsize=35)\n",
    "plt.ylabel('Gold',weight = 'bold',fontsize=35)\n",
    "\n",
    "#Set x labels position to top\n",
    "snsfig.xaxis.tick_top()\n",
    "snsfig.xaxis.set_label_position('top')\n",
    "\n",
    "#Rotate y ticks horizontaly\n",
    "plt.yticks(rotation=0) \n",
    "\n",
    "#Change ticks size\n",
    "snsfig.set_xticklabels(snsfig.get_xmajorticklabels(), fontsize = 32)\n",
    "snsfig.set_yticklabels(snsfig.get_ymajorticklabels(), fontsize = 32)\n",
    "\n",
    "print(\"Confusion matrix of reference and predicted tokens types.\")\n",
    "print(\"Values are normalized by row (percentage of each reference classe and its resultants predictions)\")\n",
    "print(\"Last row represent percentage of each class in gold.\")\n",
    "\n",
    "plt.show()\n",
    "\n",
    "#Save figure\n",
    "fig = snsfig.get_figure()\n",
    "fig.tight_layout()\n",
    "#fig.savefig(f\"./tokenscaleanalysis-{FORMAT}-{SET}.pdf\") "
   ]
  },
  {
   "cell_type": "markdown",
   "id": "b7f9342a",
   "metadata": {},
   "source": [
    "## Entry scale analysis"
   ]
  },
  {
   "cell_type": "markdown",
   "id": "987574e1",
   "metadata": {},
   "source": [
    "Please choose one entry giving its index to perform an entry scale analysis :"
   ]
  },
  {
   "cell_type": "code",
   "execution_count": 63,
   "id": "7ad6d020",
   "metadata": {},
   "outputs": [],
   "source": [
    "i = 2"
   ]
  },
  {
   "cell_type": "code",
   "execution_count": 64,
   "id": "cbca834a",
   "metadata": {
    "scrolled": true
   },
   "outputs": [
    {
     "name": "stdout",
     "output_type": "stream",
     "text": [
      "Berchet, r. du Temple, 71.\n",
      "<PER>Berchet</PER>, <SPAT><LOC>r. du Temple</LOC>, <CARDINAL>71</CARDINAL></SPAT>.\n"
     ]
    }
   ],
   "source": [
    "print(df.iloc[i][\"entry\"])\n",
    "print(df.iloc[i][\"entry_xml\"])"
   ]
  },
  {
   "cell_type": "code",
   "execution_count": 65,
   "id": "5f8275b1",
   "metadata": {},
   "outputs": [
    {
     "name": "stdout",
     "output_type": "stream",
     "text": [
      "                   precision    recall  f1-score   support\n",
      "\n",
      "          i_PER+O       1.00      1.00      1.00         1\n",
      "         i_SPAT+O       1.00      1.00      1.00         1\n",
      "i_SPAT+i_CARDINAL       1.00      1.00      1.00         1\n",
      "     i_SPAT+i_LOC       1.00      1.00      1.00         1\n",
      "\n",
      "        micro avg       1.00      1.00      1.00         4\n",
      "        macro avg       1.00      1.00      1.00         4\n",
      "     weighted avg       1.00      1.00      1.00         4\n",
      "\n"
     ]
    },
    {
     "name": "stderr",
     "output_type": "stream",
     "text": [
      "/lrde/home2/stual/.venv/python_3_9/lib/python3.10/site-packages/seqeval/metrics/sequence_labeling.py:171: UserWarning: O+O seems not to be NE tag.\n",
      "  warnings.warn('{} seems not to be NE tag.'.format(chunk))\n"
     ]
    }
   ],
   "source": [
    "from seqeval.metrics import classification_report\n",
    "\n",
    "y_preds = df.iloc[i][\"tags_preds\"]\n",
    "y_true = df.iloc[i][\"tags_gold\"]\n",
    "print(classification_report([y_true],[y_preds]))"
   ]
  },
  {
   "cell_type": "code",
   "execution_count": 66,
   "id": "c619eaf8",
   "metadata": {},
   "outputs": [
    {
     "data": {
      "text/html": [
       "<div>\n",
       "<style scoped>\n",
       "    .dataframe tbody tr th:only-of-type {\n",
       "        vertical-align: middle;\n",
       "    }\n",
       "\n",
       "    .dataframe tbody tr th {\n",
       "        vertical-align: top;\n",
       "    }\n",
       "\n",
       "    .dataframe thead th {\n",
       "        text-align: right;\n",
       "    }\n",
       "</style>\n",
       "<table border=\"1\" class=\"dataframe\">\n",
       "  <thead>\n",
       "    <tr style=\"text-align: right;\">\n",
       "      <th></th>\n",
       "      <th>PER+O</th>\n",
       "      <th>SPAT+O</th>\n",
       "      <th>SPAT+CARDINAL</th>\n",
       "      <th>SPAT+LOC</th>\n",
       "      <th>O+O</th>\n",
       "    </tr>\n",
       "  </thead>\n",
       "  <tbody>\n",
       "    <tr>\n",
       "      <th>PER+O</th>\n",
       "      <td>2</td>\n",
       "      <td>0</td>\n",
       "      <td>0</td>\n",
       "      <td>0</td>\n",
       "      <td>0</td>\n",
       "    </tr>\n",
       "    <tr>\n",
       "      <th>SPAT+O</th>\n",
       "      <td>0</td>\n",
       "      <td>1</td>\n",
       "      <td>0</td>\n",
       "      <td>0</td>\n",
       "      <td>0</td>\n",
       "    </tr>\n",
       "    <tr>\n",
       "      <th>SPAT+CARDINAL</th>\n",
       "      <td>0</td>\n",
       "      <td>0</td>\n",
       "      <td>1</td>\n",
       "      <td>0</td>\n",
       "      <td>0</td>\n",
       "    </tr>\n",
       "    <tr>\n",
       "      <th>SPAT+LOC</th>\n",
       "      <td>0</td>\n",
       "      <td>0</td>\n",
       "      <td>0</td>\n",
       "      <td>4</td>\n",
       "      <td>0</td>\n",
       "    </tr>\n",
       "    <tr>\n",
       "      <th>O+O</th>\n",
       "      <td>0</td>\n",
       "      <td>0</td>\n",
       "      <td>0</td>\n",
       "      <td>0</td>\n",
       "      <td>2</td>\n",
       "    </tr>\n",
       "  </tbody>\n",
       "</table>\n",
       "</div>"
      ],
      "text/plain": [
       "               PER+O  SPAT+O  SPAT+CARDINAL  SPAT+LOC  O+O\n",
       "PER+O              2       0              0         0    0\n",
       "SPAT+O             0       1              0         0    0\n",
       "SPAT+CARDINAL      0       0              1         0    0\n",
       "SPAT+LOC           0       0              0         4    0\n",
       "O+O                0       0              0         0    2"
      ]
     },
     "execution_count": 66,
     "metadata": {},
     "output_type": "execute_result"
    }
   ],
   "source": [
    "import pandas as pd\n",
    "import numpy as np\n",
    "import matplotlib.pyplot as plt\n",
    "import seaborn as sns\n",
    "\n",
    "y_true = pd.Series(df[\"tags_gold\"].iloc[i], name='Gold')\n",
    "y_pred = pd.Series(df[\"tags_preds\"].iloc[i], name='Predictions')\n",
    "entry_confusion = pd.crosstab(y_true, y_pred)\n",
    "\n",
    "col = []\n",
    "for c in entry_confusion.columns:\n",
    "    c = c.replace('I-','')\n",
    "    c = c.replace('i_','')\n",
    "    c = c.replace('B-','')\n",
    "    c = c.replace('b_','')\n",
    "    col.append(c)\n",
    "entry_confusion.columns = col\n",
    "\n",
    "ind = []\n",
    "for c in entry_confusion.index:\n",
    "    c = c.replace('I-','')\n",
    "    c = c.replace('i_','')\n",
    "    c = c.replace('B-','')\n",
    "    c = c.replace('b_','')\n",
    "    ind.append(c)\n",
    "entry_confusion.index = ind\n",
    "entry_confusion"
   ]
  },
  {
   "cell_type": "code",
   "execution_count": 67,
   "id": "582e2077",
   "metadata": {},
   "outputs": [
    {
     "name": "stdout",
     "output_type": "stream",
     "text": [
      "Confusion matrix of reference and predicted tokens types.\n"
     ]
    },
    {
     "data": {
      "image/png": "[encoded data removed]",
      "text/plain": [
       "<Figure size 1080x720 with 1 Axes>"
      ]
     },
     "metadata": {
      "needs_background": "light"
     },
     "output_type": "display_data"
    }
   ],
   "source": [
    "#Init figure\n",
    "plt.figure(figsize=(15, 10))\n",
    "\n",
    "#Create heatmap\n",
    "snsfig = sns.heatmap(\n",
    "    entry_confusion, \n",
    "    annot = True, #Display labels\n",
    "    cmap=sns.color_palette(\"rocket_r\", as_cmap=True), #Color\n",
    "    fmt=\"g\",\n",
    "    cbar=False,\n",
    "    annot_kws={\"fontsize\":30}\n",
    ")\n",
    "\n",
    "#Rename label axis and set their style\n",
    "plt.xlabel('Predictions',weight = 'bold',fontsize=25) # x-axis label with fontsize 15\n",
    "plt.ylabel('Gold',weight = 'bold',fontsize=25) # y-axis label with fontsize 15\n",
    "\n",
    "#Set x labels position to top\n",
    "snsfig.xaxis.tick_top()\n",
    "snsfig.xaxis.set_label_position('top')\n",
    "\n",
    "#Rotate y ticks horizontaly\n",
    "plt.yticks(rotation=0) \n",
    "\n",
    "#Change ticks size\n",
    "snsfig.set_xticklabels(snsfig.get_xmajorticklabels(), fontsize = 20)\n",
    "snsfig.set_yticklabels(snsfig.get_ymajorticklabels(), fontsize = 20)\n",
    "\n",
    "print(\"Confusion matrix of reference and predicted tokens types.\")\n",
    "\n",
    "plt.show()\n",
    "\n",
    "#Save figure\n",
    "fig = snsfig.get_figure()"
   ]
  }
 ],
 "metadata": {
  "kernelspec": {
   "display_name": "Python 3 (ipykernel)",
   "language": "python",
   "name": "python3"
  },
  "language_info": {
   "codemirror_mode": {
    "name": "ipython",
    "version": 3
   },
   "file_extension": ".py",
   "mimetype": "text/x-python",
   "name": "python",
   "nbconvert_exporter": "python",
   "pygments_lexer": "ipython3",
   "version": "3.10.8"
  }
 },
 "nbformat": 4,
 "nbformat_minor": 5
}
