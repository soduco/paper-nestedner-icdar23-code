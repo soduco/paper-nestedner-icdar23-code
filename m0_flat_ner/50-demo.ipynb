{
 "cells": [
  {
   "cell_type": "markdown",
   "id": "b0e9b916",
   "metadata": {},
   "source": [
    "# 50 - Flat NER - Demo"
   ]
  },
  {
   "cell_type": "code",
   "execution_count": null,
   "id": "ed006e70",
   "metadata": {},
   "outputs": [],
   "source": [
    "#Libraries\n",
    "import ipywidgets as widgets\n",
    "import csv\n",
    "from transformers import AutoTokenizer, AutoModelForTokenClassification, TokenClassificationPipeline\n",
    "#Custom functions\n",
    "from aggregate_predictions import xmlize"
   ]
  },
  {
   "cell_type": "code",
   "execution_count": null,
   "id": "d846a070",
   "metadata": {},
   "outputs": [],
   "source": [
    "!jupyter nbextension enable --py widgetsnbextension"
   ]
  },
  {
   "cell_type": "code",
   "execution_count": null,
   "id": "584e3714",
   "metadata": {},
   "outputs": [],
   "source": [
    "models = ['nlpso/m0_flat_ner_ref_cmbert_io',\n",
    "        'nlpso/m0_flat_ner_ref_ptrn_cmbert_io',\n",
    "        'nlpso/m0_flat_ner_ocr_cmbert_io',\n",
    "        'nlpso/m0_flat_ner_ocr_ptrn_cmbert_io']"
   ]
  },
  {
   "cell_type": "markdown",
   "id": "1cb561ed",
   "metadata": {},
   "source": [
    "**Choose a model to load from the HuggingFace in the following list :**"
   ]
  },
  {
   "cell_type": "markdown",
   "id": "6eb556be",
   "metadata": {},
   "source": [
    "* `nlpso/m0_flat_ner_ref_cmbert_io` : CamemBERT NER fine-tuned with ground-truth dataset\n",
    "* `nlpso/m0_flat_ner_ref_ptrn_cmbert_io` : Pretrained CamemBERT NER fine-tuned with ground-truth dataset\n",
    "* `nlpso/m0_flat_ner_ocr_cmbert_io` : CamemBERT NER fine-tuned with noisy dataset\n",
    "* `nlpso/m0_flat_ner_ocr_ptrn_cmbert_io` : Pretrained CamemBERT NER fine-tuned with noisy dataset"
   ]
  },
  {
   "cell_type": "code",
   "execution_count": null,
   "id": "8c12da8f",
   "metadata": {},
   "outputs": [],
   "source": [
    "model = widgets.RadioButtons(\n",
    "            options=models,\n",
    "            layout={'width': 'max-content'}\n",
    "        )\n",
    "model"
   ]
  },
  {
   "cell_type": "code",
   "execution_count": null,
   "id": "574ac244",
   "metadata": {},
   "outputs": [],
   "source": [
    "print(model.value)"
   ]
  },
  {
   "cell_type": "code",
   "execution_count": null,
   "id": "5827004a-13a7-4268-88aa-800ef1c70c85",
   "metadata": {},
   "outputs": [],
   "source": [
    "#Load model and tokenizer from the HuggingFace Hub\n",
    "tokenizer = AutoTokenizer.from_pretrained(str(model.value)) \n",
    "model = AutoModelForTokenClassification.from_pretrained(str(model.value))"
   ]
  },
  {
   "cell_type": "code",
   "execution_count": null,
   "id": "49da418a",
   "metadata": {},
   "outputs": [],
   "source": [
    "#Create token classification pipeline\n",
    "nlp = TokenClassificationPipeline(model=model, tokenizer=tokenizer, aggregation_strategy='simple')"
   ]
  },
  {
   "cell_type": "code",
   "execution_count": null,
   "id": "f9ecab43-7166-4e97-9ff4-151e88f457f6",
   "metadata": {},
   "outputs": [],
   "source": [
    "samples = \"\"\"☞ ",
    " ",
    "T ",
    "Dufant (Victor), libraire, r. du Gros-Che- ",
    "net. 2. ",
    "JO \\n\n",
    "Dutay, essayeur du commerce, place Dau- ",
    " ",
    "- ",
    "píině, 5. ",
    "DOB \\n\n",
    "Dulay, chandronnier, r. du Pont- aux- ",
    "Chuux, 15. ",
    "SI \\n\n",
    "Dufay (V.e), grenetière, r. du Fauh.-S. ",
    "Denis, 20. ",
    "372 \\n\n",
    "Y ",
    "☞ ",
    "Dnten,charentier, 1. Montmartre, 89. 318 \\n\n",
    "Dufey fils, bijoutier, passage de la Réunion ",
    "A \\n\n",
    "Dnley, boucher, r. S.&quot;Louis-au-Marais,3. ",
    "* \\n\n",
    "☞ ",
    "Duffand, bijonteer, r. S.-Martin, 107. 284 \\n\n",
    "Duftaud, maçon, r. S-Honore ",
    " ",
    "353. ",
    "O \\n\n",
    "Dullaut, chandronnier, r. de la Sourdière ",
    "I- ( ",
    "☞T4 \\n\n",
    "lukils. limonauier, 1. des Colonnes, 6. J9 \\n\n",
    "— ",
    "T ",
    "Dullocu, architecte, r. Basse-Porte-S.De- ",
    "— ",
    "Ris, 28. \\n\n",
    "Duflot, loueur de carrosses, r. de Paradis- ",
    "505 ",
    "Poissonnière, 22. \\n\n",
    "Dufort, bottier, Palais-R., gal. vitrée, 215. ",
    "A \\n\n",
    "Dufort fils, bottier (exp. 1819.), r. J.-J.. ",
    "Rousscan. 18. ",
    "290 \\n\n",
    "* ",
    "Dufort, tabletier, r. Jean-Pain-Mollet, 10. ",
    "4O \\n\n",
    "Dufossé, teiniurier, r. du Faub.-Montmar- ",
    "tre , 63. ",
    "483 \\n\n",
    "Duſour el Besnard, march, de bois à bruler, ",
    "quai de la Tournelle, 17. etr. des Fossés- ",
    "SBernard. 11. ",
    "Dí \\n\n",
    "Dufour jeune, march, de bois à brüler ",
    "de la Pépinière, 53. ",
    "7 r. \\n\n",
    "Dufour (Mad.), march. de chapeaux de ",
    "paitle, passage dn Panorama, 11. ",
    "IO \\n\n",
    "Dutour, thapelier, r. S.-Honore ",
    "383. 3og \\n\n",
    "Dufour, cirier, r. de PArbre-Sec, 6o. ",
    "316 \\n\n",
    "Dufour et co., commiss., r. des Contures- ",
    " ",
    "DAO ",
    "S. Dervajs, 18. \\n\n",
    "Dulour, corropeir, 1. des Vertusy1d 3 \\n\n",
    "Dufour (Charles), épicier, r. S.-Denis, ",
    "Jo7. ",
    "☞ ",
    "332 \\n\n",
    "Dufour, fab. d&apos;éventails (erp. 1819) ",
    "Beaubourg, 48. ",
    " ",
    "360 \\n\n",
    "Dufour, faiencter, r. S.-Anne , 50. ",
    "302 \\n\n",
    "Dufour, ",
    "A. Sarnt,r. Ventadour, ",
    "☞7 \\n\n",
    "Dufour (Gabriel), libraire, r. de Vaugirard, ",
    "A \\n\n",
    "Dufour, maçon, r. S.-Jean-Baptiste, 4 402 \\n\n",
    "Dufour, architecte, r. de Chartres-S.-Ho- ",
    "2781 40a ",
    "nore, 12. (Elig.) \\n\n",
    "Dufour (Mad.), nouveautes, 1. Neuve-des- ",
    "H12 ",
    "Petits-Champs, 4. \\n\n",
    "Dufour Chabrol, papetier, r. S.-Martin ",
    "☞ ",
    "4 \\n\n",
    "Dufour (J.) et co,, fab. de papiers peints, ",
    "((1819); r. Beauvean-S. Antoine, 19.\"\"\""
   ]
  },
  {
   "cell_type": "code",
   "execution_count": null,
   "id": "0155d8a5-2735-4dd6-a368-38fd99f5042c",
   "metadata": {},
   "outputs": [],
   "source": [
    "for s in samples.split(\"\\n\"):\n",
    "    xml = xmlize(s, nlp(s))\n",
    "    print(s)\n",
    "    print(xml)"
   ]
  }
 ],
 "metadata": {
  "kernelspec": {
   "display_name": "Python 3 (ipykernel)",
   "language": "python",
   "name": "python3"
  },
  "language_info": {
   "codemirror_mode": {
    "name": "ipython",
    "version": 3
   },
   "file_extension": ".py",
   "mimetype": "text/x-python",
   "name": "python",
   "nbconvert_exporter": "python",
   "pygments_lexer": "ipython3",
   "version": "3.10.8"
  }
 },
 "nbformat": 4,
 "nbformat_minor": 5
}
